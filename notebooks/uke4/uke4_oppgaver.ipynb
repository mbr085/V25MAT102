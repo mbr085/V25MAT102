{
 "cells": [
  {
   "cell_type": "markdown",
   "id": "34c9b661-d0d8-4805-bd7b-9cc20085a5d6",
   "metadata": {},
   "source": [
    "# Oppgaver til MAT102, uke 4 2025"
   ]
  },
  {
   "cell_type": "code",
   "execution_count": 1,
   "id": "8956b3f4-21cd-4da5-8b46-51c2ddd57e66",
   "metadata": {},
   "outputs": [],
   "source": [
    "# Her importeres en quizz modul for jupyter.\n",
    "# Hvis den ikke allerede er installert blir den installert.\n",
    "try:\n",
    "  from jupyterquiz import display_quiz\n",
    "except:\n",
    "  !pip install jupyterquiz\n",
    "  from jupyterquiz import display_quiz"
   ]
  },
  {
   "cell_type": "code",
   "execution_count": 2,
   "id": "c8641e59-197c-4ecb-857f-4551094c781a",
   "metadata": {},
   "outputs": [],
   "source": [
    "# lenke til quizspørsmål\n",
    "git_path=\"https://raw.githubusercontent.com/mbr085/V25MAT102/main/notebooks/uke4/\""
   ]
  },
  {
   "cell_type": "markdown",
   "id": "422ff9ac-80ec-4f1c-8465-7ad63fdf6abf",
   "metadata": {},
   "source": [
    "## Oppgave 1 \n",
    "\n",
    "Ferdigjør funksjonene under slik at de regner ut disse geometriske størrelsene:\n",
    "\n",
    "- Arealet av en trekant med gitt grunnlinje og høyde.\n",
    "- Volumet av en boks med gitt lengde, bredde og høyde.\n",
    "- Arealet av en sirkelsektor med gitt radius og vinkel angitt i grader.\n",
    "\n",
    "Bruk funksjonene til å besvare qiuzen derunder."
   ]
  },
  {
   "cell_type": "code",
   "execution_count": 8,
   "id": "7f9f489e-2a2f-4ffc-9e3b-aef04c151f7e",
   "metadata": {},
   "outputs": [],
   "source": [
    "import numpy as np\n",
    "\n",
    "def areal_av_trekant(grunnlinje, hoyde):\n",
    "    return \n",
    "\n",
    "def volum_av_boks(lengde, bredde, hoyde):\n",
    "    return \n",
    "\n",
    "def areal_av_sirkelsektor(radius,vinkel):\n",
    "    return"
   ]
  },
  {
   "cell_type": "code",
   "execution_count": null,
   "id": "1b198c87-ef07-48c6-861d-e885e1c7cc4e",
   "metadata": {},
   "outputs": [],
   "source": []
  },
  {
   "cell_type": "code",
   "execution_count": null,
   "id": "3711e821-a950-4285-8157-aea623bd132f",
   "metadata": {},
   "outputs": [],
   "source": []
  },
  {
   "cell_type": "code",
   "execution_count": null,
   "id": "b01577fd-76eb-493b-b596-35c29d71bce1",
   "metadata": {},
   "outputs": [],
   "source": [
    "display_quiz(git_path+\"o4.json\")"
   ]
  },
  {
   "cell_type": "markdown",
   "id": "0071b84b-71bf-431c-b108-02a95a49f9ed",
   "metadata": {},
   "source": [
    "## Oppgave 2\n",
    "La $f(x)$ være definert på intervallet $[-2, 2]$ ved formelen\n",
    "$$\n",
    "f(x) = \n",
    "\\begin{cases}\n",
    "  0 & x < 0 \\\\\n",
    "  x & 0 \\le x \\le 1 \\\\\n",
    "  2 & x > 1.\n",
    "\\end{cases}\n",
    "$$\n",
    "Bruk matplotlib til å tegne grafen til $f(x)$ i rødt. (Gjerne med hjelp av kunstig intelligens.)\n",
    "\n",
    "Er funksjonen $f(x)$ deriverbar?\n",
    "\n",
    "Finn forskjellige måter du kan definere funksjonen $f$ på. (Klarer du å definere $f$ slik at det går bra å beregne $f(x)$ for $x$ en numpy array?)"
   ]
  },
  {
   "cell_type": "code",
   "execution_count": null,
   "id": "f74f86db-4492-4a61-b155-e87cb54fa826",
   "metadata": {},
   "outputs": [],
   "source": []
  },
  {
   "cell_type": "code",
   "execution_count": null,
   "id": "5e807d14-55b4-4508-82f2-99007d88fc2f",
   "metadata": {},
   "outputs": [],
   "source": []
  },
  {
   "cell_type": "markdown",
   "id": "6d547f6c-a054-45a5-909e-16b35abc360d",
   "metadata": {},
   "source": [
    "## Oppgave 3\n",
    "\n",
    "La $f(n)$ være definert på mengen $\\mathbb{Z}_+$ av positive heltall ved\n",
    "\n",
    "$$\n",
    "f(n) = \n",
    "\\begin{cases}\n",
    "  n/2 & \\text{hvis $n$ er jevn}  \\\\\n",
    "  3n + 1 & \\text{hvis $n$ odde.} \n",
    "\\end{cases}\n",
    "$$\n",
    "Bemerk at også $f(n)$ er et positivt heltall slik at tallet $f(f(n))$ er definert.\n",
    "\n",
    "La $n = 3$. Bruk python til å beregne $f(n)$, $f(f(n))$, $f(f(f(n)))$ og så videre.\n",
    "\n",
    "Plot en figur som har $n$ langs $x$-aksen og $f(n)$ langs $y$-aksen. \n",
    "\n",
    "Hvis vi skriver $n_1 = 3$, $n_2 = f(n_1)$ og så videre får vi tall $n_1, n_2, n_3, \\dots$ \n",
    "der $n_1 = 3$ og $n_{i+1} = f(n_i)$ for alle $i > 1$. Finnes det en $i > 1$ slik at $n_i = 3$? \n",
    "Finnes det $i, j > 1$ med $i \\ne j$ og $n_i = n_j$? Kan du skrive en kodesnutt som sjekker\n",
    "om slike $i$ og $j$ forekommer, og som i gitt fall slutter beregningene? "
   ]
  },
  {
   "cell_type": "code",
   "execution_count": null,
   "id": "bc3398e1-2c39-448c-9d48-2c195f1c496c",
   "metadata": {},
   "outputs": [],
   "source": []
  },
  {
   "cell_type": "code",
   "execution_count": null,
   "id": "55c0e319-9ffb-40a9-85be-739f32091295",
   "metadata": {},
   "outputs": [],
   "source": []
  },
  {
   "cell_type": "markdown",
   "id": "71fa9ee2-4ca7-41ec-9fd5-1e55b2c8e927",
   "metadata": {},
   "source": [
    "## Oppgave 4 \n",
    "Rekken $\\sum_{n=1}^{\\infty} \\frac{1}{n}$\n",
    "divergerer mot uendelig (det vil si at summen vokser ubegrenset, den konvergerer\n",
    "ikke mot noe tall).\n",
    "- Kan du finne hvor mange ledd som trengs for å få summen over 8 ?\n",
    "- Kan du finne hvor mange ledd som trengs for å få summen over 10 ?\n",
    "- Regn ut summen av de første 1.000.000 leddene."
   ]
  },
  {
   "cell_type": "code",
   "execution_count": null,
   "id": "b4b8b430-dbde-4fb8-b91a-a1606978baac",
   "metadata": {},
   "outputs": [],
   "source": []
  },
  {
   "cell_type": "code",
   "execution_count": null,
   "id": "cdf11296-7230-4668-b369-4a45eaef7cbb",
   "metadata": {},
   "outputs": [],
   "source": []
  },
  {
   "cell_type": "markdown",
   "id": "41804023-9739-49db-a060-ed17b9da4e06",
   "metadata": {},
   "source": [
    "## Oppgave 5   \n",
    "\n",
    "Løs lærebokens oppgave 4.2.1, ved å forsøke å tegne grafene i Python. Du trenger ikke løse alle bokstavpunktene. Merk at du ved å bruke tankegangen fra læreboken vil kunne få riktigere svar enn ved gjettingen ved hjelp av Python."
   ]
  },
  {
   "cell_type": "code",
   "execution_count": null,
   "id": "a3f20ccb-6d97-463b-afb8-c002cd2f1236",
   "metadata": {},
   "outputs": [],
   "source": []
  }
 ],
 "metadata": {
  "kernelspec": {
   "display_name": "Python 3 (ipykernel)",
   "language": "python",
   "name": "python3"
  },
  "language_info": {
   "codemirror_mode": {
    "name": "ipython",
    "version": 3
   },
   "file_extension": ".py",
   "mimetype": "text/x-python",
   "name": "python",
   "nbconvert_exporter": "python",
   "pygments_lexer": "ipython3",
   "version": "3.12.8"
  }
 },
 "nbformat": 4,
 "nbformat_minor": 5
}
