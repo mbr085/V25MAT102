{
 "cells": [
  {
   "cell_type": "code",
   "execution_count": 1,
   "id": "b651c72c-2a0d-4ada-8818-7126555d6f94",
   "metadata": {},
   "outputs": [],
   "source": [
    "import numpy as np\n",
    "import matplotlib.pyplot as plt"
   ]
  },
  {
   "cell_type": "code",
   "execution_count": 33,
   "id": "3c7e82d0-9d95-42d0-92fc-e5e82684af87",
   "metadata": {},
   "outputs": [],
   "source": [
    "def f(x):\n",
    "    return x**4 - 2*x -.5\n",
    "\n",
    "n = 4\n",
    "N = 400\n",
    "a = -1.5\n",
    "b = 1.5"
   ]
  },
  {
   "cell_type": "code",
   "execution_count": 34,
   "id": "a2ea9804-2c0c-4a5d-8188-d1369ed00c1a",
   "metadata": {},
   "outputs": [
    {
     "data": {
      "image/png": "[encoded data removed]",
      "text/plain": [
       "<Figure size 200x100 with 1 Axes>"
      ]
     },
     "metadata": {},
     "output_type": "display_data"
    }
   ],
   "source": [
    "# n = 6\n",
    "# N = 400\n",
    "# a = -1.5\n",
    "# b = 1.5\n",
    "fig, ax = plt.subplots(figsize=(2, 1))\n",
    "x = np.linspace(a, b, N)\n",
    "xx = np.repeat(np.linspace(a, b, n + 1), 2)\n",
    "ax.plot(x, f(x), color='black', linewidth=2)\n",
    "ax.plot(x, np.zeros_like(x), color='black', linewidth=1)\n",
    "# plt.plot(xx[1:-1], f(xx[2:]))\n",
    "ax.fill_between(xx[1:-1], f(xx[2:]), where = (f(xx[2:]) >0), color='blue', alpha=0.4)\n",
    "ax.fill_between(xx[1:-1], f(xx[2:]), where = (f(xx[2:]) <0), color='red', alpha=0.4)\n",
    "for xi in xx[::2]:\n",
    "    ax.plot([xi, xi], [0, f(xi)], color='black', linestyle='dotted')\n",
    "    ax.plot(xi, f(xi), 'ko')\n",
    "ax.set_xlabel('x')\n",
    "ax.set_ylabel('f(x)')\n",
    "#ax.legend()\n",
    "ax.grid(True)\n",
    "fig.savefig('mixedRiemannR.png')\n"
   ]
  },
  {
   "cell_type": "code",
   "execution_count": 35,
   "id": "f4ce5ded-be8f-403f-bcbc-db166821824b",
   "metadata": {},
   "outputs": [
    {
     "data": {
      "image/png": "[encoded data removed]",
      "text/plain": [
       "<Figure size 200x100 with 1 Axes>"
      ]
     },
     "metadata": {},
     "output_type": "display_data"
    }
   ],
   "source": [
    "# n = 6\n",
    "# N = 400\n",
    "\n",
    "fig, ax = plt.subplots(figsize=(2, 1))\n",
    "x = np.linspace(a, b, N)\n",
    "xx = np.repeat(np.linspace(a, b, n + 1), 2)\n",
    "ax.plot(x, f(x), color='black', linewidth=2)\n",
    "ax.plot(x, np.zeros_like(x), color='black', linewidth=1)\n",
    "# plt.plot(xx[1:-1], f(xx[2:]))\n",
    "ax.fill_between(xx[1:-1], f(xx[:-2]), where = (f(xx[:-2]) >0), color='blue', alpha=0.4)\n",
    "ax.fill_between(xx[1:-1], f(xx[:-2]), where = (f(xx[:-2]) <0), color='red', alpha=0.4)\n",
    "for xi in xx[::2]:\n",
    "    ax.plot([xi, xi], [0, f(xi)], color='black', linestyle='dotted')\n",
    "    ax.plot(xi, f(xi), 'ko')\n",
    "ax.set_xlabel('x')\n",
    "ax.set_ylabel('f(x)')\n",
    "#ax.legend()\n",
    "ax.grid(True)\n",
    "fig.savefig('mixedRiemannL.png')"
   ]
  },
  {
   "cell_type": "code",
   "execution_count": 36,
   "id": "8c6bb3a4-0064-4f47-8506-5ef55c87495f",
   "metadata": {},
   "outputs": [
    {
     "data": {
      "image/png": "[encoded data removed]",
      "text/plain": [
       "<Figure size 200x100 with 1 Axes>"
      ]
     },
     "metadata": {},
     "output_type": "display_data"
    }
   ],
   "source": [
    "# n = 6\n",
    "# N = 400\n",
    "\n",
    "fig, ax = plt.subplots(figsize=(2, 1))\n",
    "x = np.linspace(a, b, N)\n",
    "xx = np.linspace(a, b, n + 1)\n",
    "ax.plot(x, f(x), color='black', linewidth=2)\n",
    "ax.plot(x, np.zeros_like(x), color='black', linewidth=1)\n",
    "ax.plot(xx, f(xx), color='black', linewidth=1)\n",
    "\n",
    "left = x[0]\n",
    "xxx = [left]\n",
    "yyy = [f(left)]\n",
    "for left, right in zip(xx[:-1], xx[1:]):\n",
    "    aa, bb = f(left), f(right)\n",
    "    if aa * bb >= 0:\n",
    "        xxx.append(right)\n",
    "        yyy.append(f(right))\n",
    "    else:\n",
    "        z = left + aa * (right - left) / (aa - bb)\n",
    "        xxx.append(z)\n",
    "        yyy.append(0)\n",
    "        xxx.append(right)\n",
    "        yyy.append(f(right))\n",
    "xxx = np.array(xxx)\n",
    "yyy = np.array(yyy)\n",
    "ax.fill_between(xxx, yyy, where = (yyy >=0), color='blue', alpha=0.4)\n",
    "ax.fill_between(xxx, yyy, where = (yyy <=0), color='red', alpha=0.4)\n",
    "# ax.fill_between(xx[1:-1], f(xx[:-2]), where = (f(xx[:-2]) <0), color='red', alpha=0.4)\n",
    "for xi in xx:\n",
    "    ax.plot([xi, xi], [0, f(xi)], color='black', linestyle='dotted')\n",
    "    ax.plot(xi, f(xi), 'ko')\n",
    "ax.set_xlabel('x')\n",
    "ax.set_ylabel('f(x)')\n",
    "#ax.legend()\n",
    "ax.grid(True)\n",
    "fig.savefig('mixedTrapez.png')"
   ]
  },
  {
   "cell_type": "code",
   "execution_count": 40,
   "id": "7df0ad76-8dad-4afe-98d1-50c276f3fd94",
   "metadata": {},
   "outputs": [
    {
     "data": {
      "text/plain": [
       "[<matplotlib.lines.Line2D at 0x7f6380fc7380>]"
      ]
     },
     "execution_count": 40,
     "metadata": {},
     "output_type": "execute_result"
    },
    {
     "data": {
      "image/png": "[encoded data removed]",
      "text/plain": [
       "<Figure size 200x100 with 1 Axes>"
      ]
     },
     "metadata": {},
     "output_type": "display_data"
    }
   ],
   "source": [
    "fig, ax = plt.subplots(figsize=(2, 1))\n",
    "a = -1\n",
    "b = 1\n",
    "x = np.linspace(a, b, N)\n",
    "xx = np.linspace(a, b, n + 1)\n",
    "ax.plot(x, f(x), color='black', linewidth=2)\n",
    "ax.plot(x, np.zeros_like(x), color='black', linewidth=1)\n",
    "#ax.plot(xx, f(xx), color='black', linewidth=1)"
   ]
  },
  {
   "cell_type": "code",
   "execution_count": null,
   "id": "ea016e6e-be84-49f7-96a7-a380c4c1473b",
   "metadata": {},
   "outputs": [],
   "source": []
  },
  {
   "cell_type": "code",
   "execution_count": null,
   "id": "3b511e8d-288a-4f38-ac2e-401c8e5e7b66",
   "metadata": {},
   "outputs": [],
   "source": []
  },
  {
   "cell_type": "code",
   "execution_count": 6,
   "id": "65bae9f5-57e9-4056-af37-d4dc1acf4564",
   "metadata": {},
   "outputs": [
    {
     "data": {
      "text/plain": [
       "array([ 4.75,  2.5 ,  0.75,  0.  , -0.5 , -1.25, -1.5 , -1.25])"
      ]
     },
     "execution_count": 6,
     "metadata": {},
     "output_type": "execute_result"
    }
   ],
   "source": [
    "yyy"
   ]
  },
  {
   "cell_type": "code",
   "execution_count": 7,
   "id": "79ed0971-e9d2-4e10-a1e5-a00926095c01",
   "metadata": {},
   "outputs": [
    {
     "data": {
      "text/plain": [
       "array([-1.5, -1. , -0.5, -0.2,  0. ,  0.5,  1. ,  1.5])"
      ]
     },
     "execution_count": 7,
     "metadata": {},
     "output_type": "execute_result"
    }
   ],
   "source": [
    "xxx"
   ]
  },
  {
   "cell_type": "code",
   "execution_count": 8,
   "id": "fdc32925-e7bf-452f-8240-77d3b4878e14",
   "metadata": {},
   "outputs": [
    {
     "data": {
      "text/plain": [
       "array([11.875,  1.875, -0.375,  0.625,  1.875,  1.875])"
      ]
     },
     "execution_count": 8,
     "metadata": {},
     "output_type": "execute_result"
    }
   ],
   "source": [
    "f(xx[:-1]) * f(xx[1:])"
   ]
  },
  {
   "cell_type": "code",
   "execution_count": 9,
   "id": "9fcb85d0-d560-4c10-ae74-d931bc383ba3",
   "metadata": {},
   "outputs": [
    {
     "data": {
      "text/plain": [
       "array([-0.5,  0.5,  1.5])"
      ]
     },
     "execution_count": 9,
     "metadata": {},
     "output_type": "execute_result"
    }
   ],
   "source": [
    "xx[2:][::2]"
   ]
  },
  {
   "cell_type": "code",
   "execution_count": 10,
   "id": "ff9712ef-e496-4d3e-80ac-1dd9a5e6f840",
   "metadata": {},
   "outputs": [
    {
     "data": {
      "text/plain": [
       "array([-1.5, -0.5,  0.5])"
      ]
     },
     "execution_count": 10,
     "metadata": {},
     "output_type": "execute_result"
    }
   ],
   "source": [
    "xx[:-1][::2]"
   ]
  },
  {
   "cell_type": "code",
   "execution_count": 11,
   "id": "b6e38108-0d98-4a49-a388-3004b7221ba7",
   "metadata": {},
   "outputs": [
    {
     "data": {
      "text/plain": [
       "array([-1.5, -1. , -0.5,  0. ,  0.5,  1. ,  1.5])"
      ]
     },
     "execution_count": 11,
     "metadata": {},
     "output_type": "execute_result"
    }
   ],
   "source": [
    "xx"
   ]
  },
  {
   "cell_type": "code",
   "execution_count": 12,
   "id": "a2e14c1e-da7f-4760-bbf7-19df7a804430",
   "metadata": {},
   "outputs": [
    {
     "data": {
      "text/plain": [
       "array([-1.5, -0.5,  0.5,  1.5])"
      ]
     },
     "execution_count": 12,
     "metadata": {},
     "output_type": "execute_result"
    }
   ],
   "source": [
    "xx[::2]"
   ]
  },
  {
   "cell_type": "code",
   "execution_count": 13,
   "id": "55c6899c-68a9-4b8f-99c5-7967d4ae7d2f",
   "metadata": {},
   "outputs": [
    {
     "data": {
      "image/png": "[encoded data removed]",
      "text/plain": [
       "<Figure size 200x100 with 1 Axes>"
      ]
     },
     "metadata": {},
     "output_type": "display_data"
    }
   ],
   "source": [
    "n = 6\n",
    "N = 400\n",
    "\n",
    "fig, ax = plt.subplots(figsize=(2, 1))\n",
    "x = np.linspace(a, b, N)\n",
    "xx = np.repeat(np.linspace(a, b, n + 1), 2)\n",
    "ax.plot(x, f(x), color='black', linewidth=2)\n",
    "ax.plot(x, np.zeros_like(x), color='black', linewidth=1)\n",
    "# plt.plot(xx[1:-1], f(xx[2:]))\n",
    "ax.fill_between(xx[1:][::2], f(xx[1:][::2]), where = (f(xx[1:][::2]) + f(xx[:-1][::2]) <= 0), color='blue', alpha=0.4)\n",
    "#ax.fill_between(xx[1:-1], f(xx[:-2]), where = (f(xx[:-2]) <0), color='red', alpha=0.4)\n",
    "for xi in xx[::2]:\n",
    "    ax.plot([xi, xi], [0, f(xi)], color='black', linestyle='dotted')\n",
    "    ax.plot(xi, f(xi), 'ko')\n",
    "ax.set_xlabel('x')\n",
    "ax.set_ylabel('f(x)')\n",
    "#ax.legend()\n",
    "ax.grid(True)\n"
   ]
  },
  {
   "cell_type": "code",
   "execution_count": 14,
   "id": "96acad9c-5728-453c-bbe0-bf19c137f81b",
   "metadata": {},
   "outputs": [
    {
     "data": {
      "image/png": "[encoded data removed]",
      "text/plain": [
       "<Figure size 200x100 with 1 Axes>"
      ]
     },
     "metadata": {},
     "output_type": "display_data"
    }
   ],
   "source": [
    "n = 6\n",
    "N = 400\n",
    "\n",
    "fig, ax = plt.subplots(figsize=(2, 1))\n",
    "x = np.linspace(a, b, N)\n",
    "xx = np.linspace(a, b, n + 1)\n",
    "ax.plot(x, f(x), color='black', linewidth=2)\n",
    "ax.plot(x, np.zeros_like(x), color='black', linewidth=1)\n",
    "# plt.plot(xx[1:-1], f(xx[2:]))\n",
    "w1 = np.ones_like(xx, dtype=bool)\n",
    "w2 = np.ones_like(xx, dtype=bool)\n",
    "w1[1:] = f(xx[1:]) + f(xx[:-1]) <= 0\n",
    "#w1[:-1] = np.logical_or(w1[1:], w1[:-1])\n",
    "w2[1:] = f(xx[1:]) + f(xx[:-1]) >= 0\n",
    "w2[:-1] = np.logical_or(w2[1:], w2[:-1])\n",
    "#ax.fill_between(xx, f(xx), where = (f(xx) >0), color='blue', alpha=0.4)\n",
    "ax.fill_between(xx, f(xx), where = w1, color='red', alpha=0.4)\n",
    "for xi in xx:\n",
    "    ax.plot([xi, xi], [0, f(xi)], color='black', linestyle='dotted')\n",
    "    ax.plot(xi, f(xi), 'ko')\n",
    "ax.set_xlabel('x')\n",
    "ax.set_ylabel('f(x)')\n",
    "#ax.legend()\n",
    "ax.grid(True)\n"
   ]
  },
  {
   "cell_type": "code",
   "execution_count": 15,
   "id": "3eb81548-0773-4f2d-95d7-a832207cc891",
   "metadata": {},
   "outputs": [
    {
     "data": {
      "text/plain": [
       "array([ 4.75,  2.5 ,  0.75, -0.5 , -1.25, -1.5 , -1.25])"
      ]
     },
     "execution_count": 15,
     "metadata": {},
     "output_type": "execute_result"
    }
   ],
   "source": [
    "f(xx)"
   ]
  },
  {
   "cell_type": "code",
   "execution_count": 16,
   "id": "282853f2-44c4-4dea-8de6-3c90e8bb879b",
   "metadata": {},
   "outputs": [
    {
     "data": {
      "text/plain": [
       "array([ True, False, False, False,  True,  True,  True])"
      ]
     },
     "execution_count": 16,
     "metadata": {},
     "output_type": "execute_result"
    }
   ],
   "source": [
    "w1"
   ]
  },
  {
   "cell_type": "code",
   "execution_count": 17,
   "id": "2bb06094-1d9a-4701-8f5d-20eae98ad594",
   "metadata": {},
   "outputs": [
    {
     "data": {
      "text/plain": [
       "array([ True, False, False, False,  True,  True,  True])"
      ]
     },
     "execution_count": 17,
     "metadata": {},
     "output_type": "execute_result"
    }
   ],
   "source": [
    "w1"
   ]
  },
  {
   "cell_type": "code",
   "execution_count": 18,
   "id": "f6b0c2b4-859a-4c0e-bb8f-b5ad86e84052",
   "metadata": {},
   "outputs": [
    {
     "data": {
      "text/plain": [
       "array([ True,  True,  True,  True, False, False, False])"
      ]
     },
     "execution_count": 18,
     "metadata": {},
     "output_type": "execute_result"
    }
   ],
   "source": [
    "w2"
   ]
  },
  {
   "cell_type": "code",
   "execution_count": 19,
   "id": "745af840-6d8d-4259-a067-56b0a86ed22a",
   "metadata": {},
   "outputs": [
    {
     "data": {
      "text/plain": [
       "array([ 7.25,  3.25,  0.25, -1.75, -2.75, -2.75])"
      ]
     },
     "execution_count": 19,
     "metadata": {},
     "output_type": "execute_result"
    }
   ],
   "source": [
    "f(xx[:-1]) + f(xx[1:]) "
   ]
  },
  {
   "cell_type": "code",
   "execution_count": 20,
   "id": "eecd3f80-9e88-4ec0-a471-507c93f47a35",
   "metadata": {},
   "outputs": [
    {
     "data": {
      "image/png": "[encoded data removed]",
      "text/plain": [
       "<Figure size 640x480 with 1 Axes>"
      ]
     },
     "metadata": {},
     "output_type": "display_data"
    }
   ],
   "source": [
    "n = 6\n",
    "N = 400\n",
    "\n",
    "x = np.linspace(a, b, N)\n",
    "xx = np.repeat(np.linspace(a, b, n + 1), 2)\n",
    "plt.plot(x, f(x), color='black', linewidth=2)\n",
    "# plt.plot(xx[1:-1], f(xx[2:]))\n",
    "plt.fill_between(xx[1:-1], f(xx[:-2]), where = (f(xx[2:]) >0), color='blue', alpha=0.4)\n",
    "plt.fill_between(xx[1:-1], f(xx[:-2]), where = (f(xx[2:]) <0), color='red', alpha=0.4)\n",
    "for xi in xx[::2]:\n",
    "    plt.plot([xi, xi], [0, f(xi)], color='black', linestyle='dotted')\n",
    "    plt.plot(xi, f(xi), 'ko')"
   ]
  },
  {
   "cell_type": "code",
   "execution_count": 21,
   "id": "d06c143e-6a10-459f-82f6-b93db149b383",
   "metadata": {},
   "outputs": [
    {
     "data": {
      "text/plain": [
       "[<matplotlib.lines.Line2D at 0x7f6380e2db50>]"
      ]
     },
     "execution_count": 21,
     "metadata": {},
     "output_type": "execute_result"
    },
    {
     "data": {
      "image/png": "[encoded data removed]",
      "text/plain": [
       "<Figure size 640x480 with 1 Axes>"
      ]
     },
     "metadata": {},
     "output_type": "display_data"
    }
   ],
   "source": [
    "plt.plot(xx, f(xx))"
   ]
  },
  {
   "cell_type": "code",
   "execution_count": 22,
   "id": "74ff65d6-7b2f-4947-a5cd-5da99857866b",
   "metadata": {},
   "outputs": [],
   "source": [
    "xxx = np.repeat(xx, 2)"
   ]
  },
  {
   "cell_type": "code",
   "execution_count": 23,
   "id": "4d66372d-0963-4bae-95fc-a72e6d6a06c9",
   "metadata": {},
   "outputs": [
    {
     "data": {
      "text/plain": [
       "array([ 4.75,  4.75,  4.75,  4.75,  2.5 ,  2.5 ,  2.5 ,  2.5 ,  0.75,\n",
       "        0.75,  0.75,  0.75, -0.5 , -0.5 , -0.5 , -0.5 , -1.25, -1.25,\n",
       "       -1.25, -1.25, -1.5 , -1.5 , -1.5 , -1.5 , -1.25, -1.25, -1.25,\n",
       "       -1.25])"
      ]
     },
     "execution_count": 23,
     "metadata": {},
     "output_type": "execute_result"
    }
   ],
   "source": [
    "f(xxx)"
   ]
  },
  {
   "cell_type": "code",
   "execution_count": 24,
   "id": "fed3b903-c9f8-49c5-bd03-9cc6dd670939",
   "metadata": {},
   "outputs": [
    {
     "data": {
      "text/plain": [
       "[<matplotlib.lines.Line2D at 0x7f6380e55700>]"
      ]
     },
     "execution_count": 24,
     "metadata": {},
     "output_type": "execute_result"
    },
    {
     "data": {
      "image/png": "[encoded data removed]",
      "text/plain": [
       "<Figure size 640x480 with 1 Axes>"
      ]
     },
     "metadata": {},
     "output_type": "display_data"
    }
   ],
   "source": [
    "plt.plot(xxx[1:-1], f(xxx)[:-2])\n",
    "plt.plot(xx, f(xx))"
   ]
  },
  {
   "cell_type": "code",
   "execution_count": 25,
   "id": "6377b178-46cf-4d04-af68-c6c3b0c9a3e5",
   "metadata": {},
   "outputs": [],
   "source": [
    "yy = np.linspace(x[0], x[-1], 8)\n"
   ]
  },
  {
   "cell_type": "code",
   "execution_count": 26,
   "id": "c632e1ee-e205-4c85-a4a2-5f665e92c874",
   "metadata": {},
   "outputs": [
    {
     "data": {
      "image/png": "[encoded data removed]",
      "text/plain": [
       "<Figure size 200x100 with 1 Axes>"
      ]
     },
     "metadata": {},
     "output_type": "display_data"
    }
   ],
   "source": [
    "import numpy as np\n",
    "import matplotlib.pyplot as plt\n",
    "\n",
    "# Define the function\n",
    "def f(x):\n",
    "    return x**3 - 2*x -.5\n",
    "\n",
    "# Interval [a, b] and number of rectangles\n",
    "a, b = -1.5, 1.5\n",
    "n = 6\n",
    "x_left = np.linspace(a, b, n + 1)[:-1]  # left endpoints\n",
    "dx = x_left[1] - x_left[0]\n",
    "y_left = f(x_left)\n",
    "\n",
    "# Plot setup\n",
    "x = np.linspace(a, b, 400)\n",
    "y = f(x)\n",
    "\n",
    "fig, ax = plt.subplots(figsize=(2, 1))\n",
    "ax.plot(x, y, 'r', linewidth=2) #, label='f(x)=x3−2x+2')\n",
    "ax.bar(x_left, y_left, width=dx, align='edge', alpha=0.4, facecolor='blue', edgecolor='black') #, label='Left Riemann Sum')\n",
    "ax.bar(x_left, y_left, width=dx, align='edge', alpha=0.4, facecolor='blue', edgecolor='black') #, label='Left Riemann Sum')\n",
    "\n",
    "# Annotations\n",
    "for xi, yi in zip(x_left, y_left):\n",
    "    ax.plot([xi, xi], [0, yi], color='black', linestyle='dotted')\n",
    "    ax.plot(xi, yi, 'ko')\n",
    "\n",
    "#ax.set_title('Left Riemann Sum')\n",
    "ax.set_xlabel('x')\n",
    "ax.set_ylabel('f(x)')\n",
    "#ax.legend()\n",
    "ax.grid(True)\n",
    "plt.savefig('venstreR.png')\n",
    "\n",
    "plt.show()\n"
   ]
  },
  {
   "cell_type": "code",
   "execution_count": null,
   "id": "7b968c09-e17c-4260-aa21-c305836d9090",
   "metadata": {},
   "outputs": [],
   "source": []
  },
  {
   "cell_type": "code",
   "execution_count": 27,
   "id": "3eb7821a-cb1a-4041-813e-0a466bfa4ae4",
   "metadata": {},
   "outputs": [
    {
     "data": {
      "image/png": "[encoded data removed]",
      "text/plain": [
       "<Figure size 200x100 with 1 Axes>"
      ]
     },
     "metadata": {},
     "output_type": "display_data"
    }
   ],
   "source": [
    "import numpy as np\n",
    "import matplotlib.pyplot as plt\n",
    "\n",
    "# Define the function\n",
    "#def f(x):\n",
    "#    return x**3 - 2*x + 1.5\n",
    "\n",
    "# Interval [a, b] and number of rectangles\n",
    "a, b = -1.5, 1.5\n",
    "n = 6\n",
    "x_left = np.linspace(a, b, n + 1)[1:]  # left endpoints\n",
    "dx = x_left[1] - x_left[0]\n",
    "y_left = f(x_left)\n",
    "\n",
    "# Plot setup\n",
    "x = np.linspace(a, b, 400)\n",
    "y = f(x)\n",
    "\n",
    "fig, ax = plt.subplots(figsize=(2, 1))\n",
    "ax.plot(x, y, 'r', linewidth=2, label='f(x)=x3−2x+2')\n",
    "ax.bar(x_left - dx, y_left, width=dx, align='edge', alpha=0.4, facecolor='blue', edgecolor='black') #, label='Left Riemann Sum')\n",
    "\n",
    "# Annotations\n",
    "for xi, yi in zip(x_left, y_left):\n",
    "    ax.plot([xi, xi], [0, yi], color='black', linestyle='dotted')\n",
    "    ax.plot(xi, yi, 'ko')\n",
    "\n",
    "# ax.set_title('Left Riemann Sum')\n",
    "ax.set_xlabel('x')\n",
    "ax.set_ylabel('f(x)')\n",
    "#ax.legend()\n",
    "ax.grid(True)\n",
    "plt.savefig('høyreR.png')\n",
    "plt.show()\n"
   ]
  },
  {
   "cell_type": "code",
   "execution_count": 28,
   "id": "62d44da7-0c84-471b-bf76-c3e3f91d39e3",
   "metadata": {},
   "outputs": [
    {
     "data": {
      "image/png": "[encoded data removed]",
      "text/plain": [
       "<Figure size 200x100 with 1 Axes>"
      ]
     },
     "metadata": {},
     "output_type": "display_data"
    }
   ],
   "source": [
    "import numpy as np\n",
    "import matplotlib.pyplot as plt\n",
    "\n",
    "# Define the function\n",
    "#def f(x):\n",
    "#    return x**3 - 2*x + 1.5\n",
    "\n",
    "# Interval [a, b] and number of rectangles\n",
    "a, b = -1.5, 1.5\n",
    "n = 6\n",
    "xx = np.linspace(a, b, n + 1)  # left endpoints\n",
    "dx = x_left[1] - x_left[0]\n",
    "y_left = f(x_left)\n",
    "\n",
    "# Plot setup\n",
    "x = np.linspace(a, b, 400)\n",
    "y = f(x)\n",
    "\n",
    "fig, ax = plt.subplots(figsize=(2, 1))\n",
    "ax.plot(x, y, 'r', linewidth=2, label='f(x)=x3−2x+2')\n",
    "plt.fill_between(xx, f(xx), color='blue', alpha=0.4)\n",
    "#ax.bar(x_left - dx, y_left, width=dx, align='edge', alpha=0.4, edgecolor='black') #, label='Left Riemann Sum')\n",
    "\n",
    "# Annotations\n",
    "for xi, yi in zip(x_left, y_left):\n",
    "    ax.plot([xi, xi], [0, yi], color='black', linestyle='dotted')\n",
    "    ax.plot(xi, yi, 'ko')\n",
    "\n",
    "# ax.set_title('Left Riemann Sum')\n",
    "ax.set_xlabel('x')\n",
    "ax.set_ylabel('f(x)')\n",
    "#ax.legend()\n",
    "plt.savefig('trapes.png')\n",
    "ax.grid(True)\n",
    "\n",
    "plt.show()\n"
   ]
  },
  {
   "cell_type": "code",
   "execution_count": null,
   "id": "b18b02da-7e91-4432-bfbd-65a4a931e4f3",
   "metadata": {},
   "outputs": [],
   "source": []
  }
 ],
 "metadata": {
  "kernelspec": {
   "display_name": "Python 3 (ipykernel)",
   "language": "python",
   "name": "python3"
  },
  "language_info": {
   "codemirror_mode": {
    "name": "ipython",
    "version": 3
   },
   "file_extension": ".py",
   "mimetype": "text/x-python",
   "name": "python",
   "nbconvert_exporter": "python",
   "pygments_lexer": "ipython3",
   "version": "3.12.9"
  }
 },
 "nbformat": 4,
 "nbformat_minor": 5
}
