{
 "cells": [
  {
   "cell_type": "markdown",
   "id": "b6e4ee10-8122-4090-928c-883a262ad244",
   "metadata": {},
   "source": [
    "# Første obligatoriske innlevering i MAT 102, Vår 2025\n",
    "\n",
    "I denne oppgaven skal du fylle inn kode i denne notebook. Les oppgaveteksten grundig. Når du er ferdig går du opp i menyen og velger \"kjør alt\" og eksporterer notebooken med alt kjørt i rekkefølge fra top til bunn som en ipynb fil. Denne filen laster du opp på mitt uib. Hvis du foretrekker å bruke Spyder eller VSCode er det helt i orden. Da må du kopiere kodeblokkene, kjøre dem der og laste både kode og bilder av plottene du produserer opp på mitt uib."
   ]
  }
 ],
 "metadata": {
  "kernelspec": {
   "display_name": "Python 3 (ipykernel)",
   "language": "python",
   "name": "python3"
  },
  "language_info": {
   "codemirror_mode": {
    "name": "ipython",
    "version": 3
   },
   "file_extension": ".py",
   "mimetype": "text/x-python",
   "name": "python",
   "nbconvert_exporter": "python",
   "pygments_lexer": "ipython3",
   "version": "3.12.8"
  }
 },
 "nbformat": 4,
 "nbformat_minor": 5
}
