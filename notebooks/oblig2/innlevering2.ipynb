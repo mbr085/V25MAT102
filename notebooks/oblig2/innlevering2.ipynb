{
 "cells": [
  {
   "cell_type": "markdown",
   "id": "b6e4ee10-8122-4090-928c-883a262ad244",
   "metadata": {},
   "source": [
    "# Andre obligatoriske innlevering i MAT 102, Vår 2025\n",
    "\n",
    "I denne oppgaven skal du fylle inn svar i en quiz. I denne notesbok finner du oppgavetekst og kode som kan være til hjelp. Det er også mulig å løse oppgavene helt for hånd."
   ]
  },
  {
   "cell_type": "code",
   "execution_count": 1,
   "id": "16d7a947-df88-45da-8bed-33bba8f6b066",
   "metadata": {},
   "outputs": [],
   "source": [
    "import numpy as np"
   ]
  },
  {
   "cell_type": "markdown",
   "id": "1d51c290-dc3b-4c40-a0b6-74abb7b2c1e4",
   "metadata": {},
   "source": [
    "# Oppgave 1\n",
    "\n",
    "I denne oppgaven skal vi \n",
    "I denne oppgaven skal vi gjøre Gauss-Jordan eliminasjon med kun 1 av de 3 reglene tillatt:\n",
    "Addere et tall ganger en rad til en annen rad. Det er altså ikke lov å gange en rad med et tall\n",
    "$≠ 0$, eller å bytte om rader. Som et resultat av dette kommer vi ikke til å ende opp med en\n",
    "matrise på redusert trappeform.\n",
    "\n",
    "1. Hvis vi starter med matrisen:\n",
    "   $$\n",
    "   \\begin{pmatrix}\n",
    "     1 & 4 & 8 \\\\\n",
    "     2 & 6 & 32 \\\\\n",
    "     3 & 12 & 25\n",
    "   \\end{pmatrix}\n",
    "   $$\n",
    "  så kan vi, kun med den ene regelen, ende opp med en matrise på formen. \n",
    "   $$\n",
    "   \\begin{pmatrix}\n",
    "     1 & 0 & 0 \\\\\n",
    "     0 & d & 0 \\\\\n",
    "     0 & 0 & 1\n",
    "   \\end{pmatrix}.\n",
    "   $$\n",
    "  Hva er d?\n",
    "\n",
    "\n",
    "3. Hvis vi i stedet starter med matrisen\n",
    "   $$\n",
    "   \\begin{pmatrix}\n",
    "     2 & 6 & 32 \\\\\n",
    "     1 & 4 & 8 \\\\\n",
    "     3 & 12 & 25\n",
    "   \\end{pmatrix},\n",
    "   $$\n",
    "   så  kan vi, fortsatt kun med den ene regelen, ende opp med en matrise på formen\n",
    "   $$\n",
    "   \\begin{pmatrix}\n",
    "     a & 0 & 0 \\\\\n",
    "     0 & b & 0 \\\\\n",
    "     0 & 0 & c\n",
    "   \\end{pmatrix}.\n",
    "   $$\n",
    "   Hva er $a$, $b$ og $c$?"
   ]
  },
  {
   "cell_type": "markdown",
   "id": "d789a3d0-5e0e-4410-8a92-54a489505045",
   "metadata": {},
   "source": [
    "#### Hint:\n",
    "Her er noe kode du kan bruke til å addere et tall ganger en rad til en annen i en matrise:"
   ]
  },
  {
   "cell_type": "code",
   "execution_count": 2,
   "id": "0c8bd3f0-34a0-4b11-892c-891a0f461262",
   "metadata": {},
   "outputs": [],
   "source": [
    "A = np.array(\n",
    "    [[1, 4, 8],\n",
    "     [2, 6, 32],\n",
    "     [3, 12, 25]]\n",
    ")"
   ]
  },
  {
   "cell_type": "code",
   "execution_count": 3,
   "id": "613acc70-3b32-492d-8668-a73abfb54285",
   "metadata": {},
   "outputs": [
    {
     "data": {
      "text/plain": [
       "array([[ 1,  4,  8],\n",
       "       [ 2,  6, 32],\n",
       "       [ 3, 12, 25]])"
      ]
     },
     "execution_count": 3,
     "metadata": {},
     "output_type": "execute_result"
    }
   ],
   "source": [
    "A"
   ]
  },
  {
   "cell_type": "code",
   "execution_count": 4,
   "id": "f623f79a-7db9-4fa8-a0e7-2e592be4cc84",
   "metadata": {},
   "outputs": [],
   "source": [
    "A[1] = A[1] - 2 * A[0]"
   ]
  },
  {
   "cell_type": "code",
   "execution_count": 5,
   "id": "5bfaff29-bb91-4e98-b8d2-3d1bfbe38489",
   "metadata": {},
   "outputs": [
    {
     "data": {
      "text/plain": [
       "array([[ 1,  4,  8],\n",
       "       [ 0, -2, 16],\n",
       "       [ 3, 12, 25]])"
      ]
     },
     "execution_count": 5,
     "metadata": {},
     "output_type": "execute_result"
    }
   ],
   "source": [
    "A"
   ]
  },
  {
   "cell_type": "markdown",
   "id": "275bad9a-323b-4686-b8c0-6195209609a8",
   "metadata": {},
   "source": [
    "# Oppgave 2\n",
    "\n",
    "Vi studerer i denne oppgaven matrisen\n",
    "   $$\n",
    "   A =\n",
    "   \\begin{pmatrix}\n",
    "     -7 & 1 & 1 \\\\\n",
    "     -1 & -9 & -11 \\\\\n",
    "     2 & 2 & 4\n",
    "   \\end{pmatrix}\n",
    "   $$\n",
    "\n",
    "1. Finn egenverdiene til $A$ og de tilhørende egenvektorene.\n",
    "2. Det finnes en matrise\n",
    "   $$\n",
    "   P = \n",
    "   \\begin{pmatrix}\n",
    "     p_{00} & p_{01} & p_{02} \\\\\n",
    "     p_{10} & p_{11} & p_{12} \\\\\n",
    "     p_{20} & p_{21} & p_{22}\n",
    "   \\end{pmatrix}   \n",
    "   $$\n",
    "   slik at $PD = AP$ hvor\n",
    "   $$\n",
    "   D = \n",
    "   \\begin{pmatrix}\n",
    "     -6 & 0 & 0 \\\\\n",
    "     0 & -8 & 0 \\\\\n",
    "     0 & 0 & 2\n",
    "   \\end{pmatrix}.\n",
    "   $$\n",
    "   Finn en slik $P$.\n",
    "   (Hint: direkte utregning gir\n",
    "   $$\n",
    "   AP - PD = \\left[\\begin{matrix}- {P}_{0,0} + {P}_{1,0} + {P}_{2,0} & {P}_{0,1} + {P}_{1,1} + {P}_{2,1} & - 9 {P}_{0,2} + {P}_{1,2} + {P}_{2,2}\\\\- {P}_{0,0} - 3 {P}_{1,0} - 11 {P}_{2,0} & - {P}_{0,1} - {P}_{1,1} - 11 {P}_{2,1} & - {P}_{0,2} - 11 {P}_{1,2} - 11 {P}_{2,2}\\\\2 {P}_{0,0} + 2 {P}_{1,0} + 10 {P}_{2,0} & 2 {P}_{0,1} + 2 {P}_{1,1} + 12 {P}_{2,1} & 2 {P}_{0,2} + 2 {P}_{1,2} + 2 {P}_{2,2}\\end{matrix}\\right]$$\n",
    "   Løs ligningene gitt ved $AP - PD = 0$ i de ni variablene i uttrykket over. Du kan gjøre det enklere for deg selv ved å bemerke at ligningene kan grupperes i tre sett av tre ligninger i tre ukjente.)\n",
    "   \n",
    "4. Finner du noen sammenheng mellom svarene du fikk i deloppgave 1. og 2.?"
   ]
  },
  {
   "cell_type": "markdown",
   "id": "74e17406-928c-49ee-a059-44334cd82245",
   "metadata": {},
   "source": [
    "# Oppgave 3\n",
    "Newtons kjølingslov sier at endringen i temperaturen til et objekt er proporsjonal med\n",
    "differansen mellom temperaturen til objektet og omgivelsene. I et lukket system som kun består\n",
    "av to objekter, for eksempel på to rom med en dør mellom og ingen varmetap noen annen plass,\n",
    "så er de hverandre sine omgivelser. Hvis vi kaller temperaturen til det ene objektet $x(t)$ og\n",
    "temperaturen til det andre objektet $y(t)$, da har vi en modell for temperaturen til de to objektene\n",
    "gitt som\n",
    "\n",
    "\\begin{align}\n",
    "  x'(t) &= k_1 (y(t) − x(t)) = −k_1 x(t) + k_1y(t), \\\\\n",
    "  y'(t) &= k_2(x(t) − y(t)) = k_2x(t) − k_2y(t),\n",
    "\\end{align}\n",
    "\n",
    "hvor $k_1$ og $k_2$ er positive konstanter.\n",
    "\n",
    "1. La $k_1 = 0.2$ og $k_2 = 0.3$. Finn den generelle løsningen for $x(t)$ og $y(t)$.\n",
    "1. Uansett hvilken verdi vi velger for $k_1$ og $k_2$ , vil den ene egenverdien være $0$. Hva er\n",
    "den tilhørende egenvektoren, og hva er den fysiske forklaringen på denne situasjonen?"
   ]
  },
  {
   "cell_type": "code",
   "execution_count": null,
   "id": "0cdabb16-e943-462e-986b-da35d2cf0a21",
   "metadata": {},
   "outputs": [],
   "source": []
  }
 ],
 "metadata": {
  "kernelspec": {
   "display_name": "Python 3 (ipykernel)",
   "language": "python",
   "name": "python3"
  },
  "language_info": {
   "codemirror_mode": {
    "name": "ipython",
    "version": 3
   },
   "file_extension": ".py",
   "mimetype": "text/x-python",
   "name": "python",
   "nbconvert_exporter": "python",
   "pygments_lexer": "ipython3",
   "version": "3.12.8"
  }
 },
 "nbformat": 4,
 "nbformat_minor": 5
}
