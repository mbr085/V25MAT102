{
 "cells": [
  {
   "cell_type": "markdown",
   "id": "acb92369-bebf-4578-88b4-bdc8ca7bbb2d",
   "metadata": {
    "id": "70240ea1-5bc8-45b3-abd9-47d01fbae8be"
   },
   "source": [
    "# Kjerneregelen\n",
    "\n",
    "**Teorem** (Kjerneregelen). *La\n",
    "$\\mathbf{F}\\colon \\mathbb{R}^n \\to \\mathbb{R}^m$ være en funksjon som er\n",
    "differensierbar i $\\mathbf{x}_0 \\in \\mathbb{R}^n$, og la\n",
    "$\\mathbf{G}\\colon \\mathbb{R}^m \\to \\mathbb{R}^k$ være en funksjon som er\n",
    "differensierbar i\n",
    "$\\mathbf{y}_0 = \\mathbf{F}(\\mathbf{x}_0) \\in \\mathbb{R}^m$. Da er\n",
    "funksjonen $\\mathbf{G}\\circ \\mathbf{F}\\colon \\mathbb{R}^n \\to\n",
    "  \\mathbb{R}^k$ differensierbar i $\\mathbf{x}_0$, og\n",
    "$$(\\mathbf{G}\\circ \\mathbf{F})'(\\mathbf{x}_0) =  \\mathbf{G}'(\\mathbf{y}_0) \\cdot  \\mathbf{F}'(\\mathbf{x}_0).$$*"
   ]
  },
  {
   "cell_type": "markdown",
   "id": "f5f986e7-4385-4ebb-8ea7-75742f68ad2f",
   "metadata": {},
   "source": [
    "**Oppgave**"
   ]
  },
  {
   "cell_type": "markdown",
   "id": "c98a1aa4-0da3-4278-8488-23ed93605489",
   "metadata": {},
   "source": [
    "La $A$ være en $m \\times n$ matrise og la $B$ være en $k \\times m$ matrise. La dessuten $\\vec{\\mathbf{b}} \\in \\mathbb{R}^m$ og $\\vec{\\mathbf{c}} \\in \\mathbb{R}^k$\n",
    "være vektorer.\n",
    "Finn den deriverte til funksjonen $H \\colon \\mathbb{R}^n \\to \\mathbb{R}^k$ gitt ved formelen \n",
    "$$H(\\mathbf{x}) = B \\cdot (A \\cdot \\mathbf{x} + \\vec{\\mathbf{b}}) + \\vec{\\mathbf{c}}$$ \n",
    "på to måter\n",
    "\n",
    "1. La $F \\colon  \\mathbb{R}^n \\to \\mathbb{R}^m$ være gitt ved formelen $F(\\mathbf{x}) = A \\cdot \\mathbf{x} + \\vec{\\mathbf{b}}$ og la $G \\colon  \\mathbb{R}^m \\to \\mathbb{R}^k$ være gitt ved formelen $G(\\mathbf{y}) = B \\cdot \\mathbf{y} + \\vec{\\mathbf{c}}$. Da er $$H(\\mathbf{x}) = G(F(\\mathbf{x})).$$ Vi vet allerede at $F'(\\mathbf{x}) = A$ og at $G'(\\mathbf{y}) = B$. Bruk kjerneregelen til å beregne $H'(\\mathbf{x})$.\n",
    "\n",
    "3. Finn en matrise $C$ og en vektor $\\vec{\\mathbf{d}}$ slik at $H(\\mathbf{x}) = C \\cdot \\mathbf{x} + \\vec{\\mathbf{d}}$. Vi vet da allerede at $H'(\\mathbf{x}) = C$.  "
   ]
  },
  {
   "cell_type": "markdown",
   "id": "c90f4ed6-60bd-4249-83de-d3526d0312b5",
   "metadata": {},
   "source": [
    "**Oppgave**\n",
    "\n",
    "La $F \\colon  \\mathbb{R}^n \\to \\mathbb{R}^m$ være gitt ved formelen $F(\\mathbf{x}) = A \\cdot \\mathbf{x} + \\vec{\\mathbf{b}}$\n",
    "for en $m \\times n$ matrise $A$ og en vektor $\\vec{\\mathbf{b}} \\in \\mathbb{R}^m$.\n",
    "\n",
    "Beregn $H'(\\mathbf{x})$ for funksjonen $H(\\mathbf{x}) = |F(\\mathbf{x})|^2$."
   ]
  },
  {
   "cell_type": "code",
   "execution_count": null,
   "id": "3e78b18b-eda4-4bc0-9b63-2b1c9050207b",
   "metadata": {},
   "outputs": [],
   "source": []
  }
 ],
 "metadata": {
  "kernelspec": {
   "display_name": "Python 3 (ipykernel)",
   "language": "python",
   "name": "python3"
  },
  "language_info": {
   "codemirror_mode": {
    "name": "ipython",
    "version": 3
   },
   "file_extension": ".py",
   "mimetype": "text/x-python",
   "name": "python",
   "nbconvert_exporter": "python",
   "pygments_lexer": "ipython3",
   "version": "3.12.9"
  }
 },
 "nbformat": 4,
 "nbformat_minor": 5
}
