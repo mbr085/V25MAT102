{
 "cells": [
  {
   "cell_type": "markdown",
   "id": "bd093f16-d085-440e-9442-6c27813e4f2f",
   "metadata": {},
   "source": [
    "# MAT 102 Brukerkurs i matematikk II\n",
    "\n",
    "Kursansvarlig: Morten Brun"
   ]
  },
  {
   "cell_type": "markdown",
   "id": "90909d20-61b2-4d48-a216-c5bbac377fdd",
   "metadata": {},
   "source": [
    "## Kursmål\n",
    "\n",
    "**Teori (Matematikk i Praksis)**:\n",
    "- Kapittel 10-12.\n",
    "- Linær algebra.\n",
    "- Differensial-ligninger (systemer).\n",
    "- Funksjoner av flere variable.\n",
    "- Hver av disse temaene er et helt kurs i seg selv (MAT121, MAT131, MAT212).\n",
    "\n",
    "**Numerikk i Python**:\n",
    "- Kompendiet.\n",
    "- Litt numeriske metoder (integrering og derivering).\n",
    "- Noe parameterestimering og statistikk.\n",
    "- Dette er også egne kurs (MAT260, MAT261, MAT265, osv.).\n",
    "\n",
    "Oppsummert: Vi skal lære litt basiskunnskap om (veldig) mye forskjellig"
   ]
  },
  {
   "cell_type": "code",
   "execution_count": null,
   "id": "4ca61e41-650e-4b18-b7f0-7fdb10b997ed",
   "metadata": {},
   "outputs": [],
   "source": []
  }
 ],
 "metadata": {
  "kernelspec": {
   "display_name": "Python 3 (ipykernel)",
   "language": "python",
   "name": "python3"
  },
  "language_info": {
   "codemirror_mode": {
    "name": "ipython",
    "version": 3
   },
   "file_extension": ".py",
   "mimetype": "text/x-python",
   "name": "python",
   "nbconvert_exporter": "python",
   "pygments_lexer": "ipython3",
   "version": "3.12.8"
  }
 },
 "nbformat": 4,
 "nbformat_minor": 5
}
