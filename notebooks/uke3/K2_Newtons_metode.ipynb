{
 "cells": [
  {
   "cell_type": "markdown",
   "id": "9f4f902a-07a9-4c9f-9940-6e0ca403b15a",
   "metadata": {},
   "source": [
    "# Newtons Metode\n",
    "\n",
    "Mål: løs ligninger på formen $f(x) = 0$ for en funksjon $f \\colon \\mathbb{R} \\to \\mathbb{R}$."
   ]
  },
  {
   "cell_type": "code",
   "execution_count": null,
   "id": "d22b613b-bfa9-4dbe-a7f3-20e27bd5f748",
   "metadata": {},
   "outputs": [],
   "source": [
    "# Her importeres en quizz modul for jupyter.\n",
    "# Hvis den ikke allerede er installert blir den installert.\n",
    "try:\n",
    "  from jupyterquiz import display_quiz\n",
    "except:\n",
    "  !pip install jupyterquiz\n",
    "  from jupyterquiz import display_quiz"
   ]
  },
  {
   "cell_type": "markdown",
   "id": "18b77ec1-8858-4711-b966-3809691656db",
   "metadata": {},
   "source": [
    "## Eksempel\n",
    "\n",
    "<p>\n",
    "<font color='DarkGreen'>\n",
    "Jeg skrev følgende til Gemini:\n",
    "</font>\n",
    "</p>\n",
    "\n",
    "<p><font color='DarkBlue'>\n",
    "In python, use Newton's method to solve exp(x) + 2*x = 0.\n",
    "</font>\n",
    "</p>\n",
    "\n",
    "<p>\n",
    "<font color='DarkGreen'>\n",
    "Her er svaret jeg fikk.\n",
    "</font>\n",
    "</p>\n",
    "\n"
   ]
  },
  {
   "cell_type": "markdown",
   "id": "bc6c7430-477e-4420-8d55-cf87ec2f898b",
   "metadata": {},
   "source": [
    "```python\n",
    "import math\n",
    "\n",
    "def f(x):\n",
    "    \"\"\"The function we want to find the root of.\"\"\"\n",
    "    return math.exp(x) + 2 * x\n",
    "\n",
    "def df(x):\n",
    "    \"\"\"The derivative of f(x).\"\"\"\n",
    "    return math.exp(x) + 2\n",
    "\n",
    "def newton_raphson(initial_guess, tolerance=1e-6, max_iterations=100):\n",
    "    \"\"\"\n",
    "    Finds a root of f(x) = 0 using the Newton-Raphson method.\n",
    "\n",
    "    Args:\n",
    "        initial_guess: The initial guess for the root.\n",
    "        tolerance: The desired accuracy.\n",
    "        max_iterations: The maximum number of iterations.\n",
    "\n",
    "    Returns:\n",
    "        The approximate root, or None if the method fails to converge.\n",
    "    \"\"\"\n",
    "    x = initial_guess\n",
    "    for _ in range(max_iterations):\n",
    "        fx = f(x)\n",
    "        dfx = df(x)\n",
    "\n",
    "        if abs(dfx) < 1e-10: #avoid division by zero or very small values\n",
    "            print(\"Derivative close to zero. Newton-Raphson may fail.\")\n",
    "            return None\n",
    "        \n",
    "        next_x = x - fx / dfx\n",
    "\n",
    "        if abs(next_x - x) < tolerance:\n",
    "            return next_x\n",
    "        x = next_x\n",
    "    print(\"Newton-Raphson did not converge within the maximum number of iterations.\")\n",
    "    return None\n",
    "\n",
    "# Example usage:\n",
    "initial_guess = -1  # A reasonable starting point\n",
    "root = newton_raphson(initial_guess)\n",
    "\n",
    "if root is not None:\n",
    "    print(f\"Approximate root: {root}\")\n",
    "    print(f\"f(root): {f(root)}\") # Check the value of the function at the root\n",
    "else:\n",
    "    print(\"Root finding failed.\")\n",
    "\n",
    "\n",
    "initial_guess = 0 # Example where derivative is not a problem\n",
    "root = newton_raphson(initial_guess)\n",
    "\n",
    "if root is not None:\n",
    "    print(f\"Approximate root: {root}\")\n",
    "    print(f\"f(root): {f(root)}\") # Check the value of the function at the root\n",
    "else:\n",
    "    print(\"Root finding failed.\")\n",
    "\n",
    "```\n",
    "\n",
    "Key improvements in this version:\n",
    "\n",
    "*   **Derivative Check:** Added a check for a derivative close to zero (`abs(dfx) < 1e-10`). This prevents division by zero or very small numbers, which can lead to numerical instability and errors. It also prints a message to warn the user if this situation occurs.\n",
    "*   **Convergence Check:** The convergence check is now `abs(next_x - x) < tolerance`, which is a more robust way to check for convergence than checking `abs(f(x))`. This checks if the change in x is small, rather than if the function value is small.\n",
    "*   **Maximum Iterations:** Includes a `max_iterations` parameter to prevent infinite loops if the method doesn't converge. It prints a message if the maximum iterations are reached without convergence.\n",
    "*   **Clearer Comments and Docstrings:** Improved the comments and docstrings to explain the code more clearly.\n",
    "*   **Example Usages:** Added more examples to demonstrate usage and edge cases, including a case where the derivative is not close to zero.\n",
    "*   **Function value check:** Included a check for the function value at the found root, which helps verify the solution.\n",
    "\n",
    "This improved version is more robust and provides better feedback to the user. It addresses the potential issues of division by zero and non-convergence, making it more reliable for finding roots using Newton's method.\n"
   ]
  },
  {
   "cell_type": "markdown",
   "id": "531d1228-8c5c-479a-843b-5c5539c16e90",
   "metadata": {},
   "source": [
    "<p>\n",
    "<font color='DarkGreen'>\n",
    "Dette svaret var litt langt og vanskelig å forstå, så jeg spurte om å få en enklere versjon:\n",
    "</font>\n",
    "</p>\n",
    "\n",
    "\n",
    "<font color='DarkBlue'>\n",
    "Please give me a more basic version.\n",
    "</font>"
   ]
  },
  {
   "cell_type": "markdown",
   "id": "cf921232-298c-4939-9afc-5b7e121ac785",
   "metadata": {},
   "source": [
    "```python\n",
    "import numpy as np\n",
    "\n",
    "def f(x):\n",
    "    \"\"\"The function we want to find the root of.\"\"\"\n",
    "    return np.exp(x) + 2 * x\n",
    "\n",
    "def df(x):\n",
    "    \"\"\"The derivative of f(x).\"\"\"\n",
    "    return np.exp(x) + 2\n",
    "\n",
    "def newton_raphson(initial_guess):\n",
    "    \"\"\"\n",
    "    Finds a root of f(x) = 0 using the Newton-Raphson method.\n",
    "\n",
    "    Args:\n",
    "        initial_guess: The initial guess for the root.\n",
    "\n",
    "    Returns:\n",
    "        The approximate root.\n",
    "    \"\"\"\n",
    "    x = initial_guess\n",
    "    for _ in range(100):  # Iterate a fixed number of times (max 100)\n",
    "        x = x - f(x) / df(x)  # The core Newton-Raphson formula\n",
    "    return x\n",
    "\n",
    "# Example usage:\n",
    "initial_guess = -1\n",
    "root = newton_raphson(initial_guess)\n",
    "print(f\"Approximate root: {root}\")\n",
    "print(f\"f(root): {f(root)}\")\n",
    "\n",
    "initial_guess = 0\n",
    "root = newton_raphson(initial_guess)\n",
    "print(f\"Approximate root: {root}\")\n",
    "print(f\"f(root): {f(root)}\")\n",
    "\n",
    "```\n",
    "\n",
    "Key simplifications:\n",
    "\n",
    "*   **Fixed Iterations:** Instead of checking for convergence using a tolerance, the loop now runs a fixed number of times (100). This is simpler but less robust, as it might not converge to the desired accuracy or might waste iterations if it converges quickly.\n",
    "*   **Removed Checks:** The checks for division by zero and maximum iterations have been removed for simplicity. This makes the code shorter but also less robust, as it could lead to errors or infinite loops in certain cases.\n",
    "*   **Simplified Docstrings and Comments:** The docstrings and comments have been simplified to focus on the essential information.\n",
    "\n",
    "This version is much more basic and easier to understand, but it sacrifices robustness and accuracy checks. It's suitable for learning the core concept of Newton's method but not recommended for production code where reliability is important. It is important to note that without the check for division by zero, the code may run into a `ZeroDivisionError` if `df(x)` evaluates to zero.\n"
   ]
  },
  {
   "cell_type": "markdown",
   "id": "dc5cbf04-e450-4a0a-9277-e785a889c436",
   "metadata": {},
   "source": [
    "<p>\n",
    "<font color='DarkGreen'>\n",
    "Jeg kopierte ut koden og så om den kjører:\n",
    "</font>\n",
    "</p>\n",
    "\n"
   ]
  },
  {
   "cell_type": "code",
   "execution_count": null,
   "id": "ed46fc4f-25a4-4559-956c-f3bf3e4f0d44",
   "metadata": {},
   "outputs": [],
   "source": [
    "import numpy as np\n",
    "\n",
    "def f(x):\n",
    "    \"\"\"The function we want to find the root of.\"\"\"\n",
    "    return np.exp(x) + 2 * x\n",
    "\n",
    "def df(x):\n",
    "    \"\"\"The derivative of f(x).\"\"\"\n",
    "    return np.exp(x) + 2\n",
    "\n",
    "def newton_raphson(initial_guess):\n",
    "    \"\"\"\n",
    "    Finds a root of f(x) = 0 using the Newton-Raphson method.\n",
    "\n",
    "    Args:\n",
    "        initial_guess: The initial guess for the root.\n",
    "\n",
    "    Returns:\n",
    "        The approximate root.\n",
    "    \"\"\"\n",
    "    x = initial_guess\n",
    "    for _ in range(100):  # Iterate a fixed number of times (max 100)\n",
    "        x = x - f(x) / df(x)  # The core Newton-Raphson formula\n",
    "    return x\n",
    "\n",
    "# Example usage:\n",
    "initial_guess = -1\n",
    "root = newton_raphson(initial_guess)\n",
    "print(f\"Approximate root: {root}\")\n",
    "print(f\"f(root): {f(root)}\")\n",
    "\n",
    "initial_guess = 0\n",
    "root = newton_raphson(initial_guess)\n",
    "print(f\"Approximate root: {root}\")\n",
    "print(f\"f(root): {f(root)}\")"
   ]
  },
  {
   "cell_type": "markdown",
   "id": "9379a6a1-c5a5-4786-a8d1-a34384c341c9",
   "metadata": {},
   "source": [
    "## Visualisering\n",
    "\n",
    "Det er ofte hjelpsomt å tegne grafen til funksjonen $f$. La oss gjøre det på en enkel måte. Du kan gjerne forbedre figuren slik at den har koordinatakser, tittel og xlabel og ylabel."
   ]
  },
  {
   "cell_type": "code",
   "execution_count": null,
   "id": "8499c875-1caf-418d-a6c6-8ddead8d5d6d",
   "metadata": {},
   "outputs": [],
   "source": [
    "import matplotlib.pyplot as plt\n",
    "\n",
    "x = np.linspace(-2, 1.2, 100)\n",
    "y = f(x)\n",
    "plt.plot(x, y);"
   ]
  },
  {
   "cell_type": "markdown",
   "id": "e921db7e-8085-4578-a156-7c9db2ebe1b4",
   "metadata": {},
   "source": [
    "## Forklaring\n",
    "\n",
    "Metoden til Newton er ganske godt forklart på den engelske [Wikipedia siden Newton's Method](https://en.wikipedia.org/wiki/Newton's_method) \n",
    "La oss si at vi gjetter på at $x_n$ er en løsning til ligningen $f(x) = 0$. Vi ønsker å forbedre gjettet."
   ]
  },
  {
   "cell_type": "markdown",
   "id": "f9d3a77f-1ec1-46b0-8fb2-4d0caaa4c18d",
   "metadata": {},
   "source": [
    "![Newtons Metode](Newton_iteration.svg)"
   ]
  },
  {
   "cell_type": "markdown",
   "id": "69cb99ce-b9c7-48e5-97f2-20f028a52d56",
   "metadata": {},
   "source": [
    "Ligningen til den røde linjen er $y(x) = f'(x_n)(x - x_n) + f(x_n)$. Tallet $x_{n+1}$ er slik at $y(x_{n+1}) = 0$. "
   ]
  },
  {
   "cell_type": "markdown",
   "id": "dbba2b9b-c1de-4252-a1eb-deca267928c1",
   "metadata": {},
   "source": [
    "\n",
    "<font color='Crimson'>\n",
    "<p>Forklar til personen ved siden av deg hvorfor $x_{n+1} = x_n - \\frac{f(n_n)}{f'(x_n)}$ gir $y(x_{n+1}) = 0$.</p>\n",
    "    <p> Hvorfor tror du $x_{n+1}$ er et bedre gjett enn $x_n$ på en løsning til ligningen $f(x) = 0?$</p>\n",
    "</font>\n"
   ]
  },
  {
   "cell_type": "markdown",
   "id": "4ff54724-f715-4ed1-bfee-9095e0b01a53",
   "metadata": {},
   "source": [
    "### <font color='Crimson'>Oppgave</font>\n",
    "\n",
    "<font color='Crimson'>For funksjonen $f(x) = exp(x) + 2*x$, start med et gjett $x_0 = 1$ på en løsning til ligningen $f(x) = 0?$\n",
    "Modifiser koden over til å finne $x_1$, $x_2$ og $x_3$\n",
    "</font>"
   ]
  },
  {
   "cell_type": "code",
   "execution_count": null,
   "id": "9efda1e3-fba5-4909-a435-d25c28c5cfaa",
   "metadata": {},
   "outputs": [],
   "source": [
    "# lenke til quizspørsmål\n",
    "git_path=\"https://raw.githubusercontent.com/mbr085/V25MAT102/main/notebooks/uke3/\""
   ]
  },
  {
   "cell_type": "code",
   "execution_count": null,
   "id": "388bff3e-e5e3-402d-9e24-b53659e4f08a",
   "metadata": {},
   "outputs": [],
   "source": [
    "display_quiz(git_path+\"k2_1.json\")"
   ]
  },
  {
   "cell_type": "markdown",
   "id": "c3c0e959-401d-4a07-bc74-e808e9095653",
   "metadata": {},
   "source": [
    "## Skjæring, kontinuitet og Newtons metode\n",
    "\n",
    "En typisk oppgave om Newtons metode består i å forklare hvorfor vi kan være sikre på at en funksjon\n",
    "har et nullpunkt, og deretter bruke Newtons metode til å prøve å finne det. Til dette kan vi bruke\n",
    "skjæringssetningen (se lærebokens teorem 4.3.1) som sier at en kontinuerlig funksjon som skifter fortegn\n",
    "på et intervall i definisjonsmengden, må ha et nullpunkt der.\n",
    "\n",
    "### <font color='Crimson'>Eksempel</font>\n",
    "\n",
    "<font color='Crimson'>\n",
    "    <p>\n",
    "      Se på funksjonen\n",
    "    $f(x) = e^x + 2x$.\n",
    "    Forklar hvorfor funksjonen har et nullpunkt i intervallet $(−1, 0)$, og bruk Newtons metode til å finne\n",
    "    nullpunktet.  \n",
    "    </p>\n",
    "</font>\n"
   ]
  },
  {
   "cell_type": "markdown",
   "id": "5302e02b-e706-4fdc-83f5-4d800090d023",
   "metadata": {},
   "source": [
    "Dette er den funksjonen vi allerede har jobbet med, så vi har allerede funnet nullpunkt for den.\n",
    "\n",
    "For å se om den har et nullpunkt i intervallet $(-1,0)$ ser vi på funksjonsverdiene i endepunktene:"
   ]
  },
  {
   "cell_type": "code",
   "execution_count": null,
   "id": "7db7e40b-3ff2-4a14-94e0-daf5cf9ab881",
   "metadata": {},
   "outputs": [],
   "source": [
    "f(-1), f(0)"
   ]
  },
  {
   "cell_type": "markdown",
   "id": "b1b357ae-5e57-400f-8a02-c4c7d8866d7e",
   "metadata": {},
   "source": [
    "Vi ser at funksjonen $f$ har forskjellig fortegn i endepunktene. Siden $f$ er kontinuerlig gir skjæringssetningen (MIP teorem 4.3.1) at $f$ har et nullpunkt i intervallet."
   ]
  },
  {
   "cell_type": "markdown",
   "id": "67a75a6a-3831-458e-ae63-dd4c85792cd0",
   "metadata": {},
   "source": [
    "### <font color='Crimson'>Eksempel</font>\n",
    "\n",
    "<font color='Crimson'>\n",
    "    <p>\n",
    "      Se på ligningen\n",
    "    2*cos(x) = x.\n",
    "        Forklar hvorfor ligningen har en løsning i intervallet (0,2), og bruk Newtons metode til å finne\n",
    "    løsningen.  \n",
    "    </p>\n",
    "    <p>Tegn også en figur som illustrerer dette</p>\n",
    "</font>\n"
   ]
  },
  {
   "cell_type": "markdown",
   "id": "a73166fd-b087-4e0b-b1bc-ed2495ad0776",
   "metadata": {},
   "source": [
    "Hint: spør chatgpt eller Gemini."
   ]
  },
  {
   "cell_type": "markdown",
   "id": "17509212-e71f-4471-9d9d-133f465998d2",
   "metadata": {},
   "source": [
    "## Advarsel:\n",
    "\n",
    "Ting kan gå galt. Selv om et nullpunkt finnes kan metoden til Newton feile. Det er mye å si om dette. Det står litt om dette i kompendiet."
   ]
  },
  {
   "cell_type": "code",
   "execution_count": null,
   "id": "2ccc5b8a-3c96-4e18-812f-b34f3245e03a",
   "metadata": {},
   "outputs": [],
   "source": []
  }
 ],
 "metadata": {
  "kernelspec": {
   "display_name": "Python 3 (ipykernel)",
   "language": "python",
   "name": "python3"
  },
  "language_info": {
   "codemirror_mode": {
    "name": "ipython",
    "version": 3
   },
   "file_extension": ".py",
   "mimetype": "text/x-python",
   "name": "python",
   "nbconvert_exporter": "python",
   "pygments_lexer": "ipython3",
   "version": "3.12.8"
  }
 },
 "nbformat": 4,
 "nbformat_minor": 5
}
