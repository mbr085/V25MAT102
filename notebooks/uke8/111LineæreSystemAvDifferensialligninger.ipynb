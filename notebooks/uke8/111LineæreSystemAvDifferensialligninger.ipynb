{
 "cells": [
  {
   "cell_type": "markdown",
   "id": "08992e08-ba16-4333-9c33-5199b0b211c0",
   "metadata": {},
   "source": [
    "## Lineære Systemer av Differensialligninger (MIP 11.1)"
   ]
  },
  {
   "cell_type": "code",
   "execution_count": 1,
   "id": "b9cb8213-5b5c-461a-bd05-9506bdd9a2c2",
   "metadata": {},
   "outputs": [],
   "source": [
    "try:\n",
    "    import python_linear_algebra\n",
    "except:\n",
    "    !pip install python_linear_algebra@git+https://github.com/mbr085/python_linear_algebra\n",
    "    import python_linear_algebra\n",
    "    "
   ]
  },
  {
   "cell_type": "code",
   "execution_count": 25,
   "id": "bf916dcb-8059-4dc2-8013-cc0448ac2a23",
   "metadata": {},
   "outputs": [],
   "source": [
    "import numpy as np\n",
    "from python_linear_algebra.matrix_reduction import skriv_ut_egenvektorer_og_multiplikasjon_med_matrise\n",
    "from python_linear_algebra.matrix_reduction import skriv_ut_numpy_egenvektorer_og_multiplikasjon_med_matrise\n",
    "from python_linear_algebra.matrix_reduction import finn_egenvektorer_og_egenverdier\n",
    "from python_linear_algebra.matrix_reduction import gauss_jordan\n",
    "from python_linear_algebra.matrix_reduction import invers_matrise\n",
    "import matplotlib.pyplot as plt"
   ]
  },
  {
   "cell_type": "markdown",
   "id": "530508e7-c6e2-4e51-8887-20477e2d26c5",
   "metadata": {},
   "source": [
    "Et eksempel på **et system av lineære differensialligninger i kjemi** oppstår i **laserkjemi**, spesielt i samspillet mellom molekyler og lys. Et kjent tilfelle er **vibrasjons- eller elektronisk populasjonsdynamikk i eksiterte tilstander**.  \n",
    "\n",
    "---"
   ]
  },
  {
   "cell_type": "markdown",
   "id": "b1dd73ed-e29f-4e3f-9fcd-14063b47da32",
   "metadata": {},
   "source": [
    "### **Eksempel: System av lineære differensialligninger i laserindusert fluorescens (LIF)**  \n",
    "Når et molekyl absorberer en foton fra en laser, blir det eksitert til en høyere elektronisk eller vibrasjonsmessig tilstand. Populasjonen av molekyler i den eksiterte tilstanden utvikler seg over tid på grunn av:"
   ]
  },
  {
   "cell_type": "markdown",
   "id": "651481d5-e25d-48fc-9da3-50c8000cd07e",
   "metadata": {},
   "source": [
    "1. **Spontan emisjon** – Molekylet går tilbake til grunntilstanden ved å sende ut en foton.  \n",
    "2. **Stimuleret emisjon** – En annen foton med samme energi kan indusere molekylet til å sende ut lys.  \n",
    "3. **Ikke-radiativ relaksasjon** – Molekylet mister energi uten å sende ut lys (f.eks. via kollisjoner eller intern konvertering).  "
   ]
  },
  {
   "cell_type": "markdown",
   "id": "3a473f50-7bc4-4937-9883-c5ea6c2ac324",
   "metadata": {},
   "source": [
    "**Rate-ligningene** som beskriver disse overgangene, er et eksempel på **populasjonsdynamikk** i kjemi. Dette modelleres ofte ved hjelp av **Boltzmann-fordelingen** eller **rate-ligninger som Einstein-koeffisientene**.  \n",
    "\n",
    "Denne typen populasjonsdynamikk er avgjørende for å forstå **reaksjonskinetikk, spektroskopi og fotokjemi**."
   ]
  },
  {
   "cell_type": "markdown",
   "id": "c82e75ed-e5c7-4ddd-9935-eb8b5da183f5",
   "metadata": {},
   "source": [
    "### **Kontinuerlig tids populasjonsdynamikk med en overgangsmatrise**  \n",
    "Vi \n",
    "uttrykker populasjonsutviklingen som:  \n",
    "\n",
    "$$\n",
    "\\frac{d}{dt} \\vec v(t) = A \\cdot \\vec v(t)\n",
    "$$"
   ]
  },
  {
   "cell_type": "markdown",
   "id": "3595af3b-4999-4bc3-b124-5d3afd95c406",
   "metadata": {},
   "source": [
    "hvor:\n",
    "\n",
    "- $ \\vec v(t) = \\begin{bmatrix} v_g(t) \\\\ v_e(t) \\end{bmatrix} $ representerer populasjonene ved tidspunkt $ t $.\n",
    "- $ \\frac {d}{dt} \\vec v(t) = \\begin{bmatrix} \\frac{d}{dt}v_g(t) \\\\ \\frac{d}{dt}v_e(t) \\end{bmatrix} $ representerer endringsratene til populasjonene ved tidspunkt $ t $. (Husk at $\\frac{d}{dt} f(t) = f'(t)$.)\n",
    "- $ A $ er **overgangsmatrisen**, som bestemmer hvordan populasjonene endrer seg over tid.\n",
    "\n",
    "Et enkelt valg for $ A $ er:\n",
    "\n",
    "$$\n",
    "A = \\begin{bmatrix} \n",
    "- p & q \\\\ \n",
    "p & - q \n",
    "\\end{bmatrix}\n",
    "$$\n",
    "\n",
    "hvor:\n",
    "- $ p $ er sannsynligheten for overgang fra grunntilstanden til den eksiterte tilstanden per tidssteg.\n",
    "- $ q $ er sannsynligheten for overgang fra den eksiterte tilstanden til grunntilstanden per tidssteg.\n",
    "\n",
    "---"
   ]
  },
  {
   "cell_type": "markdown",
   "id": "bd63f3a2-afdf-493d-b547-78483527cad6",
   "metadata": {},
   "source": [
    "En **likevektstilstand**, er en tilstand $\\vec w = \\begin{bmatrix}w_g \\\\ w_e\\end{bmatrix}$ slik at\n",
    "\n",
    "$$\n",
    "A \\cdot \\vec w = \\vec 0\n",
    "$$\n",
    "\n",
    "For å finne likevektstilstandene løser vi:\n",
    "$$\n",
    "\\begin{bmatrix} \n",
    "- p & q \\\\ \n",
    "p & - q \n",
    "\\end{bmatrix}\n",
    "\\begin{bmatrix} w_g \\\\ w_e \\end{bmatrix}\n",
    "=\n",
    "\\begin{bmatrix} 0 \\\\ 0 \\end{bmatrix}.\n",
    "$$"
   ]
  },
  {
   "cell_type": "markdown",
   "id": "8696d674-5479-4a19-ad6a-1ac65b68442b",
   "metadata": {},
   "source": [
    "Bemert at hvis $\\vec(0) = \\vec w$ er en likevektstilstand, da er funksjonen $\\vec v (t) = \\vec w$ en løsning til differensialligningssystemet $\\frac{d}{dt} \\vec v(t) = A \\cdot \\vec v(t)$."
   ]
  },
  {
   "cell_type": "markdown",
   "id": "13ad7a7e-6c63-48e7-b062-0948dd7f4dde",
   "metadata": {},
   "source": [
    "For å finne en likevektstilstand gjør vi Gauss Jordan radeliminasjon på matrisen $A$:"
   ]
  },
  {
   "cell_type": "markdown",
   "id": "4941e169-9624-4740-88d4-b8c89ffcbf5d",
   "metadata": {},
   "source": [
    "$$A \n",
    "=\n",
    "\\begin{bmatrix} -p & q \\\\ p & -q \\end{bmatrix}\n",
    "\\sim\n",
    "\\begin{bmatrix} p & -q \\\\ 0 & 0 \\end{bmatrix}\n",
    ".\n",
    "$$"
   ]
  },
  {
   "cell_type": "markdown",
   "id": "4e1b5683-2123-4d19-b1c5-c98b8c079513",
   "metadata": {},
   "source": [
    "Her er andre parameter $w_e$ fri, og $pw_g - qw_e = 0$ slik at \n",
    "$$\\frac{w_e}{w_g} = \\frac{p}{q}$$"
   ]
  },
  {
   "cell_type": "markdown",
   "id": "e23b034a-4bd4-4962-ba8e-03aaf5565b80",
   "metadata": {},
   "source": [
    "Det vil si at $w_g = q$ og $w_e = p$ gir en likevektstilstand $\\vec w = \\begin{bmatrix}q \\\\ p\\end{bmatrix}$."
   ]
  },
  {
   "cell_type": "markdown",
   "id": "f52a22b3-59a6-4453-bfe4-80530c5699b5",
   "metadata": {},
   "source": [
    "Vi har sett at egenverdier og egenvektorer kan være nyttige. Her er  $\\vec w = \\begin{bmatrix}q \\\\ p\\end{bmatrix}$ en egenvektor for $A$ med tilhørende egenverdi $1$."
   ]
  },
  {
   "cell_type": "markdown",
   "id": "8de5b0d3-dc7f-4df3-9de0-bc834778ac61",
   "metadata": {},
   "source": [
    "Fra analysen vi gjorde av matrisedynamikk kan vi også finne egenvektorer og egenverdier til matrisen $A$. Vi så at matrisen\n",
    "$$I + A = \\begin{bmatrix} \n",
    "1 - p & q \\\\ \n",
    "p & 1 - q \n",
    "\\end{bmatrix}$$"
   ]
  },
  {
   "cell_type": "markdown",
   "id": "f36f01a5-0b58-46cc-9c6d-3cb2f60f3265",
   "metadata": {},
   "source": [
    "Har egenverdiene $1$ og $1-(p+q)$. "
   ]
  },
  {
   "cell_type": "markdown",
   "id": "2e54d978-bd80-4b7a-9146-16c9fe0e1612",
   "metadata": {},
   "source": [
    "## Oppgave"
   ]
  },
  {
   "cell_type": "markdown",
   "id": "13d8ac38-f5cd-40d4-9e35-8bf223c4c369",
   "metadata": {},
   "source": [
    "Forklar hvorfor egenverdiene til $A$ er $0$ og $-(p+q)$.\n",
    "\n",
    "---"
   ]
  },
  {
   "cell_type": "markdown",
   "id": "d71f4928-3348-4939-83bd-626df66a5c8a",
   "metadata": {},
   "source": [
    "## Oppgave"
   ]
  },
  {
   "cell_type": "markdown",
   "id": "3f2b5539-bddb-4e19-b849-732650dcd665",
   "metadata": {},
   "source": [
    "Finn en egenvektor $\\vec u$ for $A$ med egenverdi $-(p+q)$."
   ]
  },
  {
   "cell_type": "markdown",
   "id": "7e321996-477c-4c65-b83f-3ceec8d8a8c4",
   "metadata": {},
   "source": [
    "## Oppgave"
   ]
  },
  {
   "attachments": {},
   "cell_type": "markdown",
   "id": "547e8dbf-75c0-47d3-946b-cba050719771",
   "metadata": {},
   "source": [
    "La $v(t) = e^{-(p+q) t} \\vec u$. Sjekk at \n",
    "$\\vec v(t)$ er en løsning til $\\frac{d}{dt} \\vec v(t) = A \\cdot \\vec v(t)$ med $\\vec v(0) = \\vec u$."
   ]
  },
  {
   "cell_type": "markdown",
   "id": "ece1540c-9781-46be-92fa-c57cb9f5fa84",
   "metadata": {},
   "source": [
    "## Oppgave"
   ]
  },
  {
   "cell_type": "markdown",
   "id": "62411e30-33d7-4ab9-a7d3-1fef7ce6e670",
   "metadata": {},
   "source": [
    "La $x$ og $y$ være to tall og la $\\vec v(t) = x\\cdot e^{-(p+q)t} \\cdot \\vec u + y\\cdot \\vec w$. Sjekk at $\\vec v(t)$ er en løsning til $\\frac{d}{dt} \\vec v(t) = A \\cdot \\vec v(t)$ med\n",
    "$\\vec v(0) = x \\cdot \\vec u + y \\cdot \\vec w$."
   ]
  },
  {
   "cell_type": "markdown",
   "id": "c582f901-5cde-4352-b1e3-2001a2e0acf2",
   "metadata": {},
   "source": [
    "## Oppgave"
   ]
  },
  {
   "attachments": {},
   "cell_type": "markdown",
   "id": "326e1b50-6247-4c62-bfcf-13bae4d80bec",
   "metadata": {},
   "source": [
    "La $A$ være en 2 x 2 matrise med egenverdier $\\lambda_1$ og $\\lambda_2$ og egenvektorer $\\vec w_1$ og $\\vec w_2$ med \n",
    "$A \\cdot \\vec w_1 = \\lambda_1 \\cdot \\vec w_1$ og $A \\cdot \\vec w_2 = \\lambda_2 \\cdot \\vec w_.$\n",
    "\n",
    "La $x$ og $y$ være to tall og la $\\vec v(t) = x\\cdot e^{\\lambda_1 t} \\cdot \\vec w_1 + y \\cdot e^{\\lambda_2 t} \\cdot \\vec w_2$. Sjekk at $\\vec v(t)$ er en løsning til $\\frac{d}{dt} \\vec v(t) = A \\cdot \\vec v(t)$ med\n",
    "$\\vec v(0) = x \\cdot \\vec w_1 + y \\cdot \\vec w_2$."
   ]
  },
  {
   "cell_type": "markdown",
   "id": "fd1697ae-7b8f-4123-85e2-0bd0baef3270",
   "metadata": {},
   "source": [
    "## Oppgave"
   ]
  },
  {
   "cell_type": "markdown",
   "id": "e2b0cdec-0b23-4ab0-8482-57eee60c12c0",
   "metadata": {},
   "source": [
    "La \n",
    "$A=\\begin{bmatrix}-1 & 2\\\\-3 &4\\end{bmatrix}$ og la $\\vec v_0 = \\begin{bmatrix}1\\\\0\\end{bmatrix}$. Finn en løsning til differensialligningssystemet $\\frac{d}{dt} \\vec v(t) \n",
    "= A \\cdot \\vec v(t)$ med $\\vec v(0) = \\vec v_0$ ved at følge stegene under.\n",
    "\n",
    "1. Finn egenverdier $\\lambda_1$ og $\\lambda_2$ for $A$ og egenvektorer $\\vec w_1$ og $\\vec w_2$ med $A \\cdot \\vec w_1 = \\lambda_1 \\cdot \\vec w_1$ og $A \\cdot \\vec w_2 = \\lambda_2 \\cdot \\vec w_.$\n",
    "2. Finn tall $x$ og $y$ slik at $\\vec v_0 = x \\cdot \\vec w_1 + y \\cdot \\vec w_2$.\n",
    "3. Sjekk at $\\vec v(t) = x\\cdot e^{\\lambda_1 t} \\cdot \\vec w_1 + y \\cdot e^{\\lambda_2 t} \\cdot \\vec w_2$ er en løsning til $\\frac{d}{dt} \\vec v(t) = A \\cdot \\vec v(t)$ med\n",
    "$\\vec v(0) = \\vec v_0$.\n"
   ]
  },
  {
   "cell_type": "code",
   "execution_count": null,
   "id": "33ad7327-37d7-4571-b97f-e0a1f5423cfd",
   "metadata": {},
   "outputs": [],
   "source": []
  },
  {
   "cell_type": "markdown",
   "id": "97330929-3efb-4ae3-b30e-689a19385c9f",
   "metadata": {},
   "source": [
    "# Trenivåsystem i Natrium (Na)\n",
    "\n",
    "Natrium har en grunntilstand ($3s$) og eksiterte tilstander ($3p$ og $4s$), som kan brukes til å konstruere et trenivåsystem av typen \"kaskade\" (ladder-type):\n",
    "\n",
    "1. **Grunntilstand ($3s$)**: $|1\\rangle$\n",
    "2. **Første eksiterte tilstand ($3p$)**: $|2\\rangle$\n",
    "3. **Andre eksiterte tilstand ($4s$)**: $|3\\rangle$\n",
    "\n",
    "Overgangene mellom disse tilstandene er:\n",
    "- $|1\\rangle \\leftrightarrow |2\\rangle$: Tilsvarer D-linjeovergangen (bølgelengde ~589 nm).\n",
    "- $|2\\rangle \\leftrightarrow |3\\rangle$: Tilsvarer en høyenergetisk overgang (bølgelengde ~330 nm).\n",
    "\n",
    "---\n",
    "\n",
    "## Rate-ligninger for Natrium Kaskadesystemet\n",
    "\n",
    "La oss definere populasjonene i de tre tilstandene som $n_1$, $n_2$, og $n_3$. Rate-ligningene for dette systemet er:\n",
    "\n",
    "$$\n",
    "\\frac{dn_1}{dt} = W_{21} n_2 + W_{31} n_3 - (W_{12} + W_{13}) n_1,\n",
    "$$\n",
    "$$\n",
    "\\frac{dn_2}{dt} = W_{12} n_1 + W_{32} n_3 - (W_{21} + W_{23}) n_2,\n",
    "$$\n",
    "$$\n",
    "\\frac{dn_3}{dt} = W_{13} n_1 + W_{23} n_2 - (W_{31} + W_{32}) n_3.\n",
    "$$\n",
    "\n",
    "Her:\n",
    "- $W_{12}$: Overgangshastighet fra $|1\\rangle$ til $|2\\rangle$ (eksitasjon med en laser på 589 nm).\n",
    "- $W_{21}$: Overgangshastighet fra $|2\\rangle$ til $|1\\rangle$ (spontan emisjon på 589 nm).\n",
    "- $W_{23}$: Overgangshastighet fra $|2\\rangle$ til $|3\\rangle$ (eksitasjon med en laser på 330 nm).\n",
    "- $W_{32}$: Overgangshastighet fra $|3\\rangle$ til $|2\\rangle$ (spontan emisjon på 330 nm).\n",
    "- $W_{13}$: Overgangshastighet fra $|1\\rangle$ til $|3\\rangle$ (vanligvis neglisjerbar med mindre en to-fotonprosess er involvert).\n",
    "- $W_{31}$: Overgangshastighet fra $|3\\rangle$ til $|1\\rangle$ (spontan emisjon eller ikke-radiativ nedgang).\n",
    "\n",
    "---\n",
    "\n",
    "## Typiske Overgangshastigheter\n",
    "\n",
    "For natrium:\n",
    "- Den spontane emisjonsraten $W_{21}$ (for $3p \\to 3s$) er omtrent $6 \\times 10^7 \\, \\text{s}^{-1}$.\n",
    "- Den spontane emisjonsraten $W_{32}$ (for $4s \\to 3p$) er omtrent $1 \\times 10^7 \\, \\text{s}^{-1}$.\n",
    "- Eksitasjonsratene $W_{12}$ og $W_{23}$ avhenger av laserintensiteten og kan beregnes ved hjelp av Einstein-koeffisienter eller eksperimentelle data.\n",
    "\n",
    "---\n",
    "\n",
    "## Numerisk Eksempel\n",
    "\n",
    "La oss anta følgende overgangshastigheter (i enheter av $10^7 \\, \\text{s}^{-1}$):\n",
    "- $W_{12} = 5.0$ (eksitasjon $|1\\rangle \\to |2\\rangle$)\n",
    "- $W_{21} = 6.0$ (spontan emisjon $|2\\rangle \\to |1\\rangle$)\n",
    "- $W_{23} = 3.0$ (eksitasjon $|2\\rangle \\to |3\\rangle$)\n",
    "- $W_{32} = 1.0$ (spontan emisjon $|3\\rangle \\to |2\\rangle$)\n",
    "- $W_{13} = 0.1$ (svak eksitasjon $|1\\rangle \\to |3\\rangle$)\n",
    "- $W_{31} = 0.5$ (spontan emisjon $|3\\rangle \\to |1\\rangle$)\n",
    "\n",
    "Rate-matrisen $\\mathbf{A}$ blir:\n",
    "\n",
    "$$\n",
    "\\mathbf{A} =\n",
    "\\begin{bmatrix}\n",
    "-(5.0 + 0.1) & 6.0 & 0.5 \\\\\n",
    "5.0 & -(6.0 + 3.0) & 1.0 \\\\\n",
    "0.1 & 3.0 & -(1.0 + 0.5)\n",
    "\\end{bmatrix}\n",
    "\\times 10^7 \\, \\text{s}^{-1}.\n",
    "$$\n",
    "\n",
    "---"
   ]
  },
  {
   "cell_type": "code",
   "execution_count": 4,
   "id": "0274c6e2-d5e0-4d22-b5ea-6b7f8ea61781",
   "metadata": {},
   "outputs": [],
   "source": [
    "# Definer rate-matrisen A (i enheter av 10^7 s^-1)\n",
    "A = np.array([\n",
    "    [-(5.0 + 0.1), 6.0, 0.5],\n",
    "    [5.0, -(6.0 + 3.0), 1.0],\n",
    "    [0.1, 3.0, -(1.0 + 0.5)]\n",
    "]) * 1e7  # Konverter til s^-1"
   ]
  },
  {
   "cell_type": "code",
   "execution_count": 8,
   "id": "f8753223-7209-4be9-9f52-f753c70f16e7",
   "metadata": {},
   "outputs": [],
   "source": [
    "n0 = np.array([1.0, 0.0, 0.0])[:, None]"
   ]
  },
  {
   "cell_type": "code",
   "execution_count": 5,
   "id": "5210627e-b0e3-44f2-b61c-6b2ec2be0258",
   "metadata": {},
   "outputs": [],
   "source": [
    "egenvektorer_og_egenverdier = finn_egenvektorer_og_egenverdier(A)"
   ]
  },
  {
   "cell_type": "code",
   "execution_count": 11,
   "id": "8970f0fc-6166-42d3-819f-62cdddb0029e",
   "metadata": {},
   "outputs": [],
   "source": [
    "egenverdier = np.array([[x[0]] for x in egenvektorer_og_egenverdier])\n",
    "P = np.hstack([x[2][0] for x in egenvektorer_og_egenverdier])"
   ]
  },
  {
   "cell_type": "code",
   "execution_count": 12,
   "id": "d904f5b1-848e-48e4-83b4-b2604ec7eb84",
   "metadata": {},
   "outputs": [
    {
     "data": {
      "text/plain": [
       "array([[-1.29807335e+08],\n",
       "       [-2.61926646e+07],\n",
       "       [ 0.00000000e+00]])"
      ]
     },
     "execution_count": 12,
     "metadata": {},
     "output_type": "execute_result"
    }
   ],
   "source": [
    "egenverdier"
   ]
  },
  {
   "cell_type": "code",
   "execution_count": 20,
   "id": "b567586b-2928-4fa3-9a97-ffba13583288",
   "metadata": {},
   "outputs": [
    {
     "data": {
      "text/plain": [
       "array([[0.],\n",
       "       [0.],\n",
       "       [1.]])"
      ]
     },
     "execution_count": 20,
     "metadata": {},
     "output_type": "execute_result"
    }
   ],
   "source": [
    "np.exp(egenverdier)"
   ]
  },
  {
   "cell_type": "code",
   "execution_count": 45,
   "id": "84bea836-bc37-44f7-94a9-8201e069bb58",
   "metadata": {},
   "outputs": [],
   "source": [
    "t = np.linspace(0, 1e-6, 500)"
   ]
  },
  {
   "cell_type": "code",
   "execution_count": 46,
   "id": "8b79e7a5-e4f3-454e-86c0-9714dc6f8616",
   "metadata": {},
   "outputs": [
    {
     "data": {
      "text/plain": [
       "(3, 500)"
      ]
     },
     "execution_count": 46,
     "metadata": {},
     "output_type": "execute_result"
    }
   ],
   "source": [
    "(t[None, :] * egenverdier).shape"
   ]
  },
  {
   "cell_type": "code",
   "execution_count": 47,
   "id": "d96ad9a0-030e-4a93-aad3-7fcffeaa83d0",
   "metadata": {},
   "outputs": [
    {
     "data": {
      "text/plain": [
       "array([[ 0.10856496, -0.17131819,  0.0101941 ],\n",
       "       [-0.57621202, -0.29632887,  0.52215884],\n",
       "       [ 0.46764706,  0.46764706,  0.46764706]])"
      ]
     },
     "execution_count": 47,
     "metadata": {},
     "output_type": "execute_result"
    }
   ],
   "source": [
    "invers_matrise(P)"
   ]
  },
  {
   "cell_type": "code",
   "execution_count": 48,
   "id": "7bf9166c-8fa0-4b99-a088-0889cfeab39c",
   "metadata": {},
   "outputs": [],
   "source": [
    "v = P @ ((invers_matrise(P) @ n0)[:, None] * np.exp(t[None, :] * egenverdier))"
   ]
  },
  {
   "cell_type": "code",
   "execution_count": 49,
   "id": "8db47bae-f117-4914-9a47-52094dbf0eb7",
   "metadata": {},
   "outputs": [
    {
     "data": {
      "text/plain": [
       "(3, 500)"
      ]
     },
     "execution_count": 49,
     "metadata": {},
     "output_type": "execute_result"
    }
   ],
   "source": [
    "v.shape"
   ]
  },
  {
   "cell_type": "code",
   "execution_count": 52,
   "id": "9a2b6ccd-d296-407a-995e-9500e74c9b80",
   "metadata": {},
   "outputs": [
    {
     "data": {
      "text/plain": [
       "Text(0.5, 1.0, 'Populasjonsdynamikk i et Natrium Trenivåsystem')"
      ]
     },
     "execution_count": 52,
     "metadata": {},
     "output_type": "execute_result"
    },
    {
     "data": {
      "image/png": "[encoded data removed]",
      "text/plain": [
       "<Figure size 640x480 with 1 Axes>"
      ]
     },
     "metadata": {},
     "output_type": "display_data"
    }
   ],
   "source": [
    "plt.plot(t, v[0, :])\n",
    "plt.plot(t, v[1, :])\n",
    "plt.plot(t, v[2, :])\n",
    "plt.xlabel('Tid (ns)')\n",
    "plt.ylabel('Populasjon')\n",
    "plt.legend(['Tilstand 1 (3s)', 'Tilstand 2 (3p)', 'Tilstand 3 (4s)'])\n",
    "plt.title('Populasjonsdynamikk i et Natrium Trenivåsystem')"
   ]
  },
  {
   "cell_type": "code",
   "execution_count": 44,
   "id": "9030b7e9-1045-459f-8d74-d81bc62e9d89",
   "metadata": {},
   "outputs": [
    {
     "data": {
      "text/plain": [
       "array([2.67272947e-16, 3.12067098e-01, 2.90929134e-01, 2.64118979e-01,\n",
       "       2.47389929e-01, 2.37515644e-01, 2.31724841e-01, 2.28331439e-01,\n",
       "       2.26343096e-01, 2.25178052e-01, 2.24495410e-01, 2.24095425e-01,\n",
       "       2.23861059e-01, 2.23723736e-01, 2.23643274e-01, 2.23596127e-01,\n",
       "       2.23568503e-01, 2.23552317e-01, 2.23542833e-01, 2.23537276e-01,\n",
       "       2.23534019e-01, 2.23532112e-01, 2.23530994e-01, 2.23530339e-01,\n",
       "       2.23529955e-01, 2.23529730e-01, 2.23529598e-01, 2.23529521e-01,\n",
       "       2.23529476e-01, 2.23529449e-01, 2.23529434e-01, 2.23529425e-01,\n",
       "       2.23529419e-01, 2.23529416e-01, 2.23529414e-01, 2.23529413e-01,\n",
       "       2.23529413e-01, 2.23529412e-01, 2.23529412e-01, 2.23529412e-01,\n",
       "       2.23529412e-01, 2.23529412e-01, 2.23529412e-01, 2.23529412e-01,\n",
       "       2.23529412e-01, 2.23529412e-01, 2.23529412e-01, 2.23529412e-01,\n",
       "       2.23529412e-01, 2.23529412e-01])"
      ]
     },
     "execution_count": 44,
     "metadata": {},
     "output_type": "execute_result"
    }
   ],
   "source": [
    "v[1, :]"
   ]
  },
  {
   "cell_type": "code",
   "execution_count": null,
   "id": "3c60bd4c-be8f-4939-b1d3-a6a8e12bdb57",
   "metadata": {},
   "outputs": [],
   "source": [
    "egenvektorer_og_egenverdier"
   ]
  },
  {
   "cell_type": "markdown",
   "id": "6f180a14-ad52-458f-9a2f-9d0d1600b44e",
   "metadata": {},
   "source": [
    "## Python Implementering\n",
    "\n",
    "Her er hvordan du kan løse dette systemet numerisk:\n",
    "\n",
    "```python\n",
    "import numpy as np\n",
    "from scipy.integrate import solve_ivp\n",
    "import matplotlib.pyplot as plt\n",
    "\n",
    "# Definer rate-matrisen A (i enheter av 10^7 s^-1)\n",
    "A = np.array([\n",
    "    [-(5.0 + 0.1), 6.0, 0.5],\n",
    "    [5.0, -(6.0 + 3.0), 1.0],\n",
    "    [0.1, 3.0, -(1.0 + 0.5)]\n",
    "]) * 1e7  # Konverter til s^-1\n",
    "\n",
    "# Startpopulasjonsvektor (all populasjon i tilstand 1)\n",
    "n0 = np.array([1.0, 0.0, 0.0])\n",
    "\n",
    "# Definer systemet av ODE-er\n",
    "def rate_equations(t, n):\n",
    "    return A @ n\n",
    "\n",
    "# Løs systemet\n",
    "t_span = (0, 1e-6)  # Tidsrom i sekunder\n",
    "sol = solve_ivp(rate_equations, t_span, n0, t_eval=np.linspace(0, 1e-6, 1000))\n",
    "\n",
    "# Plott resultatene\n",
    "plt.plot(sol.t * 1e9, sol.y.T)  # Konverter tid til nanosekunder\n",
    "plt.xlabel('Tid (ns)')\n",
    "plt.ylabel('Populasjon')\n",
    "plt.legend(['Tilstand 1 (3s)', 'Tilstand 2 (3p)', 'Tilstand 3 (4s)'])\n",
    "plt.title('Populasjonsdynamikk i et Natrium Trenivåsystem')\n",
    "plt.show()"
   ]
  },
  {
   "cell_type": "code",
   "execution_count": 51,
   "id": "58505fba-9fbb-4fa7-a46d-99c62e05374f",
   "metadata": {},
   "outputs": [
    {
     "data": {
      "image/png": "[encoded data removed]",
      "text/plain": [
       "<Figure size 640x480 with 1 Axes>"
      ]
     },
     "metadata": {},
     "output_type": "display_data"
    }
   ],
   "source": [
    "import numpy as np\n",
    "from scipy.integrate import solve_ivp\n",
    "import matplotlib.pyplot as plt\n",
    "\n",
    "# Definer rate-matrisen A (i enheter av 10^7 s^-1)\n",
    "A = np.array([\n",
    "    [-(5.0 + 0.1), 6.0, 0.5],\n",
    "    [5.0, -(6.0 + 3.0), 1.0],\n",
    "    [0.1, 3.0, -(1.0 + 0.5)]\n",
    "]) * 1e7  # Konverter til s^-1\n",
    "\n",
    "# Startpopulasjonsvektor (all populasjon i tilstand 1)\n",
    "n0 = np.array([1.0, 0.0, 0.0])\n",
    "\n",
    "# Definer systemet av ODE-er\n",
    "def rate_equations(t, n):\n",
    "    return A @ n\n",
    "\n",
    "# Løs systemet\n",
    "t_span = (0, 1e-6)  # Tidsrom i sekunder\n",
    "sol = solve_ivp(rate_equations, t_span, n0, t_eval=np.linspace(0, 1e-6, 1000))\n",
    "\n",
    "# Plott resultatene\n",
    "plt.plot(sol.t * 1e9, sol.y.T)  # Konverter tid til nanosekunder\n",
    "plt.xlabel('Tid (ns)')\n",
    "plt.ylabel('Populasjon')\n",
    "plt.legend(['Tilstand 1 (3s)', 'Tilstand 2 (3p)', 'Tilstand 3 (4s)'])\n",
    "plt.title('Populasjonsdynamikk i et Natrium Trenivåsystem')\n",
    "plt.show()"
   ]
  },
  {
   "cell_type": "code",
   "execution_count": null,
   "id": "62dc11ec-6cbe-4ad7-85b7-497997f98ff8",
   "metadata": {},
   "outputs": [],
   "source": []
  }
 ],
 "metadata": {
  "kernelspec": {
   "display_name": "Python 3 (ipykernel)",
   "language": "python",
   "name": "python3"
  },
  "language_info": {
   "codemirror_mode": {
    "name": "ipython",
    "version": 3
   },
   "file_extension": ".py",
   "mimetype": "text/x-python",
   "name": "python",
   "nbconvert_exporter": "python",
   "pygments_lexer": "ipython3",
   "version": "3.12.8"
  }
 },
 "nbformat": 4,
 "nbformat_minor": 5
}
