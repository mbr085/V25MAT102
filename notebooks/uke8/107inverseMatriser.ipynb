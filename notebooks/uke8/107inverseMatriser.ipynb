{
 "cells": [
  {
   "cell_type": "markdown",
   "id": "ed291cda-6865-4feb-936b-ed12cbadc203",
   "metadata": {},
   "source": [
    "# Inverse Matriser (MIP 10.7)"
   ]
  },
  {
   "cell_type": "markdown",
   "id": "0625223d-cab8-4388-bf9c-216076d2975a",
   "metadata": {},
   "source": [
    "De kvadratiske matrisene"
   ]
  },
  {
   "cell_type": "markdown",
   "id": "0635e507-c13b-45d7-85e2-2f0b3dc131ca",
   "metadata": {},
   "source": [
    "$$\n",
    "\\left[\\begin{array}{cc}\n",
    "1 & 0 \\\\\n",
    "0 & 1\n",
    "\\end{array}\\right],\n",
    "\\quad\n",
    "\\left[\\begin{array}{ccc}\n",
    "1 & 0 & 0 \\\\\n",
    "0 & 1 & 0 \\\\\n",
    "0 & 0 & 1\n",
    "\\end{array}\\right],\n",
    "\\quad\n",
    "\\text{osv}\n",
    "$$\n"
   ]
  },
  {
   "cell_type": "markdown",
   "id": "0660bf7e-0301-42d6-8810-abb925ec3191",
   "metadata": {},
   "source": [
    "er spesielle: Ganges de på en annen matrise $A$ blir resultatet matrisen $A$ selv. "
   ]
  },
  {
   "cell_type": "markdown",
   "id": "5db706ef-c0eb-4099-8460-c78c580b87e5",
   "metadata": {},
   "source": [
    "## Eksempel"
   ]
  },
  {
   "cell_type": "markdown",
   "id": "2226fa6a-fc27-4fab-8807-b98b1181d602",
   "metadata": {},
   "source": [
    "$$\n",
    "\\left[\\begin{array}{cc}\n",
    "1 & 0 \\\\ 0 & 1\n",
    "\\end{array}\\right]\n",
    "\\cdot\n",
    "\\left[\\begin{array}{cc}\n",
    "1 & 2 \\\\ 3 & 4\n",
    "\\end{array}\\right]\n",
    "=\n",
    "\\left[\\begin{array}{cc}\n",
    "1 & 2 \\\\ 3 & 4\n",
    "\\end{array}\\right]\n",
    "$$\n",
    "og\n",
    "$$\n",
    "\\left[\\begin{array}{cc}\n",
    "1 & 2 \\\\ 3 & 4\n",
    "\\end{array}\\right]\n",
    "\\cdot\n",
    "\\left[\\begin{array}{cc}\n",
    "1 & 0 \\\\ 0 & 1\n",
    "\\end{array}\\right]\n",
    "=\n",
    "\\left[\\begin{array}{cc}\n",
    "1 & 2 \\\\ 3 & 4\n",
    "\\end{array}\\right]\n",
    "$$\n"
   ]
  },
  {
   "cell_type": "markdown",
   "id": "22e5599b-ca9f-4da3-b11f-a90b1847eac2",
   "metadata": {},
   "source": [
    "## Oppgave"
   ]
  },
  {
   "cell_type": "markdown",
   "id": "2f9a0ef7-0e5c-4fc0-a37b-16a42453e294",
   "metadata": {},
   "source": [
    "La $I$ være $3 \\times 3$ matrisen\n",
    "$$\n",
    "I = \n",
    "\\left[\\begin{array}{ccc}\n",
    "1 & 0 & 0 \\\\\n",
    "0 & 1 & 0 \\\\\n",
    "0 & 0 & 1\n",
    "\\end{array}\\right]\n",
    "$$\n",
    "La $A$, $B$ og $C$ være $3 \\times 3$ matriser slik at \n",
    "$$A \\cdot B = I \\quad \\text{og} \\quad C \\cdot A = I.$$\n",
    "Bruk regnereglene \n",
    "* $B = I \\cdot B$,\n",
    "* $(C \\cdot A) \\cdot B = C \\cdot (A \\cdot B)$\n",
    "* $C \\cdot I = C$\n",
    "\n",
    "til å forklare hvorfor $B = C$."
   ]
  },
  {
   "cell_type": "markdown",
   "id": "72ea5522-157f-4f3b-b74f-e60c8ffa09f0",
   "metadata": {},
   "source": [
    "## Invers matrise"
   ]
  },
  {
   "cell_type": "markdown",
   "id": "d1c08564-d2f5-4fde-9024-80cdeb02f230",
   "metadata": {},
   "source": [
    "I situasjonen i oppgaven over sier vi at $B$ er den inverse matrisen til $A$, og vi skriver\n",
    "$$B = A^{-1}$$"
   ]
  },
  {
   "cell_type": "markdown",
   "id": "49723748-71ce-4805-b0d7-28593b900d8e",
   "metadata": {},
   "source": [
    "## Oppgave"
   ]
  },
  {
   "cell_type": "markdown",
   "id": "694743fb-119d-45ea-a50c-2dff42a7a6cd",
   "metadata": {},
   "source": [
    "La $A$, $B$ og $C$ være $3 \\times 3$ matriser slik at $A \\cdot B = I$ og $B \\cdot C = I$.\n",
    "Bruk regnereglene\n",
    "* $C = I \\cdot C$\n",
    "* $(A \\cdot B) \\cdot C = A \\cdot (B \\cdot C)$ og\n",
    "* $A \\cdot I = A$\n",
    "\n",
    "til å forklare hvorfor $C = A$."
   ]
  },
  {
   "cell_type": "markdown",
   "id": "a1e12cb5-7314-41ba-bb44-ed74dd6f7602",
   "metadata": {},
   "source": [
    "### Bemerkning"
   ]
  },
  {
   "cell_type": "markdown",
   "id": "5e2e1979-a2db-4da6-bf55-a1ffd4f28dab",
   "metadata": {},
   "source": [
    "Vi vet at $\\det(A \\cdot B) = \\det(A) \\cdot \\det(B)$. Dessuten er $\\det(I) = 1$. Derfor vet vi at hvis $A \\cdot B = I$, da er $\\det(A) \\cdot \\det(B) = 1$, \n",
    "så $\\det(A) \\ne 0$ og $\\det(B) \\ne 0$."
   ]
  },
  {
   "cell_type": "markdown",
   "id": "545be16f-34e8-4509-bbc4-7802c7964b56",
   "metadata": {},
   "source": [
    "## Teorem"
   ]
  },
  {
   "cell_type": "markdown",
   "id": "c142bbd4-c270-49ab-b35b-71353c90cd93",
   "metadata": {},
   "source": [
    "Hvis $\\det(A) \\ne 0$ da har $A$ en invers matrise."
   ]
  },
  {
   "cell_type": "markdown",
   "id": "e13cb6ec-c427-4f93-8f63-fdb0461ae4c2",
   "metadata": {},
   "source": [
    "### Begrunnelse:"
   ]
  },
  {
   "cell_type": "markdown",
   "id": "79b5c7e4-2708-4bf1-97c4-072162dbfd2e",
   "metadata": {},
   "source": [
    "La oss si at $A$ er en $3 \\times 3$ matrise. Siden $\\det(A) \\ne 0$ ved vi fra Teorem 4 i avsnitt 10.4 i MIP at det \n",
    "finnes nøyaktig en løsning \n",
    "$$\\vec b_1 = \n",
    "\\left[\\begin{array}{c}\n",
    "b_{11} \\\\ b_{21} \\\\ b_{31}\n",
    "\\end{array}\\right]\n",
    "\\qquad \\text{til ligningssystemet} \\qquad\n",
    "A \\cdot \\vec b_1 =\n",
    "\\left[\\begin{array}{c}\n",
    "1 \\\\ 0 \\\\ 0\n",
    "\\end{array}\\right].$$\n",
    "Tilsvarende\n",
    "finnes nøyaktig en løsning \n",
    "$$\\vec b_2 = \n",
    "\\left[\\begin{array}{c}\n",
    "b_{12} \\\\ b_{22} \\\\ b_{32}\n",
    "\\end{array}\\right]\n",
    "\\qquad \\text{til ligningssystemet} \\qquad\n",
    "A \\cdot \\vec b_2 =\n",
    "\\left[\\begin{array}{c}\n",
    "0 \\\\ 1 \\\\ 0\n",
    "\\end{array}\\right].$$\n",
    "Endelig finnes også nøyaktig en løsning \n",
    "$$\\vec b_3 = \n",
    "\\left[\\begin{array}{c}\n",
    "b_{13} \\\\ b_{23} \\\\ b_{33}\n",
    "\\end{array}\\right]\n",
    "\\qquad \\text{til ligningssystemet} \\qquad\n",
    "A \\cdot \\vec b_3 =\n",
    "\\left[\\begin{array}{c}\n",
    "0 \\\\ 0 \\\\ 1\n",
    "\\end{array}\\right].$$\n"
   ]
  },
  {
   "cell_type": "markdown",
   "id": "10db8950-f108-4ba0-a3f0-96d585e8b918",
   "metadata": {},
   "source": [
    "Matrisen\n",
    "$$\n",
    "B = [\\vec b_1\\ \\vec b_2 \\ \\vec b_3] = \n",
    "\\left[\\begin{array}{ccc}\n",
    "b_{11} & b_{12} & b_{13} \\\\\n",
    "b_{21} & b_{22} & b_{23} \\\\\n",
    "b_{31} & b_{32} & b_{33}\n",
    "\\end{array}\\right]$$"
   ]
  },
  {
   "cell_type": "markdown",
   "id": "c00f3237-0154-420c-89fd-df15cd2484a3",
   "metadata": {},
   "source": [
    "er slik at $A \\cdot B = I$. (Hvorfor?) Vi vet nå at $\\det(B) \\ne 0$, så på samme måte kan vi finne en matrise $C$ slik at $B \\cdot C = I$.\n",
    "Fra oppgaven over vet vi at $A = C$, så $B = A^{-1}$."
   ]
  },
  {
   "cell_type": "markdown",
   "id": "56365e66-b1d8-45cb-92a7-c42d45c82520",
   "metadata": {},
   "source": [
    "## Eksempel"
   ]
  },
  {
   "cell_type": "markdown",
   "id": "e94b91fb-33fe-4b6f-9182-f93c54576c9f",
   "metadata": {},
   "source": [
    "$$A =\n",
    "\\left[\\begin{array}{ccc}\n",
    "1 & 1 & 0 \\\\\n",
    "0 & 2 & 0 \\\\\n",
    "0 & 1 & 1\n",
    "\\end{array}\\right]$$"
   ]
  },
  {
   "cell_type": "markdown",
   "id": "5d8938ee-e167-46be-b1b6-421f31f9f7c5",
   "metadata": {},
   "source": [
    "For å finne $\\vec b_1$ gjør vi Gauss eliminasjon:"
   ]
  },
  {
   "cell_type": "markdown",
   "id": "ec82de5f-7192-419f-b4c4-2508a076b504",
   "metadata": {},
   "source": [
    "$$\n",
    "\\left[\\begin{array}{ccc|c}\n",
    "1 & 1 & 0 & 1\\\\\n",
    "0 & 2 & 0 & 0\\\\\n",
    "0 & 1 & 1 & 0\n",
    "\\end{array}\\right]\n",
    "\\sim\n",
    "\\left[\\begin{array}{ccc|c}\n",
    "1 & 1 & 0 & 1\\\\\n",
    "0 & 1 & 0 & 0\\\\\n",
    "0 & 1 & 1 & 0\n",
    "\\end{array}\\right]\n",
    "\\begin{array}{c}\n",
    "\\phantom{A} \\\\\n",
    "\\mathrm{II}/2 \\newline\n",
    "\\phantom{A}\n",
    "\\end{array}\n",
    "\\sim\n",
    "\\left[\\begin{array}{ccc|c}\n",
    "1 & 0 & 0 & 1\\\\\n",
    "0 & 1 & 0 & 0\\\\\n",
    "0 & 0 & 1 & 0\n",
    "\\end{array}\\right]\n",
    "\\begin{array}{c}\n",
    "\\mathrm{I} - \\mathrm{II} \\\\\n",
    "\\phantom{\\mathrm{II}/2} \\newline\n",
    "\\mathrm{III} - \\mathrm{II} \n",
    "\\end{array}\n",
    "$$\n"
   ]
  },
  {
   "cell_type": "markdown",
   "id": "37394617-aed8-40f8-9680-3fcac0e2a0eb",
   "metadata": {},
   "source": [
    "som gir\n",
    "$\\vec b_1 = \n",
    "\\left[\\begin{array}{c}\n",
    "1 \\\\ 0 \\\\0\n",
    "\\end{array}\\right]$"
   ]
  },
  {
   "cell_type": "markdown",
   "id": "42a4a7dd-3e5f-4d33-981f-17b0b0b5f3ab",
   "metadata": {},
   "source": [
    "For å finne $\\vec b_2$ gjør vi igjen Gauss eliminasjon:"
   ]
  },
  {
   "cell_type": "markdown",
   "id": "881c6492-9683-47c3-bd81-e1f55962cbde",
   "metadata": {},
   "source": [
    "$$\n",
    "\\left[\\begin{array}{ccc|c}\n",
    "1 & 1 & 0 & 0\\\\\n",
    "0 & 2 & 0 & 1\\\\\n",
    "0 & 1 & 1 & 0\n",
    "\\end{array}\\right]\n",
    "\\sim\n",
    "\\left[\\begin{array}{ccc|c}\n",
    "1 & 1 & 0 & 0\\\\\n",
    "0 & 1 & 0 & 1/2\\\\\n",
    "0 & 1 & 1 & 0\n",
    "\\end{array}\\right]\n",
    "\\begin{array}{c}\n",
    "\\phantom{A} \\\\\n",
    "\\mathrm{II}/2 \\newline\n",
    "\\phantom{A}\n",
    "\\end{array}\n",
    "\\sim\n",
    "\\left[\\begin{array}{ccc|c}\n",
    "1 & 0 & 0 & -1/2\\\\\n",
    "0 & 1 & 0 & 1/2\\\\\n",
    "0 & 0 & 1 & -1/2\n",
    "\\end{array}\\right]\n",
    "\\begin{array}{c}\n",
    "\\mathrm{I} - \\mathrm{II} \\\\\n",
    "\\phantom{\\mathrm{II}/2} \\newline\n",
    "\\mathrm{III} - \\mathrm{II} \n",
    "\\end{array}\n",
    "$$\n"
   ]
  },
  {
   "cell_type": "markdown",
   "id": "d3cf5477-a0c3-4012-b5ff-dbea437c1bee",
   "metadata": {},
   "source": [
    "som gir\n",
    "$\\vec b_2 = \n",
    "\\left[\\begin{array}{c}\n",
    "-1/2 \\\\ 1/2 \\\\ -1/2\n",
    "\\end{array}\\right]$"
   ]
  },
  {
   "cell_type": "markdown",
   "id": "2de0ba0b-1e9b-481a-81c5-196fad6ce9d8",
   "metadata": {},
   "source": [
    "På helt samme måte fås $\\vec b_3 = \n",
    "\\left[\\begin{array}{c}\n",
    "0 \\\\ 0 \\\\ 1\n",
    "\\end{array}\\right]$"
   ]
  },
  {
   "cell_type": "markdown",
   "id": "852b22da-258c-459b-9c56-39168b37ad3d",
   "metadata": {},
   "source": [
    "Den inverse matrisen til $A$ er altså"
   ]
  },
  {
   "cell_type": "markdown",
   "id": "a69eeeb1-5d92-4357-90aa-7c5c1a4df888",
   "metadata": {},
   "source": [
    "$$A^{-1} = \n",
    "\\left[\\begin{array}{ccc}\n",
    "1 & -1/2 & 0 \\\\\n",
    "0 & 1/2 & 0 \\\\\n",
    "0 & -1/2 & 1\n",
    "\\end{array}\\right]$$"
   ]
  },
  {
   "cell_type": "markdown",
   "id": "99614d04-59ec-4876-b0f3-186a8698b3e0",
   "metadata": {},
   "source": [
    "## Forenkling"
   ]
  },
  {
   "cell_type": "markdown",
   "id": "4eccb5a3-3260-4596-a8eb-58f11cf143cb",
   "metadata": {},
   "source": [
    "Vi kan gjøre alle Gauss eliminasjonene samtidig ved å jobbe med en større matrise:"
   ]
  },
  {
   "cell_type": "markdown",
   "id": "c44d40e1-0ed9-41ce-a8c2-9ce115752acc",
   "metadata": {},
   "source": [
    "$$\n",
    "\\left[\\begin{array}{ccc|ccc}\n",
    "1 & 1 & 0 & 1 & 0 & 0\\\\\n",
    "0 & 2 & 0 & 0 & 1 & 0\\\\\n",
    "0 & 1 & 1 & 0 & 0 & 1\n",
    "\\end{array}\\right]\n",
    "\\sim\n",
    "\\left[\\begin{array}{ccc|ccc}\n",
    "1 & 1 & 0 & 0 & 1 & 0\\\\\n",
    "0 & 1 & 0 & 0 & 1/2 & 0\\\\\n",
    "0 & 1 & 1 & 0 & 0 & 1\n",
    "\\end{array}\\right]\n",
    "\\begin{array}{c}\n",
    "\\phantom{A} \\\\\n",
    "\\mathrm{II}/2 \\newline\n",
    "\\phantom{A}\n",
    "\\end{array}\n",
    "\\sim\n",
    "\\left[\\begin{array}{ccc|ccc}\n",
    "1 & 0 & 0 & 1 & -1/2 & 0\\\\\n",
    "0 & 1 & 0 & 0 & 1/2 & 0\\\\\n",
    "0 & 0 & 1 & 0 & -1/2 & 1\n",
    "\\end{array}\\right]\n",
    "\\begin{array}{c}\n",
    "\\mathrm{I} - \\mathrm{II} \\\\\n",
    "\\phantom{\\mathrm{II}/2} \\newline\n",
    "\\mathrm{III} - \\mathrm{II} \n",
    "\\end{array}\n",
    "$$\n"
   ]
  }
 ],
 "metadata": {
  "kernelspec": {
   "display_name": "Python 3 (ipykernel)",
   "language": "python",
   "name": "python3"
  },
  "language_info": {
   "codemirror_mode": {
    "name": "ipython",
    "version": 3
   },
   "file_extension": ".py",
   "mimetype": "text/x-python",
   "name": "python",
   "nbconvert_exporter": "python",
   "pygments_lexer": "ipython3",
   "version": "3.12.8"
  }
 },
 "nbformat": 4,
 "nbformat_minor": 5
}
