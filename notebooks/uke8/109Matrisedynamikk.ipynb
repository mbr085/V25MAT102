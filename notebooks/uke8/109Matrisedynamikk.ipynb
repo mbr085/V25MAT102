{
 "cells": [
  {
   "cell_type": "markdown",
   "id": "71149b31-3b3a-4365-9d99-bfec2f89d93d",
   "metadata": {},
   "source": [
    "## Matrisedynamikk (MIP 10.9)"
   ]
  },
  {
   "cell_type": "markdown",
   "id": "70534dcc-72e7-4b01-8b27-9846dd598815",
   "metadata": {},
   "source": [
    "Dette kan vi få vite av chatgpt:"
   ]
  },
  {
   "cell_type": "markdown",
   "id": "530508e7-c6e2-4e51-8887-20477e2d26c5",
   "metadata": {},
   "source": [
    "Et eksempel på **populasjonsdynamikk i kjemi** oppstår i **laserkjemi**, spesielt i samspillet mellom molekyler og lys. Et kjent tilfelle er **vibrasjons- eller elektronisk populasjonsdynamikk i eksiterte tilstander**.  \n",
    "\n",
    "---"
   ]
  },
  {
   "cell_type": "markdown",
   "id": "b1dd73ed-e29f-4e3f-9fcd-14063b47da32",
   "metadata": {},
   "source": [
    "### **Eksempel: Populasjonsdynamikk i laserindusert fluorescens (LIF)**  \n",
    "Når et molekyl absorberer en foton fra en laser, blir det eksitert til en høyere elektronisk eller vibrasjonsmessig tilstand. Populasjonen av molekyler i den eksiterte tilstanden utvikler seg over tid på grunn av:"
   ]
  },
  {
   "cell_type": "markdown",
   "id": "651481d5-e25d-48fc-9da3-50c8000cd07e",
   "metadata": {},
   "source": [
    "1. **Spontan emisjon** – Molekylet går tilbake til grunntilstanden ved å sende ut en foton.  \n",
    "2. **Stimuleret emisjon** – En annen foton med samme energi kan indusere molekylet til å sende ut lys.  \n",
    "3. **Ikke-radiativ relaksasjon** – Molekylet mister energi uten å sende ut lys (f.eks. via kollisjoner eller intern konvertering).  "
   ]
  },
  {
   "cell_type": "markdown",
   "id": "3a473f50-7bc4-4937-9883-c5ea6c2ac324",
   "metadata": {},
   "source": [
    "**Rate-ligningene** som beskriver disse overgangene, er et eksempel på **populasjonsdynamikk** i kjemi. Dette modelleres ofte ved hjelp av **Boltzmann-fordelingen** eller **rate-ligninger som Einstein-koeffisientene**.  \n",
    "\n",
    "Denne typen populasjonsdynamikk er avgjørende for å forstå **reaksjonskinetikk, spektroskopi og fotokjemi**."
   ]
  },
  {
   "cell_type": "markdown",
   "id": "029f90b3-12ee-43df-874d-1361815da8ff",
   "metadata": {},
   "source": [
    "I en **diskret tidsversjon** av populasjonsdynamikk bruker vi en **Markov-prosess**, der populasjonene ved steg \\( t+1 \\) avhenger av populasjonene ved steg \\( t \\) gjennom en **transisjonsmatrise**.  \n",
    "\n",
    "---"
   ]
  },
  {
   "cell_type": "markdown",
   "id": "c82e75ed-e5c7-4ddd-9935-eb8b5da183f5",
   "metadata": {},
   "source": [
    "### **Diskret tids populasjonsdynamikk med en transisjonsmatrise**  \n",
    "Vi \n",
    "uttrykker populasjonsutviklingen som:  \n",
    "\n",
    "$$\n",
    "\\mathbf{N}(t+1) = T \\mathbf{N}(t)\n",
    "$$"
   ]
  },
  {
   "cell_type": "markdown",
   "id": "bad07ddd-253d-4d5e-b764-719d8832d48b",
   "metadata": {},
   "source": [
    "hvor:\n",
    "\n",
    "- $ \\mathbf{N}(t) = \\begin{bmatrix} N_g(t) \\\\ N_e(t) \\end{bmatrix} $ representerer populasjonene ved tidspunkt $ t $.\n",
    "- $ T $ er **transisjonsmatrisen**, som bestemmer hvordan populasjonene endrer seg mellom tidssteg.\n",
    "\n",
    "Et enkelt valg for $ T $ er:\n",
    "\n",
    "$$\n",
    "T = \\begin{bmatrix} \n",
    "1 - p_{ge} & p_{eg} \\\\ \n",
    "p_{ge} & 1 - p_{eg} \n",
    "\\end{bmatrix}\n",
    "$$\n",
    "\n",
    "hvor:\n",
    "- $ p_{ge} $ er sannsynligheten for overgang fra grunntilstanden til den eksiterte tilstanden per tidssteg.\n",
    "- $ p_{eg} $ er sannsynligheten for overgang fra den eksiterte tilstanden til grunntilstanden per tidssteg.\n",
    "\n",
    "---\n",
    "\n",
    "### **Iterasjon av populasjonsdynamikken**  \n",
    "Med en initialpopulasjon $ \\mathbf{N}(0) $ kan vi beregne fremtidige populasjoner som:\n",
    "\n",
    "$$\n",
    "\\mathbf{N}(t) = T^t \\mathbf{N}(0)\n",
    "$$\n",
    "\n",
    "En **likevektstilstand**, er en tilstand $\\mathbf{N}_{\\text{likevekt}}$ slik at\n",
    "\n",
    "$$\n",
    "T \\mathbf{N}_{\\text{likevekt}} = \\mathbf{N}_{\\text{likevekt}}\n",
    "$$\n",
    "\n",
    "For å finne de likevektstilstandene løser vi:\n",
    "\n",
    "$$\n",
    "\\begin{bmatrix} \n",
    "1 - p_{ge} & p_{eg} \\\\ \n",
    "p_{ge} & 1 - p_{eg} \n",
    "\\end{bmatrix}\n",
    "\\begin{bmatrix} N_g \\\\ N_e \\end{bmatrix}\n",
    "=\n",
    "\\begin{bmatrix} N_g \\\\ N_e \\end{bmatrix}.\n",
    "$$\n",
    "\n",
    "---"
   ]
  },
  {
   "cell_type": "markdown",
   "id": "13ad7a7e-6c63-48e7-b062-0948dd7f4dde",
   "metadata": {},
   "source": [
    "Skriver vi $\\vec v = \\mathbf{N}_{\\text{likevekt}} = \\begin{bmatrix} N_g \\\\ N_e \\end{bmatrix}$ står her $T \\cdot \\vec v = \\vec v$."
   ]
  },
  {
   "cell_type": "code",
   "execution_count": 1,
   "id": "b9cb8213-5b5c-461a-bd05-9506bdd9a2c2",
   "metadata": {},
   "outputs": [],
   "source": [
    "try:\n",
    "    import python_linear_algebra\n",
    "except:\n",
    "    !pip install python_linear_algebra@git+https://github.com/mbr085/python_linear_algebra\n",
    "    import python_linear_algebra\n",
    "    "
   ]
  },
  {
   "cell_type": "code",
   "execution_count": 4,
   "id": "bf916dcb-8059-4dc2-8013-cc0448ac2a23",
   "metadata": {},
   "outputs": [],
   "source": [
    "import numpy as np\n",
    "from python_linear_algebra.matrix_reduction import skriv_ut_egenvektorer_og_multiplikasjon_med_matrise\n",
    "from python_linear_algebra.matrix_reduction import skriv_ut_numpy_egenvektorer_og_multiplikasjon_med_matrise\n",
    "from python_linear_algebra.matrix_reduction import finn_egenvektorer_og_egenverdier"
   ]
  },
  {
   "cell_type": "code",
   "execution_count": 19,
   "id": "09203754-c5bc-4e8c-b5af-324f2b500d3b",
   "metadata": {},
   "outputs": [],
   "source": [
    "pge = 0.2\n",
    "peg = 0.5\n",
    "\n",
    "T = np.array([\n",
    "    [1 - pge, peg],\n",
    "    [pge, 1 - peg]\n",
    "])"
   ]
  },
  {
   "cell_type": "code",
   "execution_count": 20,
   "id": "f07ffda2-c80c-4759-9028-90a304db09de",
   "metadata": {},
   "outputs": [
    {
     "name": "stdout",
     "output_type": "stream",
     "text": [
      "Alle vektorer her skal leses som kolonnevektorer\n",
      "\n",
      "egenverdi:      0.3\n",
      "egenvektor:     [-1.  1.]\n",
      "A @ evenvektor: [-0.3  0.3]\n",
      "\n",
      "egenverdi:      1.0\n",
      "egenvektor:     [2.5 1. ]\n",
      "A @ evenvektor: [2.5 1. ]\n",
      "\n"
     ]
    }
   ],
   "source": [
    "skriv_ut_egenvektorer_og_multiplikasjon_med_matrise(T, finn_egenvektorer_og_egenverdier(T))"
   ]
  },
  {
   "cell_type": "markdown",
   "id": "9426e3c7-73ff-43c6-b397-3311215e79fc",
   "metadata": {},
   "source": [
    "som gir:\n",
    "\n",
    "$$\n",
    "\\frac{N_e}{N_g} = \\frac{p_{ge}}{p_{eg}}\n",
    "$$\n",
    "\n",
    "Dette tilsvarer den kontinuerlige versjonen, men er nå formulert for diskrete tidssteg.\n",
    "\n",
    "---\n",
    "\n",
    "### **Eksempelberegning**  \n",
    "Anta at vi har:\n",
    "- $ p_{ge} = 0.2 $ (20 % av molekylene går til eksitert tilstand per steg).\n",
    "- $ p_{eg} = 0.5 $ (50 % av molekylene slapper av tilbake per steg).\n",
    "- Initialpopulasjon: $ N_g(0) = 1000 $, $ N_e(0) = 0 $.\n",
    "\n",
    "Etter noen iterasjoner:\n",
    "\n",
    "1. **Steg 1:**\n",
    "   $$\n",
    "   \\mathbf{N}(1) = \\begin{bmatrix} 0.8 & 0.5 \\\\ 0.2 & 0.5 \\end{bmatrix} \\begin{bmatrix} 1000 \\\\ 0 \\end{bmatrix} = \\begin{bmatrix} 800 \\\\ 200 \\end{bmatrix}\n",
    "   $$\n",
    "\n",
    "2. **Steg 2:**\n",
    "   $$\n",
    "   \\mathbf{N}(2) = T \\mathbf{N}(1) = \\begin{bmatrix} 0.8 & 0.5 \\\\ 0.2 & 0.5 \\end{bmatrix} \\begin{bmatrix} 800 \\\\ 200 \\end{bmatrix} = \\begin{bmatrix} 700 \\\\ 300 \\end{bmatrix}\n",
    "   $$\n",
    "\n",
    "3. **Steg 10:** Systemet konvergerer til likevektsverdiene $ N_e/N_g = 0.2/0.5 = 2/5 $.\n",
    "\n",
    "---\n",
    "\n",
    "### **Anvendelser**  \n",
    "Denne diskret-tidsmodellen er nyttig i:\n",
    "- **Monte Carlo-simuleringer av molekylære overganger**.\n",
    "- **Fotonabsorpsjon/-emisjon i laserfysikk**.\n",
    "- **Kjemiske reaksjonsnettverk der reaksjoner skjer ved diskrete tidssteg**.\n",
    "\n",
    "Vil du at jeg skal simulere dette numerisk med et Python-eksempel?"
   ]
  },
  {
   "cell_type": "code",
   "execution_count": 21,
   "id": "b7807626-c800-4f05-819c-dd3e06d8a0cd",
   "metadata": {},
   "outputs": [
    {
     "data": {
      "image/png": "[encoded data removed]",
      "text/plain": [
       "<Figure size 800x500 with 1 Axes>"
      ]
     },
     "metadata": {},
     "output_type": "display_data"
    },
    {
     "name": "stdout",
     "output_type": "stream",
     "text": [
      "[3.56383983e+11 7.74747788e+10 4.64848673e+10]\n"
     ]
    }
   ],
   "source": [
    "import numpy as np\n",
    "import matplotlib.pyplot as plt\n",
    "\n",
    "# Define transition probabilities\n",
    "p_ge = 0.2  # Excitation (ground -> singlet)\n",
    "p_eg = 0.4  # Fluorescence (singlet -> ground)\n",
    "p_st = 0.3  # Inter-system crossing (singlet -> triplet)\n",
    "p_tg = 0.1  # Phosphorescence (triplet -> ground)\n",
    "\n",
    "# Transition matrix for the three-state system\n",
    "T = np.array([[1 - p_ge + p_eg + p_tg, p_eg, p_tg],  # Ground state\n",
    "              [p_ge, 1 - p_eg - p_st, p_st],         # Singlet excited state\n",
    "              [0, p_st, 1 - p_tg]])                 # Triplet excited state\n",
    "\n",
    "# Initial population: all molecules start in the ground state\n",
    "N0 = np.array([1000, 0, 0])\n",
    "\n",
    "# Number of time steps\n",
    "steps = 60\n",
    "\n",
    "# Store populations over time\n",
    "populations = np.zeros((steps, 3))\n",
    "populations[0] = N0\n",
    "\n",
    "# Iterate the population dynamics\n",
    "for t in range(1, steps):\n",
    "    populations[t] = T @ populations[t - 1]\n",
    "\n",
    "# Plot results\n",
    "plt.figure(figsize=(8, 5))\n",
    "plt.plot(populations[:, 0], label=\"Ground State (N_g)\", marker='o', linestyle='-')\n",
    "plt.plot(populations[:, 1], label=\"Singlet State (N_s)\", marker='s', linestyle='--')\n",
    "plt.plot(populations[:, 2], label=\"Triplet State (N_t)\", marker='d', linestyle='-.')\n",
    "plt.xlabel(\"Time Step\")\n",
    "plt.ylabel(\"Population\")\n",
    "plt.legend()\n",
    "plt.title(\"Three-State Population Dynamics Over 60 Steps\")\n",
    "plt.grid()\n",
    "plt.show()\n",
    "\n",
    "# Print final steady-state values\n",
    "print(populations[-1])\n"
   ]
  },
  {
   "cell_type": "code",
   "execution_count": null,
   "id": "472b1f08-f2f5-4e08-8e51-1e42951b7474",
   "metadata": {},
   "outputs": [],
   "source": []
  }
 ],
 "metadata": {
  "kernelspec": {
   "display_name": "Python 3 (ipykernel)",
   "language": "python",
   "name": "python3"
  },
  "language_info": {
   "codemirror_mode": {
    "name": "ipython",
    "version": 3
   },
   "file_extension": ".py",
   "mimetype": "text/x-python",
   "name": "python",
   "nbconvert_exporter": "python",
   "pygments_lexer": "ipython3",
   "version": "3.12.8"
  }
 },
 "nbformat": 4,
 "nbformat_minor": 5
}
