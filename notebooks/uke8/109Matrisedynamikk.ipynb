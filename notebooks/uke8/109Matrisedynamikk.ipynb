{
 "cells": [
  {
   "cell_type": "markdown",
   "id": "08992e08-ba16-4333-9c33-5199b0b211c0",
   "metadata": {},
   "source": [
    "## Matrisedynamikk (MIP 10.9)"
   ]
  },
  {
   "cell_type": "code",
   "execution_count": 1,
   "id": "b9cb8213-5b5c-461a-bd05-9506bdd9a2c2",
   "metadata": {},
   "outputs": [],
   "source": [
    "try:\n",
    "    import python_linear_algebra\n",
    "except:\n",
    "    !pip install python_linear_algebra@git+https://github.com/mbr085/python_linear_algebra\n",
    "    import python_linear_algebra\n",
    "    "
   ]
  },
  {
   "cell_type": "code",
   "execution_count": 2,
   "id": "bf916dcb-8059-4dc2-8013-cc0448ac2a23",
   "metadata": {},
   "outputs": [],
   "source": [
    "import numpy as np\n",
    "from python_linear_algebra.matrix_reduction import skriv_ut_egenvektorer_og_multiplikasjon_med_matrise\n",
    "from python_linear_algebra.matrix_reduction import skriv_ut_numpy_egenvektorer_og_multiplikasjon_med_matrise\n",
    "from python_linear_algebra.matrix_reduction import finn_egenvektorer_og_egenverdier\n",
    "from python_linear_algebra.matrix_reduction import gauss_jordan"
   ]
  },
  {
   "cell_type": "markdown",
   "id": "47c13193-c7ee-44ed-a44f-ce734ef8e415",
   "metadata": {},
   "source": [
    "## Laserindusert fluorescens (LIF)"
   ]
  },
  {
   "cell_type": "markdown",
   "id": "2a5e7904-bab8-4399-b0bc-8cdca5abaf65",
   "metadata": {},
   "source": [
    "Vi fortsetter vår undersøkelse av laserindusert fluorescens der vi fant overgangsmatrisen\n",
    "$$\n",
    "B = \\begin{bmatrix}\n",
    "  1-p & q \\\\\n",
    "  p & q\n",
    "\\end{bmatrix}\n",
    "$$\n",
    "med $p=0.02$ og $q = 0.05$."
   ]
  },
  {
   "cell_type": "markdown",
   "id": "70534dcc-72e7-4b01-8b27-9846dd598815",
   "metadata": {},
   "source": [
    "for de diskrete tidsstegene i Eulers metode."
   ]
  },
  {
   "cell_type": "markdown",
   "id": "c82e75ed-e5c7-4ddd-9935-eb8b5da183f5",
   "metadata": {},
   "source": [
    "### **Diskret tids populasjonsdynamikk med en overgangsmatrise**  \n",
    "Tenker vi på tidspunktene som diskrete verdier $t_0 = 0, t_1 = 1, \\dots$ \n",
    "uttrykkte vi populasjonsutviklingen som:  \n",
    "\n",
    "$$\n",
    "\\vec v(t+1) = B \\cdot \\vec v(t)\n",
    "$$"
   ]
  },
  {
   "cell_type": "markdown",
   "id": "3595af3b-4999-4bc3-b124-5d3afd95c406",
   "metadata": {},
   "source": [
    "hvor:\n",
    "\n",
    "- $ \\vec v(t) = \\begin{bmatrix} v_g(t) \\\\ v_e(t) \\end{bmatrix} $ representerer populasjonene i henholdsvis grunntilstand og eksitert tilstand ved tidspunkt $ t $.\n",
    "- $ B $ er **overgangsmatrisen**, som bestemmer hvordan populasjonene endrer seg mellom tidssteg.\n",
    "\n",
    "(Vi skrev $x$ i stedet for $v_g$ og $x_n$ i stedet for $v_g(t)$ for $t = t_n = t_0 + n$)"
   ]
  },
  {
   "cell_type": "markdown",
   "id": "bd63f3a2-afdf-493d-b547-78483527cad6",
   "metadata": {},
   "source": [
    "En **likevektstilstand**, er en tilstand $\\vec w = \\begin{bmatrix}w_g \\\\ w_e\\end{bmatrix}$ slik at\n",
    "\n",
    "$$\n",
    "B \\cdot \\vec w = \\vec w.\n",
    "$$\n",
    "\n",
    "For å finne likevektstilstandene løser vi:\n",
    "$$\n",
    "\\begin{bmatrix} \n",
    "1 - p & q \\\\ \n",
    "p & 1 - q \n",
    "\\end{bmatrix}\n",
    "\\begin{bmatrix} w_g \\\\ w_e \\end{bmatrix}\n",
    "=\n",
    "\\begin{bmatrix} w_g \\\\ w_e \\end{bmatrix}.\n",
    "$$"
   ]
  },
  {
   "cell_type": "markdown",
   "id": "13ad7a7e-6c63-48e7-b062-0948dd7f4dde",
   "metadata": {},
   "source": [
    "Det vil si at vi søker en egenvektor $\\vec w$ til $A$ med egenverdi $1$. Derfor rekkereuserer vi"
   ]
  },
  {
   "cell_type": "markdown",
   "id": "4941e169-9624-4740-88d4-b8c89ffcbf5d",
   "metadata": {},
   "source": [
    "$$A - 1\\cdot I = \n",
    "\\begin{bmatrix} \n",
    "1 - p & q \\\\ \n",
    "p & 1 - q \n",
    "\\end{bmatrix} -\n",
    "\\begin{bmatrix} 1 & 0 \\\\ 0 & 1 \\end{bmatrix}\n",
    "=\n",
    "\\begin{bmatrix} -p & q \\\\ p & -q \\end{bmatrix}\n",
    "\\sim\n",
    "\\begin{bmatrix} p & -q \\\\ 0 & 0 \\end{bmatrix}\n",
    ".\n",
    "$$"
   ]
  },
  {
   "cell_type": "markdown",
   "id": "4e1b5683-2123-4d19-b1c5-c98b8c079513",
   "metadata": {},
   "source": [
    "Her er andre parameter $w_e$ fri, og $pw_g - qw_e = 0$ slik at \n",
    "$$\\frac{w_g}{w_e} = \\frac{q}{p}$$"
   ]
  },
  {
   "cell_type": "markdown",
   "id": "f52a22b3-59a6-4453-bfe4-80530c5699b5",
   "metadata": {},
   "source": [
    "La oss sette inn tall igjen"
   ]
  },
  {
   "cell_type": "code",
   "execution_count": 3,
   "id": "09203754-c5bc-4e8c-b5af-324f2b500d3b",
   "metadata": {},
   "outputs": [],
   "source": [
    "p = 0.02 # (2 % av molekylene går til eksitert tilstand per steg).\n",
    "q = 0.05 # (5 % av molekylene slapper av tilbake per steg).\n",
    "\n",
    "B = np.array([\n",
    "    [1 - p, q],\n",
    "    [p, 1 - q]\n",
    "])"
   ]
  },
  {
   "cell_type": "code",
   "execution_count": 4,
   "id": "f07ffda2-c80c-4759-9028-90a304db09de",
   "metadata": {},
   "outputs": [
    {
     "name": "stdout",
     "output_type": "stream",
     "text": [
      "Alle vektorer her skal leses som kolonnevektorer\n",
      "\n",
      "egenverdi:      0.93\n",
      "egenvektor:     [-1.  1.]\n",
      "A @ evenvektor: [-0.93  0.93]\n",
      "\n",
      "egenverdi:      1.0\n",
      "egenvektor:     [2.5 1. ]\n",
      "A @ evenvektor: [2.5 1. ]\n",
      "\n"
     ]
    }
   ],
   "source": [
    "skriv_ut_egenvektorer_og_multiplikasjon_med_matrise(B, finn_egenvektorer_og_egenverdier(B))"
   ]
  },
  {
   "cell_type": "markdown",
   "id": "18383b88-a5ea-4141-9009-1db4852380ae",
   "metadata": {},
   "source": [
    "Egenwektoren $\\vec w = \\begin{bmatrix}w_g \\\\ w_e\\end{bmatrix} =  \\begin{bmatrix}2.5 \\\\ 1\\end{bmatrix}$ til egenverdien $1$ for $A$ har som forutsakt\n",
    "$$\\frac{w_g}{w_e} = \\frac{2.5}{1} = \\frac{0.05}{0.02} = \\frac{q}{p}.$$"
   ]
  },
  {
   "attachments": {},
   "cell_type": "markdown",
   "id": "b01ad957-c72d-4243-8117-c78cfd105186",
   "metadata": {},
   "source": [
    "La $\\vec u = \\begin{bmatrix}-1 \\\\ 1\\end{bmatrix}$ være egenvektoren til egenverdien $0.93$ for $B$ som vi fant ovenfor.\n",
    "\n",
    "Hvis $\\vec v(0) = \\vec w$, da er \n",
    "$\\vec v(1) = B \\cdot \\vec v(0) = B \\cdot \\vec w = 1 \\cdot \\vec w = \\vec w = \\vec v(0)$. Derfor er også \n",
    "$$\\vec v(2) = B \\cdot \\vec v(1) = B \\cdot \\vec v(0) = \\vec v(0).$$\n",
    "Fortsetter vi slik ser vi at $\\vec v(t) = \\vec v(0)$ for $t = 0, 1, 2, \\dots$\n",
    "\n",
    "\n",
    "Hvis $\\vec v(0) = \\vec u$, da er \n",
    "$\\vec v(1) = B \\cdot \\vec v(0) = B \\cdot \\vec u = 0.93 \\cdot \\vec w = 0.93 \\cdot \\vec v(0)$. Videre er \n",
    "$$\\vec v(2) = B \\cdot \\vec v(1) = B \\cdot (0.93 \\cdot \\vec v(0)) = 0.93 \\cdot (B \\cdot \\vec v(0)) = 0.93 \\cdot (0.93 \\cdot \\vec v(0)) = (0.93)^2 \\cdot \\vec v(0).$$\n",
    "Fortsetter vi slik ser vi at $\\vec v(t) = (0.93)^t \\cdot \\vec v(0)$ for $t = 0, 1, 2, \\dots$\n",
    "I allmindelighet vet vi da at $\\vec v(t) = B^t \\cdot \\vec v(0)$ for $t = 0, 1, 2, \\dots$. (Hvorfor vet vi det?)"
   ]
  },
  {
   "cell_type": "markdown",
   "id": "39a326a1-89e4-4ece-af83-f66eb5607c9c",
   "metadata": {},
   "source": [
    "#### Eksempel"
   ]
  },
  {
   "cell_type": "markdown",
   "id": "15734486-00ce-40df-8623-92c4b6a8d74d",
   "metadata": {},
   "source": [
    "La oss si at $v(0) = \\begin{bmatrix}1\\\\0\\end{bmatrix}$. Da får vi"
   ]
  },
  {
   "cell_type": "code",
   "execution_count": 5,
   "id": "a1b4b0a1-b5a7-4a05-84c8-25401cf2c0e3",
   "metadata": {},
   "outputs": [],
   "source": [
    "v_0 = np.array([[1],[0]])"
   ]
  },
  {
   "cell_type": "code",
   "execution_count": 6,
   "id": "ab7fd6a0-6fe7-4f8b-a8f3-3c51036cb4b5",
   "metadata": {},
   "outputs": [
    {
     "data": {
      "text/plain": [
       "array([[0.98],\n",
       "       [0.02]])"
      ]
     },
     "execution_count": 6,
     "metadata": {},
     "output_type": "execute_result"
    }
   ],
   "source": [
    "v_1 = B @ v_0\n",
    "v_1"
   ]
  },
  {
   "cell_type": "code",
   "execution_count": 7,
   "id": "58a4768d-f6a7-4ef4-b386-b203088ebba5",
   "metadata": {},
   "outputs": [
    {
     "data": {
      "text/plain": [
       "array([[0.9614],\n",
       "       [0.0386]])"
      ]
     },
     "execution_count": 7,
     "metadata": {},
     "output_type": "execute_result"
    }
   ],
   "source": [
    "v_2 = B @ v_1\n",
    "v_2"
   ]
  },
  {
   "cell_type": "code",
   "execution_count": 8,
   "id": "865a14b8-39f7-4ccc-9991-5c10dc2d8fa9",
   "metadata": {},
   "outputs": [
    {
     "data": {
      "text/plain": [
       "array([[0.944102],\n",
       "       [0.055898]])"
      ]
     },
     "execution_count": 8,
     "metadata": {},
     "output_type": "execute_result"
    }
   ],
   "source": [
    "v_3 = B @ v_2\n",
    "v_3"
   ]
  },
  {
   "cell_type": "code",
   "execution_count": 9,
   "id": "f33841fe-f5a8-402a-bdcf-cbd2c8cbd0b1",
   "metadata": {},
   "outputs": [
    {
     "data": {
      "text/plain": [
       "array([[0.92801486],\n",
       "       [0.07198514]])"
      ]
     },
     "execution_count": 9,
     "metadata": {},
     "output_type": "execute_result"
    }
   ],
   "source": [
    "v_4 = B @ v_3\n",
    "v_4"
   ]
  },
  {
   "cell_type": "code",
   "execution_count": 10,
   "id": "0cb70841-08cb-4813-82e4-4385caa2dfbc",
   "metadata": {},
   "outputs": [
    {
     "data": {
      "text/plain": [
       "array([[0.91305382],\n",
       "       [0.08694618]])"
      ]
     },
     "execution_count": 10,
     "metadata": {},
     "output_type": "execute_result"
    }
   ],
   "source": [
    "v_5 = B @ v_4\n",
    "v_5"
   ]
  },
  {
   "cell_type": "markdown",
   "id": "72e91a4e-9f93-48a0-99d2-c69ed882e530",
   "metadata": {},
   "source": [
    "La oss igjen lage en liste av tillstander og plotte med antall tidssteg lang x-aksen"
   ]
  },
  {
   "cell_type": "code",
   "execution_count": 11,
   "id": "b0a9c97f-7156-414a-99ee-fc0e432a9fc9",
   "metadata": {},
   "outputs": [],
   "source": [
    "def populasjons_utvikling(overgangsmatrise, initial_tilstand, antall_steg):\n",
    "    v = [initial_tilstand]\n",
    "    for _ in range(antall_steg):\n",
    "        v.append(overgangsmatrise @ v[-1])\n",
    "    return np.hstack(v)"
   ]
  },
  {
   "cell_type": "code",
   "execution_count": 12,
   "id": "7bf817cf-0929-4c70-a94f-96b846c5bfd9",
   "metadata": {},
   "outputs": [],
   "source": [
    "v = populasjons_utvikling(B, v_0, 100)"
   ]
  },
  {
   "cell_type": "code",
   "execution_count": 13,
   "id": "32a1b113-4c10-45eb-88ed-4f3f80b26831",
   "metadata": {},
   "outputs": [],
   "source": [
    "import matplotlib.pyplot as plt"
   ]
  },
  {
   "cell_type": "code",
   "execution_count": 14,
   "id": "5c430eca-2c24-4f63-8152-e3a3c98f5857",
   "metadata": {},
   "outputs": [
    {
     "data": {
      "text/plain": [
       "<matplotlib.legend.Legend at 0x7f6187edbc80>"
      ]
     },
     "execution_count": 14,
     "metadata": {},
     "output_type": "execute_result"
    },
    {
     "data": {
      "image/png": "[encoded data removed]",
      "text/plain": [
       "<Figure size 640x480 with 1 Axes>"
      ]
     },
     "metadata": {},
     "output_type": "display_data"
    }
   ],
   "source": [
    "plt.plot(v[0], label='grunntillstand')\n",
    "plt.plot(v[1], label='eksitert tillstand')\n",
    "plt.xlabel('tidssteg (nanosekunder)')\n",
    "plt.ylabel('populasjonsstørrelse')\n",
    "plt.legend()"
   ]
  },
  {
   "cell_type": "markdown",
   "id": "1603a168-7538-49f4-b467-c202c3057f83",
   "metadata": {},
   "source": [
    "### **Iterasjon av populasjonsdynamikken**  "
   ]
  },
  {
   "cell_type": "markdown",
   "id": "a44023fd-cea8-4bb6-a514-e23f2eaa5f69",
   "metadata": {},
   "source": [
    "Med en initialpopulasjon $ \\vec v(0) $ kan vi beregne fremtidige populasjoner som:\n",
    "\n",
    "$$\n",
    "\\vec v(t) = B^t \\cdot \\vec v(0)  \\qquad \\text{(hvorfor er det sant?)}\n",
    "$$"
   ]
  },
  {
   "cell_type": "markdown",
   "id": "8463dc59-3fc3-48ac-850a-ea848d70e63f",
   "metadata": {},
   "source": [
    "La oss sjekke at $\\vec v(5) = B^5 \\cdot \\vec v(0)$:"
   ]
  },
  {
   "cell_type": "code",
   "execution_count": 15,
   "id": "53cb4a2b-52bf-4726-b3b5-288dbe01c684",
   "metadata": {},
   "outputs": [
    {
     "data": {
      "text/plain": [
       "(array([[0.91305382],\n",
       "        [0.08694618]]),\n",
       " array([[0.91305382],\n",
       "        [0.08694618]]))"
      ]
     },
     "execution_count": 15,
     "metadata": {},
     "output_type": "execute_result"
    }
   ],
   "source": [
    "v_5, np.linalg.matrix_power(B, 5) @ v_0"
   ]
  },
  {
   "cell_type": "markdown",
   "id": "8dec1760-2ab9-4ed1-8462-bd8d702c9e6c",
   "metadata": {},
   "source": [
    "La oss se på $\\vec v(10)$ og $\\vec v(100)$:"
   ]
  },
  {
   "cell_type": "code",
   "execution_count": 16,
   "id": "f7aa7c11-0fd5-46e1-a9e3-f2a66c880809",
   "metadata": {},
   "outputs": [
    {
     "data": {
      "text/plain": [
       "array([[0.85256637],\n",
       "       [0.14743363]])"
      ]
     },
     "execution_count": 16,
     "metadata": {},
     "output_type": "execute_result"
    }
   ],
   "source": [
    "np.linalg.matrix_power(B, 10) @ v_0"
   ]
  },
  {
   "cell_type": "code",
   "execution_count": 17,
   "id": "30317c75-fa66-4bc9-a80c-bc0e2b6705e5",
   "metadata": {},
   "outputs": [
    {
     "data": {
      "text/plain": [
       "array([[0.71448719],\n",
       "       [0.28551281]])"
      ]
     },
     "execution_count": 17,
     "metadata": {},
     "output_type": "execute_result"
    }
   ],
   "source": [
    "np.linalg.matrix_power(B, 100) @ v_0"
   ]
  },
  {
   "cell_type": "markdown",
   "id": "cc84a573-f1e8-4ffc-9d15-7f3a39929900",
   "metadata": {},
   "source": [
    "De er jo nesten kliss like. La oss se om det går an å forklare det."
   ]
  },
  {
   "cell_type": "markdown",
   "id": "51b640e8-f77d-4c6d-9ae6-b7769ab452a9",
   "metadata": {},
   "source": [
    "La oss tenke oss at vi kan skrive $\\vec v(0)$ på formen $\\vec v(0) = x \\vec u + y \\vec w$. Da blir\n",
    "$$\\vec v(1) = B \\cdot \\vec v(0) = B \\cdot(x \\vec u + y \\vec w) = B \\cdot (x \\vec u) + B \\cdot(y \\vec w) = x B \\cdot \\vec u + y B \\cdot \\vec w = 0.93 \\cdot x \\cdot \\vec u + y \\cdot \\vec w.$$"
   ]
  },
  {
   "cell_type": "markdown",
   "id": "f03539a9-97e7-4de0-b09f-d7dd48200357",
   "metadata": {},
   "source": [
    "For $t = 0,1,2, \\dots$ blir\n",
    "$$\\vec v(t) = B^t \\cdot \\vec v(0) = B^t \\cdot(x \\vec u + y \\vec w) = B^t \\cdot (x \\vec u) + B^t \\cdot(y \\vec w) = x B^t \\cdot \\vec u + y B^t \\cdot \\vec w = (0.93)^t \\cdot x \\cdot \\vec u + y \\cdot \\vec w.$$"
   ]
  },
  {
   "cell_type": "markdown",
   "id": "04ddb60e-275d-4bbc-be32-d30345353a91",
   "metadata": {},
   "source": [
    "Når $t$ blir stor blir tallet $(0.93)^t$ veldig liten, så $\\vec v(t)$ blir nesten lik $y \\cdot \\vec w$."
   ]
  },
  {
   "cell_type": "markdown",
   "id": "db537221-6292-4dee-96fb-fe47f5b603f8",
   "metadata": {},
   "source": [
    "For $\\vec v(0) = \\begin{bmatrix}1\\\\0\\end{bmatrix}$, er det da mulig å finne $x$ og $y$ slik at $\\vec v(0) = x \\vec u + y \\vec w$?"
   ]
  },
  {
   "cell_type": "markdown",
   "id": "41099731-5890-4b33-8d63-80ac2785966b",
   "metadata": {},
   "source": [
    "Uttrykket $\\vec v(0) = x \\vec u + y \\vec w$ kan skrives som ligningssystemet\n",
    "$$\n",
    "\\begin{array}{rcrcr}\n",
    "-x &+& 2.5\\cdot y &=& 1\\\\\n",
    "x &+& y &=& 0\n",
    "\\end{array}\n",
    "$$"
   ]
  },
  {
   "cell_type": "markdown",
   "id": "5884de32-aef2-45d7-9382-b7ccc2c287b5",
   "metadata": {},
   "source": [
    "Dette kan vi løse med Gauss Jordan eliminasjon"
   ]
  },
  {
   "cell_type": "code",
   "execution_count": 18,
   "id": "7bd59329-c190-47cd-ae64-1a4e3c8fe63d",
   "metadata": {},
   "outputs": [],
   "source": [
    "M = np.array([\n",
    "    [-1, 2.5, 1],\n",
    "    [1, 1, 0]\n",
    "])"
   ]
  },
  {
   "cell_type": "code",
   "execution_count": 19,
   "id": "934217a0-b8c2-40a7-861b-c46a3022ddb5",
   "metadata": {},
   "outputs": [
    {
     "data": {
      "text/plain": [
       "array([[ 1.        ,  0.        , -0.28571429],\n",
       "       [ 0.        ,  1.        ,  0.28571429]])"
      ]
     },
     "execution_count": 19,
     "metadata": {},
     "output_type": "execute_result"
    }
   ],
   "source": [
    "gauss_jordan(M)"
   ]
  },
  {
   "cell_type": "markdown",
   "id": "1393653d-dbf4-4d20-b77c-420c4c704011",
   "metadata": {},
   "source": [
    "La oss lese ut $x$ og $y$ gitt i siste kolonne:"
   ]
  },
  {
   "cell_type": "code",
   "execution_count": 20,
   "id": "a4640ab5-4d4f-4185-8508-fae693e97c81",
   "metadata": {},
   "outputs": [],
   "source": [
    "x, y = gauss_jordan(M)[:, -1]"
   ]
  },
  {
   "cell_type": "code",
   "execution_count": 21,
   "id": "8768f562-2d31-4d82-b0aa-9497315ef500",
   "metadata": {},
   "outputs": [
    {
     "data": {
      "text/plain": [
       "(np.float64(-0.28571428571428575), np.float64(0.28571428571428575))"
      ]
     },
     "execution_count": 21,
     "metadata": {},
     "output_type": "execute_result"
    }
   ],
   "source": [
    "x, y"
   ]
  },
  {
   "cell_type": "markdown",
   "id": "a50fb2df-f867-4fa4-a29f-4b57bece3e4c",
   "metadata": {},
   "source": [
    "La oss dobbelsjekke at $\\vec v(0) = x \\vec u + y \\vec w$"
   ]
  },
  {
   "cell_type": "code",
   "execution_count": 22,
   "id": "e9a74daa-c841-465c-aa2e-612d35e7a35b",
   "metadata": {},
   "outputs": [
    {
     "data": {
      "text/plain": [
       "(array([[1],\n",
       "        [0]]),\n",
       " array([[1.],\n",
       "        [0.]]))"
      ]
     },
     "execution_count": 22,
     "metadata": {},
     "output_type": "execute_result"
    }
   ],
   "source": [
    "u = np.array([[-1],[1]])\n",
    "w = np.array([[2.5], [1]])\n",
    "v_0, x*u + y*w"
   ]
  },
  {
   "cell_type": "code",
   "execution_count": 23,
   "id": "09271aae-b7c0-4708-a956-ae09b0a8da5f",
   "metadata": {},
   "outputs": [
    {
     "data": {
      "text/plain": [
       "True"
      ]
     },
     "execution_count": 23,
     "metadata": {},
     "output_type": "execute_result"
    }
   ],
   "source": [
    "np.allclose(v_0, x*u + y*w)"
   ]
  },
  {
   "cell_type": "markdown",
   "id": "2de0b7a0-2171-4bc0-a95f-12af8dcf3d01",
   "metadata": {},
   "source": [
    "La oss sjekke at $\\vec v(4) = (0.93)^4 \\cdot x \\cdot \\vec u + y \\cdot \\vec w$"
   ]
  },
  {
   "cell_type": "code",
   "execution_count": 24,
   "id": "8e74d2a1-dc47-49de-be0c-5a838c55119b",
   "metadata": {},
   "outputs": [
    {
     "data": {
      "text/plain": [
       "(array([[0.92801486],\n",
       "        [0.07198514]]),\n",
       " array([[0.92801486],\n",
       "        [0.07198514]]))"
      ]
     },
     "execution_count": 24,
     "metadata": {},
     "output_type": "execute_result"
    }
   ],
   "source": [
    "v_4, (0.93)**4*x*u + y*w"
   ]
  },
  {
   "cell_type": "code",
   "execution_count": 25,
   "id": "726a561d-a4f9-414c-988f-acdf98e1483b",
   "metadata": {},
   "outputs": [
    {
     "data": {
      "text/plain": [
       "True"
      ]
     },
     "execution_count": 25,
     "metadata": {},
     "output_type": "execute_result"
    }
   ],
   "source": [
    "np.allclose(v_4, (0.93)**4*x*u + y*w)"
   ]
  },
  {
   "cell_type": "code",
   "execution_count": 26,
   "id": "a6c89877-7a05-4512-afb9-981523ab8e99",
   "metadata": {},
   "outputs": [],
   "source": [
    "t = 10"
   ]
  },
  {
   "cell_type": "code",
   "execution_count": 27,
   "id": "486f81d7-95d2-4756-9589-345643d037db",
   "metadata": {},
   "outputs": [
    {
     "data": {
      "text/plain": [
       "True"
      ]
     },
     "execution_count": 27,
     "metadata": {},
     "output_type": "execute_result"
    }
   ],
   "source": [
    "np.allclose(np.linalg.matrix_power(B, t) @ v_0, (0.93)**t *x*u + y*w)"
   ]
  },
  {
   "cell_type": "code",
   "execution_count": 28,
   "id": "f1a19571-7bd8-4b50-a7e8-9348526e7e90",
   "metadata": {},
   "outputs": [],
   "source": [
    "t = 100"
   ]
  },
  {
   "cell_type": "code",
   "execution_count": 29,
   "id": "273475b5-5824-45ae-aa56-11535df3e972",
   "metadata": {},
   "outputs": [
    {
     "data": {
      "text/plain": [
       "True"
      ]
     },
     "execution_count": 29,
     "metadata": {},
     "output_type": "execute_result"
    }
   ],
   "source": [
    "np.allclose(np.linalg.matrix_power(B, t) @ v_0, (0.93)**t *x*u + y*w)"
   ]
  },
  {
   "cell_type": "markdown",
   "id": "02856c2d-68cd-4c0b-be3b-b43b6f401350",
   "metadata": {},
   "source": [
    "## Oppgave"
   ]
  },
  {
   "cell_type": "markdown",
   "id": "c7648165-53cf-4ce3-8c7c-94a740418e91",
   "metadata": {},
   "source": [
    "La oss si at $B$ er en matrise på formen\n",
    "$$B = \\begin{bmatrix}1-p&q\\\\p&1-q\\end{bmatrix}$$ der $p$ og $q$ er tall mellom $0$ og $1$.\n",
    "1. Beregn determinanten $$\\det(B-tI) = \\begin{vmatrix}1-p-t&q\\\\p&1-q-t\\end{vmatrix}$$ som et polynom i $t$.\n",
    "2. Sjekk at evenverdiene $t_1$ og $t_2$ til $B$ er $1$ og $1-p-q$.\n",
    "3. Finn egenvektorene til $B$. Gi egenvektoren til egenverdien $t_1 = 1$ navnet $\\vec w$ og gi den andre egenvektoren navnet $\\vec u$. \n",
    "4. Gitt en vektor $\\vec v(0) = \\begin{bmatrix}v_e(0) \\\\v_g(0)\\end{bmatrix}$, finn formler for tallene $x$ og $y$ slik at $x\\cdot \\vec w + y \\cdot \\vec u = \\vec v(0)$.\n",
    "5. La $\\vec v(1) = B \\cdot \\vec t(0)$ og $\\vec v(2) = B\\cdot \\vec v(1)$ og så videre. Forklar at hvis $p + q > 0$ da nærmer $\\vec v(t)$ seg $\\vec w$ når $t$ blir stor.\n"
   ]
  },
  {
   "cell_type": "code",
   "execution_count": null,
   "id": "85a0753c-59f6-4b4f-bf5c-dbf2856164f5",
   "metadata": {},
   "outputs": [],
   "source": []
  }
 ],
 "metadata": {
  "kernelspec": {
   "display_name": "Python 3 (ipykernel)",
   "language": "python",
   "name": "python3"
  },
  "language_info": {
   "codemirror_mode": {
    "name": "ipython",
    "version": 3
   },
   "file_extension": ".py",
   "mimetype": "text/x-python",
   "name": "python",
   "nbconvert_exporter": "python",
   "pygments_lexer": "ipython3",
   "version": "3.12.8"
  }
 },
 "nbformat": 4,
 "nbformat_minor": 5
}
