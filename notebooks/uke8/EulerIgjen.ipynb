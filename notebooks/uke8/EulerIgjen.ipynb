{
 "cells": [
  {
   "cell_type": "markdown",
   "id": "7506c361-cd1b-4ee2-8688-e5058ed3253e",
   "metadata": {},
   "source": [
    "# Euler Igjen (MIP 11.2 og 10.9)"
   ]
  },
  {
   "cell_type": "markdown",
   "id": "f5052df5-2a5e-455c-a12f-c953314e65f8",
   "metadata": {},
   "source": [
    "## **Matriser og system av differensialligninger**"
   ]
  },
  {
   "cell_type": "markdown",
   "id": "b76cd2e8-89ae-41a8-a66a-6e0c5044cc10",
   "metadata": {
    "id": "6a4a2474-0c24-49b3-a301-f6660df3d128"
   },
   "source": [
    "Vi har sett på systemer av førsteordens differensialligninger på formen\n",
    "$$\n",
    "\\begin{align}\n",
    "  x'(t) &= f(t,x(t), y(t)), \\newline\n",
    "  y'(t) &= g(t,x(t), y(t))\n",
    "\\end{align}\n",
    "$$\n",
    "for funksjoner\n",
    "$$\n",
    "\\begin{align}\n",
    "\\mathbb{R}^3 &\\xrightarrow f \\mathbb{R}, \\newline\n",
    "(t, x, y) &\\mapsto f(t, x, y)\n",
    "\\end{align}\n",
    "$$\n",
    "og\n",
    "\n",
    "$$\n",
    "\\begin{align}\n",
    "\\mathbb{R}^3 &\\xrightarrow g \\mathbb{R}, \\newline\n",
    "(t, x) &\\mapsto g(t, x, y).\n",
    "\\end{align}\n",
    "$$\n"
   ]
  },
  {
   "cell_type": "markdown",
   "id": "9eb1cdf3-a85b-4508-8ab4-02757b02b932",
   "metadata": {},
   "source": [
    "---"
   ]
  },
  {
   "cell_type": "markdown",
   "id": "dbbaba68-25a2-4aa8-bdb8-24c333e0e915",
   "metadata": {},
   "source": [
    "Vi vil nå se på en enkel versjon av slike systemer der det finnes tall $p, q, r$ og $s$ slik at systemet er på formen\n",
    "$$\n",
    "\\begin{align}\n",
    "  x'(t) &= p \\cdot x(t) +  q \\cdot y(t) \\\\\n",
    "  y'(t) &= r \\cdot x(t) + s \\cdot y(t))\n",
    "\\end{align}\n",
    "$$"
   ]
  },
  {
   "cell_type": "markdown",
   "id": "ab52dc81-b629-4a3d-8088-9d9d5ec75fb8",
   "metadata": {},
   "source": [
    "Hvis vi lar \n",
    "$A = \\begin{bmatrix}p&q\\\\r&s\\end{bmatrix}$ så kan dette skrives \n",
    "$$\\begin{bmatrix}x'(t)\\\\y'(t)\\end{bmatrix}\n",
    "= \\begin{bmatrix}p&q\\\\r&s\\end{bmatrix} \\cdot \\begin{bmatrix}x(t)\\\\y(t)\\end{bmatrix}\n",
    "= A \\cdot \\begin{bmatrix}x(t)\\\\y(t)\\end{bmatrix}$$\n",
    "Skriver vi \n",
    "$\\vec v(t) = \\begin{bmatrix}x(t)\\\\y(t)\\end{bmatrix}$\n",
    "er den koordinatvis deriverte til $\\vec v(t)$ gitt ved formelen\n",
    "$\\vec v'(t) = \\begin{bmatrix}x'(t)\\\\y'(t)\\end{bmatrix}$, og systemet av differensialligninger kan skrives\n",
    "$$\\vec v'(t) = A \\cdot \\vec v(t).$$"
   ]
  },
  {
   "cell_type": "markdown",
   "id": "2d8f1a3a-ad69-47e1-8876-12e9bb938584",
   "metadata": {
    "id": "0464499a-2491-4d0c-beb5-b0a2b776768f",
    "jp-MarkdownHeadingCollapsed": true
   },
   "source": [
    "Hvis en starttid $t_0$ og en starttilstand $v_0 = \\begin{bmatrix}x_0\\\\y_0\\end{bmatrix}$ er gitt kan vi velge en skrittlengde $\\Delta t$ og numerisk approksimere løsningen til denne differensialligningen med Eulers metode.\n",
    "Ser vi tilbake på Eulers metode approksimerer vi $x(t_0 + \\Delta t)$ og $y(t_0 + \\Delta t)$ med\n",
    "$$\n",
    "\\begin{align}\n",
    "  x(t_0 + \\Delta t) &\\approx x_0 + \\Delta t \\cdot (p x_0 + q y_0) \\\\\n",
    "  y(t_0 + \\Delta t) &\\approx y_0 + \\Delta t \\cdot (r x_0 + s y_0).\n",
    "\\end{align}\n",
    "$$\n",
    "Vi setter nå\n",
    "$$\n",
    "\\begin{align}\n",
    "  x_1 &= x_0 + \\Delta t \\cdot (p x_0 + q y_0) \\\\\n",
    "  y_1 &= y_0 + \\Delta t \\cdot (r x_0 + s y_0),\n",
    "\\end{align}\n",
    "$$\n",
    "og $t_1 = t_0 + \\Delta t$.\n",
    "Vi fortsetter på denne måten. Etter å ha funnet $x_0, x_1, \\dots, x_n$ og\n",
    "$y_0, y_1, \\dots, y_n$ setter vi\n",
    "$$\n",
    "\\begin{align}\n",
    "  x_{n+1} &= x_n + \\Delta t \\cdot (p x_n + q y_n) \\\\\n",
    "  y_{n+1} &= y_n + \\Delta t \\cdot (r x_n + s y_n),\n",
    "\\end{align}\n",
    "$$\n",
    "der $t_n = t_0 + n \\Delta t$."
   ]
  },
  {
   "cell_type": "markdown",
   "id": "695ee008-370d-4bda-8d19-275b7a877801",
   "metadata": {},
   "source": [
    "Jeg har lyst til å skrive dette i matrisenotasjon: Hvis jeg lar $B$ være matrisen \n",
    "$$B = I + \\Delta t \\cdot A = \\begin{bmatrix}1 + \\Delta t \\cdot p&\\Delta t \\cdot q\\\\\\Delta t \\cdot r&1 + \\Delta t \\cdot s\\end{bmatrix},$$\n",
    "da er\n",
    "$$\n",
    "\\vec v_1 =\n",
    "\\begin{bmatrix}\n",
    "  x_1 \\\\\n",
    "  y_1\n",
    "\\end{bmatrix}\n",
    "=\n",
    "\\begin{bmatrix}\n",
    "  x_0 + \\Delta t \\cdot (px_0 + qy_0) \\\\\n",
    "  y_0 + \\Delta t \\cdot (rx_0 + sy_0)\n",
    "\\end{bmatrix}\n",
    "=\n",
    "\\begin{bmatrix}\n",
    "  (1 + \\Delta t \\cdot p)x_0 + \\Delta t \\cdot qy_0 \\\\\n",
    "  \\Delta t \\cdot rx_0 + (1 + \\Delta t \\cdot s)y_0\n",
    "\\end{bmatrix}\n",
    "=\n",
    "\\begin{bmatrix}\n",
    "  (1 + \\Delta t \\cdot p) & \\Delta t \\cdot q \\\\\n",
    "  \\Delta t \\cdot r & (1 + \\Delta t \\cdot s)\n",
    "\\end{bmatrix}\n",
    "\\begin{bmatrix}\n",
    "  x_0 \\\\\n",
    "  y_0\n",
    "\\end{bmatrix}\n",
    "= \n",
    "B \\cdot \\vec v_0\n",
    "$$\n",
    "\n"
   ]
  },
  {
   "cell_type": "markdown",
   "id": "f5a07d25-8fc7-4711-805e-a066e52a8882",
   "metadata": {},
   "source": [
    "Tilsvarende er $\\vec v_2 = B \\cdot \\vec v_1 = B \\cdot (B \\cdot \\vec v_0) = B^2 \\cdot \\vec v_0$ og $\\vec v_{n+1} = B \\cdot \\vec v_n = B \\cdot (B^n \\cdot \\vec v_0) = B^{n+1} \\cdot \\vec v_0$."
   ]
  },
  {
   "cell_type": "markdown",
   "id": "574bb548-3d6a-4749-a5c3-87d40f7cd3a1",
   "metadata": {},
   "source": [
    "**Dette er et eksempel på matrisedynamikk: $\\vec v_n = B^n \\vec v_0$.**"
   ]
  },
  {
   "cell_type": "markdown",
   "id": "d4ccaf09-4b50-40f4-8363-6cac1c1ade46",
   "metadata": {},
   "source": [
    "# **Laserindusert fluourscens (LIF)**"
   ]
  },
  {
   "cell_type": "markdown",
   "id": "04eba21c-a9d8-4627-b38d-0115a3e40536",
   "metadata": {},
   "source": [
    "Et eksempel på **et system av lineære differensialligninger i kjemi** oppstår i **laserkjemi**, spesielt i samspillet mellom molekyler og lys. Et kjent tilfelle er **vibrasjons- eller elektronisk populasjonsdynamikk i eksiterte tilstander**.  \n",
    "\n",
    "---"
   ]
  },
  {
   "cell_type": "markdown",
   "id": "4b0fc8ea-7d0c-4064-8637-b5105a241325",
   "metadata": {},
   "source": [
    "Når et molekyl absorberer en foton fra en laser, blir det eksitert til en høyere elektronisk eller vibrasjonsmessig tilstand. Populasjonen av molekyler i den eksiterte tilstanden utvikler seg over tid på grunn av:"
   ]
  },
  {
   "cell_type": "markdown",
   "id": "b7a3e060-3001-4308-965e-df0ef72154af",
   "metadata": {},
   "source": [
    "1. **Spontan emisjon** – Molekylet går tilbake til grunntilstanden ved å sende ut en foton.  \n",
    "2. **Stimuleret emisjon** – En annen foton med samme energi kan indusere molekylet til å sende ut lys.  \n",
    "3. **Ikke-radiativ relaksasjon** – Molekylet mister energi uten å sende ut lys (f.eks. via kollisjoner eller intern konvertering).  "
   ]
  },
  {
   "cell_type": "markdown",
   "id": "5dda370c-9a43-4bc6-8bd6-2bb768c6b233",
   "metadata": {},
   "source": [
    "**Rate-ligningene** som beskriver disse overgangene, er et eksempel på **populasjonsdynamikk** i kjemi. Dette modelleres ofte ved hjelp av **Boltzmann-fordelingen** eller **rate-ligninger som Einstein-koeffisientene**.  \n",
    "\n",
    "Denne typen populasjonsdynamikk er avgjørende for å forstå **reaksjonskinetikk, spektroskopi og fotokjemi**."
   ]
  },
  {
   "cell_type": "markdown",
   "id": "11414165-e394-4897-be73-bba035e18eb6",
   "metadata": {},
   "source": [
    "### **Kontinuerlig tids populasjonsdynamikk med en overgangsmatrise**  \n",
    "Vi \n",
    "uttrykker populasjonsutviklingen som:  \n",
    "\n",
    "$$\n",
    "\\frac{d}{dt} \\vec v(t) = A \\cdot \\vec v(t)\n",
    "$$"
   ]
  },
  {
   "cell_type": "markdown",
   "id": "8dcfe01d-9e99-43b9-80d6-d0db311b86d3",
   "metadata": {},
   "source": [
    "hvor:\n",
    "\n",
    "- $ \\vec v(t) = \\begin{bmatrix} v_g(t) \\\\ v_e(t) \\end{bmatrix} $ representerer populasjonene ved tidspunkt $ t $.\n",
    "- $ \\frac {d}{dt} \\vec v(t) = \\begin{bmatrix} \\frac{d}{dt}v_g(t) \\\\ \\frac{d}{dt}v_e(t) \\end{bmatrix} $ representerer endringsratene til populasjonene ved tidspunkt $ t $. (Husk at $\\frac{d}{dt} f(t) = f'(t)$.)\n",
    "- $ A $ er **overgangsmatrisen**, som bestemmer hvordan populasjonene endrer seg over tid.\n",
    "\n",
    "Et enkelt valg for $ A $ er:\n",
    "\n",
    "$$\n",
    "A = \\begin{bmatrix} \n",
    "- p & q \\\\ \n",
    "p & - q \n",
    "\\end{bmatrix}\n",
    "$$\n",
    "\n",
    "hvor:\n",
    "- $ p $ er sannsynligheten for overgang fra grunntilstanden til den eksiterte tilstanden.\n",
    "- $ q $ er sannsynligheten for overgang fra den eksiterte tilstanden til grunntilstanden.\n",
    "\n",
    "---"
   ]
  },
  {
   "cell_type": "markdown",
   "id": "63020116-c24f-4fc7-a2da-521cc2600877",
   "metadata": {},
   "source": [
    "## **Natrium ($\\text{Na}$)**  \n",
    "Natriumatomer har en kjent elektronisk overgang:  \n",
    "- **Grunntilstand:** $ 3s $  \n",
    "- **Eksitert tilstand:** $ 3p $  \n",
    "\n",
    "Dette gir en typisk LIF-prosess:  \n",
    "$$\n",
    "3s \\xrightarrow{\\text{Laser}} 3p \\xrightarrow{\\text{Fluorescens}} 3s + h\\nu\n",
    "$$\n",
    "hvor atomet emitterer lys med bølgelengde **589 nm** (den gule natrium D-linjen).  \n",
    "\n",
    "---"
   ]
  },
  {
   "cell_type": "markdown",
   "id": "e6b3e75b-5f29-4b5b-8278-5a9db703564a",
   "metadata": {},
   "source": [
    "For en kraftig laser er \n",
    "p = 0.2 og q = 0.5 i overgangsmatrisen realistiske verdier hvis tid regnes i enheter av nanosekunder slik at\n",
    "$$\n",
    "A = \\begin{bmatrix} \n",
    "- 0.2 & 0.5 \\\\ \n",
    "0.2 & - 0.5 \n",
    "\\end{bmatrix}\n",
    "$$"
   ]
  },
  {
   "cell_type": "markdown",
   "id": "009d3f18-b576-4934-8e65-f78138dbc533",
   "metadata": {},
   "source": [
    "I stedet for å angi absolutt antall atomer angir vi andel av atomer i hver tilstant. Gitt en utgangstilstand på formen \n",
    "$$\n",
    "\\vec v_0 =\n",
    "\\begin{bmatrix}\n",
    "  1 \\\\\n",
    "  0\n",
    "\\end{bmatrix}\n",
    "$$\n",
    "og en skrittlengde $\\Delta t = 1$ har vi \n",
    "$$\n",
    "B = I + \\Delta t \\cdot A\n",
    "= \\begin{bmatrix}\n",
    "  1 + \\Delta t \\cdot (-0.2) & \\Delta t \\cdot 0.5 \\\\\n",
    "  \\Delta t \\cdot 0.2 & 1 + \\Delta t \\cdot (-0.5)\n",
    "\\end{bmatrix}\n",
    "$$\n",
    "som blir\n",
    "$$\n",
    "B = I + A\n",
    "= \\begin{bmatrix}\n",
    "  1 -0.2 & 0.5 \\\\\n",
    "  0.2 & 1 -0.5\n",
    "\\end{bmatrix}\n",
    "= \\begin{bmatrix}\n",
    "  0.8 & 0.5 \\\\\n",
    "  0.2 & 0.5\n",
    "\\end{bmatrix}\n",
    "$$\n"
   ]
  },
  {
   "cell_type": "markdown",
   "id": "5990796d-6d17-4469-8fd7-2b0b6c7125c1",
   "metadata": {},
   "source": [
    "Eulers metode sier nå at \n",
    "$$\n",
    "\\vec v_{n+1} = B \\cdot v_n = B^{n+1} \\cdot \\vec v_0\n",
    "$$\n",
    "Det er enkelt å få python til å regne ut $v_0, v_1, \\dots, v_{100}$:"
   ]
  },
  {
   "cell_type": "code",
   "execution_count": 194,
   "id": "58694d9d-cc30-4bc9-a306-0c1bd3142505",
   "metadata": {},
   "outputs": [],
   "source": [
    "import numpy as np\n",
    "import matplotlib.pyplot as plt"
   ]
  },
  {
   "cell_type": "code",
   "execution_count": null,
   "id": "490a4850-9203-45fb-bee8-1c5395847e65",
   "metadata": {},
   "outputs": [],
   "source": []
  },
  {
   "cell_type": "code",
   "execution_count": 204,
   "id": "b423a22d-5090-4fff-a56b-924019ce8875",
   "metadata": {},
   "outputs": [],
   "source": [
    "delta_t = .1\n",
    "B = np.array([\n",
    "    [1 + delta_t * (- 0.2), delta_t * 0.5],\n",
    "    [delta_t * 0.2, 1 + delta_t * (- 0.5)]\n",
    "])\n",
    "v_0 = np.array([[1000], [0]])"
   ]
  },
  {
   "cell_type": "code",
   "execution_count": 205,
   "id": "2f0d114d-8f32-41fd-a465-d74f5a62f1f2",
   "metadata": {},
   "outputs": [
    {
     "data": {
      "text/plain": [
       "array([1., 1.])"
      ]
     },
     "execution_count": 205,
     "metadata": {},
     "output_type": "execute_result"
    }
   ],
   "source": [
    "B.sum(axis=0)"
   ]
  },
  {
   "cell_type": "code",
   "execution_count": 206,
   "id": "ff882fd6-e418-4cbc-9bf3-156982e4b47a",
   "metadata": {},
   "outputs": [
    {
     "data": {
      "text/plain": [
       "array([[0.98, 0.05],\n",
       "       [0.02, 0.95]])"
      ]
     },
     "execution_count": 206,
     "metadata": {},
     "output_type": "execute_result"
    }
   ],
   "source": [
    "B"
   ]
  },
  {
   "cell_type": "code",
   "execution_count": 207,
   "id": "d91d5a20-d56f-4496-8255-f32185403a9a",
   "metadata": {},
   "outputs": [
    {
     "data": {
      "text/plain": [
       "array([[980.],\n",
       "       [ 20.]])"
      ]
     },
     "execution_count": 207,
     "metadata": {},
     "output_type": "execute_result"
    }
   ],
   "source": [
    "B @ v_0"
   ]
  },
  {
   "cell_type": "code",
   "execution_count": 208,
   "id": "5783c605-6343-4585-bf42-28d8d327acc7",
   "metadata": {},
   "outputs": [],
   "source": [
    "def matrise_dynamikk(B, v_0, antall_steg):\n",
    "    ver = [v_0]\n",
    "    for _ in range(antall_steg):\n",
    "        ver.append(B @ ver[-1])\n",
    "    return np.hstack(ver)\n",
    "    "
   ]
  },
  {
   "cell_type": "code",
   "execution_count": 211,
   "id": "edb83324-baee-42f6-9ad3-118f4cf184e9",
   "metadata": {},
   "outputs": [],
   "source": [
    "N = matrise_dynamikk(B, v_0, 100)"
   ]
  },
  {
   "cell_type": "code",
   "execution_count": 214,
   "id": "725eaef7-3681-4727-a15e-a8d9ca3b86fa",
   "metadata": {},
   "outputs": [
    {
     "data": {
      "text/plain": [
       "[<matplotlib.lines.Line2D at 0x7fe003ae5340>,\n",
       " <matplotlib.lines.Line2D at 0x7fe003ae5370>]"
      ]
     },
     "execution_count": 214,
     "metadata": {},
     "output_type": "execute_result"
    },
    {
     "data": {
      "image/png": "[encoded data removed]",
      "text/plain": [
       "<Figure size 640x480 with 1 Axes>"
      ]
     },
     "metadata": {},
     "output_type": "display_data"
    }
   ],
   "source": [
    "plt.plot(np.arange(N.shape[1]), N[0], N[1])"
   ]
  },
  {
   "cell_type": "code",
   "execution_count": 218,
   "id": "314d8045-c98e-4184-92fe-0b164ce4951d",
   "metadata": {},
   "outputs": [
    {
     "name": "stderr",
     "output_type": "stream",
     "text": [
      "/tmp/ipykernel_3623/3611836061.py:2: UserWarning: Legend does not support handles for str instances.\n",
      "A proxy artist may be used instead.\n",
      "See: https://matplotlib.org/stable/users/explain/axes/legend_guide.html#controlling-the-legend-entries\n",
      "  plt.legend('a','b')\n"
     ]
    },
    {
     "data": {
      "text/plain": [
       "<matplotlib.legend.Legend at 0x7fe0039ac8f0>"
      ]
     },
     "execution_count": 218,
     "metadata": {},
     "output_type": "execute_result"
    },
    {
     "data": {
      "image/png": "[encoded data removed]",
      "text/plain": [
       "<Figure size 640x480 with 1 Axes>"
      ]
     },
     "metadata": {},
     "output_type": "display_data"
    }
   ],
   "source": [
    "plt.plot(np.arange(N.shape[1]), *N)\n",
    "plt.legend('a','b')"
   ]
  },
  {
   "cell_type": "code",
   "execution_count": 165,
   "id": "ffaf392e-d357-4829-adc0-037d37714aed",
   "metadata": {},
   "outputs": [
    {
     "data": {
      "text/plain": [
       "[<matplotlib.lines.Line2D at 0x7fe012d44710>]"
      ]
     },
     "execution_count": 165,
     "metadata": {},
     "output_type": "execute_result"
    },
    {
     "data": {
      "image/png": "[encoded data removed]",
      "text/plain": [
       "<Figure size 640x480 with 1 Axes>"
      ]
     },
     "metadata": {},
     "output_type": "display_data"
    }
   ],
   "source": [
    "plt.plot(np.arange(ver.shape[1]), ver[1] + ver[0])"
   ]
  },
  {
   "cell_type": "code",
   "execution_count": 161,
   "id": "22c14244-b789-4a21-8b23-15e4cebaf303",
   "metadata": {},
   "outputs": [
    {
     "data": {
      "text/plain": [
       "array([[1.00000000e+03, 9.99999900e+02, 9.99999806e+02, 9.99999718e+02,\n",
       "        9.99999635e+02, 9.99999557e+02, 9.99999483e+02, 9.99999414e+02,\n",
       "        9.99999349e+02, 9.99999288e+02, 9.99999231e+02, 9.99999177e+02,\n",
       "        9.99999127e+02, 9.99999079e+02, 9.99999034e+02, 9.99998992e+02,\n",
       "        9.99998953e+02, 9.99998915e+02, 9.99998881e+02, 9.99998848e+02,\n",
       "        9.99998817e+02, 9.99998788e+02, 9.99998761e+02, 9.99998735e+02,\n",
       "        9.99998711e+02, 9.99998688e+02, 9.99998667e+02, 9.99998647e+02,\n",
       "        9.99998628e+02, 9.99998610e+02, 9.99998594e+02, 9.99998578e+02,\n",
       "        9.99998563e+02, 9.99998550e+02, 9.99998537e+02, 9.99998524e+02,\n",
       "        9.99998513e+02, 9.99998502e+02, 9.99998492e+02, 9.99998483e+02,\n",
       "        9.99998474e+02, 9.99998465e+02, 9.99998457e+02, 9.99998450e+02,\n",
       "        9.99998443e+02, 9.99998436e+02, 9.99998430e+02, 9.99998424e+02,\n",
       "        9.99998419e+02, 9.99998414e+02, 9.99998409e+02, 9.99998404e+02,\n",
       "        9.99998400e+02, 9.99998396e+02, 9.99998392e+02, 9.99998389e+02,\n",
       "        9.99998385e+02, 9.99998382e+02, 9.99998379e+02, 9.99998377e+02,\n",
       "        9.99998374e+02, 9.99998372e+02, 9.99998369e+02, 9.99998367e+02,\n",
       "        9.99998365e+02, 9.99998363e+02, 9.99998361e+02, 9.99998360e+02,\n",
       "        9.99998358e+02, 9.99998357e+02, 9.99998355e+02, 9.99998354e+02,\n",
       "        9.99998353e+02, 9.99998352e+02, 9.99998350e+02, 9.99998349e+02,\n",
       "        9.99998348e+02, 9.99998348e+02, 9.99998347e+02, 9.99998346e+02,\n",
       "        9.99998345e+02, 9.99998344e+02, 9.99998344e+02, 9.99998343e+02,\n",
       "        9.99998343e+02, 9.99998342e+02, 9.99998341e+02, 9.99998341e+02,\n",
       "        9.99998341e+02, 9.99998340e+02, 9.99998340e+02, 9.99998339e+02,\n",
       "        9.99998339e+02, 9.99998339e+02, 9.99998338e+02, 9.99998338e+02,\n",
       "        9.99998338e+02, 9.99998337e+02, 9.99998337e+02, 9.99998337e+02,\n",
       "        9.99998337e+02],\n",
       "       [0.00000000e+00, 1.00000000e-04, 1.93999990e-04, 2.82359971e-04,\n",
       "        3.65418345e-04, 4.43493207e-04, 5.16883571e-04, 5.85870505e-04,\n",
       "        6.50718216e-04, 7.11675058e-04, 7.68974483e-04, 8.22835937e-04,\n",
       "        8.73465699e-04, 9.21057670e-04, 9.65794117e-04, 1.00784637e-03,\n",
       "        1.04737549e-03, 1.08453286e-03, 1.11946078e-03, 1.15229302e-03,\n",
       "        1.18315532e-03, 1.21216588e-03, 1.23943581e-03, 1.26506954e-03,\n",
       "        1.28916524e-03, 1.31181520e-03, 1.33310615e-03, 1.35311965e-03,\n",
       "        1.37193234e-03, 1.38961626e-03, 1.40623914e-03, 1.42186465e-03,\n",
       "        1.43655263e-03, 1.45035933e-03, 1.46333763e-03, 1.47553722e-03,\n",
       "        1.48700484e-03, 1.49778440e-03, 1.50791719e-03, 1.51744201e-03,\n",
       "        1.52639533e-03, 1.53481146e-03, 1.54272262e-03, 1.55015911e-03,\n",
       "        1.55714941e-03, 1.56372029e-03, 1.56989691e-03, 1.57570294e-03,\n",
       "        1.58116061e-03, 1.58629081e-03, 1.59111321e-03, 1.59564625e-03,\n",
       "        1.59990732e-03, 1.60391272e-03, 1.60767780e-03, 1.61121697e-03,\n",
       "        1.61454379e-03, 1.61767100e-03, 1.62061058e-03, 1.62337378e-03,\n",
       "        1.62597119e-03, 1.62841276e-03, 1.63070783e-03, 1.63286520e-03,\n",
       "        1.63489312e-03, 1.63679937e-03, 1.63859125e-03, 1.64027561e-03,\n",
       "        1.64185891e-03, 1.64334721e-03, 1.64474621e-03, 1.64606127e-03,\n",
       "        1.64729743e-03, 1.64845942e-03, 1.64955169e-03, 1.65057843e-03,\n",
       "        1.65154355e-03, 1.65245078e-03, 1.65330356e-03, 1.65410519e-03,\n",
       "        1.65485871e-03, 1.65556702e-03, 1.65623283e-03, 1.65685870e-03,\n",
       "        1.65744701e-03, 1.65800002e-03, 1.65851986e-03, 1.65900850e-03,\n",
       "        1.65946782e-03, 1.65989959e-03, 1.66030545e-03, 1.66068695e-03,\n",
       "        1.66104557e-03, 1.66138267e-03, 1.66169954e-03, 1.66199741e-03,\n",
       "        1.66227739e-03, 1.66254059e-03, 1.66278798e-03, 1.66302054e-03,\n",
       "        1.66323914e-03]])"
      ]
     },
     "execution_count": 161,
     "metadata": {},
     "output_type": "execute_result"
    }
   ],
   "source": [
    "ver"
   ]
  },
  {
   "cell_type": "markdown",
   "id": "9341797c-4d65-4ecb-a6ef-8db46420e90d",
   "metadata": {},
   "source": [
    "## Steady-state løsning\n",
    "\n",
    "I steady-state er $\\frac{dN_1}{dt} = 0$ og $\\frac{dN_2}{dt} = 0$. Da får vi:\n",
    "$$\n",
    "0 = -10^{-12} N_1 + 6 \\cdot 10^7 N_2\n",
    "$$\n",
    "$$\n",
    "0 = 10^{-12} N_1 - 6 \\cdot 10^7 N_2\n",
    "$$\n",
    "\n",
    "Disse to ligningene er ekvivalente, og vi kan løse for forholdet mellom $N_1$ og $N_2$:\n",
    "$$\n",
    "10^{-12} N_1 = 6 \\cdot 10^7 N_2\n",
    "$$\n",
    "$$\n",
    "\\frac{N_2}{N_1} = \\frac{10^{-12}}{6 \\cdot 10^7} = \\frac{1}{6 \\cdot 10^{19}}\n",
    "$$\n",
    "\n",
    "Dette betyr at i steady-state er populasjonen i den eksiterte tilstanden $N_2$ svært liten sammenlignet med populasjonen i grunntilstanden $N_1$, noe som er typisk for laserindusert fluorescens med lav laserintensitet.\n",
    "\n",
    "## Tidsavhengig løsning\n",
    "\n",
    "Hvis vi antar at systemet starter med alle atomene i grunntilstanden, dvs. $N_1(0) = N_0$ og $N_2(0) = 0$, kan systemet av differensialligninger løses numerisk (for eksempel ved hjelp av Python eller MATLAB) eller analytisk ved hjelp av Laplace-transformasjoner.\n",
    "\n",
    "---\n",
    "\n",
    "Håper dette eksempelet var nyttig! Hvis du ønsker mer detaljer eller hjelp med å løse systemet numerisk/analytisk, bare si ifra. 😊"
   ]
  },
  {
   "cell_type": "code",
   "execution_count": 193,
   "id": "6b1aad09-1459-46be-8554-ac690f4f4243",
   "metadata": {},
   "outputs": [
    {
     "data": {
      "image/png": "[encoded data removed]",
      "text/plain": [
       "<Figure size 1000x600 with 1 Axes>"
      ]
     },
     "metadata": {},
     "output_type": "display_data"
    }
   ],
   "source": [
    "import numpy as np\n",
    "from scipy.integrate import solve_ivp\n",
    "import matplotlib.pyplot as plt\n",
    "\n",
    "# Definer parametere\n",
    "sigma = 1e-13  # Absorpsjonskrysningsseksjon [m^2] (for Rb)\n",
    "I = 1e4       # Laserintensitet [W/m^2]\n",
    "Gamma = 3.8e7 # Spontan de-eksiteringsrate [s^-1] (for Rb)\n",
    "\n",
    "# Definer systemet av differensialligninger\n",
    "def system(t, y):\n",
    "    N1, N2 = y  # y[0] = N1, y[1] = N2\n",
    "    dN1_dt = -sigma * I * N1 + Gamma * N2\n",
    "    dN2_dt = sigma * I * N1 - Gamma * N2\n",
    "    return [dN1_dt, dN2_dt]\n",
    "\n",
    "# Initialbetingelser\n",
    "N0 = 1e20      # Startpopulasjon i grunntilstanden [atomer/m^3]\n",
    "N1_0 = N0     # Alle atomene starter i grunntilstanden\n",
    "N2_0 = 0      # Ingen atomer i eksitert tilstand\n",
    "y0 = [N1_0, N2_0]\n",
    "\n",
    "# Tidsintervall for simulering\n",
    "t_span = (0, 1e-6)  # Fra t = 0 til t = 1 mikrosekund\n",
    "t_eval = np.linspace(t_span[0], t_span[1], 10000)  # Høy oppløsning for å se endringer\n",
    "\n",
    "# Løs systemet numerisk\n",
    "sol = solve_ivp(system, t_span, y0, t_eval=t_eval)\n",
    "\n",
    "# Plott resultatene\n",
    "plt.figure(figsize=(10, 6))\n",
    "plt.plot(sol.t, sol.y[0], label='$N_1(t)$ (Grunntilstand)')\n",
    "plt.plot(sol.t, sol.y[1], label='$N_2(t)$ (Eksitert tilstand)')\n",
    "plt.xlabel('Tid [s]')\n",
    "plt.ylabel('Populasjon [atomer/m^3]')\n",
    "plt.title('Tidsutvikling av populasjoner i laserindusert fluorescens (Rb)')\n",
    "plt.legend()\n",
    "plt.grid()\n",
    "plt.show()"
   ]
  },
  {
   "cell_type": "code",
   "execution_count": null,
   "id": "f5e47c4d-8919-4902-a994-b1a24ff5c4e7",
   "metadata": {},
   "outputs": [],
   "source": []
  }
 ],
 "metadata": {
  "kernelspec": {
   "display_name": "Python 3 (ipykernel)",
   "language": "python",
   "name": "python3"
  },
  "language_info": {
   "codemirror_mode": {
    "name": "ipython",
    "version": 3
   },
   "file_extension": ".py",
   "mimetype": "text/x-python",
   "name": "python",
   "nbconvert_exporter": "python",
   "pygments_lexer": "ipython3",
   "version": "3.12.8"
  }
 },
 "nbformat": 4,
 "nbformat_minor": 5
}
