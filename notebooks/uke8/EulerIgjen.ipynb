{
 "cells": [
  {
   "cell_type": "markdown",
   "id": "7506c361-cd1b-4ee2-8688-e5058ed3253e",
   "metadata": {},
   "source": [
    "# Euler Igjen (MIP 11.2 og 10.9)"
   ]
  },
  {
   "cell_type": "markdown",
   "id": "f5052df5-2a5e-455c-a12f-c953314e65f8",
   "metadata": {},
   "source": [
    "## **Matriser og system av differensialligninger**"
   ]
  },
  {
   "cell_type": "markdown",
   "id": "b76cd2e8-89ae-41a8-a66a-6e0c5044cc10",
   "metadata": {
    "id": "6a4a2474-0c24-49b3-a301-f6660df3d128"
   },
   "source": [
    "Vi har sett på systemer av førsteordens differensialligninger på formen\n",
    "$$\n",
    "\\begin{align}\n",
    "  x'(t) &= f(t,x(t), y(t)), \\newline\n",
    "  y'(t) &= g(t,x(t), y(t))\n",
    "\\end{align}\n",
    "$$\n",
    "for funksjoner\n",
    "$$\n",
    "\\begin{align}\n",
    "\\mathbb{R}^3 &\\xrightarrow f \\mathbb{R}, \\newline\n",
    "(t, x, y) &\\mapsto f(t, x, y)\n",
    "\\end{align}\n",
    "$$\n",
    "og\n",
    "$$\n",
    "\\begin{align}\n",
    "\\mathbb{R}^3 &\\xrightarrow g \\mathbb{R}, \\newline\n",
    "(t, x) &\\mapsto g(t, x, y).\n",
    "\\end{align}\n",
    "$$\n",
    "\n",
    "Vi kan tenke på dette som en ligning mellom vektorer i $\\mathbb{R}^2$. \n",
    "\n",
    "Lar vi $\\vec v(t) = \\begin{bmatrix}(t)\\\\ y(t)\\end{bmatrix}$ og $F(t, \\vec v(t)) = \\begin{bmatrix}f(t, x(t), y(t))\\\\ g(t, x(t), y(t))\\end{bmatrix}$, kan vi skrive systemet som\n",
    "$$\n",
    "\\begin{align}\n",
    "  \\vec v'(t) &= F(t, \\vec v(t))\n",
    "\\end{align}\n",
    "$$\n",
    "der \n",
    "$\\vec v'(t) = \\begin{bmatrix}x'(t)\\\\y'(t)\\end{bmatrix}$\n",
    "er den koordinatvis deriverte til $\\vec v(t)$.\n",
    "\n",
    "Dette er en kompakt måte å skrive systemet på, og vi kan bruke vektorregning for å løse det."
   ]
  },
  {
   "cell_type": "markdown",
   "id": "9eb1cdf3-a85b-4508-8ab4-02757b02b932",
   "metadata": {},
   "source": [
    "---"
   ]
  },
  {
   "cell_type": "markdown",
   "id": "dbbaba68-25a2-4aa8-bdb8-24c333e0e915",
   "metadata": {},
   "source": [
    "Vi vil nå se på en enkel versjon av slike systemer der det finnes tall $p, q, r$ og $s$ slik at systemet er på formen\n",
    "$$\n",
    "\\begin{align}\n",
    "  x'(t) &= p \\cdot x(t) +  q \\cdot y(t) \\\\\n",
    "  y'(t) &= r \\cdot x(t) + s \\cdot y(t))\n",
    "\\end{align}\n",
    "$$"
   ]
  },
  {
   "cell_type": "markdown",
   "id": "ab52dc81-b629-4a3d-8088-9d9d5ec75fb8",
   "metadata": {},
   "source": [
    "\n",
    "Hvis vi lar \n",
    "$A = \\begin{bmatrix}p&q\\\\r&s\\end{bmatrix}$ så kan dette skrives \n",
    "$$\\vec v'(t) = \n",
    "\\begin{bmatrix}x'(t)\\\\y'(t)\\end{bmatrix}\n",
    "= \\begin{bmatrix}p&q\\\\r&s\\end{bmatrix} \\cdot \\begin{bmatrix}x(t)\\\\y(t)\\end{bmatrix}\n",
    "= A \\cdot \\begin{bmatrix}x(t)\\\\y(t)\\end{bmatrix}\n",
    "= A \\cdot \\vec v(t) = F(t, \\vec v(t)).$$\n",
    "\n",
    "Systemet av differensialligninger kan altså skrives\n",
    "$$\\vec v'(t) = A \\cdot \\vec v(t).$$\n"
   ]
  },
  {
   "cell_type": "markdown",
   "id": "2d8f1a3a-ad69-47e1-8876-12e9bb938584",
   "metadata": {
    "id": "0464499a-2491-4d0c-beb5-b0a2b776768f",
    "jp-MarkdownHeadingCollapsed": true
   },
   "source": [
    "Hvis en starttid $t_0$ og en starttilstand $v_0 = \\begin{bmatrix}x_0\\\\y_0\\end{bmatrix}$ er gitt kan vi velge en skrittlengde $\\Delta t$ og numerisk approksimere løsningen til denne differensialligningen med Eulers metode.\n",
    "Ser vi tilbake på Eulers metode approksimerer vi $x(t_0 + \\Delta t)$ og $y(t_0 + \\Delta t)$ med\n",
    "$$\n",
    "\\begin{align}\n",
    "  x(t_0 + \\Delta t) &\\approx x_0 + \\Delta t \\cdot (p x_0 + q y_0) \\\\\n",
    "  y(t_0 + \\Delta t) &\\approx y_0 + \\Delta t \\cdot (r x_0 + s y_0).\n",
    "\\end{align}\n",
    "$$\n",
    "Vi setter nå\n",
    "$$\n",
    "\\begin{align}\n",
    "  x_1 &= x_0 + \\Delta t \\cdot (p x_0 + q y_0) \\\\\n",
    "  y_1 &= y_0 + \\Delta t \\cdot (r x_0 + s y_0),\n",
    "\\end{align}\n",
    "$$\n",
    "og $t_1 = t_0 + \\Delta t$.\n",
    "Vi fortsetter på denne måten. Etter å ha funnet $x_0, x_1, \\dots, x_n$ og\n",
    "$y_0, y_1, \\dots, y_n$ setter vi\n",
    "$$\n",
    "\\begin{align}\n",
    "  x_{n+1} &= x_n + \\Delta t \\cdot (p x_n + q y_n) \\\\\n",
    "  y_{n+1} &= y_n + \\Delta t \\cdot (r x_n + s y_n).\n",
    "\\end{align}\n",
    "$$"
   ]
  },
  {
   "cell_type": "markdown",
   "id": "695ee008-370d-4bda-8d19-275b7a877801",
   "metadata": {},
   "source": [
    "Jeg har lyst til å skrive dette i matrisenotasjon: Hvis jeg lar $B$ være matrisen \n",
    "$$B = I + \\Delta t \\cdot A = \\begin{bmatrix}1 + \\Delta t \\cdot p&\\Delta t \\cdot q\\\\\\Delta t \\cdot r&1 + \\Delta t \\cdot s\\end{bmatrix},$$\n",
    "da er\n",
    "$$\n",
    "\\vec v_1 =\n",
    "\\begin{bmatrix}\n",
    "  x_1 \\\\\n",
    "  y_1\n",
    "\\end{bmatrix}\n",
    "=\n",
    "\\begin{bmatrix}\n",
    "  x_0 + \\Delta t \\cdot (px_0 + qy_0) \\\\\n",
    "  y_0 + \\Delta t \\cdot (rx_0 + sy_0)\n",
    "\\end{bmatrix}\n",
    "=\n",
    "\\begin{bmatrix}\n",
    "  (1 + \\Delta t \\cdot p)x_0 + \\Delta t \\cdot qy_0 \\\\\n",
    "  \\Delta t \\cdot rx_0 + (1 + \\Delta t \\cdot s)y_0\n",
    "\\end{bmatrix}\n",
    "=\n",
    "\\begin{bmatrix}\n",
    "  (1 + \\Delta t \\cdot p) & \\Delta t \\cdot q \\\\\n",
    "  \\Delta t \\cdot r & (1 + \\Delta t \\cdot s)\n",
    "\\end{bmatrix}\n",
    "\\begin{bmatrix}\n",
    "  x_0 \\\\\n",
    "  y_0\n",
    "\\end{bmatrix}\n",
    "= \n",
    "B \\cdot \\vec v_0\n",
    "$$\n",
    "\n"
   ]
  },
  {
   "cell_type": "markdown",
   "id": "f5a07d25-8fc7-4711-805e-a066e52a8882",
   "metadata": {},
   "source": [
    "Tilsvarende er $\\vec v_2 = B \\cdot \\vec v_1 = B \\cdot (B \\cdot \\vec v_0) = B^2 \\cdot \\vec v_0$ og $\\vec v_{n+1} = B \\cdot \\vec v_n = B \\cdot (B^n \\cdot \\vec v_0) = B^{n+1} \\cdot \\vec v_0$."
   ]
  },
  {
   "cell_type": "markdown",
   "id": "574bb548-3d6a-4749-a5c3-87d40f7cd3a1",
   "metadata": {},
   "source": [
    "**Dette er et eksempel på matrisedynamikk: $\\vec v_n = B^n \\vec v_0$.**"
   ]
  },
  {
   "cell_type": "markdown",
   "id": "d4ccaf09-4b50-40f4-8363-6cac1c1ade46",
   "metadata": {},
   "source": [
    "# **Laserindusert fluourscens (LIF)**"
   ]
  },
  {
   "cell_type": "markdown",
   "id": "04eba21c-a9d8-4627-b38d-0115a3e40536",
   "metadata": {},
   "source": [
    "Et eksempel på **et system av lineære differensialligninger i kjemi** oppstår i **laserkjemi**, spesielt i samspillet mellom molekyler og lys. Et kjent tilfelle er **vibrasjons- eller elektronisk populasjonsdynamikk i eksiterte tilstander**.  \n",
    "\n",
    "---"
   ]
  },
  {
   "cell_type": "markdown",
   "id": "4b0fc8ea-7d0c-4064-8637-b5105a241325",
   "metadata": {},
   "source": [
    "Når et molekyl absorberer en foton fra en laser, blir det eksitert til en høyere elektronisk eller vibrasjonsmessig tilstand. Populasjonen av molekyler i den eksiterte tilstanden utvikler seg over tid på grunn av:"
   ]
  },
  {
   "cell_type": "markdown",
   "id": "b7a3e060-3001-4308-965e-df0ef72154af",
   "metadata": {},
   "source": [
    "1. **Spontan emisjon** – Molekylet går tilbake til grunntilstanden ved å sende ut en foton.  \n",
    "2. **Stimuleret emisjon** – En annen foton med samme energi kan indusere molekylet til å sende ut lys.  \n",
    "3. **Ikke-radiativ relaksasjon** – Molekylet mister energi uten å sende ut lys (f.eks. via kollisjoner eller intern konvertering).\n",
    "4. **Eksitasjon** – Et molekyl i grunntillstanden absorberer en foton og går til den eksiterte tilstanden. "
   ]
  },
  {
   "cell_type": "markdown",
   "id": "5dda370c-9a43-4bc6-8bd6-2bb768c6b233",
   "metadata": {},
   "source": [
    "Denne typen populasjonsdynamikk er avgjørende for å forstå **reaksjonskinetikk, spektroskopi og fotokjemi**."
   ]
  },
  {
   "cell_type": "markdown",
   "id": "338f95af-360d-43ed-8d4c-efb4cd43fbae",
   "metadata": {},
   "source": [
    "![blonsky diagram](396px-Jablonski_Diagram_of_Fluorescence_Only.png)\n",
    "[Jablonski diagram av absorbans, ikke-radiativ henfall, og fluorescens. (Public Domain, Jacobkhed)](https://commons.wikimedia.org/w/index.php?curid=2268147)"
   ]
  },
  {
   "cell_type": "code",
   "execution_count": null,
   "id": "f2d5e480-ad7b-4958-a5c4-90695d641e1a",
   "metadata": {},
   "outputs": [],
   "source": [
    "\n",
    "Figure 1: Jablonski diagram of absorbance, non-radiative decay, and fluorescence. (Public Domain, Jacobkhed)"
   ]
  },
  {
   "cell_type": "markdown",
   "id": "11414165-e394-4897-be73-bba035e18eb6",
   "metadata": {},
   "source": [
    "### **Kontinuerlig tids populasjonsdynamikk med en overgangsmatrise**  \n",
    "Vi \n",
    "uttrykker populasjonsutviklingen som:  \n",
    "\n",
    "$$\n",
    "\\vec v'(t) = A \\cdot \\vec v(t)\n",
    "$$"
   ]
  },
  {
   "cell_type": "markdown",
   "id": "8dcfe01d-9e99-43b9-80d6-d0db311b86d3",
   "metadata": {},
   "source": [
    "hvor:\n",
    "\n",
    "- $ \\vec v(t) = \\begin{bmatrix} v_g(t) \\\\ v_e(t) \\end{bmatrix} $ representerer populasjonene ved tidspunkt $ t $.\n",
    "- $ \\vec v'(t) = \\begin{bmatrix} v'_g(t) \\\\ v'_e(t) \\end{bmatrix} $ representerer endringsratene til populasjonene ved tidspunkt $ t $. \n",
    "- $ A $ er **overgangsmatrisen**, som bestemmer hvordan populasjonene endrer seg over tid.\n",
    "\n",
    "Et enkelt valg for $ A $ er:\n",
    "\n",
    "$$\n",
    "A = \\begin{bmatrix} \n",
    "- p & q \\\\ \n",
    "p & - q \n",
    "\\end{bmatrix}\n",
    "$$\n",
    "\n",
    "hvor:\n",
    "- $ p $ er sannsynligheten for overgang fra grunntilstanden til den eksiterte tilstanden.\n",
    "- $ q $ er sannsynligheten for overgang fra den eksiterte tilstanden til grunntilstanden.\n",
    "\n",
    "---"
   ]
  },
  {
   "cell_type": "markdown",
   "id": "63020116-c24f-4fc7-a2da-521cc2600877",
   "metadata": {},
   "source": [
    "## **Natrium ($\\text{Na}$)**  \n",
    "Natriumatomer har en kjent elektronisk overgang:  \n",
    "- **Grunntilstand:** $ 3s $  \n",
    "- **Eksitert tilstand:** $ 3p $  \n",
    "\n",
    "Dette gir en typisk LIF-prosess:  \n",
    "$$\n",
    "3s \\xrightarrow{\\text{Laser}} 3p \\xrightarrow{\\text{Fluorescens}} 3s + h\\nu\n",
    "$$\n",
    "hvor atomet emitterer lys med bølgelengde **589 nm** (den gule natrium D-linjen).  \n",
    "\n",
    "---"
   ]
  },
  {
   "cell_type": "markdown",
   "id": "e6b3e75b-5f29-4b5b-8278-5a9db703564a",
   "metadata": {},
   "source": [
    "For en kraftig laser er \n",
    "p = 0.2 og q = 0.5 i overgangsmatrisen realistiske verdier hvis tid regnes i enheter av nanosekunder slik at\n",
    "$$\n",
    "A = \\begin{bmatrix} \n",
    "- 0.02 & 0.05 \\\\ \n",
    "0.02 & - 0.05 \n",
    "\\end{bmatrix}\n",
    "$$"
   ]
  },
  {
   "cell_type": "markdown",
   "id": "009d3f18-b576-4934-8e65-f78138dbc533",
   "metadata": {},
   "source": [
    "I stedet for å angi absolutt antall atomer angir vi andel av atomer i hver tilstant. Gitt en utgangstilstand på formen \n",
    "$$\n",
    "\\vec v_0 =\n",
    "\\begin{bmatrix}\n",
    "  1 \\\\\n",
    "  0\n",
    "\\end{bmatrix}\n",
    "$$\n",
    "der alle atomer er i grunntilstanden og en skrittlengde $\\Delta t = 1$ har vi \n",
    "$$\n",
    "B = I + \\Delta t \\cdot A\n",
    "= \\begin{bmatrix}\n",
    "  1 + \\Delta t \\cdot (-0.02) & \\Delta t \\cdot 0.05 \\\\\n",
    "  \\Delta t \\cdot 0.02 & 1 + \\Delta t \\cdot (-0.05)\n",
    "\\end{bmatrix}\n",
    "$$\n",
    "som blir\n",
    "$$\n",
    "B = I + A\n",
    "= \\begin{bmatrix}\n",
    "  1 -0.02 & 0.05 \\\\\n",
    "  0.02 & 1 -0.05\n",
    "\\end{bmatrix}\n",
    "= \\begin{bmatrix}\n",
    "  0.98 & 0.05 \\\\\n",
    "  0.02 & 0.95\n",
    "\\end{bmatrix}\n",
    "$$\n"
   ]
  },
  {
   "cell_type": "markdown",
   "id": "5990796d-6d17-4469-8fd7-2b0b6c7125c1",
   "metadata": {},
   "source": [
    "Eulers metode sier nå at \n",
    "$$\n",
    "\\vec v_{n+1} = B \\cdot v_n = B^{n+1} \\cdot \\vec v_0\n",
    "$$\n",
    "Det er enkelt å få python til å regne ut $v_0, v_1, \\dots$:"
   ]
  },
  {
   "cell_type": "code",
   "execution_count": 1,
   "id": "58694d9d-cc30-4bc9-a306-0c1bd3142505",
   "metadata": {},
   "outputs": [],
   "source": [
    "import numpy as np\n",
    "import matplotlib.pyplot as plt"
   ]
  },
  {
   "cell_type": "code",
   "execution_count": 2,
   "id": "b423a22d-5090-4fff-a56b-924019ce8875",
   "metadata": {},
   "outputs": [],
   "source": [
    "delta_t = 1\n",
    "p = 0.02\n",
    "q = 0.05\n",
    "B = np.array([\n",
    "    [1 + delta_t * (- p), delta_t * q],\n",
    "    [delta_t * p, 1 + delta_t * (- q)]\n",
    "])\n",
    "v_0 = np.array([[1], [0]])"
   ]
  },
  {
   "cell_type": "code",
   "execution_count": 3,
   "id": "b0a9c97f-7156-414a-99ee-fc0e432a9fc9",
   "metadata": {},
   "outputs": [],
   "source": [
    "def populasjons_utvikling(overgangsmatrise, initial_tilstand, antall_steg):\n",
    "    v = [initial_tilstand]\n",
    "    for _ in range(antall_steg):\n",
    "        v.append(overgangsmatrise @ v[-1])\n",
    "    return np.hstack(v)"
   ]
  },
  {
   "cell_type": "code",
   "execution_count": 4,
   "id": "edb83324-baee-42f6-9ad3-118f4cf184e9",
   "metadata": {},
   "outputs": [],
   "source": [
    "v = populasjons_utvikling(B, v_0, 100)"
   ]
  },
  {
   "cell_type": "code",
   "execution_count": 6,
   "id": "725eaef7-3681-4727-a15e-a8d9ca3b86fa",
   "metadata": {},
   "outputs": [
    {
     "data": {
      "image/png": "[encoded data removed]",
      "text/plain": [
       "<Figure size 640x480 with 1 Axes>"
      ]
     },
     "metadata": {},
     "output_type": "display_data"
    }
   ],
   "source": [
    "plt.plot(np.arange(v.shape[1]), v[0], label='grunntilstand')\n",
    "plt.plot(np.arange(v.shape[1]), v[1], label='eksitert tilstand')\n",
    "plt.legend()\n",
    "plt.xlabel('Tid i nanosekunder')\n",
    "plt.ylabel('Relative populasjonsstørrelser')\n",
    "plt.title('Relativt antall atomer i de to tilstandene');"
   ]
  },
  {
   "cell_type": "code",
   "execution_count": null,
   "id": "3f4664da-ef6f-44e5-bb18-ed86992f5345",
   "metadata": {},
   "outputs": [],
   "source": []
  }
 ],
 "metadata": {
  "kernelspec": {
   "display_name": "Python 3 (ipykernel)",
   "language": "python",
   "name": "python3"
  },
  "language_info": {
   "codemirror_mode": {
    "name": "ipython",
    "version": 3
   },
   "file_extension": ".py",
   "mimetype": "text/x-python",
   "name": "python",
   "nbconvert_exporter": "python",
   "pygments_lexer": "ipython3",
   "version": "3.12.8"
  }
 },
 "nbformat": 4,
 "nbformat_minor": 5
}
