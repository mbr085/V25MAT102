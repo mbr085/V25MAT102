{
 "cells": [
  {
   "cell_type": "markdown",
   "id": "ed03c05d-05cf-417d-b60f-b208ad572580",
   "metadata": {},
   "source": [
    "# Egenverdier og evenvektorer (MIP 10.8)"
   ]
  },
  {
   "cell_type": "code",
   "execution_count": 1,
   "id": "193296ea-8327-45f2-b399-6bb0890cda22",
   "metadata": {},
   "outputs": [],
   "source": [
    "import sympy as sp\n",
    "import numpy as np"
   ]
  },
  {
   "cell_type": "code",
   "execution_count": 2,
   "id": "371e401e-40c3-4d9e-bcdb-6b0abfead8a9",
   "metadata": {},
   "outputs": [
    {
     "data": {
      "text/plain": [
       "array([0.+1.j])"
      ]
     },
     "execution_count": 2,
     "metadata": {},
     "output_type": "execute_result"
    }
   ],
   "source": [
    "np.sqrt(np.array([-1]).astype('complex'))"
   ]
  },
  {
   "cell_type": "markdown",
   "id": "9e9bf58a-82b6-47fe-9abe-60fcb2178730",
   "metadata": {},
   "source": [
    "## Python kode for nullrom fra tidligere"
   ]
  },
  {
   "cell_type": "code",
   "execution_count": 3,
   "id": "7ac435e2-b62a-444d-a2db-982c7e81a3e5",
   "metadata": {},
   "outputs": [],
   "source": [
    "import numpy as np\n",
    "\n",
    "def normer_forste_element(vektor):\n",
    "    \"\"\"\n",
    "    Normaliserer en vektor ved å dele alle elementer på det første ikke-null elementet.\n",
    "    \n",
    "    Parametere:\n",
    "        vektor (np.ndarray): En 1D Numpy-array som skal normaliseres.\n",
    "    \n",
    "    Returnerer:\n",
    "        np.ndarray: En normalisert vektor der det første ikke-null elementet er 1.\n",
    "    \"\"\"\n",
    "    # Finn indeksen til det første elementet i vektoren som ikke er null\n",
    "    forste_ikke_null_indeks = np.argmax(vektor != 0)\n",
    "    \n",
    "    # Hent verdien til det første ikke-null elementet\n",
    "    forste_ikke_null_element = vektor[forste_ikke_null_indeks]\n",
    "    \n",
    "    # Returner den normaliserte vektoren\n",
    "    return vektor / forste_ikke_null_element\n",
    "\n",
    "def gauss_jordan(matrise, epsilon=1e-8):\n",
    "    \"\"\"\n",
    "    Utfører Gauss-Jordan eliminasjon på en gitt matrise.\n",
    "    \n",
    "    Parametere:\n",
    "        matrise (np.ndarray): En 2D Numpy-array som representerer matrisen.\n",
    "        epsilon (float): En liten verdi for å håndtere numerisk presisjon.\n",
    "    \n",
    "    Returnerer:\n",
    "        np.ndarray: En rekkeredusert matrise i redusert trappeform.\n",
    "    \"\"\"\n",
    "    # Sett svært små verdier til null for å unngå numeriske feil\n",
    "    matrise[np.abs(matrise) < epsilon] = 0\n",
    "    \n",
    "    # Hvis matrisen kun består av nuller, returner den uendret\n",
    "    if np.all(matrise == 0):\n",
    "        return matrise\n",
    "    \n",
    "    # Hvis matrisen har én rad, normaliser den første radens første ikke-null element\n",
    "    elif len(matrise) == 1:\n",
    "        matrise[0] = normer_forste_element(matrise[0])\n",
    "        return matrise\n",
    "    \n",
    "    # Beregn radenes summer for å normalisere matrisen (gjør tallene mer håndterbare)\n",
    "    rad_maksimummer = np.max(np.abs(matrise), axis=1)\n",
    "    matrise = matrise / rad_maksimummer[rad_maksimummer > epsilon, None]  # Normaliser hver rad\n",
    "    # Finn kolonner som inneholder ikke-null elementer\n",
    "    ikke_null_kolonner = np.any(matrise != 0, axis=0)\n",
    "    \n",
    "    # Finn indeksen til den første kolonnen med ikke-null elementer\n",
    "    forste_ikke_null_kolonne = np.argmax(ikke_null_kolonner)\n",
    "    \n",
    "    # Finn indeksen til raden med største verdi i den valgte kolonnen (pivot rad)\n",
    "    pivot_rad_indeks = np.argmax(matrise[:, forste_ikke_null_kolonne])\n",
    "    \n",
    "    # Normaliser pivot-raden\n",
    "    pivot_rad = normer_forste_element(matrise[pivot_rad_indeks])\n",
    "    \n",
    "    # Bytt plass på pivot-raden og den første raden\n",
    "    matrise[pivot_rad_indeks] = matrise[0]\n",
    "    matrise[0] = pivot_rad\n",
    "    # Utfør eliminering for å gjøre alle elementene under pivoten null\n",
    "    matrise[1:] -= (matrise[1:, 0] / matrise[0, forste_ikke_null_kolonne])[:, None] * matrise[0]\n",
    "\n",
    "    # Kall Gauss-Jordan rekursivt på den nedre delmatrisen\n",
    "    matrise[1:, 1:] = gauss_jordan(matrise[1:, 1:])\n",
    "    \n",
    "    # Gjør den første raden null over pivot-posisjonene til de øvrige radene.\n",
    "    for rad in matrise[1:]:\n",
    "        if np.any(rad != 0):  # Hvis raden ikke er null\n",
    "            # Finn indeksen til det første ikke-null elementet i raden\n",
    "            forste_ikke_null_kolonne = np.argmax(rad != 0)\n",
    "            \n",
    "            # Trekk fra et multiplum av denne raden for å gjøre elementet over pivot null\n",
    "            matrise[0] -= (matrise[0, forste_ikke_null_kolonne] / rad[forste_ikke_null_kolonne]) * rad\n",
    "    \n",
    "    # Returner den resulterende matrisen\n",
    "    return matrise\n"
   ]
  },
  {
   "cell_type": "code",
   "execution_count": 4,
   "id": "ba09e98a-6ab4-4d70-ac7e-342c41a364e5",
   "metadata": {},
   "outputs": [],
   "source": [
    "def pivot_posisjoner(matrise):\n",
    "    \"\"\"\n",
    "    Finner pivotposisjonene i en rekkeredusert matrise.\n",
    "    \"\"\"\n",
    "    pivot_sett = set()\n",
    "    pivot_rader = []\n",
    "    pivot_kolonner = []\n",
    "    for rad_indeks, rad in enumerate(matrise):\n",
    "        if np.any(rad != 0):\n",
    "            første_ikke_null_kolonne = np.argmax(rad != 0)\n",
    "            pivot_rader.append(rad_indeks)\n",
    "            pivot_kolonner.append(første_ikke_null_kolonne)\n",
    "    return pivot_rader, pivot_kolonner\n",
    "\n",
    "def frie_parametre(matrise):\n",
    "    \"\"\"\n",
    "    Finner bundne og frie parametere i en rekkeredusert matrise.\n",
    "    \"\"\"\n",
    "    _, pivot_kolonner = pivot_posisjoner(matrise)\n",
    "    alle_kolonner = set(range(matrise.shape[1]))\n",
    "    return sorted(alle_kolonner.difference(pivot_kolonner))\n",
    "\n",
    "def null_rom(matrise):\n",
    "    \"\"\"\n",
    "    Finner en basis for nullrommet til en matrise.\n",
    "    \"\"\"\n",
    "    nullrom_basis = []\n",
    "    redusert_matrise = gauss_jordan(matrise)\n",
    "    pivot_rader, pivot_kolonner = pivot_posisjoner(redusert_matrise)\n",
    "    frie = frie_parametre(redusert_matrise)\n",
    "    \n",
    "    for fri in frie:\n",
    "        vektor = np.zeros((matrise.shape[1], 1), dtype=matrise.dtype)\n",
    "        vektor[fri] = 1\n",
    "        for rad, kolonne in zip(pivot_rader, pivot_kolonner):\n",
    "            vektor[kolonne] = -np.sum((redusert_matrise @ vektor)[rad])\n",
    "        nullrom_basis.append(vektor)\n",
    "    \n",
    "    return nullrom_basis\n",
    "\n",
    "def partikulaer_losning(koeffisientmatrise, høyreside=None):\n",
    "    \"\"\"\n",
    "    Finner en partikulær løsning til ligningssystemet Ax = b.\n",
    "    \"\"\"\n",
    "    if høyreside is None:\n",
    "        høyreside = np.zeros(koeffisientmatrise.shape[1])\n",
    "    if len(høyreside.shape) == 1:\n",
    "        høyreside = høyreside[:, None]\n",
    "    \n",
    "    utvidet_matrise = gauss_jordan(np.hstack([koeffisientmatrise, høyreside]))\n",
    "    radindekser, kolonneindekser = pivot_posisjoner(utvidet_matrise[:, :-1])\n",
    "    løsning = np.zeros((koeffisientmatrise.shape[1], 1))\n",
    "    redusert_høyreside = utvidet_matrise[:, -1]\n",
    "    \n",
    "    for rad, kolonne in zip(radindekser, kolonneindekser):\n",
    "        løsning[kolonne] = redusert_høyreside[rad]\n",
    "\n",
    "    assert np.allclose(koeffisientmatrise @ løsning[None, :], høyreside), \"Det finnes ingen løsning til det lineære ligningssystemet\"\n",
    "    return løsning\n"
   ]
  },
  {
   "cell_type": "markdown",
   "id": "6c39c637-3579-4ceb-8718-39278eb4a8e2",
   "metadata": {},
   "source": [
    "## Eksempel"
   ]
  },
  {
   "cell_type": "code",
   "execution_count": 5,
   "id": "0d6d0593-e0ce-4776-a756-607d59ce1343",
   "metadata": {},
   "outputs": [],
   "source": [
    "A = np.array([\n",
    "    [0, .5, .5],\n",
    "    [1, 0, 0],\n",
    "    [0, .5, .5]\n",
    "])"
   ]
  },
  {
   "cell_type": "code",
   "execution_count": 6,
   "id": "2934f15b-472d-4734-a0d6-d4c346849115",
   "metadata": {},
   "outputs": [
    {
     "data": {
      "text/plain": [
       "np.complex128(12+0j)"
      ]
     },
     "execution_count": 6,
     "metadata": {},
     "output_type": "execute_result"
    }
   ],
   "source": [
    "np.complex128(12)"
   ]
  },
  {
   "cell_type": "code",
   "execution_count": 21,
   "id": "b805383e-b130-49d6-bf2b-36f1ea44a430",
   "metadata": {},
   "outputs": [],
   "source": [
    "def finn_egenvektorer_og_egenverdier(A, dtype='float'):\n",
    "    assert A.shape[0] == A.shape[1], \"matrisen A skal være kvadratisk\"\n",
    "\n",
    "    t = sp.symbols('t')  # Definerer symbolet t, som brukes i det karakteristiske polynomet\n",
    "    B = A - t * sp.eye(A.shape[0])  # Lager matrisen B = A - t*I, hvor I er identitetsmatrisen\n",
    "    karakteristisk_polynom = B.det()  # Finner determinant av B, som gir det karakteristiske polynomet\n",
    "    \n",
    "    egenverdier = sp.solve(karakteristisk_polynom)  # Løser det karakteristiske polynomet for å finne egenverdiene\n",
    "\n",
    "    # Lager en liste med tupler av evenverdier, multiplisiteter og egenvektorer\n",
    "    res = []\n",
    "    # for ev in sorted(egenverdier, key=lambda x: -np.abs(x)):\n",
    "    for ev in egenverdier:\n",
    "        # if np.isreal(np.array(ev).astype(complex)):\n",
    "        ev = complex(ev)\n",
    "        if not ev.real == ev:\n",
    "            print(ev.imag)\n",
    "            print('kompleks')\n",
    "        else:\n",
    "            ev = ev.real\n",
    "        # ev = np.complex128(ev).astype(dtype)\n",
    "        A.dtype\n",
    "        egenvektorer = null_rom((A - ev * np.eye(A.shape[0])).astype(dtype))\n",
    "        if len(egenvektorer) > 0:\n",
    "            res.append((ev, len(egenvektorer), egenvektorer))\n",
    "    \n",
    "    return res  # Returnerer en liste med tupler av evenverdier, multiplisiteter og egenvektorer"
   ]
  },
  {
   "cell_type": "code",
   "execution_count": 22,
   "id": "22080eca-4617-4124-b094-e34126936c74",
   "metadata": {},
   "outputs": [],
   "source": [
    "def skriv_ut_egenvektorer_og_multiplikasjon_med_matrise(A, egenverdier_og_egenvektorer):\n",
    "    print('Alle vektorer her skal leses som kolonnevektorer\\n')\n",
    "    for key, _, val in sorted(egenverdier_og_egenvektorer, key = lambda x: complex(x[0]).real):\n",
    "        print('egenverdi:     ', key)\n",
    "        print('egenvektor:    ', np.array(val[0]).ravel())\n",
    "        print('A @ evenvektor:', np.array(A @ val[0]).ravel())\n",
    "        print()"
   ]
  },
  {
   "cell_type": "code",
   "execution_count": 29,
   "id": "f8846c79-6464-4e06-a8a9-6b3b1b125f63",
   "metadata": {},
   "outputs": [
    {
     "name": "stdout",
     "output_type": "stream",
     "text": [
      "-1.0\n",
      "kompleks\n",
      "1.0\n",
      "kompleks\n"
     ]
    },
    {
     "name": "stderr",
     "output_type": "stream",
     "text": [
      "/tmp/nix-shell.EYmWY5/ipykernel_32062/791420158.py:23: ComplexWarning: Casting complex values to real discards the imaginary part\n",
      "  egenvektorer = null_rom((A - ev * np.eye(A.shape[0])).astype(dtype))\n"
     ]
    },
    {
     "data": {
      "text/plain": [
       "[3.0]"
      ]
     },
     "execution_count": 29,
     "metadata": {},
     "output_type": "execute_result"
    }
   ],
   "source": [
    "[complex(x[0]).real for x in finn_egenvektorer_og_egenverdier(A)]"
   ]
  },
  {
   "cell_type": "code",
   "execution_count": 24,
   "id": "7d91373b-b1eb-4af8-af60-e0de1e71eb9b",
   "metadata": {},
   "outputs": [
    {
     "name": "stdout",
     "output_type": "stream",
     "text": [
      "-1.0\n",
      "kompleks\n",
      "1.0\n",
      "kompleks\n",
      "Alle vektorer her skal leses som kolonnevektorer\n",
      "\n",
      "egenverdi:      3.0\n",
      "egenvektor:     [-2. -3.  1.]\n",
      "A @ evenvektor: [-6. -9.  3.]\n",
      "\n"
     ]
    },
    {
     "name": "stderr",
     "output_type": "stream",
     "text": [
      "/tmp/nix-shell.EYmWY5/ipykernel_32062/791420158.py:23: ComplexWarning: Casting complex values to real discards the imaginary part\n",
      "  egenvektorer = null_rom((A - ev * np.eye(A.shape[0])).astype(dtype))\n"
     ]
    }
   ],
   "source": [
    "skriv_ut_egenvektorer_og_multiplikasjon_med_matrise(A, finn_egenvektorer_og_egenverdier(A))"
   ]
  },
  {
   "cell_type": "markdown",
   "id": "dd226ff2-0cdc-48a2-8cef-1b011e09fff0",
   "metadata": {},
   "source": [
    "Pakken sympy kan regne ut egenverdier og egenvektorer for oss. Uheldigvis regner den ikke helt presis!"
   ]
  },
  {
   "cell_type": "code",
   "execution_count": 25,
   "id": "88aa3a0f-0b62-4327-be60-247947964d68",
   "metadata": {},
   "outputs": [
    {
     "name": "stdout",
     "output_type": "stream",
     "text": [
      "Alle vektorer her skal leses som kolonnevektorer\n",
      "\n",
      "egenverdi:      2 - I\n",
      "egenvektor:     [-1 -1 + I 1]\n",
      "A @ evenvektor: [-2 + I -1 + 3*I 2 - I]\n",
      "\n",
      "egenverdi:      2 + I\n",
      "egenvektor:     [-1 -1 - I 1]\n",
      "A @ evenvektor: [-2 - I -1 - 3*I 2 + I]\n",
      "\n",
      "egenverdi:      3\n",
      "egenvektor:     [-2 -3 1]\n",
      "A @ evenvektor: [-6 -9 3]\n",
      "\n"
     ]
    }
   ],
   "source": [
    "skriv_ut_egenvektorer_og_multiplikasjon_med_matrise(A, sp.Matrix(A).eigenvects())"
   ]
  },
  {
   "cell_type": "markdown",
   "id": "7076acf8-63d7-4f2b-8f0e-7bbbc54fcf9f",
   "metadata": {},
   "source": [
    "## Hva skjete her?"
   ]
  },
  {
   "cell_type": "markdown",
   "id": "e6798c87-aa23-4224-81a5-a82d8956602d",
   "metadata": {},
   "source": [
    "For \n",
    "$$\n",
    "A = \\left[\\begin{array}{ccc}\n",
    "0 & 1/2 & 1/2 \\\\ 1 & 0 & 0 \\\\ 0 & 1/2 & 1/2\n",
    "\\end{array}\\right]$$\n",
    "er\n",
    "$$\n",
    "A \\cdot\n",
    "\\left[\\begin{array}{c}\n",
    "1 \\\\ -2 \\\\ 1\n",
    "\\end{array}\\right]\n",
    "= \\left[\\begin{array}{ccc}\n",
    "0 & 1/2 & 1/2 \\\\ 1 & 0 & 0 \\\\ 0 & 1/2 & 1/2\n",
    "\\end{array}\\right]\n",
    "\\left[\\begin{array}{c}\n",
    "1 \\\\ -2 \\\\ 1\n",
    "\\end{array}\\right]\n",
    "=\n",
    "\\left[\\begin{array}{c}\n",
    "-1/2 \\\\ 1 \\\\ -1/2\n",
    "\\end{array}\\right]\n",
    "= \n",
    "-\\frac 12 \n",
    "\\left[\\begin{array}{c}\n",
    "1 \\\\ -2 \\\\ 1\n",
    "\\end{array}\\right]\n",
    "$$\n"
   ]
  },
  {
   "cell_type": "markdown",
   "id": "d697ca13-9bef-4d2b-9f5e-cb34d5537272",
   "metadata": {},
   "source": [
    "Vi sier at \n",
    "$\\left[\\begin{array}{c}\n",
    "1 \\\\ -2 \\\\ 1\n",
    "\\end{array}\\right]$\n",
    "er en **egenvektor** til \n",
    "$\n",
    "A = \\left[\\begin{array}{ccc}\n",
    "0 & 1/2 & 1/2 \\\\ 1 & 0 & 0 \\\\ 0 & 1/2 & 1/2\n",
    "\\end{array}\\right]$\n",
    "med **egenverdi** $-\\frac 12$"
   ]
  },
  {
   "cell_type": "markdown",
   "id": "332bc67e-2607-4666-829f-39681722b5d5",
   "metadata": {},
   "source": [
    "Tilsvarende er\n",
    "$\\left[\\begin{array}{c}\n",
    "1 \\\\ -1 \\\\ 0\n",
    "\\end{array}\\right]$\n",
    "en **egenvektor** til \n",
    "$\n",
    "A = \\left[\\begin{array}{ccc}\n",
    "0 & 1/2 & 1/2 \\\\ 1 & 0 & 0 \\\\ 0 & 1/2 & 1/2\n",
    "\\end{array}\\right]$\n",
    "med **egenverdi** $0$"
   ]
  },
  {
   "cell_type": "markdown",
   "id": "1630a91f-0adb-4b62-944d-5388a4d424b3",
   "metadata": {},
   "source": [
    "og\n",
    "$\\left[\\begin{array}{c}\n",
    "1 \\\\ 1 \\\\ 1\n",
    "\\end{array}\\right]$\n",
    "er en **egenvektor** til \n",
    "$\n",
    "A = \\left[\\begin{array}{ccc}\n",
    "0 & 1/2 & 1/2 \\\\ 1 & 0 & 0 \\\\ 0 & 1/2 & 1/2\n",
    "\\end{array}\\right]$\n",
    "med **egenverdi** $1$"
   ]
  },
  {
   "cell_type": "markdown",
   "id": "46992934-4ec7-4e01-8f7f-f093a888d4cd",
   "metadata": {},
   "source": [
    "## Metode for å finne egenverdier og egenvektorer"
   ]
  },
  {
   "cell_type": "markdown",
   "id": "c9c36d37-fb14-4ca9-9114-734909f34f7e",
   "metadata": {},
   "source": [
    "Hvis $A \\cdot \\vec v = t \\vec v$, da er $\\vec 0 = A \\cdot \\vec v - t \\vec v = A \\cdot \\vec v - t I \\cdot \\vec v = (A - tI)\\vec v$. Hvis $\\vec v \\ne \\vec 0$ må vi ha $\\det(A - tI) = 0$."
   ]
  },
  {
   "cell_type": "markdown",
   "id": "30f8c73d-8900-416c-9087-447840b334a4",
   "metadata": {},
   "source": [
    "Omvendt, hvis $\\det(A - tI) = 0$, da vet vi at det finnes in $\\vec v \\ne \\vec 0$ med $(A - tI) \\cdot \\vec v = \\vec 0$."
   ]
  },
  {
   "cell_type": "markdown",
   "id": "b34f7acb-6fd4-42ae-a160-a67b51a5f8ea",
   "metadata": {},
   "source": [
    "Vi ser på $\\det(A - tI)$ som en funksjon i den ubestemte $t$, og finner alle nullpunkter for denne funksjonen. Her kan vi for eksempel anvende metoden til Newton. \n",
    "Hvis $A$ er en $2 \\times 2$ eller $3 \\times 3$ matrise da er $\\det(A - tI)$ et polynom av grad henholdsvis 2 eller 3. Da kan vi finne nullpunkter, med litt jobbing og litt hell,\n",
    "finne nullpunkter for hånd."
   ]
  },
  {
   "cell_type": "markdown",
   "id": "c569b304-8c7c-461b-b99f-d695c1f749bb",
   "metadata": {},
   "source": [
    "## Eksempel"
   ]
  },
  {
   "cell_type": "code",
   "execution_count": 26,
   "id": "b61c1e84-4d0b-4643-8956-5b2ba3dd04c3",
   "metadata": {},
   "outputs": [],
   "source": [
    "A = np.array([\n",
    "    [2, 1, 1],\n",
    "    [2, 3, 4],\n",
    "    [1, -1, 2]\n",
    "])"
   ]
  },
  {
   "cell_type": "code",
   "execution_count": 27,
   "id": "3d7d57a8-4779-43b8-a196-0ece133a7147",
   "metadata": {},
   "outputs": [
    {
     "name": "stdout",
     "output_type": "stream",
     "text": [
      "-1.0\n",
      "kompleks\n",
      "1.0\n",
      "kompleks\n"
     ]
    },
    {
     "name": "stderr",
     "output_type": "stream",
     "text": [
      "/tmp/nix-shell.EYmWY5/ipykernel_32062/791420158.py:23: ComplexWarning: Casting complex values to real discards the imaginary part\n",
      "  egenvektorer = null_rom((A - ev * np.eye(A.shape[0])).astype(dtype))\n"
     ]
    },
    {
     "data": {
      "text/plain": [
       "[(3.0,\n",
       "  1,\n",
       "  [array([[-2.],\n",
       "          [-3.],\n",
       "          [ 1.]])])]"
      ]
     },
     "execution_count": 27,
     "metadata": {},
     "output_type": "execute_result"
    }
   ],
   "source": [
    "finn_egenvektorer_og_egenverdier(A, dtype='float')"
   ]
  },
  {
   "cell_type": "code",
   "execution_count": 28,
   "id": "7013ee81-e567-4be5-96e5-4356ba62ec9c",
   "metadata": {},
   "outputs": [
    {
     "name": "stdout",
     "output_type": "stream",
     "text": [
      "-1.0\n",
      "kompleks\n",
      "1.0\n",
      "kompleks\n",
      "Alle vektorer her skal leses som kolonnevektorer\n",
      "\n",
      "egenverdi:      3.0\n",
      "egenvektor:     [-2. -3.  1.]\n",
      "A @ evenvektor: [-6. -9.  3.]\n",
      "\n"
     ]
    },
    {
     "name": "stderr",
     "output_type": "stream",
     "text": [
      "/tmp/nix-shell.EYmWY5/ipykernel_32062/791420158.py:23: ComplexWarning: Casting complex values to real discards the imaginary part\n",
      "  egenvektorer = null_rom((A - ev * np.eye(A.shape[0])).astype(dtype))\n"
     ]
    }
   ],
   "source": [
    "skriv_ut_egenvektorer_og_multiplikasjon_med_matrise(A, finn_egenvektorer_og_egenverdier(A, dtype='float'))"
   ]
  },
  {
   "cell_type": "code",
   "execution_count": null,
   "id": "21c98c60-c530-4080-85f7-b375d7ef6702",
   "metadata": {},
   "outputs": [],
   "source": [
    "t = sp.symbols('t')  # Definerer symbolet t, som brukes i det karakteristiske polynomet\n",
    "B = A - t * sp.eye(A.shape[0])  # Lager matrisen B = A - t*I, hvor I er identitetsmatrisen\n",
    "karakteristisk_polynom = B.det()  # Finner determinant av B, som gir det karakteristiske polynomet\n",
    "\n",
    "egenverdier = sp.solve(karakteristisk_polynom)  # Løser det karakteristiske polynomet for å finne egenverdiene\n",
    "egenverdier, karakteristisk_polynom"
   ]
  },
  {
   "cell_type": "markdown",
   "id": "a8f51096-07e2-47ae-a94d-33645eecd73c",
   "metadata": {},
   "source": [
    "Kan du forklare hvorfor vi kun finner en egenvektor?"
   ]
  },
  {
   "cell_type": "markdown",
   "id": "b1937147-1fd7-4dca-b8a4-c99d29039cf5",
   "metadata": {},
   "source": [
    "## Eksempel"
   ]
  },
  {
   "cell_type": "code",
   "execution_count": null,
   "id": "41cb74b5-a3c3-49e1-aef8-3f53025f6a90",
   "metadata": {},
   "outputs": [],
   "source": [
    "M = np.array([\n",
    "    [-4, -2, -2],\n",
    "    [-4, -6, -8],\n",
    "    [2, 2, 4]\n",
    "])"
   ]
  },
  {
   "cell_type": "code",
   "execution_count": null,
   "id": "a3bf94df-f276-47ac-99e9-fbd1e215715e",
   "metadata": {},
   "outputs": [],
   "source": [
    "skriv_ut_egenvektorer_og_multiplikasjon_med_matrise(M, finn_egenvektorer_og_egenverdier(M))"
   ]
  },
  {
   "cell_type": "code",
   "execution_count": null,
   "id": "9bae1e8e-fa83-421b-9737-29afe7ce3873",
   "metadata": {},
   "outputs": [],
   "source": [
    "t = sp.symbols('t')  # Definerer symbolet t, som brukes i det karakteristiske polynomet\n",
    "B = M - t * sp.eye(M.shape[0])  # Lager matrisen B = A - t*I, hvor I er identitetsmatrisen\n",
    "karakteristisk_polynom = B.det()  # Finner determinant av B, som gir det karakteristiske polynomet\n",
    "\n",
    "egenverdier = sp.solve(karakteristisk_polynom)  # Løser det karakteristiske polynomet for å finne egenverdiene\n",
    "egenverdier"
   ]
  },
  {
   "cell_type": "code",
   "execution_count": null,
   "id": "d2112e87-98e7-4cf0-b293-f990f76d1b36",
   "metadata": {},
   "outputs": [],
   "source": [
    "karakteristisk_polynom"
   ]
  },
  {
   "cell_type": "code",
   "execution_count": null,
   "id": "943c64f9-baca-4494-8cd9-c1e792a47d34",
   "metadata": {},
   "outputs": [],
   "source": []
  }
 ],
 "metadata": {
  "kernelspec": {
   "display_name": "Python 3 (ipykernel)",
   "language": "python",
   "name": "python3"
  },
  "language_info": {
   "codemirror_mode": {
    "name": "ipython",
    "version": 3
   },
   "file_extension": ".py",
   "mimetype": "text/x-python",
   "name": "python",
   "nbconvert_exporter": "python",
   "pygments_lexer": "ipython3",
   "version": "3.12.8"
  }
 },
 "nbformat": 4,
 "nbformat_minor": 5
}
