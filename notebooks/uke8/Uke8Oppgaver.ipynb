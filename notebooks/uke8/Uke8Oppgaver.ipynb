{
 "cells": [
  {
   "cell_type": "markdown",
   "id": "fa9d7b13-0b94-4436-833c-b14ada6cea5a",
   "metadata": {},
   "source": [
    "# Oppgaver Uke 8"
   ]
  },
  {
   "cell_type": "markdown",
   "id": "3f7c956d-a40c-4cf7-ba03-57bb6326a6da",
   "metadata": {},
   "source": [
    "## Oppgave 1"
   ]
  },
  {
   "cell_type": "markdown",
   "id": "53467a83-8ee8-4006-84db-000032172c76",
   "metadata": {},
   "source": [
    "Finn determinanten til matrisene\n",
    "1. $$\\left[\\begin{array}{cc} 2 & 3\\\\ 4 & 2\\end{array}\\right]$$\n",
    "1. $$\\left[\\begin{array}{cc} -2 & 3\\\\ 4 & 2\\end{array}\\right]$$"
   ]
  },
  {
   "cell_type": "markdown",
   "id": "73f493da-4ea1-42ef-b0c4-116c18bcbc6b",
   "metadata": {},
   "source": [
    "## Oppgave 2"
   ]
  },
  {
   "cell_type": "markdown",
   "id": "26643aad-bec0-49d2-a048-59045672a02d",
   "metadata": {},
   "source": [
    "Løs både for hånd og ved help av python\n",
    "\n",
    "1. MIP 10.6.5\n",
    "2. MIP 10.6.6\n",
    "3. MIP 10.5.2\n",
    "4. MIP 10.5.9"
   ]
  },
  {
   "cell_type": "markdown",
   "id": "f3fac2a0-4c13-4b0d-a793-acf451fac052",
   "metadata": {},
   "source": [
    "## Oppgave 3"
   ]
  },
  {
   "cell_type": "markdown",
   "id": "ff6dafde-dfb4-41e2-98d7-465cf213ff15",
   "metadata": {},
   "source": [
    "Fullfør følgende python funksjoner:"
   ]
  },
  {
   "cell_type": "code",
   "execution_count": 1,
   "id": "9b7d140b-7be0-4275-81a6-4fb9e47706e4",
   "metadata": {},
   "outputs": [],
   "source": [
    "import numpy as np\n",
    "\n",
    "def determinant2x2(A):\n",
    "    \"\"\"\n",
    "    Begregner determinanten til en 2 x 2 matrise\n",
    "    \n",
    "    Parametere:\n",
    "        A (np.ndarray): En Numpy-array med to rader og to kolonner\n",
    "    \n",
    "    Returnerer:\n",
    "        float: Determinanten til matrisen A.\n",
    "    \"\"\"\n",
    "    a = A[0, 0]\n",
    "    b = A[0, 1]\n",
    "    c = A[1, 0]\n",
    "    d = A[1, 1]\n",
    "    return\n",
    "\n",
    "def determinant3x3(A):\n",
    "    \"\"\"\n",
    "    Begregner determinanten til en 3 x 3 matrise\n",
    "    \n",
    "    Parametere:\n",
    "        A (np.ndarray): En Numpy-array med tre rader og tre kolonner\n",
    "    \n",
    "    Returnerer:\n",
    "        float: Determinanten til matrisen A.\n",
    "    \"\"\"\n",
    "    a = A[0, 0]\n",
    "    b = A[0, 1]\n",
    "    c = A[0, 2]\n",
    "    return a * determinant2x2(A[1:, [1, 2]]) - determinant2x2(A[1:, [0, 2]]) # + fortsett her"
   ]
  },
  {
   "cell_type": "markdown",
   "id": "5d4f6e9b-a5a6-4fa8-be05-d7b3c9e1f37b",
   "metadata": {},
   "source": [
    "Hvis du synes dette er enkelt, se om du kan skrive kode som beregner determinanten til 4 x 4 matriser."
   ]
  },
  {
   "cell_type": "markdown",
   "id": "604c37df-568a-4aaf-a047-c0862f70f26e",
   "metadata": {},
   "source": [
    "Bruk funksjonene to å løse oppgavene 10.6.1 og 10.6.2 i MIP."
   ]
  },
  {
   "cell_type": "markdown",
   "id": "e06defff-c0b4-4fa7-b4e6-ee3ebc486b2a",
   "metadata": {},
   "source": [
    "## Oppgave 4"
   ]
  },
  {
   "cell_type": "markdown",
   "id": "81bdf70c-1b8a-4612-90bc-3f12d0bef954",
   "metadata": {},
   "source": [
    "Løs MIP oppgave 10.5.8 for hånd. Skriv deretter en Python-funksjon som returnerer en m x n matrise etter samme formel som i oppgaven."
   ]
  },
  {
   "cell_type": "markdown",
   "id": "557be60c-7874-462b-b7e7-55d25123e751",
   "metadata": {},
   "source": [
    "## Oppgave 5"
   ]
  },
  {
   "cell_type": "markdown",
   "id": "58516954-f873-478d-8da3-3aa06e86895a",
   "metadata": {},
   "source": [
    "Løs oppgavene\n",
    "\n",
    "1. MIP 10.6.7\n",
    "2. MIP 10.6.8\n",
    "3. MIP 10.7.1\n",
    "4. MIP 10.7.4\n",
    "5. MIP 10.7.7"
   ]
  },
  {
   "cell_type": "markdown",
   "id": "c31a7c0e-63d2-4ae0-8e67-7a6f459c539d",
   "metadata": {},
   "source": [
    "## Oppgave 6"
   ]
  },
  {
   "cell_type": "markdown",
   "id": "61bf4e55-390c-42c3-a316-1599a2c91bcd",
   "metadata": {},
   "source": [
    "Fullfør følgende python funksjon ved hjelp av formelen i oppgave MIP 10.7.4. Bruk funksjonen til å løse oppgave 10.7.5 i MIP."
   ]
  },
  {
   "cell_type": "code",
   "execution_count": 2,
   "id": "42aa2b61-e706-4159-8b1b-c79451790ffe",
   "metadata": {},
   "outputs": [],
   "source": [
    "import numpy as np\n",
    "\n",
    "def invers2x2(A):\n",
    "    \"\"\"\n",
    "    Begregner den inverse matrisen til en 2 x 2 matrise\n",
    "    Hvis den inverse matrisen ikke finnes stopper funksjonen opp \n",
    "    med en feilmelding\n",
    "    \n",
    "    Parametere:\n",
    "        A (np.ndarray): En Numpy-array med to rader og to kolonner\n",
    "    \n",
    "    Returnerer:\n",
    "        A_invers (np.ndarray): En Numpy-array med to rader og to kolonner\n",
    "    \"\"\"\n",
    "    d = determinant2x2(A)\n",
    "    assert d != 0, 'Determinanten er null, så den inverse matrisen finnes ikke'\n",
    "\n",
    "    p = A[0, 0]\n",
    "    q = A[0, 1]\n",
    "    r = A[1, 0]\n",
    "    s = A[1, 1]\n",
    "\n",
    "    a = s/d\n",
    "    # b = \n",
    "    # c = \n",
    "    # d = \n",
    "\n",
    "    # A_invers = np.array([\n",
    "    #  [a, b],\n",
    "    #  [c, d]\n",
    "    # ])\n",
    "    return # A_invers"
   ]
  },
  {
   "cell_type": "markdown",
   "id": "b2736962-29e6-4594-aa88-ee8d24ae75f5",
   "metadata": {},
   "source": [
    "## Oppgave 7"
   ]
  },
  {
   "cell_type": "markdown",
   "id": "2233f899-1ee3-4cb2-b38e-8d1ec6cfa0ef",
   "metadata": {},
   "source": [
    "Gjør eksamens"
   ]
  }
 ],
 "metadata": {
  "kernelspec": {
   "display_name": "Python 3 (ipykernel)",
   "language": "python",
   "name": "python3"
  },
  "language_info": {
   "codemirror_mode": {
    "name": "ipython",
    "version": 3
   },
   "file_extension": ".py",
   "mimetype": "text/x-python",
   "name": "python",
   "nbconvert_exporter": "python",
   "pygments_lexer": "ipython3",
   "version": "3.12.8"
  }
 },
 "nbformat": 4,
 "nbformat_minor": 5
}
