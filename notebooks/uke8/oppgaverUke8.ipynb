{
 "cells": [
  {
   "cell_type": "markdown",
   "id": "fab71ae8-b0ba-46f9-ae9e-850d084d0d65",
   "metadata": {},
   "source": [
    "# Oppgaver i MAT102, uke 7"
   ]
  },
  {
   "cell_type": "markdown",
   "id": "a9d33eb4-3df4-4240-a734-3f9b7756df55",
   "metadata": {},
   "source": [
    "## Oppgave 1"
   ]
  },
  {
   "cell_type": "markdown",
   "id": "d916cd9a-9132-4911-9bb8-d79061e97e59",
   "metadata": {},
   "source": [
    "1. Gjør oppgave 10.1.1 i MIP. Bruk gjerne python til det.\n",
    "2. Gjør oppgave 10.1.2 i MIP. Bruk gjerne python til det hvis du vil.\n",
    "3. Gjør oppgave 10.1.5 i MIP."
   ]
  },
  {
   "cell_type": "markdown",
   "id": "53bc220a-4b69-4349-aae6-577e7ee1efb7",
   "metadata": {},
   "source": [
    "## Oppgave 2"
   ]
  },
  {
   "cell_type": "markdown",
   "id": "9400b37b-cf3b-4b4a-94d1-5241444bd1f5",
   "metadata": {},
   "source": [
    "Undersøk om følgende vektorer står vinkelrett på hverandre\n",
    "\n",
    "1. $[3,1]$ og $[2, -6]$\n",
    "2. $[1,2,3]$ og $[-3,2,-1]$\n",
    "3. $[-1,-1,5]$ og $[3,-7,-1]$\n",
    "4. $[\\cos(t), \\sin(t)]$ og $[\\sin(t), -\\cos(t)]$ for ukjent $t \\in \\mathbb{R}$ "
   ]
  },
  {
   "cell_type": "markdown",
   "id": "9c82ad24-3604-41d8-aa7c-67fcbc8641ee",
   "metadata": {},
   "source": [
    "## Oppgave 3"
   ]
  },
  {
   "cell_type": "markdown",
   "id": "4fbab0b8-9a09-41f8-956b-9a1754c23712",
   "metadata": {},
   "source": [
    "Løs følgende oppgaver fra MIP for hånd eller ved hjelp av python:"
   ]
  },
  {
   "cell_type": "markdown",
   "id": "7a4b734c-76f1-4224-8038-0b036e82a6a9",
   "metadata": {},
   "source": [
    "1. 10.4.1, 10.4.2 og 10.4.5\n",
    "2. 10.4.6\n",
    "3. 10.5.1\n",
    "4. 10.5.5"
   ]
  },
  {
   "cell_type": "markdown",
   "id": "0694383f-9440-4a8f-afd0-3f21d25f1f8f",
   "metadata": {},
   "source": [
    "## Hint til oppgavene"
   ]
  },
  {
   "cell_type": "markdown",
   "id": "5872cfa6-8c51-47fd-9a40-88fcf4aae752",
   "metadata": {},
   "source": [
    "Vinkelen $\\theta$ mellom to vektorer $\\vec a$ og $\\vec b$ oppfylder $\\vec a \\cdot \\vec b = \\cos(\\theta) \\cdot |\\vec a| \\cdot |\\vec b|$"
   ]
  },
  {
   "cell_type": "markdown",
   "id": "a5561d85-241d-446b-bec5-85122424d9d6",
   "metadata": {},
   "source": [
    "En matrise kan skrives inn i python på denne måten"
   ]
  },
  {
   "cell_type": "code",
   "execution_count": 1,
   "id": "0a2037de-836f-4579-bd18-93f89cd633a7",
   "metadata": {},
   "outputs": [],
   "source": [
    "import numpy as np"
   ]
  },
  {
   "cell_type": "code",
   "execution_count": 2,
   "id": "f3861dab-40b4-466c-87b8-83c6c45f9792",
   "metadata": {},
   "outputs": [],
   "source": [
    "A = np.array([\n",
    "    [1,2,3,4,5,6],\n",
    "    [7,8,9,1,2,3]\n",
    "])\n",
    "\n",
    "B = np.array([\n",
    "    [1, 2],\n",
    "    [3, 4],\n",
    "    [5, 6],\n",
    "    [7, 8],\n",
    "    [9, 1],\n",
    "    [2, 3]\n",
    "])"
   ]
  },
  {
   "cell_type": "markdown",
   "id": "428ef232-2ac8-4d37-987d-968243ba144f",
   "metadata": {},
   "source": [
    "Vi kan vise matrisen ved å skrive navnet på den:"
   ]
  },
  {
   "cell_type": "code",
   "execution_count": 3,
   "id": "e8ca8689-7d68-473b-a8e9-82fe02189747",
   "metadata": {},
   "outputs": [
    {
     "data": {
      "text/plain": [
       "array([[1, 2, 3, 4, 5, 6],\n",
       "       [7, 8, 9, 1, 2, 3]])"
      ]
     },
     "execution_count": 3,
     "metadata": {},
     "output_type": "execute_result"
    }
   ],
   "source": [
    "A"
   ]
  },
  {
   "cell_type": "markdown",
   "id": "2847115f-eac9-48c5-b2d7-ec29fb64c817",
   "metadata": {},
   "source": [
    "Produktet av matriser betegnes `@` i python:"
   ]
  },
  {
   "cell_type": "code",
   "execution_count": 4,
   "id": "17020c76-2bf3-4dd9-bfda-be662cd7b734",
   "metadata": {},
   "outputs": [
    {
     "data": {
      "text/plain": [
       "array([[107,  83],\n",
       "       [107, 119]])"
      ]
     },
     "execution_count": 4,
     "metadata": {},
     "output_type": "execute_result"
    }
   ],
   "source": [
    "C = A @ B\n",
    "C"
   ]
  },
  {
   "cell_type": "code",
   "execution_count": 5,
   "id": "f2c26f63-c8ea-4110-b151-3abd306bc6fc",
   "metadata": {},
   "outputs": [],
   "source": [
    "def normer_forste_element(vektor):\n",
    "    \"\"\"\n",
    "    Normaliserer en vektor ved å dele alle elementer på det første ikke-null elementet.\n",
    "    \n",
    "    Parametere:\n",
    "        vektor (np.ndarray): En 1D Numpy-array som skal normaliseres.\n",
    "    \n",
    "    Returnerer:\n",
    "        np.ndarray: En normalisert vektor der det første ikke-null elementet er 1.\n",
    "    \"\"\"\n",
    "    if np.allclose(vektor, 0):\n",
    "        return vektor\n",
    "    # Finn indeksen til det første elementet i vektoren som ikke er null\n",
    "    forste_ikke_null_indeks = np.argmax(vektor != 0)\n",
    "    \n",
    "    # Hent verdien til det første ikke-null elementet\n",
    "    forste_ikke_null_element = vektor[forste_ikke_null_indeks]\n",
    "    \n",
    "    # Returner den normaliserte vektoren\n",
    "    return vektor / forste_ikke_null_element\n",
    "\n",
    "def gauss_jordan(matrise, epsilon=1e-8):\n",
    "    \"\"\"\n",
    "    Utfører Gauss-Jordan eliminasjon på en gitt matrise.\n",
    "    \n",
    "    Parametere:\n",
    "        matrise (np.ndarray): En 2D Numpy-array som representerer matrisen.\n",
    "        epsilon (float): En liten verdi for å håndtere numerisk presisjon.\n",
    "    \n",
    "    Returnerer:\n",
    "        np.ndarray: En rekkeredusert matrise i redusert trappeform.\n",
    "    \"\"\"\n",
    "    # Sett svært små verdier til null for å unngå numeriske feil\n",
    "    matrise[np.abs(matrise) < epsilon] = 0\n",
    "    \n",
    "    # Hvis matrisen kun består av nuller, returner den uendret\n",
    "    if np.allclose(matrise, 0):\n",
    "        return matrise\n",
    "    \n",
    "    # Hvis matrisen har én rad, normaliser den første radens første ikke-null element\n",
    "    elif len(matrise) == 1:\n",
    "        matrise[0] = normer_forste_element(matrise[0])\n",
    "        return matrise\n",
    "    \n",
    "    # Beregn radenes summer for å normalisere matrisen (gjør tallene mer håndterbare)\n",
    "    rad_maksimummer = np.max(np.abs(matrise), axis=1)\n",
    "    rad_maksimummer[rad_maksimummer <= epsilon] = 1\n",
    "    matrise = matrise / rad_maksimummer[:, None]  # Normaliser hver rad\n",
    "    # Finn kolonner som inneholder ikke-null elementer\n",
    "    ikke_null_kolonner = np.any(matrise != 0, axis=0)\n",
    "    \n",
    "    # Finn indeksen til den første kolonnen med ikke-null elementer\n",
    "    forste_ikke_null_kolonne = np.argmax(np.abs(ikke_null_kolonner))\n",
    "    # Finn indeksen til raden med største verdi i den valgte kolonnen (pivot rad)\n",
    "    pivot_rad_indeks = np.argmax(matrise[:, forste_ikke_null_kolonne])\n",
    "    \n",
    "    # Normaliser pivot-raden\n",
    "    pivot_rad = normer_forste_element(matrise[pivot_rad_indeks])\n",
    "    \n",
    "    # Bytt plass på pivot-raden og den første raden\n",
    "    matrise[pivot_rad_indeks] = matrise[0]\n",
    "    matrise[0] = pivot_rad\n",
    "    # Utfør eliminering for å gjøre alle elementene under pivoten null\n",
    "    if matrise[0, forste_ikke_null_kolonne] > epsilon:\n",
    "        matrise[1:] -= (matrise[1:, 0] / matrise[0, forste_ikke_null_kolonne])[:, None] * matrise[0]\n",
    "\n",
    "    # Kall Gauss-Jordan rekursivt på den nedre delmatrisen\n",
    "    matrise[1:, 1:] = gauss_jordan(matrise[1:, 1:])\n",
    "    \n",
    "    # Gjør den første raden null over pivot-posisjonene til de øvrige radene.\n",
    "    for rad in matrise[1:]:\n",
    "        if np.any(rad != 0):  # Hvis raden ikke er null\n",
    "            # Finn indeksen til det første ikke-null elementet i raden\n",
    "            forste_ikke_null_kolonne = np.argmax(rad != 0)\n",
    "            \n",
    "            # Trekk fra et multiplum av denne raden for å gjøre elementet over pivot null\n",
    "            matrise[0] -= (matrise[0, forste_ikke_null_kolonne] / rad[forste_ikke_null_kolonne]) * rad\n",
    "    \n",
    "    # Returner den resulterende matrisen\n",
    "    return matrise\n"
   ]
  },
  {
   "cell_type": "markdown",
   "id": "442c3d7d-69c2-4826-9ff6-85b09b273a92",
   "metadata": {},
   "source": [
    "Koden under reduserer matriser."
   ]
  },
  {
   "cell_type": "markdown",
   "id": "1affd4db-dff6-420f-a28c-8fd37bce80b8",
   "metadata": {},
   "source": [
    "Her er et eksempel på bruk:"
   ]
  },
  {
   "cell_type": "code",
   "execution_count": 6,
   "id": "9a5b6990-10b1-41c0-8943-04d972fa64eb",
   "metadata": {},
   "outputs": [
    {
     "data": {
      "text/plain": [
       "array([[ 1. ,  0. , -1. , -5. , -6. , -7. ],\n",
       "       [ 0. ,  1. ,  2. ,  4.5,  5.5,  6.5]])"
      ]
     },
     "execution_count": 6,
     "metadata": {},
     "output_type": "execute_result"
    }
   ],
   "source": [
    "gauss_jordan(A)"
   ]
  },
  {
   "cell_type": "code",
   "execution_count": 7,
   "id": "8911090a-47c5-44f6-a9f1-6ed2c386eee7",
   "metadata": {},
   "outputs": [
    {
     "data": {
      "text/plain": [
       "array([[1., 0.],\n",
       "       [0., 1.],\n",
       "       [0., 0.],\n",
       "       [0., 0.],\n",
       "       [0., 0.],\n",
       "       [0., 0.]])"
      ]
     },
     "execution_count": 7,
     "metadata": {},
     "output_type": "execute_result"
    }
   ],
   "source": [
    "gauss_jordan(B)"
   ]
  },
  {
   "cell_type": "markdown",
   "id": "fc018ece-5705-4de8-9013-98f5b76484b6",
   "metadata": {},
   "source": [
    "La oss løse eksempel 2 på side 317 i MIP ved hjelp av koden over:"
   ]
  },
  {
   "cell_type": "code",
   "execution_count": 8,
   "id": "d9492782-dc15-4a0a-adf8-7ae57b703ac9",
   "metadata": {},
   "outputs": [],
   "source": [
    "M = np.array([\n",
    "    [2, 9, 0, 32, 13],\n",
    "    [-1, 1, 6, 28, -19],\n",
    "    [1, 2, -3, -7, 13]\n",
    "])"
   ]
  },
  {
   "cell_type": "code",
   "execution_count": 9,
   "id": "e9a2ca83-1352-4aa0-9705-58561c899be6",
   "metadata": {},
   "outputs": [
    {
     "data": {
      "text/plain": [
       "array([[ 1.,  0.,  0., 34.,  2.],\n",
       "       [ 0.,  1.,  0., -4.,  1.],\n",
       "       [ 0.,  0.,  1., 11., -3.]])"
      ]
     },
     "execution_count": 9,
     "metadata": {},
     "output_type": "execute_result"
    }
   ],
   "source": [
    "gauss_jordan(M)"
   ]
  },
  {
   "cell_type": "markdown",
   "id": "8caf00e2-1448-402e-b46d-4c00b3310da5",
   "metadata": {},
   "source": [
    "Vi ser at siste kolonne er for høyresiden av ligningen og at det er fire kolonner for ukjente variabler. Siden det er tre pivotkolonner er det tre bundne parametre og en fri parameter svarende til den nest siste kolonne som ikke er en pivotkolonne."
   ]
  }
 ],
 "metadata": {
  "kernelspec": {
   "display_name": "Python 3 (ipykernel)",
   "language": "python",
   "name": "python3"
  },
  "language_info": {
   "codemirror_mode": {
    "name": "ipython",
    "version": 3
   },
   "file_extension": ".py",
   "mimetype": "text/x-python",
   "name": "python",
   "nbconvert_exporter": "python",
   "pygments_lexer": "ipython3",
   "version": "3.12.8"
  }
 },
 "nbformat": 4,
 "nbformat_minor": 5
}
