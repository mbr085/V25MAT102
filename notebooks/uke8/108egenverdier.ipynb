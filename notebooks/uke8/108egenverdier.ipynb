{
 "cells": [
  {
   "cell_type": "markdown",
   "id": "ed03c05d-05cf-417d-b60f-b208ad572580",
   "metadata": {},
   "source": [
    "# Egenverdier og evenvektorer (MIP 10.8)"
   ]
  },
  {
   "cell_type": "code",
   "execution_count": 1,
   "id": "193296ea-8327-45f2-b399-6bb0890cda22",
   "metadata": {},
   "outputs": [],
   "source": [
    "import sympy as sp\n",
    "import numpy as np"
   ]
  },
  {
   "cell_type": "markdown",
   "id": "9e9bf58a-82b6-47fe-9abe-60fcb2178730",
   "metadata": {
    "jp-MarkdownHeadingCollapsed": true
   },
   "source": [
    "## Python kode"
   ]
  },
  {
   "cell_type": "code",
   "execution_count": 2,
   "id": "7ac435e2-b62a-444d-a2db-982c7e81a3e5",
   "metadata": {},
   "outputs": [],
   "source": [
    "def normer_forste_element(vektor):\n",
    "    \"\"\"\n",
    "    Normaliserer en vektor ved å dele alle elementer på det første ikke-null elementet.\n",
    "    \n",
    "    Parametere:\n",
    "        vektor (np.ndarray): En 1D Numpy-array som skal normaliseres.\n",
    "    \n",
    "    Returnerer:\n",
    "        np.ndarray: En normalisert vektor der det første ikke-null elementet er 1.\n",
    "    \"\"\"\n",
    "    if np.allclose(vektor, 0):\n",
    "        return vektor\n",
    "    # Finn indeksen til det første elementet i vektoren som ikke er null\n",
    "    forste_ikke_null_indeks = np.argmax(vektor != 0)\n",
    "    \n",
    "    # Hent verdien til det første ikke-null elementet\n",
    "    forste_ikke_null_element = vektor[forste_ikke_null_indeks]\n",
    "    \n",
    "    # Returner den normaliserte vektoren\n",
    "    return vektor / forste_ikke_null_element\n",
    "\n",
    "def gauss_jordan(matrise, epsilon=1e-8):\n",
    "    \"\"\"\n",
    "    Utfører Gauss-Jordan eliminasjon på en gitt matrise.\n",
    "    \n",
    "    Parametere:\n",
    "        matrise (np.ndarray): En 2D Numpy-array som representerer matrisen.\n",
    "        epsilon (float): En liten verdi for å håndtere numerisk presisjon.\n",
    "    \n",
    "    Returnerer:\n",
    "        np.ndarray: En rekkeredusert matrise i redusert trappeform.\n",
    "    \"\"\"\n",
    "    # Sett svært små verdier til null for å unngå numeriske feil\n",
    "    matrise[np.abs(matrise) < epsilon] = 0\n",
    "    \n",
    "    # Hvis matrisen kun består av nuller, returner den uendret\n",
    "    if np.allclose(matrise, 0):\n",
    "        return matrise\n",
    "    \n",
    "    # Hvis matrisen har én rad, normaliser den første radens første ikke-null element\n",
    "    elif len(matrise) == 1:\n",
    "        matrise[0] = normer_forste_element(matrise[0])\n",
    "        return matrise\n",
    "    \n",
    "    # Beregn radenes summer for å normalisere matrisen (gjør tallene mer håndterbare)\n",
    "    rad_maksimummer = np.max(np.abs(matrise), axis=1)\n",
    "    rad_maksimummer[rad_maksimummer <= epsilon] = 1\n",
    "    matrise = matrise / rad_maksimummer[:, None]  # Normaliser hver rad\n",
    "    # Finn kolonner som inneholder ikke-null elementer\n",
    "    ikke_null_kolonner = np.any(matrise != 0, axis=0)\n",
    "    \n",
    "    # Finn indeksen til den første kolonnen med ikke-null elementer\n",
    "    forste_ikke_null_kolonne = np.argmax(np.abs(ikke_null_kolonner))\n",
    "    # Finn indeksen til raden med største verdi i den valgte kolonnen (pivot rad)\n",
    "    pivot_rad_indeks = np.argmax(matrise[:, forste_ikke_null_kolonne])\n",
    "    \n",
    "    # Normaliser pivot-raden\n",
    "    pivot_rad = normer_forste_element(matrise[pivot_rad_indeks])\n",
    "    \n",
    "    # Bytt plass på pivot-raden og den første raden\n",
    "    matrise[pivot_rad_indeks] = matrise[0]\n",
    "    matrise[0] = pivot_rad\n",
    "    # Utfør eliminering for å gjøre alle elementene under pivoten null\n",
    "    if matrise[0, forste_ikke_null_kolonne] > epsilon:\n",
    "        matrise[1:] -= (matrise[1:, 0] / matrise[0, forste_ikke_null_kolonne])[:, None] * matrise[0]\n",
    "\n",
    "    # Kall Gauss-Jordan rekursivt på den nedre delmatrisen\n",
    "    matrise[1:, 1:] = gauss_jordan(matrise[1:, 1:])\n",
    "    \n",
    "    # Gjør den første raden null over pivot-posisjonene til de øvrige radene.\n",
    "    for rad in matrise[1:]:\n",
    "        if np.any(rad != 0):  # Hvis raden ikke er null\n",
    "            # Finn indeksen til det første ikke-null elementet i raden\n",
    "            forste_ikke_null_kolonne = np.argmax(rad != 0)\n",
    "            \n",
    "            # Trekk fra et multiplum av denne raden for å gjøre elementet over pivot null\n",
    "            matrise[0] -= (matrise[0, forste_ikke_null_kolonne] / rad[forste_ikke_null_kolonne]) * rad\n",
    "    \n",
    "    # Returner den resulterende matrisen\n",
    "    return matrise\n"
   ]
  },
  {
   "cell_type": "code",
   "execution_count": 3,
   "id": "ba09e98a-6ab4-4d70-ac7e-342c41a364e5",
   "metadata": {},
   "outputs": [],
   "source": [
    "def pivot_posisjoner(matrise):\n",
    "    \"\"\"\n",
    "    Finner pivotposisjonene i en rekkeredusert matrise.\n",
    "    \"\"\"\n",
    "    pivot_sett = set()\n",
    "    pivot_rader = []\n",
    "    pivot_kolonner = []\n",
    "    for rad_indeks, rad in enumerate(matrise):\n",
    "        if np.any(rad != 0):\n",
    "            første_ikke_null_kolonne = np.argmax(rad != 0)\n",
    "            pivot_rader.append(rad_indeks)\n",
    "            pivot_kolonner.append(første_ikke_null_kolonne)\n",
    "    return pivot_rader, pivot_kolonner\n",
    "\n",
    "def frie_parametre(matrise):\n",
    "    \"\"\"\n",
    "    Finner bundne og frie parametere i en rekkeredusert matrise.\n",
    "    \"\"\"\n",
    "    _, pivot_kolonner = pivot_posisjoner(matrise)\n",
    "    alle_kolonner = set(range(matrise.shape[1]))\n",
    "    return sorted(alle_kolonner.difference(pivot_kolonner))\n",
    "\n",
    "def null_rom(matrise):\n",
    "    \"\"\"\n",
    "    Finner en basis for nullrommet til en matrise.\n",
    "    \"\"\"\n",
    "    nullrom_basis = []\n",
    "    redusert_matrise = gauss_jordan(matrise)\n",
    "    pivot_rader, pivot_kolonner = pivot_posisjoner(redusert_matrise)\n",
    "    frie = frie_parametre(redusert_matrise)\n",
    "    \n",
    "    for fri in frie:\n",
    "        vektor = np.zeros((matrise.shape[1], 1), dtype=matrise.dtype)\n",
    "        vektor[fri] = 1\n",
    "        for rad, kolonne in zip(pivot_rader, pivot_kolonner):\n",
    "            vektor[kolonne] = -np.sum((redusert_matrise @ vektor)[rad])\n",
    "        nullrom_basis.append(vektor)\n",
    "    \n",
    "    return nullrom_basis\n",
    "\n",
    "def partikulaer_losning(koeffisientmatrise, høyreside=None):\n",
    "    \"\"\"\n",
    "    Finner en partikulær løsning til ligningssystemet Ax = b.\n",
    "    \"\"\"\n",
    "    if høyreside is None:\n",
    "        høyreside = np.zeros(koeffisientmatrise.shape[1])\n",
    "    if len(høyreside.shape) == 1:\n",
    "        høyreside = høyreside[:, None]\n",
    "    \n",
    "    utvidet_matrise = gauss_jordan(np.hstack([koeffisientmatrise, høyreside]))\n",
    "    radindekser, kolonneindekser = pivot_posisjoner(utvidet_matrise[:, :-1])\n",
    "    løsning = np.zeros((koeffisientmatrise.shape[1], 1))\n",
    "    redusert_høyreside = utvidet_matrise[:, -1]\n",
    "    \n",
    "    for rad, kolonne in zip(radindekser, kolonneindekser):\n",
    "        løsning[kolonne] = redusert_høyreside[rad]\n",
    "\n",
    "    assert np.allclose(koeffisientmatrise @ løsning[None, :], høyreside), \"Det finnes ingen løsning til det lineære ligningssystemet\"\n",
    "    return løsning\n"
   ]
  },
  {
   "cell_type": "code",
   "execution_count": 4,
   "id": "b805383e-b130-49d6-bf2b-36f1ea44a430",
   "metadata": {},
   "outputs": [],
   "source": [
    "def finn_egenvektorer_og_egenverdier(A):\n",
    "    assert A.shape[0] == A.shape[1], \"matrisen A skal være kvadratisk\"\n",
    "\n",
    "    t = sp.symbols('t')  # Definerer symbolet t, som brukes i det karakteristiske polynomet\n",
    "    B = A - t * sp.eye(A.shape[0])  # Lager matrisen B = A - t*I, hvor I er identitetsmatrisen\n",
    "    karakteristisk_polynom = B.det()  # Finner determinant av B, som gir det karakteristiske polynomet\n",
    "    \n",
    "    egenverdier = sp.solve(karakteristisk_polynom)  # Løser det karakteristiske polynomet for å finne egenverdiene\n",
    "\n",
    "    # Lager en liste med tupler av evenverdier, multiplisiteter og egenvektorer\n",
    "    res = []\n",
    "    # for ev in sorted(egenverdier, key=lambda x: -np.abs(x)):\n",
    "    for ev in egenverdier:\n",
    "        ev = complex(ev)\n",
    "        if ev.real == ev or np.iscomplexobj(A):\n",
    "            if ev.real == ev:\n",
    "                ev = ev.real\n",
    "            egenvektorer = null_rom((A - ev * np.eye(A.shape[0])))\n",
    "            res.append((ev, len(egenvektorer), egenvektorer))\n",
    "    \n",
    "    return res  # Returnerer en liste med tupler av evenverdier, multiplisiteter og egenvektorer"
   ]
  },
  {
   "cell_type": "code",
   "execution_count": 5,
   "id": "aeee54f3-8f64-4c5f-a372-9b9487dc9337",
   "metadata": {},
   "outputs": [],
   "source": [
    "def complex_to_string(c):\n",
    "    if c.imag == 0:\n",
    "        return '{0.real:.2f}'.format(c)\n",
    "    if c.real == 0:\n",
    "        return '{0.imag:.2f}j'.format(c)\n",
    "    return '{0.real:.2f} + {0.imag:.2f}j'.format(c)\n"
   ]
  },
  {
   "cell_type": "code",
   "execution_count": 6,
   "id": "77737138-4c09-4f0d-9caf-ff4097a52a0c",
   "metadata": {},
   "outputs": [],
   "source": [
    "def complex_to_string(c, precision=7):\n",
    "    if c.imag == 0:\n",
    "        return '{0.real:.{0}f}'.format(precision, c)\n",
    "    if c.real == 0:\n",
    "        return '{0.imag:.{0}f}j'.format(precision, c)\n",
    "    return '{0.real:.{0}f} + {0.imag:.{0}f}j'.format(precision, c)"
   ]
  },
  {
   "cell_type": "code",
   "execution_count": 7,
   "id": "bc7a5dfc-2a51-4f9f-9685-02898e7c4ae7",
   "metadata": {},
   "outputs": [],
   "source": [
    "def complex_to_string(c, precision=7):\n",
    "    if np.all(c.imag == 0):\n",
    "        return np.array2string(c.real, precision=precision)\n",
    "    else:\n",
    "        return np.array2string(c, precision=precision)"
   ]
  },
  {
   "cell_type": "code",
   "execution_count": 8,
   "id": "22080eca-4617-4124-b094-e34126936c74",
   "metadata": {},
   "outputs": [],
   "source": [
    "def skriv_ut_egenvektorer_og_multiplikasjon_med_matrise(A, egenverdier_og_egenvektorer, presisjon=3):\n",
    "    print('Alle vektorer her skal leses som kolonnevektorer\\n')\n",
    "    for key, _, val in sorted(\n",
    "        egenverdier_og_egenvektorer, \n",
    "        key = lambda x: (complex(x[0]).real)**2 + (complex(x[0]).imag)**2):\n",
    "        print('egenverdi:     ', \n",
    "              key)\n",
    "        for v in val:\n",
    "            print('egenvektor:    ', complex_to_string(np.array(v, dtype='complex128').ravel(), precision=presisjon))\n",
    "            print('A @ evenvektor:', complex_to_string(np.array(A @ v, dtype='complex128').ravel(), precision=presisjon))\n",
    "        print()"
   ]
  },
  {
   "cell_type": "code",
   "execution_count": 9,
   "id": "819b8b3f-5a26-46bb-8e8c-c667a0a7553e",
   "metadata": {},
   "outputs": [],
   "source": [
    "def skriv_ut_numpy_egenvektorer_og_multiplikasjon_med_matrise(A, presisjon=3):\n",
    "    print('Alle vektorer her skal leses som kolonnevektorer\\n')\n",
    "    eigenverdier, eigenvektorer = np.linalg.eig(A)\n",
    "    for key, val in sorted(zip(eigenverdier, eigenvektorer.T),\n",
    "                           key = lambda x: (complex(x[0]).real)**2 + (complex(x[0]).imag)**2):\n",
    "        v = val[:, None]\n",
    "        print('egenverdi:     ', \n",
    "              key)\n",
    "        print('egenvektor:    ', complex_to_string(np.array(v, dtype='complex128').ravel(), precision=presisjon))\n",
    "        print('A @ evenvektor:', complex_to_string(np.array(A @ v, dtype='complex128').ravel(), precision=presisjon))\n",
    "        print()"
   ]
  },
  {
   "cell_type": "markdown",
   "id": "929f5822-a16e-4513-94b2-603fa135c29a",
   "metadata": {},
   "source": [
    "## Eksempel"
   ]
  },
  {
   "cell_type": "code",
   "execution_count": 10,
   "id": "0d6d0593-e0ce-4776-a756-607d59ce1343",
   "metadata": {},
   "outputs": [],
   "source": [
    "A = np.array([\n",
    "    [0, .5, .5],\n",
    "    [1, 0, 0],\n",
    "    [0, .5, .5]\n",
    "])"
   ]
  },
  {
   "cell_type": "code",
   "execution_count": 11,
   "id": "7d91373b-b1eb-4af8-af60-e0de1e71eb9b",
   "metadata": {},
   "outputs": [
    {
     "name": "stdout",
     "output_type": "stream",
     "text": [
      "Alle vektorer her skal leses som kolonnevektorer\n",
      "\n",
      "egenverdi:      0.0\n",
      "egenvektor:     [-0. -1.  1.]\n",
      "A @ evenvektor: [0. 0. 0.]\n",
      "\n",
      "egenverdi:      -0.5\n",
      "egenvektor:     [ 1. -2.  1.]\n",
      "A @ evenvektor: [-0.5  1.  -0.5]\n",
      "\n",
      "egenverdi:      1.0\n",
      "egenvektor:     [1. 1. 1.]\n",
      "A @ evenvektor: [1. 1. 1.]\n",
      "\n"
     ]
    }
   ],
   "source": [
    "skriv_ut_egenvektorer_og_multiplikasjon_med_matrise(A, finn_egenvektorer_og_egenverdier(A))"
   ]
  },
  {
   "cell_type": "markdown",
   "id": "dd226ff2-0cdc-48a2-8cef-1b011e09fff0",
   "metadata": {},
   "source": [
    "Pakken sympy kan regne ut egenverdier og egenvektorer for oss. Uheldigvis regner den ikke helt presis!"
   ]
  },
  {
   "cell_type": "code",
   "execution_count": 12,
   "id": "88aa3a0f-0b62-4327-be60-247947964d68",
   "metadata": {},
   "outputs": [
    {
     "name": "stdout",
     "output_type": "stream",
     "text": [
      "Alle vektorer her skal leses som kolonnevektorer\n",
      "\n",
      "egenverdi:      -7.10753320192609e-65\n",
      "egenvektor:     [ 4.162e-65 -8.165e-01  8.165e-01]\n",
      "A @ evenvektor: [0.000e+00 4.162e-65 0.000e+00]\n",
      "\n",
      "egenverdi:      -0.500000000000000\n",
      "egenvektor:     [ 0.408 -0.816  0.408]\n",
      "A @ evenvektor: [-0.204  0.408 -0.204]\n",
      "\n",
      "egenverdi:      1.00000000000000\n",
      "egenvektor:     [0.577 0.577 0.577]\n",
      "A @ evenvektor: [0.577 0.577 0.577]\n",
      "\n"
     ]
    }
   ],
   "source": [
    "skriv_ut_egenvektorer_og_multiplikasjon_med_matrise(A, sp.Matrix(A).eigenvects())"
   ]
  },
  {
   "cell_type": "markdown",
   "id": "7ddeddab-1468-4518-8993-793057ffc105",
   "metadata": {},
   "source": [
    "Også numpy kan regne ut egenverdier og egenvektorer. Uheldigvis regner den heller ikke helt presis."
   ]
  },
  {
   "cell_type": "code",
   "execution_count": 13,
   "id": "729f3708-ba1e-4c33-b4de-4b2759248b74",
   "metadata": {},
   "outputs": [
    {
     "name": "stdout",
     "output_type": "stream",
     "text": [
      "Alle vektorer her skal leses som kolonnevektorer\n",
      "\n",
      "egenverdi:      2.6086068435760837e-17\n",
      "egenvektor:     [-1.110e-16 -7.071e-01  7.071e-01]\n",
      "A @ evenvektor: [ 3.331e-16 -1.110e-16  3.331e-16]\n",
      "\n",
      "egenverdi:      -0.5000000000000006\n",
      "egenvektor:     [ 0.408 -0.816  0.408]\n",
      "A @ evenvektor: [-0.204  0.408 -0.204]\n",
      "\n",
      "egenverdi:      0.9999999999999998\n",
      "egenvektor:     [-0.577 -0.577 -0.577]\n",
      "A @ evenvektor: [-0.577 -0.577 -0.577]\n",
      "\n"
     ]
    }
   ],
   "source": [
    "skriv_ut_numpy_egenvektorer_og_multiplikasjon_med_matrise(A)"
   ]
  },
  {
   "cell_type": "markdown",
   "id": "7076acf8-63d7-4f2b-8f0e-7bbbc54fcf9f",
   "metadata": {},
   "source": [
    "## Hva skjete her?"
   ]
  },
  {
   "cell_type": "markdown",
   "id": "e6798c87-aa23-4224-81a5-a82d8956602d",
   "metadata": {},
   "source": [
    "For \n",
    "$$\n",
    "A = \\left[\\begin{array}{ccc}\n",
    "0 & 1/2 & 1/2 \\\\ 1 & 0 & 0 \\\\ 0 & 1/2 & 1/2\n",
    "\\end{array}\\right]$$\n",
    "er\n",
    "$$\n",
    "A \\cdot\n",
    "\\left[\\begin{array}{c}\n",
    "1 \\\\ -2 \\\\ 1\n",
    "\\end{array}\\right]\n",
    "= \\left[\\begin{array}{ccc}\n",
    "0 & 1/2 & 1/2 \\\\ 1 & 0 & 0 \\\\ 0 & 1/2 & 1/2\n",
    "\\end{array}\\right]\n",
    "\\left[\\begin{array}{c}\n",
    "1 \\\\ -2 \\\\ 1\n",
    "\\end{array}\\right]\n",
    "=\n",
    "\\left[\\begin{array}{c}\n",
    "-1/2 \\\\ 1 \\\\ -1/2\n",
    "\\end{array}\\right]\n",
    "= \n",
    "-\\frac 12 \n",
    "\\left[\\begin{array}{c}\n",
    "1 \\\\ -2 \\\\ 1\n",
    "\\end{array}\\right]\n",
    "$$\n"
   ]
  },
  {
   "cell_type": "markdown",
   "id": "d697ca13-9bef-4d2b-9f5e-cb34d5537272",
   "metadata": {},
   "source": [
    "Vi sier at \n",
    "$\\left[\\begin{array}{c}\n",
    "1 \\\\ -2 \\\\ 1\n",
    "\\end{array}\\right]$\n",
    "er en **egenvektor** til \n",
    "$\n",
    "A = \\left[\\begin{array}{ccc}\n",
    "0 & 1/2 & 1/2 \\\\ 1 & 0 & 0 \\\\ 0 & 1/2 & 1/2\n",
    "\\end{array}\\right]$\n",
    "med **egenverdi** $-\\frac 12$"
   ]
  },
  {
   "cell_type": "markdown",
   "id": "332bc67e-2607-4666-829f-39681722b5d5",
   "metadata": {},
   "source": [
    "Tilsvarende er\n",
    "$\\left[\\begin{array}{c}\n",
    "1 \\\\ -1 \\\\ 0\n",
    "\\end{array}\\right]$\n",
    "en **egenvektor** til \n",
    "$\n",
    "A = \\left[\\begin{array}{ccc}\n",
    "0 & 1/2 & 1/2 \\\\ 1 & 0 & 0 \\\\ 0 & 1/2 & 1/2\n",
    "\\end{array}\\right]$\n",
    "med **egenverdi** $0$"
   ]
  },
  {
   "cell_type": "markdown",
   "id": "1630a91f-0adb-4b62-944d-5388a4d424b3",
   "metadata": {},
   "source": [
    "og\n",
    "$\\left[\\begin{array}{c}\n",
    "1 \\\\ 1 \\\\ 1\n",
    "\\end{array}\\right]$\n",
    "er en **egenvektor** til \n",
    "$\n",
    "A = \\left[\\begin{array}{ccc}\n",
    "0 & 1/2 & 1/2 \\\\ 1 & 0 & 0 \\\\ 0 & 1/2 & 1/2\n",
    "\\end{array}\\right]$\n",
    "med **egenverdi** $1$"
   ]
  },
  {
   "cell_type": "markdown",
   "id": "74afad24-70f7-4b1b-8ce1-41652e53e0ed",
   "metadata": {},
   "source": [
    "### Oppgave:\n",
    "Sjekk at \n",
    "$\n",
    "\\left[\\begin{array}{ccc}\n",
    "0 & 1/2 & 1/2 \\\\ 1 & 0 & 0 \\\\ 0 & 1/2 & 1/2\n",
    "\\end{array}\\right] \\cdot \n",
    "\\left[\\begin{array}{c}\n",
    "1 \\\\ 1 \\\\ 1\n",
    "\\end{array}\\right]\n",
    "= \n",
    "1\\cdot\n",
    "\\left[\\begin{array}{c}\n",
    "1 \\\\ 1 \\\\ 1\n",
    "\\end{array}\\right]\n",
    "$\n",
    "og at\n",
    "$\n",
    "\\left[\\begin{array}{ccc}\n",
    "0 & 1/2 & 1/2 \\\\ 1 & 0 & 0 \\\\ 0 & 1/2 & 1/2\n",
    "\\end{array}\\right] \\cdot \n",
    "\\left[\\begin{array}{c}\n",
    "1 \\\\ -1 \\\\ 0\n",
    "\\end{array}\\right]\n",
    "= \n",
    "0\\cdot\n",
    "\\left[\\begin{array}{c}\n",
    "1 \\\\ -1 \\\\ 0\n",
    "\\end{array}\\right]\n",
    "$"
   ]
  },
  {
   "cell_type": "markdown",
   "id": "46992934-4ec7-4e01-8f7f-f093a888d4cd",
   "metadata": {},
   "source": [
    "## Metode for å finne egenverdier og egenvektorer"
   ]
  },
  {
   "cell_type": "markdown",
   "id": "c9c36d37-fb14-4ca9-9114-734909f34f7e",
   "metadata": {},
   "source": [
    "Hvis $A \\cdot \\vec v = t \\vec v$, da er $\\vec 0 = A \\cdot \\vec v - t \\vec v = A \\cdot \\vec v - t I \\cdot \\vec v = (A - tI)\\vec v$. Hvis $\\vec v \\ne \\vec 0$ må vi ha $\\det(A - tI) = 0$."
   ]
  },
  {
   "cell_type": "markdown",
   "id": "30f8c73d-8900-416c-9087-447840b334a4",
   "metadata": {},
   "source": [
    "Omvendt, hvis $\\det(A - tI) = 0$, da vet vi at det finnes in $\\vec v \\ne \\vec 0$ med $(A - tI) \\cdot \\vec v = \\vec 0$."
   ]
  },
  {
   "cell_type": "markdown",
   "id": "b34f7acb-6fd4-42ae-a160-a67b51a5f8ea",
   "metadata": {},
   "source": [
    "Vi ser på $\\det(A - tI)$ som en funksjon i den ubestemte $t$, og finner alle nullpunkter for denne funksjonen. Her kan vi for eksempel anvende metoden til Newton. \n",
    "Hvis $A$ er en $2 \\times 2$ eller $3 \\times 3$ matrise da er $\\det(A - tI)$ et polynom av grad henholdsvis 2 eller 3. Da kan vi, med litt jobbing og litt hell,\n",
    "finne nullpunkter for hånd."
   ]
  },
  {
   "cell_type": "markdown",
   "id": "c569b304-8c7c-461b-b99f-d695c1f749bb",
   "metadata": {},
   "source": [
    "## Eksempel"
   ]
  },
  {
   "cell_type": "code",
   "execution_count": 14,
   "id": "b61c1e84-4d0b-4643-8956-5b2ba3dd04c3",
   "metadata": {},
   "outputs": [],
   "source": [
    "A = np.array([\n",
    "    [2, 1, 1],\n",
    "    [2, 3, 4],\n",
    "    [1, -1, 2]\n",
    "])"
   ]
  },
  {
   "cell_type": "code",
   "execution_count": 15,
   "id": "7013ee81-e567-4be5-96e5-4356ba62ec9c",
   "metadata": {},
   "outputs": [
    {
     "name": "stdout",
     "output_type": "stream",
     "text": [
      "Alle vektorer her skal leses som kolonnevektorer\n",
      "\n",
      "egenverdi:      3.0\n",
      "egenvektor:     [-2. -3.  1.]\n",
      "A @ evenvektor: [-6. -9.  3.]\n",
      "\n"
     ]
    }
   ],
   "source": [
    "skriv_ut_egenvektorer_og_multiplikasjon_med_matrise(A, finn_egenvektorer_og_egenverdier(A))"
   ]
  },
  {
   "cell_type": "markdown",
   "id": "8946f6f2-d017-44b6-9cc1-181e60f508b1",
   "metadata": {
    "jp-MarkdownHeadingCollapsed": true
   },
   "source": [
    "#### Resten av dette eksempelet er bare for spesielt interesserte"
   ]
  },
  {
   "cell_type": "code",
   "execution_count": 16,
   "id": "21c98c60-c530-4080-85f7-b375d7ef6702",
   "metadata": {},
   "outputs": [],
   "source": [
    "t = sp.symbols('t')  # Definerer symbolet t, som brukes i det karakteristiske polynomet\n",
    "B = A - t * sp.eye(A.shape[0])  # Lager matrisen B = A - t*I, hvor I er identitetsmatrisen\n",
    "karakteristisk_polynom = B.det()  # Finner determinant av B, som gir det karakteristiske polynomet\n",
    "\n",
    "egenverdier = sp.solve(karakteristisk_polynom)  # Løser det karakteristiske polynomet for å finne egenverdiene"
   ]
  },
  {
   "cell_type": "code",
   "execution_count": 17,
   "id": "f754b478-ea2a-4bc3-aafb-72643ef7efd5",
   "metadata": {},
   "outputs": [
    {
     "data": {
      "text/plain": [
       "[3, 2 - I, 2 + I]"
      ]
     },
     "execution_count": 17,
     "metadata": {},
     "output_type": "execute_result"
    }
   ],
   "source": [
    "egenverdier"
   ]
  },
  {
   "cell_type": "code",
   "execution_count": 18,
   "id": "05983a2c-f1e1-4496-87c7-e9e6a60ce4e9",
   "metadata": {},
   "outputs": [
    {
     "data": {
      "text/latex": [
       "$\\displaystyle \\left[\\begin{matrix}2 - t & 1 & 1\\\\2 & 3 - t & 4\\\\1 & -1 & 2 - t\\end{matrix}\\right]$"
      ],
      "text/plain": [
       "Matrix([\n",
       "[2 - t,     1,     1],\n",
       "[    2, 3 - t,     4],\n",
       "[    1,    -1, 2 - t]])"
      ]
     },
     "execution_count": 18,
     "metadata": {},
     "output_type": "execute_result"
    }
   ],
   "source": [
    "B"
   ]
  },
  {
   "cell_type": "code",
   "execution_count": 19,
   "id": "0fd03bb7-9f05-4d1b-ae54-b36cc0b1c60e",
   "metadata": {},
   "outputs": [
    {
     "data": {
      "text/latex": [
       "$\\displaystyle - t^{3} + 7 t^{2} - 17 t + 15$"
      ],
      "text/plain": [
       "-t**3 + 7*t**2 - 17*t + 15"
      ]
     },
     "execution_count": 19,
     "metadata": {},
     "output_type": "execute_result"
    }
   ],
   "source": [
    "karakteristisk_polynom"
   ]
  },
  {
   "cell_type": "code",
   "execution_count": 20,
   "id": "984fe419-b782-4e52-a098-7958a911ba07",
   "metadata": {},
   "outputs": [
    {
     "data": {
      "text/latex": [
       "$\\displaystyle - t^{2} + 4 t - 5$"
      ],
      "text/plain": [
       "-t**2 + 4*t - 5"
      ]
     },
     "execution_count": 20,
     "metadata": {},
     "output_type": "execute_result"
    }
   ],
   "source": [
    "sp.simplify(karakteristisk_polynom / (t - 3))"
   ]
  },
  {
   "cell_type": "markdown",
   "id": "a8f51096-07e2-47ae-a94d-33645eecd73c",
   "metadata": {},
   "source": [
    "Kan du forklare hvorfor vi kun finner en egenvektor?"
   ]
  },
  {
   "cell_type": "code",
   "execution_count": 21,
   "id": "2aecb8b9-6ae6-4236-8520-3881eec2f626",
   "metadata": {},
   "outputs": [
    {
     "name": "stdout",
     "output_type": "stream",
     "text": [
      "Alle vektorer her skal leses som kolonnevektorer\n",
      "\n",
      "egenverdi:      (2-1j)\n",
      "egenvektor:     [-1.-1.11e-16j -1.+1.00e+00j  1.+0.00e+00j]\n",
      "A @ evenvektor: [-2.+1.j -1.+3.j  2.-1.j]\n",
      "\n",
      "egenverdi:      (2+1j)\n",
      "egenvektor:     [-1.+1.11e-16j -1.-1.00e+00j  1.+0.00e+00j]\n",
      "A @ evenvektor: [-2.-1.j -1.-3.j  2.+1.j]\n",
      "\n",
      "egenverdi:      3.0\n",
      "egenvektor:     [-2. -3.  1.]\n",
      "A @ evenvektor: [-6. -9.  3.]\n",
      "\n"
     ]
    }
   ],
   "source": [
    "skriv_ut_egenvektorer_og_multiplikasjon_med_matrise(A, finn_egenvektorer_og_egenverdier(A.astype('complex128')))"
   ]
  },
  {
   "cell_type": "markdown",
   "id": "dfb1fa59-b782-457e-b989-bc44645c0c01",
   "metadata": {},
   "source": [
    "Hva skjete nå?"
   ]
  },
  {
   "cell_type": "markdown",
   "id": "b1937147-1fd7-4dca-b8a4-c99d29039cf5",
   "metadata": {
    "jp-MarkdownHeadingCollapsed": true
   },
   "source": [
    "## Eksempel"
   ]
  },
  {
   "cell_type": "code",
   "execution_count": 22,
   "id": "41cb74b5-a3c3-49e1-aef8-3f53025f6a90",
   "metadata": {},
   "outputs": [],
   "source": [
    "M = np.array([\n",
    "    [-4, -2, -2],\n",
    "    [-4, -6, -8],\n",
    "    [2, 2, 4]\n",
    "])"
   ]
  },
  {
   "cell_type": "code",
   "execution_count": 23,
   "id": "a3bf94df-f276-47ac-99e9-fbd1e215715e",
   "metadata": {},
   "outputs": [
    {
     "name": "stdout",
     "output_type": "stream",
     "text": [
      "Alle vektorer her skal leses som kolonnevektorer\n",
      "\n",
      "egenverdi:      -2.0\n",
      "egenvektor:     [-1.  1. -0.]\n",
      "A @ evenvektor: [ 2. -2.  0.]\n",
      "\n",
      "egenverdi:      2.0\n",
      "egenvektor:     [-0. -1.  1.]\n",
      "A @ evenvektor: [ 0. -2.  2.]\n",
      "\n",
      "egenverdi:      -6.0\n",
      "egenvektor:     [-2. -3.  1.]\n",
      "A @ evenvektor: [12. 18. -6.]\n",
      "\n"
     ]
    }
   ],
   "source": [
    "skriv_ut_egenvektorer_og_multiplikasjon_med_matrise(M, finn_egenvektorer_og_egenverdier(M))"
   ]
  },
  {
   "cell_type": "code",
   "execution_count": 24,
   "id": "9bae1e8e-fa83-421b-9737-29afe7ce3873",
   "metadata": {},
   "outputs": [
    {
     "data": {
      "text/plain": [
       "[-6, -2, 2]"
      ]
     },
     "execution_count": 24,
     "metadata": {},
     "output_type": "execute_result"
    }
   ],
   "source": [
    "t = sp.symbols('t')  # Definerer symbolet t, som brukes i det karakteristiske polynomet\n",
    "B = M - t * sp.eye(M.shape[0])  # Lager matrisen B = A - t*I, hvor I er identitetsmatrisen\n",
    "karakteristisk_polynom = B.det()  # Finner determinant av B, som gir det karakteristiske polynomet\n",
    "\n",
    "egenverdier = sp.solve(karakteristisk_polynom)  # Løser det karakteristiske polynomet for å finne egenverdiene\n",
    "egenverdier"
   ]
  },
  {
   "cell_type": "code",
   "execution_count": 25,
   "id": "0956f713-b323-457e-83d9-06f44b7ce7d6",
   "metadata": {},
   "outputs": [
    {
     "data": {
      "text/latex": [
       "$\\displaystyle \\left[\\begin{matrix}- t - 4 & -2 & -2\\\\-4 & - t - 6 & -8\\\\2 & 2 & 4 - t\\end{matrix}\\right]$"
      ],
      "text/plain": [
       "Matrix([\n",
       "[-t - 4,     -2,    -2],\n",
       "[    -4, -t - 6,    -8],\n",
       "[     2,      2, 4 - t]])"
      ]
     },
     "execution_count": 25,
     "metadata": {},
     "output_type": "execute_result"
    }
   ],
   "source": [
    "B"
   ]
  },
  {
   "cell_type": "code",
   "execution_count": 26,
   "id": "d2112e87-98e7-4cf0-b293-f990f76d1b36",
   "metadata": {},
   "outputs": [
    {
     "data": {
      "text/latex": [
       "$\\displaystyle - t^{3} - 6 t^{2} + 4 t + 24$"
      ],
      "text/plain": [
       "-t**3 - 6*t**2 + 4*t + 24"
      ]
     },
     "execution_count": 26,
     "metadata": {},
     "output_type": "execute_result"
    }
   ],
   "source": [
    "karakteristisk_polynom"
   ]
  },
  {
   "cell_type": "markdown",
   "id": "3ef8a9ab-0c16-4285-ac5d-1a46c8c7a93b",
   "metadata": {
    "jp-MarkdownHeadingCollapsed": true
   },
   "source": [
    "## Eksempel"
   ]
  },
  {
   "cell_type": "code",
   "execution_count": 27,
   "id": "d14ee806-1c2a-44d0-a810-9d034c660d6e",
   "metadata": {},
   "outputs": [],
   "source": [
    "A = np.array([\n",
    "    [7, 0, -4],\n",
    "    [0, 5, 0],\n",
    "    [5, 0, -2]\n",
    "])"
   ]
  },
  {
   "cell_type": "code",
   "execution_count": 28,
   "id": "8476ecbb-fecd-4f68-9e1d-60560a9cb545",
   "metadata": {},
   "outputs": [
    {
     "name": "stdout",
     "output_type": "stream",
     "text": [
      "Alle vektorer her skal leses som kolonnevektorer\n",
      "\n",
      "egenverdi:      2.0\n",
      "egenvektor:     [ 0.8 -0.   1. ]\n",
      "A @ evenvektor: [1.6 0.  2. ]\n",
      "\n",
      "egenverdi:      3.0\n",
      "egenvektor:     [ 1. -0.  1.]\n",
      "A @ evenvektor: [3. 0. 3.]\n",
      "\n",
      "egenverdi:      5.0\n",
      "egenvektor:     [-0.  1. -0.]\n",
      "A @ evenvektor: [0. 5. 0.]\n",
      "\n"
     ]
    }
   ],
   "source": [
    "skriv_ut_egenvektorer_og_multiplikasjon_med_matrise(A, finn_egenvektorer_og_egenverdier(A))"
   ]
  },
  {
   "cell_type": "markdown",
   "id": "2d79adf4-ad17-48b4-aea5-c11277d54047",
   "metadata": {
    "jp-MarkdownHeadingCollapsed": true
   },
   "source": [
    "## Eksempel"
   ]
  },
  {
   "cell_type": "code",
   "execution_count": 29,
   "id": "d20fc875-3f44-44f7-b89c-0997b4db885f",
   "metadata": {},
   "outputs": [],
   "source": [
    "A = np.array([\n",
    "    [1, 1, -3],\n",
    "    [2, 0, 6],\n",
    "    [1, -1, 5]\n",
    "])"
   ]
  },
  {
   "cell_type": "code",
   "execution_count": 30,
   "id": "371fb40b-8a61-4f30-b3c5-baa91a45cb4e",
   "metadata": {},
   "outputs": [
    {
     "name": "stdout",
     "output_type": "stream",
     "text": [
      "Alle vektorer her skal leses som kolonnevektorer\n",
      "\n",
      "egenverdi:      2.0\n",
      "egenvektor:     [1. 1. 0.]\n",
      "A @ evenvektor: [2. 2. 0.]\n",
      "egenvektor:     [-3.  0.  1.]\n",
      "A @ evenvektor: [-6.  0.  2.]\n",
      "\n"
     ]
    }
   ],
   "source": [
    "skriv_ut_egenvektorer_og_multiplikasjon_med_matrise(A, finn_egenvektorer_og_egenverdier(A.astype('complex128')))"
   ]
  },
  {
   "cell_type": "markdown",
   "id": "88d09ab2-da75-436c-8f8a-d8287d4c99e7",
   "metadata": {
    "jp-MarkdownHeadingCollapsed": true
   },
   "source": [
    "## Eksempel"
   ]
  },
  {
   "cell_type": "code",
   "execution_count": 31,
   "id": "945e0a3d-a9d4-4301-a1cf-8971d142f273",
   "metadata": {},
   "outputs": [],
   "source": [
    "A = np.array([\n",
    "    [1, -2, 3],\n",
    "    [2, 6, -6],\n",
    "    [1, 2, -1]\n",
    "])"
   ]
  },
  {
   "cell_type": "code",
   "execution_count": 32,
   "id": "398e0f75-e630-4a57-a3d6-b3735f3183d8",
   "metadata": {},
   "outputs": [
    {
     "name": "stdout",
     "output_type": "stream",
     "text": [
      "Alle vektorer her skal leses som kolonnevektorer\n",
      "\n",
      "egenverdi:      2.0\n",
      "egenvektor:     [-2.  1.  0.]\n",
      "A @ evenvektor: [-4.  2.  0.]\n",
      "egenvektor:     [3. 0. 1.]\n",
      "A @ evenvektor: [6. 0. 2.]\n",
      "\n"
     ]
    }
   ],
   "source": [
    "skriv_ut_egenvektorer_og_multiplikasjon_med_matrise(A, finn_egenvektorer_og_egenverdier(A))"
   ]
  },
  {
   "cell_type": "markdown",
   "id": "bf962f86-6df1-4db6-b9ff-9ff97152b830",
   "metadata": {
    "jp-MarkdownHeadingCollapsed": true
   },
   "source": [
    "## Eksempel"
   ]
  },
  {
   "cell_type": "code",
   "execution_count": 33,
   "id": "27af052e-8c27-4c53-84ec-7283d6aa029f",
   "metadata": {},
   "outputs": [],
   "source": [
    "A = np.array([\n",
    "    [0, 1, 0],\n",
    "    [3, 0, 1],\n",
    "    [2, 0, 0]\n",
    "])"
   ]
  },
  {
   "cell_type": "code",
   "execution_count": 34,
   "id": "33742bd4-623e-4e23-8c79-03ba99b67832",
   "metadata": {},
   "outputs": [
    {
     "name": "stdout",
     "output_type": "stream",
     "text": [
      "Alle vektorer her skal leses som kolonnevektorer\n",
      "\n",
      "egenverdi:      -1.0\n",
      "egenvektor:     [-0.5  0.5  1. ]\n",
      "A @ evenvektor: [ 0.5 -0.5 -1. ]\n",
      "\n",
      "egenverdi:      2.0\n",
      "egenvektor:     [1. 2. 1.]\n",
      "A @ evenvektor: [2. 4. 2.]\n",
      "\n"
     ]
    }
   ],
   "source": [
    "skriv_ut_egenvektorer_og_multiplikasjon_med_matrise(A, finn_egenvektorer_og_egenverdier(A))"
   ]
  },
  {
   "cell_type": "markdown",
   "id": "b1582b94-8058-4c95-bd52-950a9b93fbfc",
   "metadata": {},
   "source": [
    "Også numpy kan regne ut egenverdier og egenvektorer. Uheldigvis regner den heller ikke helt presis. Den gir alltid tre egenvektorer selv om det kan finnes færre!"
   ]
  },
  {
   "cell_type": "code",
   "execution_count": 35,
   "id": "84805a76-9155-478f-98d9-68ceffaad472",
   "metadata": {},
   "outputs": [
    {
     "name": "stdout",
     "output_type": "stream",
     "text": [
      "Alle vektorer her skal leses som kolonnevektorer\n",
      "\n",
      "egenverdi:      -0.9999999797236733\n",
      "egenvektor:     [-0.408  0.408  0.816]\n",
      "A @ evenvektor: [ 0.408 -0.408 -0.816]\n",
      "\n",
      "egenverdi:      -1.0000000202763286\n",
      "egenvektor:     [ 0.408 -0.408 -0.816]\n",
      "A @ evenvektor: [-0.408  0.408  0.816]\n",
      "\n",
      "egenverdi:      2.0\n",
      "egenvektor:     [0.408 0.816 0.408]\n",
      "A @ evenvektor: [0.816 1.633 0.816]\n",
      "\n"
     ]
    }
   ],
   "source": [
    "skriv_ut_numpy_egenvektorer_og_multiplikasjon_med_matrise(A)"
   ]
  },
  {
   "cell_type": "markdown",
   "id": "99a5578a-7135-472c-accd-e4a0ad8c96da",
   "metadata": {
    "jp-MarkdownHeadingCollapsed": true
   },
   "source": [
    "## Eksempel"
   ]
  },
  {
   "cell_type": "code",
   "execution_count": 36,
   "id": "3e20ada1-3c7d-4802-9093-d966dba88eb6",
   "metadata": {},
   "outputs": [],
   "source": [
    "A = np.array([\n",
    "    [3, 1, 1],\n",
    "    [-4, -2, -5],\n",
    "    [2, 2, 5]\n",
    "])"
   ]
  },
  {
   "cell_type": "code",
   "execution_count": 37,
   "id": "c4958eba-6674-4224-b584-642f2475a294",
   "metadata": {},
   "outputs": [
    {
     "name": "stdout",
     "output_type": "stream",
     "text": [
      "Alle vektorer her skal leses som kolonnevektorer\n",
      "\n",
      "egenverdi:      1.0\n",
      "egenvektor:     [ 1. -3.  1.]\n",
      "A @ evenvektor: [ 1. -3.  1.]\n",
      "\n",
      "egenverdi:      2.0\n",
      "egenvektor:     [-1.  1. -0.]\n",
      "A @ evenvektor: [-2.  2.  0.]\n",
      "\n",
      "egenverdi:      3.0\n",
      "egenvektor:     [-0. -1.  1.]\n",
      "A @ evenvektor: [ 0. -3.  3.]\n",
      "\n"
     ]
    }
   ],
   "source": [
    "skriv_ut_egenvektorer_og_multiplikasjon_med_matrise(A, finn_egenvektorer_og_egenverdier(A))"
   ]
  },
  {
   "cell_type": "markdown",
   "id": "aba80762-8ad8-471a-b0fb-386e4a994886",
   "metadata": {
    "jp-MarkdownHeadingCollapsed": true
   },
   "source": [
    "## Eksempel"
   ]
  },
  {
   "cell_type": "code",
   "execution_count": 38,
   "id": "846909f8-ff54-4393-a758-3eeaa7bbe25a",
   "metadata": {},
   "outputs": [],
   "source": [
    "A = np.array([\n",
    "    [2, 1, 1],\n",
    "    [0, 1, 0],\n",
    "    [1, -1, 2]\n",
    "])"
   ]
  },
  {
   "cell_type": "code",
   "execution_count": 39,
   "id": "4af13ca8-1830-434c-9513-1fc0ade322b1",
   "metadata": {},
   "outputs": [
    {
     "name": "stdout",
     "output_type": "stream",
     "text": [
      "Alle vektorer her skal leses som kolonnevektorer\n",
      "\n",
      "egenverdi:      1.0\n",
      "egenvektor:     [-1. -0.  1.]\n",
      "A @ evenvektor: [-1.  0.  1.]\n",
      "\n",
      "egenverdi:      3.0\n",
      "egenvektor:     [ 1. -0.  1.]\n",
      "A @ evenvektor: [3. 0. 3.]\n",
      "\n"
     ]
    }
   ],
   "source": [
    "skriv_ut_egenvektorer_og_multiplikasjon_med_matrise(A, finn_egenvektorer_og_egenverdier(A))"
   ]
  },
  {
   "cell_type": "markdown",
   "id": "42e64b6f-c854-4de7-b606-e9beb8c76387",
   "metadata": {
    "jp-MarkdownHeadingCollapsed": true
   },
   "source": [
    "## Eksempel"
   ]
  },
  {
   "cell_type": "code",
   "execution_count": 40,
   "id": "f6a49cad-9169-47b5-9f1a-b19482b53b6d",
   "metadata": {},
   "outputs": [],
   "source": [
    "A = np.array([\n",
    "    [1, 0, 0],\n",
    "    [0, 1, 0],\n",
    "    [0, 0, 2]\n",
    "])"
   ]
  },
  {
   "cell_type": "code",
   "execution_count": 41,
   "id": "4923716b-00c5-4cd8-a49c-926064adc77c",
   "metadata": {},
   "outputs": [
    {
     "name": "stdout",
     "output_type": "stream",
     "text": [
      "Alle vektorer her skal leses som kolonnevektorer\n",
      "\n",
      "egenverdi:      1.0\n",
      "egenvektor:     [ 1.  0. -0.]\n",
      "A @ evenvektor: [1. 0. 0.]\n",
      "egenvektor:     [ 0.  1. -0.]\n",
      "A @ evenvektor: [0. 1. 0.]\n",
      "\n",
      "egenverdi:      2.0\n",
      "egenvektor:     [-0. -0.  1.]\n",
      "A @ evenvektor: [0. 0. 2.]\n",
      "\n"
     ]
    }
   ],
   "source": [
    "skriv_ut_egenvektorer_og_multiplikasjon_med_matrise(A, finn_egenvektorer_og_egenverdier(A))"
   ]
  }
 ],
 "metadata": {
  "kernelspec": {
   "display_name": "Python 3 (ipykernel)",
   "language": "python",
   "name": "python3"
  },
  "language_info": {
   "codemirror_mode": {
    "name": "ipython",
    "version": 3
   },
   "file_extension": ".py",
   "mimetype": "text/x-python",
   "name": "python",
   "nbconvert_exporter": "python",
   "pygments_lexer": "ipython3",
   "version": "3.12.8"
  }
 },
 "nbformat": 4,
 "nbformat_minor": 5
}
