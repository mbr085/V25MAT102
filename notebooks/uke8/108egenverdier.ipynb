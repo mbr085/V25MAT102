{
 "cells": [
  {
   "cell_type": "markdown",
   "id": "ed03c05d-05cf-417d-b60f-b208ad572580",
   "metadata": {},
   "source": [
    "# Egenverdier og evenvektorer (MIP 10.8)"
   ]
  },
  {
   "cell_type": "code",
   "execution_count": 1,
   "id": "193296ea-8327-45f2-b399-6bb0890cda22",
   "metadata": {},
   "outputs": [],
   "source": [
    "import sympy as sp\n",
    "import numpy as np"
   ]
  },
  {
   "cell_type": "code",
   "execution_count": 2,
   "id": "0d6d0593-e0ce-4776-a756-607d59ce1343",
   "metadata": {},
   "outputs": [],
   "source": [
    "A = sp.Matrix([\n",
    "    [0, .5, .5],\n",
    "    [1, 0, 0],\n",
    "    [0, .5, .5]\n",
    "])"
   ]
  },
  {
   "cell_type": "code",
   "execution_count": 3,
   "id": "b805383e-b130-49d6-bf2b-36f1ea44a430",
   "metadata": {},
   "outputs": [],
   "source": [
    "def finn_egenvektorer_og_egenverdier(A):\n",
    "    assert A.shape[0] == A.shape[1], \"matrisen A skal være kvadratisk\"\n",
    "\n",
    "    t = sp.symbols('t')  # Definerer symbolet t, som brukes i det karakteristiske polynomet\n",
    "    B = A - t * sp.eye(A.shape[0])  # Lager matrisen B = A - t*I, hvor I er identitetsmatrisen\n",
    "    karakteristisk_polynom = B.det()  # Finner determinant av B, som gir det karakteristiske polynomet\n",
    "    \n",
    "    egenverdier = sp.solve(karakteristisk_polynom)  # Løser det karakteristiske polynomet for å finne egenverdiene\n",
    "\n",
    "    # Lager en liste med tupler av evenverdier, multiplisiteter og egenvektorer\n",
    "    res = []\n",
    "    # for ev in sorted(egenverdier, key=lambda x: -np.abs(x)):\n",
    "    for ev in egenverdier:\n",
    "        egenvektorer = (A - ev * sp.eye(A.shape[0])).nullspace()\n",
    "        res.append((ev, len(egenvektorer), egenvektorer))\n",
    "    \n",
    "    return res  # Returnerer en liste med tupler av evenverdier, multiplisiteter og egenvektorer"
   ]
  },
  {
   "cell_type": "code",
   "execution_count": 4,
   "id": "22080eca-4617-4124-b094-e34126936c74",
   "metadata": {},
   "outputs": [],
   "source": [
    "def skriv_ut_egenvektorer_og_multiplikasjon_med_matrise(A, egenvektorer):\n",
    "    for key, _, val in sorted(egenvektorer):\n",
    "        print('egenverdi:     ', key)\n",
    "        print('egenvektor:    ', val[0])\n",
    "        print('A @ evenvektor:', A @ val[0])\n",
    "        print()"
   ]
  },
  {
   "cell_type": "code",
   "execution_count": 5,
   "id": "d2ccb508-b006-4a9d-a120-75151d8724b9",
   "metadata": {},
   "outputs": [
    {
     "name": "stdout",
     "output_type": "stream",
     "text": [
      "egenverdi:      -0.500000000000000\n",
      "egenvektor:     Matrix([[1.00000000000000], [-2.00000000000000], [1]])\n",
      "A @ evenvektor: Matrix([[-0.500000000000000], [1.00000000000000], [-0.500000000000000]])\n",
      "\n",
      "egenverdi:      0.0\n",
      "egenvektor:     Matrix([[0], [-1.00000000000000], [1]])\n",
      "A @ evenvektor: Matrix([[0], [0], [0]])\n",
      "\n",
      "egenverdi:      1.00000000000000\n",
      "egenvektor:     Matrix([[1.00000000000000], [1.00000000000000], [1]])\n",
      "A @ evenvektor: Matrix([[1.00000000000000], [1.00000000000000], [1.00000000000000]])\n",
      "\n"
     ]
    }
   ],
   "source": [
    "skriv_ut_egenvektorer_og_multiplikasjon_med_matrise(A, finn_egenvektorer_og_egenverdier(A))"
   ]
  },
  {
   "cell_type": "code",
   "execution_count": 6,
   "id": "88aa3a0f-0b62-4327-be60-247947964d68",
   "metadata": {},
   "outputs": [
    {
     "name": "stdout",
     "output_type": "stream",
     "text": [
      "egenverdi:      -0.500000000000000\n",
      "egenvektor:     Matrix([[0.408248290463863], [-0.816496580927726], [0.408248290463863]])\n",
      "A @ evenvektor: Matrix([[-0.204124145231932], [0.408248290463863], [-0.204124145231932]])\n",
      "\n",
      "egenverdi:      -7.10753320192609e-65\n",
      "egenvektor:     Matrix([[4.16174911291299e-65], [-0.816496580927726], [0.816496580927726]])\n",
      "A @ evenvektor: Matrix([[0], [4.16174911291299e-65], [0]])\n",
      "\n",
      "egenverdi:      1.00000000000000\n",
      "egenvektor:     Matrix([[0.577350269189626], [0.577350269189626], [0.577350269189626]])\n",
      "A @ evenvektor: Matrix([[0.577350269189626], [0.577350269189626], [0.577350269189626]])\n",
      "\n"
     ]
    }
   ],
   "source": [
    "skriv_ut_egenvektorer_og_multiplikasjon_med_matrise(A, A.eigenvects())"
   ]
  },
  {
   "cell_type": "code",
   "execution_count": 7,
   "id": "a96ad15c-b342-4fdc-9b53-8497de2b0c5a",
   "metadata": {},
   "outputs": [],
   "source": [
    "A = sp.S(\"\"\"\n",
    "Matrix([\n",
    "    [0, 1/2, 1/2],\n",
    "    [1, 0, 0],\n",
    "    [0, 1/2, 1/2]\n",
    "])\n",
    "\"\"\")"
   ]
  },
  {
   "cell_type": "code",
   "execution_count": null,
   "id": "a66e7647-4dee-4950-afd3-5295c35798d6",
   "metadata": {},
   "outputs": [],
   "source": []
  },
  {
   "cell_type": "code",
   "execution_count": 8,
   "id": "a88d5c6b-6459-4ed5-a08b-18d02dd14f60",
   "metadata": {},
   "outputs": [
    {
     "name": "stdout",
     "output_type": "stream",
     "text": [
      "egenverdi:      -1/2\n",
      "egenvektor:     Matrix([[1], [-2], [1]])\n",
      "A @ evenvektor: Matrix([[-1/2], [1], [-1/2]])\n",
      "\n",
      "egenverdi:      0\n",
      "egenvektor:     Matrix([[0], [-1], [1]])\n",
      "A @ evenvektor: Matrix([[0], [0], [0]])\n",
      "\n",
      "egenverdi:      1\n",
      "egenvektor:     Matrix([[1], [1], [1]])\n",
      "A @ evenvektor: Matrix([[1], [1], [1]])\n",
      "\n"
     ]
    }
   ],
   "source": [
    "skriv_ut_egenvektorer_og_multiplikasjon_med_matrise(A, finn_egenvektorer_og_egenverdier(A))"
   ]
  },
  {
   "cell_type": "code",
   "execution_count": null,
   "id": "5bf87293-aaae-4dd2-9540-a6e17fbe7924",
   "metadata": {},
   "outputs": [],
   "source": [
    "skriv_ut_egenvektorer_og_multiplikasjon_med_matrise(A, A.eigenvects())"
   ]
  },
  {
   "cell_type": "code",
   "execution_count": null,
   "id": "15bf4398-52d3-409f-961d-4af23fdda389",
   "metadata": {},
   "outputs": [],
   "source": [
    "x = sp.symbols('x')"
   ]
  },
  {
   "cell_type": "code",
   "execution_count": null,
   "id": "82a7152d-99ce-4914-93af-4f66ca35ae6c",
   "metadata": {},
   "outputs": [],
   "source": [
    "sp.solve(x**2 + 1)"
   ]
  },
  {
   "cell_type": "code",
   "execution_count": null,
   "id": "329a10b2-86ed-47c6-a754-117446093aa2",
   "metadata": {},
   "outputs": [],
   "source": []
  },
  {
   "cell_type": "code",
   "execution_count": 14,
   "id": "70251d88-ef40-4195-a351-6235792d792e",
   "metadata": {},
   "outputs": [],
   "source": [
    "def normer_forste_element(a):\n",
    "    # Finn indeksen til det første elementet i vektoren a som ikke er null\n",
    "    forste_ikke_null_element_indeks = np.argmax(a != 0)\n",
    "    \n",
    "    # Hent verdien til det første ikke-null elementet\n",
    "    forste_ikke_null_element = a[forste_ikke_null_element_indeks]\n",
    "    \n",
    "    # Returner den normaliserte vektoren, der alle elementer er delt på det første ikke-null elementet\n",
    "    return a / forste_ikke_null_element\n",
    "    \n",
    "def gauss_jordan(A):\n",
    "    # Hvis matrisen kun består av nuller, returner den uendret\n",
    "    if np.all(A == 0):\n",
    "        return A\n",
    "    \n",
    "    # Hvis matrisen har én rad, normaliser den første radens første ikke-null element\n",
    "    elif len(A) == 1:\n",
    "        A[0] = normer_forste_element(A[0])\n",
    "        return A\n",
    "    else:\n",
    "        # Beregn radenes summer for å normalisere matrisen \n",
    "        # (Dette er ikke nødvendig, men gjør tallene finere å regne med)\n",
    "        rad_summer = np.sum(A, axis=1)\n",
    "        A = A / rad_summer[:, None]  # Normaliser hver rad ved å dele med radens sum\n",
    "        \n",
    "        # Finn kolonner som inneholder ikke-null elementer\n",
    "        ikke_null_kolonner = np.any(A != 0, axis=0)\n",
    "        \n",
    "        # Finn indeksen til den første kolonnen med ikke-null elementer\n",
    "        forste_ikke_null_kolonne_indeks = np.argmax(ikke_null_kolonner)\n",
    "        \n",
    "        # Finn indeksen til raden med største verdi i den valgte kolonnen (pivot rad)\n",
    "        pivot_rad_indeks = np.argmax(A[:, forste_ikke_null_kolonne_indeks])\n",
    "        \n",
    "        # Normaliser pivot raden\n",
    "        pivot_rad = normer_forste_element(A[pivot_rad_indeks])\n",
    "        \n",
    "        # Bytt plass på pivot raden og den første raden\n",
    "        A[pivot_rad_indeks] = A[0]\n",
    "        A[0] = pivot_rad\n",
    "        \n",
    "        # Utfør eliminering for å gjøre alle elementene under pivoten null\n",
    "        A[1:] = A[1:] - (A[1:, 0] / A[0, 0])[:, None] * A[0][None, :]\n",
    "        \n",
    "        # Kall gauss_jordan rekursivt på den nedre delmatrisen\n",
    "        A[1:, 1:] = gauss_jordan(A[1:, 1:])\n",
    "        \n",
    "        # Gjør den første raden null over pivot-posisjonene til de øvrige radene.\n",
    "        for rad in A[1:]:\n",
    "            if np.any(rad != 0):  # Hvis raden ikke er null\n",
    "                # Finn indeksen til det første ikke-null elementet i raden\n",
    "                forste_ikke_null_element_indeks = np.argmax(rad != 0)\n",
    "                \n",
    "                # Trekk et tall gange den akutelle raden fra den første raden slik at første raden blir null over\n",
    "                # pivot-elementet til den aktuelle raden\n",
    "                A[0] = A[0] - (A[0, forste_ikke_null_element_indeks] / rad[forste_ikke_null_element_indeks]) * rad\n",
    "    \n",
    "    # Returner den resulterende matrisen\n",
    "    return A\n"
   ]
  },
  {
   "cell_type": "code",
   "execution_count": null,
   "id": "bb4e1dd5-917c-42a2-b709-eb41b38751df",
   "metadata": {},
   "outputs": [],
   "source": []
  },
  {
   "cell_type": "code",
   "execution_count": null,
   "id": "b1e10b88-4f6b-4c7b-a3d5-dbf10b78f211",
   "metadata": {},
   "outputs": [],
   "source": [
    "A = sp.Array([\n",
    "    [0, .5, .5],\n",
    "    [1, 0, 0],\n",
    "    [0, .5, .5]\n",
    "])"
   ]
  },
  {
   "cell_type": "code",
   "execution_count": 11,
   "id": "7c768f06-b529-4ae7-8fd6-70a129a46306",
   "metadata": {},
   "outputs": [],
   "source": [
    "A = np.array([\n",
    "    [0, .5, .5],\n",
    "    [1, 0, 0],\n",
    "    [0, .5, .5]\n",
    "])"
   ]
  },
  {
   "cell_type": "code",
   "execution_count": null,
   "id": "88327a2f-532a-40b5-8d21-15174a4e461f",
   "metadata": {},
   "outputs": [],
   "source": [
    "gauss_jordan(A)"
   ]
  },
  {
   "cell_type": "code",
   "execution_count": 16,
   "id": "460a78c0-709b-485b-ad97-15584a5c8114",
   "metadata": {},
   "outputs": [],
   "source": [
    "def bundne_og_frie_parametre(B):\n",
    "    # finner de frie parametrene i en rekkeredusert matrise\n",
    "    pivot_pososjoner = set()\n",
    "    for rad in B:\n",
    "        if np.any(rad != 0):  # Hvis raden ikke er null\n",
    "            # Finn indeksen til det første ikke-null elementet i raden\n",
    "            forste_ikke_null_element_indeks = np.argmax(rad != 0)\n",
    "            pivot_pososjoner.add(int(forste_ikke_null_element_indeks))\n",
    "    return sorted(pivot_pososjoner), sorted(set(range(B.shape[1])).difference(pivot_pososjoner))\n",
    "    "
   ]
  },
  {
   "cell_type": "code",
   "execution_count": null,
   "id": "9e9d7c3b-6817-4bf8-bf98-4c260f032014",
   "metadata": {},
   "outputs": [],
   "source": [
    "bundne_og_frie_parametre(gauss_jordan(A))"
   ]
  },
  {
   "cell_type": "code",
   "execution_count": 30,
   "id": "92047aa5-f93e-4f05-8e27-9a2e3a891ed6",
   "metadata": {},
   "outputs": [],
   "source": [
    "A = np.array([\n",
    "    [1, 0, 0],\n",
    "    [0, 1, 1]\n",
    "])"
   ]
  },
  {
   "cell_type": "code",
   "execution_count": 51,
   "id": "97423332-a143-4008-a582-7d6d1757d057",
   "metadata": {},
   "outputs": [],
   "source": [
    "A = np.array([\n",
    "    [0, .5, .5],\n",
    "    [1, 0, 0],\n",
    "    [0, .5, .5]\n",
    "])"
   ]
  },
  {
   "cell_type": "code",
   "execution_count": 52,
   "id": "b01b3522-28b4-41b0-87bd-01219de6f310",
   "metadata": {},
   "outputs": [
    {
     "data": {
      "text/plain": [
       "array([[0. , 0.5, 0.5],\n",
       "       [1. , 0. , 0. ],\n",
       "       [0. , 0.5, 0.5]])"
      ]
     },
     "execution_count": 52,
     "metadata": {},
     "output_type": "execute_result"
    }
   ],
   "source": [
    "A"
   ]
  },
  {
   "cell_type": "code",
   "execution_count": 53,
   "id": "8291e9dc-b964-4777-8b8c-ed0cedf739e0",
   "metadata": {},
   "outputs": [],
   "source": [
    "def pivot_posisjoner(B):\n",
    "    # finner de frie parametrene i en rekkeredusert matrise\n",
    "    p_pososjoner = set()\n",
    "    for idx, rad in enumerate(B):\n",
    "        if np.any(rad != 0):  # Hvis raden ikke er null\n",
    "            # Finn indeksen til det første ikke-null elementet i raden\n",
    "            forste_ikke_null_element_indeks = np.argmax(rad != 0)\n",
    "            p_pososjoner.add((idx, int(forste_ikke_null_element_indeks)))\n",
    "    return list(zip(*p_pososjoner))"
   ]
  },
  {
   "cell_type": "code",
   "execution_count": 54,
   "id": "70737aa7-6dfb-4680-8a50-6e4cecf68e5f",
   "metadata": {},
   "outputs": [
    {
     "data": {
      "text/plain": [
       "[(1, 0), (1, 0)]"
      ]
     },
     "execution_count": 54,
     "metadata": {},
     "output_type": "execute_result"
    }
   ],
   "source": [
    "pivot_posisjoner(gauss_jordan(A))"
   ]
  },
  {
   "cell_type": "code",
   "execution_count": 55,
   "id": "21fb76bf-a252-4909-8623-e73093d33ca0",
   "metadata": {},
   "outputs": [],
   "source": [
    "def bundne_og_frie_parametre(B):\n",
    "    # finner de frie parametrene i en rekkeredusert matrise\n",
    "    _, p_pososjoner = pivot_posisjoner(B)\n",
    "    return sorted(p_pososjoner), sorted(set(range(B.shape[1])).difference(p_pososjoner))\n",
    "    "
   ]
  },
  {
   "cell_type": "code",
   "execution_count": 56,
   "id": "23d62ca3-56f1-4823-b5b3-496936f2c184",
   "metadata": {},
   "outputs": [],
   "source": [
    "def null_rom(A):\n",
    "    res = []\n",
    "    B = gauss_jordan(A)\n",
    "    bparam, fparam = bundne_og_frie_parametre(B)\n",
    "    for fp in fparam:\n",
    "        v = np.zeros((A.shape[1], 1))\n",
    "        v[fp] = 1\n",
    "        for bp in bparam:\n",
    "            v[bp] = -np.sum((B @ v)[bp])\n",
    "        res.append(v)\n",
    "    return res      "
   ]
  },
  {
   "cell_type": "code",
   "execution_count": 57,
   "id": "b5f6b41c-0bf5-41a0-a70d-2af885d92e00",
   "metadata": {},
   "outputs": [
    {
     "data": {
      "text/plain": [
       "[array([[-0.],\n",
       "        [-1.],\n",
       "        [ 1.]])]"
      ]
     },
     "execution_count": 57,
     "metadata": {},
     "output_type": "execute_result"
    }
   ],
   "source": [
    "null_rom(A)"
   ]
  },
  {
   "cell_type": "code",
   "execution_count": 58,
   "id": "3b0d1f77-e340-436d-8cd8-d81fed546f7e",
   "metadata": {},
   "outputs": [],
   "source": [
    "def partikulaer_losning(A, b=np.zeros(A.shape[1])):\n",
    "    res = []\n",
    "    B = gauss_jordan(np.hstack([A, b[:, None]]))\n",
    "    rad_indekser, kolonne_indekser = pivot_posisjoner(B[:, :-1])\n",
    "    v = np.zeros((A.shape[1], 1))\n",
    "    for r, c in zip(rad_indekser, kolonne_indekser):\n",
    "        v[c] = b[r]\n",
    "    return v"
   ]
  },
  {
   "cell_type": "code",
   "execution_count": 59,
   "id": "9ce583ce-5b4a-4e92-82d2-55d9158ccfcd",
   "metadata": {},
   "outputs": [],
   "source": [
    "b = np.array([1,1,1])"
   ]
  },
  {
   "cell_type": "code",
   "execution_count": 60,
   "id": "85a8b55f-5f12-4c84-b133-d0e5874e0864",
   "metadata": {},
   "outputs": [
    {
     "data": {
      "text/plain": [
       "array([[1.],\n",
       "       [1.],\n",
       "       [0.]])"
      ]
     },
     "execution_count": 60,
     "metadata": {},
     "output_type": "execute_result"
    }
   ],
   "source": [
    "partikular_losning(A, b)"
   ]
  },
  {
   "cell_type": "code",
   "execution_count": 61,
   "id": "1a699f87-4730-4fcb-9637-d370fc770f0a",
   "metadata": {},
   "outputs": [
    {
     "data": {
      "text/plain": [
       "array([1., 1., 1.])"
      ]
     },
     "execution_count": 61,
     "metadata": {},
     "output_type": "execute_result"
    }
   ],
   "source": [
    "A @ b"
   ]
  },
  {
   "cell_type": "code",
   "execution_count": null,
   "id": "778b0743-29e4-4952-8d3b-c385cbe6ce9b",
   "metadata": {},
   "outputs": [],
   "source": [
    "def los_system(A, b=np.zeros(A.shape[1])):\n",
    "    res = []\n",
    "    B = gauss_jordan(np.hstack([A, b[:, None]]))\n",
    "    bparam, fparam = bundne_og_frie_parametre(B[:, :-1])\n",
    "    for fp in fparam:\n",
    "        v = np.zeros((A.shape[0], 1))\n",
    "        v[fp] = 1\n",
    "        for bp in bparam:\n",
    "            v[bp] = -np.sum((B[:, :-1] @ v)[bp]) + B[bp, -1]\n",
    "        res.append(v)\n",
    "    return res          "
   ]
  },
  {
   "cell_type": "code",
   "execution_count": null,
   "id": "07bb350c-a22b-4d98-a5d1-d5871108d251",
   "metadata": {},
   "outputs": [],
   "source": [
    "np.array([1,1,1])[:, None]"
   ]
  },
  {
   "cell_type": "code",
   "execution_count": null,
   "id": "b80e9943-7d0e-451d-86ce-928c31ea0c1a",
   "metadata": {},
   "outputs": [],
   "source": [
    "los_system(A, np.array([0,0, 0]))"
   ]
  },
  {
   "cell_type": "code",
   "execution_count": null,
   "id": "91823a1e-c2c3-4f78-ba7c-45b8dc841f70",
   "metadata": {},
   "outputs": [],
   "source": [
    "los_system(A)"
   ]
  },
  {
   "cell_type": "code",
   "execution_count": null,
   "id": "4a190f25-1e93-4128-a6cd-f083e76ba242",
   "metadata": {},
   "outputs": [],
   "source": [
    "null_rom(A)"
   ]
  },
  {
   "cell_type": "code",
   "execution_count": null,
   "id": "95862aa2-5b23-436d-9200-12438940e262",
   "metadata": {},
   "outputs": [],
   "source": [
    "A"
   ]
  },
  {
   "cell_type": "code",
   "execution_count": null,
   "id": "c5fc05f4-5f77-460a-aa44-1d638aaaaebb",
   "metadata": {},
   "outputs": [],
   "source": [
    "gauss_jordan(A)"
   ]
  },
  {
   "cell_type": "code",
   "execution_count": null,
   "id": "014f44df-aa00-45d2-88ca-b8dadacbc958",
   "metadata": {},
   "outputs": [],
   "source": [
    "bundne_og_frie_parametre(gauss_jordan(A))"
   ]
  },
  {
   "cell_type": "code",
   "execution_count": null,
   "id": "64cad4c6-f6e7-41b6-a17a-3c87ee970ef5",
   "metadata": {},
   "outputs": [],
   "source": []
  }
 ],
 "metadata": {
  "kernelspec": {
   "display_name": "Python 3 (ipykernel)",
   "language": "python",
   "name": "python3"
  },
  "language_info": {
   "codemirror_mode": {
    "name": "ipython",
    "version": 3
   },
   "file_extension": ".py",
   "mimetype": "text/x-python",
   "name": "python",
   "nbconvert_exporter": "python",
   "pygments_lexer": "ipython3",
   "version": "3.12.8"
  }
 },
 "nbformat": 4,
 "nbformat_minor": 5
}
