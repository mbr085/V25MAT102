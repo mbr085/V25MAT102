{
 "cells": [
  {
   "cell_type": "markdown",
   "id": "ed03c05d-05cf-417d-b60f-b208ad572580",
   "metadata": {},
   "source": [
    "# Egenverdier og evenvektorer (MIP 10.8)"
   ]
  },
  {
   "cell_type": "code",
   "execution_count": 1,
   "id": "193296ea-8327-45f2-b399-6bb0890cda22",
   "metadata": {},
   "outputs": [],
   "source": [
    "import sympy as sp\n",
    "import numpy as np"
   ]
  },
  {
   "cell_type": "markdown",
   "id": "130e60d6-895e-45c3-82f3-72d0d9dc47b4",
   "metadata": {},
   "source": [
    "### Importerer python kode"
   ]
  },
  {
   "cell_type": "markdown",
   "id": "dea88788-0877-4a7f-af4c-51ac87242706",
   "metadata": {},
   "source": [
    "Jeg har lagt [koden vi bruker i en fil for seg selv](https://github.com/mbr085/python_linear_algebra). Klikk på [lenken](https://github.com/mbr085/python_linear_algebra/blob/main/src/python_linear_algebra/matrix_reduction.py) for å se den."
   ]
  },
  {
   "cell_type": "code",
   "execution_count": 2,
   "id": "fabf98e1-d950-40ae-817d-3f5e878cb8b6",
   "metadata": {},
   "outputs": [],
   "source": [
    "try:\n",
    "    import python_linear_algebra\n",
    "except:\n",
    "    !pip install python_linear_algebra@git+https://github.com/mbr085/python_linear_algebra\n",
    "    import python_linear_algebra\n",
    "    "
   ]
  },
  {
   "cell_type": "code",
   "execution_count": 3,
   "id": "b72976d4-7c54-4a76-868e-9665b67a772a",
   "metadata": {},
   "outputs": [],
   "source": [
    "from python_linear_algebra.matrix_reduction import skriv_ut_egenvektorer_og_multiplikasjon_med_matrise\n",
    "from python_linear_algebra.matrix_reduction import skriv_ut_numpy_egenvektorer_og_multiplikasjon_med_matrise\n",
    "from python_linear_algebra.matrix_reduction import finn_egenvektorer_og_egenverdier"
   ]
  },
  {
   "cell_type": "markdown",
   "id": "929f5822-a16e-4513-94b2-603fa135c29a",
   "metadata": {},
   "source": [
    "## Eksempel"
   ]
  },
  {
   "cell_type": "code",
   "execution_count": 4,
   "id": "0d6d0593-e0ce-4776-a756-607d59ce1343",
   "metadata": {},
   "outputs": [],
   "source": [
    "A = np.array([\n",
    "    [0, .5, .5],\n",
    "    [1, 0, 0],\n",
    "    [0, .5, .5]\n",
    "])"
   ]
  },
  {
   "cell_type": "code",
   "execution_count": 5,
   "id": "7d91373b-b1eb-4af8-af60-e0de1e71eb9b",
   "metadata": {},
   "outputs": [
    {
     "name": "stdout",
     "output_type": "stream",
     "text": [
      "Alle vektorer her skal leses som kolonnevektorer\n",
      "\n",
      "egenverdi:      0.0\n",
      "egenvektor:     [-0. -1.  1.]\n",
      "A @ evenvektor: [0. 0. 0.]\n",
      "\n",
      "egenverdi:      -0.5\n",
      "egenvektor:     [ 1. -2.  1.]\n",
      "A @ evenvektor: [-0.5  1.  -0.5]\n",
      "\n",
      "egenverdi:      1.0\n",
      "egenvektor:     [1. 1. 1.]\n",
      "A @ evenvektor: [1. 1. 1.]\n",
      "\n"
     ]
    }
   ],
   "source": [
    "skriv_ut_egenvektorer_og_multiplikasjon_med_matrise(A, finn_egenvektorer_og_egenverdier(A))"
   ]
  },
  {
   "cell_type": "markdown",
   "id": "dd226ff2-0cdc-48a2-8cef-1b011e09fff0",
   "metadata": {},
   "source": [
    "Pakken sympy kan regne ut egenverdier og egenvektorer for oss. Uheldigvis regner den ikke helt presis!"
   ]
  },
  {
   "cell_type": "code",
   "execution_count": 6,
   "id": "88aa3a0f-0b62-4327-be60-247947964d68",
   "metadata": {},
   "outputs": [
    {
     "name": "stdout",
     "output_type": "stream",
     "text": [
      "Alle vektorer her skal leses som kolonnevektorer\n",
      "\n",
      "egenverdi:      -7.10753320192609e-65\n",
      "egenvektor:     [ 4.162e-65 -8.165e-01  8.165e-01]\n",
      "A @ evenvektor: [0.000e+00 4.162e-65 0.000e+00]\n",
      "\n",
      "egenverdi:      -0.500000000000000\n",
      "egenvektor:     [ 0.408 -0.816  0.408]\n",
      "A @ evenvektor: [-0.204  0.408 -0.204]\n",
      "\n",
      "egenverdi:      1.00000000000000\n",
      "egenvektor:     [0.577 0.577 0.577]\n",
      "A @ evenvektor: [0.577 0.577 0.577]\n",
      "\n"
     ]
    }
   ],
   "source": [
    "skriv_ut_egenvektorer_og_multiplikasjon_med_matrise(A, sp.Matrix(A).eigenvects())"
   ]
  },
  {
   "cell_type": "markdown",
   "id": "7ddeddab-1468-4518-8993-793057ffc105",
   "metadata": {},
   "source": [
    "Også numpy kan regne ut egenverdier og egenvektorer. Uheldigvis regner heller ikke den helt presis."
   ]
  },
  {
   "cell_type": "code",
   "execution_count": 7,
   "id": "729f3708-ba1e-4c33-b4de-4b2759248b74",
   "metadata": {},
   "outputs": [
    {
     "name": "stdout",
     "output_type": "stream",
     "text": [
      "Alle vektorer her skal leses som kolonnevektorer\n",
      "\n",
      "egenverdi:      2.6086068435760837e-17\n",
      "egenvektor:     [-1.110e-16 -7.071e-01  7.071e-01]\n",
      "A @ evenvektor: [ 3.331e-16 -1.110e-16  3.331e-16]\n",
      "\n",
      "egenverdi:      -0.5000000000000006\n",
      "egenvektor:     [ 0.408 -0.816  0.408]\n",
      "A @ evenvektor: [-0.204  0.408 -0.204]\n",
      "\n",
      "egenverdi:      0.9999999999999998\n",
      "egenvektor:     [-0.577 -0.577 -0.577]\n",
      "A @ evenvektor: [-0.577 -0.577 -0.577]\n",
      "\n"
     ]
    }
   ],
   "source": [
    "skriv_ut_numpy_egenvektorer_og_multiplikasjon_med_matrise(A)"
   ]
  },
  {
   "cell_type": "markdown",
   "id": "7076acf8-63d7-4f2b-8f0e-7bbbc54fcf9f",
   "metadata": {},
   "source": [
    "## Hva skjete her?"
   ]
  },
  {
   "cell_type": "markdown",
   "id": "e6798c87-aa23-4224-81a5-a82d8956602d",
   "metadata": {},
   "source": [
    "For \n",
    "$$\n",
    "A = \\left[\\begin{array}{ccc}\n",
    "0 & 1/2 & 1/2 \\\\ 1 & 0 & 0 \\\\ 0 & 1/2 & 1/2\n",
    "\\end{array}\\right]$$\n",
    "er\n",
    "$$\n",
    "A \\cdot\n",
    "\\left[\\begin{array}{c}\n",
    "1 \\\\ -2 \\\\ 1\n",
    "\\end{array}\\right]\n",
    "= \\left[\\begin{array}{ccc}\n",
    "0 & 1/2 & 1/2 \\\\ 1 & 0 & 0 \\\\ 0 & 1/2 & 1/2\n",
    "\\end{array}\\right]\n",
    "\\left[\\begin{array}{c}\n",
    "1 \\\\ -2 \\\\ 1\n",
    "\\end{array}\\right]\n",
    "=\n",
    "\\left[\\begin{array}{c}\n",
    "-1/2 \\\\ 1 \\\\ -1/2\n",
    "\\end{array}\\right]\n",
    "= \n",
    "-\\frac 12 \n",
    "\\left[\\begin{array}{c}\n",
    "1 \\\\ -2 \\\\ 1\n",
    "\\end{array}\\right]\n",
    "$$\n"
   ]
  },
  {
   "cell_type": "markdown",
   "id": "d697ca13-9bef-4d2b-9f5e-cb34d5537272",
   "metadata": {},
   "source": [
    "Vi sier at \n",
    "$\\left[\\begin{array}{c}\n",
    "1 \\\\ -2 \\\\ 1\n",
    "\\end{array}\\right]$\n",
    "er en **egenvektor** til \n",
    "$\n",
    "A = \\left[\\begin{array}{ccc}\n",
    "0 & 1/2 & 1/2 \\\\ 1 & 0 & 0 \\\\ 0 & 1/2 & 1/2\n",
    "\\end{array}\\right]$\n",
    "med **egenverdi** $-\\frac 12$"
   ]
  },
  {
   "cell_type": "markdown",
   "id": "332bc67e-2607-4666-829f-39681722b5d5",
   "metadata": {},
   "source": [
    "Tilsvarende er\n",
    "$\\left[\\begin{array}{c}\n",
    "0 \\\\1 \\\\ -1\n",
    "\\end{array}\\right]$\n",
    "en **egenvektor** til \n",
    "$\n",
    "A = \\left[\\begin{array}{ccc}\n",
    "0 & 1/2 & 1/2 \\\\ 1 & 0 & 0 \\\\ 0 & 1/2 & 1/2\n",
    "\\end{array}\\right]$\n",
    "med **egenverdi** $0$"
   ]
  },
  {
   "cell_type": "markdown",
   "id": "1630a91f-0adb-4b62-944d-5388a4d424b3",
   "metadata": {},
   "source": [
    "og\n",
    "$\\left[\\begin{array}{c}\n",
    "1 \\\\ 1 \\\\ 1\n",
    "\\end{array}\\right]$\n",
    "er en **egenvektor** til \n",
    "$\n",
    "A = \\left[\\begin{array}{ccc}\n",
    "0 & 1/2 & 1/2 \\\\ 1 & 0 & 0 \\\\ 0 & 1/2 & 1/2\n",
    "\\end{array}\\right]$\n",
    "med **egenverdi** $1$"
   ]
  },
  {
   "cell_type": "markdown",
   "id": "74afad24-70f7-4b1b-8ce1-41652e53e0ed",
   "metadata": {},
   "source": [
    "### Oppgave:\n",
    "Sjekk at \n",
    "$\n",
    "\\left[\\begin{array}{ccc}\n",
    "0 & 1/2 & 1/2 \\\\ 1 & 0 & 0 \\\\ 0 & 1/2 & 1/2\n",
    "\\end{array}\\right] \\cdot \n",
    "\\left[\\begin{array}{c}\n",
    "1 \\\\ 1 \\\\ 1\n",
    "\\end{array}\\right]\n",
    "= \n",
    "1\\cdot\n",
    "\\left[\\begin{array}{c}\n",
    "1 \\\\ 1 \\\\ 1\n",
    "\\end{array}\\right]\n",
    "$\n",
    "og at\n",
    "$\n",
    "\\left[\\begin{array}{ccc}\n",
    "0 & 1/2 & 1/2 \\\\ 1 & 0 & 0 \\\\ 0 & 1/2 & 1/2\n",
    "\\end{array}\\right] \\cdot \n",
    "\\left[\\begin{array}{c}\n",
    "0 \\\\ 1 \\\\ -1 \n",
    "\\end{array}\\right]\n",
    "= \n",
    "0\\cdot\n",
    "\\left[\\begin{array}{c}\n",
    "0 \\\\ 1 \\\\ -1 \n",
    "\\end{array}\\right]\n",
    "$"
   ]
  },
  {
   "cell_type": "markdown",
   "id": "46992934-4ec7-4e01-8f7f-f093a888d4cd",
   "metadata": {
    "jp-MarkdownHeadingCollapsed": true
   },
   "source": [
    "## Metode for å finne egenverdier og egenvektorer"
   ]
  },
  {
   "cell_type": "markdown",
   "id": "c9c36d37-fb14-4ca9-9114-734909f34f7e",
   "metadata": {},
   "source": [
    "Hvis $A \\cdot \\vec v = t \\vec v$, da er $\\vec 0 = A \\cdot \\vec v - t \\vec v = A \\cdot \\vec v - t I \\cdot \\vec v = (A - tI)\\vec v$. Hvis $\\vec v \\ne \\vec 0$ må vi ha $\\det(A - tI) = 0$."
   ]
  },
  {
   "cell_type": "markdown",
   "id": "30f8c73d-8900-416c-9087-447840b334a4",
   "metadata": {},
   "source": [
    "Omvendt, hvis $\\det(A - tI) = 0$, da vet vi at det finnes en $\\vec v \\ne \\vec 0$ med $(A - tI) \\cdot \\vec v = \\vec 0$."
   ]
  },
  {
   "cell_type": "markdown",
   "id": "b34f7acb-6fd4-42ae-a160-a67b51a5f8ea",
   "metadata": {},
   "source": [
    "Vi ser på $\\det(A - tI)$ som en funksjon i den ubestemte $t$, og finner alle nullpunkter for denne funksjonen. Her kan vi for eksempel anvende metoden til Newton. \n",
    "Hvis $A$ er en $2 \\times 2$ eller $3 \\times 3$ matrise da er $\\det(A - tI)$ et polynom av grad henholdsvis 2 eller 3. Da kan vi, med litt jobbing og litt hell,\n",
    "finne nullpunkter for hånd."
   ]
  },
  {
   "cell_type": "markdown",
   "id": "ae95e12e-0244-4acf-aa31-22f3572a429c",
   "metadata": {
    "jp-MarkdownHeadingCollapsed": true
   },
   "source": [
    "## Eksempel fortsatt"
   ]
  },
  {
   "cell_type": "markdown",
   "id": "40311563-48ff-47bf-87ac-e8f78f6497dc",
   "metadata": {},
   "source": [
    "La oss fjuske litt og få python til å finne polynomet $\\det(A - tI)$ for oss."
   ]
  },
  {
   "cell_type": "code",
   "execution_count": 8,
   "id": "e7f0ec2f-577a-44ad-b676-cf04c7d524f3",
   "metadata": {},
   "outputs": [],
   "source": [
    "t = sp.symbols('t')  # Definerer symbolet t, som brukes i det karakteristiske polynomet\n",
    "B = A - t * sp.eye(A.shape[0])  # Lager matrisen B = A - t*I, hvor I er identitetsmatrisen\n",
    "karakteristisk_polynom = B.det()  # Finner determinant av B, som gir det karakteristiske polynomet"
   ]
  },
  {
   "cell_type": "code",
   "execution_count": 9,
   "id": "453477c7-572b-4460-8064-26976188a3cd",
   "metadata": {},
   "outputs": [
    {
     "data": {
      "text/latex": [
       "$\\displaystyle - t^{3} + 0.5 t^{2} + 0.5 t$"
      ],
      "text/plain": [
       "-t**3 + 0.5*t**2 + 0.5*t"
      ]
     },
     "execution_count": 9,
     "metadata": {},
     "output_type": "execute_result"
    }
   ],
   "source": [
    "karakteristisk_polynom"
   ]
  },
  {
   "cell_type": "markdown",
   "id": "37895522-065d-4904-884b-8759597a54cb",
   "metadata": {},
   "source": [
    "### Oppgave"
   ]
  },
  {
   "cell_type": "markdown",
   "id": "2d2a5923-9153-402c-aa72-d5baa0130750",
   "metadata": {},
   "source": [
    "Sjekk for hånd at $$\\det(A - tI) = -t^3 + \\frac 12 t^2 + \\frac 12 t$$"
   ]
  },
  {
   "cell_type": "code",
   "execution_count": 10,
   "id": "395a50b9-710f-484c-9602-e7e719b4f397",
   "metadata": {},
   "outputs": [],
   "source": [
    "egenverdier = sp.solve(karakteristisk_polynom)  # Løser det karakteristiske polynomet for å finne egenverdiene"
   ]
  },
  {
   "cell_type": "code",
   "execution_count": 11,
   "id": "d93d8d1f-2c59-4220-96a7-25dc0433c1ae",
   "metadata": {},
   "outputs": [
    {
     "data": {
      "text/plain": [
       "[-0.500000000000000, 0.0, 1.00000000000000]"
      ]
     },
     "execution_count": 11,
     "metadata": {},
     "output_type": "execute_result"
    }
   ],
   "source": [
    "egenverdier"
   ]
  },
  {
   "cell_type": "markdown",
   "id": "35f96d7b-c875-4df9-bf4b-f67b8aad1f7d",
   "metadata": {},
   "source": [
    "Nå vil vi finne ikke-null løsninger til \n",
    "$(A - (-1/2)\\cdot I)\\vec v = \\vec 0$ og\n",
    "$(A - 0 \\cdot I)\\vec v = \\vec 0$ og\n",
    "$(A - 1 \\cdot I)\\vec v = \\vec 0$. Det gjør vi ved Gauss Jordan eliminasjon på tavlen."
   ]
  },
  {
   "cell_type": "markdown",
   "id": "c569b304-8c7c-461b-b99f-d695c1f749bb",
   "metadata": {
    "jp-MarkdownHeadingCollapsed": true
   },
   "source": [
    "## Eksempel"
   ]
  },
  {
   "cell_type": "code",
   "execution_count": 12,
   "id": "b61c1e84-4d0b-4643-8956-5b2ba3dd04c3",
   "metadata": {},
   "outputs": [],
   "source": [
    "A = np.array([\n",
    "    [2, 1, 1],\n",
    "    [2, 3, 4],\n",
    "    [1, -1, 2]\n",
    "])"
   ]
  },
  {
   "cell_type": "code",
   "execution_count": 13,
   "id": "7013ee81-e567-4be5-96e5-4356ba62ec9c",
   "metadata": {},
   "outputs": [
    {
     "name": "stdout",
     "output_type": "stream",
     "text": [
      "Alle vektorer her skal leses som kolonnevektorer\n",
      "\n",
      "egenverdi:      3.0\n",
      "egenvektor:     [-2. -3.  1.]\n",
      "A @ evenvektor: [-6. -9.  3.]\n",
      "\n"
     ]
    }
   ],
   "source": [
    "skriv_ut_egenvektorer_og_multiplikasjon_med_matrise(A, finn_egenvektorer_og_egenverdier(A))"
   ]
  },
  {
   "cell_type": "markdown",
   "id": "8946f6f2-d017-44b6-9cc1-181e60f508b1",
   "metadata": {},
   "source": [
    "#### Resten av dette eksempelet er bare for spesielt interesserte"
   ]
  },
  {
   "cell_type": "code",
   "execution_count": 14,
   "id": "21c98c60-c530-4080-85f7-b375d7ef6702",
   "metadata": {},
   "outputs": [],
   "source": [
    "t = sp.symbols('t')  # Definerer symbolet t, som brukes i det karakteristiske polynomet\n",
    "B = A - t * sp.eye(A.shape[0])  # Lager matrisen B = A - t*I, hvor I er identitetsmatrisen\n",
    "karakteristisk_polynom = B.det()  # Finner determinant av B, som gir det karakteristiske polynomet\n",
    "\n",
    "egenverdier = sp.solve(karakteristisk_polynom)  # Løser det karakteristiske polynomet for å finne egenverdiene"
   ]
  },
  {
   "cell_type": "code",
   "execution_count": 15,
   "id": "f754b478-ea2a-4bc3-aafb-72643ef7efd5",
   "metadata": {},
   "outputs": [
    {
     "data": {
      "text/plain": [
       "[3, 2 - I, 2 + I]"
      ]
     },
     "execution_count": 15,
     "metadata": {},
     "output_type": "execute_result"
    }
   ],
   "source": [
    "egenverdier"
   ]
  },
  {
   "cell_type": "code",
   "execution_count": 16,
   "id": "05983a2c-f1e1-4496-87c7-e9e6a60ce4e9",
   "metadata": {},
   "outputs": [
    {
     "data": {
      "text/latex": [
       "$\\displaystyle \\left[\\begin{matrix}2 - t & 1 & 1\\\\2 & 3 - t & 4\\\\1 & -1 & 2 - t\\end{matrix}\\right]$"
      ],
      "text/plain": [
       "Matrix([\n",
       "[2 - t,     1,     1],\n",
       "[    2, 3 - t,     4],\n",
       "[    1,    -1, 2 - t]])"
      ]
     },
     "execution_count": 16,
     "metadata": {},
     "output_type": "execute_result"
    }
   ],
   "source": [
    "B"
   ]
  },
  {
   "cell_type": "code",
   "execution_count": 17,
   "id": "0fd03bb7-9f05-4d1b-ae54-b36cc0b1c60e",
   "metadata": {},
   "outputs": [
    {
     "data": {
      "text/latex": [
       "$\\displaystyle - t^{3} + 7 t^{2} - 17 t + 15$"
      ],
      "text/plain": [
       "-t**3 + 7*t**2 - 17*t + 15"
      ]
     },
     "execution_count": 17,
     "metadata": {},
     "output_type": "execute_result"
    }
   ],
   "source": [
    "karakteristisk_polynom"
   ]
  },
  {
   "cell_type": "code",
   "execution_count": 18,
   "id": "984fe419-b782-4e52-a098-7958a911ba07",
   "metadata": {},
   "outputs": [
    {
     "data": {
      "text/latex": [
       "$\\displaystyle - t^{2} + 4 t - 5$"
      ],
      "text/plain": [
       "-t**2 + 4*t - 5"
      ]
     },
     "execution_count": 18,
     "metadata": {},
     "output_type": "execute_result"
    }
   ],
   "source": [
    "sp.simplify(karakteristisk_polynom / (t - 3))"
   ]
  },
  {
   "cell_type": "markdown",
   "id": "a8f51096-07e2-47ae-a94d-33645eecd73c",
   "metadata": {},
   "source": [
    "Kan du forklare hvorfor vi kun finner en egenvektor?"
   ]
  },
  {
   "cell_type": "code",
   "execution_count": 19,
   "id": "2aecb8b9-6ae6-4236-8520-3881eec2f626",
   "metadata": {},
   "outputs": [
    {
     "name": "stdout",
     "output_type": "stream",
     "text": [
      "Alle vektorer her skal leses som kolonnevektorer\n",
      "\n",
      "egenverdi:      (2-1j)\n",
      "egenvektor:     [-1.-1.11e-16j -1.+1.00e+00j  1.+0.00e+00j]\n",
      "A @ evenvektor: [-2.+1.j -1.+3.j  2.-1.j]\n",
      "\n",
      "egenverdi:      (2+1j)\n",
      "egenvektor:     [-1.+1.11e-16j -1.-1.00e+00j  1.+0.00e+00j]\n",
      "A @ evenvektor: [-2.-1.j -1.-3.j  2.+1.j]\n",
      "\n",
      "egenverdi:      3.0\n",
      "egenvektor:     [-2. -3.  1.]\n",
      "A @ evenvektor: [-6. -9.  3.]\n",
      "\n"
     ]
    }
   ],
   "source": [
    "skriv_ut_egenvektorer_og_multiplikasjon_med_matrise(A, finn_egenvektorer_og_egenverdier(A.astype('complex128')))"
   ]
  },
  {
   "cell_type": "markdown",
   "id": "dfb1fa59-b782-457e-b989-bc44645c0c01",
   "metadata": {},
   "source": [
    "Hva skjete nå?"
   ]
  },
  {
   "cell_type": "markdown",
   "id": "b1937147-1fd7-4dca-b8a4-c99d29039cf5",
   "metadata": {
    "jp-MarkdownHeadingCollapsed": true
   },
   "source": [
    "## Eksempel"
   ]
  },
  {
   "cell_type": "code",
   "execution_count": 20,
   "id": "41cb74b5-a3c3-49e1-aef8-3f53025f6a90",
   "metadata": {},
   "outputs": [],
   "source": [
    "M = np.array([\n",
    "    [-4, -2, -2],\n",
    "    [-4, -6, -8],\n",
    "    [2, 2, 4]\n",
    "])"
   ]
  },
  {
   "cell_type": "code",
   "execution_count": 21,
   "id": "a3bf94df-f276-47ac-99e9-fbd1e215715e",
   "metadata": {},
   "outputs": [
    {
     "name": "stdout",
     "output_type": "stream",
     "text": [
      "Alle vektorer her skal leses som kolonnevektorer\n",
      "\n",
      "egenverdi:      -2.0\n",
      "egenvektor:     [-1.  1. -0.]\n",
      "A @ evenvektor: [ 2. -2.  0.]\n",
      "\n",
      "egenverdi:      2.0\n",
      "egenvektor:     [-0. -1.  1.]\n",
      "A @ evenvektor: [ 0. -2.  2.]\n",
      "\n",
      "egenverdi:      -6.0\n",
      "egenvektor:     [-2. -3.  1.]\n",
      "A @ evenvektor: [12. 18. -6.]\n",
      "\n"
     ]
    }
   ],
   "source": [
    "skriv_ut_egenvektorer_og_multiplikasjon_med_matrise(M, finn_egenvektorer_og_egenverdier(M))"
   ]
  },
  {
   "cell_type": "code",
   "execution_count": 22,
   "id": "9bae1e8e-fa83-421b-9737-29afe7ce3873",
   "metadata": {},
   "outputs": [
    {
     "data": {
      "text/plain": [
       "[-6, -2, 2]"
      ]
     },
     "execution_count": 22,
     "metadata": {},
     "output_type": "execute_result"
    }
   ],
   "source": [
    "t = sp.symbols('t')  # Definerer symbolet t, som brukes i det karakteristiske polynomet\n",
    "B = M - t * sp.eye(M.shape[0])  # Lager matrisen B = A - t*I, hvor I er identitetsmatrisen\n",
    "karakteristisk_polynom = B.det()  # Finner determinant av B, som gir det karakteristiske polynomet\n",
    "\n",
    "egenverdier = sp.solve(karakteristisk_polynom)  # Løser det karakteristiske polynomet for å finne egenverdiene\n",
    "egenverdier"
   ]
  },
  {
   "cell_type": "code",
   "execution_count": 23,
   "id": "0956f713-b323-457e-83d9-06f44b7ce7d6",
   "metadata": {},
   "outputs": [
    {
     "data": {
      "text/latex": [
       "$\\displaystyle \\left[\\begin{matrix}- t - 4 & -2 & -2\\\\-4 & - t - 6 & -8\\\\2 & 2 & 4 - t\\end{matrix}\\right]$"
      ],
      "text/plain": [
       "Matrix([\n",
       "[-t - 4,     -2,    -2],\n",
       "[    -4, -t - 6,    -8],\n",
       "[     2,      2, 4 - t]])"
      ]
     },
     "execution_count": 23,
     "metadata": {},
     "output_type": "execute_result"
    }
   ],
   "source": [
    "B"
   ]
  },
  {
   "cell_type": "code",
   "execution_count": 24,
   "id": "d2112e87-98e7-4cf0-b293-f990f76d1b36",
   "metadata": {},
   "outputs": [
    {
     "data": {
      "text/latex": [
       "$\\displaystyle - t^{3} - 6 t^{2} + 4 t + 24$"
      ],
      "text/plain": [
       "-t**3 - 6*t**2 + 4*t + 24"
      ]
     },
     "execution_count": 24,
     "metadata": {},
     "output_type": "execute_result"
    }
   ],
   "source": [
    "karakteristisk_polynom"
   ]
  },
  {
   "cell_type": "markdown",
   "id": "3ef8a9ab-0c16-4285-ac5d-1a46c8c7a93b",
   "metadata": {
    "jp-MarkdownHeadingCollapsed": true
   },
   "source": [
    "## Eksempel"
   ]
  },
  {
   "cell_type": "code",
   "execution_count": 25,
   "id": "d14ee806-1c2a-44d0-a810-9d034c660d6e",
   "metadata": {},
   "outputs": [],
   "source": [
    "A = np.array([\n",
    "    [7, 0, -4],\n",
    "    [0, 5, 0],\n",
    "    [5, 0, -2]\n",
    "])"
   ]
  },
  {
   "cell_type": "code",
   "execution_count": 26,
   "id": "8476ecbb-fecd-4f68-9e1d-60560a9cb545",
   "metadata": {},
   "outputs": [
    {
     "name": "stdout",
     "output_type": "stream",
     "text": [
      "Alle vektorer her skal leses som kolonnevektorer\n",
      "\n",
      "egenverdi:      2.0\n",
      "egenvektor:     [ 0.8 -0.   1. ]\n",
      "A @ evenvektor: [1.6 0.  2. ]\n",
      "\n",
      "egenverdi:      3.0\n",
      "egenvektor:     [ 1. -0.  1.]\n",
      "A @ evenvektor: [3. 0. 3.]\n",
      "\n",
      "egenverdi:      5.0\n",
      "egenvektor:     [-0.  1. -0.]\n",
      "A @ evenvektor: [0. 5. 0.]\n",
      "\n"
     ]
    }
   ],
   "source": [
    "skriv_ut_egenvektorer_og_multiplikasjon_med_matrise(A, finn_egenvektorer_og_egenverdier(A))"
   ]
  },
  {
   "cell_type": "markdown",
   "id": "2d79adf4-ad17-48b4-aea5-c11277d54047",
   "metadata": {
    "jp-MarkdownHeadingCollapsed": true
   },
   "source": [
    "## Eksempel"
   ]
  },
  {
   "cell_type": "code",
   "execution_count": 27,
   "id": "d20fc875-3f44-44f7-b89c-0997b4db885f",
   "metadata": {},
   "outputs": [],
   "source": [
    "A = np.array([\n",
    "    [1, 1, -3],\n",
    "    [2, 0, 6],\n",
    "    [1, -1, 5]\n",
    "])"
   ]
  },
  {
   "cell_type": "code",
   "execution_count": 28,
   "id": "371fb40b-8a61-4f30-b3c5-baa91a45cb4e",
   "metadata": {},
   "outputs": [
    {
     "name": "stdout",
     "output_type": "stream",
     "text": [
      "Alle vektorer her skal leses som kolonnevektorer\n",
      "\n",
      "egenverdi:      2.0\n",
      "egenvektor:     [1. 1. 0.]\n",
      "A @ evenvektor: [2. 2. 0.]\n",
      "egenvektor:     [-3.  0.  1.]\n",
      "A @ evenvektor: [-6.  0.  2.]\n",
      "\n"
     ]
    }
   ],
   "source": [
    "skriv_ut_egenvektorer_og_multiplikasjon_med_matrise(A, finn_egenvektorer_og_egenverdier(A.astype('complex128')))"
   ]
  },
  {
   "cell_type": "markdown",
   "id": "88d09ab2-da75-436c-8f8a-d8287d4c99e7",
   "metadata": {
    "jp-MarkdownHeadingCollapsed": true
   },
   "source": [
    "## Eksempel"
   ]
  },
  {
   "cell_type": "code",
   "execution_count": 29,
   "id": "945e0a3d-a9d4-4301-a1cf-8971d142f273",
   "metadata": {},
   "outputs": [],
   "source": [
    "A = np.array([\n",
    "    [1, -2, 3],\n",
    "    [2, 6, -6],\n",
    "    [1, 2, -1]\n",
    "])"
   ]
  },
  {
   "cell_type": "code",
   "execution_count": 30,
   "id": "398e0f75-e630-4a57-a3d6-b3735f3183d8",
   "metadata": {},
   "outputs": [
    {
     "name": "stdout",
     "output_type": "stream",
     "text": [
      "Alle vektorer her skal leses som kolonnevektorer\n",
      "\n",
      "egenverdi:      2.0\n",
      "egenvektor:     [-2.  1.  0.]\n",
      "A @ evenvektor: [-4.  2.  0.]\n",
      "egenvektor:     [3. 0. 1.]\n",
      "A @ evenvektor: [6. 0. 2.]\n",
      "\n"
     ]
    }
   ],
   "source": [
    "skriv_ut_egenvektorer_og_multiplikasjon_med_matrise(A, finn_egenvektorer_og_egenverdier(A))"
   ]
  },
  {
   "cell_type": "markdown",
   "id": "bf962f86-6df1-4db6-b9ff-9ff97152b830",
   "metadata": {
    "jp-MarkdownHeadingCollapsed": true
   },
   "source": [
    "## Eksempel"
   ]
  },
  {
   "cell_type": "code",
   "execution_count": 31,
   "id": "27af052e-8c27-4c53-84ec-7283d6aa029f",
   "metadata": {},
   "outputs": [],
   "source": [
    "A = np.array([\n",
    "    [0, 1, 0],\n",
    "    [3, 0, 1],\n",
    "    [2, 0, 0]\n",
    "])"
   ]
  },
  {
   "cell_type": "code",
   "execution_count": 32,
   "id": "33742bd4-623e-4e23-8c79-03ba99b67832",
   "metadata": {},
   "outputs": [
    {
     "name": "stdout",
     "output_type": "stream",
     "text": [
      "Alle vektorer her skal leses som kolonnevektorer\n",
      "\n",
      "egenverdi:      -1.0\n",
      "egenvektor:     [-0.5  0.5  1. ]\n",
      "A @ evenvektor: [ 0.5 -0.5 -1. ]\n",
      "\n",
      "egenverdi:      2.0\n",
      "egenvektor:     [1. 2. 1.]\n",
      "A @ evenvektor: [2. 4. 2.]\n",
      "\n"
     ]
    }
   ],
   "source": [
    "skriv_ut_egenvektorer_og_multiplikasjon_med_matrise(A, finn_egenvektorer_og_egenverdier(A))"
   ]
  },
  {
   "cell_type": "markdown",
   "id": "b1582b94-8058-4c95-bd52-950a9b93fbfc",
   "metadata": {},
   "source": [
    "Også numpy kan regne ut egenverdier og egenvektorer. Uheldigvis regner den heller ikke helt presis. Den gir alltid tre egenvektorer selv om det kan finnes færre!"
   ]
  },
  {
   "cell_type": "code",
   "execution_count": 33,
   "id": "84805a76-9155-478f-98d9-68ceffaad472",
   "metadata": {},
   "outputs": [
    {
     "name": "stdout",
     "output_type": "stream",
     "text": [
      "Alle vektorer her skal leses som kolonnevektorer\n",
      "\n",
      "egenverdi:      -0.9999999797236733\n",
      "egenvektor:     [-0.408  0.408  0.816]\n",
      "A @ evenvektor: [ 0.408 -0.408 -0.816]\n",
      "\n",
      "egenverdi:      -1.0000000202763286\n",
      "egenvektor:     [ 0.408 -0.408 -0.816]\n",
      "A @ evenvektor: [-0.408  0.408  0.816]\n",
      "\n",
      "egenverdi:      2.0\n",
      "egenvektor:     [0.408 0.816 0.408]\n",
      "A @ evenvektor: [0.816 1.633 0.816]\n",
      "\n"
     ]
    }
   ],
   "source": [
    "skriv_ut_numpy_egenvektorer_og_multiplikasjon_med_matrise(A)"
   ]
  },
  {
   "cell_type": "markdown",
   "id": "99a5578a-7135-472c-accd-e4a0ad8c96da",
   "metadata": {
    "jp-MarkdownHeadingCollapsed": true
   },
   "source": [
    "## Eksempel"
   ]
  },
  {
   "cell_type": "code",
   "execution_count": 34,
   "id": "3e20ada1-3c7d-4802-9093-d966dba88eb6",
   "metadata": {},
   "outputs": [],
   "source": [
    "A = np.array([\n",
    "    [3, 1, 1],\n",
    "    [-4, -2, -5],\n",
    "    [2, 2, 5]\n",
    "])"
   ]
  },
  {
   "cell_type": "code",
   "execution_count": 35,
   "id": "c4958eba-6674-4224-b584-642f2475a294",
   "metadata": {},
   "outputs": [
    {
     "name": "stdout",
     "output_type": "stream",
     "text": [
      "Alle vektorer her skal leses som kolonnevektorer\n",
      "\n",
      "egenverdi:      1.0\n",
      "egenvektor:     [ 1. -3.  1.]\n",
      "A @ evenvektor: [ 1. -3.  1.]\n",
      "\n",
      "egenverdi:      2.0\n",
      "egenvektor:     [-1.  1. -0.]\n",
      "A @ evenvektor: [-2.  2.  0.]\n",
      "\n",
      "egenverdi:      3.0\n",
      "egenvektor:     [-0. -1.  1.]\n",
      "A @ evenvektor: [ 0. -3.  3.]\n",
      "\n"
     ]
    }
   ],
   "source": [
    "skriv_ut_egenvektorer_og_multiplikasjon_med_matrise(A, finn_egenvektorer_og_egenverdier(A))"
   ]
  },
  {
   "cell_type": "markdown",
   "id": "aba80762-8ad8-471a-b0fb-386e4a994886",
   "metadata": {
    "jp-MarkdownHeadingCollapsed": true
   },
   "source": [
    "## Eksempel"
   ]
  },
  {
   "cell_type": "code",
   "execution_count": 36,
   "id": "846909f8-ff54-4393-a758-3eeaa7bbe25a",
   "metadata": {},
   "outputs": [],
   "source": [
    "A = np.array([\n",
    "    [2, 1, 1],\n",
    "    [0, 1, 0],\n",
    "    [1, -1, 2]\n",
    "])"
   ]
  },
  {
   "cell_type": "code",
   "execution_count": 37,
   "id": "4af13ca8-1830-434c-9513-1fc0ade322b1",
   "metadata": {},
   "outputs": [
    {
     "name": "stdout",
     "output_type": "stream",
     "text": [
      "Alle vektorer her skal leses som kolonnevektorer\n",
      "\n",
      "egenverdi:      1.0\n",
      "egenvektor:     [-1. -0.  1.]\n",
      "A @ evenvektor: [-1.  0.  1.]\n",
      "\n",
      "egenverdi:      3.0\n",
      "egenvektor:     [ 1. -0.  1.]\n",
      "A @ evenvektor: [3. 0. 3.]\n",
      "\n"
     ]
    }
   ],
   "source": [
    "skriv_ut_egenvektorer_og_multiplikasjon_med_matrise(A, finn_egenvektorer_og_egenverdier(A))"
   ]
  },
  {
   "cell_type": "markdown",
   "id": "42e64b6f-c854-4de7-b606-e9beb8c76387",
   "metadata": {},
   "source": [
    "## Eksempel"
   ]
  },
  {
   "cell_type": "code",
   "execution_count": 38,
   "id": "f6a49cad-9169-47b5-9f1a-b19482b53b6d",
   "metadata": {},
   "outputs": [],
   "source": [
    "A = np.array([\n",
    "    [1, 0, 0],\n",
    "    [0, 1, 0],\n",
    "    [0, 0, 2]\n",
    "])"
   ]
  },
  {
   "cell_type": "code",
   "execution_count": 39,
   "id": "4923716b-00c5-4cd8-a49c-926064adc77c",
   "metadata": {},
   "outputs": [
    {
     "name": "stdout",
     "output_type": "stream",
     "text": [
      "Alle vektorer her skal leses som kolonnevektorer\n",
      "\n",
      "egenverdi:      1.0\n",
      "egenvektor:     [ 1.  0. -0.]\n",
      "A @ evenvektor: [1. 0. 0.]\n",
      "egenvektor:     [ 0.  1. -0.]\n",
      "A @ evenvektor: [0. 1. 0.]\n",
      "\n",
      "egenverdi:      2.0\n",
      "egenvektor:     [-0. -0.  1.]\n",
      "A @ evenvektor: [0. 0. 2.]\n",
      "\n"
     ]
    }
   ],
   "source": [
    "skriv_ut_egenvektorer_og_multiplikasjon_med_matrise(A, finn_egenvektorer_og_egenverdier(A))"
   ]
  }
 ],
 "metadata": {
  "kernelspec": {
   "display_name": "Python 3 (ipykernel)",
   "language": "python",
   "name": "python3"
  },
  "language_info": {
   "codemirror_mode": {
    "name": "ipython",
    "version": 3
   },
   "file_extension": ".py",
   "mimetype": "text/x-python",
   "name": "python",
   "nbconvert_exporter": "python",
   "pygments_lexer": "ipython3",
   "version": "3.12.8"
  }
 },
 "nbformat": 4,
 "nbformat_minor": 5
}
