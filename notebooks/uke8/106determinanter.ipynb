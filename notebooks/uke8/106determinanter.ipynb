{
 "cells": [
  {
   "cell_type": "markdown",
   "id": "558165ed-c90e-45a9-9f09-d7faf4884210",
   "metadata": {},
   "source": [
    "# Determinanter (MIP 10.6)"
   ]
  },
  {
   "cell_type": "markdown",
   "id": "3acb01b8-69b0-4bb7-b0f1-bd80bdec0333",
   "metadata": {},
   "source": [
    "Vi sier at en matrise $A$ er **kvadratisk** hvis den har like mange rader og kolonner."
   ]
  },
  {
   "cell_type": "markdown",
   "id": "a3f6f37a-7bd7-44fc-ab92-af6569b9b46b",
   "metadata": {},
   "source": [
    "Determinanten $|A|$ til en kvadratisk matrise er et tall."
   ]
  },
  {
   "cell_type": "markdown",
   "id": "ddc75be2-d4f0-44be-b164-a2c732d56be3",
   "metadata": {},
   "source": [
    "For en $1 \\times 1$-matrise $A = [a]$ er $|A| = a$."
   ]
  },
  {
   "cell_type": "markdown",
   "id": "b34de9b5-8303-48ed-9c48-7646e660d773",
   "metadata": {},
   "source": [
    "For en $2 \\times 2$-matrise\n",
    "$$\n",
    "A = \n",
    "\\left[\\begin{array}{cc}\n",
    "a & b\\\\\n",
    "c & d\n",
    "\\end{array}\\right]\n",
    "$$\n",
    "er\n",
    "$$\n",
    "|A| = \n",
    "\\left|\\begin{array}{cc}\n",
    "a & b\\\\\n",
    "c & d\n",
    "\\end{array}\\right|\n",
    "= ad - bc\n",
    "$$\n"
   ]
  },
  {
   "cell_type": "markdown",
   "id": "63d911c5-0211-4621-8cb5-2814991c758b",
   "metadata": {},
   "source": [
    "## Eksempel"
   ]
  },
  {
   "cell_type": "markdown",
   "id": "ec96c650-e85c-4fa2-9c66-ba97d7a6d707",
   "metadata": {},
   "source": [
    "For\n",
    "$$\n",
    "A = \n",
    "\\left[\\begin{array}{cc}\n",
    "1 & 2\\\\\n",
    "3 & 4\n",
    "\\end{array}\\right]\n",
    "$$\n",
    "er\n",
    "$$\n",
    "|A| = \n",
    "\\left|\\begin{array}{cc}\n",
    "1 & 2\\\\\n",
    "3 & 4\n",
    "\\end{array}\\right|\n",
    "= 1 \\cdot 4 - 2 \\cdot 3 = 4 - 6 = -2\n",
    "$$\n",
    "\n",
    "---"
   ]
  },
  {
   "cell_type": "markdown",
   "id": "2c9a1516-006a-425b-aa29-5887f1aa7715",
   "metadata": {},
   "source": [
    "For en $3 \\times 3$-matrise\n",
    "$$\n",
    "A = \n",
    "\\left[\\begin{array}{ccc}\n",
    "a & b & c\\\\\n",
    "d & e & f \\\\\n",
    "g & h & i\n",
    "\\end{array}\\right]\n",
    "$$\n",
    "er\n",
    "$$\n",
    "|A| = \n",
    "\\left|\\begin{array}{ccc}\n",
    "a & b & c\\\\\n",
    "d & e & f \\\\\n",
    "g & h & i\n",
    "\\end{array}\\right|\n",
    "= \n",
    "a\\left|\\begin{array}{cc}\n",
    "e & f\\\\\n",
    "h & i\n",
    "\\end{array}\\right| -\n",
    "b\\left|\\begin{array}{cc}\n",
    "d & f\\\\\n",
    "g & i\n",
    "\\end{array}\\right| +\n",
    "c\\left|\\begin{array}{cc}\n",
    "d & e\\\\\n",
    "g & h\n",
    "\\end{array}\\right|\n",
    "$$\n"
   ]
  },
  {
   "cell_type": "markdown",
   "id": "e5af0810-0e1d-493c-83d1-dd9c1677af88",
   "metadata": {},
   "source": [
    "## Eksempel"
   ]
  },
  {
   "cell_type": "markdown",
   "id": "c8a72eeb-8745-420a-972b-3aac4d5a4337",
   "metadata": {},
   "source": [
    "For \n",
    "$$\n",
    "I = \n",
    "\\left[\\begin{array}{ccc}\n",
    "1 & 0 & 0 \\\\\n",
    "0 & 1 & 0 \\\\\n",
    "0 & 0 & 1\n",
    "\\end{array}\\right]\n",
    "$$\n",
    "er\n",
    "$$\n",
    "|I| = \n",
    "\\left|\\begin{array}{ccc}\n",
    "1 & 0 & 0 \\\\\n",
    "0 & 1 & 0 \\\\\n",
    "0 & 0 & 1\n",
    "\\end{array}\\right|\n",
    "= \n",
    "1\\left|\\begin{array}{cc}\n",
    "1 & 0\\\\\n",
    "0 & 1\n",
    "\\end{array}\\right| -\n",
    "0\\left|\\begin{array}{cc}\n",
    "0 & 0\\\\\n",
    "0 & 1\n",
    "\\end{array}\\right| +\n",
    "0\\left|\\begin{array}{cc}\n",
    "0 & 1\\\\\n",
    "0 & 0\n",
    "\\end{array}\\right|\n",
    "= 1 -0 + 0 = 1\n",
    "$$\n"
   ]
  },
  {
   "cell_type": "markdown",
   "id": "c0bebf28-d296-4e4a-bc74-21415407dad9",
   "metadata": {},
   "source": [
    "## Eksempel"
   ]
  },
  {
   "cell_type": "markdown",
   "id": "66913df3-57f9-40ed-8fa3-37d359720e6c",
   "metadata": {},
   "source": [
    "For \n",
    "$$\n",
    "A = \n",
    "\\left[\\begin{array}{ccc}\n",
    "1 & 2 & 3 \\\\\n",
    "4 & 5 & 6 \\\\\n",
    "7 & 8 & 9\n",
    "\\end{array}\\right]\n",
    "$$\n",
    "er\n",
    "$$\n",
    "|A| = \n",
    "\\left|\\begin{array}{ccc}\n",
    "1 & 2 & 3 \\\\\n",
    "4 & 5 & 6 \\\\\n",
    "7 & 8 & 9\n",
    "\\end{array}\\right|\n",
    "= \n",
    "1\\left|\\begin{array}{cc}\n",
    "5 & 6\\\\\n",
    "8 & 9\n",
    "\\end{array}\\right| -\n",
    "2\\left|\\begin{array}{cc}\n",
    "4 & 6\\\\\n",
    "7 & 9\n",
    "\\end{array}\\right| +\n",
    "3\\left|\\begin{array}{cc}\n",
    "4 & 5\\\\\n",
    "7 & 8\n",
    "\\end{array}\\right|\n",
    "= -3 + 12 - 9 = 0\n",
    "$$\n"
   ]
  },
  {
   "cell_type": "markdown",
   "id": "80ff0b83-5a41-45b9-a2d4-f35b5e3a0a63",
   "metadata": {},
   "source": [
    "## Teorem\n",
    "**Antall løsninger av ligningssystemer**\n",
    "\n",
    "Systemet\n",
    "$$\n",
    "\\begin{array}{ccccccccc}\n",
    "a_{00} x_0 &+& a_{01} x_1& + & \\dots & + & a_{0n}x_n & = & b_0 \\\\\n",
    "a_{10} x_0 &+& a_{11} x_1& + & \\dots & + & a_{1n}x_n & = & b_1 \\\\\n",
    "\\vdots&&\\vdots&&&&\\vdots&&\\vdots \\\\\n",
    "a_{n0} x_0 &+& a_{n1} x_1& + & \\dots & + & a_{nn}x_n & = & b_n \n",
    "\\end{array}\n",
    "$$\n",
    "har en entydig løsning hvis og bare hvis\n",
    "$$\n",
    "\\left|\n",
    "\\begin{array}{cccc}\n",
    "a_{00} & a_{01} & \\dots & a_{0n} \\\\\n",
    "a_{10} & a_{11} & \\dots & a_{1n} \\\\\n",
    "\\vdots & \\vdots && \\vdots \\\\\n",
    "a_{n0} & a_{n1} & \\dots & a_{nn} \n",
    "\\end{array}\\right|\n",
    "\\ne 0.\n",
    "$$\n",
    "Ellers finnes enten ingen eller uendelig mange løsninger."
   ]
  },
  {
   "cell_type": "markdown",
   "id": "7fdd5bac-abc7-4232-b859-8cc4fbe6c103",
   "metadata": {},
   "source": [
    "## Eksempel"
   ]
  },
  {
   "cell_type": "markdown",
   "id": "13bb2f89-d11d-4405-984d-67b1bcfa69f8",
   "metadata": {},
   "source": [
    "Siden\n",
    "$$ \n",
    "\\left|\\begin{array}{ccc}\n",
    "1 & 2 & 3 \\\\\n",
    "4 & 5 & 6 \\\\\n",
    "7 & 8 & 9\n",
    "\\end{array}\\right|\n",
    "= 0\n",
    "$$\n",
    "Har lignngssystemet "
   ]
  },
  {
   "cell_type": "markdown",
   "id": "24c9f980-a663-47e9-a654-46297aeb6ef9",
   "metadata": {},
   "source": [
    "$$\n",
    "\\begin{array}{ccccccc}\n",
    "    1x_0 &+& 2x_1& +& 3x_2& = &2 \\\\\n",
    "    4x_0 &+& 5x_1& +& 6x_2& = &5 \\\\\n",
    "    7x_0 &+& 8x_1& +& 9x_2& = &8 \n",
    "\\end{array}\n",
    "$$\n"
   ]
  },
  {
   "cell_type": "markdown",
   "id": "40ecf93f-d89c-416a-a47c-de78aacb5ebe",
   "metadata": {},
   "source": [
    "Enten ingen eller uendelig mange løsninger. Vi har allerede sett at det finnes en løsning for hvert valg av $x_2$."
   ]
  },
  {
   "cell_type": "markdown",
   "id": "ededd7f2-b13e-4c97-bbc1-2acb935d559a",
   "metadata": {},
   "source": [
    "## Oppgave"
   ]
  },
  {
   "cell_type": "markdown",
   "id": "364a516c-0bfd-4623-a0f8-85a49e9fce88",
   "metadata": {},
   "source": [
    "Finn alle $t$ slik at systemet"
   ]
  },
  {
   "cell_type": "markdown",
   "id": "35f3b299-8985-4961-b357-c80a032f9d8f",
   "metadata": {},
   "source": [
    "$$\\begin{array}{ccccc}\n",
    "(1-t)x & + & 2y & = & 1 \\\\\n",
    "x & + & (2-t)y & = & 1\n",
    "\\end{array}$$"
   ]
  },
  {
   "cell_type": "markdown",
   "id": "60502dba-1d90-4ef3-858e-8bc0dd63eb43",
   "metadata": {},
   "source": [
    "har en løsning."
   ]
  },
  {
   "cell_type": "markdown",
   "id": "71652e17-86e3-442f-9d1d-c6c56b9d40b8",
   "metadata": {},
   "source": [
    "## Teorem"
   ]
  },
  {
   "cell_type": "markdown",
   "id": "a9553fc9-2dc0-42e5-b256-ee9c4815ca11",
   "metadata": {},
   "source": [
    "Gitt to $n \\times n$-matriser $A$ og $B$ er $\\det(A B) = \\det(A) \\det(B)$"
   ]
  }
 ],
 "metadata": {
  "kernelspec": {
   "display_name": "Python 3 (ipykernel)",
   "language": "python",
   "name": "python3"
  },
  "language_info": {
   "codemirror_mode": {
    "name": "ipython",
    "version": 3
   },
   "file_extension": ".py",
   "mimetype": "text/x-python",
   "name": "python",
   "nbconvert_exporter": "python",
   "pygments_lexer": "ipython3",
   "version": "3.12.8"
  }
 },
 "nbformat": 4,
 "nbformat_minor": 5
}
