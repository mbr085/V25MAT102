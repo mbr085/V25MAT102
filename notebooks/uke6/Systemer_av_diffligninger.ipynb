{
  "cells": [
    {
      "cell_type": "markdown",
      "id": "62c68846-a1a7-4cef-bfbd-f1ca35e0af6a",
      "metadata": {
        "id": "62c68846-a1a7-4cef-bfbd-f1ca35e0af6a"
      },
      "source": [
        "## Systemer av lineære ordinære differensialligninger\n",
        "\n",
        "Se avsnitt 3 av kapittel 4 i [kompendiet](https://mitt.uib.no/courses/45603/files?preview=5619281) for mere om dette."
      ]
    },
    {
      "cell_type": "code",
      "execution_count": 1,
      "id": "b2229f36-bffa-4b05-9cd9-6d5acda3d33d",
      "metadata": {
        "id": "b2229f36-bffa-4b05-9cd9-6d5acda3d33d",
        "outputId": "578be804-2e88-4766-b061-a1162ffdcec9",
        "colab": {
          "base_uri": "https://localhost:8080/"
        }
      },
      "outputs": [
        {
          "output_type": "stream",
          "name": "stdout",
          "text": [
            "Collecting jupyterquiz\n",
            "  Downloading jupyterquiz-2.8.1-py2.py3-none-any.whl.metadata (13 kB)\n",
            "Downloading jupyterquiz-2.8.1-py2.py3-none-any.whl (21 kB)\n",
            "Installing collected packages: jupyterquiz\n",
            "Successfully installed jupyterquiz-2.8.1\n"
          ]
        }
      ],
      "source": [
        "# @title Import av moduler\n",
        "import numpy as np\n",
        "import matplotlib.pyplot as plt\n",
        "# Her importeres en quizz modul for jupyter.\n",
        "# Hvis den ikke allerede er installert blir den installert.\n",
        "try:\n",
        "  from jupyterquiz import display_quiz\n",
        "except:\n",
        "  !pip install jupyterquiz\n",
        "  from jupyterquiz import display_quiz\n",
        "# lenke til quizspørsmål\n",
        "git_path=\"https://raw.githubusercontent.com/mbr085/V25MAT102/main/notebooks/uke6/\""
      ]
    },
    {
      "cell_type": "markdown",
      "id": "6a4a2474-0c24-49b3-a301-f6660df3d128",
      "metadata": {
        "id": "6a4a2474-0c24-49b3-a301-f6660df3d128"
      },
      "source": [
        "Her ser vi på systemer av førsteordens differensialligninger på formen\n",
        "$$\n",
        "\\begin{align}\n",
        "  x'(t) &= f(t,x(t), y(t)), \\newline\n",
        "  y'(t) &= g(t,x(t), y(y))\n",
        "\\end{align}\n",
        "$$\n",
        "for funksjoner\n",
        "$$\n",
        "\\begin{align}\n",
        "\\mathbb{R}^3 &\\xrightarrow f \\mathbb{R}, \\newline\n",
        "(t, x, y) &\\mapsto f(t, x, y)\n",
        "\\end{align}\n",
        "$$\n",
        "og\n",
        "\n",
        "$$\n",
        "\\begin{align}\n",
        "\\mathbb{R}^3 &\\xrightarrow g \\mathbb{R}, \\newline\n",
        "(t, x) &\\mapsto g(t, x, y).\n",
        "\\end{align}\n",
        "$$\n"
      ]
    },
    {
      "cell_type": "markdown",
      "id": "e3d9628f-cf2c-46bd-9850-28fed453be4b",
      "metadata": {
        "id": "e3d9628f-cf2c-46bd-9850-28fed453be4b"
      },
      "source": [
        "## Eksempel"
      ]
    },
    {
      "cell_type": "markdown",
      "id": "8a1c135c-0867-4588-8071-8938b4f82663",
      "metadata": {
        "id": "8a1c135c-0867-4588-8071-8938b4f82663"
      },
      "source": [
        "La $f$ og $g$ være funksjonene\n",
        "\n",
        "$$\n",
        "\\begin{align}\n",
        "  f(t, x, y) &= 1, \\newline\n",
        "  g(t, x, y) &= y\n",
        "\\end{align}\n",
        "$$\n",
        "\n",
        "og la oss sette initialbetingelsene\n",
        "$$\n",
        "  x(0) = 0 \\quad \\text{og} \\quad y(0) = 2.\n",
        "$$\n",
        "\n",
        "Siden $x'(t) = 1$ og $x(0) = 0$ må vi ha $x(t) = t$. (Hvorfor det?) Nå ser vi da at $g(t, x(t), y(t)) = g(t, t, y(t)) = y(t)$, så\n",
        "betingelsen på $y(t)$ er at\n",
        "$$\n",
        "y'(t) = y(t) \\quad \\text{og} \\quad y(0) = 2.\n",
        "$$\n",
        "Denne differensialligningen har vi studert allerede!"
      ]
    },
    {
      "cell_type": "code",
      "execution_count": 2,
      "id": "468369c7-2632-4c63-b969-692651d75668",
      "metadata": {
        "id": "468369c7-2632-4c63-b969-692651d75668",
        "outputId": "88c4fa33-b111-4975-f8d7-0c43943aec5c",
        "colab": {
          "base_uri": "https://localhost:8080/",
          "height": 294
        }
      },
      "outputs": [
        {
          "output_type": "error",
          "ename": "HTTPError",
          "evalue": "HTTP Error 404: Not Found",
          "traceback": [
            "\u001b[0;31m---------------------------------------------------------------------------\u001b[0m",
            "\u001b[0;31mHTTPError\u001b[0m                                 Traceback (most recent call last)",
            "\u001b[0;32m<ipython-input-2-fa6909b583cd>\u001b[0m in \u001b[0;36m<cell line: 0>\u001b[0;34m()\u001b[0m\n\u001b[0;32m----> 1\u001b[0;31m \u001b[0mdisplay_quiz\u001b[0m\u001b[0;34m(\u001b[0m\u001b[0mgit_path\u001b[0m\u001b[0;34m+\u001b[0m\u001b[0;34m\"systemer.json\"\u001b[0m\u001b[0;34m)\u001b[0m\u001b[0;34m\u001b[0m\u001b[0;34m\u001b[0m\u001b[0m\n\u001b[0m",
            "\u001b[0;32m/usr/local/lib/python3.11/dist-packages/jupyterquiz/dynamic.py\u001b[0m in \u001b[0;36mdisplay_quiz\u001b[0;34m(ref, num, shuffle_questions, shuffle_answers, preserve_responses, border_radius, question_alignment, max_width, colors)\u001b[0m\n\u001b[1;32m    177\u001b[0m                 \u001b[0mscript\u001b[0m\u001b[0;34m+=\u001b[0m\u001b[0mtext\u001b[0m\u001b[0;34m\u001b[0m\u001b[0;34m\u001b[0m\u001b[0m\n\u001b[1;32m    178\u001b[0m             \u001b[0;32melse\u001b[0m\u001b[0;34m:\u001b[0m\u001b[0;34m\u001b[0m\u001b[0;34m\u001b[0m\u001b[0m\n\u001b[0;32m--> 179\u001b[0;31m                 \u001b[0mfile\u001b[0m \u001b[0;34m=\u001b[0m \u001b[0murllib\u001b[0m\u001b[0;34m.\u001b[0m\u001b[0mrequest\u001b[0m\u001b[0;34m.\u001b[0m\u001b[0murlopen\u001b[0m\u001b[0;34m(\u001b[0m\u001b[0murl\u001b[0m\u001b[0;34m)\u001b[0m\u001b[0;34m\u001b[0m\u001b[0;34m\u001b[0m\u001b[0m\n\u001b[0m\u001b[1;32m    180\u001b[0m                 \u001b[0;32mfor\u001b[0m \u001b[0mline\u001b[0m \u001b[0;32min\u001b[0m \u001b[0mfile\u001b[0m\u001b[0;34m:\u001b[0m\u001b[0;34m\u001b[0m\u001b[0;34m\u001b[0m\u001b[0m\n\u001b[1;32m    181\u001b[0m                     \u001b[0mscript\u001b[0m \u001b[0;34m+=\u001b[0m \u001b[0mline\u001b[0m\u001b[0;34m.\u001b[0m\u001b[0mdecode\u001b[0m\u001b[0;34m(\u001b[0m\u001b[0;34m\"utf-8\"\u001b[0m\u001b[0;34m)\u001b[0m\u001b[0;34m\u001b[0m\u001b[0;34m\u001b[0m\u001b[0m\n",
            "\u001b[0;32m/usr/lib/python3.11/urllib/request.py\u001b[0m in \u001b[0;36murlopen\u001b[0;34m(url, data, timeout, cafile, capath, cadefault, context)\u001b[0m\n\u001b[1;32m    214\u001b[0m     \u001b[0;32melse\u001b[0m\u001b[0;34m:\u001b[0m\u001b[0;34m\u001b[0m\u001b[0;34m\u001b[0m\u001b[0m\n\u001b[1;32m    215\u001b[0m         \u001b[0mopener\u001b[0m \u001b[0;34m=\u001b[0m \u001b[0m_opener\u001b[0m\u001b[0;34m\u001b[0m\u001b[0;34m\u001b[0m\u001b[0m\n\u001b[0;32m--> 216\u001b[0;31m     \u001b[0;32mreturn\u001b[0m \u001b[0mopener\u001b[0m\u001b[0;34m.\u001b[0m\u001b[0mopen\u001b[0m\u001b[0;34m(\u001b[0m\u001b[0murl\u001b[0m\u001b[0;34m,\u001b[0m \u001b[0mdata\u001b[0m\u001b[0;34m,\u001b[0m \u001b[0mtimeout\u001b[0m\u001b[0;34m)\u001b[0m\u001b[0;34m\u001b[0m\u001b[0;34m\u001b[0m\u001b[0m\n\u001b[0m\u001b[1;32m    217\u001b[0m \u001b[0;34m\u001b[0m\u001b[0m\n\u001b[1;32m    218\u001b[0m \u001b[0;32mdef\u001b[0m \u001b[0minstall_opener\u001b[0m\u001b[0;34m(\u001b[0m\u001b[0mopener\u001b[0m\u001b[0;34m)\u001b[0m\u001b[0;34m:\u001b[0m\u001b[0;34m\u001b[0m\u001b[0;34m\u001b[0m\u001b[0m\n",
            "\u001b[0;32m/usr/lib/python3.11/urllib/request.py\u001b[0m in \u001b[0;36mopen\u001b[0;34m(self, fullurl, data, timeout)\u001b[0m\n\u001b[1;32m    523\u001b[0m         \u001b[0;32mfor\u001b[0m \u001b[0mprocessor\u001b[0m \u001b[0;32min\u001b[0m \u001b[0mself\u001b[0m\u001b[0;34m.\u001b[0m\u001b[0mprocess_response\u001b[0m\u001b[0;34m.\u001b[0m\u001b[0mget\u001b[0m\u001b[0;34m(\u001b[0m\u001b[0mprotocol\u001b[0m\u001b[0;34m,\u001b[0m \u001b[0;34m[\u001b[0m\u001b[0;34m]\u001b[0m\u001b[0;34m)\u001b[0m\u001b[0;34m:\u001b[0m\u001b[0;34m\u001b[0m\u001b[0;34m\u001b[0m\u001b[0m\n\u001b[1;32m    524\u001b[0m             \u001b[0mmeth\u001b[0m \u001b[0;34m=\u001b[0m \u001b[0mgetattr\u001b[0m\u001b[0;34m(\u001b[0m\u001b[0mprocessor\u001b[0m\u001b[0;34m,\u001b[0m \u001b[0mmeth_name\u001b[0m\u001b[0;34m)\u001b[0m\u001b[0;34m\u001b[0m\u001b[0;34m\u001b[0m\u001b[0m\n\u001b[0;32m--> 525\u001b[0;31m             \u001b[0mresponse\u001b[0m \u001b[0;34m=\u001b[0m \u001b[0mmeth\u001b[0m\u001b[0;34m(\u001b[0m\u001b[0mreq\u001b[0m\u001b[0;34m,\u001b[0m \u001b[0mresponse\u001b[0m\u001b[0;34m)\u001b[0m\u001b[0;34m\u001b[0m\u001b[0;34m\u001b[0m\u001b[0m\n\u001b[0m\u001b[1;32m    526\u001b[0m \u001b[0;34m\u001b[0m\u001b[0m\n\u001b[1;32m    527\u001b[0m         \u001b[0;32mreturn\u001b[0m \u001b[0mresponse\u001b[0m\u001b[0;34m\u001b[0m\u001b[0;34m\u001b[0m\u001b[0m\n",
            "\u001b[0;32m/usr/lib/python3.11/urllib/request.py\u001b[0m in \u001b[0;36mhttp_response\u001b[0;34m(self, request, response)\u001b[0m\n\u001b[1;32m    632\u001b[0m         \u001b[0;31m# request was successfully received, understood, and accepted.\u001b[0m\u001b[0;34m\u001b[0m\u001b[0;34m\u001b[0m\u001b[0m\n\u001b[1;32m    633\u001b[0m         \u001b[0;32mif\u001b[0m \u001b[0;32mnot\u001b[0m \u001b[0;34m(\u001b[0m\u001b[0;36m200\u001b[0m \u001b[0;34m<=\u001b[0m \u001b[0mcode\u001b[0m \u001b[0;34m<\u001b[0m \u001b[0;36m300\u001b[0m\u001b[0;34m)\u001b[0m\u001b[0;34m:\u001b[0m\u001b[0;34m\u001b[0m\u001b[0;34m\u001b[0m\u001b[0m\n\u001b[0;32m--> 634\u001b[0;31m             response = self.parent.error(\n\u001b[0m\u001b[1;32m    635\u001b[0m                 'http', request, response, code, msg, hdrs)\n\u001b[1;32m    636\u001b[0m \u001b[0;34m\u001b[0m\u001b[0m\n",
            "\u001b[0;32m/usr/lib/python3.11/urllib/request.py\u001b[0m in \u001b[0;36merror\u001b[0;34m(self, proto, *args)\u001b[0m\n\u001b[1;32m    561\u001b[0m         \u001b[0;32mif\u001b[0m \u001b[0mhttp_err\u001b[0m\u001b[0;34m:\u001b[0m\u001b[0;34m\u001b[0m\u001b[0;34m\u001b[0m\u001b[0m\n\u001b[1;32m    562\u001b[0m             \u001b[0margs\u001b[0m \u001b[0;34m=\u001b[0m \u001b[0;34m(\u001b[0m\u001b[0mdict\u001b[0m\u001b[0;34m,\u001b[0m \u001b[0;34m'default'\u001b[0m\u001b[0;34m,\u001b[0m \u001b[0;34m'http_error_default'\u001b[0m\u001b[0;34m)\u001b[0m \u001b[0;34m+\u001b[0m \u001b[0morig_args\u001b[0m\u001b[0;34m\u001b[0m\u001b[0;34m\u001b[0m\u001b[0m\n\u001b[0;32m--> 563\u001b[0;31m             \u001b[0;32mreturn\u001b[0m \u001b[0mself\u001b[0m\u001b[0;34m.\u001b[0m\u001b[0m_call_chain\u001b[0m\u001b[0;34m(\u001b[0m\u001b[0;34m*\u001b[0m\u001b[0margs\u001b[0m\u001b[0;34m)\u001b[0m\u001b[0;34m\u001b[0m\u001b[0;34m\u001b[0m\u001b[0m\n\u001b[0m\u001b[1;32m    564\u001b[0m \u001b[0;34m\u001b[0m\u001b[0m\n\u001b[1;32m    565\u001b[0m \u001b[0;31m# XXX probably also want an abstract factory that knows when it makes\u001b[0m\u001b[0;34m\u001b[0m\u001b[0;34m\u001b[0m\u001b[0m\n",
            "\u001b[0;32m/usr/lib/python3.11/urllib/request.py\u001b[0m in \u001b[0;36m_call_chain\u001b[0;34m(self, chain, kind, meth_name, *args)\u001b[0m\n\u001b[1;32m    494\u001b[0m         \u001b[0;32mfor\u001b[0m \u001b[0mhandler\u001b[0m \u001b[0;32min\u001b[0m \u001b[0mhandlers\u001b[0m\u001b[0;34m:\u001b[0m\u001b[0;34m\u001b[0m\u001b[0;34m\u001b[0m\u001b[0m\n\u001b[1;32m    495\u001b[0m             \u001b[0mfunc\u001b[0m \u001b[0;34m=\u001b[0m \u001b[0mgetattr\u001b[0m\u001b[0;34m(\u001b[0m\u001b[0mhandler\u001b[0m\u001b[0;34m,\u001b[0m \u001b[0mmeth_name\u001b[0m\u001b[0;34m)\u001b[0m\u001b[0;34m\u001b[0m\u001b[0;34m\u001b[0m\u001b[0m\n\u001b[0;32m--> 496\u001b[0;31m             \u001b[0mresult\u001b[0m \u001b[0;34m=\u001b[0m \u001b[0mfunc\u001b[0m\u001b[0;34m(\u001b[0m\u001b[0;34m*\u001b[0m\u001b[0margs\u001b[0m\u001b[0;34m)\u001b[0m\u001b[0;34m\u001b[0m\u001b[0;34m\u001b[0m\u001b[0m\n\u001b[0m\u001b[1;32m    497\u001b[0m             \u001b[0;32mif\u001b[0m \u001b[0mresult\u001b[0m \u001b[0;32mis\u001b[0m \u001b[0;32mnot\u001b[0m \u001b[0;32mNone\u001b[0m\u001b[0;34m:\u001b[0m\u001b[0;34m\u001b[0m\u001b[0;34m\u001b[0m\u001b[0m\n\u001b[1;32m    498\u001b[0m                 \u001b[0;32mreturn\u001b[0m \u001b[0mresult\u001b[0m\u001b[0;34m\u001b[0m\u001b[0;34m\u001b[0m\u001b[0m\n",
            "\u001b[0;32m/usr/lib/python3.11/urllib/request.py\u001b[0m in \u001b[0;36mhttp_error_default\u001b[0;34m(self, req, fp, code, msg, hdrs)\u001b[0m\n\u001b[1;32m    641\u001b[0m \u001b[0;32mclass\u001b[0m \u001b[0mHTTPDefaultErrorHandler\u001b[0m\u001b[0;34m(\u001b[0m\u001b[0mBaseHandler\u001b[0m\u001b[0;34m)\u001b[0m\u001b[0;34m:\u001b[0m\u001b[0;34m\u001b[0m\u001b[0;34m\u001b[0m\u001b[0m\n\u001b[1;32m    642\u001b[0m     \u001b[0;32mdef\u001b[0m \u001b[0mhttp_error_default\u001b[0m\u001b[0;34m(\u001b[0m\u001b[0mself\u001b[0m\u001b[0;34m,\u001b[0m \u001b[0mreq\u001b[0m\u001b[0;34m,\u001b[0m \u001b[0mfp\u001b[0m\u001b[0;34m,\u001b[0m \u001b[0mcode\u001b[0m\u001b[0;34m,\u001b[0m \u001b[0mmsg\u001b[0m\u001b[0;34m,\u001b[0m \u001b[0mhdrs\u001b[0m\u001b[0;34m)\u001b[0m\u001b[0;34m:\u001b[0m\u001b[0;34m\u001b[0m\u001b[0;34m\u001b[0m\u001b[0m\n\u001b[0;32m--> 643\u001b[0;31m         \u001b[0;32mraise\u001b[0m \u001b[0mHTTPError\u001b[0m\u001b[0;34m(\u001b[0m\u001b[0mreq\u001b[0m\u001b[0;34m.\u001b[0m\u001b[0mfull_url\u001b[0m\u001b[0;34m,\u001b[0m \u001b[0mcode\u001b[0m\u001b[0;34m,\u001b[0m \u001b[0mmsg\u001b[0m\u001b[0;34m,\u001b[0m \u001b[0mhdrs\u001b[0m\u001b[0;34m,\u001b[0m \u001b[0mfp\u001b[0m\u001b[0;34m)\u001b[0m\u001b[0;34m\u001b[0m\u001b[0;34m\u001b[0m\u001b[0m\n\u001b[0m\u001b[1;32m    644\u001b[0m \u001b[0;34m\u001b[0m\u001b[0m\n\u001b[1;32m    645\u001b[0m \u001b[0;32mclass\u001b[0m \u001b[0mHTTPRedirectHandler\u001b[0m\u001b[0;34m(\u001b[0m\u001b[0mBaseHandler\u001b[0m\u001b[0;34m)\u001b[0m\u001b[0;34m:\u001b[0m\u001b[0;34m\u001b[0m\u001b[0;34m\u001b[0m\u001b[0m\n",
            "\u001b[0;31mHTTPError\u001b[0m: HTTP Error 404: Not Found"
          ]
        }
      ],
      "source": [
        "display_quiz(git_path+\"systemer.json\")"
      ]
    },
    {
      "cell_type": "markdown",
      "id": "67a390c1-64e4-4334-8797-547f67c1cbb3",
      "metadata": {
        "id": "67a390c1-64e4-4334-8797-547f67c1cbb3"
      },
      "source": [
        "## Eulers metode"
      ]
    },
    {
      "cell_type": "markdown",
      "id": "0464499a-2491-4d0c-beb5-b0a2b776768f",
      "metadata": {
        "jp-MarkdownHeadingCollapsed": true,
        "id": "0464499a-2491-4d0c-beb5-b0a2b776768f"
      },
      "source": [
        "Hvis $t_0$ er gitt og vi numerisk vil løse differensialligningen\n",
        "$$\n",
        "\\begin{align}\n",
        "  x'(t) &= f(t,x(t), y(t)), \\newline\n",
        "  y'(t) &= g(t,x(t), y(y))\n",
        "\\end{align}\n",
        "$$\n",
        "med\n",
        "$$x(t_0) = x_0 \\quad \\text{og} \\quad y(t_0) = y_0,$$\n",
        "da kan vi velge en skrittlengde $\\Delta t$, og approksimere $x(\\Delta t)$ og $y(\\Delta t)$ med\n",
        "$$\n",
        "\\begin{align}\n",
        "  x(\\Delta t) &\\approx x_0 + f(t_0, x_0, y_0) \\cdot \\Delta t \\newline\n",
        "  y(\\Delta t) &\\approx y_0 + g(t_0, x_0, y_0) \\cdot \\Delta t.\n",
        "\\end{align}\n",
        "$$\n",
        "Vi setter nå\n",
        "$$\n",
        "\\begin{align}\n",
        "  x_1 &= x_0 + f(t_0, x_0, y_0) \\cdot \\Delta t \\newline\n",
        "  y_1 &= y_0 + g(t_0, x_0, y_0) \\cdot \\Delta t,\n",
        "\\end{align}\n",
        "$$\n",
        "og $t_1 = t_0 + \\Delta t$.\n",
        "Vi fortsetter på denne måten. Etter å ha funnet $x_0, x_1, \\dots, x_n$ og\n",
        "$y_0, y_1, \\dots, y_n$ setter vi\n",
        "$$\n",
        "\\begin{align}\n",
        "  x_{n+1} &= x_n + f(t_n, x_n, y_n) \\cdot \\Delta t \\newline\n",
        "  y_{n+1} &= y_n + g(t_n, x_n, y_n) \\cdot \\Delta t,\n",
        "\\end{align}\n",
        "$$\n",
        "der $t_n = t_0 + n \\Delta t$."
      ]
    },
    {
      "cell_type": "markdown",
      "id": "846bc799-d892-4f92-9816-2fc99b9b4681",
      "metadata": {
        "id": "846bc799-d892-4f92-9816-2fc99b9b4681"
      },
      "source": [
        "## Eksempel"
      ]
    },
    {
      "cell_type": "markdown",
      "id": "ff995758-354b-475f-8d26-3eb8afe0181d",
      "metadata": {
        "id": "ff995758-354b-475f-8d26-3eb8afe0181d"
      },
      "source": [
        "Vi ser på\n",
        "$$\n",
        "\\begin{align}\n",
        "  x'(t) &= 2tx(t) + y(t), \\newline\n",
        "  y'(t) &= x(t)^{-2} + e^{-t}\n",
        "\\end{align}\n",
        "$$\n",
        "med initialbetingelsene $x(0) = 0.2$ og $y(0) = 1$."
      ]
    },
    {
      "cell_type": "markdown",
      "id": "cf0d9827-f0c0-4a37-b0e6-d293b42b77bf",
      "metadata": {
        "id": "cf0d9827-f0c0-4a37-b0e6-d293b42b77bf"
      },
      "source": [
        "## Funksjon som anvender Eulers metode på et system av differensialligninger"
      ]
    },
    {
      "cell_type": "markdown",
      "id": "9059c5b3-4de7-4e3e-8ef5-9b2b34abf1a7",
      "metadata": {
        "id": "9059c5b3-4de7-4e3e-8ef5-9b2b34abf1a7"
      },
      "source": [
        "Vi utvider vår implementering av Eulers metode fra før til å en funksjon som kan løse par av differensialligninger."
      ]
    },
    {
      "cell_type": "code",
      "execution_count": null,
      "id": "ab29ea3e-6dc4-496a-b25b-22f6df711934",
      "metadata": {
        "id": "ab29ea3e-6dc4-496a-b25b-22f6df711934"
      },
      "outputs": [],
      "source": [
        "import numpy as np\n",
        "\n",
        "def euler_method(f, g, t0, tn, x0, y0, n):\n",
        "  \"\"\"\n",
        "  Anvender Eulers metode for å løse differensialligningen x' = f(t, x, y) og y' = g(t, x, y).\n",
        "\n",
        "  Args:\n",
        "    f: Funksjonen som representerer x-delen av høyre side av differensialligningen.\n",
        "    g: Funksjonen som representerer y-delen av høyre side av differensialligningen.\n",
        "    t0: Startverdien for t.\n",
        "    tn: Sluttverdien for t.\n",
        "    x0: Startverdien for x.\n",
        "    y0: Startverdien for y.\n",
        "    n: Antall steg.\n",
        "\n",
        "  Returns:\n",
        "    En NumPy array som inneholder de approksimerte verdiene for x i hvert steg,\n",
        "    En NumPy array som inneholder de approksimerte verdiene for y i hvert steg,\n",
        "  \"\"\"\n",
        "\n",
        "  # Lager en array med t-verdier fra t0 til tn med n+1 punkter\n",
        "  t_values = np.linspace(t0, tn, n + 1)\n",
        "  # Initialiserer listene for x- og y-verdiene med startverdiene\n",
        "  x_values = [x0]\n",
        "  y_values = [y0]\n",
        "  # Beregner steglengden\n",
        "  delta_t = t_values[1] - t_values[0]\n",
        "\n",
        "  # Gjennomfører Eulers metode for hvert steg\n",
        "  for i in range(n):\n",
        "    # Beregner neste x-verdi\n",
        "    x_next = x_values[-1] + delta_t * f(t_values[i], x_values[-1], y_values[-1])\n",
        "    # Beregner neste y-verdi\n",
        "    y_next = y_values[-1] + delta_t * g(t_values[i], x_values[-1], y_values[-1])\n",
        "    # Legger til de nye verdiene i listene\n",
        "    x_values.append(x_next)\n",
        "    y_values.append(y_next)\n",
        "\n",
        "  # Returnerer t-verdiene og de beregnede x- og y-verdiene som NumPy arrays\n",
        "  return t_values, np.array(x_values), np.array(y_values)"
      ]
    },
    {
      "cell_type": "markdown",
      "id": "e1d879a9-42ce-4758-8052-8f8256e0992b",
      "metadata": {
        "id": "e1d879a9-42ce-4758-8052-8f8256e0992b"
      },
      "source": [
        "### Vi anvender den nye Eulers metode funksjonen på vårt eksempel"
      ]
    },
    {
      "cell_type": "code",
      "execution_count": null,
      "id": "0226654e-4001-4782-98a2-f47b0a5b58b4",
      "metadata": {
        "id": "0226654e-4001-4782-98a2-f47b0a5b58b4"
      },
      "outputs": [],
      "source": [
        "# Definterer funksjonene f og g\n",
        "\n",
        "def f(t, x, y):\n",
        "  return 2*t*x + y\n",
        "\n",
        "def g(t, x, y):\n",
        "  return x**(-2) + np.exp(-t)"
      ]
    },
    {
      "cell_type": "code",
      "execution_count": null,
      "id": "e78d74ec-9e7c-4ac6-9f84-0a112ae43021",
      "metadata": {
        "id": "e78d74ec-9e7c-4ac6-9f84-0a112ae43021"
      },
      "outputs": [],
      "source": [
        "# Definerer initialbetingelser og parametere\n",
        "t0 = 0   # Starttidspunkt\n",
        "x0 = 0.2  # Startverdi for x\n",
        "y0 = 1   # Startverdi for y\n",
        "tn = 1   # Slutt-tidspunkt\n",
        "n = 10000  # Antall steg i beregningen\n",
        "\n",
        "# Bruker Eulers metode for å løse differensialligningen\n",
        "t_values, x_values, y_values = euler_method(f, g, t0, tn, x0, y0, n)"
      ]
    },
    {
      "cell_type": "code",
      "execution_count": null,
      "id": "4cd4da5a-b229-422b-bb55-281b2cb30bb4",
      "metadata": {
        "id": "4cd4da5a-b229-422b-bb55-281b2cb30bb4"
      },
      "outputs": [],
      "source": [
        "# Plotter x og y\n",
        "plt.plot(t_values, x_values, label='x')\n",
        "plt.plot(t_values, y_values, label='y')\n",
        "plt.legend()"
      ]
    },
    {
      "cell_type": "markdown",
      "id": "fe47b193-32aa-463d-ba9b-8cdf54263a4e",
      "metadata": {
        "id": "fe47b193-32aa-463d-ba9b-8cdf54263a4e"
      },
      "source": [
        "## Oppgave"
      ]
    },
    {
      "cell_type": "markdown",
      "id": "ea3c09e2-280e-4c04-8921-b737b395bd91",
      "metadata": {
        "id": "ea3c09e2-280e-4c04-8921-b737b395bd91"
      },
      "source": [
        "**Bruk koden over til å plotte løsninger for differensialligningen\n",
        "$$\n",
        "\\begin{align}\n",
        "  x'(t) &= y(t), \\newline\n",
        "  y'(t) &= -x(t) + y(t)\n",
        "\\end{align}\n",
        "$$\n",
        "med $x(0) = 1$ og $y(0) = 2$ for $t$-verdier i intervallet $[0, 10]$**"
      ]
    },
    {
      "cell_type": "markdown",
      "id": "8f01bbb6-a525-48dc-b0bc-4256f9d81b95",
      "metadata": {
        "id": "8f01bbb6-a525-48dc-b0bc-4256f9d81b95"
      },
      "source": [
        "## [Tømming av sammenkoblede vanntanker](https://www.math.ttu.edu/~klong/ODESystems.pdf)"
      ]
    },
    {
      "cell_type": "markdown",
      "id": "a2d146ce-4ed8-48d1-bca3-16416420e79b",
      "metadata": {
        "id": "a2d146ce-4ed8-48d1-bca3-16416420e79b"
      },
      "source": [
        "Vi ser på to vanntanker (åpne for luft på toppen) som er koblet sammen nær bunnen via et rør. I tillegg har hver tank også et dreneringsrør.\n",
        "Vann strømmer mellom tankene samt ut gjennom avløpene. En skjematisk tegning av oppsettet er vist på figuren under.\n",
        "\n",
        "![koblede kar](https://github.com/mbr085/V25MAT102/blob/main/notebooks/uke6/koblede_kar.png?raw=1)\n",
        "[Av Katharine Long](https://www.math.ttu.edu/~klong/)\n",
        "\n",
        "Hydrostatikk forteller oss at trykket på bunnen av en vannsøyle med høyde $h$ er $p = \\rho gh$, der $\\rho$ er vanntettheten og $g$ er gravitasjonsakselerasjonen. Du har kanskje sett Hagen-Poiseuille-loven for laminær strømning gjennom et sylindrisk rør: Den volumetriske strømningstakten $Q$ (volum væske per tidsenhet) bestemmes av trykkforskjellen $\\Delta p$ mellom rørenes ender, rørenes geometri, og væskens viskositet:\n",
        "\n",
        "$$\n",
        "Q = \\frac{\\pi a^4 \\Delta p}{8 \\mu L}\n",
        "$$\n",
        "\n",
        "hvor a er rørradius, L er rørlengde og μ er den dynamiske viskositeten til væsken. Deretter er strømningstakten fra tank 1 til tank 2:\n",
        "\n",
        "$$\n",
        "Q_{12} = \\frac{\\pi a^4 \\rho g}{8 \\mu L} (h_1 - h_2)\n",
        "$$\n",
        "\n",
        "Strømningstaktene i avløpsrørene er:\n",
        "$$\n",
        "Q_{10} = \\frac{\\pi a^4 \\rho g}{8 \\mu L} h_1\n",
        "$$\n",
        "\n",
        "og\n",
        "\n",
        "$$\n",
        "Q_{20} = \\frac{\\pi a^4 \\rho g}{8 \\mu L} h_2\n",
        "$$\n",
        "\n",
        "Volumet av vann i tank 1 endres med takten:\n",
        "\n",
        "$$\n",
        "\\frac{dV_1}{dt} = -Q_{12} - Q_{10}\n",
        "$$\n",
        "\n",
        "og i tank 2 endres volumet med takten:\n",
        "$$\n",
        "\\frac{dV_2}{dt} = Q_{12} - Q_{20}\n",
        "$$\n",
        "\n",
        "Ved å merke oss at vannvolumet $V_i$ er søylehøyden $h_i$ ganget med arealet $A$ av tankens horisontale tverrsnitt, finner vi:\n",
        "\n",
        "$$\n",
        "\\frac{dh_1}{dt} = \\frac{\\pi a^4 \\rho g}{8 \\mu L A} (-2 h_1 + h_2)\n",
        "$$\n",
        "\n",
        "og\n",
        "\n",
        "$$\n",
        "\\frac{dh_2}{dt} = \\frac{\\pi a^4 \\rho g}{8 \\mu L A} (h_1 - 2 h_2)\n",
        "$$\n",
        "\n",
        "Størrelsen $ \\frac{1}{\\tau} \\equiv \\frac{\\pi a^4 \\rho g}{8 \\mu L A} $ har dimensjonen tid$^{-1}$. Ved å gjøre transformasjonen til en dimensjonsløs tidsvariabel $\\hat{t} = \\frac{t}{\\tau} $, $d\\hat{t} = \\tau^{-1} dt$, og deretter ignorere “hattene” på $\\hat{t}$, får vi likningene:\n",
        "\n",
        "$$\n",
        "h_1' = -2h_1 + h_2\n",
        "$$\n",
        "\n",
        "og\n",
        "\n",
        "$$\n",
        "h_2' = h_1 - 2h_2\n",
        "$$"
      ]
    },
    {
      "cell_type": "markdown",
      "id": "166eb176-3eb8-4a70-870f-e870f41755bc",
      "metadata": {
        "id": "166eb176-3eb8-4a70-870f-e870f41755bc"
      },
      "source": [
        "## Reformulering"
      ]
    },
    {
      "cell_type": "markdown",
      "id": "90971d6c-d866-47b9-8aef-4ce0710e0881",
      "metadata": {
        "id": "90971d6c-d866-47b9-8aef-4ce0710e0881"
      },
      "source": [
        "La oss skrive $x_0 = h_1(t_0)$ for høyden i den første tanken til tiden $t_0$ og\n",
        "$y_0 = h_2(t_0)$ for høyden i den andre tanken til tiden $t_0$.\n",
        "\n",
        "Skriver vi videre $x(t) = h_1(t)$ og $y(t) = h_2(t)$ er vi kommet frem til systemet\n",
        "$$x'(t) = -2x(t) + y(t) = f(x, x(t), y(t)), \\quad \\text{med} \\quad x(t_0) = x_0$$\n",
        "og\n",
        "$$y'(t) = x(t) - 2y(t) = g(x, x(t), y(t)), \\quad \\text{med} \\quad y(t_0) = y_0$$\n",
        "Dette systemet kan vi også løse med Eulers metode. Vi vil senere også finne eksakte løsninger for dette systemet."
      ]
    },
    {
      "cell_type": "code",
      "execution_count": null,
      "id": "0856de80-fe09-40e6-8d4c-c5cf1404e765",
      "metadata": {
        "id": "0856de80-fe09-40e6-8d4c-c5cf1404e765"
      },
      "outputs": [],
      "source": [
        "# Definerer funksjonene f og g\n",
        "\n",
        "def f(t, x, y):\n",
        "  return -2*x + y\n",
        "\n",
        "def g(t, x, y):\n",
        "  return x - 2*y"
      ]
    },
    {
      "cell_type": "code",
      "execution_count": null,
      "id": "29c687c5-877e-42b3-ad55-d587b266b826",
      "metadata": {
        "id": "29c687c5-877e-42b3-ad55-d587b266b826"
      },
      "outputs": [],
      "source": [
        "# Setter initialbetingelser og parametere\n",
        "t0 = 0   # Startverdi for t (tid)\n",
        "x0 = 1.6  # Startverdi for x\n",
        "y0 = 0.3  # Startverdi for y\n",
        "tn = 5   # Sluttverdi for t (tid)\n",
        "n = 1000  # Antall steg i beregningen\n",
        "\n",
        "# Bruker Eulers metode for å løse differensialligningen\n",
        "t_values, x_values, y_values = euler_method(f, g, t0, tn, x0, y0, n)"
      ]
    },
    {
      "cell_type": "code",
      "execution_count": null,
      "id": "89fe2529-4ca8-4f26-8f76-c7d1ed8f8bdd",
      "metadata": {
        "id": "89fe2529-4ca8-4f26-8f76-c7d1ed8f8bdd"
      },
      "outputs": [],
      "source": [
        "plt.plot(t_values, x_values, label='x')\n",
        "plt.plot(t_values, y_values, label='y')\n",
        "plt.legend()"
      ]
    },
    {
      "cell_type": "markdown",
      "id": "cecccc89-dcc5-4584-971c-85788a13e630",
      "metadata": {
        "id": "cecccc89-dcc5-4584-971c-85788a13e630"
      },
      "source": [
        "## Eksempel (Svingninger)"
      ]
    },
    {
      "cell_type": "markdown",
      "id": "56f6d249-7ff1-456b-a742-5fc7f27043c9",
      "metadata": {
        "id": "56f6d249-7ff1-456b-a742-5fc7f27043c9"
      },
      "source": [
        "La oss ta for oss eksempel 9.9.3 i læreboken MIP. Vi ser for oss et lodd med masse $M$, som henger i en fjær med stivhet $k$. Vi antar at loddet blir trukket nedover og så blir sluppet. Formelen som beskriver hvordan loddets posisjon, $x$, varierer med tiden, $t$, kan beskrives av funksjonen:\n",
        "\n",
        "$$\n",
        "M x'' + \\alpha x' + kx = 0,\n",
        "$$\n",
        "\n",
        "hvor $\\alpha$ representerer luftmotstanden. Ved teorem 9.9.1 i læreboken kan vi finne en analytisk løsning til denne differensiallikningen. Skal vi derimot løse likningen numerisk ved hjelp av Eulers metode, kan vi innføre $y = x'$, og skrive differensiallikningen som et system:\n",
        "\n",
        "$$\n",
        "x' = y\n",
        "$$\n",
        "\n",
        "$$\n",
        "y' = -\\frac{\\alpha}{M} y - \\frac{k}{M} x\n",
        "$$"
      ]
    },
    {
      "cell_type": "markdown",
      "id": "db97b28f-c63d-4a2b-a85d-5e6735e393ab",
      "metadata": {
        "id": "db97b28f-c63d-4a2b-a85d-5e6735e393ab"
      },
      "source": [
        "### Oppgave\n",
        "\n",
        "**Vis mellomregningene som trenges til personen ved siden av deg. Hva er $f(t, x, y)$ og $g(t, x, y)$ her?**"
      ]
    },
    {
      "cell_type": "markdown",
      "id": "81659e90-198d-40c7-8f0a-75022b15cf99",
      "metadata": {
        "id": "81659e90-198d-40c7-8f0a-75022b15cf99"
      },
      "source": [
        "Vi tar nå utgangspunkt i at $M = 1$, $\\alpha = 2$ og $k = 1$. I tillegg har vi initialbetingelsene $x(0) = 1$ og $x'(0) = 0$. Vi bruker koden vår til å løse dette problemet."
      ]
    },
    {
      "cell_type": "code",
      "execution_count": null,
      "id": "1c196da7-a2f5-4e9d-b3ca-f6ae893b39b6",
      "metadata": {
        "id": "1c196da7-a2f5-4e9d-b3ca-f6ae893b39b6"
      },
      "outputs": [],
      "source": [
        "# Innfører M, alpha og k\n",
        "M = 1\n",
        "alpha = -0.1\n",
        "k = 1\n",
        "\n",
        "# Definerer funksjonene f og g\n",
        "\n",
        "def f(t, x, y):\n",
        "  return y\n",
        "\n",
        "def g(t, x, y):\n",
        "  return -(alpha* y + k * x) / M"
      ]
    },
    {
      "cell_type": "code",
      "execution_count": null,
      "id": "4e048bc4-b019-42bd-92c9-d846a5541622",
      "metadata": {
        "id": "4e048bc4-b019-42bd-92c9-d846a5541622"
      },
      "outputs": [],
      "source": [
        "# Seter initialverdier og parametre.\n",
        "# Prøv å se hva som skjer når de forandres\n",
        "t0 = 0   # Første t-verdi\n",
        "x0 = 1  # Iinital x-verdi\n",
        "y0 = 0\n",
        "tn = 20  # Siste t-verdi\n",
        "n = 10000   # Antall steg\n",
        "\n",
        "# Anvend Eulers metode\n",
        "t_values, x_values, y_values = euler_method(f, g, t0, tn, x0, y0, n)"
      ]
    },
    {
      "cell_type": "code",
      "execution_count": null,
      "id": "58940949-f3b6-43e9-8c40-6a04bcb0c302",
      "metadata": {
        "id": "58940949-f3b6-43e9-8c40-6a04bcb0c302"
      },
      "outputs": [],
      "source": [
        "plt.plot(t_values, x_values, label='x')\n",
        "plt.plot(t_values, y_values, label='y')\n",
        "plt.legend()"
      ]
    },
    {
      "cell_type": "markdown",
      "id": "7c338425-5f0a-4b98-8536-29fee8877fb9",
      "metadata": {
        "id": "7c338425-5f0a-4b98-8536-29fee8877fb9"
      },
      "source": [
        "## Analytisk løsning"
      ]
    },
    {
      "cell_type": "markdown",
      "id": "3f098bc2-771a-4d15-909a-054c744f8515",
      "metadata": {
        "id": "3f098bc2-771a-4d15-909a-054c744f8515"
      },
      "source": [
        "Vi kan løse denne differensialligning analytisk. Koden er lagt i en egen fil for ikke å gjøre denne notisboken for lang. Under importerer vi den."
      ]
    },
    {
      "cell_type": "code",
      "execution_count": null,
      "id": "a7c0aeaf-8def-47f9-99a6-c9940c16bf8b",
      "metadata": {
        "id": "a7c0aeaf-8def-47f9-99a6-c9940c16bf8b"
      },
      "outputs": [],
      "source": [
        "from analytisk_harmonisk_svingning import analytisk_svingning"
      ]
    },
    {
      "cell_type": "code",
      "execution_count": null,
      "id": "51b06831-ffe9-453d-8105-78042d35e425",
      "metadata": {
        "id": "51b06831-ffe9-453d-8105-78042d35e425"
      },
      "outputs": [],
      "source": [
        "help(analytisk_svingning)"
      ]
    },
    {
      "cell_type": "code",
      "execution_count": null,
      "id": "0b7b8994-5d7f-4abb-964f-ec0b1a0f486b",
      "metadata": {
        "id": "0b7b8994-5d7f-4abb-964f-ec0b1a0f486b"
      },
      "outputs": [],
      "source": [
        "# Vi gjør antall steg, n, mindre for å få en forskjell mellom numerisk og eksakt løsning.\n",
        "# Prov å se hva som skjer med større og mindre verdier for n\n",
        "\n",
        "n = 1000   # Antall steg\n",
        "\n",
        "# Anvend Eulers metode\n",
        "t_values, x_values, y_values = euler_method(f, g, t0, tn, x0, y0, n)"
      ]
    },
    {
      "cell_type": "code",
      "execution_count": null,
      "id": "8f707881-6360-44b1-8d8f-f070ecf400c7",
      "metadata": {
        "id": "8f707881-6360-44b1-8d8f-f070ecf400c7"
      },
      "outputs": [],
      "source": [
        "x, y = analytisk_svingning(M, alpha, k, t0, x0, y0)"
      ]
    },
    {
      "cell_type": "code",
      "execution_count": null,
      "id": "cf5dc695-8b68-4183-a906-1600a361be00",
      "metadata": {
        "id": "cf5dc695-8b68-4183-a906-1600a361be00"
      },
      "outputs": [],
      "source": [
        "t_analytisk = np.linspace(t0, tn, 200)\n",
        "x_analytisk = x(t_analytisk)\n",
        "y_analytisk = y(t_analytisk)\n"
      ]
    },
    {
      "cell_type": "code",
      "execution_count": null,
      "id": "b250c2e8-bd2c-4302-98d0-604c75a9452a",
      "metadata": {
        "id": "b250c2e8-bd2c-4302-98d0-604c75a9452a"
      },
      "outputs": [],
      "source": [
        "plt.plot(t_values, x_values, label='x')\n",
        "plt.plot(t_values, y_values, label='y')\n",
        "plt.plot(t_analytisk, x_analytisk, label='x analytisk')\n",
        "plt.plot(t_analytisk, y_analytisk, label='y analytisk')\n",
        "plt.legend()"
      ]
    },
    {
      "cell_type": "markdown",
      "id": "61652468-73df-49ac-9cc9-ea1836b2a0a4",
      "metadata": {
        "id": "61652468-73df-49ac-9cc9-ea1836b2a0a4"
      },
      "source": [
        "## Løsning av differensialligninger med scipy"
      ]
    },
    {
      "cell_type": "markdown",
      "id": "f20bf5ea-b831-4e01-827c-39293dc74040",
      "metadata": {
        "id": "f20bf5ea-b831-4e01-827c-39293dc74040"
      },
      "source": [
        "Det finnes innebyggede funksjoner i python for å løse differensialligninger. De\n",
        "bruker metoder som er mere effektive enn Eulers metode. I utgangspunktet bruker de\n",
        "fjerdeordens Runge Kutta metoden som er beskrevet i kompendiet til MAT 102,\n",
        "men det er mulig å få dem til å benytte andre metoder. Hva som er best metode avhenger\n",
        "av hvilken differensialligning vi vil løse."
      ]
    },
    {
      "cell_type": "code",
      "execution_count": null,
      "id": "98172f6c-5405-4d80-8248-beab5660774a",
      "metadata": {
        "id": "98172f6c-5405-4d80-8248-beab5660774a"
      },
      "outputs": [],
      "source": [
        "from scipy.integrate import solve_ivp"
      ]
    },
    {
      "cell_type": "code",
      "execution_count": null,
      "id": "7c5211ae-b498-4165-8fce-fcacd95cb622",
      "metadata": {
        "id": "7c5211ae-b498-4165-8fce-fcacd95cb622"
      },
      "outputs": [],
      "source": [
        "# vi kan bruke funksjonene fra før, men det er ikke den beste måten å bruke de innebyggede funksjonene på\n",
        "def sving(t, z):\n",
        "    x, y = z\n",
        "    return [f(t, x, y), g(t, x, y)]"
      ]
    },
    {
      "cell_type": "code",
      "execution_count": null,
      "id": "52c2e8bd-2d64-446b-a26d-972d015a6356",
      "metadata": {
        "id": "52c2e8bd-2d64-446b-a26d-972d015a6356"
      },
      "outputs": [],
      "source": [
        "sol = solve_ivp(sving, [0, 20], [1, 0], dense_output=True)\n",
        "t = np.linspace(0, 20, 300)\n",
        "z = sol.sol(t)\n",
        "\n",
        "plt.plot(t, z.T)\n",
        "plt.xlabel('t')\n",
        "plt.legend(['x', 'y'], shadow=True)\n",
        "plt.title('Svingning')\n",
        "plt.show()"
      ]
    },
    {
      "cell_type": "code",
      "execution_count": null,
      "id": "c7e43d05-a04c-419e-a7f2-264012664595",
      "metadata": {
        "id": "c7e43d05-a04c-419e-a7f2-264012664595"
      },
      "outputs": [],
      "source": [
        "# Denne funksjonen passer bedre med brukergrensesnittet til solve_ivp\n",
        "def svingning(t, z, M, alpha):\n",
        "    x, y = z\n",
        "    return [y, -(alpha* y + k * x) / M]"
      ]
    },
    {
      "cell_type": "code",
      "execution_count": null,
      "id": "4205e404-8aee-4df5-b25b-ebe20146b3a2",
      "metadata": {
        "id": "4205e404-8aee-4df5-b25b-ebe20146b3a2"
      },
      "outputs": [],
      "source": [
        "sol = solve_ivp(svingning, [0, 20], [1, 0], args=(1, -0.1), dense_output=True)"
      ]
    },
    {
      "cell_type": "code",
      "execution_count": null,
      "id": "307b0282-32ea-4ed2-9598-ec0a18d7f012",
      "metadata": {
        "id": "307b0282-32ea-4ed2-9598-ec0a18d7f012"
      },
      "outputs": [],
      "source": [
        "t = np.linspace(0, 20, 300)\n",
        "z = sol.sol(t)\n",
        "\n",
        "plt.plot(t, z.T)\n",
        "plt.xlabel('t')\n",
        "plt.legend(['x', 'y'], shadow=True)\n",
        "plt.title('Svingning')\n",
        "plt.show()"
      ]
    },
    {
      "cell_type": "markdown",
      "id": "a744b2a0-7fa4-4bf6-a659-b8d13475c7d9",
      "metadata": {
        "id": "a744b2a0-7fa4-4bf6-a659-b8d13475c7d9"
      },
      "source": [
        "## Lotka-Volterra-modellen for oscillerende kjemiske reaksjoner"
      ]
    },
    {
      "cell_type": "markdown",
      "id": "5edfdac7-ad1b-4ed0-9fec-e654a0e1635b",
      "metadata": {
        "id": "5edfdac7-ad1b-4ed0-9fec-e654a0e1635b"
      },
      "source": [
        "Dette er den tidligste foreslåtte forklaringen på hvorfor en reaksjon kan oscillerere. I 1920 foreslo Lotka følgende reaksjonsmekanisme (med tilhørende hastighetsligninger). Hvert reaksjonstrinn refererer til den **molekylære** mekanismen der reaktantmolekylene kombineres for å produsere mellomprodukter eller sluttprodukter. For eksempel kombinerer i trinn 1 et molekyl av art A seg med et molekyl av art X for å danne to molekyler av art X. Dette trinnet reduserer antallet molekyler av A (og øker antallet av X) med en hastighet som er proporsjonal med produktet av konsentrasjonene av A og X. Bidrag fra de molekylære reaksjonstrinnene til de differensielle hastighetslovene:  \n",
        "\n",
        "1. $ A + X \\rightarrow 2X $, med reaksjonshastighet $ k_1 $  \n",
        "2. $ X + Y \\rightarrow 2Y $, med reaksjonshastighet $ k_2 $  \n",
        "3. $ Y \\rightarrow B $, med reaksjonshastighet $ k_3 $  \n",
        "\n",
        "De effektive hastighetslovene for reaktanten A, produktet B, og mellomproduktene X og Y finnes ved å summere bidragene fra hvert trinn:  \n",
        "\n",
        "$$\n",
        "\\frac{d[A]}{dt} = -k_1 [A][X]\n",
        "$$  \n",
        "$$\n",
        "\\frac{d[X]}{dt} = k_1 [A][X] - k_2 [X][Y]\n",
        "$$  \n",
        "$$\n",
        "\\frac{d[Y]}{dt} = k_2 [X][Y] - k_3 [Y]\n",
        "$$  \n",
        "$$\n",
        "\\frac{d[B]}{dt} = k_3 [Y]\n",
        "$$  \n",
        "\n",
        "**Instruksjoner:**  \n",
        "Anta at konsentrasjonen av reaktanten A faktisk holdes konstant (den tilføres systemet med en hastighet som tilsvarer fjerningen ved reaksjonen). Merk også at  \n",
        "\n",
        "$$\n",
        "\\frac{d(A+X+Y+B)}{dt} = 0\n",
        "$$  \n",
        "\n",
        "Dette betyr at summen $ A + X + Y + B $ alltid er konstant. Spesielt gjelder at $ A + B + X + Y = A_0 + X_0 + Y_0 $, forutsatt at det ikke er noe produkt B til stede i starten. Dette forteller oss at vi ikke trenger å løse ODE-en for $ B $, fordi $ B = X_0 - X + Y_0 - Y $ hvis vi kjenner $ X(t) $ og $ Y(t) $. Dermed kan systemet reduseres til to ODE-er for $ X $ og $ Y $ alene. Skriv opp systemet av differensialligninger i $X$ og $Y$ og løs for disse to med randbetingelsene $A = 1$, $X_0 = 1$, $Y_0 = 1$, $k_1 = 0.3$, $k_2 = 0.2$ og $k_3 = 0.3$."
      ]
    },
    {
      "cell_type": "code",
      "execution_count": null,
      "id": "416a0b25-363f-420c-b1fb-f8e58a36ff7e",
      "metadata": {
        "id": "416a0b25-363f-420c-b1fb-f8e58a36ff7e"
      },
      "outputs": [],
      "source": [
        "# Denne funksjonen passer bedre med brukergrensesnittet til solve_ivp\n",
        "def lotkaVoltera(t, z, A, k1, k2, k3):\n",
        "    x, y = z\n",
        "    return [k1 * A * x - k2 * x * y, k2 * x * y - k3 * y]"
      ]
    },
    {
      "cell_type": "code",
      "execution_count": null,
      "id": "1686b151-7730-4119-93d2-e240ae5d674d",
      "metadata": {
        "id": "1686b151-7730-4119-93d2-e240ae5d674d"
      },
      "outputs": [],
      "source": [
        "sol = solve_ivp(lotkaVoltera, [0, 50], [1, 1], args=(1, 0.3, 0.2, 0.3), dense_output=True)"
      ]
    },
    {
      "cell_type": "code",
      "execution_count": null,
      "id": "3a3e2252-4ffe-4405-9ac9-cce6f7be1a48",
      "metadata": {
        "id": "3a3e2252-4ffe-4405-9ac9-cce6f7be1a48"
      },
      "outputs": [],
      "source": [
        "t = np.linspace(0, 50, 300)\n",
        "z = sol.sol(t)\n",
        "\n",
        "plt.plot(t, z.T)\n",
        "plt.xlabel('t')\n",
        "plt.legend(['x', 'y'], shadow=True)\n",
        "plt.title('Lotka-Volterra System')\n",
        "plt.show()"
      ]
    },
    {
      "cell_type": "markdown",
      "id": "12028a4e-4187-4637-a0d8-17babb761ae1",
      "metadata": {
        "id": "12028a4e-4187-4637-a0d8-17babb761ae1"
      },
      "source": [
        "## Oppgave"
      ]
    },
    {
      "cell_type": "markdown",
      "id": "24a7a75f-7368-4320-8087-0d34480130c2",
      "metadata": {
        "id": "24a7a75f-7368-4320-8087-0d34480130c2"
      },
      "source": [
        "Bruk Eulers metode til å løse Lotka Volterra systemet over."
      ]
    },
    {
      "cell_type": "markdown",
      "id": "db94eebf-fa22-4e90-8f53-aa6cda8369fd",
      "metadata": {
        "id": "db94eebf-fa22-4e90-8f53-aa6cda8369fd"
      },
      "source": [
        "# Quiz"
      ]
    },
    {
      "cell_type": "markdown",
      "id": "8043b861-2ed7-43b8-b540-0ede7487ab71",
      "metadata": {
        "id": "8043b861-2ed7-43b8-b540-0ede7487ab71"
      },
      "source": [
        "Prøv om du kan svare på\n",
        "[quiz fra eksamen i fjor](https://mitt.uib.no/courses/50911/quizzes/48374).\n",
        "\n",
        "Advarsel: I quizen er $y = y(x)$ en funksjon av $x$, og ikke av $t$ som hos oss."
      ]
    },
    {
      "cell_type": "code",
      "execution_count": null,
      "id": "86a0ed92-c95c-4940-a21e-d779222cc495",
      "metadata": {
        "id": "86a0ed92-c95c-4940-a21e-d779222cc495"
      },
      "outputs": [],
      "source": []
    }
  ],
  "metadata": {
    "kernelspec": {
      "display_name": "Python 3 (ipykernel)",
      "language": "python",
      "name": "python3"
    },
    "language_info": {
      "codemirror_mode": {
        "name": "ipython",
        "version": 3
      },
      "file_extension": ".py",
      "mimetype": "text/x-python",
      "name": "python",
      "nbconvert_exporter": "python",
      "pygments_lexer": "ipython3",
      "version": "3.12.8"
    },
    "colab": {
      "provenance": []
    }
  },
  "nbformat": 4,
  "nbformat_minor": 5
}