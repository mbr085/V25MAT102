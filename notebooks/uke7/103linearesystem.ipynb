{
 "cells": [
  {
   "cell_type": "markdown",
   "id": "4b353b00-d730-4c6b-871f-67653cd49c38",
   "metadata": {},
   "source": [
    "# MIP 10.3: Lineære ligningssystemer"
   ]
  },
  {
   "cell_type": "markdown",
   "id": "4a1778a3-2960-4074-bda8-1acddaf7109e",
   "metadata": {},
   "source": [
    "## Eksempel"
   ]
  },
  {
   "cell_type": "markdown",
   "id": "e7acd5ab-9edc-47cc-9466-9d8fca527aa0",
   "metadata": {},
   "source": [
    "Se på\n",
    "$$\n",
    "\\begin{align}\n",
    "2x + 3y  &= 5 \\newline\n",
    "4x + 5y &= 9\n",
    "\\end{align}\n",
    "$$"
   ]
  },
  {
   "cell_type": "markdown",
   "id": "58202120-b68d-4ca4-9c69-1d709fe30213",
   "metadata": {},
   "source": [
    "## Oppgave"
   ]
  },
  {
   "cell_type": "markdown",
   "id": "6a0f3817-c76e-440d-bde4-07e20bb6d813",
   "metadata": {},
   "source": [
    "Finn $x$ og $y$ som løser systemet over."
   ]
  },
  {
   "cell_type": "markdown",
   "id": "8a010bcd-e16a-472f-8631-6dd1e9fa20f0",
   "metadata": {},
   "source": [
    "Byttes tallene $2,3,4$ og $5$ foran $x$-ene og $y$-ene ut fås andre lineære systemer av ligninger. Tallene $5$ og $9$ på høyresiden kan også byttes ut! I stedet for \n",
    "to ukjente $x$ og $y$ kan vi tre gitt ved $x$, $y$ og $z$ eller vi kan ha enda flere."
   ]
  },
  {
   "cell_type": "markdown",
   "id": "45063238-ac3c-4ddd-aba9-e95a92e3a82e",
   "metadata": {},
   "source": [
    "Et generelt system av $3$ ligninger og $4$ ukjente ser slik ut:\n",
    "\n",
    "$$\n",
    "\\begin{matrix}x_{0} {a}_{0,0} + x_{1} {a}_{0,1} + x_{2} {a}_{0,2} + x_{3} {a}_{0,3}\\\\x_{0} {a}_{1,0} + x_{1} {a}_{1,1} + x_{2} {a}_{1,2} + x_{3} {a}_{1,3}\\\\x_{0} {a}_{2,0} + x_{1} {a}_{2,1} + x_{2} {a}_{2,2} + x_{3} {a}_{2,3}\\end{matrix}\n",
    "\\begin{matrix}\n",
    "  = b_0 \\\\\n",
    "  = b_1 \\\\\n",
    "  = b_2\n",
    "\\end{matrix}\n",
    "$$"
   ]
  },
  {
   "cell_type": "markdown",
   "id": "ea06bba0-2cb0-4c26-a5c8-e345f704aa9c",
   "metadata": {},
   "source": [
    "Vi kan ha så mange ligninger og ukjente som det skal være."
   ]
  },
  {
   "cell_type": "markdown",
   "id": "5509504a-7c7c-4921-a56c-72e56f7a9dd6",
   "metadata": {},
   "source": [
    "## Oppgave"
   ]
  },
  {
   "cell_type": "markdown",
   "id": "08a3e4b2-f919-48b3-b417-93c2c25be26c",
   "metadata": {},
   "source": [
    "Løs ligningssystemet\n",
    "$$\n",
    "\\begin{matrix}\n",
    "x & +2y  &-3z  &= &6 \\newline\n",
    "x &-y  &+2z &= &2 \\newline\n",
    "x &-2y &+z &= &0\n",
    "\\end{matrix}\n",
    "$$"
   ]
  }
 ],
 "metadata": {
  "kernelspec": {
   "display_name": "Python 3 (ipykernel)",
   "language": "python",
   "name": "python3"
  },
  "language_info": {
   "codemirror_mode": {
    "name": "ipython",
    "version": 3
   },
   "file_extension": ".py",
   "mimetype": "text/x-python",
   "name": "python",
   "nbconvert_exporter": "python",
   "pygments_lexer": "ipython3",
   "version": "3.12.8"
  }
 },
 "nbformat": 4,
 "nbformat_minor": 5
}
