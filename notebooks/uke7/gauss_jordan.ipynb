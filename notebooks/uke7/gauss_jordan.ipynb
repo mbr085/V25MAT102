{
 "cells": [
  {
   "cell_type": "code",
   "execution_count": 1,
   "id": "8d6c09f8-a6cf-4582-8f6e-6a2919597b26",
   "metadata": {},
   "outputs": [],
   "source": [
    "import numpy as np"
   ]
  },
  {
   "cell_type": "code",
   "execution_count": 131,
   "id": "2aa2d2e3-833f-435f-98fd-339d1bd0e4cc",
   "metadata": {},
   "outputs": [],
   "source": [
    "def normer_forste_element(a):\n",
    "    forste_ikke_null_element_indeks = np.argmax(a != 0)\n",
    "    forste_ikke_null_element = a[forste_ikke_null_element_indeks]\n",
    "    return a / forste_ikke_null_element\n",
    "    \n",
    "def gauss_jordan(A):\n",
    "    if np.all(A == 0):\n",
    "        return A\n",
    "    elif len(A) == 1:\n",
    "        A[0] = normer_forste_element(A[0])\n",
    "        return A\n",
    "    else:\n",
    "        rad_summer = np.sum(A, axis=1)\n",
    "        A = A / rad_summer[:, None]\n",
    "        ikke_null_kolonner = np.any(A != 0, axis=0)\n",
    "        forste_ikke_null_kolonne_indeks = np.argmax(ikke_null_kolonner)\n",
    "        pivot_rad_indeks = np.argmax(A[:, forste_ikke_null_kolonne_indeks])\n",
    "        pivot_rad = normer_forste_element(A[pivot_rad_indeks])\n",
    "        A[pivot_rad_indeks] = A[0]\n",
    "        A[0] = pivot_rad\n",
    "        A[1:] = A[1:] - (A[1:, 0] / A[0, 0]) * A[0]\n",
    "        A[1:, 1:] = gauss_jordan(A[1:, 1:])\n",
    "        for rad in A[1:]:\n",
    "            if np.any(rad != 0):\n",
    "                forste_ikke_null_element_indeks = np.argmax(rad != 0)\n",
    "                A[0] = A[0] - (A[0, forste_ikke_null_element_indeks] / rad[forste_ikke_null_element_indeks]) * rad\n",
    "    return A"
   ]
  },
  {
   "cell_type": "code",
   "execution_count": 132,
   "id": "6b3c6260-eb73-4ed4-abb7-9e459887e581",
   "metadata": {},
   "outputs": [],
   "source": [
    "A = (1 + np.arange(6)).reshape((2,3))"
   ]
  },
  {
   "cell_type": "code",
   "execution_count": 133,
   "id": "3fd52975-b53c-44d0-802e-7ce44bdad99e",
   "metadata": {},
   "outputs": [
    {
     "data": {
      "text/plain": [
       "array([[ 1.,  0., -1.],\n",
       "       [ 0.,  1.,  2.]])"
      ]
     },
     "execution_count": 133,
     "metadata": {},
     "output_type": "execute_result"
    }
   ],
   "source": [
    "gauss_jordan(A)"
   ]
  },
  {
   "cell_type": "code",
   "execution_count": 139,
   "id": "85eb62ce-931b-4203-a2c4-cbf98fe42d39",
   "metadata": {},
   "outputs": [],
   "source": [
    "def normer_forste_element(a):\n",
    "    # Finn indeksen til det første elementet som ikke er null\n",
    "    forste_ikke_null_element_indeks = np.argmax(a != 0)\n",
    "    \n",
    "    # Hent verdien til det første ikke-null elementet\n",
    "    forste_ikke_null_element = a[forste_ikke_null_element_indeks]\n",
    "    \n",
    "    # Returner den normaliserte vektoren, der alle elementer er delt på det første ikke-null elementet\n",
    "    return a / forste_ikke_null_element\n",
    "    \n",
    "def gauss_jordan(A):\n",
    "    # Hvis matrisen kun består av nuller, returner den uendret\n",
    "    if np.all(A == 0):\n",
    "        return A\n",
    "    \n",
    "    # Hvis matrisen har én rad, normaliser den første radens første ikke-null element\n",
    "    elif len(A) == 1:\n",
    "        A[0] = normer_forste_element(A[0])\n",
    "        return A\n",
    "    else:\n",
    "        # Beregn radens summene for å normalisere matrisen\n",
    "        # rad_summer = np.sum(A, axis=1)\n",
    "        # A = A / rad_summer[:, None]  # Normaliser hver rad ved å dele med radens sum\n",
    "        \n",
    "        # Finn kolonner som inneholder ikke-null elementer\n",
    "        ikke_null_kolonner = np.any(A != 0, axis=0)\n",
    "        \n",
    "        # Finn indeksen til den første kolonnen med ikke-null elementer\n",
    "        forste_ikke_null_kolonne_indeks = np.argmax(ikke_null_kolonner)\n",
    "        \n",
    "        # Finn indeksen til raden med største verdi i den valgte kolonnen (pivot rad)\n",
    "        pivot_rad_indeks = np.argmax(A[:, forste_ikke_null_kolonne_indeks])\n",
    "        \n",
    "        # Normaliser pivot raden\n",
    "        pivot_rad = normer_forste_element(A[pivot_rad_indeks])\n",
    "        \n",
    "        # Bytt plass på pivot raden og den første raden\n",
    "        A[pivot_rad_indeks] = A[0]\n",
    "        A[0] = pivot_rad\n",
    "        \n",
    "        # Utfør eliminering for å gjøre alle elementene under pivoten null\n",
    "        A[1:] = A[1:] - (A[1:, 0] / A[0, 0]) * A[0]\n",
    "        \n",
    "        # Kall gauss_jordan rekursivt på den nedre delmatrisen\n",
    "        A[1:, 1:] = gauss_jordan(A[1:, 1:])\n",
    "        \n",
    "        # Gjør de andre radene null i forhold til den første raden\n",
    "        for rad in A[1:]:\n",
    "            if np.any(rad != 0):  # Hvis raden ikke er null\n",
    "                # Finn indeksen til det første ikke-null elementet i raden\n",
    "                forste_ikke_null_element_indeks = np.argmax(rad != 0)\n",
    "                \n",
    "                # Utfør radeligning for å gjøre første element i den første raden null\n",
    "                A[0] = A[0] - (A[0, forste_ikke_null_element_indeks] / rad[forste_ikke_null_element_indeks]) * rad\n",
    "    \n",
    "    # Returner den resulterende matrisen\n",
    "    return A\n"
   ]
  },
  {
   "cell_type": "code",
   "execution_count": 140,
   "id": "cab25cb4-8936-4d69-9769-32aa8d770224",
   "metadata": {},
   "outputs": [
    {
     "data": {
      "text/plain": [
       "array([[1, 2, 3],\n",
       "       [4, 5, 6]])"
      ]
     },
     "execution_count": 140,
     "metadata": {},
     "output_type": "execute_result"
    }
   ],
   "source": [
    "A"
   ]
  },
  {
   "cell_type": "code",
   "execution_count": 141,
   "id": "e383c188-5e3f-426b-99ac-4104200b86f7",
   "metadata": {},
   "outputs": [
    {
     "data": {
      "text/plain": [
       "array([1.  , 1.25, 1.5 ])"
      ]
     },
     "execution_count": 141,
     "metadata": {},
     "output_type": "execute_result"
    }
   ],
   "source": [
    "normer_forste_element(A[1])"
   ]
  },
  {
   "cell_type": "code",
   "execution_count": 142,
   "id": "8495c5ae-3216-43b7-a9d3-c35e6b33183d",
   "metadata": {},
   "outputs": [
    {
     "data": {
      "text/plain": [
       "array([ True,  True,  True])"
      ]
     },
     "execution_count": 142,
     "metadata": {},
     "output_type": "execute_result"
    }
   ],
   "source": [
    "np.any(A != 0, axis=0)"
   ]
  },
  {
   "cell_type": "code",
   "execution_count": 143,
   "id": "2e6aa20a-da98-4fdf-a905-c50d507dc7ba",
   "metadata": {},
   "outputs": [
    {
     "data": {
      "text/plain": [
       "array([[ 1,  0, -1],\n",
       "       [ 0,  1,  2]])"
      ]
     },
     "execution_count": 143,
     "metadata": {},
     "output_type": "execute_result"
    }
   ],
   "source": [
    "gauss_jordan(A)"
   ]
  },
  {
   "cell_type": "code",
   "execution_count": 50,
   "id": "87a35d65-6247-4253-a45d-8af0446f7f1a",
   "metadata": {},
   "outputs": [],
   "source": [
    "ikke_null_kolonner = np.any(A != 0, axis=0)\n",
    "forste_ikke_null_kolonne_indeks = np.argmax(ikke_null_kolonner)"
   ]
  },
  {
   "cell_type": "code",
   "execution_count": 51,
   "id": "c7e04113-ef8d-4262-ae32-41b5e3db4739",
   "metadata": {},
   "outputs": [],
   "source": [
    "pivot_rad_indeks = np.argmax(A[:, forste_ikke_null_kolonne_indeks])"
   ]
  },
  {
   "cell_type": "code",
   "execution_count": 52,
   "id": "f5637037-0239-4fd9-a60d-25e941160962",
   "metadata": {},
   "outputs": [
    {
     "data": {
      "text/plain": [
       "np.int64(1)"
      ]
     },
     "execution_count": 52,
     "metadata": {},
     "output_type": "execute_result"
    }
   ],
   "source": [
    "pivot_rad_indeks"
   ]
  },
  {
   "cell_type": "code",
   "execution_count": 47,
   "id": "3502e9ce-44f6-4e6d-92ae-cc0e92a4cf67",
   "metadata": {},
   "outputs": [
    {
     "data": {
      "text/plain": [
       "array([[0, 1, 2],\n",
       "       [3, 4, 5]])"
      ]
     },
     "execution_count": 47,
     "metadata": {},
     "output_type": "execute_result"
    }
   ],
   "source": [
    "A[:, ikke_null_kolonner]"
   ]
  },
  {
   "cell_type": "code",
   "execution_count": null,
   "id": "35bba68b-edb2-4890-b8e4-b74037d1e86d",
   "metadata": {},
   "outputs": [],
   "source": []
  }
 ],
 "metadata": {
  "kernelspec": {
   "display_name": "Python 3 (ipykernel)",
   "language": "python",
   "name": "python3"
  },
  "language_info": {
   "codemirror_mode": {
    "name": "ipython",
    "version": 3
   },
   "file_extension": ".py",
   "mimetype": "text/x-python",
   "name": "python",
   "nbconvert_exporter": "python",
   "pygments_lexer": "ipython3",
   "version": "3.12.8"
  }
 },
 "nbformat": 4,
 "nbformat_minor": 5
}
