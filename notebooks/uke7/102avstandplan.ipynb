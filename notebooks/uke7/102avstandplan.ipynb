{
 "cells": [
  {
   "cell_type": "markdown",
   "id": "4b353b00-d730-4c6b-871f-67653cd49c38",
   "metadata": {},
   "source": [
    "# MIP 10.2: Avstand. Plan"
   ]
  },
  {
   "cell_type": "markdown",
   "id": "e4585431-75ea-48d8-8e17-24dc9b043694",
   "metadata": {},
   "source": [
    "Avstanden mellom to punkter i $\\mathbb{R}^n$ er gitt ved lengden av vektoren mellom dem. Tenker vi på\n",
    "punktene som vektorer $\\vec a$ og $\\vec b$, er avstanden gitt ved lengden av vektoren $\\vec c = \\vec b - \\vec a$.\n",
    "Dette er illustrert på figuren under:\n",
    "\n",
    "![subtraksjon](subtraksjon.png)"
   ]
  },
  {
   "cell_type": "markdown",
   "id": "7abdf540-0212-49d0-8743-f79b9ac74be9",
   "metadata": {},
   "source": [
    "### Om punkter og vektorer"
   ]
  },
  {
   "cell_type": "markdown",
   "id": "5182fbf5-7d3a-407b-b2e3-fd09643f21ce",
   "metadata": {},
   "source": [
    "Vektorer er gitt ved piler. To piler gir den samme vektoren hvis de blir like når de flyttes slik at de begynner i origo $\\vec 0$ uten å endre deres retning. Det vil si at en vektor er gitt entydig\n",
    "ved hvor pilen ender så fremt den begynner i $\\vec 0$. En slik plass er et punkt. Det finnes altså en en-til-en oversettelse mellom vektorer og punkter. "
   ]
  },
  {
   "cell_type": "markdown",
   "id": "a1fb6c7e-ec8e-4331-9067-b482d55afbb1",
   "metadata": {},
   "source": [
    "### Linjer i $\\mathbb{R}^2$"
   ]
  },
  {
   "cell_type": "markdown",
   "id": "923d19d2-be4c-4c57-ae00-2d341675de2b",
   "metadata": {},
   "source": [
    "La $a, b, x_0, y_0$ være gitte reelle tall med $[a, b] \\ne \\vec 0$. Mengden av alle punkter i planet \n",
    "slik at \n",
    "$$\n",
    "a(x - x_0) + b(y-y_0) = 0\n",
    "$$\n",
    "kalles **linjen** gjennom punktet $(x_0, y_0)$ med normalvektor $[a,b]$.\n",
    "\n",
    "![linje](linje.png)"
   ]
  },
  {
   "cell_type": "markdown",
   "id": "ee471a3b-3948-4144-84a4-e4e73187d6ec",
   "metadata": {},
   "source": [
    "### Plan i $\\mathbb{R}^3$"
   ]
  },
  {
   "cell_type": "markdown",
   "id": "f7581eda-a356-40f5-a26e-a06593a16f33",
   "metadata": {},
   "source": [
    "La $a, b, c, x_0, y_0, z_0$ være gitte reelle tall med $[a, b, c] \\ne \\vec 0$. Mengden av alle punkter i rommet\n",
    "slik at \n",
    "$$\n",
    "a(x - x_0) + b(y-y_0) + c(z-z_0)= 0\n",
    "$$\n",
    "kalles **planet** gjennom punktet $(x_0, y_0, z_0)$ med normalvektor $[a,b, c]$.\n",
    "\n",
    "![plan](plan.png)"
   ]
  }
 ],
 "metadata": {
  "kernelspec": {
   "display_name": "Python 3 (ipykernel)",
   "language": "python",
   "name": "python3"
  },
  "language_info": {
   "codemirror_mode": {
    "name": "ipython",
    "version": 3
   },
   "file_extension": ".py",
   "mimetype": "text/x-python",
   "name": "python",
   "nbconvert_exporter": "python",
   "pygments_lexer": "ipython3",
   "version": "3.12.8"
  }
 },
 "nbformat": 4,
 "nbformat_minor": 5
}
