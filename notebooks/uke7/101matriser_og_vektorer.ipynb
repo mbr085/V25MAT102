{
 "cells": [
  {
   "cell_type": "markdown",
   "id": "4b353b00-d730-4c6b-871f-67653cd49c38",
   "metadata": {},
   "source": [
    "# MIP 10.1: Matriser og vektorer"
   ]
  },
  {
   "cell_type": "markdown",
   "id": "49fd1108-1138-424c-9f2e-6a13d7709c18",
   "metadata": {},
   "source": [
    "En **matrix** er et rektangulært skjema av tall. Vannrett i skjemaet har vi rader og lodrett har vi kolonner. La oss se noen eksempler"
   ]
  },
  {
   "cell_type": "markdown",
   "id": "fb0fe619-ab44-443e-8c54-78bf4c60b1a7",
   "metadata": {},
   "source": [
    "$\n",
    "A=\n",
    "\\left[\\begin{matrix}{a}_{0,0} & {a}_{0,1} & {a}_{0,2}\\\\{a}_{1,0} & {a}_{1,1} & {a}_{1,2}\\end{matrix}\\right] =\n",
    "\\left[\\begin{matrix} 1 & 2 & 3\\\\4 & 5 & 6\\end{matrix}\\right]\n",
    "$\n",
    "har to rader og tre kolonner. Her er $a_{0,0} = 1$ og så videre."
   ]
  },
  {
   "cell_type": "markdown",
   "id": "7161a1e5-5292-4ff0-a7b3-511c28356dc1",
   "metadata": {},
   "source": [
    "$\n",
    "A =\n",
    "\\left[\\begin{matrix}{a}_{0,0}\\\\{a}_{1,0}\\\\{a}_{2,0}\\end{matrix}\\right] \n",
    "=\n",
    "\\left[\\begin{matrix}1 \\\\ 2\\\\ 3 \\end{matrix}\\right] \n",
    "$\n",
    "har tre rader og en kolonne. Her er $a_{0,0} = 1$ og så videre."
   ]
  },
  {
   "cell_type": "markdown",
   "id": "209b5aed-6e7d-4968-b903-db2469427630",
   "metadata": {},
   "source": [
    "$\n",
    "A =\n",
    "\\left[\\begin{matrix}{a}_{0,0} & {a}_{0,1}\\\\{a}_{1,0} & {a}_{1,1}\\end{matrix}\\right]\n",
    "=\n",
    "\\left[\\begin{matrix}2 & 1\\\\ 3 & 4\\end{matrix}\\right] \n",
    "$\n",
    "har to rader og to kolonner. Her er $a_{0,0} = 2$ og så videre."
   ]
  },
  {
   "cell_type": "markdown",
   "id": "de8efe75-eaec-477f-be00-2f3f11f65257",
   "metadata": {},
   "source": [
    "En matrise med $m$ rader og $n$ kolonner er en $m \\times n$-matrise. Matrisene over er henholdsvis $2 \\times 3$, $3 \\times 1$ og $2 \\times 2$-matriser."
   ]
  },
  {
   "cell_type": "markdown",
   "id": "fbbabc4e-e629-4f7b-8c9d-5db90281eba6",
   "metadata": {},
   "source": [
    "To matriser med samme form kan adderes og multipliseres elementvis: "
   ]
  },
  {
   "cell_type": "markdown",
   "id": "b611577f-5b1d-4dfe-a5a5-e4edfa64ee28",
   "metadata": {},
   "source": [
    "$\n",
    "\\left[\\begin{matrix}1 & 2\\\\3 & 4\\end{matrix}\\right]\n",
    "+\n",
    "\\left[\\begin{matrix}2 & 1\\\\4 & 2\\end{matrix}\\right]\n",
    "=\n",
    "\\left[\\begin{matrix}3 & 3\\\\7 & 6\\end{matrix}\\right]\n",
    "$"
   ]
  },
  {
   "cell_type": "markdown",
   "id": "57c0c0b2-4dbf-4cb8-9a99-583072bd0d31",
   "metadata": {},
   "source": [
    "$\n",
    "\\left[\\begin{matrix}1 & 2\\\\3 & 4\\end{matrix}\\right]\n",
    "*\n",
    "\\left[\\begin{matrix}2 & 1\\\\4 & 2\\end{matrix}\\right]\n",
    "=\n",
    "\\left[\\begin{matrix}2 & 2\\\\12 & 8\\end{matrix}\\right]\n",
    "$"
   ]
  },
  {
   "cell_type": "markdown",
   "id": "ff9aea52-d06e-4e2f-a73c-a52be433d9da",
   "metadata": {},
   "source": [
    "En (rad) vektor er en matrise med en rad. Her er vektorer av lengde $2$ og $5$:"
   ]
  },
  {
   "cell_type": "markdown",
   "id": "b69b872b-497a-43f1-9a69-9dbc857f375f",
   "metadata": {},
   "source": [
    "$[1, 2]$ og $[1,2,3,4,5]$"
   ]
  },
  {
   "cell_type": "markdown",
   "id": "de7f9f19-a3cd-4af8-a68c-b50717372c63",
   "metadata": {},
   "source": [
    "To vektorer av samme lengde kan 'prikkes' sammen. Det gjøres ved først elementvis å gange vektorene sammen, og så ta summen av tallene i vektoren vi produserte."
   ]
  },
  {
   "cell_type": "markdown",
   "id": "550499b7-4b51-4657-8747-7bca5f95fe65",
   "metadata": {},
   "source": [
    "$[1,2] \\cdot [3,4] = 3 + 8 = 11$"
   ]
  },
  {
   "cell_type": "markdown",
   "id": "6c8eb120-2e07-4b13-9da5-7f8584f862c6",
   "metadata": {},
   "source": [
    "$[1,2,3] \\cdot [1,2,3] = 1 + 4 + 9 = 14$ "
   ]
  },
  {
   "cell_type": "markdown",
   "id": "a12111ab-da36-40c0-b1a2-682c3ac69e21",
   "metadata": {},
   "source": [
    "Hvis vi vil kan vi skrive formler for operasjonene vi har gjort over. Hvis $\\vec a = [a_1, \\dots, a_n]$ og $\\vec b = [b_1, \\dots, b_n]$ er vektorer av samme lengde kan prikkproduktet $\\vec a \\cdot \\vec b$\n",
    "skrives\n",
    "$$\n",
    "\\vec a \\cdot \\vec b = a_1 b_1 + a_2 b_2 + \\dots + a_n b_n.\n",
    "$$"
   ]
  },
  {
   "cell_type": "markdown",
   "id": "6a2e4110-85c6-4ab3-b125-fa288a142474",
   "metadata": {},
   "source": [
    "Slike formler står i læreboken. Jeg vil unnlate slik tung notasjon så godt jeg kan."
   ]
  },
  {
   "cell_type": "markdown",
   "id": "2981ad2a-f381-4845-aace-9ca736271b87",
   "metadata": {},
   "source": [
    "**Lengden** til en vektor $\\vec a$ er $|\\vec a| = \\sqrt{\\vec a \\cdot \\vec a}$."
   ]
  },
  {
   "cell_type": "markdown",
   "id": "2c9115c1-3f04-4e2f-824e-2def29fbe859",
   "metadata": {},
   "source": [
    "### Eksempel"
   ]
  },
  {
   "cell_type": "markdown",
   "id": "8b28e5b7-184e-4206-853c-b3c565f3c4d9",
   "metadata": {},
   "source": [
    "$\\vec a = [1, 2]$ gir $\\vec a \\cdot \\vec a = 1 + 4 = 5$ så $|\\vec a| = \\sqrt 5$. (Pythagoras)\n",
    "\n",
    "![21vektor](21vektor.png)"
   ]
  },
  {
   "cell_type": "markdown",
   "id": "0733888a-20bb-448d-8573-eb6167d7706d",
   "metadata": {},
   "source": [
    "$\\vec a = [1, 2, 1]$ gir $\\vec a \\cdot \\vec a = 1 + 4 + 1 = 6$ så $|\\vec a| = \\sqrt 6$. (Pythagoras)\n",
    "\n",
    "![121vektor](121vektor.png)"
   ]
  },
  {
   "cell_type": "markdown",
   "id": "b057ac2e-8521-4522-a67f-29eae2c0bd11",
   "metadata": {},
   "source": [
    "## Piltolkning"
   ]
  },
  {
   "cell_type": "markdown",
   "id": "4f4457e4-7165-478c-b7c4-524596fcbc38",
   "metadata": {},
   "source": [
    "Addisjon av vektorer representeres ved å sette piler etter hverandre. Her illustrers $[1,2] + [3,1] = [4,3]$\n",
    "\n",
    "![sumavvektorer](addisjon.png)"
   ]
  },
  {
   "cell_type": "markdown",
   "id": "2e2912bb-d555-45e2-8d86-2d8a29256f42",
   "metadata": {},
   "source": [
    "### Subtraksjon av vektorer"
   ]
  },
  {
   "cell_type": "markdown",
   "id": "623f4891-d5e7-4291-93f7-c0b4a465f9ac",
   "metadata": {},
   "source": [
    "Hvis $\\vec a + \\vec c = \\vec b$, da er $\\vec c = \\vec b - \\vec a$. Dette er illustrert på figuren under:\n",
    "\n",
    "![subtraksjon](subtraksjon.png)"
   ]
  },
  {
   "cell_type": "markdown",
   "id": "8dc190d9-4c07-4339-985b-b0bb6323ebc8",
   "metadata": {},
   "source": [
    "### Strekking av vektorer"
   ]
  },
  {
   "cell_type": "markdown",
   "id": "df20e044-8cd7-4f7b-a7b5-dc89782b7d9e",
   "metadata": {},
   "source": [
    "For $\\vec a=[1,2]$ er $2\\vec a = [2,4]$:\n",
    "\n",
    "![strekking](strekking.png)"
   ]
  },
  {
   "cell_type": "markdown",
   "id": "14b8b6bf-7939-4dec-8d18-98f73bba3705",
   "metadata": {},
   "source": [
    "## Eksempel"
   ]
  },
  {
   "cell_type": "markdown",
   "id": "c6344724-9070-4ae9-84eb-2e4fb338a3a7",
   "metadata": {},
   "source": [
    "En luftballon beveger seg i forhold til luften oppove med $1 m/s$. I forhold til bakken beveger luften seg med $2 m/s$ østover. \n",
    "I forhold til bakken bevever luftballonen seg med hastighet både oppover og mot øst. Innførrer vi koordinatsystemet der $[1,0,0]$ peker øst, $[0,1,0]$ peker nord og \n",
    "$[0,0,1]$ peker opp, da er hastigheten til ballonen gitt ved vektoren\n",
    "$$\\vec v = [2,0,1].$$"
   ]
  },
  {
   "cell_type": "markdown",
   "id": "c698f8c5-8c0b-46c7-9097-1183494c989c",
   "metadata": {},
   "source": [
    "## Vinkelen mellom vektorer"
   ]
  },
  {
   "cell_type": "markdown",
   "id": "b4ef2858-2217-4760-a87e-e8136fdec1b5",
   "metadata": {},
   "source": [
    "På figuren:\n",
    "\n",
    "![subtraksjon](subtraksjon_vinkel.png)\n",
    "\n",
    "sier cosinussetningen at\n",
    "$$\n",
    "|\\vec b- \\vec a|^2 = |\\vec c|^2 = |\\vec a|^2 + |\\vec b|^2 - 2|\\vec a||\\vec b| \\cos(\\theta).\n",
    "$$\n",
    "\n",
    "Regneregler for $-$ og prikkprodukt gir\n",
    "$$\n",
    "|\\vec b- \\vec a|^2 = (\\vec b- \\vec a) \\cdot (\\vec b- \\vec a) = |\\vec a|^2 + |\\vec b|^2 - 2 \\vec a \\cdot \\vec b.\n",
    "$$\n",
    "\n",
    "Av dette kan vi konkludere at \n",
    "$$\n",
    "\\vec a \\cdot \\vec b = |\\vec a| |\\vec b| \\cos(\\theta).\n",
    "$$"
   ]
  },
  {
   "cell_type": "markdown",
   "id": "7dd42425-859a-48f4-a620-280bdde2c15c",
   "metadata": {},
   "source": [
    "**Konsekvens**:\n",
    "\n",
    "$$\n",
    "|\\vec a \\cdot \\vec b| = |\\vec a| |\\vec b| |\\cos(\\theta)| \n",
    "$$\n",
    "så\n",
    "$$\n",
    "|\\vec a \\cdot \\vec b| \\le |\\vec a| |\\vec b|.\n",
    "$$"
   ]
  },
  {
   "cell_type": "markdown",
   "id": "8db94aa4-b558-4910-87e6-6afe18973e02",
   "metadata": {},
   "source": [
    "## Oppgave"
   ]
  },
  {
   "cell_type": "markdown",
   "id": "504a59e1-5f27-47f2-a314-0754c541de27",
   "metadata": {},
   "source": [
    "Sjekk at $(\\vec b- \\vec a) \\cdot (\\vec b- \\vec a) = |\\vec a|^2 + |\\vec b|^2 - 2 \\vec a \\cdot \\vec b$."
   ]
  },
  {
   "cell_type": "markdown",
   "id": "c5974590-b41e-46c0-9fcc-c548124b7853",
   "metadata": {},
   "source": [
    "## Standardbasis i $\\mathbb{R}^n$"
   ]
  },
  {
   "cell_type": "markdown",
   "id": "d8dcd8b9-c332-433d-9b70-486578485627",
   "metadata": {},
   "source": [
    "I $\\mathbb{R}^2$ er standardbasisen\n",
    "$$ \n",
    "\\vec e_1 = [1,0], \\qquad \\vec e_2 = [0,1]\n",
    "$$"
   ]
  },
  {
   "cell_type": "markdown",
   "id": "39f88f67-2c57-4785-be12-a297e2b49464",
   "metadata": {},
   "source": [
    "I $\\mathbb{R}^3$ er standardbasisen\n",
    "$$ \n",
    "\\vec e_1 = [1,0,0], \\qquad \\vec e_2 = [0,1,0], \\qquad \\vec e_3 = [0,0,1]\n",
    "$$"
   ]
  },
  {
   "cell_type": "markdown",
   "id": "2cde3bac-2316-4801-85a5-c0c92dde3441",
   "metadata": {},
   "source": [
    "Bemerk at $[1,2,3] = \\vec e_1 + 2\\vec e_2 + 3\\vec e_3$. \n",
    "\n",
    "Generellt kan vi skrive $[v_1,v_2,v_3] =  v_1\\vec e_1 + v_2\\vec e_2 + v_3\\vec e_3$."
   ]
  },
  {
   "cell_type": "markdown",
   "id": "ce07bf54-24cf-454f-9f97-2c7d6e452b00",
   "metadata": {},
   "source": [
    "Ovenstående kan gjøres for vektorer av alle mulige lengder."
   ]
  }
 ],
 "metadata": {
  "kernelspec": {
   "display_name": "Python 3 (ipykernel)",
   "language": "python",
   "name": "python3"
  },
  "language_info": {
   "codemirror_mode": {
    "name": "ipython",
    "version": 3
   },
   "file_extension": ".py",
   "mimetype": "text/x-python",
   "name": "python",
   "nbconvert_exporter": "python",
   "pygments_lexer": "ipython3",
   "version": "3.12.8"
  }
 },
 "nbformat": 4,
 "nbformat_minor": 5
}
