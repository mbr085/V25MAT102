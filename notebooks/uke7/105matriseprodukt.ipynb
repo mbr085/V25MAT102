{
 "cells": [
  {
   "cell_type": "markdown",
   "id": "f094ae5a-6428-4c50-a7f3-45d7e7646af4",
   "metadata": {},
   "source": [
    "# 10.5 Matriser"
   ]
  },
  {
   "cell_type": "markdown",
   "id": "742c3477-cc21-417b-b010-1cabaec8fa77",
   "metadata": {},
   "source": [
    "Her ser vi på **produktet** av matriser "
   ]
  },
  {
   "cell_type": "markdown",
   "id": "1bd02ea1-9437-410d-83ac-6e93a11b79ac",
   "metadata": {},
   "source": [
    "Produktet en radvektor og kolonnevektor med samme lengde er gitt ved å legge kolonnevektoren ned slik at den blir til en radvektor og så ta prikkproduktet av de to radvektorene. "
   ]
  },
  {
   "cell_type": "markdown",
   "id": "9a8a89b4-4015-4107-ba84-0e99fed0a705",
   "metadata": {},
   "source": [
    "## Eksempel"
   ]
  },
  {
   "cell_type": "markdown",
   "id": "daf58fb1-e5ff-414c-be5b-10ce85f873f1",
   "metadata": {},
   "source": [
    "$$\n",
    "\\left[\n",
    "\\begin{array}{cccc}\n",
    "    1 & 2 & 3 & 2 \n",
    "\\end{array}\n",
    "\\right]\n",
    "\\cdot \n",
    "\\left[\n",
    "\\begin{array}{c}\n",
    "2\\\\\n",
    "3\\\\\n",
    "1\\\\\n",
    "-1\n",
    "\\end{array}\n",
    "\\right]\n",
    "=\n",
    "\\left[\n",
    "\\begin{array}{c}\n",
    "    1 & 2 & 3 & 2 \n",
    "\\end{array}\n",
    "\\right]\n",
    "\\cdot \n",
    "\\left[\n",
    "\\begin{array}{c}\n",
    "2&\n",
    "3&\n",
    "1&\n",
    "-1\n",
    "\\end{array}\n",
    "\\right]\n",
    "=\n",
    "2 + 6 + 3 - 2 = 9\n",
    "$$"
   ]
  },
  {
   "cell_type": "markdown",
   "id": "dcac659f-33a2-45b9-b4dd-785cb0ca6753",
   "metadata": {},
   "source": [
    "**Merk:** rad- og kolonnevektor må komme i denne rekkefølgen."
   ]
  },
  {
   "cell_type": "markdown",
   "id": "76de1c83-2e6a-4ed6-a798-82d39626afac",
   "metadata": {},
   "source": [
    "Denne regelen kan utvides til tilfellet der vi har mere enn en rad."
   ]
  },
  {
   "cell_type": "markdown",
   "id": "8fb879d5-be01-4b01-8525-87927611cffd",
   "metadata": {},
   "source": [
    "## Eksempel "
   ]
  },
  {
   "cell_type": "markdown",
   "id": "5bf51f85-2b6d-4513-89d4-09ce4383cbf5",
   "metadata": {},
   "source": [
    "Her multipliserer vi en $2 \\times 4$-matrise med en $4 \\times 1$-matrise"
   ]
  },
  {
   "cell_type": "markdown",
   "id": "d772a3ab-e976-49cb-8b91-25e2b43ab844",
   "metadata": {},
   "source": [
    "$$\n",
    "\\left[\n",
    "\\begin{array}{cccc}\n",
    "    1 & 2 & 3 & 2 \\\\\n",
    "    2 & -1 & 2 & 1\n",
    "\\end{array}\n",
    "\\right]\n",
    "\\cdot \n",
    "\\left[\n",
    "\\begin{array}{c}\n",
    "2\\\\\n",
    "3\\\\\n",
    "1\\\\\n",
    "-1\n",
    "\\end{array}\n",
    "\\right]\n",
    "=\n",
    "\\left[\n",
    "\\begin{array}{c}\n",
    "\\left[\n",
    "\\begin{array}{c}\n",
    "    1 & 2 & 3 & 2 \n",
    "\\end{array}\n",
    "\\right]\n",
    "\\cdot \n",
    "\\left[\n",
    "\\begin{array}{c}\n",
    "2&\n",
    "3&\n",
    "1&\n",
    "-1\n",
    "\\end{array}\n",
    "\\right]\n",
    "\\\\\n",
    "\\left[\n",
    "\\begin{array}{c}\n",
    "    2 & -1 & 2 & 1 \n",
    "\\end{array}\n",
    "\\right]\n",
    "\\cdot \n",
    "\\left[\n",
    "\\begin{array}{c}\n",
    "2&\n",
    "3&\n",
    "1&\n",
    "-1\n",
    "\\end{array}\n",
    "\\right]\n",
    "\\end{array}\n",
    "\\right]\n",
    "=\n",
    "\\left[\n",
    "\\begin{array}{c}\n",
    "2 + 6 + 3 - 2 \\\\\n",
    "4 - 3 + 2 - 1 \n",
    "\\end{array}\n",
    "\\right]=\n",
    "\\left[\n",
    "\\begin{array}{c}\n",
    "9\\\\\n",
    "2\n",
    "\\end{array}\n",
    "\\right]\n",
    "$$"
   ]
  },
  {
   "cell_type": "markdown",
   "id": "55e48f6e-2cfd-47d8-be62-479a27ea9e74",
   "metadata": {},
   "source": [
    "[Her er et eksempel fra stoichiometri.](https://colab.research.google.com/github/mbr085/V25MAT102/blob/main/notebooks/uke7/stoichiometri.ipynb)"
   ]
  },
  {
   "cell_type": "markdown",
   "id": "a11e0244-4030-4c5f-8e87-14d30f476eb5",
   "metadata": {},
   "source": [
    "Vi kan også utvide regelen til tilfellet der vi har mere enn en kolonne."
   ]
  },
  {
   "cell_type": "markdown",
   "id": "fdc85750-f4e2-442d-a871-08fbc0b4476d",
   "metadata": {},
   "source": [
    "## Eksempel"
   ]
  },
  {
   "cell_type": "markdown",
   "id": "0449d406-7da2-4bc8-84a3-d3ac551fabf4",
   "metadata": {},
   "source": [
    "Her multipliserer vi en $1 \\times 2$-matrise med en $2 \\times 2$-matrise:"
   ]
  },
  {
   "cell_type": "markdown",
   "id": "f61253c0-6703-4c7f-bccf-c77cf7b340cd",
   "metadata": {},
   "source": [
    "$$\n",
    "\\left[\n",
    "\\begin{array}{cc}\n",
    "    1 & 2\n",
    "\\end{array}\n",
    "\\right]\n",
    "\\cdot \n",
    "\\left[\n",
    "\\begin{array}{cc}\n",
    "2&\n",
    "3\\\\\n",
    "1&\n",
    "-1\n",
    "\\end{array}\n",
    "\\right]\n",
    "=\n",
    "\\left[\n",
    "\\begin{array}{c}\n",
    "\\left[\n",
    "\\begin{array}{c}\n",
    "    1 & 2 \n",
    "\\end{array}\n",
    "\\right]\n",
    "\\cdot \n",
    "\\left[\n",
    "\\begin{array}{c}\n",
    "2&\n",
    "3\n",
    "\\end{array}\n",
    "\\right]\n",
    "&\n",
    "\\left[\n",
    "\\begin{array}{c}\n",
    "    1 & -1 \n",
    "\\end{array}\n",
    "\\right]\n",
    "\\cdot \n",
    "\\left[\n",
    "\\begin{array}{c}\n",
    "2&\n",
    "3\n",
    "\\end{array}\n",
    "\\right]\n",
    "\\end{array}\n",
    "\\right]\n",
    "=\n",
    "\\left[\n",
    "\\begin{array}{c}\n",
    "2 + 6\n",
    "&\n",
    "2 - 3\n",
    "\\end{array}\n",
    "\\right]\n",
    "=\n",
    "\\left[\n",
    "\\begin{array}{c}\n",
    "8\n",
    "&\n",
    "-1\n",
    "\\end{array}\n",
    "\\right]\n",
    "$$"
   ]
  },
  {
   "cell_type": "markdown",
   "id": "f076a8b1-81d7-40ff-90dc-859c644bcd35",
   "metadata": {},
   "source": [
    "Slår vi de to utvidelsene sammen kan vi multiplisere en $m \\times n$-matrise med en $n \\times p$-matrise. Formelen står i læreboken."
   ]
  },
  {
   "cell_type": "code",
   "execution_count": null,
   "id": "97223972-3f7e-4a6b-b200-a723567e51d8",
   "metadata": {},
   "outputs": [],
   "source": []
  }
 ],
 "metadata": {
  "kernelspec": {
   "display_name": "Python 3 (ipykernel)",
   "language": "python",
   "name": "python3"
  },
  "language_info": {
   "codemirror_mode": {
    "name": "ipython",
    "version": 3
   },
   "file_extension": ".py",
   "mimetype": "text/x-python",
   "name": "python",
   "nbconvert_exporter": "python",
   "pygments_lexer": "ipython3",
   "version": "3.12.8"
  }
 },
 "nbformat": 4,
 "nbformat_minor": 5
}
