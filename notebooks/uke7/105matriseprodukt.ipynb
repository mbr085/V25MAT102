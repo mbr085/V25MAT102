{
 "cells": [
  {
   "cell_type": "markdown",
   "id": "f094ae5a-6428-4c50-a7f3-45d7e7646af4",
   "metadata": {},
   "source": [
    "# 10.5 Matriser"
   ]
  },
  {
   "cell_type": "markdown",
   "id": "742c3477-cc21-417b-b010-1cabaec8fa77",
   "metadata": {},
   "source": [
    "Her ser vi på **produktet** av matriser "
   ]
  },
  {
   "cell_type": "markdown",
   "id": "1bd02ea1-9437-410d-83ac-6e93a11b79ac",
   "metadata": {},
   "source": [
    "Produktet en radvektor og kolonnevektor med samme lengde er gitt ved å legge kolonnevektoren ned slik at den blir til en radvektor og så ta prikkproduktet av de to radvektorene. "
   ]
  },
  {
   "cell_type": "markdown",
   "id": "9a8a89b4-4015-4107-ba84-0e99fed0a705",
   "metadata": {},
   "source": [
    "## Eksempel"
   ]
  },
  {
   "cell_type": "markdown",
   "id": "daf58fb1-e5ff-414c-be5b-10ce85f873f1",
   "metadata": {},
   "source": [
    "$$\n",
    "\\left[\n",
    "\\begin{array}{cccc}\n",
    "    1 & 2 & 3 & 2 \n",
    "\\end{array}\n",
    "\\right]\n",
    "\\cdot \n",
    "\\left[\n",
    "\\begin{array}{c}\n",
    "2\\\\\n",
    "3\\\\\n",
    "1\\\\\n",
    "-1\n",
    "\\end{array}\n",
    "\\right]\n",
    "=\n",
    "\\left[\n",
    "\\begin{array}{c}\n",
    "    1 & 2 & 3 & 2 \n",
    "\\end{array}\n",
    "\\right]\n",
    "\\cdot \n",
    "\\left[\n",
    "\\begin{array}{c}\n",
    "2&\n",
    "3&\n",
    "1&\n",
    "-1\n",
    "\\end{array}\n",
    "\\right]\n",
    "=\n",
    "2 + 6 + 3 - 2 = 9\n",
    "$$"
   ]
  },
  {
   "cell_type": "markdown",
   "id": "dcac659f-33a2-45b9-b4dd-785cb0ca6753",
   "metadata": {},
   "source": [
    "**Merk:** rad- og kolonnevektor må komme i denne rekkefølgen."
   ]
  },
  {
   "cell_type": "markdown",
   "id": "76de1c83-2e6a-4ed6-a798-82d39626afac",
   "metadata": {},
   "source": [
    "---\n",
    "\n",
    "Denne regelen kan utvides til tilfellet der vi har mere enn en rad."
   ]
  },
  {
   "cell_type": "markdown",
   "id": "8fb879d5-be01-4b01-8525-87927611cffd",
   "metadata": {},
   "source": [
    "## Eksempel "
   ]
  },
  {
   "cell_type": "markdown",
   "id": "5bf51f85-2b6d-4513-89d4-09ce4383cbf5",
   "metadata": {},
   "source": [
    "Her multipliserer vi en $2 \\times 4$-matrise med en $4 \\times 1$-matrise"
   ]
  },
  {
   "cell_type": "markdown",
   "id": "d772a3ab-e976-49cb-8b91-25e2b43ab844",
   "metadata": {},
   "source": [
    "$$\n",
    "\\left[\n",
    "\\begin{array}{cccc}\n",
    "    1 & 2 & 3 & 2 \\\\\n",
    "    2 & -1 & 2 & 1\n",
    "\\end{array}\n",
    "\\right]\n",
    "\\cdot \n",
    "\\left[\n",
    "\\begin{array}{c}\n",
    "2\\\\\n",
    "3\\\\\n",
    "1\\\\\n",
    "-1\n",
    "\\end{array}\n",
    "\\right]\n",
    "=\n",
    "\\left[\n",
    "\\begin{array}{c}\n",
    "\\left[\n",
    "\\begin{array}{c}\n",
    "    1 & 2 & 3 & 2 \n",
    "\\end{array}\n",
    "\\right]\n",
    "\\cdot \n",
    "\\left[\n",
    "\\begin{array}{c}\n",
    "2&\n",
    "3&\n",
    "1&\n",
    "-1\n",
    "\\end{array}\n",
    "\\right]\n",
    "\\\\\n",
    "\\left[\n",
    "\\begin{array}{c}\n",
    "    2 & -1 & 2 & 1 \n",
    "\\end{array}\n",
    "\\right]\n",
    "\\cdot \n",
    "\\left[\n",
    "\\begin{array}{c}\n",
    "2&\n",
    "3&\n",
    "1&\n",
    "-1\n",
    "\\end{array}\n",
    "\\right]\n",
    "\\end{array}\n",
    "\\right]\n",
    "=\n",
    "\\left[\n",
    "\\begin{array}{c}\n",
    "2 + 6 + 3 - 2 \\\\\n",
    "4 - 3 + 2 - 1 \n",
    "\\end{array}\n",
    "\\right]=\n",
    "\\left[\n",
    "\\begin{array}{c}\n",
    "9\\\\\n",
    "2\n",
    "\\end{array}\n",
    "\\right]\n",
    "$$"
   ]
  },
  {
   "cell_type": "markdown",
   "id": "55e48f6e-2cfd-47d8-be62-479a27ea9e74",
   "metadata": {},
   "source": [
    "[Her er et eksempel fra støkiometri.](https://colab.research.google.com/github/mbr085/V25MAT102/blob/main/notebooks/uke7/stoichiometri.ipynb)"
   ]
  },
  {
   "cell_type": "markdown",
   "id": "a11e0244-4030-4c5f-8e87-14d30f476eb5",
   "metadata": {},
   "source": [
    "---\n",
    "\n",
    "Vi kan også utvide regelen til tilfellet der vi har mere enn en kolonne."
   ]
  },
  {
   "cell_type": "markdown",
   "id": "fdc85750-f4e2-442d-a871-08fbc0b4476d",
   "metadata": {},
   "source": [
    "## Eksempel"
   ]
  },
  {
   "cell_type": "markdown",
   "id": "0449d406-7da2-4bc8-84a3-d3ac551fabf4",
   "metadata": {},
   "source": [
    "Her multipliserer vi en $1 \\times 2$-matrise med en $2 \\times 2$-matrise:"
   ]
  },
  {
   "cell_type": "markdown",
   "id": "f61253c0-6703-4c7f-bccf-c77cf7b340cd",
   "metadata": {},
   "source": [
    "$$\n",
    "\\left[\n",
    "\\begin{array}{cc}\n",
    "    1 & 2\n",
    "\\end{array}\n",
    "\\right]\n",
    "\\cdot \n",
    "\\left[\n",
    "\\begin{array}{cc}\n",
    "2&\n",
    "3\\\\\n",
    "1&\n",
    "-1\n",
    "\\end{array}\n",
    "\\right]\n",
    "=\n",
    "\\left[\n",
    "\\begin{array}{c}\n",
    "\\left[\n",
    "\\begin{array}{c}\n",
    "    1 & 2 \n",
    "\\end{array}\n",
    "\\right]\n",
    "\\cdot \n",
    "\\left[\n",
    "\\begin{array}{c}\n",
    "2&\n",
    "1\n",
    "\\end{array}\n",
    "\\right]\n",
    "&\n",
    "\\left[\n",
    "\\begin{array}{c}\n",
    "    1 & 2 \n",
    "\\end{array}\n",
    "\\right]\n",
    "\\cdot \n",
    "\\left[\n",
    "\\begin{array}{c}\n",
    "3&\n",
    "-1\n",
    "\\end{array}\n",
    "\\right]\n",
    "\\end{array}\n",
    "\\right]\n",
    "=\n",
    "\\left[\n",
    "\\begin{array}{c}\n",
    "2 + 2\n",
    "&\n",
    "3 - 2\n",
    "\\end{array}\n",
    "\\right]\n",
    "=\n",
    "\\left[\n",
    "\\begin{array}{c}\n",
    "4\n",
    "&\n",
    "1\n",
    "\\end{array}\n",
    "\\right]\n",
    "$$"
   ]
  },
  {
   "cell_type": "markdown",
   "id": "f076a8b1-81d7-40ff-90dc-859c644bcd35",
   "metadata": {},
   "source": [
    "---\n",
    "\n",
    "Slår vi de to utvidelsene sammen kan vi multiplisere en $m \\times n$-matrise med en $n \\times p$-matrise. Formelen står i læreboken."
   ]
  },
  {
   "cell_type": "markdown",
   "id": "8f94381e-d342-4998-8142-d87221d98c1c",
   "metadata": {},
   "source": [
    "$$\n",
    "\\left[\n",
    "\\begin{array}{cc}\n",
    "    1 & 2 \\\\\n",
    "    3 & 4\n",
    "\\end{array}\n",
    "\\right]\n",
    "\\cdot \n",
    "\\left[\n",
    "\\begin{array}{cc}\n",
    "2&\n",
    "3\\\\\n",
    "1&\n",
    "-1\n",
    "\\end{array}\n",
    "\\right]\n",
    "=\n",
    "\\left[\n",
    "\\begin{array}{c}\n",
    "\\left[\n",
    "\\begin{array}{c}\n",
    "    1 & 2 \n",
    "\\end{array}\n",
    "\\right]\n",
    "\\cdot \n",
    "\\left[\n",
    "\\begin{array}{c}\n",
    "2&\n",
    "1\n",
    "\\end{array}\n",
    "\\right]\n",
    "&\n",
    "\\left[\n",
    "\\begin{array}{c}\n",
    "    1 & 2 \n",
    "\\end{array}\n",
    "\\right]\n",
    "\\cdot \n",
    "\\left[\n",
    "\\begin{array}{c}\n",
    "3&\n",
    "-1\n",
    "\\end{array}\n",
    "\\right]\n",
    "\\\\\n",
    "\\left[\n",
    "\\begin{array}{c}\n",
    "    3 & 4 \n",
    "\\end{array}\n",
    "\\right]\n",
    "\\cdot \n",
    "\\left[\n",
    "\\begin{array}{c}\n",
    "2&\n",
    "1\n",
    "\\end{array}\n",
    "\\right]\n",
    "&\n",
    "\\left[\n",
    "\\begin{array}{c}\n",
    "    3 & 4 \n",
    "\\end{array}\n",
    "\\right]\n",
    "\\cdot \n",
    "\\left[\n",
    "\\begin{array}{c}\n",
    "3&\n",
    "-1\n",
    "\\end{array}\n",
    "\\right]\n",
    "\\end{array}\n",
    "\\right]\n",
    "=\n",
    "\\left[\n",
    "\\begin{array}{c}\n",
    "2 + 2\n",
    "&\n",
    "3 - 2\n",
    "\\\\\n",
    "6 + 4\n",
    "&\n",
    "9 - 4\n",
    "\\end{array}\n",
    "\\right]\n",
    "=\n",
    "\\left[\n",
    "\\begin{array}{c}\n",
    "4\n",
    "&\n",
    "1\\\\\n",
    "10 & 5\n",
    "\\end{array}\n",
    "\\right]\n",
    "$$"
   ]
  },
  {
   "cell_type": "markdown",
   "id": "68f36dc2-590d-4f7f-bd12-445fcadded9d",
   "metadata": {},
   "source": [
    "## Eksempel"
   ]
  },
  {
   "cell_type": "markdown",
   "id": "f0ef3305-95b9-47d1-9d6f-7b05b2270e49",
   "metadata": {},
   "source": [
    "La oss se på et eksempel på næring. La oss si at vi har følgende tabell for innhold av prosent næringsinnhold i fire typer mat:"
   ]
  },
  {
   "cell_type": "markdown",
   "id": "11f3d8f7-6ece-418d-8e3f-a3f8f4e69284",
   "metadata": {},
   "source": [
    "\\begin{array}{l|cccc}\n",
    " & Brød & Melk & Ost & Smør\\\\\n",
    "\\hline \n",
    "Protein & 7,5 & 3,4 & 27,5 & 0,5 \\\\\n",
    "Fett & 1,2 & 3,8 & 28,6 & 81,3\\\\ \n",
    "Karbohydrat & 54,5 & 4,8 & 2,0 & 0,0\n",
    "\\end{array}"
   ]
  },
  {
   "cell_type": "markdown",
   "id": "4c8b38c6-1266-4d56-9050-9b9b9b98d3c9",
   "metadata": {},
   "source": [
    "Spørsmålet \"hvis du til frokost fikk $100g$ brød, $200g$ melk, $20g$ ost og $10g$ smør, hvor mye fikk du da av de forskjellige næringsstoffene?\"\n",
    "kan besvares ved hjelp av multiplikasjon av matriser:"
   ]
  },
  {
   "cell_type": "markdown",
   "id": "de027118-b6e2-4732-83d5-2bc9be105372",
   "metadata": {},
   "source": [
    "$$\n",
    "\\left[\n",
    "\\begin{array}{cccc}\n",
    "    7.5 & 3.4 & 27.5 & 0.5 \\\\\n",
    "    1.2 & 3.8 & 28.6 & 81.3 \\\\\n",
    "    54.5 & 4.8 & 2.0 & 0\n",
    "\\end{array}\n",
    "\\right]\n",
    "\\cdot \n",
    "\\left[\n",
    "\\begin{array}{c}\n",
    "100\\\\\n",
    "200\\\\\n",
    "20\\\\\n",
    "10\n",
    "\\end{array}\n",
    "\\right]\n",
    "$$"
   ]
  },
  {
   "cell_type": "markdown",
   "id": "f8572d51-ace6-4566-9291-e6969e8fe568",
   "metadata": {},
   "source": [
    "## Oppgave"
   ]
  },
  {
   "cell_type": "markdown",
   "id": "706ebb1b-38f4-427f-a6ac-56662e2338df",
   "metadata": {},
   "source": [
    "**Forklar** til de rundt deg hvordan du kan lese av fra dette matriseproduktet hvor mye du fikk av de forskjellige næringsstoffene. **Regn det ut** når du har forstått hvordan det fungerer."
   ]
  },
  {
   "cell_type": "markdown",
   "id": "9f7db085-dc28-4694-b71e-6f24197928f8",
   "metadata": {},
   "source": [
    "Her brukes numpy til å beregne matriseproduktet. Hvorfor deler vi på $100$?"
   ]
  },
  {
   "cell_type": "code",
   "execution_count": 1,
   "id": "86e108da-2573-4371-bd18-6636876c4d3f",
   "metadata": {},
   "outputs": [
    {
     "data": {
      "text/plain": [
       "array([[19.85],\n",
       "       [22.65],\n",
       "       [64.5 ]])"
      ]
     },
     "execution_count": 1,
     "metadata": {},
     "output_type": "execute_result"
    }
   ],
   "source": [
    "import numpy as np\n",
    "\n",
    "A = np.array([\n",
    "    [7.5, 3.4, 27.5, 0.5],\n",
    "    [1.2, 3.8, 28.6, 81.3],\n",
    "    [54.5, 4.8, 2.0, 0]\n",
    "])\n",
    "\n",
    "v = np.array([\n",
    "    [100],\n",
    "    [200],\n",
    "    [20],\n",
    "    [10]\n",
    "])\n",
    "\n",
    "A @ v / 100"
   ]
  },
  {
   "cell_type": "markdown",
   "id": "203f7ef0-7e9e-4cf7-b159-cf8bd2996607",
   "metadata": {},
   "source": [
    "---"
   ]
  },
  {
   "cell_type": "markdown",
   "id": "2117555d-bfed-418f-90a2-34f0a08e5bf7",
   "metadata": {},
   "source": [
    "La oss regne ut hvor mye energi måltidet ga. Følgende er funnet på [en nettside til BBC](https://www.bbc.co.uk/bitesize/guides/zqj66yc/revision/4)"
   ]
  },
  {
   "cell_type": "markdown",
   "id": "468acf82-88b8-4688-882b-87df58d67914",
   "metadata": {},
   "source": [
    "Karbohydrater, proteiner og fett gir energien som kroppen får fra mat.  \n",
    "\n",
    "Hvert næringsstoff gir en ulik mengde energi, målt i kilokalorier:  \n",
    "\n",
    "- 1 gram protein gir 4 kilokalorier.  \n",
    "- 1 gram fett gir 9 kilokalorier.\n",
    "- 1 gram karbohydrat gir 3,75 kilokalorier.  "
   ]
  },
  {
   "cell_type": "markdown",
   "id": "87e46713-5823-479a-a49a-46211fd5ed47",
   "metadata": {},
   "source": [
    "Vi fant ut at måltiden er fordelt på $19.85g$ protein, $22.65g$ fett og $64.5g$ karbohydrat. Dette kan sammenfattes i vektoren\n",
    "$$\n",
    "\\left[\n",
    "\\begin{array}{c}\n",
    "  19.85\\\\\n",
    "  22.65\\\\\n",
    "  64.5\n",
    "\\end{array}\n",
    "\\right]\n",
    "$$\n"
   ]
  },
  {
   "cell_type": "markdown",
   "id": "ceedf3c4-9eb1-4ec7-b443-40cd0941a940",
   "metadata": {},
   "source": [
    "**Forklar** hvorfor matriseproduktet"
   ]
  },
  {
   "cell_type": "markdown",
   "id": "b3678410-04a0-4661-8dfe-1e811d3c02c7",
   "metadata": {},
   "source": [
    "$$\n",
    "\\left[\n",
    "\\begin{array}{ccc}\n",
    "  4 & 9 & 3.75\n",
    "\\end{array}\n",
    "\\right]\n",
    "\\cdot\n",
    "\\left[\n",
    "\\begin{array}{c}\n",
    "  19.85\\\\\n",
    "  22.65\\\\\n",
    "  64.5\n",
    "\\end{array}\n",
    "\\right]\n",
    "$$\n"
   ]
  },
  {
   "cell_type": "markdown",
   "id": "e8761a78-50ef-4073-b40b-b7ea94c967f4",
   "metadata": {},
   "source": [
    "gir antall kilokalorier i måltidet. **Regn det ut**."
   ]
  },
  {
   "cell_type": "markdown",
   "id": "2bdcf5ed-431e-455f-be73-6c3b1bf98c58",
   "metadata": {},
   "source": [
    "**Forklar til de rundt deg hva følgende matriseprodukt regner ut**"
   ]
  },
  {
   "cell_type": "markdown",
   "id": "aa5038bf-7eef-41da-8283-5c43596da1bd",
   "metadata": {},
   "source": [
    "$$\n",
    "\\left[\n",
    "\\begin{array}{ccc}\n",
    "  4 & 9 & 3.75\n",
    "\\end{array}\n",
    "\\right]\n",
    "\\cdot\n",
    "\\left[\n",
    "\\begin{array}{cccc}\n",
    "    7.5 & 3.4 & 27.5 & 0.5 \\\\\n",
    "    1.2 & 3.8 & 28.6 & 81.3 \\\\\n",
    "    54.5 & 4.8 & 2.0 & 0\n",
    "\\end{array}\n",
    "\\right]\n",
    "$$"
   ]
  },
  {
   "cell_type": "markdown",
   "id": "440d5135-0799-4455-8fef-2db5b75a28a7",
   "metadata": {},
   "source": [
    "**Forklar til de rundt deg hvorfor følgende likhet er sann.** Hva regnes ut? "
   ]
  },
  {
   "attachments": {},
   "cell_type": "markdown",
   "id": "61a8c2ed-d069-4b25-9787-bf7ecf6b892c",
   "metadata": {},
   "source": [
    "$$\n",
    "\\left(\n",
    "\\left[\n",
    "\\begin{array}{ccc}\n",
    "  4 & 9 & 3.75\n",
    "\\end{array}\n",
    "\\right]\n",
    "\\cdot\n",
    "\\left[\n",
    "\\begin{array}{cccc}\n",
    "    7.5 & 3.4 & 27.5 & 0.5 \\\\\n",
    "    1.2 & 3.8 & 28.6 & 81.3 \\\\\n",
    "    54.5 & 4.8 & 2.0 & 0\n",
    "\\end{array}\n",
    "\\right]\n",
    "\\right)\n",
    "\\cdot \n",
    "\\left[\n",
    "\\begin{array}{c}\n",
    "1\\\\\n",
    "2\\\\\n",
    "0.2\\\\\n",
    "0.1\n",
    "\\end{array}\n",
    "\\right]\n",
    "=\n",
    "\\left[\n",
    "\\begin{array}{ccc}\n",
    "  4 & 9 & 3.75\n",
    "\\end{array}\n",
    "\\right]\n",
    "\\cdot\n",
    "\\left(\\left[\n",
    "\\begin{array}{cccc}\n",
    "    7.5 & 3.4 & 27.5 & 0.5 \\\\\n",
    "    1.2 & 3.8 & 28.6 & 81.3 \\\\\n",
    "    54.5 & 4.8 & 2.0 & 0\n",
    "\\end{array}\n",
    "\\right]\n",
    "\\cdot \n",
    "\\left[\n",
    "\\begin{array}{c}\n",
    "1\\\\\n",
    "2\\\\\n",
    "0.2\\\\\n",
    "0.1\n",
    "\\end{array}\n",
    "\\right]\\right)\n",
    "$$"
   ]
  },
  {
   "cell_type": "markdown",
   "id": "ebe97165-994e-4ecc-a7a3-22a1d7acf332",
   "metadata": {},
   "source": [
    "## Regneregler for matriser"
   ]
  },
  {
   "cell_type": "markdown",
   "id": "153d54a4-3d1c-406c-8f09-667f047e5f03",
   "metadata": {},
   "source": [
    "Vi kan regne med matriser nesten som med vanlige tall. (Se Teorem 1 i Kapittel 10.5 i MIP.) Ved matrisemultiplikasjon må vi må passe på at vi ganger sammen matriser av passende format. Ellers er en største forskjellen er at for to tall $a$ og $b$ er $ab = ba$. Denne likheten holder ikke for matriser $A$ og $B$. For det første kan formatet passe med den ene multiplikasjonen og ikke med den andre. For det andre, selv om både $AB$ og $BA$ passer med formatet kan matrisene $AB$ og $BA$ være forskjellige. Dessuten kan $AB$ være null selv om verken $A$ eller $B$ er null."
   ]
  },
  {
   "cell_type": "markdown",
   "id": "02c01aea-f4ee-4fd2-b388-d10d87de9ec7",
   "metadata": {},
   "source": [
    "## Eksempel"
   ]
  },
  {
   "cell_type": "markdown",
   "id": "004fdd1c-7a32-41c1-a81a-7d8de55b0c6a",
   "metadata": {},
   "source": [
    "Vi har regnet ut at "
   ]
  },
  {
   "cell_type": "markdown",
   "id": "de4c57d6-9026-492b-b565-a84af3036e9f",
   "metadata": {},
   "source": [
    "$$\n",
    "\\left[\n",
    "\\begin{array}{cc}\n",
    "    1 & 2 \\\\\n",
    "    3 & 4\n",
    "\\end{array}\n",
    "\\right]\n",
    "\\cdot \n",
    "\\left[\n",
    "\\begin{array}{cc}\n",
    "2&\n",
    "3\\\\\n",
    "1&\n",
    "-1\n",
    "\\end{array}\n",
    "\\right]\n",
    "=\n",
    "\\left[\n",
    "\\begin{array}{c}\n",
    "\\left[\n",
    "\\begin{array}{c}\n",
    "    1 & 2 \n",
    "\\end{array}\n",
    "\\right]\n",
    "\\cdot \n",
    "\\left[\n",
    "\\begin{array}{c}\n",
    "2&\n",
    "1\n",
    "\\end{array}\n",
    "\\right]\n",
    "&\n",
    "\\left[\n",
    "\\begin{array}{c}\n",
    "    1 & 2 \n",
    "\\end{array}\n",
    "\\right]\n",
    "\\cdot \n",
    "\\left[\n",
    "\\begin{array}{c}\n",
    "3&\n",
    "-1\n",
    "\\end{array}\n",
    "\\right]\n",
    "\\\\\n",
    "\\left[\n",
    "\\begin{array}{c}\n",
    "    3 & 4 \n",
    "\\end{array}\n",
    "\\right]\n",
    "\\cdot \n",
    "\\left[\n",
    "\\begin{array}{c}\n",
    "2&\n",
    "1\n",
    "\\end{array}\n",
    "\\right]\n",
    "&\n",
    "\\left[\n",
    "\\begin{array}{c}\n",
    "    3 & 4 \n",
    "\\end{array}\n",
    "\\right]\n",
    "\\cdot \n",
    "\\left[\n",
    "\\begin{array}{c}\n",
    "3&\n",
    "-1\n",
    "\\end{array}\n",
    "\\right]\n",
    "\\end{array}\n",
    "\\right]\n",
    "=\n",
    "\\left[\n",
    "\\begin{array}{c}\n",
    "2 + 2\n",
    "&\n",
    "3 - 2\n",
    "\\\\\n",
    "6 + 4\n",
    "&\n",
    "9 - 4\n",
    "\\end{array}\n",
    "\\right]\n",
    "=\n",
    "\\left[\n",
    "\\begin{array}{c}\n",
    "4\n",
    "&\n",
    "1\\\\\n",
    "10 & 5\n",
    "\\end{array}\n",
    "\\right]\n",
    "$$"
   ]
  },
  {
   "cell_type": "markdown",
   "id": "4aec1091-770f-43a9-a4bc-8bf4fb3d2ea4",
   "metadata": {},
   "source": [
    "Bytter vi om på rekkefølgen får vi"
   ]
  },
  {
   "cell_type": "markdown",
   "id": "9e9d6558-dd26-4014-9137-2dff5108acef",
   "metadata": {},
   "source": [
    "$$\n",
    "\\left[\n",
    "\\begin{array}{cc}\n",
    "2&\n",
    "3\\\\\n",
    "1&\n",
    "-1\n",
    "\\end{array}\n",
    "\\right]\n",
    "\\cdot\n",
    "\\left[\n",
    "\\begin{array}{cc}\n",
    "    1 & 2 \\\\\n",
    "    3 & 4\n",
    "\\end{array}\n",
    "\\right]\n",
    "=\n",
    "\\left[\n",
    "\\begin{array}{c}\n",
    "\\left[\n",
    "\\begin{array}{c}\n",
    "    2 & 3 \n",
    "\\end{array}\n",
    "\\right]\n",
    "\\cdot \n",
    "\\left[\n",
    "\\begin{array}{c}\n",
    "1&\n",
    "3\n",
    "\\end{array}\n",
    "\\right]\n",
    "&\n",
    "\\left[\n",
    "\\begin{array}{c}\n",
    "    2 & 3 \n",
    "\\end{array}\n",
    "\\right]\n",
    "\\cdot \n",
    "\\left[\n",
    "\\begin{array}{c}\n",
    "2&\n",
    "4\n",
    "\\end{array}\n",
    "\\right]\n",
    "\\\\\n",
    "\\left[\n",
    "\\begin{array}{c}\n",
    "    1 & -1 \n",
    "\\end{array}\n",
    "\\right]\n",
    "\\cdot \n",
    "\\left[\n",
    "\\begin{array}{c}\n",
    "1&\n",
    "3\n",
    "\\end{array}\n",
    "\\right]\n",
    "&\n",
    "\\left[\n",
    "\\begin{array}{c}\n",
    "    1 & -1 \n",
    "\\end{array}\n",
    "\\right]\n",
    "\\cdot \n",
    "\\left[\n",
    "\\begin{array}{c}\n",
    "2&\n",
    "4\n",
    "\\end{array}\n",
    "\\right]\n",
    "\\end{array}\n",
    "\\right]\n",
    "=\n",
    "\\left[\n",
    "\\begin{array}{c}\n",
    "2 + 9\n",
    "&\n",
    "4 + 12\n",
    "\\\\\n",
    "1 -3\n",
    "&\n",
    "2-4\n",
    "\\end{array}\n",
    "\\right]\n",
    "=\n",
    "\\left[\n",
    "\\begin{array}{c}\n",
    "11\n",
    "&\n",
    "16\\\\\n",
    "-2 & -2\n",
    "\\end{array}\n",
    "\\right]\n",
    "$$"
   ]
  },
  {
   "cell_type": "markdown",
   "id": "9088228b-ac82-44f1-b3f9-3fbaa95956bc",
   "metadata": {},
   "source": [
    "## Eksempel"
   ]
  },
  {
   "cell_type": "markdown",
   "id": "e0f9261e-4cd5-4b27-a25f-ce00c2d5f988",
   "metadata": {},
   "source": [
    "La \n",
    "$$\n",
    "A = \\left[\\begin{array}{cc}0&1\\\\0&0\\end{array}\\right]\n",
    "$$\n",
    "Da er $AA = 0$."
   ]
  },
  {
   "cell_type": "markdown",
   "id": "011105d5-0098-4439-802f-3f6a6247f83f",
   "metadata": {},
   "source": [
    "## Quiz"
   ]
  },
  {
   "cell_type": "markdown",
   "id": "3aa0559a-845f-4ab0-a17d-8816e64e16d1",
   "metadata": {},
   "source": [
    "Her er et [spørsmål fra eksamen i fjor](https://mitt.uib.no/courses/50911/quizzes/48452)"
   ]
  }
 ],
 "metadata": {
  "kernelspec": {
   "display_name": "Python 3 (ipykernel)",
   "language": "python",
   "name": "python3"
  },
  "language_info": {
   "codemirror_mode": {
    "name": "ipython",
    "version": 3
   },
   "file_extension": ".py",
   "mimetype": "text/x-python",
   "name": "python",
   "nbconvert_exporter": "python",
   "pygments_lexer": "ipython3",
   "version": "3.12.8"
  }
 },
 "nbformat": 4,
 "nbformat_minor": 5
}
