{
 "cells": [
  {
   "cell_type": "markdown",
   "id": "e505d69d-690c-4068-8397-9a9fc834998d",
   "metadata": {},
   "source": [
    "# Stoichiometriske matriser"
   ]
  },
  {
   "cell_type": "markdown",
   "id": "5c819277-7ea0-4144-a1b7-437c30b3c777",
   "metadata": {},
   "source": [
    "Her er et eksempel på bruk av matriser og differensialligninger i kjemi. Det er laget av ChatGPT."
   ]
  },
  {
   "cell_type": "markdown",
   "id": "038fb814-d2c7-4815-8e41-3a42edd8e9b7",
   "metadata": {},
   "source": [
    "Her er et eksempel på en **stoichiometrisk matrise** brukt i kjemiske reaksjoner.  \n",
    "\n",
    "La oss si vi har følgende kjemiske reaksjoner:  \n",
    "\n",
    "1. $ \\text{A} + 2\\text{B} \\rightarrow \\text{C} $  \n",
    "2. $ \\text{C} \\rightarrow \\text{D} + \\text{E} $  \n",
    "\n",
    "Vi kan representere disse reaksjonene med en **stoichiometrisk matrise**, hvor radene representerer kjemiske arter ($A, B, C, D, E$) og kolonnene representerer reaksjoner.  \n",
    "\n",
    "### Stoichiometrisk matrise:\n",
    "$$\n",
    "S =\n",
    "\\begin{bmatrix}\n",
    "-1 & 0  \\\\\n",
    "-2 & 0  \\\\\n",
    "+1 & -1 \\\\\n",
    "0  & +1 \\\\\n",
    "0  & +1\n",
    "\\end{bmatrix}\n",
    "$$\n",
    "\n",
    "---\n",
    "\n",
    "### Forklaring:\n",
    "- **Første kolonne**: Representerer reaksjon 1 ($A + 2B \\rightarrow C$)\n",
    "  - $A$ forbrukes: $-1$\n",
    "  - $B$ forbrukes: $-2$\n",
    "  - $C$ dannes: $+1$  \n",
    "- **Andre kolonne**: Representerer reaksjon 2 ($C \\rightarrow D + E$)\n",
    "  - $C$ forbrukes: $-1$\n",
    "  - $D$ dannes: $+1$\n",
    "  - $E$ dannes: $+1$  \n",
    "\n",
    "Denne matrisen brukes ofte i kjemiske systemer og reaksjonsnettverk for å analysere massebalanse og reaksjonsdynamikk, f.eks. i kinetiske modeller.  \n",
    "\n",
    "---"
   ]
  },
  {
   "cell_type": "markdown",
   "id": "7d364d37-2b53-4995-990e-018fae01d5c1",
   "metadata": {},
   "source": [
    "## Glukose-fosforylering"
   ]
  },
  {
   "cell_type": "markdown",
   "id": "a2c920ce-0c86-434d-8a2d-e32dc2b5debc",
   "metadata": {},
   "source": [
    "Denne matrisen beskriver de første trinnene i glykolysefosforylering."
   ]
  },
  {
   "cell_type": "markdown",
   "id": "061e7160-b701-48c3-98b7-9590ae764655",
   "metadata": {},
   "source": [
    "## Matematisk modell"
   ]
  },
  {
   "cell_type": "markdown",
   "id": "7ecf5b96-0358-40ea-acdf-2e5b86f9501c",
   "metadata": {},
   "source": [
    "Vi ser på de to første reaksjonene i glykolysen:\n",
    "\n",
    "1. **Glukose + ATP → Glukose-6-fosfat + ADP**\n",
    "   $\n",
    "   \\text{C}_6\\text{H}_{12}\\text{O}_6 + \\text{ATP} \\rightarrow \\text{C}_6\\text{H}_{11}\\text{O}_6\\text{P} + \\text{ADP}\n",
    "   $\n",
    "2. **Glukose-6-fosfat → Fruktose-6-fosfat**\n",
    "   $\n",
    "   \\text{C}_6\\text{H}_{11}\\text{O}_6\\text{P} \\rightarrow \\text{C}_6\\text{H}_{11}\\text{O}_6\\text{P}\n",
    "   $"
   ]
  },
  {
   "cell_type": "markdown",
   "id": "7227a3f2-a079-4be2-b45a-da53ecc2031f",
   "metadata": {},
   "source": [
    "### Stoichiometrisk matrise:\n",
    "$$\n",
    "S =\n",
    "\\begin{bmatrix}\n",
    "-1 & 0  \\\\\n",
    "-1 & 0  \\\\\n",
    "1 & -1 \\\\\n",
    "1  & 0 \\\\\n",
    "0  & 1\n",
    "\\end{bmatrix}\n",
    "$$\n"
   ]
  }
 ],
 "metadata": {
  "kernelspec": {
   "display_name": "Python 3 (ipykernel)",
   "language": "python",
   "name": "python3"
  },
  "language_info": {
   "codemirror_mode": {
    "name": "ipython",
    "version": 3
   },
   "file_extension": ".py",
   "mimetype": "text/x-python",
   "name": "python",
   "nbconvert_exporter": "python",
   "pygments_lexer": "ipython3",
   "version": "3.12.8"
  }
 },
 "nbformat": 4,
 "nbformat_minor": 5
}
