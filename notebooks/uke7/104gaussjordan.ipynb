{
 "cells": [
  {
   "cell_type": "markdown",
   "id": "4b353b00-d730-4c6b-871f-67653cd49c38",
   "metadata": {},
   "source": [
    "# MIP 10.3: Gauss Jordan eliminasjon"
   ]
  },
  {
   "cell_type": "markdown",
   "id": "4a1778a3-2960-4074-bda8-1acddaf7109e",
   "metadata": {},
   "source": [
    "## Eksempel"
   ]
  },
  {
   "cell_type": "markdown",
   "id": "e7acd5ab-9edc-47cc-9466-9d8fca527aa0",
   "metadata": {},
   "source": [
    "Se på\n",
    "$$\n",
    "\\begin{align}\n",
    "2x + 3y  &= 5 \\newline\n",
    "4x + 5y &= 9\n",
    "\\end{align}\n",
    "$$"
   ]
  },
  {
   "cell_type": "markdown",
   "id": "0b16ccea-fc35-4164-abd3-97fba1ca21cc",
   "metadata": {},
   "source": [
    "Bemerk at følgende manipulasjoner ikke vil endre på løsningene til systemet\n",
    "1. ta et tall gange den ene raden og leg til den andre raden\n",
    "2. bytt om rader\n",
    "3. gang en rad med et tall $\\ne 0$"
   ]
  },
  {
   "cell_type": "markdown",
   "id": "1a5c3bd5-c093-43f6-84eb-3814a3ecd72b",
   "metadata": {},
   "source": [
    "La os gjøre dette:\n",
    "\n",
    "Trekk to ganger den første raden fra den andre raden og få:\n",
    "$$\n",
    "\\begin{matrix}\n",
    "2x & + & 3y  &=& 5 \\newline\n",
    "   &-& y &=& -1\n",
    "\\end{matrix}\n",
    "$$"
   ]
  },
  {
   "cell_type": "markdown",
   "id": "7785e189-ea0c-4b1d-a029-a8ff63086b8c",
   "metadata": {},
   "source": [
    "Legg nå tre ganger den andre raden til den første raden og få:\n",
    "$$\n",
    "\\begin{matrix}\n",
    "2x &  &   &=& 2 \\newline\n",
    "   &-& y &=& -1\n",
    "\\end{matrix}\n",
    "$$"
   ]
  },
  {
   "cell_type": "markdown",
   "id": "b92d0f83-7147-40b3-b420-82dae5241857",
   "metadata": {},
   "source": [
    "Gang til slutt første raden med en halv og andre raden med minus en:\n",
    "$$\n",
    "\\begin{matrix}\n",
    "x &  &   &=& 1 \\newline\n",
    "   && y &=& 1\n",
    "\\end{matrix}\n",
    "$$"
   ]
  },
  {
   "cell_type": "markdown",
   "id": "84447743-59b0-44cd-b35c-abd19f494750",
   "metadata": {},
   "source": [
    "## Skjematisk form"
   ]
  },
  {
   "cell_type": "markdown",
   "id": "ba789184-2429-41c3-bb50-a3aa2a040fb4",
   "metadata": {},
   "source": [
    "Siden symbolene $x$ og $y$ hver gang står på samme posisjon i ligningssystemene kan vi la dem være innforståtte og skrive regningen over på skjematisk form:"
   ]
  },
  {
   "cell_type": "markdown",
   "id": "b918d369-40bd-4257-9371-d6d3af9af99c",
   "metadata": {},
   "source": [
    "$$\n",
    "\\left[\\begin{array}{cc|c} \n",
    "   2 & 3 & 5  \\\\\n",
    "   4 & 5 & 9 \n",
    "\\end{array}\\right]\n",
    "\\sim\n",
    "\\left[\\begin{array}{cc|c} \n",
    "   2 & 3 & 5  \\\\\n",
    "   0 & -1 & -1 \n",
    "\\end{array}\\right]\n",
    "\\begin{array}{c} \n",
    "     \\\\\n",
    "   \\mathrm{II} - 2 \\mathrm{I}\n",
    "\\end{array}\n",
    "\\sim\n",
    "\\left[\\begin{array}{cc|c} \n",
    "   2 & 0 & 2  \\\\\n",
    "   0 & -1 & -1 \n",
    "\\end{array}\\right]\n",
    "\\begin{array}{c}\n",
    "\\mathrm{I} + 3\\mathrm{II} \\newline\n",
    "\\phantom{A}\n",
    "\\end{array}\n",
    "\\sim\n",
    "\\left[\\begin{array}{cc|c} \n",
    "   1 & 0 & 1  \\\\\n",
    "   0 & 1 & 1 \n",
    "\\end{array}\\right]\n",
    "\\begin{array}{c}\n",
    "\\frac 12 \\cdot \\mathrm{I} \\newline\n",
    "\\phantom{A}\n",
    "\\end{array}\n",
    "$$"
   ]
  },
  {
   "cell_type": "markdown",
   "id": "388dfa97-4154-4573-ac06-ca2398ae058c",
   "metadata": {},
   "source": [
    "Dette kan leses av som\n",
    "$$\n",
    "\\begin{array}{ccccc} \n",
    "   x & + & 0 & = & 1  \\\\\n",
    "   0 & + & y & = & 1 \n",
    "\\end{array}\n",
    "$$"
   ]
  },
  {
   "cell_type": "markdown",
   "id": "32f76628-3e4e-4fd8-8b47-729d24b4f8c2",
   "metadata": {},
   "source": [
    "### Eksempel"
   ]
  },
  {
   "cell_type": "markdown",
   "id": "560610ab-9ab4-40df-bfcd-4895f000f4d9",
   "metadata": {},
   "source": [
    "Se på ligningssystemet\n",
    "$$\n",
    "\\begin{array}{ccccccccccc}\n",
    "    3x_0 &+& x_1& +& 3x_2& +& x_3 &+ &4x_4& = &2 \\\\\n",
    "    4x_0 &+& x_1 & + &4x_2 &+ &x_3& + &5x_4 &= &3\n",
    "\\end{array}\n",
    "$$"
   ]
  },
  {
   "cell_type": "markdown",
   "id": "320b343c-ed69-49dc-9bae-61f8beb7a8ab",
   "metadata": {},
   "source": [
    "Som over kan vi \"redusere\" systemet på skjematisk form:\n",
    "\n",
    "$$\n",
    "\\left[\n",
    "\\begin{array}{ccccc|c}\n",
    "  3 & 1 & 3 & 1 & 4 & 2 \\\\\n",
    "  4 & 1 & 4 & 1 & 5 & 3\n",
    "\\end{array}\n",
    "\\right]\n",
    "\\sim\n",
    "\\left[\n",
    "\\begin{array}{ccccc|c}\n",
    "  3 & 1 & 3 & 1 & 4 & 2 \\\\\n",
    "  1 & 0 & 1 & 0 & 1 & 1\n",
    "\\end{array}\n",
    "\\right]\n",
    "\\begin{array}{c}\n",
    "\\\\\n",
    "\\mathrm{II} - \\mathrm{I}\n",
    "\\end{array}\n",
    "\\sim\n",
    "\\left[\n",
    "\\begin{array}{ccccc|c}\n",
    "  1 & 0 & 1 & 0 & 1 & 1 \\\\\n",
    "  3 & 1 & 3 & 1 & 4 & 2 \n",
    "\\end{array}\n",
    "\\right]\n",
    "\\begin{array}{c}\n",
    "\\mathrm{II} \n",
    "\\\\\n",
    "\\mathrm{I}\n",
    "\\end{array}\n",
    "\\sim\n",
    "\\left[\n",
    "\\begin{array}{ccccc|c}\n",
    "  1 & 0 & 1 & 0 & 1 & 1 \\\\\n",
    "  0 & 1 & 0 & 1 & 1 & -1 \n",
    "\\end{array}\n",
    "\\right]\n",
    "\\begin{array}{c}\n",
    "\\\\\n",
    "\\mathrm{II} -\n",
    "3\\mathrm{I}\n",
    "\\end{array}\n",
    "$$"
   ]
  },
  {
   "cell_type": "markdown",
   "id": "78920725-a4b1-4491-8c55-005dc796f85d",
   "metadata": {},
   "source": [
    "Setter vi inn de ukjente fås det ekvivalente systemet:\n",
    "$$\n",
    "\\begin{array}{ccccccccccc}\n",
    "    x_0 &+& & & x_2& +& &&x_4& = &1 \\\\\n",
    "     && x_1 & + & & &x_3& + &x_4 &= &-1\n",
    "\\end{array}\n",
    "$$"
   ]
  },
  {
   "cell_type": "markdown",
   "id": "c6ab6bca-5903-407c-b8f5-0780ba9ccd50",
   "metadata": {},
   "source": [
    "Her er det uendelig mange løsninger. Uansett hvilke verdier $x_2$, $x_3$ og $x_4$ får vi en løsning ved å sette $x_0 = 1 - x_2 - x_4$ og $x_1 = -1 - x_3 - x_4$."
   ]
  },
  {
   "cell_type": "markdown",
   "id": "cf481db9-6948-4122-8502-fa1c399a99a5",
   "metadata": {},
   "source": [
    "### Eksempel"
   ]
  },
  {
   "cell_type": "markdown",
   "id": "3d47b155-2c64-41da-baef-64c8caddffcd",
   "metadata": {},
   "source": [
    "Se på ligningssystemet\n",
    "$$\n",
    "\\begin{array}{ccccccccccc}\n",
    "    3x_0 &+& x_1& +& 3x_2& +& x_3 &+ &4x_4& = &2 \\\\\n",
    "    3x_0 &+& x_1& +& 3x_2& +& x_3 &+ &4x_4& = &1\n",
    "\\end{array}\n",
    "$$"
   ]
  },
  {
   "cell_type": "markdown",
   "id": "1e6d87b7-6cec-4192-abde-1cd75e7b3ed3",
   "metadata": {},
   "source": [
    "Vi ser umiddelbart at dette ikke kan gå bra siden det er umulig å ha $2 = 1$."
   ]
  },
  {
   "cell_type": "markdown",
   "id": "07539cb9-c9a9-4280-891b-83562e98bfe1",
   "metadata": {},
   "source": [
    "La oss likevel se hva som skjer når vi prøver å \"redusere\" dette systemet på skjematisk form:"
   ]
  },
  {
   "cell_type": "markdown",
   "id": "26b63e52-7085-4e26-a904-cbec5b056a18",
   "metadata": {},
   "source": [
    "$$\n",
    "\\left[\n",
    "\\begin{array}{ccccc|c}\n",
    "  3 & 1 & 3 & 1 & 4 & 2 \\\\\n",
    "  3 & 1 & 3 & 1 & 4 & 1 \n",
    "\\end{array}\n",
    "\\right]\n",
    "\\sim\n",
    "\\left[\n",
    "\\begin{array}{ccccc|c}\n",
    "  3 & 1 & 3 & 1 & 4 & 2 \\\\\n",
    "  0 & 0 & 0 & 0 & 0 & -1\n",
    "\\end{array}\n",
    "\\right]\n",
    "\\begin{array}{c}\n",
    "\\\\\n",
    "\\mathrm{II} - \\mathrm{I}\n",
    "\\end{array}\n",
    "$$"
   ]
  },
  {
   "cell_type": "markdown",
   "id": "774d2e1c-4f6d-4295-82fa-cbc77b615a8c",
   "metadata": {},
   "source": [
    "Her er vi kommet frem til at hvis ligningssystemet har en løsning da er $0 = -1$. Siden det ikke er riktig har systemet ingen løsning!"
   ]
  },
  {
   "cell_type": "markdown",
   "id": "7b2ac2be-d123-45c3-932f-e85bbc631a69",
   "metadata": {},
   "source": [
    "### Eksempel"
   ]
  },
  {
   "cell_type": "markdown",
   "id": "00c6e1c0-b0a7-431f-a80b-8edb2b9bb254",
   "metadata": {},
   "source": [
    "Se på ligningssystemet\n",
    "$$\n",
    "\\begin{array}{ccccccc}\n",
    "    1x_0 &+& 2x_1& +& 3x_2& = &2 \\\\\n",
    "    4x_0 &+& 5x_1& +& 6x_2& = &5 \\\\\n",
    "    7x_0 &+& 8x_1& +& 9x_2& = &8 \n",
    "\\end{array}\n",
    "$$\n"
   ]
  },
  {
   "cell_type": "markdown",
   "id": "e1f4226d-b293-4325-9b04-fbcef1a45139",
   "metadata": {},
   "source": [
    "Gauss Jordan reduksjon blir\n",
    "\n",
    "$$\n",
    "\\left[\n",
    "\\begin{array}{ccc|c}\n",
    "    1 & 2 & 3 & 2 \\\\\n",
    "    4 & 5 & 6 & 5 \\\\\n",
    "    7 & 8 & 9 & 8\n",
    "\\end{array}\n",
    "\\right]\n",
    "\\sim\n",
    "\\left[\n",
    "\\begin{array}{ccc|c}\n",
    "    1 & 2 & 3 & 2 \\\\\n",
    "    0 & -3 & -6 & -3 \\\\\n",
    "    0 & -6 & -12 & -6\n",
    "\\end{array}\n",
    "\\right]\n",
    "\\begin{array}{c}\n",
    "    \\\\\n",
    "    \\mathrm{II} - 4\\mathrm{I} \\\\\n",
    "    \\mathrm{III} - 7\\mathrm{I} \n",
    "\\end{array}\n",
    "\\sim\n",
    "\\left[\n",
    "\\begin{array}{ccc|c}\n",
    "    1 & 2 & 3 & 2 \\\\\n",
    "    0 & 1 & 2 & 1 \\\\\n",
    "    0 & 0 & 0 & 0\n",
    "\\end{array}\n",
    "\\right]\n",
    "\\begin{array}{c}\n",
    "    \\\\\n",
    "    -\\mathrm{II}/3\\\\\n",
    "    \\mathrm{III} - 2\\mathrm{II} \n",
    "\\end{array}\n",
    "\\sim\n",
    "\\left[\n",
    "\\begin{array}{ccc|c}\n",
    "    1 & 0 & -1 & 0 \\\\\n",
    "    0 & 1 & 2 & 1 \\\\\n",
    "    0 & 0 & 0 & 0\n",
    "\\end{array}\n",
    "\\right]\n",
    "\\begin{array}{c}\n",
    "    \\mathrm{I} - 2\\mathrm{II}\\\\ \n",
    "    \\phantom{A}\\\\\n",
    "    \\phantom{A}\n",
    "\\end{array}\n",
    "$$"
   ]
  },
  {
   "cell_type": "markdown",
   "id": "5a9cc301-f3f7-4b11-bc7e-cd2aa2d2f41c",
   "metadata": {},
   "source": [
    "Her leser vi av\n",
    "$$\n",
    "\\begin{array}{cccccccc}\n",
    "    x_0 &-& & & x_2& = &0 \\\\\n",
    "     && x_1& +& 2x_2& = &1 \\\\\n",
    "    &&&&0& = &0 \n",
    "\\end{array}\n",
    "$$"
   ]
  },
  {
   "cell_type": "markdown",
   "id": "370ce78e-1b4a-42ee-9dc0-3badd2380f86",
   "metadata": {},
   "source": [
    "Uansett verdien til $x_2$ har vi en løsning der $x_0 = x_2$ og $x_1 = 1 - 2x_2$."
   ]
  },
  {
   "cell_type": "code",
   "execution_count": null,
   "id": "da24e4bf-0f68-4933-81a3-6aaad8d54945",
   "metadata": {},
   "outputs": [],
   "source": []
  }
 ],
 "metadata": {
  "kernelspec": {
   "display_name": "Python 3 (ipykernel)",
   "language": "python",
   "name": "python3"
  },
  "language_info": {
   "codemirror_mode": {
    "name": "ipython",
    "version": 3
   },
   "file_extension": ".py",
   "mimetype": "text/x-python",
   "name": "python",
   "nbconvert_exporter": "python",
   "pygments_lexer": "ipython3",
   "version": "3.12.8"
  }
 },
 "nbformat": 4,
 "nbformat_minor": 5
}
