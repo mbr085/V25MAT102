{
 "cells": [
  {
   "cell_type": "markdown",
   "id": "79e3aa62-8e44-49e2-b7de-d57902590fe0",
   "metadata": {},
   "source": [
    "# Gauss Jordan eliminasjon (MIP 10.4)"
   ]
  },
  {
   "cell_type": "markdown",
   "id": "4a1778a3-2960-4074-bda8-1acddaf7109e",
   "metadata": {},
   "source": [
    "## Eksempel"
   ]
  },
  {
   "cell_type": "markdown",
   "id": "e7acd5ab-9edc-47cc-9466-9d8fca527aa0",
   "metadata": {},
   "source": [
    "Se på\n",
    "$$\n",
    "\\begin{align}\n",
    "2x + 3y  &= 5 \\newline\n",
    "4x + 5y &= 9\n",
    "\\end{align}\n",
    "$$"
   ]
  },
  {
   "cell_type": "markdown",
   "id": "0b16ccea-fc35-4164-abd3-97fba1ca21cc",
   "metadata": {},
   "source": [
    "Bemerk at følgende manipulasjoner ikke vil endre på løsningene til systemet\n",
    "1. ta et tall gange den ene raden og leg til den andre raden\n",
    "2. bytt om rader\n",
    "3. gang en rad med et tall $\\ne 0$"
   ]
  },
  {
   "cell_type": "markdown",
   "id": "1a5c3bd5-c093-43f6-84eb-3814a3ecd72b",
   "metadata": {},
   "source": [
    "La os gjøre dette:\n",
    "\n",
    "Trekk to ganger den første raden fra den andre raden og få:\n",
    "$$\n",
    "\\begin{matrix}\n",
    "2x & + & 3y  &=& 5 \\newline\n",
    "   &-& y &=& -1\n",
    "\\end{matrix}\n",
    "$$"
   ]
  },
  {
   "cell_type": "markdown",
   "id": "7785e189-ea0c-4b1d-a029-a8ff63086b8c",
   "metadata": {},
   "source": [
    "Legg nå tre ganger den andre raden til den første raden og få:\n",
    "$$\n",
    "\\begin{matrix}\n",
    "2x &  &   &=& 2 \\newline\n",
    "   &-& y &=& -1\n",
    "\\end{matrix}\n",
    "$$"
   ]
  },
  {
   "cell_type": "markdown",
   "id": "b92d0f83-7147-40b3-b420-82dae5241857",
   "metadata": {},
   "source": [
    "Gang til slutt første raden med en halv og andre raden med minus en:\n",
    "$$\n",
    "\\begin{matrix}\n",
    "x &  &   &=& 1 \\newline\n",
    "   && y &=& 1\n",
    "\\end{matrix}\n",
    "$$"
   ]
  },
  {
   "cell_type": "markdown",
   "id": "84447743-59b0-44cd-b35c-abd19f494750",
   "metadata": {},
   "source": [
    "## Skjematisk form"
   ]
  },
  {
   "cell_type": "markdown",
   "id": "ba789184-2429-41c3-bb50-a3aa2a040fb4",
   "metadata": {},
   "source": [
    "Siden symbolene $x$ og $y$ hver gang står på samme posisjon i ligningssystemene kan vi la dem være innforståtte og skrive regningen over på skjematisk form:"
   ]
  },
  {
   "cell_type": "markdown",
   "id": "b918d369-40bd-4257-9371-d6d3af9af99c",
   "metadata": {},
   "source": [
    "$$\n",
    "\\left[\\begin{array}{cc|c} \n",
    "   2 & 3 & 5  \\\\\n",
    "   4 & 5 & 9 \n",
    "\\end{array}\\right]\n",
    "\\sim\n",
    "\\left[\\begin{array}{cc|c} \n",
    "   2 & 3 & 5  \\\\\n",
    "   0 & -1 & -1 \n",
    "\\end{array}\\right]\n",
    "\\begin{array}{c} \n",
    "     \\\\\n",
    "   \\mathrm{II} - 2 \\mathrm{I}\n",
    "\\end{array}\n",
    "\\sim\n",
    "\\left[\\begin{array}{cc|c} \n",
    "   2 & 0 & 2  \\\\\n",
    "   0 & -1 & -1 \n",
    "\\end{array}\\right]\n",
    "\\begin{array}{c}\n",
    "\\mathrm{I} + 3\\mathrm{II} \\newline\n",
    "\\phantom{A}\n",
    "\\end{array}\n",
    "\\sim\n",
    "\\left[\\begin{array}{cc|c} \n",
    "   1 & 0 & 1  \\\\\n",
    "   0 & 1 & 1 \n",
    "\\end{array}\\right]\n",
    "\\begin{array}{c}\n",
    "\\frac 12 \\cdot \\mathrm{I} \\newline\n",
    "\\phantom{A}\n",
    "\\end{array}\n",
    "$$"
   ]
  },
  {
   "cell_type": "markdown",
   "id": "388dfa97-4154-4573-ac06-ca2398ae058c",
   "metadata": {},
   "source": [
    "Dette kan leses av som\n",
    "$$\n",
    "\\begin{array}{ccccc} \n",
    "   x & + & 0 & = & 1  \\\\\n",
    "   0 & + & y & = & 1 \n",
    "\\end{array}\n",
    "$$"
   ]
  },
  {
   "cell_type": "markdown",
   "id": "32f76628-3e4e-4fd8-8b47-729d24b4f8c2",
   "metadata": {},
   "source": [
    "### Eksempel"
   ]
  },
  {
   "cell_type": "markdown",
   "id": "560610ab-9ab4-40df-bfcd-4895f000f4d9",
   "metadata": {},
   "source": [
    "Se på ligningssystemet\n",
    "$$\n",
    "\\begin{array}{ccccccccccc}\n",
    "    3x_0 &+& x_1& +& 3x_2& +& x_3 &+ &4x_4& = &2 \\\\\n",
    "    4x_0 &+& x_1 & + &4x_2 &+ &x_3& + &5x_4 &= &3\n",
    "\\end{array}\n",
    "$$"
   ]
  },
  {
   "cell_type": "markdown",
   "id": "320b343c-ed69-49dc-9bae-61f8beb7a8ab",
   "metadata": {},
   "source": [
    "Som over kan vi \"redusere\" systemet på skjematisk form:\n",
    "\n",
    "$$\n",
    "\\left[\n",
    "\\begin{array}{ccccc|c}\n",
    "  3 & 1 & 3 & 1 & 4 & 2 \\\\\n",
    "  4 & 1 & 4 & 1 & 5 & 3\n",
    "\\end{array}\n",
    "\\right]\n",
    "\\sim\n",
    "\\left[\n",
    "\\begin{array}{ccccc|c}\n",
    "  3 & 1 & 3 & 1 & 4 & 2 \\\\\n",
    "  0 & -1/3 & 0 & -1/3 & -1/3 & 1/3\n",
    "\\end{array}\n",
    "\\right]\n",
    "\\begin{array}{c}\n",
    "\\\\\n",
    "\\mathrm{II} - 4\\mathrm{I}/3\n",
    "\\end{array}\n",
    "\\sim\n",
    "\\left[\n",
    "\\begin{array}{ccccc|c}\n",
    "  3 & 1 & 3 & 1 & 4 & 2 \\\\\n",
    "  0 & 1 & 0 & 1 & 1 & -1\n",
    "\\end{array}\n",
    "\\right]\n",
    "\\begin{array}{c}\n",
    "\\\\\n",
    "-3\\mathrm{II}\n",
    "\\end{array}\n",
    "\\sim\n",
    "\\left[\n",
    "\\begin{array}{ccccc|c}\n",
    "  3 & 0 & 3 & 0 & 3 & 3 \\\\\n",
    "  0 & 1 & 0 & 1 & 1 & -1 \n",
    "\\end{array}\n",
    "\\right]\n",
    "\\begin{array}{c}\n",
    "\\mathrm{I} -\n",
    "\\mathrm{II}\\\\\n",
    "\\phantom{ }\n",
    "\\end{array}\n",
    "\\sim\n",
    "\\left[\n",
    "\\begin{array}{ccccc|c}\n",
    "  1 & 0 & 1 & 0 & 1 & 1 \\\\\n",
    "  0 & 1 & 0 & 1 & 1 & -1 \n",
    "\\end{array}\n",
    "\\right]\n",
    "\\begin{array}{c}\n",
    "\\mathrm{I}/3\n",
    "\\\\\n",
    "\\phantom{ }\n",
    "\\end{array}\n",
    "$$"
   ]
  },
  {
   "cell_type": "markdown",
   "id": "78920725-a4b1-4491-8c55-005dc796f85d",
   "metadata": {},
   "source": [
    "Setter vi inn de ukjente fås det ekvivalente systemet:\n",
    "$$\n",
    "\\begin{array}{ccccccccccc}\n",
    "    x_0 &+& & & x_2& +& &&x_4& = &1 \\\\\n",
    "     && x_1 & + & & &x_3& + &x_4 &= &-1\n",
    "\\end{array}\n",
    "$$"
   ]
  },
  {
   "cell_type": "markdown",
   "id": "c6ab6bca-5903-407c-b8f5-0780ba9ccd50",
   "metadata": {},
   "source": [
    "Her er det uendelig mange løsninger. Uansett hvilke verdier $x_2$, $x_3$ og $x_4$ får vi en løsning ved å sette $x_0 = 1 - x_2 - x_4$ og $x_1 = -1 - x_3 - x_4$."
   ]
  },
  {
   "cell_type": "markdown",
   "id": "2726b84c-9165-44b2-86e3-0af47a131161",
   "metadata": {},
   "source": [
    "## Målet med Gauss Jordan eliminasjon"
   ]
  },
  {
   "cell_type": "markdown",
   "id": "ec1e3ce4-beb7-4782-9281-b6c455c6cd7b",
   "metadata": {},
   "source": [
    "På første rad vil vi ha et ettall så langt til venstre som mulig og nuller under det. Deretter vil vi på andre rad ha et ettall så langt til venstre som mulig og nuller under og over det. Sådan fortsettes med resten av radene."
   ]
  },
  {
   "cell_type": "markdown",
   "id": "ccd1fb1b-4496-4e28-8e7b-49fa64f682c9",
   "metadata": {},
   "source": [
    "## Python kode"
   ]
  },
  {
   "cell_type": "code",
   "execution_count": 1,
   "id": "7ac435e2-b62a-444d-a2db-982c7e81a3e5",
   "metadata": {},
   "outputs": [],
   "source": [
    "import numpy as np\n",
    "\n",
    "def normer_forste_element(vektor):\n",
    "    \"\"\"\n",
    "    Normaliserer en vektor ved å dele alle elementer på det første ikke-null elementet.\n",
    "    \n",
    "    Parametere:\n",
    "        vektor (np.ndarray): En 1D Numpy-array som skal normaliseres.\n",
    "    \n",
    "    Returnerer:\n",
    "        np.ndarray: En normalisert vektor der det første ikke-null elementet er 1.\n",
    "    \"\"\"\n",
    "    # Finn indeksen til det første elementet i vektoren som ikke er null\n",
    "    forste_ikke_null_indeks = np.argmax(vektor != 0)\n",
    "    \n",
    "    # Hent verdien til det første ikke-null elementet\n",
    "    forste_ikke_null_element = vektor[forste_ikke_null_indeks]\n",
    "    \n",
    "    # Returner den normaliserte vektoren\n",
    "    return vektor / forste_ikke_null_element\n",
    "\n",
    "def gauss_jordan(matrise, epsilon=1e-8):\n",
    "    \"\"\"\n",
    "    Utfører Gauss-Jordan eliminasjon på en gitt matrise.\n",
    "    \n",
    "    Parametere:\n",
    "        matrise (np.ndarray): En 2D Numpy-array som representerer matrisen.\n",
    "        epsilon (float): En liten verdi for å håndtere numerisk presisjon.\n",
    "    \n",
    "    Returnerer:\n",
    "        np.ndarray: En rekkeredusert matrise i redusert trappeform.\n",
    "    \"\"\"\n",
    "    # Sett svært små verdier til null for å unngå numeriske feil\n",
    "    matrise[np.abs(matrise) < epsilon] = 0\n",
    "    \n",
    "    # Hvis matrisen kun består av nuller, returner den uendret\n",
    "    if np.all(matrise == 0):\n",
    "        return matrise\n",
    "    \n",
    "    # Hvis matrisen har én rad, normaliser den første radens første ikke-null element\n",
    "    elif len(matrise) == 1:\n",
    "        matrise[0] = normer_forste_element(matrise[0])\n",
    "        return matrise\n",
    "    \n",
    "    # Beregn radenes summer for å normalisere matrisen (gjør tallene mer håndterbare)\n",
    "    rad_maksimummer = np.max(np.abs(matrise), axis=1)\n",
    "    matrise = matrise / rad_maksimummer[:, None]  # Normaliser hver rad\n",
    "    \n",
    "    # Finn kolonner som inneholder ikke-null elementer\n",
    "    ikke_null_kolonner = np.any(matrise != 0, axis=0)\n",
    "    \n",
    "    # Finn indeksen til den første kolonnen med ikke-null elementer\n",
    "    forste_ikke_null_kolonne = np.argmax(ikke_null_kolonner)\n",
    "    \n",
    "    # Finn indeksen til raden med største verdi i den valgte kolonnen (pivot rad)\n",
    "    pivot_rad_indeks = np.argmax(matrise[:, forste_ikke_null_kolonne])\n",
    "    \n",
    "    # Normaliser pivot-raden\n",
    "    pivot_rad = normer_forste_element(matrise[pivot_rad_indeks])\n",
    "    \n",
    "    # Bytt plass på pivot-raden og den første raden\n",
    "    matrise[pivot_rad_indeks] = matrise[0]\n",
    "    matrise[0] = pivot_rad\n",
    "    \n",
    "    # Utfør eliminering for å gjøre alle elementene under pivoten null\n",
    "    matrise[1:] -= (matrise[1:, 0] / matrise[0, forste_ikke_null_kolonne])[:, None] * matrise[0]\n",
    "    \n",
    "    # Kall Gauss-Jordan rekursivt på den nedre delmatrisen\n",
    "    matrise[1:, 1:] = gauss_jordan(matrise[1:, 1:])\n",
    "    \n",
    "    # Gjør den første raden null over pivot-posisjonene til de øvrige radene.\n",
    "    for rad in matrise[1:]:\n",
    "        if np.any(rad != 0):  # Hvis raden ikke er null\n",
    "            # Finn indeksen til det første ikke-null elementet i raden\n",
    "            forste_ikke_null_kolonne = np.argmax(rad != 0)\n",
    "            \n",
    "            # Trekk fra et multiplum av denne raden for å gjøre elementet over pivot null\n",
    "            matrise[0] -= (matrise[0, forste_ikke_null_kolonne] / rad[forste_ikke_null_kolonne]) * rad\n",
    "    \n",
    "    # Returner den resulterende matrisen\n",
    "    return matrise\n"
   ]
  },
  {
   "cell_type": "markdown",
   "id": "cf481db9-6948-4122-8502-fa1c399a99a5",
   "metadata": {},
   "source": [
    "## Eksempel"
   ]
  },
  {
   "cell_type": "markdown",
   "id": "3d47b155-2c64-41da-baef-64c8caddffcd",
   "metadata": {},
   "source": [
    "Se på ligningssystemet\n",
    "$$\n",
    "\\begin{array}{ccccccccccc}\n",
    "    3x_0 &+& x_1& +& 3x_2& +& x_3 &+ &4x_4& = &2 \\\\\n",
    "    3x_0 &+& x_1& +& 3x_2& +& x_3 &+ &4x_4& = &1\n",
    "\\end{array}\n",
    "$$"
   ]
  },
  {
   "cell_type": "markdown",
   "id": "1e6d87b7-6cec-4192-abde-1cd75e7b3ed3",
   "metadata": {},
   "source": [
    "Vi ser umiddelbart at dette ikke kan gå bra siden det er umulig å ha $2 = 1$."
   ]
  },
  {
   "cell_type": "markdown",
   "id": "07539cb9-c9a9-4280-891b-83562e98bfe1",
   "metadata": {},
   "source": [
    "La oss likevel se hva som skjer når vi prøver å \"redusere\" dette systemet på skjematisk form:"
   ]
  },
  {
   "cell_type": "markdown",
   "id": "26b63e52-7085-4e26-a904-cbec5b056a18",
   "metadata": {},
   "source": [
    "$$\n",
    "\\left[\n",
    "\\begin{array}{ccccc|c}\n",
    "  3 & 1 & 3 & 1 & 4 & 2 \\\\\n",
    "  3 & 1 & 3 & 1 & 4 & 1 \n",
    "\\end{array}\n",
    "\\right]\n",
    "\\sim\n",
    "\\left[\n",
    "\\begin{array}{ccccc|c}\n",
    "  3 & 1 & 3 & 1 & 4 & 2 \\\\\n",
    "  0 & 0 & 0 & 0 & 0 & -1\n",
    "\\end{array}\n",
    "\\right]\n",
    "\\begin{array}{c}\n",
    "\\\\\n",
    "\\mathrm{II} - \\mathrm{I}\n",
    "\\end{array}\n",
    "\\sim\n",
    "\\left[\n",
    "\\begin{array}{ccccc|c}\n",
    "  1 & 1/3 & 1 & 1/3 & 4/3 & 2/3 \\\\\n",
    "  0 & 0 & 0 & 0 & 0 & -1\n",
    "\\end{array}\n",
    "\\right]\n",
    "\\begin{array}{c}\n",
    "\\mathrm{I} / 3\n",
    "\\\\\n",
    "\\phantom{ }\n",
    "\\end{array}\n",
    "$$"
   ]
  },
  {
   "cell_type": "markdown",
   "id": "774d2e1c-4f6d-4295-82fa-cbc77b615a8c",
   "metadata": {},
   "source": [
    "Her er vi kommet frem til at hvis ligningssystemet har en løsning da er $0 = -1$. Siden det ikke er riktig har systemet ingen løsning!"
   ]
  },
  {
   "cell_type": "code",
   "execution_count": 2,
   "id": "331f1ef9-429b-44a5-9a73-acfe3d4f671d",
   "metadata": {},
   "outputs": [
    {
     "data": {
      "text/plain": [
       "array([[ 1.        ,  0.33333333,  1.        ,  0.33333333,  1.33333333,\n",
       "         0.        ],\n",
       "       [ 0.        , -0.        , -0.        , -0.        , -0.        ,\n",
       "         1.        ]])"
      ]
     },
     "execution_count": 2,
     "metadata": {},
     "output_type": "execute_result"
    }
   ],
   "source": [
    "# La oss bruke koden vår på denne matrisen\n",
    "\n",
    "A = np.array([\n",
    "    [3, 1, 3, 1, 4, 2],    \n",
    "    [3, 1, 3, 1, 4, 1]\n",
    "])\n",
    "\n",
    "gauss_jordan(A)"
   ]
  },
  {
   "cell_type": "markdown",
   "id": "2f623fa4-48ba-48a0-93b5-8be803dda940",
   "metadata": {},
   "source": [
    "## Kode som leser av den utvidede reduserte matrisen og gir løsninger"
   ]
  },
  {
   "cell_type": "code",
   "execution_count": 3,
   "id": "ba09e98a-6ab4-4d70-ac7e-342c41a364e5",
   "metadata": {},
   "outputs": [],
   "source": [
    "def pivot_posisjoner(matrise):\n",
    "    \"\"\"\n",
    "    Finner pivotposisjonene i en rekkeredusert matrise.\n",
    "    \"\"\"\n",
    "    pivot_sett = set()\n",
    "    pivot_rader = []\n",
    "    pivot_kolonner = []\n",
    "    for rad_indeks, rad in enumerate(matrise):\n",
    "        if np.any(rad != 0):\n",
    "            første_ikke_null_kolonne = np.argmax(rad != 0)\n",
    "            pivot_rader.append(rad_indeks)\n",
    "            pivot_kolonner.append(første_ikke_null_kolonne)\n",
    "    return pivot_rader, pivot_kolonner\n",
    "\n",
    "def frie_parametre(matrise):\n",
    "    \"\"\"\n",
    "    Finner bundne og frie parametere i en rekkeredusert matrise.\n",
    "    \"\"\"\n",
    "    _, pivot_kolonner = pivot_posisjoner(matrise)\n",
    "    alle_kolonner = set(range(matrise.shape[1]))\n",
    "    return sorted(alle_kolonner.difference(pivot_kolonner))\n",
    "\n",
    "def null_rom(matrise):\n",
    "    \"\"\"\n",
    "    Finner en basis for nullrommet til en matrise.\n",
    "    \"\"\"\n",
    "    nullrom_basis = []\n",
    "    redusert_matrise = gauss_jordan(matrise)\n",
    "    pivot_rader, pivot_kolonner = pivot_posisjoner(redusert_matrise)\n",
    "    frie = frie_parametre(redusert_matrise)\n",
    "    \n",
    "    for fri in frie:\n",
    "        vektor = np.zeros((matrise.shape[1], 1))\n",
    "        vektor[fri] = 1\n",
    "        for rad, kolonne in zip(pivot_rader, pivot_kolonner):\n",
    "            vektor[kolonne] = -np.sum((redusert_matrise @ vektor)[rad])\n",
    "        nullrom_basis.append(vektor)\n",
    "    \n",
    "    return nullrom_basis\n",
    "\n",
    "def partikulaer_losning(koeffisientmatrise, høyreside=None):\n",
    "    \"\"\"\n",
    "    Finner en partikulær løsning til ligningssystemet Ax = b.\n",
    "    \"\"\"\n",
    "    if høyreside is None:\n",
    "        høyreside = np.zeros(koeffisientmatrise.shape[1])\n",
    "    if len(høyreside.shape) == 1:\n",
    "        høyreside = høyreside[:, None]\n",
    "    \n",
    "    utvidet_matrise = gauss_jordan(np.hstack([koeffisientmatrise, høyreside]))\n",
    "    radindekser, kolonneindekser = pivot_posisjoner(utvidet_matrise[:, :-1])\n",
    "    løsning = np.zeros((koeffisientmatrise.shape[1], 1))\n",
    "    redusert_høyreside = utvidet_matrise[:, -1]\n",
    "    \n",
    "    for rad, kolonne in zip(radindekser, kolonneindekser):\n",
    "        løsning[kolonne] = redusert_høyreside[rad]\n",
    "\n",
    "    assert np.allclose(koeffisientmatrise @ løsning[None, :], høyreside), \"Det finnes ingen løsning til det lineære ligningssystemet\"\n",
    "    return løsning\n"
   ]
  },
  {
   "cell_type": "markdown",
   "id": "d5d3189b-607e-433c-a299-ddf5ffaae827",
   "metadata": {},
   "source": [
    "## Eksempel"
   ]
  },
  {
   "cell_type": "markdown",
   "id": "eb3c32ff-dd4a-4d67-ba79-dc59af98d7ba",
   "metadata": {},
   "source": [
    "Se på\n",
    "$$\n",
    "\\begin{align}\n",
    "2x + 3y  &= 5 \\newline\n",
    "4x + 5y &= 9\n",
    "\\end{align}\n",
    "$$"
   ]
  },
  {
   "cell_type": "markdown",
   "id": "313f503a-074b-4e8f-bee0-8a6976154239",
   "metadata": {},
   "source": [
    "Vi kan løse dette med koden vår slik som dette:"
   ]
  },
  {
   "cell_type": "code",
   "execution_count": 4,
   "id": "e2ec31ad-b0e6-4180-bad0-c9a0a4aae6c8",
   "metadata": {},
   "outputs": [],
   "source": [
    "A = np.array([\n",
    "    [2, 3],\n",
    "    [4, 5]\n",
    "])\n",
    "\n",
    "b = np.array([5, 9])"
   ]
  },
  {
   "cell_type": "code",
   "execution_count": 5,
   "id": "9bb68259-a668-42ea-8349-7a985f472797",
   "metadata": {},
   "outputs": [],
   "source": [
    "x = partikulaer_losning(A, b)"
   ]
  },
  {
   "cell_type": "code",
   "execution_count": 6,
   "id": "bb73b933-8b8b-430c-b73b-c33f37f574b6",
   "metadata": {},
   "outputs": [
    {
     "data": {
      "text/plain": [
       "array([[5.],\n",
       "       [9.]])"
      ]
     },
     "execution_count": 6,
     "metadata": {},
     "output_type": "execute_result"
    }
   ],
   "source": [
    "A @ x"
   ]
  },
  {
   "cell_type": "markdown",
   "id": "63fe0364-53c6-4cb0-895b-ac9ede638e17",
   "metadata": {},
   "source": [
    "For å vite hvor mange løsninger det finnes kan vi se på nullrommet"
   ]
  },
  {
   "cell_type": "code",
   "execution_count": 7,
   "id": "5e11f7af-b188-44a5-8c31-907073f10458",
   "metadata": {},
   "outputs": [
    {
     "data": {
      "text/plain": [
       "[]"
      ]
     },
     "execution_count": 7,
     "metadata": {},
     "output_type": "execute_result"
    }
   ],
   "source": [
    "null_rom(A)"
   ]
  },
  {
   "cell_type": "markdown",
   "id": "1a77d6f3-66f6-4aac-acc4-71c1f58a4730",
   "metadata": {},
   "source": [
    "Dette betyr at nullvektoren $0$ er eneste vektor $\\vec v$ med $A \\cdot \\vec = 0$ "
   ]
  },
  {
   "cell_type": "markdown",
   "id": "af16febc-36cc-496d-8af0-664439c8bb7c",
   "metadata": {},
   "source": [
    "## Eksempel"
   ]
  },
  {
   "cell_type": "markdown",
   "id": "facb353c-af24-4547-b47c-dcaed6035400",
   "metadata": {},
   "source": [
    "Se på ligningssystemet\n",
    "$$\n",
    "\\begin{array}{ccccccc}\n",
    "    1x_0 &+& 2x_1& +& 3x_2& = &2 \\\\\n",
    "    4x_0 &+& 5x_1& +& 6x_2& = &5 \\\\\n",
    "    7x_0 &+& 8x_1& +& 9x_2& = &8 \n",
    "\\end{array}\n",
    "$$\n"
   ]
  },
  {
   "cell_type": "markdown",
   "id": "8de6b869-a885-4d87-ba8f-a03c3e109f00",
   "metadata": {},
   "source": [
    "Gauss Jordan reduksjon blir\n",
    "\n",
    "$$\n",
    "\\left[\n",
    "\\begin{array}{ccc|c}\n",
    "    1 & 2 & 3 & 2 \\\\\n",
    "    4 & 5 & 6 & 5 \\\\\n",
    "    7 & 8 & 9 & 8\n",
    "\\end{array}\n",
    "\\right]\n",
    "\\sim\n",
    "\\left[\n",
    "\\begin{array}{ccc|c}\n",
    "    1 & 2 & 3 & 2 \\\\\n",
    "    0 & -3 & -6 & -3 \\\\\n",
    "    0 & -6 & -12 & -6\n",
    "\\end{array}\n",
    "\\right]\n",
    "\\begin{array}{c}\n",
    "    \\\\\n",
    "    \\mathrm{II} - 4\\mathrm{I} \\\\\n",
    "    \\mathrm{III} - 7\\mathrm{I} \n",
    "\\end{array}\n",
    "\\sim\n",
    "\\left[\n",
    "\\begin{array}{ccc|c}\n",
    "    1 & 2 & 3 & 2 \\\\\n",
    "    0 & 1 & 2 & 1 \\\\\n",
    "    0 & 0 & 0 & 0\n",
    "\\end{array}\n",
    "\\right]\n",
    "\\begin{array}{c}\n",
    "    \\\\\n",
    "    -\\mathrm{II}/3\\\\\n",
    "    \\mathrm{III} - 2\\mathrm{II} \n",
    "\\end{array}\n",
    "\\sim\n",
    "\\left[\n",
    "\\begin{array}{ccc|c}\n",
    "    1 & 0 & -1 & 0 \\\\\n",
    "    0 & 1 & 2 & 1 \\\\\n",
    "    0 & 0 & 0 & 0\n",
    "\\end{array}\n",
    "\\right]\n",
    "\\begin{array}{c}\n",
    "    \\mathrm{I} - 2\\mathrm{II}\\\\ \n",
    "    \\phantom{A}\\\\\n",
    "    \\phantom{A}\n",
    "\\end{array}\n",
    "$$"
   ]
  },
  {
   "cell_type": "markdown",
   "id": "a2687521-9858-4352-bee3-dfb1859a1a27",
   "metadata": {},
   "source": [
    "Her leser vi av\n",
    "$$\n",
    "\\begin{array}{cccccccc}\n",
    "    x_0 &-& & & x_2& = &0 \\\\\n",
    "     && x_1& +& 2x_2& = &1 \\\\\n",
    "    &&&&0& = &0 \n",
    "\\end{array}\n",
    "$$"
   ]
  },
  {
   "cell_type": "markdown",
   "id": "cc273f86-3584-4fd5-ab5e-6c2b7ff8d924",
   "metadata": {},
   "source": [
    "Uansett verdien til $x_2$ har vi en løsning der $x_0 = x_2$ og $x_1 = 1 - 2x_2$."
   ]
  },
  {
   "cell_type": "markdown",
   "id": "4b2f6adc-8442-4376-92ce-0876b61a6da5",
   "metadata": {},
   "source": [
    "Her skriver vi igjen inn koeffisientmatrisen og høyresiden:"
   ]
  },
  {
   "cell_type": "code",
   "execution_count": 8,
   "id": "efd32379-5ed7-40b9-97d3-b653a6f270e0",
   "metadata": {},
   "outputs": [],
   "source": [
    "A = np.array([\n",
    "    [1., 2, 3],\n",
    "    [4, 5, 6],\n",
    "    [7, 8, 9]\n",
    "])\n",
    "\n",
    "b = np.array([2, 5, 8])"
   ]
  },
  {
   "cell_type": "code",
   "execution_count": 9,
   "id": "c79f46fc-e37c-4026-a654-f23b54566a81",
   "metadata": {},
   "outputs": [],
   "source": [
    "x = partikulaer_losning(A, b)"
   ]
  },
  {
   "cell_type": "code",
   "execution_count": 10,
   "id": "bc47d32b-3c3b-42c7-9652-8cbe872feabd",
   "metadata": {},
   "outputs": [
    {
     "data": {
      "text/plain": [
       "array([[0.],\n",
       "       [1.],\n",
       "       [0.]])"
      ]
     },
     "execution_count": 10,
     "metadata": {},
     "output_type": "execute_result"
    }
   ],
   "source": [
    "x"
   ]
  },
  {
   "cell_type": "code",
   "execution_count": 11,
   "id": "1340a1c6-992c-459b-a6b2-b226ef72c1bd",
   "metadata": {},
   "outputs": [
    {
     "data": {
      "text/plain": [
       "array([[2.],\n",
       "       [5.],\n",
       "       [8.]])"
      ]
     },
     "execution_count": 11,
     "metadata": {},
     "output_type": "execute_result"
    }
   ],
   "source": [
    "A @ x"
   ]
  },
  {
   "cell_type": "code",
   "execution_count": 12,
   "id": "55a0f82c-8a95-4b1e-a625-7689955e58f8",
   "metadata": {},
   "outputs": [],
   "source": [
    "null_rom_for_A = null_rom(A)"
   ]
  },
  {
   "cell_type": "code",
   "execution_count": 13,
   "id": "e0451cb7-b51d-4d5a-b212-cd54bbb57b49",
   "metadata": {},
   "outputs": [
    {
     "data": {
      "text/plain": [
       "[array([[ 1.],\n",
       "        [-2.],\n",
       "        [ 1.]])]"
      ]
     },
     "execution_count": 13,
     "metadata": {},
     "output_type": "execute_result"
    }
   ],
   "source": [
    "null_rom_for_A"
   ]
  },
  {
   "cell_type": "markdown",
   "id": "d6f6f541-a5dc-4f5c-8fd8-715e60b48cfd",
   "metadata": {},
   "source": [
    "Vi ser at det er en vektor $\\vec v$ forskjellig fra nullvektoren slik at $A \\cdot \\vec v = 0$"
   ]
  },
  {
   "cell_type": "code",
   "execution_count": 14,
   "id": "10b0cba0-b5de-42a8-9ce3-8f1c1c6d7dd9",
   "metadata": {},
   "outputs": [
    {
     "data": {
      "text/plain": [
       "array([[ 1.],\n",
       "       [-2.],\n",
       "       [ 1.]])"
      ]
     },
     "execution_count": 14,
     "metadata": {},
     "output_type": "execute_result"
    }
   ],
   "source": [
    "v = null_rom_for_A[0]\n",
    "v"
   ]
  },
  {
   "cell_type": "code",
   "execution_count": 15,
   "id": "d2a706a5-21c7-447d-9b39-012ec58855f9",
   "metadata": {},
   "outputs": [
    {
     "data": {
      "text/plain": [
       "array([[0.],\n",
       "       [0.],\n",
       "       [0.]])"
      ]
     },
     "execution_count": 15,
     "metadata": {},
     "output_type": "execute_result"
    }
   ],
   "source": [
    "A @ v"
   ]
  },
  {
   "attachments": {},
   "cell_type": "markdown",
   "id": "aba34256-02eb-459c-8fb3-6e00ae6e8a4d",
   "metadata": {},
   "source": [
    "Siden $A \\cdot \\vec v = \\vec 0$ har vi $A \\cdot(\\vec x + x_2 \\vec v) = A \\cdot \\vec x + x_2 A \\cdot \\vec v = A \\cdot \\vec x\n",
    "+ x_2 \\vec 0 = A \\cdot \\vec x = \\vec b$ der \n",
    "$$\\vec x + x_2 \\vec v =\n",
    "\\left[\\begin{array}{c}\n",
    "0 \\\\ 1 \\\\ 0 \\end{array}\\right]\n",
    "+\n",
    "x_2\n",
    "\\left[\\begin{array}{c}\n",
    "1 \\\\ -2 \\\\ 1 \\end{array}\\right]\n",
    "=\n",
    "\\left[\\begin{array}{c}\n",
    "x_2 \\\\ 1 - 2x_2 \\\\ x_2 \\end{array}\\right]\n",
    "$$\n",
    "Dette er de samme løsningene som vi fant for hånd."
   ]
  },
  {
   "cell_type": "markdown",
   "id": "1dd3c4dd-0a3b-4a3d-8d16-dd763ec6cf76",
   "metadata": {},
   "source": [
    "## Eksempel"
   ]
  },
  {
   "cell_type": "markdown",
   "id": "f9d8bb63-7848-45c0-8d65-d48e08a0ce69",
   "metadata": {},
   "source": [
    "Se på ligningssystemet\n",
    "$$\n",
    "\\begin{array}{ccccccccccc}\n",
    "    3x_0 &+& x_1& +& 3x_2& +& x_3 &+ &4x_4& = &2 \\\\\n",
    "    3x_0 &+& x_1& +& 3x_2& +& x_3 &+ &4x_4& = &1\n",
    "\\end{array}\n",
    "$$"
   ]
  },
  {
   "cell_type": "code",
   "execution_count": 16,
   "id": "0de9efaf-b0ed-4bc6-a41f-2bde1163a2df",
   "metadata": {},
   "outputs": [],
   "source": [
    "A = np.array([\n",
    "    [3, 1, 3, 1, 4],\n",
    "    [3, 1, 3, 1, 4],\n",
    "])\n",
    "\n",
    "b = np.array([2, 1])"
   ]
  },
  {
   "cell_type": "code",
   "execution_count": 17,
   "id": "6df6048c-292a-4e7e-b476-73d5e9fc2c4a",
   "metadata": {},
   "outputs": [
    {
     "ename": "AssertionError",
     "evalue": "Det finnes ingen løsning til det lineære ligningssystemet",
     "output_type": "error",
     "traceback": [
      "\u001b[0;31m---------------------------------------------------------------------------\u001b[0m",
      "\u001b[0;31mAssertionError\u001b[0m                            Traceback (most recent call last)",
      "Cell \u001b[0;32mIn[17], line 1\u001b[0m\n\u001b[0;32m----> 1\u001b[0m \u001b[43mpartikulaer_losning\u001b[49m\u001b[43m(\u001b[49m\u001b[43mA\u001b[49m\u001b[43m,\u001b[49m\u001b[43m \u001b[49m\u001b[43mb\u001b[49m\u001b[43m)\u001b[49m\n",
      "Cell \u001b[0;32mIn[3], line 58\u001b[0m, in \u001b[0;36mpartikulaer_losning\u001b[0;34m(koeffisientmatrise, høyreside)\u001b[0m\n\u001b[1;32m     55\u001b[0m \u001b[38;5;28;01mfor\u001b[39;00m rad, kolonne \u001b[38;5;129;01min\u001b[39;00m \u001b[38;5;28mzip\u001b[39m(radindekser, kolonneindekser):\n\u001b[1;32m     56\u001b[0m     løsning[kolonne] \u001b[38;5;241m=\u001b[39m redusert_høyreside[rad]\n\u001b[0;32m---> 58\u001b[0m \u001b[38;5;28;01massert\u001b[39;00m np\u001b[38;5;241m.\u001b[39mallclose(koeffisientmatrise \u001b[38;5;241m@\u001b[39m løsning[\u001b[38;5;28;01mNone\u001b[39;00m, :], høyreside), \u001b[38;5;124m\"\u001b[39m\u001b[38;5;124mDet finnes ingen løsning til det lineære ligningssystemet\u001b[39m\u001b[38;5;124m\"\u001b[39m\n\u001b[1;32m     59\u001b[0m \u001b[38;5;28;01mreturn\u001b[39;00m løsning\n",
      "\u001b[0;31mAssertionError\u001b[0m: Det finnes ingen løsning til det lineære ligningssystemet"
     ]
    }
   ],
   "source": [
    "partikulaer_losning(A, b)"
   ]
  },
  {
   "cell_type": "markdown",
   "id": "0d15e237-6adf-417f-98fe-1f4c2bba4bc5",
   "metadata": {},
   "source": [
    "Dette ser farlig ut, men egentlig er det akkurat hva vi til ha. **Det finnes ingen løsning!**"
   ]
  }
 ],
 "metadata": {
  "kernelspec": {
   "display_name": "Python 3 (ipykernel)",
   "language": "python",
   "name": "python3"
  },
  "language_info": {
   "codemirror_mode": {
    "name": "ipython",
    "version": 3
   },
   "file_extension": ".py",
   "mimetype": "text/x-python",
   "name": "python",
   "nbconvert_exporter": "python",
   "pygments_lexer": "ipython3",
   "version": "3.12.8"
  }
 },
 "nbformat": 4,
 "nbformat_minor": 5
}
