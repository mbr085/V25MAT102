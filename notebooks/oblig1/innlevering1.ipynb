{
 "cells": [
  {
   "cell_type": "markdown",
   "id": "d3853c7f-0d2a-4b96-835c-a51b16eb825f",
   "metadata": {},
   "source": [
    "# Første obligatoriske innlevering \n",
    "\n",
    "I denne oppgaven skal du fylle inn kode i denne notebook. Les oppgaveteksten grundig. Når du er ferdig eksporterer du notebooken og laster den opp på mitt uib."
   ]
  },
  {
   "cell_type": "code",
   "execution_count": 1,
   "id": "bff7e797-b2d0-48c8-a4c0-862d13af624d",
   "metadata": {},
   "outputs": [],
   "source": [
    "import numpy as np\n",
    "import unicodedata\n",
    "from IPython.display import Markdown as md\n",
    "import matplotlib.pyplot as plt"
   ]
  },
  {
   "cell_type": "markdown",
   "id": "5f3b1471-0c22-4539-9de5-fd572692f9ed",
   "metadata": {},
   "source": [
    "## Generering av oppgave\n",
    "\n",
    "Denne oppgaven blir generert ut i fra navnet ditt. Fyll inn det fulle navnet ditt i stedet for der det står \"Mitt Navn\" i feltet under for å kunne generere oppgaven."
   ]
  },
  {
   "cell_type": "code",
   "execution_count": 2,
   "id": "01753a34-39a1-40e4-84ac-e09e5b7b85e1",
   "metadata": {},
   "outputs": [],
   "source": [
    "navn = \"Mitt Navn \""
   ]
  },
  {
   "cell_type": "code",
   "execution_count": 3,
   "id": "97f96d96-240e-483d-af5c-58d6605869e3",
   "metadata": {},
   "outputs": [],
   "source": [
    "bytenavn = unicodedata.normalize(\"NFKD\", navn).encode(\"ascii\", \"ignore\")\n",
    "seed = int.from_bytes(bytenavn)"
   ]
  },
  {
   "cell_type": "markdown",
   "id": "0a3d1126-01d5-48c6-a742-87692b8dd510",
   "metadata": {},
   "source": [
    "## Oppgave 1\n",
    "\n",
    "Kodesnutten herunder definerer en funksjon $w(x)$ som skal undersøkes i denne oppgaven. "
   ]
  },
  {
   "cell_type": "code",
   "execution_count": 4,
   "id": "dcfdbfe7-42ac-404a-bc58-3f1432997396",
   "metadata": {},
   "outputs": [],
   "source": [
    "def w(x):\n",
    "    res = 0\n",
    "    for i in range(3):\n",
    "        res += np.cos((7**i)*np.pi*x)/(2**i)\n",
    "    return res"
   ]
  },
  {
   "cell_type": "markdown",
   "id": "9f033ee8-76a0-4316-b41e-bc7e539d3975",
   "metadata": {},
   "source": [
    "#### I cellen under genereres din personlige versjon av denne oppgaven.\n",
    "Koden under genererer din personlige variant av denne oppgaven. Løs den genererte oppgaven. Koden kan du ignorere."
   ]
  },
  {
   "cell_type": "code",
   "execution_count": 5,
   "id": "c1980330-4663-4808-8fa7-6042735cbb3e",
   "metadata": {},
   "outputs": [
    {
     "data": {
      "text/markdown": [
       "\n",
       "1. Plot funksjonen $w(x)$ på intervallet $[0.1, 0.4]$ i en liste `x` av punkter. Plottet skal ha en passende tittel, vanlig aksekors og passende xlabel og ylabel. Varier antallet av punkter i listen `x` og velg et antall der alle detaljer til grafen til funksjoen $w(x)$ vises.\n",
       "1. Plot den deriverte funksjonen til $w(x)$. Gjør plottet fint som i spørsmålet over. Hva kan du si om funksjonen $w(x)$ utifra hva du ser?\n",
       "1. Lag en python funksjon `wderivert(x)` som beregner den eksakte deriverte til funksjonen $w(x)$. Plot den eksakte deriverte og den numeriske derivete fra forrige delspørsmål i samme koordinatsystem. Lag både et plot med så få verdier i listen `x` at de to grafene er forskjellige og et plot der de to grafene er nesten like.\n"
      ],
      "text/plain": [
       "<IPython.core.display.Markdown object>"
      ]
     },
     "execution_count": 5,
     "metadata": {},
     "output_type": "execute_result"
    }
   ],
   "source": [
    "rng = np.random.default_rng(seed)\n",
    "md(\n",
    "f'''\n",
    "1. Plot funksjonen $w(x)$ på intervallet $[{-((int(100 * rng.random()) % 4) -1)/10}, {(1 + int(100 * rng.random()) % 4)/10}]$ i en liste `x` av punkter. Plottet skal ha en passende tittel, vanlig aksekors og passende xlabel og ylabel. Varier antallet av punkter i listen `x` og velg et antall der alle detaljer til grafen til funksjoen $w(x)$ vises.\n",
    "1. Plot den deriverte funksjonen til $w(x)$. Gjør plottet fint som i spørsmålet over. Hva kan du si om funksjonen $w(x)$ utifra hva du ser?\n",
    "1. Lag en python funksjon `wderivert(x)` som beregner den eksakte deriverte til funksjonen $w(x)$. Plot den eksakte deriverte og den numeriske derivete fra forrige delspørsmål i samme koordinatsystem. Lag både et plot med så få verdier i listen `x` at de to grafene er forskjellige og et plot der de to grafene er nesten like.\n",
    "''')"
   ]
  },
  {
   "cell_type": "markdown",
   "id": "2ced065b-cb86-4c15-a56a-1d2b18eee0ca",
   "metadata": {},
   "source": [
    "## Oppgave 2\n",
    "\n",
    "I denne oppgaven skal vi bruke numerisk integrasjon på funksjonen $f(x) = 130 \\sin(3x - \\pi/2) + 250$.\n",
    "Vi skal bruke Simpsons regel, som tilnærmer funksjonen som en serie av andregradsfunksjoner som går gjennom endepunktene og midtpunktet på delintervallene. På figuren vises Simpsons regel for en funksjon som ligner på vår funksjon."
   ]
  },
  {
   "cell_type": "markdown",
   "id": "828f12d9-ab33-4b26-8f88-389c469b83e2",
   "metadata": {},
   "source": [
    "![Simpson](Simpsonsrule2.gif)"
   ]
  },
  {
   "cell_type": "markdown",
   "id": "b0bf056c-9346-4f11-bc63-80dce7f2a26f",
   "metadata": {},
   "source": [
    "Du kan lese mer om Simpsons regelen (Simpson's rule på engelsk) [her](https://en.wikipedia.org/wiki/Simpson%27s_rule). Den norske Wikipedia-artikkelen har også noen tips til hvordan metoden kan implementeres, og kan leses [her](https://no.wikipedia.org/wiki/Simpson-integrasjon). \n",
    "\n",
    "#### I cellen under genereres din personlige versjon av denne oppgaven."
   ]
  },
  {
   "cell_type": "code",
   "execution_count": 6,
   "id": "bec578f7-dc85-44d0-91a9-5b4c7c8794a9",
   "metadata": {},
   "outputs": [
    {
     "data": {
      "text/markdown": [
       "\n",
       "1. Del intervallet [2 , 6]  i 2 like lange delintervaller. La `y_0` være funksjonsverdien i det venstre endepunktet, la `y_1` være funksjonsverdien i midtpunktet og la `y_2` være funksjonsverdien i det høyre endepunktet av intervallet. Fullfør python funksjonen `simpson_bit` under slik at den bruker Simpsons regel til å regne ut integralet til $f(x) = 130 \\sin(3x - \\pi/2) + 250$ på det angitte intervallet. (Husk at du kan bruke alle verktøy du har til rådighet.)\n",
       "1. Gjenta punkt 1, men bruk 6, 10, og 100 delintervaller. Hva skjer med verdien på integralet? Kan du gjette hva det ekte integralet er?\n",
       "1. Bruk Simpsons regel på $g(x) = x^2 - 2x - 16$ på det samme intervallet. Hva finner du ut når du prøver forskjellig antall delintervaller? Kan Simpsons formel ta oddetall delintervaller? Kan du forklare dette?"
      ],
      "text/plain": [
       "<IPython.core.display.Markdown object>"
      ]
     },
     "execution_count": 6,
     "metadata": {},
     "output_type": "execute_result"
    }
   ],
   "source": [
    "rng = np.random.default_rng(seed + 1)\n",
    "md(\n",
    "f'''\n",
    "1. Del intervallet [{-(int(100 * rng.random()) % 2) + 2} , {(int(100 * rng.random()) % 4) + 4}]  i 2 like lange delintervaller. La `y_0` være funksjonsverdien i det venstre endepunktet, la `y_1` være funksjonsverdien i midtpunktet og la `y_2` være funksjonsverdien i det høyre endepunktet av intervallet. Fullfør python funksjonen `simpson_bit` under slik at den bruker Simpsons regel til å regne ut integralet til $f(x) = 130 \\\\sin(3x - \\\\pi/2) + 250$ på det angitte intervallet. (Husk at du kan bruke alle verktøy du har til rådighet.)\n",
    "1. Gjenta punkt 1, men bruk 6, 10, og 100 delintervaller. Hva skjer med verdien på integralet? Kan du gjette hva det ekte integralet er?\n",
    "1. Bruk Simpsons regel på $g(x) = x^2 - 2x - 16$ på det samme intervallet. Hva finner du ut når du prøver forskjellig antall delintervaller? Kan Simpsons formel ta oddetall delintervaller? Kan du forklare dette?''')"
   ]
  }
 ],
 "metadata": {
  "kernelspec": {
   "display_name": "Python 3 (ipykernel)",
   "language": "python",
   "name": "python3"
  },
  "language_info": {
   "codemirror_mode": {
    "name": "ipython",
    "version": 3
   },
   "file_extension": ".py",
   "mimetype": "text/x-python",
   "name": "python",
   "nbconvert_exporter": "python",
   "pygments_lexer": "ipython3",
   "version": "3.12.8"
  }
 },
 "nbformat": 4,
 "nbformat_minor": 5
}
