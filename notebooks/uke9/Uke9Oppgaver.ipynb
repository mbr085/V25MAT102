{
 "cells": [
  {
   "cell_type": "markdown",
   "id": "fa9d7b13-0b94-4436-833c-b14ada6cea5a",
   "metadata": {},
   "source": [
    "# Oppgaver Uke 9"
   ]
  },
  {
   "cell_type": "code",
   "execution_count": 1,
   "id": "8649fdb3-e5fe-4201-9762-7313fc85d662",
   "metadata": {},
   "outputs": [],
   "source": [
    "# importer funksjoner\n",
    "\n",
    "import numpy as np\n",
    "try:\n",
    "    import python_linear_algebra\n",
    "except:\n",
    "    !pip install python_linear_algebra@git+https://github.com/mbr085/python_linear_algebra\n",
    "    import python_linear_algebra\n",
    "\n",
    "from python_linear_algebra.matrix_reduction import skriv_ut_egenvektorer_og_multiplikasjon_med_matrise\n",
    "from python_linear_algebra.matrix_reduction import finn_egenvektorer_og_egenverdier, partikulaer_losning"
   ]
  },
  {
   "cell_type": "markdown",
   "id": "3f7c956d-a40c-4cf7-ba03-57bb6326a6da",
   "metadata": {},
   "source": [
    "## Oppgave 1"
   ]
  },
  {
   "cell_type": "markdown",
   "id": "ab0e2083-afe1-497f-b7e8-b5a4da59a2dc",
   "metadata": {},
   "source": [
    "Vis, ved å regne ut produktet $A \\cdot \\vec x$ at vektoren\n",
    "$$\\vec x = \\begin{bmatrix}2\\\\3\\\\-1\\end{bmatrix}$$\n",
    "er en egevektor for matrisen \n",
    "$$A = \\begin{bmatrix}2&1&1\\\\2&3&4\\\\1&-1&2\\end{bmatrix}.$$\n",
    "Hva er den tilhørende egenverdien?\n",
    "(Regn gjerne produktet ut både for hånd og med python.)\n",
    "Bruk python til å finne alle egenverdier og egenvektorer for $A$. Kan du også finne komplekse egenverdier?"
   ]
  },
  {
   "cell_type": "markdown",
   "id": "f742ad39-7c9e-43b2-bfa0-1d5cca5ee1d1",
   "metadata": {},
   "source": [
    "## Oppgave 2"
   ]
  },
  {
   "cell_type": "markdown",
   "id": "08e8a694-72e8-4c70-9196-6a7831a8b53e",
   "metadata": {},
   "source": [
    "Oppgavene 10.8.2 og 10.8.3 i MIP. Gjør både deler for hånd og med python."
   ]
  },
  {
   "cell_type": "markdown",
   "id": "9089dba5-c323-4956-b5d2-7f01efd2f398",
   "metadata": {},
   "source": [
    "## Oppgave 3"
   ]
  },
  {
   "cell_type": "markdown",
   "id": "0199e8d2-febe-4946-adb9-058db31b66f9",
   "metadata": {},
   "source": [
    "Erik og Ivar er på hyttetur med hver sin sekk. På hytten finner de en vekt, og finner ut at \"nå skal vi ha det gøy med ligningssystemer\". De foretar følgende veiinger:\n",
    "\n",
    "1. Erik med sekk på: 90 kg\n",
    "2. Begge to til sammen med sekker på: 200 kg\n",
    "3. De to sekkene til sammen: 35 kg\n",
    "4. Erik med sekk og Ivar uten sekk: 182 kg\n",
    "\n",
    "Sett opp et tilhørende ligningssytem. Finn ut hva Erik, Ivar og de to sekkene deres veier ved å løse ligningssystemet med Gauss-Jordan eliminasjon (bruk evt. Python)!"
   ]
  },
  {
   "cell_type": "markdown",
   "id": "bf5953b2-e5a8-471d-8b48-0d9ff3b66c2e",
   "metadata": {},
   "source": [
    "## Oppgave 4"
   ]
  },
  {
   "cell_type": "markdown",
   "id": "d51cf1d2-853b-4121-a94d-f9fd119e1966",
   "metadata": {},
   "source": [
    "I denne oppgaven kan du bruke Python til mellomregning. Vi betrakter et matrisedynamisk system med overgangsmatrise\n",
    "\n",
    "$$A = \\begin{bmatrix}3&-2&-6\\\\-3&4&6\\\\2&-2&-4\\end{bmatrix}.$$\n",
    "\n",
    "1. Hvis tilstanden til systemet ved tid 0 er $\\vec v_0 = \\begin{bmatrix}1\\\\-15\\\\6\\end{bmatrix}$, hva er da tilstanden $\\vec v_1$ ved tid 1 og $\\vec v_2$ ved tid 2?\n",
    "2. Finn egenverdiene $\\vec w_1$, $\\vec w_2$ og $\\vec v_3$ og egenvektorene $\\lambda_1$, $\\lambda_2$ og $\\lambda_3$ til A.\n",
    "3. Skriv vektoren $\\vec v_0$ som en kombinasjon $\\vec v_0 = x \\vec w_1 + y \\vec w_2 + z \\vec w_3$ av egenvektorene $\\vec w_1$, $\\vec w_2$ og $\\vec v_3$ som du fant i punkt 2.\n",
    "4. Finn en formel for tilstanden ved tid n."
   ]
  },
  {
   "cell_type": "markdown",
   "id": "b649c9a7-cdf0-4b15-9504-3d8dff5a102f",
   "metadata": {},
   "source": [
    "Kanskje kodensnuttene under kan være til hjelp. Prøv å forklare hva koden gjør."
   ]
  },
  {
   "cell_type": "markdown",
   "id": "de683bd9-26b0-42f3-bf7b-1fc6be5cbf01",
   "metadata": {},
   "source": [
    "```python\n",
    "A = np.array([\n",
    "    [3, -2, -6],\n",
    "    [-3, 4, 6],\n",
    "    [2, -2, -4]\n",
    "])\n",
    "v0 = np.array([\n",
    "    [1],\n",
    "    [-15],\n",
    "    [6]\n",
    "])\n",
    "\n",
    "egenverdier_og_egenvektorer = finn_egenvektorer_og_egenverdier(A)\n",
    "\n",
    "egenverdier = [x[0] for x in egenverdier_og_egenvektorer]\n",
    "\n",
    "egenvektorer = [x[2][0] for x in egenverdier_og_egenvektorer]\n",
    "\n",
    "P = np.hstack(egenvektorer)\n",
    "\n",
    "partikulaer_losning(P, v0)\n",
    "```"
   ]
  },
  {
   "cell_type": "markdown",
   "id": "eb00855a-bc02-4a92-bf3f-68efcfb4ee34",
   "metadata": {},
   "source": [
    "## Oppgave 5"
   ]
  },
  {
   "cell_type": "markdown",
   "id": "3df23950-fd2d-4cf2-9376-da582152e77c",
   "metadata": {},
   "source": [
    "I denne oppgaven får du anledning til å forstå Teorem 1 i MIP 10.9."
   ]
  },
  {
   "cell_type": "markdown",
   "id": "bae780c8-fc5c-4df3-8345-bb7df12633f0",
   "metadata": {},
   "source": [
    "La $P = [\\vec v_1, \\dots, \\vec v_m]$ være matrisen med vektorene $\\vec v_1, \\dots, \\vec v_m$ som kolonner og\n"
   ]
  },
  {
   "cell_type": "markdown",
   "id": "1688cab6-c01f-4794-9640-666e00aa14fb",
   "metadata": {},
   "source": [
    "La $M$ være en m x m matrise og la $\\vec v_1, \\dots, \\vec v_m$ og la\n",
    "$\\lambda_1, \\dots, \\lambda_m$ være tall slik at $M \\cdot \\vec v_1 = \\lambda_1 \\cdot \\vec v_1$ og\n",
    "$M \\cdot \\vec v_2 = \\lambda_2 \\cdot \\vec v_2$ og så videre helt frem til\n",
    "$M \\cdot \\vec v_m = \\lambda_m \\cdot \\vec v_m$.\n",
    "\n",
    "La $P = [\\vec v_1, \\dots, \\vec v_m$ være matrisen med vektorene $\\vec v_1, \\dots, \\vec v_m$ som kolonner og\n",
    "la \n",
    "$$D = \\begin{bmatrix}\n",
    "\\lambda_1 & 0 & 0 & \\dots & 0\\\\\n",
    "0 & \\lambda_2 & 0 & \\dots & 0 \\\\\n",
    "\\vdots & 0 & \\lambda_3 &\\dots &0\\\\\n",
    "0 & 0 & 0 & \\dots &\\lambda_m\n",
    "\\end{bmatrix}$$\n",
    "være matrisen med tallene $\\lambda_1, \\dots, \\lambda_m$ på digaonalen.\n",
    "\n",
    "Husk at matriseproduktet er definert slik at $MP = [M\\vec v_1, \\dots, M\\vec v_m]$. Hvis vi skriver \n",
    "\n",
    "$e_1 = \\begin{bmatrix}1\\\\0\\\\0\\\\\\vdots\\\\0\\end{bmatrix}$ og\n",
    "$e_2 = \\begin{bmatrix}0\\\\1\\\\0\\\\\\vdots\\\\0\\end{bmatrix}$\n",
    "og så videre frem til \n",
    "$e_m = \\begin{bmatrix}0\\\\0\\\\0\\\\\\vdots\\\\1\\end{bmatrix}$, da er\n",
    "$D = [\\lambda_1 \\vec e_1, \\lambda_2 \\vec e_2, \\dots, \\lambda_m \\vec e_m]$, og\n",
    "$PD = [P\\lambda_1 \\vec e_1, \\dots, P\\lambda_2 \\vec e_,]$.\n",
    "\n",
    "1. Forklar hvorfor $MP = PD$\n",
    "2. Forklar hvorfor $M^n P = P D^n$ for alle positive heltall $n$.\n",
    "3. Forklar hvorfor formelen $M = P D^n P^{-1}$ gjelder dersom $P$ er invertibel.\n"
   ]
  }
 ],
 "metadata": {
  "kernelspec": {
   "display_name": "Python 3 (ipykernel)",
   "language": "python",
   "name": "python3"
  },
  "language_info": {
   "codemirror_mode": {
    "name": "ipython",
    "version": 3
   },
   "file_extension": ".py",
   "mimetype": "text/x-python",
   "name": "python",
   "nbconvert_exporter": "python",
   "pygments_lexer": "ipython3",
   "version": "3.12.8"
  }
 },
 "nbformat": 4,
 "nbformat_minor": 5
}
