{
 "cells": [
  {
   "cell_type": "markdown",
   "id": "99ed3953-0671-4727-b8f0-d9663b15f3f0",
   "metadata": {},
   "source": [
    "# Partielle deriverte (MIP 12.3)"
   ]
  },
  {
   "cell_type": "markdown",
   "id": "fc6ce228-0c2f-4b57-b70a-c8c8aa3ab4e3",
   "metadata": {},
   "source": [
    "Mye av inholdet på denne siden er tatt fra [Wikipedia sin side om derivasjon.](https://no.wikipedia.org/wiki/Derivasjon)"
   ]
  },
  {
   "cell_type": "markdown",
   "id": "c1f18cd7-4a25-4d22-99ed-ae944aa61089",
   "metadata": {},
   "source": [
    "For en funksjon av flere variabler $f: \\mathbb{R}^n \\to \\mathbb{R}$  kan en definere den retningsderiverte i retningen $ \\mathbf{v} \\in \\mathbb{R}^n $ ved  \n",
    "\n",
    "$$ f'(x; \\mathbf{v}) = \\lim_{h \\to 0} \\frac{f(x + h\\mathbf{v}) - f(x)}{h} $$  \n",
    "\n",
    "forutsatt at grenseverdien eksisterer. "
   ]
  },
  {
   "cell_type": "code",
   "execution_count": null,
   "id": "3c95d49a-6d70-47c0-91c0-61f95b24acab",
   "metadata": {},
   "outputs": [],
   "source": []
  }
 ],
 "metadata": {
  "kernelspec": {
   "display_name": "Python 3 (ipykernel)",
   "language": "python",
   "name": "python3"
  },
  "language_info": {
   "codemirror_mode": {
    "name": "ipython",
    "version": 3
   },
   "file_extension": ".py",
   "mimetype": "text/x-python",
   "name": "python",
   "nbconvert_exporter": "python",
   "pygments_lexer": "ipython3",
   "version": "3.12.8"
  }
 },
 "nbformat": 4,
 "nbformat_minor": 5
}
