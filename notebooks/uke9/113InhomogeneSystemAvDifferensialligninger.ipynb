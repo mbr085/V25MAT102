{
 "cells": [
  {
   "cell_type": "markdown",
   "id": "86c9b5f7-0158-4085-9cd7-9de9729c44c9",
   "metadata": {
    "id": "86c9b5f7-0158-4085-9cd7-9de9729c44c9"
   },
   "source": [
    "# Inhomogene differensialligningssystemer"
   ]
  },
  {
   "cell_type": "markdown",
   "id": "0214056e-c73d-4260-9b3f-233c230bcd26",
   "metadata": {
    "id": "0214056e-c73d-4260-9b3f-233c230bcd26"
   },
   "source": [
    "La oss gå tilbake til et differensialligningssystem vi har sett på tidligere. Hvis vi husker beskrivelsen kan vi gå direkte til den matematiske formuleringen."
   ]
  },
  {
   "cell_type": "markdown",
   "id": "68684583-d743-4ea7-ac40-0ef53f67760d",
   "metadata": {
    "id": "68684583-d743-4ea7-ac40-0ef53f67760d"
   },
   "source": [
    "## [Tømming av sammenkoblede vanntanker](https://www.math.ttu.edu/~klong/ODESystems.pdf)"
   ]
  },
  {
   "cell_type": "markdown",
   "id": "ae69b9b6-29c3-4f78-b17b-15ddc4d30cbe",
   "metadata": {
    "id": "ae69b9b6-29c3-4f78-b17b-15ddc4d30cbe"
   },
   "source": [
    "Vi ser på to vanntanker (åpne for luft på toppen) som er koblet sammen nær bunnen via et rør. I tillegg har hver tank også et dreneringsrør.\n",
    "Vann strømmer mellom tankene samt ut gjennom avløpene. En skjematisk tegning av oppsettet er vist på figuren under.\n",
    "\n",
    "![koblede kar](https://github.com/mbr085/V25MAT102/blob/main/notebooks/uke6/koblede_kar.png?raw=1)\n",
    "[Av Katharine Long](https://www.math.ttu.edu/~klong/)\n",
    "\n",
    "Hydrostatikk forteller oss at trykket på bunnen av en vannsøyle med høyde $h$ er $p = \\rho gh$, der $\\rho$ er vanntettheten og $g$ er gravitasjonsakselerasjonen. Du har kanskje sett Hagen-Poiseuille-loven for laminær strømning gjennom et sylindrisk rør: Den volumetriske strømningstakten $Q$ (volum væske per tidsenhet) bestemmes av trykkforskjellen $\\Delta p$ mellom rørenes ender, rørenes geometri, og væskens viskositet:\n",
    "\n",
    "$$\n",
    "Q = \\frac{\\pi a^4 \\Delta p}{8 \\mu L}\n",
    "$$\n",
    "\n",
    "hvor a er rørradius, L er rørlengde og μ er den dynamiske viskositeten til væsken. Deretter er strømningstakten fra tank 1 til tank 2:\n",
    "\n",
    "$$\n",
    "Q_{12} = \\frac{\\pi a^4 \\rho g}{8 \\mu L} (h_1 - h_2)\n",
    "$$\n",
    "\n",
    "Strømningstaktene i avløpsrørene er:\n",
    "$$\n",
    "Q_{10} = \\frac{\\pi a^4 \\rho g}{8 \\mu L} h_1\n",
    "$$\n",
    "\n",
    "og\n",
    "\n",
    "$$\n",
    "Q_{20} = \\frac{\\pi a^4 \\rho g}{8 \\mu L} h_2\n",
    "$$\n",
    "\n",
    "Volumet av vann i tank 1 endres med takten:\n",
    "\n",
    "$$\n",
    "\\frac{dV_1}{dt} = -Q_{12} - Q_{10}\n",
    "$$\n",
    "\n",
    "og i tank 2 endres volumet med takten:\n",
    "$$\n",
    "\\frac{dV_2}{dt} = Q_{12} - Q_{20}\n",
    "$$\n",
    "\n",
    "Ved å merke oss at vannvolumet $V_i$ er søylehøyden $h_i$ ganget med arealet $A$ av tankens horisontale tverrsnitt, finner vi:\n",
    "\n",
    "$$\n",
    "\\frac{dh_1}{dt} = \\frac{\\pi a^4 \\rho g}{8 \\mu L A} (-2 h_1 + h_2)\n",
    "$$\n",
    "\n",
    "og\n",
    "\n",
    "$$\n",
    "\\frac{dh_2}{dt} = \\frac{\\pi a^4 \\rho g}{8 \\mu L A} (h_1 - 2 h_2)\n",
    "$$\n",
    "\n",
    "Størrelsen $ \\frac{1}{\\tau} \\equiv \\frac{\\pi a^4 \\rho g}{8 \\mu L A} $ har dimensjonen tid$^{-1}$. Ved å gjøre transformasjonen til en dimensjonsløs tidsvariabel $\\hat{t} = \\frac{t}{\\tau} $, $d\\hat{t} = \\tau^{-1} dt$, og deretter ignorere “hattene” på $\\hat{t}$, får vi likningene:\n",
    "\n",
    "$$\n",
    "h_1' = -2h_1 + h_2\n",
    "$$\n",
    "\n",
    "og\n",
    "\n",
    "$$\n",
    "h_2' = h_1 - 2h_2\n",
    "$$"
   ]
  },
  {
   "cell_type": "markdown",
   "id": "1affed76-ab5c-480c-99ef-e7d4d24d0ada",
   "metadata": {
    "id": "1affed76-ab5c-480c-99ef-e7d4d24d0ada"
   },
   "source": [
    "## Matematisk reformulering"
   ]
  },
  {
   "cell_type": "markdown",
   "id": "a198d337-3076-41e3-9d6c-6713ddc6a615",
   "metadata": {
    "id": "a198d337-3076-41e3-9d6c-6713ddc6a615"
   },
   "source": [
    "La oss skrive $x_0 = h_1(t_0)$ for høyden i den første tanken til tiden $t_0$ og\n",
    "$y_0 = h_2(t_0)$ for høyden i den andre tanken til tiden $t_0$.\n",
    "\n",
    "Skriver vi videre $x(t) = h_1(t)$ og $y(t) = h_2(t)$ er vi kommet frem til systemet\n",
    "$$x'(t) = -2x(t) + y(t) = f(x, x(t), y(t)), \\quad \\text{med} \\quad x(t_0) = x_0$$\n",
    "og\n",
    "$$y'(t) = x(t) - 2y(t) = g(x, x(t), y(t)), \\quad \\text{med} \\quad y(t_0) = y_0$$\n",
    "Dette systemet kan vi også løse med Eulers metode. Vi vil nå finne eksakte løsninger for dette systemet."
   ]
  },
  {
   "cell_type": "markdown",
   "id": "9b23d9e5-b8fe-4afc-a73d-a62adef99ceb",
   "metadata": {
    "id": "9b23d9e5-b8fe-4afc-a73d-a62adef99ceb"
   },
   "source": [
    "Skriver vi $\\vec v(t) = \\begin{bmatrix}x(t)\\\\y(t)\\end{bmatrix}$ og $A = \\begin{bmatrix}-2&1\\\\1&-2\\end{bmatrix}$ kan vi skrive dette systemet som $\\vec v'(t) = A \\cdot \\vec v(t)$ med startbetingelsen $\\vec v(t_0) = \\vec v_0$ for $\\vec v_0 = \\begin{bmatrix}x_0\\\\y_0\\end{bmatrix}$."
   ]
  },
  {
   "cell_type": "markdown",
   "id": "a6f5fd8e-36aa-4360-9189-878099b5baa8",
   "metadata": {
    "id": "a6f5fd8e-36aa-4360-9189-878099b5baa8"
   },
   "source": [
    "## Oppgave"
   ]
  },
  {
   "cell_type": "markdown",
   "id": "5fd4ef87-966d-45d3-bac9-aace1a44f607",
   "metadata": {
    "id": "5fd4ef87-966d-45d3-bac9-aace1a44f607"
   },
   "source": [
    "Finn en analytisk løsning til dette homogene lineære differensialligningssystemet. Du kan gjøre det i disse stegene:\n",
    "\n",
    "1. Finn det karakteristiske polynomet $p(t) = \\det(A - tI)$.\n",
    "2. Finn røttene til det karakteristiske polynomet $p(t)$. Dette er egenverdiene $\\lambda_1$ og $\\lambda_2$ til systemet.\n",
    "3. Finn egenvektorene hørende til $\\lambda_1$ og $\\lambda_2$. Det vil si vektorer $\\vec w_1$ og $\\vec w_2$ slik at $(A -\\lambda_1 I) \\vec w_1 = 0$ og $(A -\\lambda_2 I) \\vec w_2 = 0$. Disse kan finnes ved å løse lineære ligningssystemer.\n",
    "4. Sjekk at for alle $x$ og $y$ er $\\vec v(t) = xe^{\\lambda_1 (t-t_0)} \\vec w_1 + ye^{\\lambda_2 (t-t_0)} \\vec w_2$ en funksjon med $\\vec v'(t) = A \\cdot \\vec v(t)$ og $\\vec v(t_0) = x\\vec w_1 + y \\vec w_2$.\n",
    "5. Finn $x$ og $y$ slik at $\\vec v_0 = x\\vec w_1 + y \\vec w_2$.\n",
    "6. Plot løsningen på intervallet $[0, 5]$ for $\\vec v_0 = \\begin{bmatrix}1.6\\\\0.3\\end{bmatrix}$ og $t_0 = 0$."
   ]
  },
  {
   "cell_type": "markdown",
   "id": "b07a520e-00eb-48dc-876c-14baf5a362d9",
   "metadata": {
    "id": "b07a520e-00eb-48dc-876c-14baf5a362d9"
   },
   "source": [
    "### Plotting ved hjelp av python:"
   ]
  },
  {
   "cell_type": "markdown",
   "id": "d07df3df-8d47-41d7-923c-06ee70d0c0f8",
   "metadata": {
    "id": "d07df3df-8d47-41d7-923c-06ee70d0c0f8"
   },
   "source": [
    "Vi har allerede plottet løsningen funnet med Eulers metode. Siden vi også har kodet analytisk løsning kan vi også plotte denne."
   ]
  },
  {
   "cell_type": "code",
   "execution_count": 1,
   "id": "b9cb8213-5b5c-461a-bd05-9506bdd9a2c2",
   "metadata": {
    "editable": true,
    "id": "b9cb8213-5b5c-461a-bd05-9506bdd9a2c2",
    "tags": []
   },
   "outputs": [],
   "source": [
    "try:\n",
    "    import python_linear_algebra\n",
    "except:\n",
    "    !pip install python_linear_algebra@git+https://github.com/mbr085/python_linear_algebra\n",
    "    import python_linear_algebra\n"
   ]
  },
  {
   "cell_type": "code",
   "execution_count": 2,
   "id": "bf916dcb-8059-4dc2-8013-cc0448ac2a23",
   "metadata": {
    "editable": true,
    "id": "bf916dcb-8059-4dc2-8013-cc0448ac2a23",
    "tags": []
   },
   "outputs": [],
   "source": [
    "import numpy as np\n",
    "from python_linear_algebra.matrix_reduction import skriv_ut_egenvektorer_og_multiplikasjon_med_matrise\n",
    "from python_linear_algebra.matrix_reduction import skriv_ut_numpy_egenvektorer_og_multiplikasjon_med_matrise\n",
    "from python_linear_algebra.matrix_reduction import finn_egenvektorer_og_egenverdier\n",
    "from python_linear_algebra.matrix_reduction import gauss_jordan\n",
    "from python_linear_algebra.matrix_reduction import invers_matrise\n",
    "from python_linear_algebra.diffligninger import løs_homogent_system_av_differensialligninger\n",
    "import matplotlib.pyplot as plt"
   ]
  },
  {
   "cell_type": "code",
   "execution_count": 3,
   "id": "cb8706be-2e5f-4510-9245-66d544405d0e",
   "metadata": {
    "id": "cb8706be-2e5f-4510-9245-66d544405d0e"
   },
   "outputs": [],
   "source": [
    "A = np.array([\n",
    "    [-2, 1],\n",
    "    [1, -2]\n",
    "])\n",
    "v0 = np.array([1.6, 0.3])\n",
    "t = np.linspace(0, 5, 100)"
   ]
  },
  {
   "cell_type": "code",
   "execution_count": 4,
   "id": "16550d78-4246-43f1-a3d5-962c74baccce",
   "metadata": {
    "id": "16550d78-4246-43f1-a3d5-962c74baccce"
   },
   "outputs": [],
   "source": [
    "v = løs_homogent_system_av_differensialligninger(overgangsmatrise=A, starttilstand=v0, tverdier=t)"
   ]
  },
  {
   "cell_type": "code",
   "execution_count": 5,
   "id": "e69d39ce-d9e3-437b-9475-7f4147aff4c3",
   "metadata": {
    "id": "e69d39ce-d9e3-437b-9475-7f4147aff4c3",
    "outputId": "a7c8f418-7a06-4ffd-9f8b-54a99400bde3"
   },
   "outputs": [
    {
     "data": {
      "text/plain": [
       "Text(0, 0.5, 'høyde (meter)')"
      ]
     },
     "execution_count": 5,
     "metadata": {},
     "output_type": "execute_result"
    },
    {
     "data": {
      "image/png": "[encoded data removed]",
      "text/plain": [
       "<Figure size 640x480 with 1 Axes>"
      ]
     },
     "metadata": {},
     "output_type": "display_data"
    }
   ],
   "source": [
    "plt.plot(t, v[0], label='beholder 1')\n",
    "plt.plot(t, v[1], label='beholder 2')\n",
    "plt.legend()\n",
    "plt.xlabel('tid (minutter)')\n",
    "plt.ylabel('høyde (meter)')\n"
   ]
  },
  {
   "cell_type": "markdown",
   "id": "7fec3bbf-bc03-496e-974c-c6619d2fae27",
   "metadata": {
    "id": "7fec3bbf-bc03-496e-974c-c6619d2fae27"
   },
   "source": [
    "# Inhomogene differensialligningssystem"
   ]
  },
  {
   "cell_type": "markdown",
   "id": "e6b1d8ab-d65d-4641-861b-9c5f96055393",
   "metadata": {
    "id": "e6b1d8ab-d65d-4641-861b-9c5f96055393"
   },
   "source": [
    "Hvis vi nå tenker oss at det regner inn i tankene må vi endre litt på ligningene våre. La oss tenke oss at det ikke regner like mye inn i de to tankene. For eksempel fordi den ene tanken er delvis tildekket.\n",
    "\n",
    "Ligningene\n",
    "$$\n",
    "h_1' = -2h_1 + h_2\n",
    "$$\n",
    "\n",
    "og\n",
    "\n",
    "$$\n",
    "h_2' = h_1 - 2h_2\n",
    "$$\n",
    "\n",
    "må da få lagt til ledd på høyresiden som forteller hvor mye det regner. For enkelthets skyld antar jeg at regnen ikke varierer med tiden slik at disse leddene er konstante. De nye ligningene blir da\n",
    "\n",
    "$$\n",
    "h_1' = -2h_1 + h_2 - a\n",
    "$$\n",
    "\n",
    "og\n",
    "\n",
    "$$\n",
    "h_2' = h_1 - 2h_2 - b\n",
    "$$\n",
    "\n",
    "for ikke-negative tall $a$ og $b$."
   ]
  },
  {
   "cell_type": "markdown",
   "id": "29d6ab51-1eff-46b1-a63a-ed9f10668312",
   "metadata": {
    "id": "29d6ab51-1eff-46b1-a63a-ed9f10668312"
   },
   "source": [
    "Skrevet på matriseform blir dette\n",
    "\n",
    "$$\\vec v'(t) = A \\cdot \\vec v(t) + \\vec r$$\n",
    "\n",
    "der\n",
    "\n",
    "$$\\vec r = \\begin{bmatrix} -a \\\\ -b\\end{bmatrix}$$\n",
    "\n",
    "er en vektor som forteller hvor mye det regner inn i de to tankene."
   ]
  },
  {
   "cell_type": "markdown",
   "id": "f43fc0d9-bced-42b1-8819-48dbca9689b1",
   "metadata": {
    "id": "f43fc0d9-bced-42b1-8819-48dbca9689b1"
   },
   "source": [
    "For å løse dette finner vi først en vektor $\\vec w$ slik at $A \\cdot \\vec w + \\vec r = 0$. Siden dette er det samme som at\n",
    "\n",
    "$$A \\cdot \\vec w = - \\vec r$$\n",
    "\n",
    "kan en slik $\\vec w$ finnes ved å løse et lineært ligningssystem."
   ]
  },
  {
   "cell_type": "markdown",
   "id": "60a4c7ee-96c4-49d1-a315-9e62b13bc959",
   "metadata": {
    "id": "60a4c7ee-96c4-49d1-a315-9e62b13bc959"
   },
   "source": [
    "Den konstante vektorfunksjonen $\\vec v(t) = \\vec w$ oppfylder ligningen\n",
    "$$\\vec v'(t) = A \\cdot \\vec v(t) + \\vec r$$\n",
    "fordi $\\vec v'(t) = 0$ og $A \\cdot \\vec v(t) + \\vec r = A \\cdot \\vec w + \\vec r = 0$."
   ]
  },
  {
   "cell_type": "markdown",
   "id": "b7d624f4-16df-4e7d-89bb-fef92c9d0a25",
   "metadata": {
    "id": "b7d624f4-16df-4e7d-89bb-fef92c9d0a25"
   },
   "source": [
    "## Oppgave"
   ]
  },
  {
   "cell_type": "markdown",
   "id": "6fa02ad4-905f-4414-8f1b-b5ff14cd8bc0",
   "metadata": {
    "id": "6fa02ad4-905f-4414-8f1b-b5ff14cd8bc0"
   },
   "source": [
    "Finn en analytisk løsning til dette inhomogene lineære differensialligningssystemet. Du kan gjøre det i disse stegene som du allerede har gjort det fleste av:\n",
    "\n",
    "La $\\vec v_0 = \\begin{bmatrix}1.6\\\\0.3\\end{bmatrix}$ og $\\vec r = \\begin{bmatrix}-0.1\\\\-0.3\\end{bmatrix}$.\n",
    "\n",
    "1. Finn det karakteristiske polynomet $p(t) = \\det(A - tI)$.\n",
    "2. Finn røttene til det karakteristiske polynomet $p(t)$. Dette er egenverdiene $\\lambda_1$ og $\\lambda_2$ til systemet.\n",
    "3. Finn egenvektorene hørende til $\\lambda_1$ og $\\lambda_2$. Det vil si vektorer $\\vec w_1$ og $\\vec w_2$ slik at $(A -\\lambda_1 I) \\vec w_1 = 0$ og $(A -\\lambda_2 I) \\vec w_2 = 0$. Disse kan finnes ved å løse lineære ligningssystemer.\n",
    "4. Finn en vektor $\\vec w$ slik at $A \\cdot \\vec w + \\vec r = 0$.\n",
    "5. Sjekk at for alle $x$ og $y$ er $\\vec v(t) = \\vec w + xe^{\\lambda_1 (t-t_0)} \\vec w_1 + ye^{\\lambda_2 (t-t_0)} \\vec w_2$ er en funksjon med $\\vec v'(t) = A \\cdot \\vec v(t) + \\vec r$ og $\\vec v(t_0) - \\vec w = x\\vec w_1 + y \\vec w_2$.\n",
    "6. Finn $x$ og $y$ slik at $\\vec v_0 - \\vec w = x\\vec w_1 + y \\vec w_2$.\n",
    "7. Plot løsningen på intervallet $[0, 5]$ der du lar $t_0 = 0$."
   ]
  },
  {
   "cell_type": "markdown",
   "id": "856f29fe-a437-48f9-a1b2-ce1bd9022555",
   "metadata": {
    "id": "856f29fe-a437-48f9-a1b2-ce1bd9022555"
   },
   "source": [
    "### Plotting ved hjelp av python"
   ]
  },
  {
   "cell_type": "code",
   "execution_count": 13,
   "id": "a34c5b1b-3f9a-40cc-901d-4859bd508cc6",
   "metadata": {
    "id": "a34c5b1b-3f9a-40cc-901d-4859bd508cc6"
   },
   "outputs": [],
   "source": [
    "from python_linear_algebra.matrix_reduction import partikulaer_losning\n",
    "\n",
    "def løs_inhomogent_system_av_differensialligninger(overgangsmatrise, starttilstand, påtrykk, tverdier):\n",
    "    '''\n",
    "    Løser et homogent lineært system av differensialligninger analytisk\n",
    "\n",
    "    Parametre:\n",
    "        overgangsmatrise (np.ndarray): En kvadratisk Numpy-array med koeffisientene for systemet\n",
    "        starttilstand (np.ndarray): En 1D Numpy-array av samme lengde som overgangsmatrise\n",
    "        tverdier (np.ndarray): En 1D Numpy-array med verdier av t der løsningen skal beregnes\n",
    "\n",
    "    Retunerer:\n",
    "        y (np.ndarray): Verdiene av løsningen til sistemet i de angitte tverdier\n",
    "    '''\n",
    "    påtrykk = np.array(påtrykk).ravel()\n",
    "    starttilstand = np.array(starttilstand).ravel()\n",
    "    ligevektsløsning = partikulaer_losning(overgangsmatrise, påtrykk).ravel()\n",
    "\n",
    "    return løs_homogent_system_av_differensialligninger(\n",
    "        overgangsmatrise, starttilstand - ligevektsløsning, tverdier) + ligevektsløsning[:, None]\n"
   ]
  },
  {
   "cell_type": "code",
   "execution_count": 14,
   "id": "e3ea19cb-23f5-4e83-a9ae-eac90fe2ba5a",
   "metadata": {
    "id": "e3ea19cb-23f5-4e83-a9ae-eac90fe2ba5a"
   },
   "outputs": [],
   "source": [
    "r = np.array([-0.1, -0.3])"
   ]
  },
  {
   "cell_type": "code",
   "execution_count": 15,
   "id": "dcc7b9c3-bf22-4557-8d7c-688cac8f2f34",
   "metadata": {
    "id": "dcc7b9c3-bf22-4557-8d7c-688cac8f2f34"
   },
   "outputs": [],
   "source": [
    "v = løs_inhomogent_system_av_differensialligninger(overgangsmatrise=A, starttilstand=v0, påtrykk=r, tverdier=t)"
   ]
  },
  {
   "cell_type": "code",
   "execution_count": 16,
   "id": "5fdf9f8c-47c5-4913-8220-4dd7a100bf39",
   "metadata": {
    "id": "5fdf9f8c-47c5-4913-8220-4dd7a100bf39",
    "outputId": "f3b57044-d0a3-46c7-999a-32513f504755"
   },
   "outputs": [
    {
     "data": {
      "text/plain": [
       "Text(0, 0.5, 'høyde (meter)')"
      ]
     },
     "execution_count": 16,
     "metadata": {},
     "output_type": "execute_result"
    },
    {
     "data": {
      "image/png": "[encoded data removed]",
      "text/plain": [
       "<Figure size 640x480 with 1 Axes>"
      ]
     },
     "metadata": {},
     "output_type": "display_data"
    }
   ],
   "source": [
    "plt.plot(t, v[0], label='beholder 1')\n",
    "plt.plot(t, v[1], label='beholder 2')\n",
    "plt.legend()\n",
    "plt.xlabel('tid (minutter)')\n",
    "plt.ylabel('høyde (meter)')\n"
   ]
  },
  {
   "cell_type": "code",
   "execution_count": null,
   "id": "af77813f-6a80-4936-8116-7ff48eafd273",
   "metadata": {
    "id": "af77813f-6a80-4936-8116-7ff48eafd273"
   },
   "outputs": [],
   "source": []
  }
 ],
 "metadata": {
  "colab": {
   "provenance": []
  },
  "kernelspec": {
   "display_name": "Python 3 (ipykernel)",
   "language": "python",
   "name": "python3"
  },
  "language_info": {
   "codemirror_mode": {
    "name": "ipython",
    "version": 3
   },
   "file_extension": ".py",
   "mimetype": "text/x-python",
   "name": "python",
   "nbconvert_exporter": "python",
   "pygments_lexer": "ipython3",
   "version": "3.12.8"
  }
 },
 "nbformat": 4,
 "nbformat_minor": 5
}
