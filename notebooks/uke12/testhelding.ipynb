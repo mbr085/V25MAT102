{
  "cells": [
    {
      "cell_type": "markdown",
      "id": "b7308220-b60f-4000-a380-5cf27c1e1099",
      "metadata": {
        "id": "b7308220-b60f-4000-a380-5cf27c1e1099"
      },
      "source": [
        "# Hypotesetest for lineær regresjon"
      ]
    },
    {
      "cell_type": "code",
      "execution_count": null,
      "id": "1725f9dd-c945-4eaa-80cd-64de6b30bd19",
      "metadata": {
        "id": "1725f9dd-c945-4eaa-80cd-64de6b30bd19"
      },
      "outputs": [],
      "source": [
        "import matplotlib.pyplot as plt\n",
        "import numpy as np\n",
        "import scipy.special"
      ]
    },
    {
      "cell_type": "markdown",
      "id": "52ec5b72-f19b-4df1-b897-f8284d0c976a",
      "metadata": {
        "id": "52ec5b72-f19b-4df1-b897-f8284d0c976a"
      },
      "source": [
        "Jeg vil her gi enda et eksempel på en hypotesetest som tar utgangspunkt i\n",
        "temperaturene i Bergen vi studerte i første uken av dette kurset.\n",
        "\n",
        "Temperaturene ser ut til å ha økt i perioden vi har\n",
        "målinger for.\n",
        "\n",
        "La oss gjette på at temperaturen har økt med mere enn en grad i\n",
        "gjennomsnitt.\n",
        "\n",
        "Mere presist vil jeg gjøre utsagnet stigningstallet for den beste linjen som tilnærmer sannsynlighetsfordelingen\n",
        "som temperaturmålingene er trukket fra er større enn stigningstallet til linjen som vokser med vekstraten $\\widetilde x_{1} = 1 \\ C^{\\circ}$ per 40 år.\n",
        "\n",
        "Jeg vil bruke alle de daglige temperaturmålingene i datasettet vårt\n",
        "for å teste denne hypotesen.\n",
        "\n",
        "Jeg antar at temperaturene er trukket fra en sannsynlighetsfordeling som har en beste lineær lilnærming på formen\n",
        "\n",
        "$$L(t) = x_1 t + x_2.$$\n",
        "\n",
        "At $L(t)$ er en beste lineær tilnærming betyr at $x_1$ og $x_2$ er valgt slik at gjennomsnittsverdien til tallet $L(t) - y$ er minst mulig for et tilfeldig\n",
        "trukket par $(t, y)$ av en tid $t$ og en temperatur $y$ til tiden $t$. For at teorien bak hypotesetesten skal fungere må størrelsen $L(t) - y$ være normalfordelt.\n",
        "\n",
        "Hypotesen min kan formuleres som følger:"
      ]
    },
    {
      "cell_type": "markdown",
      "id": "cab328b1-6fdb-47b1-86a1-12494b6cb10e",
      "metadata": {
        "id": "cab328b1-6fdb-47b1-86a1-12494b6cb10e"
      },
      "source": [
        "**Antatt stigningstall** $\\widetilde x_1 = \\frac{1 \\ C^{\\circ}}{\\text{antall dager på 40 år}} = \\frac{1 \\ C^{\\circ}}{14609.6 \\text{ dager}} = 6.8448 \\cdot 10^{-5}\\ C^{\\circ}/\\text{dag}$\n",
        "\n",
        "**Nullhypotese ($H_0)$:** $x_1 = \\widetilde x_1$.\n",
        "\n",
        "**Alternativ hypotese ($H_1$):** $x_1  > \\widetilde x_1$."
      ]
    },
    {
      "cell_type": "markdown",
      "id": "457142a1-69e7-4185-ba03-d13ac59d6fd5",
      "metadata": {
        "id": "457142a1-69e7-4185-ba03-d13ac59d6fd5"
      },
      "source": [
        "## Temperaturdata"
      ]
    },
    {
      "cell_type": "markdown",
      "id": "c4ec9812-b76d-4ad4-b75a-a7dd3566b70d",
      "metadata": {
        "id": "c4ec9812-b76d-4ad4-b75a-a7dd3566b70d"
      },
      "source": [
        "Jeg laster inn temperaturdata gitt ved tidspunkter $t_1, t_2, \\dots$ og tilhørende temperaturer $y_1, y_2, \\dots$.\n",
        "Jeg skriver\n",
        "$\\mathbf{t} = [t_1, t_2, \\dots, t_n]^T$ for punktet i $\\mathbb{R}^n$ gitt ved tidene og\n",
        "$\\mathbf{y} = [y_1, y_2, \\dots, y_n]^T$ for punktet i $\\mathbb{R}^n$ gitt ved temperaturene.\n",
        "\n",
        "Jeg vil skrive\n",
        "$$L_{\\mathbf{t},\\mathbf{y}}(t) = x_1(\\mathbf{t},\\mathbf{y}) t + x_2(\\mathbf{t},\\mathbf{y})$$\n",
        "for den lineære regresjonslinjen gjennom datapunktene. I forrige uke så vi hvordan vi beregner\n",
        "$x_1(\\mathbf{t},\\mathbf{y})$\n",
        "og\n",
        "$x_2(\\mathbf{t},\\mathbf{y})$.\n"
      ]
    },
    {
      "cell_type": "code",
      "execution_count": null,
      "id": "1227e4c3-0805-44b1-b46d-acb584ccc3bd",
      "metadata": {
        "id": "1227e4c3-0805-44b1-b46d-acb584ccc3bd"
      },
      "outputs": [],
      "source": [
        "# Her importeres Point og Daily funksjonalitetene fra meteostat modulen.\n",
        "# Hvis meteostat ikke allerede er installert blir den installert.\n",
        "try:\n",
        "  import meteostat\n",
        "except:\n",
        "  !pip install meteostat\n",
        "  import meteostat"
      ]
    },
    {
      "cell_type": "code",
      "execution_count": null,
      "id": "14ffe592-c5ee-4f04-9c8c-864e1c57a2c8",
      "metadata": {
        "id": "14ffe592-c5ee-4f04-9c8c-864e1c57a2c8"
      },
      "outputs": [],
      "source": [
        "# Her importeres modulen pandas som pd sammen med numpy og matplotlib\n",
        "\n",
        "import pandas as pd\n",
        "import numpy as np\n",
        "import matplotlib.pyplot as plt\n",
        "from scipy.stats import t\n",
        "\n"
      ]
    },
    {
      "cell_type": "code",
      "execution_count": null,
      "id": "b89e4186-0ae9-48b6-9387-664f029b4c73",
      "metadata": {
        "id": "b89e4186-0ae9-48b6-9387-664f029b4c73"
      },
      "outputs": [],
      "source": [
        "# Her importeres funksjonaliteten datetime fra modulen datetime.\n",
        "# Datetime gir oss en bekvem måte å jobbe med tidsdate på.\n",
        "\n",
        "from datetime import datetime, timedelta"
      ]
    },
    {
      "cell_type": "code",
      "execution_count": null,
      "id": "616faf12-40b0-47e1-9cd4-c799b9443c24",
      "metadata": {
        "id": "616faf12-40b0-47e1-9cd4-c799b9443c24"
      },
      "outputs": [],
      "source": [
        "# Sett tidsperioden vi vil hente data fra\n",
        "# Vi henter inn hele kalenderår.\n",
        "\n",
        "start = datetime(1973, 1, 1)\n",
        "end = datetime(2024, 12, 31)"
      ]
    },
    {
      "cell_type": "code",
      "execution_count": null,
      "id": "80e648d9-f4ad-4f81-955b-a3a562807eaa",
      "metadata": {
        "id": "80e648d9-f4ad-4f81-955b-a3a562807eaa"
      },
      "outputs": [],
      "source": [
        "# Målestasjon Florida Bergen\n",
        "data = meteostat.Daily('01317', start, end)\n",
        "data = data.fetch()"
      ]
    },
    {
      "cell_type": "code",
      "execution_count": null,
      "id": "63a92c8c-badd-4954-ad01-a48a214a9d64",
      "metadata": {
        "id": "63a92c8c-badd-4954-ad01-a48a214a9d64"
      },
      "outputs": [],
      "source": [
        "# Insisterer på å ha en rad for hver dag. Uten hull!\n",
        "data = data.resample('D').mean()"
      ]
    },
    {
      "cell_type": "code",
      "execution_count": null,
      "id": "91dda140-bb10-4a6d-86eb-0bc2390d7794",
      "metadata": {
        "id": "91dda140-bb10-4a6d-86eb-0bc2390d7794"
      },
      "outputs": [],
      "source": [
        "# Setter manglende observasjoner lik gårsdagens observasjon\n",
        "data = data.ffill()"
      ]
    },
    {
      "cell_type": "code",
      "execution_count": null,
      "id": "f179bde1-1f7d-4839-a997-a78d1ebe5521",
      "metadata": {
        "id": "f179bde1-1f7d-4839-a997-a78d1ebe5521"
      },
      "outputs": [],
      "source": [
        "# setter endedato til å være siste dag vi har data for\n",
        "end = data.index[-1]"
      ]
    },
    {
      "cell_type": "code",
      "execution_count": null,
      "id": "0b95880d-d93c-4140-8d1e-19b5b109b7bf",
      "metadata": {
        "id": "0b95880d-d93c-4140-8d1e-19b5b109b7bf"
      },
      "outputs": [],
      "source": [
        "#Vi leser inn tiden talt i dager fra første måling\n",
        "t = (np.array(data.index) - np.array(data.index)[0]).astype(np.timedelta64(1, 'D')).astype(float)[:, None]"
      ]
    },
    {
      "cell_type": "code",
      "execution_count": null,
      "id": "aca3c50a-992b-49ad-b64a-43c4e7c7d72a",
      "metadata": {
        "id": "aca3c50a-992b-49ad-b64a-43c4e7c7d72a"
      },
      "outputs": [],
      "source": [
        "y = data['tavg'].values[:, None].astype(float)"
      ]
    },
    {
      "cell_type": "code",
      "execution_count": null,
      "id": "1015e6fc-d959-4226-94c5-95a68999ec7e",
      "metadata": {
        "id": "1015e6fc-d959-4226-94c5-95a68999ec7e"
      },
      "outputs": [],
      "source": [
        "A = np.ones((t.size, 2))\n",
        "A[:, 0] = t[:, 0]"
      ]
    },
    {
      "cell_type": "code",
      "execution_count": null,
      "id": "eef3a04b-34e7-44f8-9447-19e8435a9904",
      "metadata": {
        "id": "eef3a04b-34e7-44f8-9447-19e8435a9904"
      },
      "outputs": [],
      "source": [
        "# Hjelpestørrelser for analytisk beregning av av regresjonslinje\n",
        "\n",
        "Ey = np.mean(y)\n",
        "Eyt = np.mean(y * t)\n",
        "Et = np.mean(t)\n",
        "Ett = np.mean(t * t)"
      ]
    },
    {
      "cell_type": "markdown",
      "id": "6b56de4b-caad-4857-b9b5-b224b7066858",
      "metadata": {
        "id": "6b56de4b-caad-4857-b9b5-b224b7066858"
      },
      "source": [
        "Husk: $x_1 = \\frac{E(\\mathbf{y}\\mathbf{t}) - E(\\mathbf{t})E(\\mathbf{y})}{E(\\mathbf{t}^2) - E(\\mathbf{t})^2}$\n",
        "og $x_2 = E(\\mathbf{y}) - x_1E(\\mathbf{t})$"
      ]
    },
    {
      "cell_type": "code",
      "execution_count": null,
      "id": "22b2a305-9998-4772-8bd6-1e89c8a538fa",
      "metadata": {
        "id": "22b2a305-9998-4772-8bd6-1e89c8a538fa"
      },
      "outputs": [],
      "source": [
        "# Beregner heldning og hvor regresjonslinje krysser y-aksen\n",
        "xx1 = (Eyt - Et * Ey)/(Ett - Et * Et)\n",
        "xx2 = Ey - xx1 * Et\n",
        "\n",
        "# Legger x1 og x2 inn i en vektor\n",
        "xx = np.array([[xx1],[xx2]])\n",
        "\n",
        "# Beregner regresjonslinjen\n",
        "L= xx1 * t + xx2"
      ]
    },
    {
      "cell_type": "code",
      "execution_count": null,
      "id": "de5d5d34-61a5-4756-acf0-b833f1d45ace",
      "metadata": {
        "id": "de5d5d34-61a5-4756-acf0-b833f1d45ace"
      },
      "outputs": [],
      "source": [
        "# Legger regresjonslinjen inn i pandas dataframe\n",
        "data['L'] = L"
      ]
    },
    {
      "cell_type": "code",
      "execution_count": null,
      "id": "c561d900-4e36-49d8-b04b-d355f858642f",
      "metadata": {
        "id": "c561d900-4e36-49d8-b04b-d355f858642f",
        "outputId": "481aa762-9ee4-4388-a7de-8255204b1264"
      },
      "outputs": [
        {
          "data": {
            "text/plain": [
              "<Axes: xlabel='time'>"
            ]
          },
          "execution_count": 16,
          "metadata": {},
          "output_type": "execute_result"
        },
        {
          "data": {
            "image/png": "[encoded data removed]",
            "text/plain": [
              "<Figure size 640x480 with 1 Axes>"
            ]
          },
          "metadata": {},
          "output_type": "display_data"
        }
      ],
      "source": [
        "data.plot(y=['tavg', 'L'])"
      ]
    },
    {
      "cell_type": "markdown",
      "id": "f25b6399-519a-4cd2-aace-61363430089a",
      "metadata": {
        "id": "f25b6399-519a-4cd2-aace-61363430089a"
      },
      "source": [
        "La oss se om feilen til den lineære regresjonen er normalfordelt:"
      ]
    },
    {
      "cell_type": "code",
      "execution_count": null,
      "id": "f5ddc179-8bc1-44dc-98c3-53ad2d4e63d6",
      "metadata": {
        "id": "f5ddc179-8bc1-44dc-98c3-53ad2d4e63d6"
      },
      "outputs": [],
      "source": [
        "data['lineært_residual'] = data['L'] - data['tavg']"
      ]
    },
    {
      "cell_type": "code",
      "execution_count": null,
      "id": "8412e368-be12-457e-8227-faa7b57eada1",
      "metadata": {
        "colab": {
          "base_uri": "https://localhost:8080/",
          "height": 452
        },
        "id": "8412e368-be12-457e-8227-faa7b57eada1",
        "outputId": "f6a74844-3cd9-4ca2-9957-62bc2bce00ac"
      },
      "outputs": [
        {
          "data": {
            "image/png": "[encoded data removed]",
            "text/plain": [
              "<Figure size 640x480 with 1 Axes>"
            ]
          },
          "metadata": {},
          "output_type": "display_data"
        }
      ],
      "source": [
        "mu, std = scipy.stats.norm.fit(data['lineært_residual'])\n",
        "data['lineært_residual'].plot(kind='hist', bins=30, density=True)\n",
        "range = np.arange(-10, 10, 0.01)\n",
        "# plt.plot(range, norm.pdf(range,0,4))\n",
        "xmin, xmax = plt.xlim()\n",
        "plt.plot(np.linspace(xmin, xmax, 100), scipy.stats.norm.pdf(np.linspace(xmin, xmax, 100), mu, std), 'k', linewidth=2)\n",
        "title = \"Fit Values: {:.2f} and {:.2f}\".format(mu, std)\n",
        "plt.title(title);"
      ]
    },
    {
      "cell_type": "markdown",
      "id": "5a98f313-ac68-4667-aa0e-75a87a1611ea",
      "metadata": {
        "id": "5a98f313-ac68-4667-aa0e-75a87a1611ea"
      },
      "source": [
        "**Det ser ikke bra ut!**"
      ]
    },
    {
      "cell_type": "markdown",
      "id": "5231d47a-ed59-472d-b727-cd9a3e28ddc1",
      "metadata": {
        "id": "5231d47a-ed59-472d-b727-cd9a3e28ddc1"
      },
      "source": [
        "## Test av stigningstall i regresjon"
      ]
    },
    {
      "cell_type": "markdown",
      "id": "9864d171-34c1-41b6-a997-904ec012c889",
      "metadata": {
        "id": "9864d171-34c1-41b6-a997-904ec012c889"
      },
      "source": [
        "Standardavviket for estimeringen av $x_1$ kan tilnærmes med formelen:\n",
        "\n",
        "$$\\sigma(x_1(\\mathbf{t},\\mathbf{y})) =\\frac{ 1}{\\sqrt{n}\\ \\sigma(\\mathbf{t})}  \\sqrt{\\frac{\\operatorname{SSR(L, \\mathbf{t}, \\mathbf{y}})}{n-2}} $$"
      ]
    },
    {
      "cell_type": "markdown",
      "id": "486dfa71-2cf1-4393-ba17-b7764492162f",
      "metadata": {
        "id": "486dfa71-2cf1-4393-ba17-b7764492162f"
      },
      "source": [
        "Hvor\n",
        "$$\\operatorname{SSR(L, \\mathbf{t}, \\mathbf{y}}) = (y_1 - L(t_1))^2 + \\dots + (y_n - L(t_n))^2$$\n",
        "og\n",
        "$\\sigma(\\mathbf{t})^2 = E(\\mathbf{t}^2) - E(\\mathbf{t})^2$.\n"
      ]
    },
    {
      "cell_type": "markdown",
      "id": "605fcb61-4cc7-4d80-b3f0-3af9da572ac0",
      "metadata": {
        "id": "605fcb61-4cc7-4d80-b3f0-3af9da572ac0"
      },
      "source": [
        "$t$-verdien for hypotesen om at det underliggende stigningstallet $x_1$ er lik $\\widetilde x_1$ er gitt ved formelen\n",
        "$$t = \\frac{x_1(\\mathbf{t},\\mathbf{y}) - \\widetilde x_1}{\\sigma(x_1(\\mathbf{t},\\mathbf{y}))}.$$"
      ]
    },
    {
      "cell_type": "markdown",
      "id": "af1d5ceb-1c0f-4d94-8443-05d14f31fc6e",
      "metadata": {
        "id": "af1d5ceb-1c0f-4d94-8443-05d14f31fc6e"
      },
      "source": [
        "Antallet av frihetsgrader er $n$ minus antall parametre som estimeres. Vi estimerer parametrene $x_1$ og $x_2$, så\n",
        "antallet av frihetsgrader er $n - 2$."
      ]
    },
    {
      "cell_type": "markdown",
      "id": "715ffb72-739b-4f0d-a8a7-f1dd72e12d3b",
      "metadata": {
        "id": "715ffb72-739b-4f0d-a8a7-f1dd72e12d3b"
      },
      "source": [
        "Vi er nå klar til å avgjøre om nullhypotesen vår skal forkastes:"
      ]
    },
    {
      "cell_type": "markdown",
      "id": "a9d082cc-55f9-4018-9fdc-0589b80f438a",
      "metadata": {
        "id": "a9d082cc-55f9-4018-9fdc-0589b80f438a"
      },
      "source": [
        "Vi kan se på $x_1$ som en funksjon av $t$-verdien:\n",
        "\n",
        "$$x_1 = x_1(\\mathbf{t},\\mathbf{y})  - t  {\\sigma(x_1(\\mathbf{t},\\mathbf{y}))}.$$"
      ]
    },
    {
      "cell_type": "code",
      "execution_count": null,
      "id": "4f0050b0-1744-4918-85fb-0704c0f689d0",
      "metadata": {
        "id": "4f0050b0-1744-4918-85fb-0704c0f689d0"
      },
      "outputs": [],
      "source": [
        "x1tilde = 1. / (365.2425 * 40)\n",
        "SSR_av_L_t_y = np.sum((y - L)**2)"
      ]
    },
    {
      "cell_type": "code",
      "execution_count": null,
      "id": "dd1a478d-4845-4640-a551-54833ced1726",
      "metadata": {
        "id": "dd1a478d-4845-4640-a551-54833ced1726"
      },
      "outputs": [],
      "source": [
        "sigmaxx1 = (np.sqrt(SSR_av_L_t_y / (len(y) - 2)) / (np.sqrt(len(y)) * np.std(t)))\n",
        "t_verdi = (xx1 - x1tilde)/(sigmaxx1)"
      ]
    },
    {
      "cell_type": "code",
      "execution_count": null,
      "id": "97d47fe8-99b4-4bee-9787-57aca51aab4c",
      "metadata": {
        "id": "97d47fe8-99b4-4bee-9787-57aca51aab4c"
      },
      "outputs": [],
      "source": [
        "antall_frihetsgrader = len(y) - 2"
      ]
    },
    {
      "cell_type": "code",
      "execution_count": null,
      "id": "f356386f-a062-44d6-9f4e-5f56f0e737a9",
      "metadata": {
        "id": "f356386f-a062-44d6-9f4e-5f56f0e737a9",
        "outputId": "399911b9-88ce-4070-98d9-ff8503d9616e"
      },
      "outputs": [
        {
          "data": {
            "text/plain": [
              "np.float64(0.6715067385987298)"
            ]
          },
          "execution_count": 22,
          "metadata": {},
          "output_type": "execute_result"
        }
      ],
      "source": [
        "t_verdi"
      ]
    },
    {
      "cell_type": "markdown",
      "id": "8453abf1-3d95-4f01-93af-4d01bb201d09",
      "metadata": {
        "id": "8453abf1-3d95-4f01-93af-4d01bb201d09"
      },
      "source": [
        "Teorien for normalfordelte observasjoner forutsier at $t$-verdien vi nettopp beregnet vil fordele seg etter en $t$-fordeling med $n-2$ frihetsgrader.\n",
        "\n",
        "$t$-fordelingen er tilnærmet lik normalfordelingen med standardavvik $1$ og gjennomsnitt $0$ når antallet av frihetsgrader er stort."
      ]
    },
    {
      "cell_type": "markdown",
      "id": "85d29665-e47b-4602-9e6d-b54e105bcfde",
      "metadata": {
        "id": "85d29665-e47b-4602-9e6d-b54e105bcfde"
      },
      "source": [
        "## Overgang fra t-verdi til sannsynlighet, eller p-verdi\n",
        "\n",
        "Vi antar at temperaturen $y$ er fordelt etter en normalfordeling med gjennomsnittsverdi $\\mu$ og standardavvik $\\sigma$.\n",
        "\n",
        "Gitt en $t$-verdien $t\\_\\text{verdi}$ og antallet av frihetsgrader kan vi finne sannsynligheten for at $\\mu \\le \\mu_0$ og sannsynligheten for at $\\mu > \\mu_0$.\n",
        "\n",
        "Hvis sannsynligheten for nullhypotesen $H_0$: $\\mu \\le \\mu_0$ er veldig liten velger vi å forkaste nullhypotesen.\n",
        "\n",
        "Vi må på forhånd bestemme oss for hva vi mener med veldig liten.\n",
        "\n",
        "Et typisk valg er \"mindre en 5%\".\n",
        "\n",
        "I vårt tilfelle er $t\\_\\text{verdi}$ og antall frihetsgrader gitt ved:"
      ]
    },
    {
      "cell_type": "code",
      "execution_count": null,
      "id": "de8326c6-96e4-4455-8e36-6674f9559d79",
      "metadata": {
        "id": "de8326c6-96e4-4455-8e36-6674f9559d79",
        "outputId": "9586776f-da03-4ae6-d1ef-fa1c89e6f973"
      },
      "outputs": [
        {
          "data": {
            "text/plain": [
              "(0.6715067385987298, 18991)"
            ]
          },
          "execution_count": 23,
          "metadata": {},
          "output_type": "execute_result"
        }
      ],
      "source": [
        "# t-verdi og antall frihetsgrader\n",
        "\n",
        "sigmay = np.std(y)\n",
        "antall_frihetsgrader = len(y) - 2\n",
        "float(t_verdi), antall_frihetsgrader"
      ]
    },
    {
      "cell_type": "markdown",
      "id": "a2f65403-504f-4aa7-8b69-9c8c6306e461",
      "metadata": {
        "id": "a2f65403-504f-4aa7-8b69-9c8c6306e461"
      },
      "source": [
        "Arealet til det røde området på figuren under er sannsynligheten for at nullhypotesen er sann."
      ]
    },
    {
      "cell_type": "code",
      "execution_count": null,
      "id": "8c5ba099-26d3-4332-9be9-854363090c8f",
      "metadata": {
        "id": "8c5ba099-26d3-4332-9be9-854363090c8f",
        "outputId": "d9398d9a-2410-4917-ca1b-a62f4eba723b"
      },
      "outputs": [
        {
          "data": {
            "image/png": "[encoded data removed]",
            "text/plain": [
              "<Figure size 640x480 with 1 Axes>"
            ]
          },
          "metadata": {},
          "output_type": "display_data"
        }
      ],
      "source": [
        "# @title plot\n",
        "import matplotlib.pyplot as plt\n",
        "import numpy as np\n",
        "\n",
        "# Define the function\n",
        "x = np.linspace(-4, 4, 1000)\n",
        "yy = scipy.stats.t.pdf(x, antall_frihetsgrader)  # t-fordeling med 10 frihetsgrader\n",
        "t_crit = t_verdi\n",
        "\n",
        "def t_av_mu(m):\n",
        "    return (xx1 - m)/(sigmaxx1)\n",
        "\n",
        "def mu_av_t(t):\n",
        "    return xx1 - t*sigmaxx1\n",
        "\n",
        "ax = plt.gca()\n",
        "\n",
        "plt.plot(x, yy, color='black')\n",
        "plt.fill_between(x, yy, where=(x > t_crit), color='red', alpha=0.5, label=r'$P(H_0)=P(μ≤μ0)$')\n",
        "plt.fill_between(x, yy, where=(x < t_crit), color='blue', alpha=0.5, label=r'$P(H_a)=P(μ>μ0)$')\n",
        "# Remove default spines\n",
        "ax.spines[\"top\"].set_visible(False)\n",
        "ax.spines[\"right\"].set_visible(False)\n",
        "ax.spines[\"left\"].set_visible(False)\n",
        "ax.spines[\"bottom\"].set_visible(False)\n",
        "\n",
        "# Set limits\n",
        "ax.set_xlim(-5, 5)\n",
        "ax.set_ylim(-.3, .5)  # Ensure axes are visible\n",
        "\n",
        "# Draw the primary x-axis (for x) with an arrow\n",
        "ax.plot([-4, 4], [0, 0], color=\"black\", lw=1.5)\n",
        "ax.annotate(\"\", xy=(4.1, 0), xytext=(4., 0),\n",
        "            arrowprops=dict(arrowstyle=\"->\", lw=1.5), annotation_clip=False)\n",
        "ax.text(4.4, 0, r\"t\", verticalalignment=\"center\")\n",
        "\n",
        "# Draw the secondary x-axis (for -x) with an arrow\n",
        "ax.plot([-4.1, 4], [-.1, -.1], color=\"black\", lw=1.5)\n",
        "ax.annotate(\"\", xy=(4.1, -.1), xytext=(4., -.1),\n",
        "            arrowprops=dict(arrowstyle=\"->\", lw=1.5), annotation_clip=False)\n",
        "ax.text(4.4, -.1, r\"p\", verticalalignment=\"center\")\n",
        "\n",
        "# Draw the third x-axis (for -x) with an arrow\n",
        "ax.plot([-4.1, 4], [-.2, -.2], color=\"black\", lw=1.5)\n",
        "ax.annotate(\"\", xy=(-4.2, -.2), xytext=(-4.1, -.2),\n",
        "            arrowprops=dict(arrowstyle=\"->\", lw=1.5), annotation_clip=False)\n",
        "ax.text(-5.2, -.2, r\"$10^5 \\cdot x_1$\", verticalalignment=\"center\")\n",
        "\n",
        "# Draw the y-axis with an arrow\n",
        "ax.plot([0, 0], [0, .45], color=\"black\", lw=1.5)\n",
        "ax.annotate(\"\", xy=(0, .46), xytext=(0, .45),\n",
        "            arrowprops=dict(arrowstyle=\"->\", lw=1.5), annotation_clip=False)\n",
        "#ax.text(-0.3, .45, r\"y\", verticalalignment=\"center\")\n",
        "\n",
        "\n",
        "# Set x-ticks for t-axis\n",
        "ticks = np.arange(-3, 4, 1)  # Tick positions\n",
        "\n",
        "# Draw ticks for t-axis\n",
        "for ti in ticks:\n",
        "    ax.plot([ti, ti], [-.01, .01], color=\"black\", lw=1)  # Small tick marks\n",
        "    ax.text(ti, -.05, f\"{ti}\", fontsize=10, ha=\"center\")  # Labels below ticks\n",
        "\n",
        "# Draw ticks for p-axis\n",
        "for ti in ticks:\n",
        "    p = scipy.stats.t.cdf(-ti, antall_frihetsgrader)\n",
        "    ax.plot([ti, ti], [-.11, -.09], color=\"black\", lw=1)  # Small tick marks\n",
        "    ax.text(ti, -.15, f\"{p:.3f}\", fontsize=10, ha=\"center\")  # Labels below ticks\n",
        "\n",
        "# Set ticks for μ-axis\n",
        "# mu_verdier = np.arange(0.9, 1.5, .1)\n",
        "# muticks = [t_av_mu(mu) for mu in mu_verdier]\n",
        "# # muticks = [mu_av_t(t) for t in ticks]\n",
        "# # Draw ticks for secondary x-axis (-x)\n",
        "# for t, mu in zip(muticks, mu_verdier):\n",
        "#     ax.plot([t, t], [-.21, -.19], color=\"black\", lw=1)  # Small tick marks\n",
        "#     ax.text(t, -.25, f\"{mu:.2f}\", fontsize=10, ha=\"center\")  # Labels below ticks\n",
        "for ti in ticks:\n",
        "    ax.plot([ti, ti], [-.21, -.19], color=\"black\", lw=1)  # Small tick marks\n",
        "    ax.text(ti, -.25, f\"{int(10000000*mu_av_t(ti))/100:.1f}\", fontsize=10, ha=\"center\")  # Labels below ticks\n",
        "\n",
        "# Remove y-ticks\n",
        "ax.set_yticks([])\n",
        "ax.set_xticks([])\n",
        "plt.legend()\n",
        "plt.show()\n"
      ]
    },
    {
      "cell_type": "markdown",
      "id": "e5f9b07a-d32a-4d7c-a33f-40a9b429d4b1",
      "metadata": {
        "id": "e5f9b07a-d32a-4d7c-a33f-40a9b429d4b1"
      },
      "source": [
        "Nullhypotesen $x_1 = \\widetilde x_1$ forkastes når sannsynligheten for alternativ hypotese $H_1$: $x_1 > \\widetilde x_1$ er minst $95 \\%$. Det er det samme som at sannsynligheten for $H_0$ er høyst $5 \\%$.\n",
        "\n",
        "I gitt fall sier vi at nullhypotesen forkastes med $5 \\%$ signifikansnivå."
      ]
    },
    {
      "cell_type": "markdown",
      "id": "854445ca-0b8f-4655-a5de-707177218e26",
      "metadata": {
        "id": "854445ca-0b8f-4655-a5de-707177218e26"
      },
      "source": [
        "Som for normalfordelingen kan scipy hjelpe oss med å finne dette arealet:"
      ]
    },
    {
      "cell_type": "code",
      "execution_count": null,
      "id": "cdbeb6db-efb7-48ea-ae32-8f2fa06e43a8",
      "metadata": {
        "id": "cdbeb6db-efb7-48ea-ae32-8f2fa06e43a8",
        "outputId": "7499d86b-4ad6-4b64-cfbd-189fcf9053ee"
      },
      "outputs": [
        {
          "data": {
            "text/plain": [
              "np.float64(0.25095296796550515)"
            ]
          },
          "execution_count": 25,
          "metadata": {},
          "output_type": "execute_result"
        }
      ],
      "source": [
        "# p-verdi\n",
        "1 - scipy.stats.t.cdf(t_verdi, df=antall_frihetsgrader)"
      ]
    },
    {
      "cell_type": "code",
      "execution_count": null,
      "id": "27846dc3-5d61-467f-8693-d96ce24d13db",
      "metadata": {
        "id": "27846dc3-5d61-467f-8693-d96ce24d13db"
      },
      "outputs": [],
      "source": [
        "# Siden t-funksjonen er symmetrisk fås samme verdi ved å integrere frem til -t_verdi\n",
        "p_verdi = scipy.stats.t.cdf(-t_verdi, antall_frihetsgrader)"
      ]
    },
    {
      "cell_type": "code",
      "execution_count": null,
      "id": "6c0779e6-eb04-4cd2-9122-155181d3351b",
      "metadata": {
        "id": "6c0779e6-eb04-4cd2-9122-155181d3351b",
        "outputId": "5c2c770a-bbbc-4ad5-8380-49a5195854a7"
      },
      "outputs": [
        {
          "data": {
            "text/plain": [
              "25.095296796550514"
            ]
          },
          "execution_count": 27,
          "metadata": {},
          "output_type": "execute_result"
        }
      ],
      "source": [
        "#vi får p-verdien\n",
        "\n",
        "float(100 * p_verdi)"
      ]
    },
    {
      "cell_type": "markdown",
      "id": "ef385445-7292-4a4b-9ec7-d491b9e6d0ba",
      "metadata": {
        "id": "ef385445-7292-4a4b-9ec7-d491b9e6d0ba"
      },
      "source": [
        "Vi kan altså **overhodet ikke** forkaste nullhypotesen som sier at temperaturen i Bergen ikke er steget med mere enn en grad celsius med et signifikansnivå på 5%."
      ]
    },
    {
      "cell_type": "markdown",
      "id": "db3c5431-a70a-4c3b-8112-4ec534300be1",
      "metadata": {
        "id": "db3c5431-a70a-4c3b-8112-4ec534300be1"
      },
      "source": [
        "**Konklusjon:**\n",
        "\n",
        "Vi **vet ikke** om temperaturen i Bergen er steget med mere enn en grad per 40 år."
      ]
    },
    {
      "cell_type": "markdown",
      "id": "35b59130-891e-4522-9531-f359c67646bf",
      "metadata": {
        "id": "35b59130-891e-4522-9531-f359c67646bf"
      },
      "source": [
        "## Oppgave\n",
        "\n",
        "Hva hadde p-verdien blitt hvis vi testet på om temperaturen i Bergen er steget med mere enn en **halv** grad per 40 år."
      ]
    },
    {
      "cell_type": "markdown",
      "id": "32ccedbf-4cf5-42a4-b497-3630fd4c1f32",
      "metadata": {
        "id": "32ccedbf-4cf5-42a4-b497-3630fd4c1f32"
      },
      "source": [
        "[Test stigningstall for årlige gjennomsnittstemperaturer](test_stigning_gjennomsnitt.ipynb)"
      ]
    },
    {
      "cell_type": "code",
      "execution_count": null,
      "id": "9dac137a-49bf-4ee7-9522-5744e494c98e",
      "metadata": {
        "id": "9dac137a-49bf-4ee7-9522-5744e494c98e"
      },
      "outputs": [],
      "source": []
    },
    {
      "cell_type": "code",
      "execution_count": null,
      "id": "1390ee59-4710-4e34-aa07-bb478a5c389d",
      "metadata": {
        "id": "1390ee59-4710-4e34-aa07-bb478a5c389d"
      },
      "outputs": [],
      "source": []
    }
  ],
  "metadata": {
    "kernelspec": {
      "display_name": "Python 3 (ipykernel)",
      "language": "python",
      "name": "python3"
    },
    "language_info": {
      "codemirror_mode": {
        "name": "ipython",
        "version": 3
      },
      "file_extension": ".py",
      "mimetype": "text/x-python",
      "name": "python",
      "nbconvert_exporter": "python",
      "pygments_lexer": "ipython3",
      "version": "3.12.8"
    },
    "colab": {
      "provenance": []
    }
  },
  "nbformat": 4,
  "nbformat_minor": 5
}