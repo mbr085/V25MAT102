{
 "cells": [
  {
   "cell_type": "markdown",
   "id": "9c284a0c-10d1-4556-8960-7d55be5a3d6b",
   "metadata": {},
   "source": [
    "# Hypotesetest\n",
    "\n",
    "Jeg vil her gi et eksempel på en hypotesetest som tar utgangspunkt i\n",
    "temperaturene i Bergen som vi studerte i første uken av dette kurset.\n",
    "\n",
    "Vi har sett at temperaturene ser ut til å ha økt i perioden vi har\n",
    "målinger for. La oss gjette på at temperaturen har økt med en grad i\n",
    "gjennomsnitt. Mere presist vil jeg gjøre utsagnet at på en tilfeldig dag\n",
    "i løpet av de siste tre årene er temperaturen mere enn en grad høyere\n",
    "enn den var på samme dag for førti år siden.\n",
    "\n",
    "Det jeg ser på er altså forskjellen i temperatur mellom en gitt dag og\n",
    "samme dagen på året førti år tidligere. Det data jeg vil bruke for å\n",
    "teste denne hypotesen er de daglige temperaturmålingene i de siste 1095\n",
    "dagene (de siste tre årene) og de 1095 dagene som var 40 år tidligere.\n",
    "For $i = 1, \\dots, 1095$ la $y_i$ være temperaturen for $i$ dager siden\n",
    "minus temperaturen for $i$ dager og $40$ år siden. Mitt gjett er at\n",
    "gjennomsnittet $E(y)$ av tallene $y_i$ er større enn $1$.\n",
    "\n",
    "*Nullhypotese 1*. Gjennomsnittet $E(y)$ er lik $\\mu_0 = 1$.\n",
    "\n",
    "Gjennomsnittet $E(y)$ er større enn $\\mu_0 = 1$.\n",
    "\n",
    "## Kriterier for hypotesetest\n",
    "\n",
    "For å teste denne hypotesen vil jeg bruke en $t$-test. Jeg har ett\n",
    "utvalg av temperaturforskjeller $y_1, \\dots, y_{1095}$, og nullhypotesen\n",
    "er at gjennomsnittet av disse tallene er lik $1$.\n",
    "\n",
    "En forutsetning for å bruke en $t$-test er at målingene er\n",
    "normalfordelte. Jeg vet ikke på forhånd om målingene er normalfordelte,\n",
    "men jeg kan danne meg en formening om dette ved å se på et histogram av\n",
    "målingene. Jeg kan finne normalfordelingskurven som passer best til\n",
    "histogrammet og sammenligne de to.\n",
    "\n",
    "Hvis det ser bra ut kan jeg fortsette. Ellers må jeg finne en annen\n",
    "metode eller en annen hypotese.\n",
    "\n",
    "Ser det bra ut kan jeg fortsette med å beregne $t$-verdien og\n",
    "$p$-verdien. Formelen for $t$-verdien er\n",
    "$$t = \\frac{E(y) - \\mu_0}{\\sigma/\\sqrt{n}},$$ hvor $\\sigma$ er\n",
    "standardavviket til målingene og $n$ er antall målinger.\n",
    "\n",
    "Når vi vil gå fra $t$-verdi til $p$-verdi må vi bruke en $t$-fordeling\n",
    "med $n-1$ frihetsgrader. Slike $t$-fordelinger er tabellført, og vi kan\n",
    "finne $p$-verdien ved å se på tabellen. Det er også mulig å bruke en\n",
    "datamaskin til å finne $p$-verdien, for eksempel med python.\n",
    "\n",
    "Jeg vil bruke en to-utvalgs $t$-test Dette er en to-utvalgs $t$-test. La\n",
    "$y^1_1, \\dots, y^1_{1095}$ være de første 1095 målingene og\n",
    "$y^2_1, \\dots, y^2_{1095}$ være de siste 1095 målingene. Vi antar at\n",
    "målingene er normalfordelte med ukjent varians $\\sigma^2$.\n",
    "\n",
    "hei deg:bn"
   ]
  }
 ],
 "metadata": {
  "kernelspec": {
   "display_name": "Python 3 (ipykernel)",
   "language": "python",
   "name": "python3"
  },
  "language_info": {
   "codemirror_mode": {
    "name": "ipython",
    "version": 3
   },
   "file_extension": ".py",
   "mimetype": "text/x-python",
   "name": "python",
   "nbconvert_exporter": "python",
   "pygments_lexer": "ipython3",
   "version": "3.12.8"
  }
 },
 "nbformat": 4,
 "nbformat_minor": 5
}
