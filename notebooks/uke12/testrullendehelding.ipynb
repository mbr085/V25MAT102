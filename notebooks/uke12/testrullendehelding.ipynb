{
 "cells": [
  {
   "cell_type": "markdown",
   "id": "b7308220-b60f-4000-a380-5cf27c1e1099",
   "metadata": {},
   "source": [
    "# Hypotesetest for lineær regresjon av rullende gjennomsnitt"
   ]
  },
  {
   "cell_type": "code",
   "execution_count": 1,
   "id": "1725f9dd-c945-4eaa-80cd-64de6b30bd19",
   "metadata": {},
   "outputs": [],
   "source": [
    "import matplotlib.pyplot as plt\n",
    "import numpy as np\n",
    "import scipy.special"
   ]
  },
  {
   "cell_type": "markdown",
   "id": "52ec5b72-f19b-4df1-b897-f8284d0c976a",
   "metadata": {},
   "source": [
    "Jeg vil her gi enda et eksempel på en hypotesetest som tar utgangspunkt i\n",
    "temperaturene i Bergen vi studerte i første uken av dette kurset.\n",
    "\n",
    "Temperaturene ser ut til å ha økt i perioden vi har\n",
    "målinger for. \n",
    "\n",
    "La oss gjette på at temperaturen har økt med mere enn en grad i\n",
    "gjennomsnitt. \n",
    "\n",
    "Mere presist vil jeg gjøre utsagnet stigningstallet for den beste linjen som tilnærmer sannsynlighetsfordelingen \n",
    "som temperaturmålingene er trukket fra er større enn stigningstallet til linjen som vokser med vekstraten $\\widetilde x_{1} = 1 \\ C^{\\circ}$ på 40 år.\n",
    "\n",
    "Jeg vil bruke rullende gjennomsnitt av de daglige temperaturmålingene i datasettet vårt \n",
    "for å teste denne hypotesen.\n",
    "\n",
    "Jeg antar at temperaturene er trukket fra en sannsynlighetsfordeling som har en beste lineær lilnærming på formen\n",
    "\n",
    "$$L(t) = x_1 t + x_2.$$\n",
    "\n",
    "At $L(t)$ er en beste lineær tilnærming betyr at $x_1$ og $x_2$ er valgt slik at gjennomsnittsverdien til tallet $L(t) - y$ er minst mulig for et tilfeldig\n",
    "trukket par $(t, y)$ av en tid $t$ og en temperatur $y$ til tiden $t$. For at teorien bak hypotesetesten skal fungere må størrelsen $L(t) - y$ være normalfordelt.\n",
    "\n",
    "Hypotesen min kan formuleres som følger:"
   ]
  },
  {
   "cell_type": "markdown",
   "id": "cab328b1-6fdb-47b1-86a1-12494b6cb10e",
   "metadata": {},
   "source": [
    "**Antatt stigningstall** $\\widetilde x_1 = \\frac{1 \\ C^{\\circ}}{\\text{antall dager på 40 år}} = \\frac{1 \\ C^{\\circ}}{14609.6 \\text{ dager}} = 6.8448 \\cdot 10^{-5}\\ C^{\\circ}/\\text{dag}$\n",
    "\n",
    "**Nullhypotese ($H_0)$:** $x_1 = \\widetilde x_1$.\n",
    "\n",
    "**Alternativ hypotese ($H_1$):** $x_1  > \\widetilde x_1$."
   ]
  },
  {
   "cell_type": "markdown",
   "id": "457142a1-69e7-4185-ba03-d13ac59d6fd5",
   "metadata": {},
   "source": [
    "## Temperaturdata"
   ]
  },
  {
   "cell_type": "markdown",
   "id": "c4ec9812-b76d-4ad4-b75a-a7dd3566b70d",
   "metadata": {},
   "source": [
    "Jeg laster inn temperaturdata gitt ved tidspunkter $t_1, t_2, \\dots$ og tilhørende temperaturer $t_1, t_2, \\dots$.\n",
    "Jeg skriver \n",
    "$\\mathbf{t} = [t_1, t_2, \\dots, t_n]$ for punktet i $\\mathbb{R}^n$ gitt ved tidene og \n",
    "$\\mathbf{y} = [y_1, y_2, \\dots, y_n]$ for punktet i $\\mathbb{R}^n$ gitt ved temperaturene.\n",
    "\n",
    "Jeg vil skrive \n",
    "$$L_{\\mathbf{t},\\mathbf{y}}(t) = x_1(\\mathbf{t},\\mathbf{y}) t + x_2(\\mathbf{t},\\mathbf{y})$$\n",
    "for den lineære regresjonslinjen gjennom datapunktene. I forrige uke så vi hvordan vi beregner \n",
    "$x_1(\\mathbf{t},\\mathbf{y})$\n",
    "og\n",
    "$x_2(\\mathbf{t},\\mathbf{y})$.\n"
   ]
  },
  {
   "cell_type": "code",
   "execution_count": 2,
   "id": "1227e4c3-0805-44b1-b46d-acb584ccc3bd",
   "metadata": {
    "colab": {
     "base_uri": "https://localhost:8080/"
    },
    "id": "5d37ccac-527a-4787-be0b-faae1b01b78f",
    "outputId": "6f328e4a-0af3-4620-c79b-f07323b83b60"
   },
   "outputs": [],
   "source": [
    "# Her importeres Point og Daily funksjonalitetene fra meteostat modulen.\n",
    "# Hvis meteostat ikke allerede er installert blir den installert.\n",
    "try:\n",
    "  import meteostat\n",
    "except:\n",
    "  !pip install meteostat\n",
    "  import meteostat"
   ]
  },
  {
   "cell_type": "code",
   "execution_count": 3,
   "id": "14ffe592-c5ee-4f04-9c8c-864e1c57a2c8",
   "metadata": {
    "id": "cc4c87ac-ad0e-4428-8244-e1196cd77f92"
   },
   "outputs": [],
   "source": [
    "# Her importeres modulen pandas som pd sammen med numpy og matplotlib\n",
    "\n",
    "import pandas as pd\n",
    "import numpy as np\n",
    "import matplotlib.pyplot as plt\n",
    "from scipy.stats import t\n",
    "\n"
   ]
  },
  {
   "cell_type": "code",
   "execution_count": 4,
   "id": "b4aca8f8-3484-4f1b-ad46-406270176453",
   "metadata": {
    "id": "60fec2fa-0b5b-4e39-8b49-612769f0e4b9"
   },
   "outputs": [],
   "source": [
    "# Her importeres funksjonaliteten datetime fra modulen datetime.\n",
    "# Datetime gir oss en bekvem måte å jobbe med tidsdate på.\n",
    "\n",
    "from datetime import datetime, timedelta"
   ]
  },
  {
   "cell_type": "code",
   "execution_count": 5,
   "id": "eb6f1aca-fb9c-4373-b366-89ea2688060f",
   "metadata": {
    "id": "8469981b-65e3-4544-b7be-9d702a8d78cd"
   },
   "outputs": [],
   "source": [
    "# Sett tidsperioden vi vil hente data fra\n",
    "# Data for fremtiden kan ikke lastes inn, så når vi ber om å laste inn data får vi data helt opp til i dag.\n",
    "\n",
    "start = datetime(1973, 1, 1)\n",
    "end = datetime.today()"
   ]
  },
  {
   "cell_type": "code",
   "execution_count": 6,
   "id": "85adc50a-f6da-4e9e-ba56-ed603e88cecf",
   "metadata": {
    "id": "88783c15-d7ab-47cb-ab94-78c9452e9e12"
   },
   "outputs": [],
   "source": [
    "# Vi angir GPS koordinatene til Bergen\n",
    "# Google maps gir oss koordinatene under. Høyden gjetter jeg meg til.\n",
    "\n",
    "bergen = meteostat.Point(60.38526, 5.328060, 10)"
   ]
  },
  {
   "cell_type": "code",
   "execution_count": 7,
   "id": "944c3c0a-813c-4357-8008-cb13b416b21e",
   "metadata": {
    "colab": {
     "base_uri": "https://localhost:8080/"
    },
    "id": "4589b314-f869-40ec-bdf0-f6e770304682",
    "outputId": "1d32d980-a8af-432f-ce9b-95c6e36f10e5"
   },
   "outputs": [],
   "source": [
    "# Vi laster ned daglige målinger for den angitte tidsperioden\n",
    "\n",
    "data = meteostat.Daily(bergen, start, end)\n",
    "data = data.fetch()\n"
   ]
  },
  {
   "cell_type": "code",
   "execution_count": 8,
   "id": "f179bde1-1f7d-4839-a997-a78d1ebe5521",
   "metadata": {},
   "outputs": [],
   "source": [
    "# setter endedato til å være siste dag vi har data for\n",
    "end = data.index[-1]"
   ]
  },
  {
   "cell_type": "code",
   "execution_count": 9,
   "id": "4b23fea6-0677-4f34-9d9e-36b327b03099",
   "metadata": {
    "id": "01e50d97-724d-4164-a1cb-d002a379f6cc"
   },
   "outputs": [],
   "source": [
    "# Vi setter gårdsdagens temperatur inn på dagene der temperatur mangler:\n",
    "data['tavg_ffill'] = data['tavg'].ffill()"
   ]
  },
  {
   "cell_type": "code",
   "execution_count": 10,
   "id": "1b92954b-5923-43ad-bb10-dc5a9a1b6de8",
   "metadata": {},
   "outputs": [],
   "source": [
    "# Beregner rullende gjennomsnitt\n",
    "data['Rolling_Mean_tavg'] = data['tavg_ffill'].rolling(25 * 365, center=True).mean()"
   ]
  },
  {
   "cell_type": "code",
   "execution_count": 11,
   "id": "d2ef29c8-7068-48d3-9060-49b620ef62be",
   "metadata": {},
   "outputs": [],
   "source": [
    "data.dropna(subset = ['Rolling_Mean_tavg'], inplace=True)"
   ]
  },
  {
   "cell_type": "code",
   "execution_count": 12,
   "id": "aca3c50a-992b-49ad-b64a-43c4e7c7d72a",
   "metadata": {},
   "outputs": [],
   "source": [
    "y = data['Rolling_Mean_tavg'].values[:, None].astype(float)"
   ]
  },
  {
   "cell_type": "code",
   "execution_count": 13,
   "id": "0b95880d-d93c-4140-8d1e-19b5b109b7bf",
   "metadata": {
    "id": "0b95880d-d93c-4140-8d1e-19b5b109b7bf"
   },
   "outputs": [],
   "source": [
    "#Vi leser inn tiden talt i dager fra første måling\n",
    "t = (np.array(data.index) - np.array(data.index)[0]).astype(np.timedelta64(1, 'D')).astype(float)[:, None]"
   ]
  },
  {
   "cell_type": "code",
   "execution_count": 14,
   "id": "1015e6fc-d959-4226-94c5-95a68999ec7e",
   "metadata": {
    "id": "1015e6fc-d959-4226-94c5-95a68999ec7e"
   },
   "outputs": [],
   "source": [
    "A = np.ones((t.size, 2))\n",
    "A[:, 0] = t[:, 0]"
   ]
  },
  {
   "cell_type": "code",
   "execution_count": 15,
   "id": "eef3a04b-34e7-44f8-9447-19e8435a9904",
   "metadata": {
    "id": "eef3a04b-34e7-44f8-9447-19e8435a9904"
   },
   "outputs": [],
   "source": [
    "# Hjelpestørrelser for analytisk beregning av av regresjonslinje\n",
    "\n",
    "Ey = np.mean(y)\n",
    "Eyt = np.mean(y * t)\n",
    "Et = np.mean(t)\n",
    "Ett = np.mean(t * t)"
   ]
  },
  {
   "cell_type": "markdown",
   "id": "6b56de4b-caad-4857-b9b5-b224b7066858",
   "metadata": {
    "id": "7bc97d31-7831-414a-b764-4a0481c68ed1"
   },
   "source": [
    "Husk: $x_1 = \\frac{E(\\mathbf{y}\\mathbf{t}) - E(\\mathbf{t})E(\\mathbf{y})}{E(\\mathbf{t}^2) - E(\\mathbf{t})^2}$\n",
    "og $x_2 = E(\\mathbf{y}) - x_1E(\\mathbf{t})$"
   ]
  },
  {
   "cell_type": "code",
   "execution_count": 16,
   "id": "22b2a305-9998-4772-8bd6-1e89c8a538fa",
   "metadata": {
    "id": "22b2a305-9998-4772-8bd6-1e89c8a538fa"
   },
   "outputs": [],
   "source": [
    "# Beregner heldning og hvor regresjonslinje krysser y-aksen\n",
    "xx1 = (Eyt - Et * Ey)/(Ett - Et * Et)\n",
    "xx2 = Ey - xx1 * Et\n",
    "\n",
    "# Legger x1 og x2 inn i en vektor\n",
    "xx = np.array([[xx1],[xx2]])\n",
    "\n",
    "# Beregner regresjonslinjen\n",
    "L= xx1 * t + xx2"
   ]
  },
  {
   "cell_type": "code",
   "execution_count": 17,
   "id": "de5d5d34-61a5-4756-acf0-b833f1d45ace",
   "metadata": {
    "id": "de5d5d34-61a5-4756-acf0-b833f1d45ace"
   },
   "outputs": [],
   "source": [
    "# Legger regresjonslinjen inn i pandas dataframe\n",
    "data['L'] = L"
   ]
  },
  {
   "cell_type": "code",
   "execution_count": 18,
   "id": "c561d900-4e36-49d8-b04b-d355f858642f",
   "metadata": {},
   "outputs": [
    {
     "data": {
      "text/plain": [
       "<Axes: xlabel='time'>"
      ]
     },
     "execution_count": 18,
     "metadata": {},
     "output_type": "execute_result"
    },
    {
     "data": {
      "image/png": "[encoded data removed]",
      "text/plain": [
       "<Figure size 640x480 with 1 Axes>"
      ]
     },
     "metadata": {},
     "output_type": "display_data"
    }
   ],
   "source": [
    "data.plot(y=['Rolling_Mean_tavg', 'L'])"
   ]
  },
  {
   "cell_type": "markdown",
   "id": "f25b6399-519a-4cd2-aace-61363430089a",
   "metadata": {
    "id": "e2013a8a-41e2-44e6-ae08-51da49bccace"
   },
   "source": [
    "La oss se om feilen til den lineære regresjonen er normalfordelt:"
   ]
  },
  {
   "cell_type": "code",
   "execution_count": 19,
   "id": "f5ddc179-8bc1-44dc-98c3-53ad2d4e63d6",
   "metadata": {
    "id": "fce2e6af-ad01-433e-b64d-6b762f5f3687"
   },
   "outputs": [],
   "source": [
    "data['lineært_residual'] = data['L'] - data['Rolling_Mean_tavg']"
   ]
  },
  {
   "cell_type": "code",
   "execution_count": 20,
   "id": "8412e368-be12-457e-8227-faa7b57eada1",
   "metadata": {
    "colab": {
     "base_uri": "https://localhost:8080/",
     "height": 452
    },
    "id": "fd02769d-65ae-407e-a4b0-a70621f5ad4e",
    "outputId": "f6a74844-3cd9-4ca2-9957-62bc2bce00ac"
   },
   "outputs": [
    {
     "data": {
      "image/png": "[encoded data removed]",
      "text/plain": [
       "<Figure size 640x480 with 1 Axes>"
      ]
     },
     "metadata": {},
     "output_type": "display_data"
    }
   ],
   "source": [
    "mu, std = scipy.stats.norm.fit(data['lineært_residual'].dropna())\n",
    "data['lineært_residual'].dropna().plot(kind='hist', bins=30, density=True)\n",
    "range = np.arange(-10, 10, 0.01)\n",
    "# plt.plot(range, norm.pdf(range,0,4))\n",
    "xmin, xmax = plt.xlim()\n",
    "plt.plot(np.linspace(xmin, xmax, 100), scipy.stats.norm.pdf(np.linspace(xmin, xmax, 100), mu, std), 'k', linewidth=2)\n",
    "title = \"Fit Values: {:.2f} and {:.2f}\".format(mu, std)\n",
    "plt.title(title);"
   ]
  },
  {
   "cell_type": "markdown",
   "id": "5a98f313-ac68-4667-aa0e-75a87a1611ea",
   "metadata": {},
   "source": [
    "**Det ser tvilsomt ut!**"
   ]
  },
  {
   "cell_type": "markdown",
   "id": "5231d47a-ed59-472d-b727-cd9a3e28ddc1",
   "metadata": {},
   "source": [
    "## Test av stigningstall i regresjon"
   ]
  },
  {
   "cell_type": "markdown",
   "id": "7370846a-5f26-4951-bb35-89650f8f90cc",
   "metadata": {},
   "source": [
    "Standardavviket for estimeringen av $x_1$ kan tilnærmes med formelen:\n",
    "\n",
    "$$\\sigma(x_1(\\mathbf{t},\\mathbf{y})) =\\frac{ 1}{\\sigma(\\mathbf{t})}  \\sqrt{\\frac{\\operatorname{SSR(L, \\mathbf{t}, \\mathbf{y}})}{n-2}} $$"
   ]
  },
  {
   "cell_type": "markdown",
   "id": "486dfa71-2cf1-4393-ba17-b7764492162f",
   "metadata": {},
   "source": [
    "Hvor\n",
    "$$\\operatorname{SSR(L, \\mathbf{t}, \\mathbf{y}}) = (y_1 - L(t_1))^2 + \\dots + (y_n - L(t_n))^2$$\n",
    "og\n",
    "$\\sigma(\\mathbf{t})^2 = E(\\mathbf{t}^2) - E(\\mathbf{t})^2$.\n"
   ]
  },
  {
   "cell_type": "markdown",
   "id": "605fcb61-4cc7-4d80-b3f0-3af9da572ac0",
   "metadata": {},
   "source": [
    "$t$-verdien for hypotesen om at det underliggende stigningstallet $x_1$ er lik $\\widetilde x_1$ er gitt ved formelen\n",
    "$$t = \\frac{x_1(\\mathbf{t},\\mathbf{y}) - \\widetilde x_1}{\\sigma(x_1(\\mathbf{t},\\mathbf{y}))}.$$"
   ]
  },
  {
   "cell_type": "markdown",
   "id": "af1d5ceb-1c0f-4d94-8443-05d14f31fc6e",
   "metadata": {},
   "source": [
    "Antallet av frihetsgrader er $n$ minus antall parametre som estimeres. Vi estimerer parametrene $x_1$ og $x_2$, så\n",
    "antallet av frihetsgrader er $n - 2$."
   ]
  },
  {
   "cell_type": "markdown",
   "id": "715ffb72-739b-4f0d-a8a7-f1dd72e12d3b",
   "metadata": {},
   "source": [
    "Vi er nå klar til å avgjøre om nullhypotesen vår skal forkastes:"
   ]
  },
  {
   "cell_type": "markdown",
   "id": "a9d082cc-55f9-4018-9fdc-0589b80f438a",
   "metadata": {},
   "source": [
    "Vi kan se på $x_1$ som en funksjon av $t$-verdien:\n",
    "\n",
    "$$x_1 = x_1(\\mathbf{t},\\mathbf{y})  - t  {\\sigma(x_1(\\mathbf{t},\\mathbf{y}))}.$$"
   ]
  },
  {
   "cell_type": "code",
   "execution_count": 21,
   "id": "4f0050b0-1744-4918-85fb-0704c0f689d0",
   "metadata": {},
   "outputs": [],
   "source": [
    "x1tilde = 1 / (365.2425 * 50)\n",
    "SSR_av_L_t_y = np.sum((y - L)**2)"
   ]
  },
  {
   "cell_type": "code",
   "execution_count": 22,
   "id": "653bc8ef-423d-452c-9654-f09e26d8b46f",
   "metadata": {},
   "outputs": [],
   "source": [
    "sigmaxx1 = (np.sqrt(SSR_av_L_t_y / (len(y) - 2)) / np.std(t))\n",
    "t_verdi = (xx1 - x1tilde)/(sigmaxx1)"
   ]
  },
  {
   "cell_type": "markdown",
   "id": "8453abf1-3d95-4f01-93af-4d01bb201d09",
   "metadata": {},
   "source": [
    "Teorien for normalfordelte observasjoner forutsier at $t$-verdien vi nettopp beregnet vil fordele seg etter en $t$-fordeling med $n-2$ frihetsgrader.\n",
    "\n",
    "$t$-fordelingen er tilnærmet lik normalfordelingen med standardavvik $1$ og gjennomsnitt $0$ når antallet av frihetsgrader er stort."
   ]
  },
  {
   "cell_type": "markdown",
   "id": "85d29665-e47b-4602-9e6d-b54e105bcfde",
   "metadata": {},
   "source": [
    "## Overgang fra t-verdi til sannsynlighet, eller p-verdi\n",
    "\n",
    "Vi antar at temperaturen $y$ er fordelt etter en normalfordeling med gjennomsnittsverdi $\\mu$ og standardavvik $\\sigma$.\n",
    "\n",
    "Gitt en $t$-verdien $t\\_\\text{verdi}$ og antallet av frihetsgrader kan vi finne sannsynligheten for at $\\mu \\le \\mu_0$ og sannsynligheten for at $\\mu > \\mu_0$.\n",
    "\n",
    "Hvis sannsynligheten for nullhypotesen $H_0$: $\\mu \\le \\mu_0$ er veldig liten velger vi å forkaste nullhypotesen. \n",
    "\n",
    "Vi må på forhånd bestemme oss for hva vi mener med veldig liten. \n",
    "\n",
    "Et typisk valg er \"mindre en 5%\".\n",
    "\n",
    "I vårt tilfelle er $t\\_\\text{verdi}$ og antall frihetsgrader gitt ved:"
   ]
  },
  {
   "cell_type": "code",
   "execution_count": 23,
   "id": "de8326c6-96e4-4455-8e36-6674f9559d79",
   "metadata": {},
   "outputs": [
    {
     "data": {
      "text/plain": [
       "(2.305250969452392, 9940)"
      ]
     },
     "execution_count": 23,
     "metadata": {},
     "output_type": "execute_result"
    }
   ],
   "source": [
    "# t-verdi og antall frihetsgrader\n",
    "\n",
    "sigmay = np.std(y)\n",
    "antall_frihetsgrader = len(y) - 2\n",
    "float(t_verdi), antall_frihetsgrader"
   ]
  },
  {
   "cell_type": "markdown",
   "id": "a2f65403-504f-4aa7-8b69-9c8c6306e461",
   "metadata": {},
   "source": [
    "Arealet til det røde området på figuren under er sannsynligheten for at nullhypotesen er sann."
   ]
  },
  {
   "cell_type": "code",
   "execution_count": 24,
   "id": "213ed6fd-3edf-4d1d-a185-0495307ef296",
   "metadata": {},
   "outputs": [
    {
     "data": {
      "image/png": "[encoded data removed]",
      "text/plain": [
       "<Figure size 640x480 with 1 Axes>"
      ]
     },
     "metadata": {},
     "output_type": "display_data"
    }
   ],
   "source": [
    "# @title plot\n",
    "import matplotlib.pyplot as plt\n",
    "import numpy as np\n",
    "\n",
    "# Define the function\n",
    "x = np.linspace(-4, 4, 1000)\n",
    "yy = scipy.stats.t.pdf(x, antall_frihetsgrader)  # t-fordeling med 10 frihetsgrader\n",
    "t_crit = t_verdi\n",
    "\n",
    "def t_av_mu(m):\n",
    "    return (xx1 - m)/(sigmaxx1)\n",
    "# def mu_av_t(t):\n",
    "#     return Ey - t*(sigmay/np.sqrt(len(y)))\n",
    "    \n",
    "ax = plt.gca()\n",
    "\n",
    "\n",
    "plt.plot(x, yy, color='black')\n",
    "plt.fill_between(x, yy, where=(x > t_crit), color='red', alpha=0.5, label=r'$P(H0)=P(x_1 \\leq \\widetilde x_1)$')\n",
    "plt.fill_between(x, yy, where=(x < t_crit), color='blue', alpha=0.5, label=r'$P(H1)=P(x_1 > \\widetilde x_1)$')\n",
    "# Remove default spines\n",
    "ax.spines[\"top\"].set_visible(False)\n",
    "ax.spines[\"right\"].set_visible(False)\n",
    "ax.spines[\"left\"].set_visible(False)\n",
    "ax.spines[\"bottom\"].set_visible(False)\n",
    "\n",
    "# Set limits\n",
    "ax.set_xlim(-5, 5)\n",
    "ax.set_ylim(-.2, .5)  # Ensure axes are visible\n",
    "\n",
    "# Draw the primary x-axis (for x) with an arrow\n",
    "ax.plot([-4, 4], [0, 0], color=\"black\", lw=1.5)  \n",
    "ax.annotate(\"\", xy=(4.1, 0), xytext=(4., 0),\n",
    "            arrowprops=dict(arrowstyle=\"->\", lw=1.5), annotation_clip=False)\n",
    "ax.text(4.4, 0, r\"t\", verticalalignment=\"center\")\n",
    "\n",
    "# Draw the secondary x-axis (for -x) with an arrow\n",
    "ax.plot([-4.1, 4], [-.1, -.1], color=\"black\", lw=1.5)  \n",
    "ax.annotate(\"\", xy=(-4.2, -.1), xytext=(-4.1, -.1),\n",
    "            arrowprops=dict(arrowstyle=\"->\", lw=1.5), annotation_clip=False)\n",
    "ax.text(-5.1, -.1, r\"$10^5 x_1$\", verticalalignment=\"center\")\n",
    "\n",
    "# Draw the y-axis with an arrow\n",
    "ax.plot([0, 0], [0, .45], color=\"black\", lw=1.5)  \n",
    "ax.annotate(\"\", xy=(0, .46), xytext=(0, .45),\n",
    "            arrowprops=dict(arrowstyle=\"->\", lw=1.5), annotation_clip=False)\n",
    "#ax.text(-0.3, .45, r\"y\", verticalalignment=\"center\")\n",
    "\n",
    "# Set x-ticks for t-axis\n",
    "ticks = np.arange(-3, 4, 1)  # Tick positions\n",
    "\n",
    "# Draw ticks for t-axis\n",
    "for ti in ticks:\n",
    "    ax.plot([ti, ti], [-.01, .01], color=\"black\", lw=1)  # Small tick marks\n",
    "    ax.text(ti, -.05, f\"{ti}\", fontsize=10, ha=\"center\")  # Labels below ticks\n",
    "\n",
    "#Set ticks for μ-axis\n",
    "xxdiff = (xx1 - x1tilde)\n",
    "mu_verdier = np.arange(xx1 - 1.5*xxdiff, xx1 + 1.5*xxdiff, xxdiff/2)\n",
    "muticks = [t_av_mu(mu) for mu in mu_verdier]\n",
    "# muticks = [mu_av_t(t) for t in ticks]\n",
    "# Draw ticks for secondary x-axis (-x)\n",
    "for ti, mu in zip(muticks, mu_verdier):\n",
    "    ax.plot([ti, ti], [-.11, -.09], color=\"black\", lw=1)  # Small tick marks\n",
    "    ax.text(ti, -.15, f\"{10000*mu:.2f}\", fontsize=10, ha=\"center\")  # Labels below ticks\n",
    "\n",
    "# Remove y-ticks\n",
    "ax.set_yticks([])\n",
    "ax.set_xticks([])\n",
    "plt.legend()\n",
    "plt.show()\n"
   ]
  },
  {
   "cell_type": "markdown",
   "id": "575a692c-74ae-47db-884c-eedf2108cb22",
   "metadata": {},
   "source": [
    "Nullhypotesen $x_1 = \\widetilde x_1$ forkastes når sannsynligheten for alternativ hypotese $H_1$: $x_1 > \\widetilde x_1$ er minst $95 \\%$. Det er det samme som at sannsynligheten for $H_0$ er høyst $5 \\%$.\n",
    "\n",
    "I gitt fall sier vi at nullhypotesen forkastes med $5 \\%$ signifikansnivå."
   ]
  },
  {
   "cell_type": "markdown",
   "id": "854445ca-0b8f-4655-a5de-707177218e26",
   "metadata": {},
   "source": [
    "Som for normalfordelingen kan scipy hjelpe oss med å finne dette arealet:"
   ]
  },
  {
   "cell_type": "code",
   "execution_count": 25,
   "id": "cdbeb6db-efb7-48ea-ae32-8f2fa06e43a8",
   "metadata": {},
   "outputs": [
    {
     "data": {
      "text/plain": [
       "np.float64(0.010586508049209686)"
      ]
     },
     "execution_count": 25,
     "metadata": {},
     "output_type": "execute_result"
    }
   ],
   "source": [
    "# p-verdi\n",
    "1 - scipy.stats.t.cdf(t_verdi, df=antall_frihetsgrader)"
   ]
  },
  {
   "cell_type": "code",
   "execution_count": 26,
   "id": "27846dc3-5d61-467f-8693-d96ce24d13db",
   "metadata": {},
   "outputs": [],
   "source": [
    "# Siden t-funksjonen er symmetrisk fås samme verdi ved å integrere frem til -t_verdi\n",
    "p_verdi = scipy.stats.t.cdf(-t_verdi, antall_frihetsgrader)"
   ]
  },
  {
   "cell_type": "code",
   "execution_count": 27,
   "id": "6c0779e6-eb04-4cd2-9122-155181d3351b",
   "metadata": {},
   "outputs": [
    {
     "data": {
      "text/plain": [
       "1.0586508049209693"
      ]
     },
     "execution_count": 27,
     "metadata": {},
     "output_type": "execute_result"
    }
   ],
   "source": [
    "#vi får p-verdien\n",
    "\n",
    "float(100 * p_verdi)"
   ]
  },
  {
   "cell_type": "markdown",
   "id": "ef385445-7292-4a4b-9ec7-d491b9e6d0ba",
   "metadata": {},
   "source": [
    "Vi kan altså forkaste nullhypotesen som sier at temperaturen i Bergen ikke er steget med mere enn en grad celsius med et signifikansnivå på 5%."
   ]
  },
  {
   "cell_type": "markdown",
   "id": "db3c5431-a70a-4c3b-8112-4ec534300be1",
   "metadata": {},
   "source": [
    "**Konklusjon:**\n",
    "\n",
    "Temperaturen i Bergen er steget med mere enn en grad per 40 år."
   ]
  },
  {
   "cell_type": "code",
   "execution_count": null,
   "id": "6f786be7-00c9-4285-9b45-1600f2d486c1",
   "metadata": {},
   "outputs": [],
   "source": []
  }
 ],
 "metadata": {
  "kernelspec": {
   "display_name": "Python 3 (ipykernel)",
   "language": "python",
   "name": "python3"
  },
  "language_info": {
   "codemirror_mode": {
    "name": "ipython",
    "version": 3
   },
   "file_extension": ".py",
   "mimetype": "text/x-python",
   "name": "python",
   "nbconvert_exporter": "python",
   "pygments_lexer": "ipython3",
   "version": "3.12.9"
  }
 },
 "nbformat": 4,
 "nbformat_minor": 5
}
