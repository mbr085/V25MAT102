{
  "cells": [
    {
      "cell_type": "markdown",
      "id": "d7f1105b-5637-4a1d-afe0-fe50ff24a588",
      "metadata": {
        "id": "d7f1105b-5637-4a1d-afe0-fe50ff24a588"
      },
      "source": [
        "# Hypotesetest for parede Temperaturdata"
      ]
    },
    {
      "cell_type": "code",
      "execution_count": 1,
      "id": "aca3c211-4aab-4ad5-a85f-d24cb359aa1b",
      "metadata": {
        "id": "aca3c211-4aab-4ad5-a85f-d24cb359aa1b"
      },
      "outputs": [],
      "source": [
        "import matplotlib.pyplot as plt\n",
        "import numpy as np\n",
        "import scipy.special"
      ]
    },
    {
      "cell_type": "markdown",
      "id": "ee6515d6-3cb0-4d63-a6b6-f905e1fc7bf9",
      "metadata": {
        "id": "ee6515d6-3cb0-4d63-a6b6-f905e1fc7bf9"
      },
      "source": [
        "Jeg vil her gi et eksempel på en hypotesetest som tar utgangspunkt i\n",
        "temperaturene i Bergen vi studerte i første uken av dette kurset.\n",
        "\n",
        "Temperaturene ser ut til å ha økt i perioden vi har\n",
        "målinger for.\n",
        "\n",
        "La oss gjette på at temperaturen har økt med mere enn en grad i\n",
        "gjennomsnitt.\n",
        "\n",
        "Mere presist vil jeg gjøre utsagnet at på en tilfeldig kalenderdag\n",
        "er temperaturen mere enn en grad høyere\n",
        "enn den var på den samme kalenderdagen i året 40 år tidligere.\n",
        "\n",
        "Jeg vil bruke de daglige temperaturmålingene i de siste 3652\n",
        "dagene (de siste ti årene) og de 3652 dagene som var 40 år tidligere\n",
        "for å teste denne hypotesen.\n",
        "\n",
        "For $i = 1, \\dots, 3652$ la $y_i$ være temperaturen for for $10$ år minus $i$ dager siden\n",
        "minus temperaturen for $i$ dager og $40$ år siden.\n",
        "\n",
        "Mitt gjett er at\n",
        "tallene $y_i$ er trukket fra en sannsynlighetsfordeling med gjennomsnitt $\\mu$ og at\n",
        "$\\mu > \\mu_0$ for $\\mu_0 = 1 \\ C^{\\circ}$.\n",
        "\n",
        "Jeg forventer at gjennomsnittet $E(y)$ av tallene $y_i$ er nær $\\mu$, men jeg vil gjerne vite hvor stort det skal være for at jeg kan være rimelig sikker på at $\\mu > \\mu_0 = 1 \\ C^{\\circ}$."
      ]
    },
    {
      "cell_type": "markdown",
      "id": "6e0e7287-9256-4e37-8dc9-86e6c60fc70e",
      "metadata": {
        "id": "6e0e7287-9256-4e37-8dc9-86e6c60fc70e"
      },
      "source": [
        "**Antatt gjennomsnittsverdi** $\\mu_0 = 1 \\ C^{\\circ}$\n",
        "\n",
        "**Nullhypotese ($H_0)$:** $\\mu = \\mu_0$.\n",
        "\n",
        "**Alternativ hypotese ($H_a$):** $\\mu > \\mu_0$."
      ]
    },
    {
      "cell_type": "markdown",
      "id": "3f9de0ea-5422-4c5d-8800-e8fd1125eb14",
      "metadata": {
        "id": "3f9de0ea-5422-4c5d-8800-e8fd1125eb14"
      },
      "source": [
        "Vi laster inn temperaturdata og beregner forskjellen mellem temperatur på hver kalenderdag og kalenderdagen 40 år tidliger for alle dager 10 år tilbake i tid"
      ]
    },
    {
      "cell_type": "code",
      "execution_count": 2,
      "id": "c0b196d0-d5b2-4462-9283-6e84180baeb0",
      "metadata": {
        "id": "c0b196d0-d5b2-4462-9283-6e84180baeb0",
        "outputId": "b7eb82cf-5d5d-4005-c072-15b5cc2f7260",
        "colab": {
          "base_uri": "https://localhost:8080/"
        }
      },
      "outputs": [
        {
          "output_type": "stream",
          "name": "stdout",
          "text": [
            "Collecting meteostat\n",
            "  Downloading meteostat-1.6.8-py3-none-any.whl.metadata (4.6 kB)\n",
            "Requirement already satisfied: pandas>=1.1 in /usr/local/lib/python3.11/dist-packages (from meteostat) (2.2.2)\n",
            "Requirement already satisfied: pytz in /usr/local/lib/python3.11/dist-packages (from meteostat) (2025.1)\n",
            "Requirement already satisfied: numpy in /usr/local/lib/python3.11/dist-packages (from meteostat) (2.0.2)\n",
            "Requirement already satisfied: python-dateutil>=2.8.2 in /usr/local/lib/python3.11/dist-packages (from pandas>=1.1->meteostat) (2.8.2)\n",
            "Requirement already satisfied: tzdata>=2022.7 in /usr/local/lib/python3.11/dist-packages (from pandas>=1.1->meteostat) (2025.1)\n",
            "Requirement already satisfied: six>=1.5 in /usr/local/lib/python3.11/dist-packages (from python-dateutil>=2.8.2->pandas>=1.1->meteostat) (1.17.0)\n",
            "Downloading meteostat-1.6.8-py3-none-any.whl (31 kB)\n",
            "Installing collected packages: meteostat\n",
            "Successfully installed meteostat-1.6.8\n"
          ]
        }
      ],
      "source": [
        "# Her importeres Point og Daily funksjonalitetene fra meteostat modulen.\n",
        "# Hvis meteostat ikke allerede er installert blir den installert.\n",
        "try:\n",
        "  import meteostat\n",
        "except:\n",
        "  !pip install meteostat\n",
        "  import meteostat"
      ]
    },
    {
      "cell_type": "code",
      "execution_count": 3,
      "id": "7a66ae99-50a9-4140-95ec-5ce9fd0f4001",
      "metadata": {
        "id": "7a66ae99-50a9-4140-95ec-5ce9fd0f4001"
      },
      "outputs": [],
      "source": [
        "# Her importeres modulen pandas som pd sammen med numpy og matplotlib\n",
        "\n",
        "import pandas as pd\n",
        "import numpy as np\n",
        "import matplotlib.pyplot as plt\n",
        "from scipy.stats import t\n",
        "\n"
      ]
    },
    {
      "cell_type": "code",
      "execution_count": 4,
      "id": "acd546da-625a-45ae-af2d-5c16d2693e00",
      "metadata": {
        "id": "acd546da-625a-45ae-af2d-5c16d2693e00"
      },
      "outputs": [],
      "source": [
        "# Her importeres funksjonaliteten datetime fra modulen datetime.\n",
        "# Datetime gir oss en bekvem måte å jobbe med tidsdate på.\n",
        "\n",
        "from datetime import datetime, timedelta"
      ]
    },
    {
      "cell_type": "code",
      "execution_count": 5,
      "id": "2fa89a43-ac22-499f-b6b1-02908ea61ec8",
      "metadata": {
        "id": "2fa89a43-ac22-499f-b6b1-02908ea61ec8"
      },
      "outputs": [],
      "source": [
        "# Sett tidsperioden vi vil hente data fra\n",
        "# Data for fremtiden kan ikke lastes inn, så når vi ber om å laste inn data får vi data helt opp til i dag.\n",
        "\n",
        "start = datetime(1973, 1, 1)\n",
        "end = datetime.today()"
      ]
    },
    {
      "cell_type": "code",
      "execution_count": 6,
      "id": "db58e797-7f1c-4379-9927-fecf379725cb",
      "metadata": {
        "id": "db58e797-7f1c-4379-9927-fecf379725cb",
        "outputId": "a39ebc72-113f-4d22-ab48-712b5a2ca80b",
        "colab": {
          "base_uri": "https://localhost:8080/"
        }
      },
      "outputs": [
        {
          "output_type": "stream",
          "name": "stderr",
          "text": [
            "FutureWarning: Support for nested sequences for 'parse_dates' in pd.read_csv is deprecated. Combine the desired columns with pd.to_datetime after parsing instead.\n"
          ]
        }
      ],
      "source": [
        "# Målestasjon Florida Bergen\n",
        "data = meteostat.Daily('01317', start, end)\n",
        "data = data.fetch()"
      ]
    },
    {
      "cell_type": "code",
      "execution_count": 7,
      "id": "394292c8-7b9e-4f58-8a3c-d5403902fe61",
      "metadata": {
        "id": "394292c8-7b9e-4f58-8a3c-d5403902fe61"
      },
      "outputs": [],
      "source": [
        "# Insisterer på å ha en rad for hver dag. Uten hull!\n",
        "data = data.resample('D').mean()"
      ]
    },
    {
      "cell_type": "code",
      "execution_count": 8,
      "id": "18606866-b241-41f8-a897-486a13b69f7b",
      "metadata": {
        "id": "18606866-b241-41f8-a897-486a13b69f7b"
      },
      "outputs": [],
      "source": [
        "# Setter manglende observasjoner lik gårsdagens observasjon\n",
        "data = data.ffill()"
      ]
    },
    {
      "cell_type": "code",
      "execution_count": 21,
      "id": "fffdcbd7-8c86-4e9c-abed-b060fdf92819",
      "metadata": {
        "id": "fffdcbd7-8c86-4e9c-abed-b060fdf92819"
      },
      "outputs": [],
      "source": [
        "# Beregner forskjellen y mellem temperatur på hver kalenderdag og kalenderdagen 40 år tidliger for alle dager 10 år tilbake i tid\n",
        "\n",
        "antall_år_sammenligne = 10\n",
        "y1 = data.loc[end - timedelta(days=int(365.2425 * antall_år_sammenligne)): end]['tavg'].values\n",
        "y2 = data.loc[end - timedelta(days=int(365.2425 * antall_år_sammenligne)) - timedelta(days=int(365.2425 * 40)): end - timedelta(days=int(365.2425 * 40))]['tavg'].values\n",
        "y = y1 - y2"
      ]
    },
    {
      "cell_type": "code",
      "source": [
        "len(y1), len(y2)"
      ],
      "metadata": {
        "id": "m_KYiKHHYLbK",
        "outputId": "e9778caa-3f9f-497a-8569-ebb0b71ad9f3",
        "colab": {
          "base_uri": "https://localhost:8080/"
        }
      },
      "id": "m_KYiKHHYLbK",
      "execution_count": 22,
      "outputs": [
        {
          "output_type": "execute_result",
          "data": {
            "text/plain": [
              "(3652, 3652)"
            ]
          },
          "metadata": {},
          "execution_count": 22
        }
      ]
    },
    {
      "cell_type": "code",
      "source": [
        "data"
      ],
      "metadata": {
        "id": "-7x3oxIkYE0S",
        "outputId": "4e5130e5-5525-4e1c-d156-67b8c44cccaa",
        "colab": {
          "base_uri": "https://localhost:8080/",
          "height": 454
        }
      },
      "id": "-7x3oxIkYE0S",
      "execution_count": 10,
      "outputs": [
        {
          "output_type": "execute_result",
          "data": {
            "text/plain": [
              "            tavg  tmin  tmax  prcp  snow   wdir  wspd  wpgt    pres  tsun\n",
              "time                                                                     \n",
              "1973-01-01   7.0   5.9   7.7   NaN   NaN    NaN   NaN   NaN     NaN   NaN\n",
              "1973-01-02   7.6   6.4   8.6   NaN   NaN    NaN   NaN   NaN     NaN   NaN\n",
              "1973-01-03   5.2   3.7   7.7   NaN   NaN    NaN   NaN   NaN     NaN   NaN\n",
              "1973-01-04   6.3   4.8   8.6   NaN   NaN    NaN   NaN   NaN     NaN   NaN\n",
              "1973-01-05   7.8   5.0   8.5   NaN   NaN    NaN   NaN   NaN     NaN   NaN\n",
              "...          ...   ...   ...   ...   ...    ...   ...   ...     ...   ...\n",
              "2025-03-27   7.5   6.4   8.6  22.7  10.0  175.0  18.8  52.2  1007.2   NaN\n",
              "2025-03-28   7.9   6.8   9.0  21.7  10.0  184.0  25.1  65.9   997.2   NaN\n",
              "2025-03-29   6.4   4.6   7.5  13.7  10.0  203.0  19.4  63.0  1004.8   NaN\n",
              "2025-03-30   7.2   3.8  12.3   4.5  10.0   11.0  16.0  53.3  1004.3   NaN\n",
              "2025-03-31   5.9   2.2   9.1   0.0  10.0  175.0   8.5  29.5  1024.6   NaN\n",
              "\n",
              "[19083 rows x 10 columns]"
            ],
            "text/html": [
              "\n",
              "  <div id=\"df-1a319a8a-0e67-46f4-8696-1bd7ade02a31\" class=\"colab-df-container\">\n",
              "    <div>\n",
              "<style scoped>\n",
              "    .dataframe tbody tr th:only-of-type {\n",
              "        vertical-align: middle;\n",
              "    }\n",
              "\n",
              "    .dataframe tbody tr th {\n",
              "        vertical-align: top;\n",
              "    }\n",
              "\n",
              "    .dataframe thead th {\n",
              "        text-align: right;\n",
              "    }\n",
              "</style>\n",
              "<table border=\"1\" class=\"dataframe\">\n",
              "  <thead>\n",
              "    <tr style=\"text-align: right;\">\n",
              "      <th></th>\n",
              "      <th>tavg</th>\n",
              "      <th>tmin</th>\n",
              "      <th>tmax</th>\n",
              "      <th>prcp</th>\n",
              "      <th>snow</th>\n",
              "      <th>wdir</th>\n",
              "      <th>wspd</th>\n",
              "      <th>wpgt</th>\n",
              "      <th>pres</th>\n",
              "      <th>tsun</th>\n",
              "    </tr>\n",
              "    <tr>\n",
              "      <th>time</th>\n",
              "      <th></th>\n",
              "      <th></th>\n",
              "      <th></th>\n",
              "      <th></th>\n",
              "      <th></th>\n",
              "      <th></th>\n",
              "      <th></th>\n",
              "      <th></th>\n",
              "      <th></th>\n",
              "      <th></th>\n",
              "    </tr>\n",
              "  </thead>\n",
              "  <tbody>\n",
              "    <tr>\n",
              "      <th>1973-01-01</th>\n",
              "      <td>7.0</td>\n",
              "      <td>5.9</td>\n",
              "      <td>7.7</td>\n",
              "      <td>NaN</td>\n",
              "      <td>NaN</td>\n",
              "      <td>NaN</td>\n",
              "      <td>NaN</td>\n",
              "      <td>NaN</td>\n",
              "      <td>NaN</td>\n",
              "      <td>NaN</td>\n",
              "    </tr>\n",
              "    <tr>\n",
              "      <th>1973-01-02</th>\n",
              "      <td>7.6</td>\n",
              "      <td>6.4</td>\n",
              "      <td>8.6</td>\n",
              "      <td>NaN</td>\n",
              "      <td>NaN</td>\n",
              "      <td>NaN</td>\n",
              "      <td>NaN</td>\n",
              "      <td>NaN</td>\n",
              "      <td>NaN</td>\n",
              "      <td>NaN</td>\n",
              "    </tr>\n",
              "    <tr>\n",
              "      <th>1973-01-03</th>\n",
              "      <td>5.2</td>\n",
              "      <td>3.7</td>\n",
              "      <td>7.7</td>\n",
              "      <td>NaN</td>\n",
              "      <td>NaN</td>\n",
              "      <td>NaN</td>\n",
              "      <td>NaN</td>\n",
              "      <td>NaN</td>\n",
              "      <td>NaN</td>\n",
              "      <td>NaN</td>\n",
              "    </tr>\n",
              "    <tr>\n",
              "      <th>1973-01-04</th>\n",
              "      <td>6.3</td>\n",
              "      <td>4.8</td>\n",
              "      <td>8.6</td>\n",
              "      <td>NaN</td>\n",
              "      <td>NaN</td>\n",
              "      <td>NaN</td>\n",
              "      <td>NaN</td>\n",
              "      <td>NaN</td>\n",
              "      <td>NaN</td>\n",
              "      <td>NaN</td>\n",
              "    </tr>\n",
              "    <tr>\n",
              "      <th>1973-01-05</th>\n",
              "      <td>7.8</td>\n",
              "      <td>5.0</td>\n",
              "      <td>8.5</td>\n",
              "      <td>NaN</td>\n",
              "      <td>NaN</td>\n",
              "      <td>NaN</td>\n",
              "      <td>NaN</td>\n",
              "      <td>NaN</td>\n",
              "      <td>NaN</td>\n",
              "      <td>NaN</td>\n",
              "    </tr>\n",
              "    <tr>\n",
              "      <th>...</th>\n",
              "      <td>...</td>\n",
              "      <td>...</td>\n",
              "      <td>...</td>\n",
              "      <td>...</td>\n",
              "      <td>...</td>\n",
              "      <td>...</td>\n",
              "      <td>...</td>\n",
              "      <td>...</td>\n",
              "      <td>...</td>\n",
              "      <td>...</td>\n",
              "    </tr>\n",
              "    <tr>\n",
              "      <th>2025-03-27</th>\n",
              "      <td>7.5</td>\n",
              "      <td>6.4</td>\n",
              "      <td>8.6</td>\n",
              "      <td>22.7</td>\n",
              "      <td>10.0</td>\n",
              "      <td>175.0</td>\n",
              "      <td>18.8</td>\n",
              "      <td>52.2</td>\n",
              "      <td>1007.2</td>\n",
              "      <td>NaN</td>\n",
              "    </tr>\n",
              "    <tr>\n",
              "      <th>2025-03-28</th>\n",
              "      <td>7.9</td>\n",
              "      <td>6.8</td>\n",
              "      <td>9.0</td>\n",
              "      <td>21.7</td>\n",
              "      <td>10.0</td>\n",
              "      <td>184.0</td>\n",
              "      <td>25.1</td>\n",
              "      <td>65.9</td>\n",
              "      <td>997.2</td>\n",
              "      <td>NaN</td>\n",
              "    </tr>\n",
              "    <tr>\n",
              "      <th>2025-03-29</th>\n",
              "      <td>6.4</td>\n",
              "      <td>4.6</td>\n",
              "      <td>7.5</td>\n",
              "      <td>13.7</td>\n",
              "      <td>10.0</td>\n",
              "      <td>203.0</td>\n",
              "      <td>19.4</td>\n",
              "      <td>63.0</td>\n",
              "      <td>1004.8</td>\n",
              "      <td>NaN</td>\n",
              "    </tr>\n",
              "    <tr>\n",
              "      <th>2025-03-30</th>\n",
              "      <td>7.2</td>\n",
              "      <td>3.8</td>\n",
              "      <td>12.3</td>\n",
              "      <td>4.5</td>\n",
              "      <td>10.0</td>\n",
              "      <td>11.0</td>\n",
              "      <td>16.0</td>\n",
              "      <td>53.3</td>\n",
              "      <td>1004.3</td>\n",
              "      <td>NaN</td>\n",
              "    </tr>\n",
              "    <tr>\n",
              "      <th>2025-03-31</th>\n",
              "      <td>5.9</td>\n",
              "      <td>2.2</td>\n",
              "      <td>9.1</td>\n",
              "      <td>0.0</td>\n",
              "      <td>10.0</td>\n",
              "      <td>175.0</td>\n",
              "      <td>8.5</td>\n",
              "      <td>29.5</td>\n",
              "      <td>1024.6</td>\n",
              "      <td>NaN</td>\n",
              "    </tr>\n",
              "  </tbody>\n",
              "</table>\n",
              "<p>19083 rows × 10 columns</p>\n",
              "</div>\n",
              "    <div class=\"colab-df-buttons\">\n",
              "\n",
              "  <div class=\"colab-df-container\">\n",
              "    <button class=\"colab-df-convert\" onclick=\"convertToInteractive('df-1a319a8a-0e67-46f4-8696-1bd7ade02a31')\"\n",
              "            title=\"Convert this dataframe to an interactive table.\"\n",
              "            style=\"display:none;\">\n",
              "\n",
              "  <svg xmlns=\"http://www.w3.org/2000/svg\" height=\"24px\" viewBox=\"0 -960 960 960\">\n",
              "    <path d=\"M120-120v-720h720v720H120Zm60-500h600v-160H180v160Zm220 220h160v-160H400v160Zm0 220h160v-160H400v160ZM180-400h160v-160H180v160Zm440 0h160v-160H620v160ZM180-180h160v-160H180v160Zm440 0h160v-160H620v160Z\"/>\n",
              "  </svg>\n",
              "    </button>\n",
              "\n",
              "  <style>\n",
              "    .colab-df-container {\n",
              "      display:flex;\n",
              "      gap: 12px;\n",
              "    }\n",
              "\n",
              "    .colab-df-convert {\n",
              "      background-color: #E8F0FE;\n",
              "      border: none;\n",
              "      border-radius: 50%;\n",
              "      cursor: pointer;\n",
              "      display: none;\n",
              "      fill: #1967D2;\n",
              "      height: 32px;\n",
              "      padding: 0 0 0 0;\n",
              "      width: 32px;\n",
              "    }\n",
              "\n",
              "    .colab-df-convert:hover {\n",
              "      background-color: #E2EBFA;\n",
              "      box-shadow: 0px 1px 2px rgba(60, 64, 67, 0.3), 0px 1px 3px 1px rgba(60, 64, 67, 0.15);\n",
              "      fill: #174EA6;\n",
              "    }\n",
              "\n",
              "    .colab-df-buttons div {\n",
              "      margin-bottom: 4px;\n",
              "    }\n",
              "\n",
              "    [theme=dark] .colab-df-convert {\n",
              "      background-color: #3B4455;\n",
              "      fill: #D2E3FC;\n",
              "    }\n",
              "\n",
              "    [theme=dark] .colab-df-convert:hover {\n",
              "      background-color: #434B5C;\n",
              "      box-shadow: 0px 1px 3px 1px rgba(0, 0, 0, 0.15);\n",
              "      filter: drop-shadow(0px 1px 2px rgba(0, 0, 0, 0.3));\n",
              "      fill: #FFFFFF;\n",
              "    }\n",
              "  </style>\n",
              "\n",
              "    <script>\n",
              "      const buttonEl =\n",
              "        document.querySelector('#df-1a319a8a-0e67-46f4-8696-1bd7ade02a31 button.colab-df-convert');\n",
              "      buttonEl.style.display =\n",
              "        google.colab.kernel.accessAllowed ? 'block' : 'none';\n",
              "\n",
              "      async function convertToInteractive(key) {\n",
              "        const element = document.querySelector('#df-1a319a8a-0e67-46f4-8696-1bd7ade02a31');\n",
              "        const dataTable =\n",
              "          await google.colab.kernel.invokeFunction('convertToInteractive',\n",
              "                                                    [key], {});\n",
              "        if (!dataTable) return;\n",
              "\n",
              "        const docLinkHtml = 'Like what you see? Visit the ' +\n",
              "          '<a target=\"_blank\" href=https://colab.research.google.com/notebooks/data_table.ipynb>data table notebook</a>'\n",
              "          + ' to learn more about interactive tables.';\n",
              "        element.innerHTML = '';\n",
              "        dataTable['output_type'] = 'display_data';\n",
              "        await google.colab.output.renderOutput(dataTable, element);\n",
              "        const docLink = document.createElement('div');\n",
              "        docLink.innerHTML = docLinkHtml;\n",
              "        element.appendChild(docLink);\n",
              "      }\n",
              "    </script>\n",
              "  </div>\n",
              "\n",
              "\n",
              "<div id=\"df-578bd295-ab3b-4528-9008-07d2f17c5c72\">\n",
              "  <button class=\"colab-df-quickchart\" onclick=\"quickchart('df-578bd295-ab3b-4528-9008-07d2f17c5c72')\"\n",
              "            title=\"Suggest charts\"\n",
              "            style=\"display:none;\">\n",
              "\n",
              "<svg xmlns=\"http://www.w3.org/2000/svg\" height=\"24px\"viewBox=\"0 0 24 24\"\n",
              "     width=\"24px\">\n",
              "    <g>\n",
              "        <path d=\"M19 3H5c-1.1 0-2 .9-2 2v14c0 1.1.9 2 2 2h14c1.1 0 2-.9 2-2V5c0-1.1-.9-2-2-2zM9 17H7v-7h2v7zm4 0h-2V7h2v10zm4 0h-2v-4h2v4z\"/>\n",
              "    </g>\n",
              "</svg>\n",
              "  </button>\n",
              "\n",
              "<style>\n",
              "  .colab-df-quickchart {\n",
              "      --bg-color: #E8F0FE;\n",
              "      --fill-color: #1967D2;\n",
              "      --hover-bg-color: #E2EBFA;\n",
              "      --hover-fill-color: #174EA6;\n",
              "      --disabled-fill-color: #AAA;\n",
              "      --disabled-bg-color: #DDD;\n",
              "  }\n",
              "\n",
              "  [theme=dark] .colab-df-quickchart {\n",
              "      --bg-color: #3B4455;\n",
              "      --fill-color: #D2E3FC;\n",
              "      --hover-bg-color: #434B5C;\n",
              "      --hover-fill-color: #FFFFFF;\n",
              "      --disabled-bg-color: #3B4455;\n",
              "      --disabled-fill-color: #666;\n",
              "  }\n",
              "\n",
              "  .colab-df-quickchart {\n",
              "    background-color: var(--bg-color);\n",
              "    border: none;\n",
              "    border-radius: 50%;\n",
              "    cursor: pointer;\n",
              "    display: none;\n",
              "    fill: var(--fill-color);\n",
              "    height: 32px;\n",
              "    padding: 0;\n",
              "    width: 32px;\n",
              "  }\n",
              "\n",
              "  .colab-df-quickchart:hover {\n",
              "    background-color: var(--hover-bg-color);\n",
              "    box-shadow: 0 1px 2px rgba(60, 64, 67, 0.3), 0 1px 3px 1px rgba(60, 64, 67, 0.15);\n",
              "    fill: var(--button-hover-fill-color);\n",
              "  }\n",
              "\n",
              "  .colab-df-quickchart-complete:disabled,\n",
              "  .colab-df-quickchart-complete:disabled:hover {\n",
              "    background-color: var(--disabled-bg-color);\n",
              "    fill: var(--disabled-fill-color);\n",
              "    box-shadow: none;\n",
              "  }\n",
              "\n",
              "  .colab-df-spinner {\n",
              "    border: 2px solid var(--fill-color);\n",
              "    border-color: transparent;\n",
              "    border-bottom-color: var(--fill-color);\n",
              "    animation:\n",
              "      spin 1s steps(1) infinite;\n",
              "  }\n",
              "\n",
              "  @keyframes spin {\n",
              "    0% {\n",
              "      border-color: transparent;\n",
              "      border-bottom-color: var(--fill-color);\n",
              "      border-left-color: var(--fill-color);\n",
              "    }\n",
              "    20% {\n",
              "      border-color: transparent;\n",
              "      border-left-color: var(--fill-color);\n",
              "      border-top-color: var(--fill-color);\n",
              "    }\n",
              "    30% {\n",
              "      border-color: transparent;\n",
              "      border-left-color: var(--fill-color);\n",
              "      border-top-color: var(--fill-color);\n",
              "      border-right-color: var(--fill-color);\n",
              "    }\n",
              "    40% {\n",
              "      border-color: transparent;\n",
              "      border-right-color: var(--fill-color);\n",
              "      border-top-color: var(--fill-color);\n",
              "    }\n",
              "    60% {\n",
              "      border-color: transparent;\n",
              "      border-right-color: var(--fill-color);\n",
              "    }\n",
              "    80% {\n",
              "      border-color: transparent;\n",
              "      border-right-color: var(--fill-color);\n",
              "      border-bottom-color: var(--fill-color);\n",
              "    }\n",
              "    90% {\n",
              "      border-color: transparent;\n",
              "      border-bottom-color: var(--fill-color);\n",
              "    }\n",
              "  }\n",
              "</style>\n",
              "\n",
              "  <script>\n",
              "    async function quickchart(key) {\n",
              "      const quickchartButtonEl =\n",
              "        document.querySelector('#' + key + ' button');\n",
              "      quickchartButtonEl.disabled = true;  // To prevent multiple clicks.\n",
              "      quickchartButtonEl.classList.add('colab-df-spinner');\n",
              "      try {\n",
              "        const charts = await google.colab.kernel.invokeFunction(\n",
              "            'suggestCharts', [key], {});\n",
              "      } catch (error) {\n",
              "        console.error('Error during call to suggestCharts:', error);\n",
              "      }\n",
              "      quickchartButtonEl.classList.remove('colab-df-spinner');\n",
              "      quickchartButtonEl.classList.add('colab-df-quickchart-complete');\n",
              "    }\n",
              "    (() => {\n",
              "      let quickchartButtonEl =\n",
              "        document.querySelector('#df-578bd295-ab3b-4528-9008-07d2f17c5c72 button');\n",
              "      quickchartButtonEl.style.display =\n",
              "        google.colab.kernel.accessAllowed ? 'block' : 'none';\n",
              "    })();\n",
              "  </script>\n",
              "</div>\n",
              "\n",
              "  <div id=\"id_7ae86f96-9595-4eaf-a9fa-65eeb53e5996\">\n",
              "    <style>\n",
              "      .colab-df-generate {\n",
              "        background-color: #E8F0FE;\n",
              "        border: none;\n",
              "        border-radius: 50%;\n",
              "        cursor: pointer;\n",
              "        display: none;\n",
              "        fill: #1967D2;\n",
              "        height: 32px;\n",
              "        padding: 0 0 0 0;\n",
              "        width: 32px;\n",
              "      }\n",
              "\n",
              "      .colab-df-generate:hover {\n",
              "        background-color: #E2EBFA;\n",
              "        box-shadow: 0px 1px 2px rgba(60, 64, 67, 0.3), 0px 1px 3px 1px rgba(60, 64, 67, 0.15);\n",
              "        fill: #174EA6;\n",
              "      }\n",
              "\n",
              "      [theme=dark] .colab-df-generate {\n",
              "        background-color: #3B4455;\n",
              "        fill: #D2E3FC;\n",
              "      }\n",
              "\n",
              "      [theme=dark] .colab-df-generate:hover {\n",
              "        background-color: #434B5C;\n",
              "        box-shadow: 0px 1px 3px 1px rgba(0, 0, 0, 0.15);\n",
              "        filter: drop-shadow(0px 1px 2px rgba(0, 0, 0, 0.3));\n",
              "        fill: #FFFFFF;\n",
              "      }\n",
              "    </style>\n",
              "    <button class=\"colab-df-generate\" onclick=\"generateWithVariable('data')\"\n",
              "            title=\"Generate code using this dataframe.\"\n",
              "            style=\"display:none;\">\n",
              "\n",
              "  <svg xmlns=\"http://www.w3.org/2000/svg\" height=\"24px\"viewBox=\"0 0 24 24\"\n",
              "       width=\"24px\">\n",
              "    <path d=\"M7,19H8.4L18.45,9,17,7.55,7,17.6ZM5,21V16.75L18.45,3.32a2,2,0,0,1,2.83,0l1.4,1.43a1.91,1.91,0,0,1,.58,1.4,1.91,1.91,0,0,1-.58,1.4L9.25,21ZM18.45,9,17,7.55Zm-12,3A5.31,5.31,0,0,0,4.9,8.1,5.31,5.31,0,0,0,1,6.5,5.31,5.31,0,0,0,4.9,4.9,5.31,5.31,0,0,0,6.5,1,5.31,5.31,0,0,0,8.1,4.9,5.31,5.31,0,0,0,12,6.5,5.46,5.46,0,0,0,6.5,12Z\"/>\n",
              "  </svg>\n",
              "    </button>\n",
              "    <script>\n",
              "      (() => {\n",
              "      const buttonEl =\n",
              "        document.querySelector('#id_7ae86f96-9595-4eaf-a9fa-65eeb53e5996 button.colab-df-generate');\n",
              "      buttonEl.style.display =\n",
              "        google.colab.kernel.accessAllowed ? 'block' : 'none';\n",
              "\n",
              "      buttonEl.onclick = () => {\n",
              "        google.colab.notebook.generateWithVariable('data');\n",
              "      }\n",
              "      })();\n",
              "    </script>\n",
              "  </div>\n",
              "\n",
              "    </div>\n",
              "  </div>\n"
            ],
            "application/vnd.google.colaboratory.intrinsic+json": {
              "type": "dataframe",
              "variable_name": "data",
              "summary": "{\n  \"name\": \"data\",\n  \"rows\": 19083,\n  \"fields\": [\n    {\n      \"column\": \"time\",\n      \"properties\": {\n        \"dtype\": \"date\",\n        \"min\": \"1973-01-01 00:00:00\",\n        \"max\": \"2025-03-31 00:00:00\",\n        \"num_unique_values\": 19083,\n        \"samples\": [\n          \"1997-05-01 00:00:00\",\n          \"2023-09-24 00:00:00\",\n          \"1993-08-11 00:00:00\"\n        ],\n        \"semantic_type\": \"\",\n        \"description\": \"\"\n      }\n    },\n    {\n      \"column\": \"tavg\",\n      \"properties\": {\n        \"dtype\": \"number\",\n        \"std\": 5.733890271047304,\n        \"min\": -14.4,\n        \"max\": 26.1,\n        \"num_unique_values\": 352,\n        \"samples\": [\n          -1.8,\n          9.5,\n          1.6\n        ],\n        \"semantic_type\": \"\",\n        \"description\": \"\"\n      }\n    },\n    {\n      \"column\": \"tmin\",\n      \"properties\": {\n        \"dtype\": \"number\",\n        \"std\": 5.497918391690736,\n        \"min\": -16.3,\n        \"max\": 20.5,\n        \"num_unique_values\": 324,\n        \"samples\": [\n          8.9,\n          10.5,\n          0.2\n        ],\n        \"semantic_type\": \"\",\n        \"description\": \"\"\n      }\n    },\n    {\n      \"column\": \"tmax\",\n      \"properties\": {\n        \"dtype\": \"number\",\n        \"std\": 6.4545698793876864,\n        \"min\": -11.5,\n        \"max\": 33.4,\n        \"num_unique_values\": 387,\n        \"samples\": [\n          -9.0,\n          -0.9,\n          9.2\n        ],\n        \"semantic_type\": \"\",\n        \"description\": \"\"\n      }\n    },\n    {\n      \"column\": \"prcp\",\n      \"properties\": {\n        \"dtype\": \"number\",\n        \"std\": 10.814069718502962,\n        \"min\": 0.0,\n        \"max\": 156.5,\n        \"num_unique_values\": 580,\n        \"samples\": [\n          54.5,\n          20.8,\n          3.7\n        ],\n        \"semantic_type\": \"\",\n        \"description\": \"\"\n      }\n    },\n    {\n      \"column\": \"snow\",\n      \"properties\": {\n        \"dtype\": \"number\",\n        \"std\": 116.57996701542463,\n        \"min\": 0.0,\n        \"max\": 1501.0,\n        \"num_unique_values\": 58,\n        \"samples\": [\n          1501.0,\n          90.0,\n          320.0\n        ],\n        \"semantic_type\": \"\",\n        \"description\": \"\"\n      }\n    },\n    {\n      \"column\": \"wdir\",\n      \"properties\": {\n        \"dtype\": \"number\",\n        \"std\": 79.86954530286448,\n        \"min\": 0.0,\n        \"max\": 359.0,\n        \"num_unique_values\": 354,\n        \"samples\": [\n          279.0,\n          129.0,\n          11.0\n        ],\n        \"semantic_type\": \"\",\n        \"description\": \"\"\n      }\n    },\n    {\n      \"column\": \"wspd\",\n      \"properties\": {\n        \"dtype\": \"number\",\n        \"std\": 5.962745134768777,\n        \"min\": 1.4,\n        \"max\": 45.2,\n        \"num_unique_values\": 315,\n        \"samples\": [\n          17.8,\n          5.1,\n          12.4\n        ],\n        \"semantic_type\": \"\",\n        \"description\": \"\"\n      }\n    },\n    {\n      \"column\": \"wpgt\",\n      \"properties\": {\n        \"dtype\": \"number\",\n        \"std\": 17.23149616270784,\n        \"min\": 7.9,\n        \"max\": 122.0,\n        \"num_unique_values\": 210,\n        \"samples\": [\n          22.3,\n          37.1,\n          26.6\n        ],\n        \"semantic_type\": \"\",\n        \"description\": \"\"\n      }\n    },\n    {\n      \"column\": \"pres\",\n      \"properties\": {\n        \"dtype\": \"number\",\n        \"std\": 12.41166802010534,\n        \"min\": 961.9,\n        \"max\": 1047.7,\n        \"num_unique_values\": 676,\n        \"samples\": [\n          970.3,\n          1012.7,\n          977.0\n        ],\n        \"semantic_type\": \"\",\n        \"description\": \"\"\n      }\n    },\n    {\n      \"column\": \"tsun\",\n      \"properties\": {\n        \"dtype\": \"number\",\n        \"std\": null,\n        \"min\": null,\n        \"max\": null,\n        \"num_unique_values\": 0,\n        \"samples\": [],\n        \"semantic_type\": \"\",\n        \"description\": \"\"\n      }\n    }\n  ]\n}"
            }
          },
          "metadata": {},
          "execution_count": 10
        }
      ]
    },
    {
      "cell_type": "code",
      "execution_count": 23,
      "id": "a4827fd4-ee77-4889-bad8-dc05e3103984",
      "metadata": {
        "id": "a4827fd4-ee77-4889-bad8-dc05e3103984"
      },
      "outputs": [],
      "source": [
        "# Lager pandas dataframe med temperaturdifferanser.\n",
        "# Dette for å ha funksjonaliteten til pandas tilgjengelig.\n",
        "\n",
        "data2 = pd.DataFrame(y, columns=['temperaturdifferanse'], index=data.loc[end - timedelta(days=int(365.24 * antall_år_sammenligne)): end].index)"
      ]
    },
    {
      "cell_type": "code",
      "execution_count": 24,
      "id": "bc7df47b-13bf-4443-a575-7bfb79f8f077",
      "metadata": {
        "id": "bc7df47b-13bf-4443-a575-7bfb79f8f077",
        "outputId": "09de3ebb-fdf9-45cb-eb24-4eb1000760b7",
        "colab": {
          "base_uri": "https://localhost:8080/",
          "height": 467
        }
      },
      "outputs": [
        {
          "output_type": "execute_result",
          "data": {
            "text/plain": [
              "<Axes: xlabel='time'>"
            ]
          },
          "metadata": {},
          "execution_count": 24
        },
        {
          "output_type": "display_data",
          "data": {
            "text/plain": [
              "<Figure size 640x480 with 1 Axes>"
            ],
            "image/png": "[encoded data removed]"
          },
          "metadata": {}
        }
      ],
      "source": [
        "data2.plot(y=['temperaturdifferanse'])"
      ]
    },
    {
      "cell_type": "code",
      "source": [
        "np.mean(y)"
      ],
      "metadata": {
        "id": "CsjuVbO4Y0OS",
        "outputId": "46e74d91-84e8-4d52-f761-a9f0062fd4d7",
        "colab": {
          "base_uri": "https://localhost:8080/"
        }
      },
      "id": "CsjuVbO4Y0OS",
      "execution_count": 25,
      "outputs": [
        {
          "output_type": "execute_result",
          "data": {
            "text/plain": [
              "np.float64(1.1356790799561884)"
            ]
          },
          "metadata": {},
          "execution_count": 25
        }
      ]
    },
    {
      "cell_type": "markdown",
      "id": "d0f8ece2-8487-4acd-a3e3-8376a46b2702",
      "metadata": {
        "id": "d0f8ece2-8487-4acd-a3e3-8376a46b2702"
      },
      "source": [
        "## Normalfordeling\n",
        "\n",
        "I mange situasjoner observerer vi noe som varierer av en sammensatt grunn.\n",
        "\n",
        "En typisk egenskap ved observasjoner som varierer av samensatte årsaker er at de ofte får en **normalfordeling**.\n",
        "\n",
        "Med mindre vi har spesiell grunn til å tro noe annet, så regner vi med at\n",
        "observasjonene våre varier med en tilnærmet normalfordeling."
      ]
    },
    {
      "cell_type": "code",
      "execution_count": 26,
      "id": "d1fb15c4-55f4-4d79-b15b-ac6eb3268293",
      "metadata": {
        "id": "d1fb15c4-55f4-4d79-b15b-ac6eb3268293",
        "outputId": "4b7d47cc-d8c1-4400-9980-3a254bdacd9b",
        "colab": {
          "base_uri": "https://localhost:8080/",
          "height": 452
        }
      },
      "outputs": [
        {
          "output_type": "display_data",
          "data": {
            "text/plain": [
              "<Figure size 640x480 with 1 Axes>"
            ],
            "image/png": "[encoded data removed]"
          },
          "metadata": {}
        }
      ],
      "source": [
        "# Plotter normalfordeling med samme gjennomsnitt of standardavvik som observasjonene våre\n",
        "\n",
        "xmin = np.min(y)\n",
        "xmax = np.max(y)\n",
        "mu, std = scipy.stats.norm.fit(data2['temperaturdifferanse'])\n",
        "plt.plot(np.linspace(xmin, xmax, 100), scipy.stats.norm.pdf(np.linspace(xmin, xmax, 100), mu, std), 'k', linewidth=2)\n",
        "title = \"Normalfordeling med μ = {:.2f} og σ = {:.2f}\".format(mu, std)\n",
        "plt.title(title);"
      ]
    },
    {
      "cell_type": "markdown",
      "id": "dd1d21f3-fa54-401c-a661-e3db0fda7cce",
      "metadata": {
        "id": "dd1d21f3-fa54-401c-a661-e3db0fda7cce"
      },
      "source": [
        "## Kriterier for hypotesetest\n",
        "\n",
        "For å teste hypotesen om temperaturforskjeller vil jeg bruke en $t$-test. Jeg har ett\n",
        "utvalg av temperaturforskjeller $y_1, \\dots, y_{3652}$.\n",
        "\n",
        "Nullhypotesen\n",
        "er at disse tallene er trukket fra en normalfordeling med gjennomsnitt $1 \\ C^{\\circ}$.\n",
        "\n",
        "Den alternative hypotesen er at tallene er trukket fra en normalfordeling med et gjennomsnitt som er\n",
        "høyere enn $1 \\ C^{\\circ}$.\n",
        "\n",
        "En forutsetning for å kunne bruke en $t$-test er at observasjonene er\n",
        "uavhengige og normalfordelte. Jeg vet ikke på forhånd om temperaturforskjellene er normalfordelte,\n",
        "men jeg kan danne meg en formening om dette ved å se på et histogram.\n",
        "Jeg kan finne normalfordelingskurven som passer best til\n",
        "mitt data og sammenligne de to.\n",
        "\n",
        "Hvis det ser bra ut kan jeg fortsette. Ellers må jeg finne en annen\n",
        "metode eller en annen hypotese.\n",
        "\n",
        "Uavhengighet betyr at verdien på ett av tallene ikke påvirker verdien på de andre tallene. Denne forutsetningen er tvilsom for temperaturdata. Temperaturen i går og i dag er ikke uavhengige. At jeg ser på temperaturforskjeller gør at tallene kanskje er litt mere uavhengige, men ikke helt!"
      ]
    },
    {
      "cell_type": "markdown",
      "id": "21f0d0f3-9905-445c-ae64-5765d7d0268d",
      "metadata": {
        "id": "21f0d0f3-9905-445c-ae64-5765d7d0268d"
      },
      "source": [
        "**Sjekker normalfordeling på data:**\n",
        "\n",
        "Plotter først et histogram av data.\n",
        "\n",
        "(Teller datapunkter i hvert delintervall i en oppdeling av intervallet av observerte verdier.)"
      ]
    },
    {
      "cell_type": "code",
      "execution_count": 27,
      "id": "5af80742-f59a-411c-aa1a-b060f1c521f3",
      "metadata": {
        "id": "5af80742-f59a-411c-aa1a-b060f1c521f3",
        "outputId": "6a5f95a9-ab22-481a-ccf1-5f94c81b4208",
        "colab": {
          "base_uri": "https://localhost:8080/",
          "height": 430
        }
      },
      "outputs": [
        {
          "output_type": "display_data",
          "data": {
            "text/plain": [
              "<Figure size 640x480 with 1 Axes>"
            ],
            "image/png": "[encoded data removed]"
          },
          "metadata": {}
        }
      ],
      "source": [
        "# Plotter histogram av temperaturdifferanser.\n",
        "data2['temperaturdifferanse'].plot.hist(bins=30)\n",
        "xmin, xmax = plt.xlim()"
      ]
    },
    {
      "cell_type": "markdown",
      "id": "0c44214f-3d10-4839-8bb9-7e0ca0d85d7d",
      "metadata": {
        "id": "0c44214f-3d10-4839-8bb9-7e0ca0d85d7d"
      },
      "source": [
        "Plotter deretter normalfordelingen med samme gjennomsnitt $E(y)$ og standardavvik $\\sigma(y)$ som data opp på histogrammet for data.\n",
        "\n",
        "Formlene for $E(y)$ og $\\sigma(y)$ er\n",
        "\n",
        "$$E(y) = \\frac{y_1 + \\dots + y_{3652}}{3652}$$\n",
        "\n",
        "$$\\sigma(y) = \\sqrt{E(y^2) - E(y)^2}$$\n",
        "\n",
        "der\n",
        "\n",
        "$$E(y^2) = \\frac{y_1^2 + \\dots + y^2_{3652}}{3652}$$\n",
        "\n",
        "Jeg kan visuellt avgjøre det ut som om at data er normalfordelt. Her under ser data normalfordelt ut."
      ]
    },
    {
      "cell_type": "code",
      "execution_count": 28,
      "id": "3c614ddf-2efa-4062-b9d5-fe8c29ea7dc1",
      "metadata": {
        "colab": {
          "base_uri": "https://localhost:8080/",
          "height": 452
        },
        "id": "3c614ddf-2efa-4062-b9d5-fe8c29ea7dc1",
        "outputId": "eaa2e2ff-a80d-4726-d4d9-746655f8eff7"
      },
      "outputs": [
        {
          "output_type": "display_data",
          "data": {
            "text/plain": [
              "<Figure size 640x480 with 1 Axes>"
            ],
            "image/png": "[encoded data removed]"
          },
          "metadata": {}
        }
      ],
      "source": [
        "mu, std = scipy.stats.norm.fit(data2['temperaturdifferanse'])\n",
        "data2['temperaturdifferanse'].plot(kind='hist', bins=30, density=True)\n",
        "range = np.arange(-10, 10, 0.01)\n",
        "# plt.plot(range, norm.pdf(range,0,4))\n",
        "xmin = np.min(y)\n",
        "xmax = np.max(y)\n",
        "#xmin, xmax = plt.xlim()\n",
        "plt.plot(np.linspace(xmin, xmax, 100), scipy.stats.norm.pdf(np.linspace(xmin, xmax, 100), mu, std), 'k', linewidth=2)\n",
        "title = \"Normalfordeling med μ = {:.2f} og σ = {:.2f}\".format(mu, std)\n",
        "plt.title(title);"
      ]
    },
    {
      "cell_type": "markdown",
      "id": "a201ab5b-e8fe-41d4-a2d7-4808c64d2fb7",
      "metadata": {
        "id": "a201ab5b-e8fe-41d4-a2d7-4808c64d2fb7"
      },
      "source": [
        "Siden data ser normalfordelt ut antar jeg at gjennomsnittet $E(y)$ er trukket fra en $t$-fordeling med $n - 1 = 3051$ frihetsgrader.\n",
        "\n",
        "Siden vi ikke kjenner standardavvik eller gjennomsnitt for den underliggende normalfordelingen bruker vi gjennomsnitt og standardavvik for $y$\n",
        "til beregning av $t$-verdi.\n",
        "\n",
        "Formelen for $t$-verdien er\n",
        "$$t\\_\\text{verdi} = \\frac{E(y) - \\mu_0}{\\sigma(y)/\\sqrt{n}}.$$\n",
        "\n",
        "Formlene for $E(y)$ og $\\sigma(y)$ er beskrevet ovenfor."
      ]
    },
    {
      "cell_type": "markdown",
      "id": "7981c62d-9d47-4d5c-aca3-d940c969d1fe",
      "metadata": {
        "id": "7981c62d-9d47-4d5c-aca3-d940c969d1fe"
      },
      "source": [
        "Vi kan også se på gjennomsnittet som en funksjon av $t$-verdien:\n",
        "\n",
        "$$\\mu_0 = E(y) - t  (\\sigma(y) / \\sqrt{n}).$$"
      ]
    },
    {
      "cell_type": "code",
      "execution_count": null,
      "id": "3a3945c5-a2a2-4e76-911f-e3d1a91f8a73",
      "metadata": {
        "id": "3a3945c5-a2a2-4e76-911f-e3d1a91f8a73"
      },
      "outputs": [],
      "source": [
        "# gjennomsnitt og standardavvik\n",
        "Ey = np.mean(y)\n",
        "sigmay = np.std(y)"
      ]
    },
    {
      "cell_type": "code",
      "execution_count": null,
      "id": "09facbc0-5059-4260-a3d3-6b9864b831ea",
      "metadata": {
        "id": "09facbc0-5059-4260-a3d3-6b9864b831ea"
      },
      "outputs": [],
      "source": [
        "# antatt gjennomsnitt\n",
        "mu0 = 1"
      ]
    },
    {
      "cell_type": "code",
      "execution_count": null,
      "id": "2959a89d-b05d-416e-bb3f-2d60ddfc3a5d",
      "metadata": {
        "id": "2959a89d-b05d-416e-bb3f-2d60ddfc3a5d"
      },
      "outputs": [],
      "source": [
        "t_verdi = (Ey - mu0)/(sigmay / np.sqrt(len(y)))"
      ]
    },
    {
      "cell_type": "code",
      "execution_count": null,
      "id": "59388676-0563-4bba-a6ce-27f708c2f21e",
      "metadata": {
        "id": "59388676-0563-4bba-a6ce-27f708c2f21e"
      },
      "outputs": [],
      "source": [
        "t_verdi"
      ]
    },
    {
      "cell_type": "markdown",
      "id": "58594ef1-eda7-4f53-8898-a7f8e6a9195e",
      "metadata": {
        "id": "58594ef1-eda7-4f53-8898-a7f8e6a9195e"
      },
      "source": [
        "Teorien for normalfordelte observasjoner forutsier at $t$-verdien vi nettopp beregnet vil fordele seg etter en $t$-fordeling med $n-1$ frihetsgrader.\n",
        "\n",
        "$t$-fordelingen er tilnærmet lik normalfordelingen med standardavvik $1$ og gjennomsnitt $0$ når antallet av frihetsgrader er stort."
      ]
    },
    {
      "cell_type": "code",
      "execution_count": null,
      "id": "895473ad-7cdf-4ea7-9374-cd5093b93ea5",
      "metadata": {
        "id": "895473ad-7cdf-4ea7-9374-cd5093b93ea5"
      },
      "outputs": [],
      "source": [
        "# Antall frihetsgrader\n",
        "dfs = [3, 10, 1000]\n",
        "\n",
        "# Sett opp verdier for x-aksen\n",
        "x = np.linspace(-4, 4, 1000)\n",
        "\n",
        "alpha = 0.05  # Signifikansnivå\n",
        "\n",
        "for df in dfs:\n",
        "    yy = scipy.stats.t.pdf(x, df)  # t-fordeling med 10 frihetsgrader\n",
        "    plt.plot(x, yy, label=f'{df} frihetsgrader')\n",
        "\n",
        "# y = norm.pdf(x)\n",
        "# plt.plot(x, y + 0.002)\n",
        "\n",
        "plt.legend()\n",
        "plt.tight_layout()\n",
        "plt.show()\n"
      ]
    },
    {
      "cell_type": "markdown",
      "id": "ab9fa824-d3e4-4aa3-a59f-370b613ee274",
      "metadata": {
        "id": "ab9fa824-d3e4-4aa3-a59f-370b613ee274"
      },
      "source": [
        "## Overgang fra t-verdi til sannsynlighet, eller p-verdi\n",
        "\n",
        "Vi antar at temperaturforskjellene $y$ er fordelt etter en normalfordeling med gjennomsnittsverdi $\\mu$ og standardavvik $\\sigma$.\n",
        "\n",
        "Gitt en $t$-verdien $t\\_\\text{verdi}$ og antallet av frihetsgrader kan vi finne sannsynligheten for at $\\mu \\le \\mu_0$ og sannsynligheten for at $\\mu > \\mu_0$.\n",
        "\n",
        "Hvis sannsynligheten for nullhypotesen $H_0$: $\\mu \\le \\mu_0$ er veldig liten velger vi å forkaste nullhypotesen.\n",
        "\n",
        "Vi må på forhånd bestemme oss for hva vi mener med veldig liten.\n",
        "\n",
        "Et typisk valg er \"mindre en 5%\".\n",
        "\n",
        "I vårt tilfelle er $t\\_\\text{verdi}$ og antall frihetsgrader gitt ved:"
      ]
    },
    {
      "cell_type": "code",
      "execution_count": null,
      "id": "456148ef-43ea-42e3-b69b-a4270d8a1f7d",
      "metadata": {
        "id": "456148ef-43ea-42e3-b69b-a4270d8a1f7d"
      },
      "outputs": [],
      "source": [
        "# t-verdi og antall frihetsgrader\n",
        "\n",
        "antall_frihetsgrader = len(y) - 1\n",
        "float(t_verdi), antall_frihetsgrader"
      ]
    },
    {
      "cell_type": "markdown",
      "id": "296bb677-3cea-4b06-9666-241bb2124ba8",
      "metadata": {
        "id": "296bb677-3cea-4b06-9666-241bb2124ba8"
      },
      "source": [
        "Arealet til det røde området på figuren under er sannsynligheten for at nullhypotesen er sann."
      ]
    },
    {
      "cell_type": "code",
      "execution_count": null,
      "id": "8c5ba099-26d3-4332-9be9-854363090c8f",
      "metadata": {
        "cellView": "form",
        "id": "8c5ba099-26d3-4332-9be9-854363090c8f"
      },
      "outputs": [],
      "source": [
        "# @title plot\n",
        "import matplotlib.pyplot as plt\n",
        "import numpy as np\n",
        "\n",
        "# Define the function\n",
        "x = np.linspace(-4, 4, 1000)\n",
        "yy = scipy.stats.t.pdf(x, antall_frihetsgrader)  # t-fordeling med 10 frihetsgrader\n",
        "t_crit = t_verdi\n",
        "\n",
        "def t_av_mu(m):\n",
        "    return (Ey - m)/(sigmay/np.sqrt(len(y)))\n",
        "# def mu_av_t(t):\n",
        "#     return Ey - t*(sigmay/np.sqrt(len(y)))\n",
        "\n",
        "ax = plt.gca()\n",
        "\n",
        "\n",
        "plt.plot(x, yy, color='black')\n",
        "plt.fill_between(x, yy, where=(x > t_crit), color='red', alpha=0.5, label=r'$P(H_0)=P(μ≤μ0)$')\n",
        "plt.fill_between(x, yy, where=(x < t_crit), color='blue', alpha=0.5, label=r'$P(H_a)=P(μ>μ0)$')\n",
        "# Remove default spines\n",
        "ax.spines[\"top\"].set_visible(False)\n",
        "ax.spines[\"right\"].set_visible(False)\n",
        "ax.spines[\"left\"].set_visible(False)\n",
        "ax.spines[\"bottom\"].set_visible(False)\n",
        "\n",
        "# Set limits\n",
        "ax.set_xlim(-5, 5)\n",
        "ax.set_ylim(-.3, .5)  # Ensure axes are visible\n",
        "\n",
        "# Draw the primary x-axis (for x) with an arrow\n",
        "ax.plot([-4, 4], [0, 0], color=\"black\", lw=1.5)\n",
        "ax.annotate(\"\", xy=(4.1, 0), xytext=(4., 0),\n",
        "            arrowprops=dict(arrowstyle=\"->\", lw=1.5), annotation_clip=False)\n",
        "ax.text(4.4, 0, r\"t\", verticalalignment=\"center\")\n",
        "\n",
        "# Draw the secondary x-axis (for -x) with an arrow\n",
        "ax.plot([-4.1, 4], [-.1, -.1], color=\"black\", lw=1.5)\n",
        "ax.annotate(\"\", xy=(4.1, -.1), xytext=(4., -.1),\n",
        "            arrowprops=dict(arrowstyle=\"->\", lw=1.5), annotation_clip=False)\n",
        "ax.text(4.4, -.1, r\"p\", verticalalignment=\"center\")\n",
        "\n",
        "# Draw the third x-axis (for -x) with an arrow\n",
        "ax.plot([-4.1, 4], [-.2, -.2], color=\"black\", lw=1.5)\n",
        "ax.annotate(\"\", xy=(-4.2, -.2), xytext=(-4.1, -.2),\n",
        "            arrowprops=dict(arrowstyle=\"->\", lw=1.5), annotation_clip=False)\n",
        "ax.text(-4.8, -.2, r\"μ\", verticalalignment=\"center\")\n",
        "\n",
        "# Draw the y-axis with an arrow\n",
        "ax.plot([0, 0], [0, .45], color=\"black\", lw=1.5)\n",
        "ax.annotate(\"\", xy=(0, .46), xytext=(0, .45),\n",
        "            arrowprops=dict(arrowstyle=\"->\", lw=1.5), annotation_clip=False)\n",
        "#ax.text(-0.3, .45, r\"y\", verticalalignment=\"center\")\n",
        "\n",
        "\n",
        "# Set x-ticks for t-axis\n",
        "ticks = np.arange(-3, 4, 1)  # Tick positions\n",
        "\n",
        "# Draw ticks for t-axis\n",
        "for ti in ticks:\n",
        "    ax.plot([ti, ti], [-.01, .01], color=\"black\", lw=1)  # Small tick marks\n",
        "    ax.text(ti, -.05, f\"{ti}\", fontsize=10, ha=\"center\")  # Labels below ticks\n",
        "\n",
        "# Draw ticks for p-axis\n",
        "for ti in ticks:\n",
        "    p = scipy.stats.t.cdf(-ti, antall_frihetsgrader)\n",
        "    ax.plot([ti, ti], [-.11, -.09], color=\"black\", lw=1)  # Small tick marks\n",
        "    ax.text(ti, -.15, f\"{p:.3f}\", fontsize=10, ha=\"center\")  # Labels below ticks\n",
        "\n",
        "# Set ticks for μ-axis\n",
        "mu_verdier = np.arange(0.9, 1.5, .1)\n",
        "muticks = [t_av_mu(mu) for mu in mu_verdier]\n",
        "# muticks = [mu_av_t(t) for t in ticks]\n",
        "# Draw ticks for secondary x-axis (-x)\n",
        "for t, mu in zip(muticks, mu_verdier):\n",
        "    ax.plot([t, t], [-.21, -.19], color=\"black\", lw=1)  # Small tick marks\n",
        "    ax.text(t, -.25, f\"{mu:.2f}\", fontsize=10, ha=\"center\")  # Labels below ticks\n",
        "\n",
        "# Remove y-ticks\n",
        "ax.set_yticks([])\n",
        "ax.set_xticks([])\n",
        "plt.legend()\n",
        "plt.show()\n"
      ]
    },
    {
      "cell_type": "markdown",
      "id": "76a65681-1d9d-4758-bd8c-a97a9f1abc61",
      "metadata": {
        "id": "76a65681-1d9d-4758-bd8c-a97a9f1abc61"
      },
      "source": [
        "**Antatt gjennomsnittsverdi** $\\mu_0 = 1 \\ C^{\\circ}$\n",
        "\n",
        "**Nullhypotese ($H_0)$:** $\\mu = \\mu_0$.\n",
        "\n",
        "**Alternativ hypotese ($H_a$):** $\\mu > \\mu_0$."
      ]
    },
    {
      "cell_type": "markdown",
      "id": "acf94ccc-a39d-4f7a-b219-329c9de8190f",
      "metadata": {
        "id": "acf94ccc-a39d-4f7a-b219-329c9de8190f"
      },
      "source": [
        "Nullhypotesen $H_0$ forkastes når sannsynligheten for alternativ hypotese $H_a$ er minst $95 \\%$. Det er det samme som at sannsynligheten for $H_0$ er høyst $5 \\%$.\n",
        "\n",
        "I gitt fall sier vi at nullhypotesen forkastes med $5 \\%$ signifikansnivå."
      ]
    },
    {
      "cell_type": "markdown",
      "id": "6a8541db-0713-4324-a0da-9ee6cfa862e3",
      "metadata": {
        "id": "6a8541db-0713-4324-a0da-9ee6cfa862e3"
      },
      "source": [
        "Som for normalfordelingen kan scipy hjelpe oss med å finne dette arealet:"
      ]
    },
    {
      "cell_type": "code",
      "execution_count": null,
      "id": "915a251d-4ead-4213-88dc-4407a11ee329",
      "metadata": {
        "id": "915a251d-4ead-4213-88dc-4407a11ee329"
      },
      "outputs": [],
      "source": [
        "# p-verdi\n",
        "1 - scipy.stats.t.cdf(t_verdi, df=antall_frihetsgrader)"
      ]
    },
    {
      "cell_type": "code",
      "execution_count": null,
      "id": "870dc2f2-f367-47c6-af19-1c25bee2caec",
      "metadata": {
        "id": "870dc2f2-f367-47c6-af19-1c25bee2caec"
      },
      "outputs": [],
      "source": [
        "# Siden t-funksjonen er symmetrisk fås samme verdi ved å integrere frem til -t_verdi\n",
        "p_verdi = scipy.stats.t.cdf(-t_verdi, antall_frihetsgrader)"
      ]
    },
    {
      "cell_type": "code",
      "execution_count": null,
      "id": "f14fbb9e-32bf-43dc-bb25-7d2e3ac4c0ad",
      "metadata": {
        "id": "f14fbb9e-32bf-43dc-bb25-7d2e3ac4c0ad"
      },
      "outputs": [],
      "source": [
        "#vi får p-verdien\n",
        "\n",
        "float(100 * p_verdi)"
      ]
    },
    {
      "cell_type": "markdown",
      "id": "4ae2dbb4-c54a-4ddb-ae31-87647ad702e3",
      "metadata": {
        "id": "4ae2dbb4-c54a-4ddb-ae31-87647ad702e3"
      },
      "source": [
        "Vi kan altså forkaste nullhypotesen som sier at temperaturen i Bergen ikke er steget med mere enn en grad celsius med et signifikansnivå på 5%."
      ]
    },
    {
      "cell_type": "markdown",
      "id": "7fe729e1-dfd9-485d-ae31-4f509cc9a6c7",
      "metadata": {
        "id": "7fe729e1-dfd9-485d-ae31-4f509cc9a6c7"
      },
      "source": [
        "**Konklusjon:**\n",
        "\n",
        "Temperaturen i Bergen er steget med mere enn en grad per 40 år."
      ]
    },
    {
      "cell_type": "markdown",
      "id": "7d7bca42-5ef0-4131-a708-13ffc7b41ab9",
      "metadata": {
        "id": "7d7bca42-5ef0-4131-a708-13ffc7b41ab9"
      },
      "source": [
        "I en kommende forelesning ser vi om vi kan komme til samme konklusjon ved å gjøre en t-test på stignigstallet i regresjonslinjen vi fant for disse temperaturdata."
      ]
    },
    {
      "cell_type": "markdown",
      "id": "a51cca9d-3715-4f74-a98e-e08a00f0a0c7",
      "metadata": {
        "id": "a51cca9d-3715-4f74-a98e-e08a00f0a0c7"
      },
      "source": [
        "## Oppgave\n",
        "\n",
        "Avprøv på liknende måte hypotesen at temperaturene i *Oslo* er steget med en grad celcius i løpet av de siste 40 årene.\n",
        "\n",
        "Målestasjon Blindern Oslo har id `01492`.\n",
        "\n",
        "Et første problem du støter på er at på Blindern begynte målingen av gjennomsnittstemperaturer senere enn den gjorde på Florida. Jeg foreslår å\n",
        "bruke gjennomsnittet av min og maks daglig temperatur i stedet for gjennomsnittstemperatur.\n",
        "\n",
        "Her er et foslag til en start.\n",
        "\n",
        "```python\n",
        "# Målestasjon Blindern Oslo\n",
        "data = meteostat.Daily('01492', start, end)\n",
        "data = data.fetch()\n",
        "data = data.resample('D').mean()\n",
        "data = data.ffill()\n",
        "data['tavg'] = 0.5*(data['tmin'] + data['tmax'])\n",
        "```"
      ]
    },
    {
      "cell_type": "markdown",
      "id": "9bf94ad8-8198-48c0-b23d-1feceed2f0f5",
      "metadata": {
        "id": "9bf94ad8-8198-48c0-b23d-1feceed2f0f5"
      },
      "source": [
        "[To utvalgs hypotesetest](to_utvalgs_t_test.ipynb)"
      ]
    }
  ],
  "metadata": {
    "kernelspec": {
      "display_name": "Python 3 (ipykernel)",
      "language": "python",
      "name": "python3"
    },
    "language_info": {
      "codemirror_mode": {
        "name": "ipython",
        "version": 3
      },
      "file_extension": ".py",
      "mimetype": "text/x-python",
      "name": "python",
      "nbconvert_exporter": "python",
      "pygments_lexer": "ipython3",
      "version": "3.12.8"
    },
    "colab": {
      "provenance": []
    }
  },
  "nbformat": 4,
  "nbformat_minor": 5
}