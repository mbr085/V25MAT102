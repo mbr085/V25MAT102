{
 "cells": [
  {
   "cell_type": "code",
   "execution_count": 1,
   "id": "727959ea-bea9-4ca9-a8fc-60e29b940f51",
   "metadata": {
    "colab": {
     "base_uri": "https://localhost:8080/"
    },
    "id": "5d37ccac-527a-4787-be0b-faae1b01b78f",
    "outputId": "6f328e4a-0af3-4620-c79b-f07323b83b60"
   },
   "outputs": [],
   "source": [
    "# Her importeres Point og Daily funksjonalitetene fra meteostat modulen.\n",
    "# Hvis meteostat ikke allerede er installert blir den installert.\n",
    "try:\n",
    "  import meteostat\n",
    "except:\n",
    "  !pip install meteostat\n",
    "  import meteostat"
   ]
  },
  {
   "cell_type": "code",
   "execution_count": 2,
   "id": "038a8ffb-3f68-4887-9a63-4a7b54c7610c",
   "metadata": {
    "id": "cc4c87ac-ad0e-4428-8244-e1196cd77f92"
   },
   "outputs": [],
   "source": [
    "# Her importeres modulen pandas som pd sammen med numpy og matplotlib\n",
    "\n",
    "import pandas as pd\n",
    "import numpy as np\n",
    "import matplotlib.pyplot as plt\n",
    "import  scipy.stats"
   ]
  },
  {
   "cell_type": "code",
   "execution_count": 3,
   "id": "9405a4f3-e852-4c8f-9778-49b0a8b87668",
   "metadata": {
    "id": "60fec2fa-0b5b-4e39-8b49-612769f0e4b9"
   },
   "outputs": [],
   "source": [
    "# Her importeres funksjonaliteten datetime fra modulen datetime.\n",
    "# Datetime gir oss en bekvem måte å jobbe med tidsdate på.\n",
    "\n",
    "from datetime import datetime, timedelta"
   ]
  },
  {
   "cell_type": "code",
   "execution_count": 4,
   "id": "2cabe520-99c9-4136-abef-711f63b49d9c",
   "metadata": {
    "id": "8469981b-65e3-4544-b7be-9d702a8d78cd"
   },
   "outputs": [],
   "source": [
    "# Sett tidsperioden vi vil hente data fra\n",
    "# Data for fremtiden kan ikke lastes inn, så når vi ber om å laste inn data får vi data helt opp til i dag.\n",
    "\n",
    "start = datetime(1950, 1, 1)\n",
    "end = datetime.today()"
   ]
  },
  {
   "cell_type": "code",
   "execution_count": 5,
   "id": "a65c0918-585a-4e46-b709-8779ed2298f4",
   "metadata": {},
   "outputs": [],
   "source": [
    "# Målestasjon Florida Bergen\n",
    "bergen = meteostat.Daily('01317', start, end)\n",
    "bergen = bergen.fetch()"
   ]
  },
  {
   "cell_type": "code",
   "execution_count": 6,
   "id": "3fbc6559-10fd-4530-a375-33fe01e0ecd6",
   "metadata": {},
   "outputs": [],
   "source": [
    "# Målestasjon Blindern Oslo\n",
    "oslo = meteostat.Daily('01492', start, end)\n",
    "oslo = oslo.fetch()"
   ]
  },
  {
   "cell_type": "code",
   "execution_count": 7,
   "id": "6949f4a3-6859-433e-838d-b3667dfd07c8",
   "metadata": {},
   "outputs": [],
   "source": [
    "# setter endedato til å være siste dag vi har data for\n",
    "end = bergen.index[-1]"
   ]
  },
  {
   "cell_type": "code",
   "execution_count": 8,
   "id": "6b5b3795-e11c-4be8-bb1b-0d1187369340",
   "metadata": {},
   "outputs": [],
   "source": [
    "df = pd.DataFrame(index=bergen.index)"
   ]
  },
  {
   "cell_type": "code",
   "execution_count": 61,
   "id": "f1e71406-6620-467d-9873-e3197a3192fb",
   "metadata": {},
   "outputs": [],
   "source": [
    "forskjell = 1.65"
   ]
  },
  {
   "cell_type": "code",
   "execution_count": 62,
   "id": "6665aefd-67f2-4255-96ca-8675e255e133",
   "metadata": {},
   "outputs": [],
   "source": [
    "bergen['bergen'] = 0.5*(bergen['tmin'] + bergen['tmax'])\n",
    "oslo['oslo'] = 0.5*(oslo['tmin'] + oslo['tmax'])\n",
    "\n",
    "df['differanse'] = bergen['bergen'] - oslo['oslo'] - forskjell"
   ]
  },
  {
   "cell_type": "code",
   "execution_count": null,
   "id": "776c67fb-0ce0-4624-b7cb-2d4a3222041e",
   "metadata": {},
   "outputs": [],
   "source": []
  },
  {
   "cell_type": "code",
   "execution_count": 63,
   "id": "97751f93-e64d-4790-8808-cb6845ea9f31",
   "metadata": {},
   "outputs": [],
   "source": [
    "# gjennomsnitt og standardavvik\n",
    "Edifferanse = np.mean(df['differanse'])\n",
    "sigmadifferanse = np.std(df['differanse'])"
   ]
  },
  {
   "cell_type": "code",
   "execution_count": 64,
   "id": "12a2ce3f-5d78-44fd-9273-0f0cee5d6bf2",
   "metadata": {},
   "outputs": [],
   "source": [
    "t_verdi = Edifferanse/(sigmadifferanse / np.sqrt(len(df)))"
   ]
  },
  {
   "cell_type": "code",
   "execution_count": 65,
   "id": "0cbf54d9-a50c-43cf-84a2-64f77704aa09",
   "metadata": {},
   "outputs": [
    {
     "data": {
      "text/plain": [
       "np.float64(0.46290339768515837)"
      ]
     },
     "execution_count": 65,
     "metadata": {},
     "output_type": "execute_result"
    }
   ],
   "source": [
    "t_verdi"
   ]
  },
  {
   "cell_type": "code",
   "execution_count": 66,
   "id": "c9694983-1298-49f4-b1b9-cc2b2a5ff4a0",
   "metadata": {},
   "outputs": [],
   "source": [
    "antall_frihetsgrader = len(df) - 1"
   ]
  },
  {
   "cell_type": "code",
   "execution_count": 70,
   "id": "213ed6fd-3edf-4d1d-a185-0495307ef296",
   "metadata": {
    "id": "213ed6fd-3edf-4d1d-a185-0495307ef296",
    "outputId": "4ac0ea55-4af7-44e7-c22c-c87a860ecd4e"
   },
   "outputs": [
    {
     "data": {
      "image/png": "[encoded data removed]",
      "text/plain": [
       "<Figure size 640x480 with 1 Axes>"
      ]
     },
     "metadata": {},
     "output_type": "display_data"
    }
   ],
   "source": [
    "# @title plot\n",
    "\n",
    "# Define the function\n",
    "x = np.linspace(-4, 4, 1000)\n",
    "yy = scipy.stats.t.pdf(x, antall_frihetsgrader)  # t-fordeling med 10 frihetsgrader\n",
    "t_crit = t_verdi\n",
    "\n",
    "def t_av_mu(m):\n",
    "    return (forskjell + Edifferanse - m)/(sigmadifferanse / np.sqrt(len(df)))\n",
    "\n",
    "def mu_av_t(t):\n",
    "    return forskjell + Edifferanse - t*(sigmadifferanse / np.sqrt(len(df)))\n",
    "\n",
    "ax = plt.gca()\n",
    "\n",
    "\n",
    "plt.plot(x, yy, color='black')\n",
    "plt.fill_between(x, yy, where=(x > t_crit), color='red', alpha=0.5, label=r'P(H0)=P(μ1≤μ2)')\n",
    "plt.fill_between(x, yy, where=(x < t_crit), color='blue', alpha=0.5, label=r'P(H1)=P(μ1>μ2)')\n",
    "# Remove default spines\n",
    "ax.spines[\"top\"].set_visible(False)\n",
    "ax.spines[\"right\"].set_visible(False)\n",
    "ax.spines[\"left\"].set_visible(False)\n",
    "ax.spines[\"bottom\"].set_visible(False)\n",
    "\n",
    "# Set limits\n",
    "ax.set_xlim(-5, 5)\n",
    "ax.set_ylim(-.2, .5)  # Ensure axes are visible\n",
    "\n",
    "# Draw the primary x-axis (for x) with an arrow\n",
    "ax.plot([-4, 4], [0, 0], color=\"black\", lw=1.5)\n",
    "ax.annotate(\"\", xy=(4.1, 0), xytext=(4., 0),\n",
    "            arrowprops=dict(arrowstyle=\"->\", lw=1.5), annotation_clip=False)\n",
    "ax.text(4.4, 0, r\"t\", verticalalignment=\"center\")\n",
    "\n",
    "# Draw the secondary x-axis (for -x) with an arrow\n",
    "ax.plot([-4.1, 4], [-.1, -.1], color=\"black\", lw=1.5)\n",
    "ax.annotate(\"\", xy=(4.1, -.1), xytext=(4., -.1),\n",
    "            arrowprops=dict(arrowstyle=\"->\", lw=1.5), annotation_clip=False)\n",
    "ax.text(4.4, -.1, r\"$\\mu$\", verticalalignment=\"center\")\n",
    "\n",
    "# Draw the y-axis with an arrow\n",
    "ax.plot([0, 0], [0, .45], color=\"black\", lw=1.5)\n",
    "ax.annotate(\"\", xy=(0, .46), xytext=(0, .45),\n",
    "            arrowprops=dict(arrowstyle=\"->\", lw=1.5), annotation_clip=False)\n",
    "#ax.text(-0.3, .45, r\"$y$\", verticalalignment=\"center\")\n",
    "\n",
    "# Set x-ticks for t-axis\n",
    "ticks = np.arange(-3, 4, 1)  # Tick positions\n",
    "\n",
    "# Draw ticks for t-axis\n",
    "for t in ticks:\n",
    "    ax.plot([t, t], [-.01, .01], color=\"black\", lw=1)  # Small tick marks\n",
    "    ax.text(t, -.05, f\"{t}\", fontsize=10, ha=\"center\")  # Labels below ticks\n",
    "\n",
    "# Set ticks for $\\mu$-axis\n",
    "mu_min = mu_av_t(-3)\n",
    "mu_maks = mu_av_t(3)\n",
    "mu_verdier = np.linspace(mu_min, mu_maks, endpoint=True, num=8)\n",
    "muticks = [t_av_mu(mu) for mu in mu_verdier]\n",
    "# muticks = [mu_av_t(t) for t in ticks]\n",
    "# Draw ticks for secondary x-axis (-x)\n",
    "for t, mu in zip(muticks, mu_verdier):\n",
    "    ax.plot([t, t], [-.11, -.09], color=\"black\", lw=1)  # Small tick marks\n",
    "    ax.text(t, -.15, f\"{int(-100*mu)/100:.2f}\", fontsize=10, ha=\"center\")  # Labels below ticks\n",
    "\n",
    "# Remove y-ticks\n",
    "ax.set_yticks([])\n",
    "ax.set_xticks([])\n",
    "plt.legend()\n",
    "plt.show()\n"
   ]
  },
  {
   "cell_type": "code",
   "execution_count": 68,
   "id": "084d8c71-35bb-451b-98e4-749b7e29ce06",
   "metadata": {},
   "outputs": [],
   "source": [
    "# Siden t-funksjonen er symmetrisk fås samme verdi ved å integrere frem til -t_verdi\n",
    "p_verdi = scipy.stats.t.cdf(-t_verdi, antall_frihetsgrader)"
   ]
  },
  {
   "cell_type": "code",
   "execution_count": 69,
   "id": "77d0e91f-951d-495a-a464-9afc3514a6a4",
   "metadata": {},
   "outputs": [
    {
     "data": {
      "text/plain": [
       "np.float64(0.32171882794019874)"
      ]
     },
     "execution_count": 69,
     "metadata": {},
     "output_type": "execute_result"
    }
   ],
   "source": [
    "p_verdi"
   ]
  },
  {
   "cell_type": "code",
   "execution_count": null,
   "id": "dcdb2e2d-be32-4099-ba9e-8e61fcdaa183",
   "metadata": {},
   "outputs": [],
   "source": []
  }
 ],
 "metadata": {
  "kernelspec": {
   "display_name": "Python 3 (ipykernel)",
   "language": "python",
   "name": "python3"
  },
  "language_info": {
   "codemirror_mode": {
    "name": "ipython",
    "version": 3
   },
   "file_extension": ".py",
   "mimetype": "text/x-python",
   "name": "python",
   "nbconvert_exporter": "python",
   "pygments_lexer": "ipython3",
   "version": "3.12.8"
  }
 },
 "nbformat": 4,
 "nbformat_minor": 5
}
