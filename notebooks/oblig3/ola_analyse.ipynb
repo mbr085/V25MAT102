{
 "cells": [
  {
   "cell_type": "markdown",
   "id": "42fb3acb-0ca0-454a-91c5-77890fc50790",
   "metadata": {},
   "source": [
    "# Analysen til Ola"
   ]
  },
  {
   "cell_type": "markdown",
   "id": "8551294f-3487-482f-b30f-50fadb47f7cf",
   "metadata": {
    "id": "c0553104-3688-4071-a9e1-b7ffe674492c"
   },
   "source": [
    "La $n$ være antallet av observasjoner hver av utvalgene $y$ av årlige gejnnomsnittstemperaturer fra Bergen \n",
    "og utvalget $z$ av årlige gejnnomsnittstemperaturer fra Oslo. Her har vi alså like mange observasjoner i de to datasettene.\n",
    "\n",
    "La $EB$ være gjennomsnittet til tallene $y_i$ og la $EO$ være gjennomsnittet til tallene $1 + z_i$. \n",
    "\n",
    "Vi bruker formel for en $t$-verdi som du for eksempel [finner på Wikipedia sin side om t-test i avsnittet **Equal sample sizes and variance**.](https://en.wikipedia.org/wiki/Student's_t-test)\n",
    "\n",
    "For å skrive formelen litt fint vil jeg innføre det kombinerte standardavviket\n",
    "$$\\sigma(y,z) = \\sqrt{\\frac{\\sigma(y)^2 + \\sigma(z)^2}{2}}.$$\n",
    "\n",
    "Husk gjerne at standardavviket $\\sigma(y)$ er gitt ved formelen $\\sigma(y)^2 = E(y^2) - E(y)^2$.\n",
    "\n",
    "$t$-verdien for vår to utvalgs test er:\n",
    "\n",
    "$$t\\_{\\text{verdi}} = \\frac{E(y) - E(z)}{\\sigma(y, z) \\sqrt{2/n}}.$$"
   ]
  },
  {
   "cell_type": "markdown",
   "id": "1213757f-faac-40f5-9dc5-9d898d696231",
   "metadata": {},
   "source": [
    "Antallet av frihetsgrader er tilnærmet av formelen $2n - 2$."
   ]
  },
  {
   "cell_type": "markdown",
   "id": "00ba27d6-9999-41ee-a494-d86b32e04095",
   "metadata": {},
   "source": [
    "Hypotesen Ola gjør er\n",
    "\n",
    "**Nullhypotese** $H_0: \\mu_o = \\mu_B$\n",
    "\n",
    "**Alternativ hypotese**: $H_a: \\mu_O \\ne \\mu_O$."
   ]
  },
  {
   "cell_type": "code",
   "execution_count": 1,
   "id": "8b07b0d7-bcec-4862-91ac-ccefed30c977",
   "metadata": {
    "colab": {
     "base_uri": "https://localhost:8080/"
    },
    "id": "5d37ccac-527a-4787-be0b-faae1b01b78f",
    "outputId": "6f328e4a-0af3-4620-c79b-f07323b83b60"
   },
   "outputs": [],
   "source": [
    "# Her importeres Point og Daily funksjonalitetene fra meteostat modulen.\n",
    "# Hvis meteostat ikke allerede er installert blir den installert.\n",
    "try:\n",
    "  import meteostat\n",
    "except:\n",
    "  !pip install meteostat\n",
    "  import meteostat"
   ]
  },
  {
   "cell_type": "code",
   "execution_count": 2,
   "id": "00758835-d4c8-4dfc-8ed0-65b533a5ca37",
   "metadata": {
    "id": "cc4c87ac-ad0e-4428-8244-e1196cd77f92"
   },
   "outputs": [],
   "source": [
    "# Her importeres modulen pandas som pd sammen med numpy og matplotlib\n",
    "\n",
    "import pandas as pd\n",
    "import numpy as np\n",
    "import matplotlib.pyplot as plt\n",
    "import  scipy.stats"
   ]
  },
  {
   "cell_type": "code",
   "execution_count": 3,
   "id": "c2db36ed-5eb9-4c31-b8fd-76c19b0fa14b",
   "metadata": {
    "id": "60fec2fa-0b5b-4e39-8b49-612769f0e4b9"
   },
   "outputs": [],
   "source": [
    "# Her importeres funksjonaliteten datetime fra modulen datetime.\n",
    "# Datetime gir oss en bekvem måte å jobbe med tidsdate på.\n",
    "\n",
    "from datetime import datetime, timedelta"
   ]
  },
  {
   "cell_type": "code",
   "execution_count": 5,
   "id": "f79b4713-d2cf-4bdb-8af4-48a5f31a1610",
   "metadata": {
    "id": "8469981b-65e3-4544-b7be-9d702a8d78cd"
   },
   "outputs": [],
   "source": [
    "# Sett tidsperioden vi vil hente data fra\n",
    "# Data for fremtiden kan ikke lastes inn, så når vi ber om å laste inn data får vi data helt opp til i dag.\n",
    "\n",
    "start = datetime(1970, 1, 1) # Sett inn rett dato her\n",
    "end = datetime(1999, 12, 31) # Sett inn rett dato her"
   ]
  },
  {
   "cell_type": "code",
   "execution_count": 6,
   "id": "15e99912-5415-4dce-96ec-b77c75b381de",
   "metadata": {},
   "outputs": [
    {
     "name": "stderr",
     "output_type": "stream",
     "text": [
      "FutureWarning: Support for nested sequences for 'parse_dates' in pd.read_csv is deprecated. Combine the desired columns with pd.to_datetime after parsing instead.\n"
     ]
    }
   ],
   "source": [
    "# Målestasjon Florida Bergen\n",
    "bergen = meteostat.Daily('01317', start, end)\n",
    "bergen = bergen.fetch()"
   ]
  },
  {
   "cell_type": "code",
   "execution_count": 7,
   "id": "a6fe4fd9-d985-4983-a813-5ea98da8ee69",
   "metadata": {},
   "outputs": [],
   "source": [
    "# M[lestasjon Blindern Oslo\n",
    "oslo = meteostat.Daily('01492', start, end)\n",
    "oslo = oslo.fetch()"
   ]
  },
  {
   "cell_type": "code",
   "execution_count": 9,
   "id": "df323cd1-a300-4a65-845d-de241b00a18d",
   "metadata": {},
   "outputs": [],
   "source": [
    "## Vi bruker gjennomsnitt av daglig min og maks temperatur i stedet for daglig gjennomsnitt\n",
    "\n",
    "bergen['bergen'] = 0.5*(bergen['tmin'] + bergen['tmax'])\n",
    "oslo['oslo'] = 0.5*(oslo['tmin'] + oslo['tmax'])"
   ]
  },
  {
   "cell_type": "code",
   "execution_count": 10,
   "id": "94b8504e-08fd-46dc-b387-8b189b42e6fd",
   "metadata": {},
   "outputs": [],
   "source": [
    "ola = pd.DataFrame(bergen['bergen'].groupby(bergen.index.year).mean())"
   ]
  },
  {
   "cell_type": "code",
   "execution_count": 11,
   "id": "9677afb8-208d-4f80-a093-d9685d334ea3",
   "metadata": {},
   "outputs": [],
   "source": [
    "ola['oslo'] = oslo['oslo'].groupby(oslo.index.year).mean()"
   ]
  },
  {
   "cell_type": "code",
   "execution_count": 32,
   "id": "cd36940a-5a26-453c-be04-31c417ebfaaf",
   "metadata": {},
   "outputs": [],
   "source": [
    "n = len(ola)\n",
    "forskjell = 1.5\n",
    "EO = np.mean(ola['oslo']) + forskjell\n",
    "EB = np.mean(ola['bergen'])\n",
    "sigmayz = np.sqrt((np.mean((ola['oslo'] + forskjell)**2) - EO**2 + np.mean(ola['bergen']**2) - EB**2)/2)\n",
    "t_verdi = (EB - EO)/(sigmayz*np.sqrt(2/n))"
   ]
  },
  {
   "cell_type": "code",
   "execution_count": 33,
   "id": "6ce44afc-9656-4ff9-af69-9b6eb132c426",
   "metadata": {},
   "outputs": [],
   "source": [
    "antall_frihetsgrader = len(ola) - 1"
   ]
  },
  {
   "cell_type": "code",
   "execution_count": 34,
   "id": "c77286f9-857c-478a-8813-77c21c418c6f",
   "metadata": {
    "id": "213ed6fd-3edf-4d1d-a185-0495307ef296",
    "outputId": "4ac0ea55-4af7-44e7-c22c-c87a860ecd4e"
   },
   "outputs": [
    {
     "data": {
      "image/png": "[encoded data removed]",
      "text/plain": [
       "<Figure size 640x480 with 1 Axes>"
      ]
     },
     "metadata": {},
     "output_type": "display_data"
    }
   ],
   "source": [
    "# @title plot\n",
    "import matplotlib.pyplot as plt\n",
    "import numpy as np\n",
    "\n",
    "# Define the function\n",
    "x = np.linspace(-4, 4, 1000)\n",
    "yy = scipy.stats.t.pdf(x, antall_frihetsgrader)  # t-fordeling med 10 frihetsgrader\n",
    "t_crit = t_verdi\n",
    "\n",
    "def t_av_mu(m):\n",
    "    return (EB -EO - m)/(sigmayz*np.sqrt(2/n))\n",
    "\n",
    "def mu_av_t(t):\n",
    "    return EB - EO - t*(sigmayz*np.sqrt(2/n))\n",
    "\n",
    "ax = plt.gca()\n",
    "\n",
    "\n",
    "plt.plot(x, yy, color='black')\n",
    "plt.fill_between(x, yy, where=(x > t_crit), color='red', alpha=0.5, label=r'P(H0)=P(μ1≤μ2)')\n",
    "plt.fill_between(x, yy, where=(x < t_crit), color='blue', alpha=0.5, label=r'P(H1)=P(μ1>μ2)')\n",
    "# Remove default spines\n",
    "ax.spines[\"top\"].set_visible(False)\n",
    "ax.spines[\"right\"].set_visible(False)\n",
    "ax.spines[\"left\"].set_visible(False)\n",
    "ax.spines[\"bottom\"].set_visible(False)\n",
    "\n",
    "# Set limits\n",
    "ax.set_xlim(-5, 5)\n",
    "ax.set_ylim(-.2, .5)  # Ensure axes are visible\n",
    "\n",
    "# Draw the primary x-axis (for x) with an arrow\n",
    "ax.plot([-4, 4], [0, 0], color=\"black\", lw=1.5)\n",
    "ax.annotate(\"\", xy=(4.1, 0), xytext=(4., 0),\n",
    "            arrowprops=dict(arrowstyle=\"->\", lw=1.5), annotation_clip=False)\n",
    "ax.text(4.4, 0, r\"t\", verticalalignment=\"center\")\n",
    "\n",
    "# Draw the secondary x-axis (for -x) with an arrow\n",
    "ax.plot([-4.1, 4], [-.1, -.1], color=\"black\", lw=1.5)\n",
    "ax.annotate(\"\", xy=(4.1, -.1), xytext=(4., -.1),\n",
    "            arrowprops=dict(arrowstyle=\"->\", lw=1.5), annotation_clip=False)\n",
    "ax.text(4.4, -.1, r\"$\\mu_2 - \\mu_1$\", verticalalignment=\"center\")\n",
    "\n",
    "# Draw the y-axis with an arrow\n",
    "ax.plot([0, 0], [0, .45], color=\"black\", lw=1.5)\n",
    "ax.annotate(\"\", xy=(0, .46), xytext=(0, .45),\n",
    "            arrowprops=dict(arrowstyle=\"->\", lw=1.5), annotation_clip=False)\n",
    "#ax.text(-0.3, .45, r\"$y$\", verticalalignment=\"center\")\n",
    "\n",
    "# Set x-ticks for t-axis\n",
    "ticks = np.arange(-3, 4, 1)  # Tick positions\n",
    "\n",
    "# Draw ticks for t-axis\n",
    "for t in ticks:\n",
    "    ax.plot([t, t], [-.01, .01], color=\"black\", lw=1)  # Small tick marks\n",
    "    ax.text(t, -.05, f\"{t}\", fontsize=10, ha=\"center\")  # Labels below ticks\n",
    "\n",
    "# Set ticks for $\\mu$-axis\n",
    "mu_min = mu_av_t(-3)\n",
    "mu_maks = mu_av_t(3)\n",
    "mu_verdier = np.linspace(mu_min, mu_maks, endpoint=True, num=8)\n",
    "muticks = [t_av_mu(mu) for mu in mu_verdier]\n",
    "# muticks = [mu_av_t(t) for t in ticks]\n",
    "# Draw ticks for secondary x-axis (-x)\n",
    "for t, mu in zip(muticks, mu_verdier):\n",
    "    ax.plot([t, t], [-.11, -.09], color=\"black\", lw=1)  # Small tick marks\n",
    "    ax.text(t, -.15, f\"{int(-100*mu)/100:.2f}\", fontsize=10, ha=\"center\")  # Labels below ticks\n",
    "\n",
    "# Remove y-ticks\n",
    "ax.set_yticks([])\n",
    "ax.set_xticks([])\n",
    "plt.legend()\n",
    "plt.show()\n"
   ]
  },
  {
   "cell_type": "code",
   "execution_count": 35,
   "id": "f731be45-badb-4af8-b17d-1e5857f907b3",
   "metadata": {},
   "outputs": [],
   "source": [
    "# Siden t-funksjonen er symmetrisk fås samme verdi ved å integrere frem til -t_verdi\n",
    "p_verdi = scipy.stats.t.cdf(-t_verdi, antall_frihetsgrader)"
   ]
  },
  {
   "cell_type": "code",
   "execution_count": null,
   "id": "bca51d4f-4f77-40be-acf0-1e02fe02c134",
   "metadata": {},
   "outputs": [],
   "source": []
  }
 ],
 "metadata": {
  "kernelspec": {
   "display_name": "Python 3 (ipykernel)",
   "language": "python",
   "name": "python3"
  },
  "language_info": {
   "codemirror_mode": {
    "name": "ipython",
    "version": 3
   },
   "file_extension": ".py",
   "mimetype": "text/x-python",
   "name": "python",
   "nbconvert_exporter": "python",
   "pygments_lexer": "ipython3",
   "version": "3.12.8"
  }
 },
 "nbformat": 4,
 "nbformat_minor": 5
}
