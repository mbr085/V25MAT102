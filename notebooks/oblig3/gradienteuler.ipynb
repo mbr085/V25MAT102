{
 "cells": [
  {
   "cell_type": "code",
   "execution_count": 1,
   "id": "f4d79779-eddd-44da-938e-dde83530e26e",
   "metadata": {},
   "outputs": [],
   "source": [
    "import numpy as np"
   ]
  },
  {
   "cell_type": "markdown",
   "id": "0f1bc743-6d93-409a-b5aa-ecb324a30d73",
   "metadata": {
    "id": "67a390c1-64e4-4334-8797-547f67c1cbb3"
   },
   "source": [
    "## Eulers metode"
   ]
  },
  {
   "cell_type": "markdown",
   "id": "59c23832-17b6-4fb8-b24e-7d4b6a87c5e2",
   "metadata": {
    "id": "0464499a-2491-4d0c-beb5-b0a2b776768f",
    "jp-MarkdownHeadingCollapsed": true
   },
   "source": [
    "Hvis $t_0$ er gitt og vi numerisk vil løse differensialligningen\n",
    "$$\n",
    "\\begin{align}\n",
    "  x'(t) &= f(t,x(t), y(t)), \\newline\n",
    "  y'(t) &= g(t,x(t), y(y))\n",
    "\\end{align}\n",
    "$$\n",
    "med\n",
    "$$x(t_0) = x_0 \\quad \\text{og} \\quad y(t_0) = y_0,$$\n",
    "da kan vi velge en skrittlengde $\\Delta t$, og approksimere $x(t_0 + \\Delta t)$ og $y(t_0 + \\Delta t)$ med\n",
    "$$\n",
    "\\begin{align}\n",
    "  x(t_0 + \\Delta t) &\\approx x_0 + f(t_0, x_0, y_0) \\cdot \\Delta t \\newline\n",
    "  y(t_0 + \\Delta t) &\\approx y_0 + g(t_0, x_0, y_0) \\cdot \\Delta t.\n",
    "\\end{align}\n",
    "$$\n",
    "Vi setter nå\n",
    "$$\n",
    "\\begin{align}\n",
    "  x_1 &= x_0 + f(t_0, x_0, y_0) \\cdot \\Delta t \\newline\n",
    "  y_1 &= y_0 + g(t_0, x_0, y_0) \\cdot \\Delta t,\n",
    "\\end{align}\n",
    "$$\n",
    "og $t_1 = t_0 + \\Delta t$.\n",
    "Vi fortsetter på denne måten. Etter å ha funnet $x_0, x_1, \\dots, x_n$ og\n",
    "$y_0, y_1, \\dots, y_n$ setter vi\n",
    "$$\n",
    "\\begin{align}\n",
    "  x_{n+1} &= x_n + f(t_n, x_n, y_n) \\cdot \\Delta t \\newline\n",
    "  y_{n+1} &= y_n + g(t_n, x_n, y_n) \\cdot \\Delta t,\n",
    "\\end{align}\n",
    "$$\n",
    "der $t_n = t_0 + n \\Delta t$."
   ]
  },
  {
   "cell_type": "markdown",
   "id": "6560cd4d-e856-4322-81f0-b43c9e57b84b",
   "metadata": {
    "id": "cf0d9827-f0c0-4a37-b0e6-d293b42b77bf"
   },
   "source": [
    "## Funksjon som anvender Eulers metode på et system av differensialligninger"
   ]
  },
  {
   "cell_type": "code",
   "execution_count": 2,
   "id": "7a4adba8-6421-4712-9b67-aef313e75d88",
   "metadata": {
    "id": "ab29ea3e-6dc4-496a-b25b-22f6df711934"
   },
   "outputs": [],
   "source": [
    "import numpy as np\n",
    "\n",
    "def euler_method(f, g, t0, tn, x0, y0, n):\n",
    "  \"\"\"\n",
    "  Anvender Eulers metode for å løse differensialligningen x' = f(t, x, y) og y' = g(t, x, y).\n",
    "\n",
    "  Args:\n",
    "    f: Funksjonen som representerer x-delen av høyre side av differensialligningen.\n",
    "    g: Funksjonen som representerer y-delen av høyre side av differensialligningen.\n",
    "    t0: Startverdien for t.\n",
    "    tn: Sluttverdien for t.\n",
    "    x0: Startverdien for x.\n",
    "    y0: Startverdien for y.\n",
    "    n: Antall steg.\n",
    "\n",
    "  Returns:\n",
    "    En NumPy array som inneholder de approksimerte verdiene for x i hvert steg,\n",
    "    En NumPy array som inneholder de approksimerte verdiene for y i hvert steg,\n",
    "  \"\"\"\n",
    "\n",
    "  # Lager en array med t-verdier fra t0 til tn med n+1 punkter\n",
    "  t_values = np.linspace(t0, tn, n + 1)\n",
    "  # Initialiserer listene for x- og y-verdiene med startverdiene\n",
    "  x_values = [x0]\n",
    "  y_values = [y0]\n",
    "  # Beregner steglengden\n",
    "  delta_t = t_values[1] - t_values[0]\n",
    "\n",
    "  # Gjennomfører Eulers metode for hvert steg\n",
    "  for i in range(n):\n",
    "    # Beregner neste x-verdi\n",
    "    x_next = x_values[-1] + delta_t * f(t_values[i], x_values[-1], y_values[-1])\n",
    "    # Beregner neste y-verdi\n",
    "    y_next = y_values[-1] + delta_t * g(t_values[i], x_values[-1], y_values[-1])\n",
    "    # Legger til de nye verdiene i listene\n",
    "    x_values.append(x_next)\n",
    "    y_values.append(y_next)\n",
    "\n",
    "  # Returnerer t-verdiene og de beregnede x- og y-verdiene som NumPy arrays\n",
    "  return t_values, np.array(x_values), np.array(y_values)"
   ]
  },
  {
   "cell_type": "markdown",
   "id": "a753147c-5b46-479a-96c3-5f8f8b4795c7",
   "metadata": {
    "id": "e1d879a9-42ce-4758-8052-8f8256e0992b"
   },
   "source": [
    "### Vi anvender den nye Eulers metode funksjonen på vårt eksempel"
   ]
  },
  {
   "cell_type": "code",
   "execution_count": 3,
   "id": "addd9eba-45a2-4c03-87f8-b619ad0ab9b8",
   "metadata": {},
   "outputs": [],
   "source": [
    "def F(x, y):\n",
    "    return x**2 / 2 - 2*x*y + 3*y**2 - 2*y"
   ]
  },
  {
   "cell_type": "code",
   "execution_count": 4,
   "id": "6f7bf388-57cd-4bfc-9757-d0a443837e79",
   "metadata": {
    "id": "0226654e-4001-4782-98a2-f47b0a5b58b4"
   },
   "outputs": [],
   "source": [
    "# Definterer funksjonene f og g\n",
    "\n",
    "def minus_dFdx(t, x, y):\n",
    "  return 1 # sett inn riktig verdi her\n",
    "\n",
    "def minus_dFdy(t, x, y):\n",
    "  return 1 # sett inn riktig verdi her"
   ]
  },
  {
   "cell_type": "code",
   "execution_count": 5,
   "id": "518bb707-eeed-455b-9716-0a4c448bf669",
   "metadata": {
    "id": "e78d74ec-9e7c-4ac6-9f84-0a112ae43021"
   },
   "outputs": [],
   "source": [
    "# Definerer initialbetingelser og parametere\n",
    "t0 = 0   # Starttidspunkt\n",
    "x0 = 0  # Startverdi for x\n",
    "y0 = 0   # Startverdi for y\n",
    "tn = 100   # Slutt-tidspunkt\n",
    "n = 1000  # Antall steg i beregningen\n",
    "\n",
    "# Bruker Eulers metode for å løse differensialligningen\n",
    "t_values, x_values, y_values = euler_method(minus_dFdx, minus_dFdy, t0, tn, x0, y0, n)"
   ]
  },
  {
   "cell_type": "code",
   "execution_count": null,
   "id": "705aa0c0-2932-42b0-86a2-959be66cb835",
   "metadata": {},
   "outputs": [],
   "source": []
  }
 ],
 "metadata": {
  "kernelspec": {
   "display_name": "Python 3 (ipykernel)",
   "language": "python",
   "name": "python3"
  },
  "language_info": {
   "codemirror_mode": {
    "name": "ipython",
    "version": 3
   },
   "file_extension": ".py",
   "mimetype": "text/x-python",
   "name": "python",
   "nbconvert_exporter": "python",
   "pygments_lexer": "ipython3",
   "version": "3.12.8"
  }
 },
 "nbformat": 4,
 "nbformat_minor": 5
}
