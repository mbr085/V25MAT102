{
 "cells": [
  {
   "cell_type": "markdown",
   "id": "240ca9e5-5cb2-437d-bedb-7e68406098d8",
   "metadata": {},
   "source": [
    "# Temperaturer i Bergen og Oslo"
   ]
  },
  {
   "cell_type": "markdown",
   "id": "29cdc59e-db3c-4ed0-a40d-8dd76e99b59e",
   "metadata": {},
   "source": [
    "Ola og Kari lurer på om temperaturene i Bergen er mere enn **en og en halv grad** høyere enn temperaturene i Oslo. \n",
    "\n",
    "De har lært om hypotesetest på studiet sitt og beslutter seg for å gjøre en t-test temperaturobservasjonene fra meteostat.\n",
    "\n",
    "Fra meteostat laster de ned disse gjennomsnittstemperaturene i en spesifisert periode. For eksempel fra 1973 til i dag.\n",
    "\n",
    "De setter seg begge ned og begynner å analysere observasjonene hver for seg."
   ]
  },
  {
   "cell_type": "markdown",
   "id": "314b32ea-9eac-4311-968b-de6af6cac2e7",
   "metadata": {},
   "source": [
    "## Hypotesen til Ola"
   ]
  },
  {
   "cell_type": "markdown",
   "id": "ef6aeeef-a097-4695-aa82-fb5ab08fbae7",
   "metadata": {},
   "source": [
    "Ola gjør den antagelsen at gjennomsnittstemperaturene i Bergen og Oslo er normalfordelte med omtrent samme standardavvik. \n",
    "Han antat at\n",
    "temperaturene i Bergen er trukket fra en normalfordeling med gjennomsnitt $\\mu_B$ og at\n",
    "temperaturene i Oslo er trukket fra en normalfordeling med gjennomsnitt $\\mu_O$.\n",
    "\n",
    "Han bestemmer seg for å gjøre en to utvalgs t-test."
   ]
  },
  {
   "cell_type": "markdown",
   "id": "6534a63d-8fe2-47b8-b35c-82bc372ec55a",
   "metadata": {
    "id": "c0553104-3688-4071-a9e1-b7ffe674492c"
   },
   "source": [
    "La $n$ være antallet av observasjoner hver av utvalgene $y$ av årlige gejnnomsnittstemperaturer fra Bergen \n",
    "og utvalget $z$ av årlige gejnnomsnittstemperaturer fra Oslo. Her har vi alså like mange observasjoner i de to datasettene.\n",
    "\n",
    "La $EB$ være gjennomsnittet til tallene $y_i$ og la $EO$ være gjennomsnittet til tallene $1 + z_i$. \n",
    "\n",
    "Vi bruker formel for en $t$-verdi som du for eksempel [finner på Wikipedia sin side om t-test i avsnittet **Equal sample sizes and variance**.](https://en.wikipedia.org/wiki/Student's_t-test)\n",
    "\n",
    "For å skrive formelen litt fint vil jeg innføre det kombinerte standardavviket\n",
    "$$\\sigma(y,z) = \\sqrt{\\frac{\\sigma(y)^2 + \\sigma(z)^2}{2}}.$$\n",
    "\n",
    "Husk gjerne at standardavviket $\\sigma(y)$ er gitt ved formelen $\\sigma(y)^2 = E(y^2) - E(y)^2$.\n",
    "\n",
    "$t$-verdien for vår to utvalgs test er:\n",
    "\n",
    "$$t\\_{\\text{verdi}} = \\frac{E(y) - E(z)}{\\sigma(y, z) \\sqrt{2/n}}.$$"
   ]
  },
  {
   "cell_type": "markdown",
   "id": "9475a128-4728-4aff-afd7-7d4d8f77a56b",
   "metadata": {},
   "source": [
    "Antallet av frihetsgrader er tilnærmet av formelen $2n - 2$."
   ]
  },
  {
   "cell_type": "markdown",
   "id": "01d7f714-7173-484d-8e98-62079bf61662",
   "metadata": {},
   "source": [
    "Hypotesen Ola gjør er\n",
    "\n",
    "**Nullhypotese** $H_0: \\mu_o = \\mu_B$\n",
    "\n",
    "**Alternativ hypotese**: $H_a: \\mu_O \\ne \\mu_O$."
   ]
  },
  {
   "cell_type": "markdown",
   "id": "06683819-7123-4854-a785-4031b98f2c85",
   "metadata": {},
   "source": [
    "## Oppgave\n",
    "\n",
    "Bruk koden i [notisboken ola analyse](ola_analyse.ipynb) til å gjøre analysen til Ola for den perioden du har fått spesifisert quizz i Mitt Uib. "
   ]
  },
  {
   "cell_type": "markdown",
   "id": "7efb9713-c29c-431f-9769-9a59bdef5f8a",
   "metadata": {},
   "source": [
    "## Hypotesen til Kari"
   ]
  },
  {
   "cell_type": "markdown",
   "id": "c3744668-3e5b-476d-b1ca-9882ea687319",
   "metadata": {},
   "source": [
    "Kari gjør den antagelsen at tallverdiene gitt ved\n",
    "forskjellen mellom de daglige gjennomsnittstemperaturene i Bergen og Oslo er trukket fra\n",
    "en normalfordeling med gjennomsnitt $\\mu$.\n",
    "\n",
    "Derfor beregner hun differansen $d$ mellom de daglige temperaturene i Bergen og Oslo\n",
    "og beslutter å gjøre en et-utvalgs t-test på om disse differansene er $0$."
   ]
  },
  {
   "cell_type": "markdown",
   "id": "b60a5f0d-1723-43e6-85d7-38c4888be27e",
   "metadata": {},
   "source": [
    "Siden jun ikke kjenner standardavvik eller gjennomsnitt for den underliggende normalfordelingen bruker hun gjennomsnitt og standardavvik til $d$ \n",
    "til beregning av $t$-verdi.\n",
    "\n",
    "Formelen for $t$-verdien er\n",
    "$$t\\_\\text{verdi} = \\frac{E(d)}{\\sigma(d)/\\sqrt{n}}.$$ \n",
    "\n",
    "Her er $E(d)$ gjennomsnittet av $d$-verdiene og $\\sigma(d)$ er deres standardavvik.\n",
    "\n",
    "$n$ er antallet av observasjoner. \n",
    "\n",
    "Antallet av frihetsgrader er $n - 1$."
   ]
  },
  {
   "cell_type": "markdown",
   "id": "49c767ca-4537-405a-bc2f-bbd99ef89cba",
   "metadata": {},
   "source": [
    "**Nullhypotese** $H_0: \\mu = 0$\n",
    "\n",
    "**Alternativ hypotese**: $H_a: \\mu \\ne 0$."
   ]
  },
  {
   "cell_type": "markdown",
   "id": "6ca9b426-d4b5-4371-ad55-dda5544badc0",
   "metadata": {},
   "source": [
    "## Oppgave\n",
    "\n",
    "Bruk koden i [notisboken kari analyse](kari_analyse.ipynb) til å gjøre analysen til Kari for den perioden du har fått spesifisert quiz i Mitt Uib. \n",
    "\n",
    "Når du er ferdig kan du svare på spørsmålene i quizen."
   ]
  }
 ],
 "metadata": {
  "kernelspec": {
   "display_name": "Python 3 (ipykernel)",
   "language": "python",
   "name": "python3"
  },
  "language_info": {
   "codemirror_mode": {
    "name": "ipython",
    "version": 3
   },
   "file_extension": ".py",
   "mimetype": "text/x-python",
   "name": "python",
   "nbconvert_exporter": "python",
   "pygments_lexer": "ipython3",
   "version": "3.12.8"
  }
 },
 "nbformat": 4,
 "nbformat_minor": 5
}
