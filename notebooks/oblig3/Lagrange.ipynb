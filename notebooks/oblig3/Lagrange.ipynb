{
 "cells": [
  {
   "cell_type": "markdown",
   "id": "1e30d13f-c247-43bb-9e59-0edc68576773",
   "metadata": {},
   "source": [
    "Vi vil bruke Lagrange metoden til å finne minimum til \n",
    "\n",
    "$$f(\\begin{bmatrix}x\\\\y\\\\z\\end{bmatrix}) = 1 + x^3y^3z^3$$\n",
    "\n",
    "under bibetingelsen $g = 0$, der\n",
    "\n",
    "$$f(\\begin{bmatrix}x\\\\y\\\\z\\end{bmatrix}) = x^3 + 3y^3 + z^3 - 24$$\n",
    "\n",
    "Gradientene til $f$ og $g$ er\n",
    "\n",
    "$$\\nabla f(\\begin{bmatrix}x\\\\y\\\\z\\end{bmatrix}) = 3\\begin{bmatrix}x^2 y^3z^3\\\\y^2 x^3z^3\\\\z^2 x^3y^3\\end{bmatrix}$$\n",
    "\n",
    "og\n",
    "\n",
    "$$\\nabla g(\\begin{bmatrix}x\\\\y\\\\z\\end{bmatrix}) = 3\\begin{bmatrix}x^2 \\\\3y^2 \\\\z^2\\end{bmatrix}$$\n"
   ]
  },
  {
   "cell_type": "markdown",
   "id": "1c1db169-66ba-440c-a015-88a639686782",
   "metadata": {},
   "source": [
    "Vi vil finne $x,y$ og $z$ slik at når disse settes inn fås at $g=0$ og at det finnes $\\lambda$ med $\\nabla f = \\lambda \\nabla g$.\n",
    "\n",
    "Setter vi inn og forkorter vi ut gir $\\nabla f = \\lambda \\nabla g$ at\n",
    "$x^3y^3 = y^3z^3 = \\lambda$ og at $x^3z^3 = 3\\lambda$."
   ]
  },
  {
   "cell_type": "markdown",
   "id": "748a9cea-3a08-4bdc-9b35-464b05d7b0bb",
   "metadata": {},
   "source": [
    "Det er opplagt at når $f$ har et maksimum, da er $x$, $y$ og $z$ alle forskjellige fra $0$. Derfor kan vi forkorte ut $y^3$ over og få $x^3 = z^3$. Dessuten ser vi at $x^6 = x^3z^3 = 3\\lambda$ og at $y^3 = \\lambda /x^3$. Da blir også $y^6 = \\lambda^2/x^6 = \\lambda^2 /(3 \\lambda) = \\lambda / 3$. (Siden $x^6 = 3 \\lambda$ vet vi at $\\lambda > 0$.)"
   ]
  },
  {
   "cell_type": "markdown",
   "id": "93db509d-ddd3-4965-b41f-19e6b3fa1c85",
   "metadata": {},
   "source": [
    "Betingelsen $g = 0$ gir\n",
    "\n",
    "$$24 y^3 = (x^3 + 3y^3 + z^3)y^3 = x^3y^3 + 3 y^6 + z^3 y^3 = \\lambda + 3 \\lambda / 3 + \\lambda = 3 \\lambda$$ "
   ]
  },
  {
   "cell_type": "markdown",
   "id": "a1c51703-c4d0-4c58-8ba2-6eb8826afa15",
   "metadata": {},
   "source": [
    "Kvadrerer vi denne ligningen, og husker vi at $y^6 = \\lambda / 3$ får vi at \n",
    "\n",
    "$$24^2 \\lambda / 3 = 9 \\lambda^2$$\n",
    "\n",
    "som gir\n",
    "\n",
    "$$24^2 / 3 = 9 \\lambda$$\n",
    "\n",
    "og endelig at \n",
    "\n",
    "$$\\lambda = 24^2 / 27$$\n"
   ]
  },
  {
   "cell_type": "markdown",
   "id": "0dc78565-6bf7-4b8e-a454-e1f14ead6b56",
   "metadata": {},
   "source": [
    "Vi kan nå finne maksimum:\n",
    "\n",
    "$$1 + x^3y^3z^3 = 1 + x^6y^3 = 1 + 3\\lambda \\cdot \\sqrt{\\lambda/3} = 1 + \\sqrt{3} \\lambda^{3/2} = 1 + 512 / 3 = 171.6666$$"
   ]
  },
  {
   "cell_type": "code",
   "execution_count": null,
   "id": "9d6e917d-06eb-4512-aea1-553ab3944522",
   "metadata": {},
   "outputs": [],
   "source": []
  }
 ],
 "metadata": {
  "kernelspec": {
   "display_name": "Python 3 (ipykernel)",
   "language": "python",
   "name": "python3"
  },
  "language_info": {
   "codemirror_mode": {
    "name": "ipython",
    "version": 3
   },
   "file_extension": ".py",
   "mimetype": "text/x-python",
   "name": "python",
   "nbconvert_exporter": "python",
   "pygments_lexer": "ipython3",
   "version": "3.12.9"
  }
 },
 "nbformat": 4,
 "nbformat_minor": 5
}
