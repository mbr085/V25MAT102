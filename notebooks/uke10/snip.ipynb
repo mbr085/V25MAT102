{
 "cells": [
  {
   "cell_type": "markdown",
   "id": "804e268a-1ad7-42de-b0d9-6a51a45ee48d",
   "metadata": {},
   "source": [
    "La $f \\colon \\mathbb{R}^2 \\to \\mathbb{R}$ være funksjonen gitt ved\n",
    "\n",
    "$$f(\\begin{bmatrix}x\\\\y\\end{bmatrix}) = \\cos(x^2 + y^2).$$\n",
    "\n",
    "1.  Finn gradienten til $f$.\n",
    "\n",
    "2.  Plott grafen til $f$.\n",
    "\n",
    "3.  Finn et lokalt minimum til $f$ ved å bruke gradientdescent,\n",
    "    startende i punktet $\\begin{bmatrix}1\\\\1\\end{bmatrix}$.\n",
    "\n",
    "**Oppgave** (Oppgave $4$ fra eksamen juni 2017). Funksjonen i to\n",
    "variable $$f(\\begin{bmatrix}x\\\\y\\end{bmatrix}) = y^2 - x^2$$ har\n",
    "definisjonsområde lik de $\\begin{bmatrix}x\\\\y\\end{bmatrix}$ slik at\n",
    "$4x^2 + y^2 \\le 4$.\n",
    "\n",
    "1.  Finn eventuelle stasjonære punkter i det indre av\n",
    "    definisjonsområdet, altså der $4x^2+y^2 < 4$.\n",
    "\n",
    "2.  Finn eventuelle kandidater til maksimum og minimum på randen av\n",
    "    definisjonsområdet, altså der $4x^2 + y^2 = 4$ ved Lagrangemetoden.\n",
    "\n",
    "3.  Hva er den største og den minste funksjonsverdien til $f$?"
   ]
  }
 ],
 "metadata": {
  "kernelspec": {
   "display_name": "Python 3 (ipykernel)",
   "language": "python",
   "name": "python3"
  },
  "language_info": {
   "codemirror_mode": {
    "name": "ipython",
    "version": 3
   },
   "file_extension": ".py",
   "mimetype": "text/x-python",
   "name": "python",
   "nbconvert_exporter": "python",
   "pygments_lexer": "ipython3",
   "version": "3.12.9"
  }
 },
 "nbformat": 4,
 "nbformat_minor": 5
}
