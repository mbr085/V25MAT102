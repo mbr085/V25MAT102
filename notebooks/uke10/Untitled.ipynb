{
 "cells": [
  {
   "cell_type": "markdown",
   "id": "8de92d64-8069-44e5-b811-866eb5b36dec",
   "metadata": {},
   "source": [
    "# Lagrange multiplikator metoden"
   ]
  },
  {
   "cell_type": "code",
   "execution_count": null,
   "id": "9d3d97dd-3bf6-4322-af12-cd712f1f2459",
   "metadata": {},
   "outputs": [],
   "source": []
  }
 ],
 "metadata": {
  "kernelspec": {
   "display_name": "Python 3 (ipykernel)",
   "language": "python",
   "name": "python3"
  },
  "language_info": {
   "codemirror_mode": {
    "name": "ipython",
    "version": 3
   },
   "file_extension": ".py",
   "mimetype": "text/x-python",
   "name": "python",
   "nbconvert_exporter": "python",
   "pygments_lexer": "ipython3",
   "version": "3.12.9"
  }
 },
 "nbformat": 4,
 "nbformat_minor": 5
}
