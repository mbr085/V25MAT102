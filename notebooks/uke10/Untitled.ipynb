{
 "cells": [
  {
   "cell_type": "markdown",
   "id": "3caacacd-70f9-4b18-ad39-8a8ee59fbfa0",
   "metadata": {},
   "source": [
    "# Oppgaver uke 12"
   ]
  },
  {
   "cell_type": "markdown",
   "id": "626bdcc6-7e29-4665-a242-2a7e9655c8d1",
   "metadata": {},
   "source": [
    "MIP oppgavene\n",
    "1. 12.6.1\n",
    "2. 12.6.6\n",
    "3. 12.6.9"
   ]
  },
  {
   "cell_type": "code",
   "execution_count": null,
   "id": "ae4179c2-8925-435c-8025-bb538ad4111b",
   "metadata": {},
   "outputs": [],
   "source": []
  }
 ],
 "metadata": {
  "kernelspec": {
   "display_name": "Python 3 (ipykernel)",
   "language": "python",
   "name": "python3"
  },
  "language_info": {
   "codemirror_mode": {
    "name": "ipython",
    "version": 3
   },
   "file_extension": ".py",
   "mimetype": "text/x-python",
   "name": "python",
   "nbconvert_exporter": "python",
   "pygments_lexer": "ipython3",
   "version": "3.12.9"
  }
 },
 "nbformat": 4,
 "nbformat_minor": 5
}
