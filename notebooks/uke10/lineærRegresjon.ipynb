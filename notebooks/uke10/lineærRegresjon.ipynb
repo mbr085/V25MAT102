{
 "cells": [
  {
   "cell_type": "markdown",
   "id": "2b7c6803-be61-4949-a393-f9c42f8f5aa4",
   "metadata": {},
   "source": [
    "# Lineær regresjon"
   ]
  },
  {
   "cell_type": "markdown",
   "id": "f06a062e-a660-4bc8-9d0f-60ec39721e8b",
   "metadata": {},
   "source": [
    "I dette avsnittet knytter vi flervariabel kalkulus til problemet vi\n",
    "started med der vi spurte om temperaturen i Bergen er gått opp i den\n",
    "tiden vi har data for.\n",
    "\n",
    "La oss si at vi har målt temperaturene $y_1, y_2, \\dots y_n$ til tidene\n",
    "$t_1, t_2, \\dots, t_n$. Vi kan først spørre hva stigningstallet til den\n",
    "rette linjen som passer best til disse dataene er.\n",
    "\n",
    "La oss si at vi har en linje $L(t) = x_1t + x_2$ git ved parametrene\n",
    "$x_1$ og $x_2$ som vi oppfatter som et punkt\n",
    "$\\mathbf{x}= \\begin{bmatrix}x_1\\\\x_2\\end{bmatrix}$ i $\\mathbb{R}^2$. Vi\n",
    "setter kosten $S(\\mathbf{x})$ til å være summen av kvadratene til\n",
    "avvikene mellom målingene og linjen:\n",
    "$$S(\\mathbf{x}) = \\sum_{i=1}^n (x_1t_i + x_2 - y_i)^2.$$ Vi har sett at\n",
    "dette er en funksjon av to variable, og vi kan derfor bruke flervariabel\n",
    "kalkulus til å finne minimumspunktet til denne funksjonen. Skriver vi\n",
    "$$A = \\begin{bmatrix}t_1 & 1 \\\\ t_2 & 1 \\\\ \\vdots & \\vdots \\\\ t_n & 1\\end{bmatrix} \\quad \\text{og} \\quad\n",
    "\\mathbf{y}= \\begin{bmatrix}y_1 \\\\ y_2 \\\\ \\vdots \\\\ y_n\\end{bmatrix},$$\n",
    "er\n",
    "$S(\\vec{\\mathbf{x}}) = |A\\vec{\\mathbf{x}} - \\mathbf{y}|^2 = (A\\vec{\\mathbf{x}} - \\mathbf{y}) \\cdot (A\\vec{\\mathbf{x}} - \\mathbf{y})$.\n",
    "Vi har sett at gradienten til $S$ er gitt ved\n",
    "$$\\nabla S(\\vec{\\mathbf{x}}) =  \\begin{bmatrix} \\frac{\\partial S}{\\partial x_1} \\\\\n",
    "\\frac{\\partial S}{\\partial x_2} \\end{bmatrix}\n",
    "= 2(A^T \\cdot A \\cdot \\vec{\\mathbf{x}} - A^T \\cdot \\mathbf{y})$$\n",
    "\n",
    "Vi skriver \n",
    "$$E(\\mathbf{t}) = \\frac{t_1 + t_2 + \\dots + t_n}{n} \\quad \\text{og} \\quad\n",
    "E(\\mathbf{t}^2) = \\frac{t_1^2 + t_2^2 + \\dots + t_n^2}{n}$$\n",
    "for gjennomsnitlig\n",
    "tid og gjennomsnittlig tid kvadrert. Dessuten skriver vi\n",
    "$$E(\\mathbf{y}) = \\frac{y_1 + y_2 + \\dots + y_n}{n} \\quad \\text{og} \\quad\n",
    "E(\\mathbf{y}\\mathbf{t}) = \\frac{y_1t_1 + y_2t_2 + \\dots + y_nt_n}{n}$$\n",
    "for\n",
    "gjennomsnittlig temperatur og gjennomsnittlig produkt av temperatur og\n",
    "tid. Med denne skrivemåten kan vi gjøre en mellomregning og finne ut at\n",
    "$$\\nabla S(\\vec{\\mathbf{x}}) = 2n\\left(\n",
    "\\begin{bmatrix}E(\\mathbf{t}^2) & E(\\mathbf{t}) \\\\ E(\\mathbf{t}) & 1\\end{bmatrix} \\begin{bmatrix}x_1 \\\\ x_2\\end{bmatrix} - \\begin{bmatrix}E(\\mathbf{y}\\mathbf{t})\\\\E(\\mathbf{y})\\end{bmatrix}\\right)$$\n",
    "For å finne minimumspunktet til $S$ må vi sette\n",
    "$\\nabla S(\\vec{\\mathbf{x}}) = 0$. Dette gir et likningssystem som vi kan\n",
    "løse for å finne $x_1$ og $x_2$. Den utvidede matrisen til dette\n",
    "likningssystemet er $2n$ ganger matrisen\n",
    "$$\\begin{bmatrix}E(\\mathbf{t}^2) & E(\\mathbf{t}) & E(\\mathbf{y}\\mathbf{t}) \\\\ E(\\mathbf{t}) & 1 & E(\\mathbf{y})\\end{bmatrix}.$$\n",
    "La oss radeliminere denne matrisen. Først trekker $E(\\mathbf{t})$ ganger\n",
    "den andre raden fra den første raden, og deretter deler vi den første\n",
    "raden på $E(\\mathbf{t}^2) - E(\\mathbf{t})^2$. Da får vi\n",
    "$$\\begin{bmatrix}1 & 0  & \\frac{E(\\mathbf{y}\\mathbf{t}) - E(\\mathbf{t})E(\\mathbf{y})}{E(\\mathbf{t}^2) - E(\\mathbf{t})^2} \\\\ E(\\mathbf{t}) & 1 & E(\\mathbf{y})\\end{bmatrix}.$$\n",
    "Deretter trekker vi $E(\\mathbf{t})$ ganger den første raden fra den\n",
    "andre raden. Da får vi $$\\begin{bmatrix}1 & 0 &\n",
    "  \\frac{E(\\mathbf{y}\\mathbf{t}) - E(\\mathbf{t})E(\\mathbf{y})}{E(\\mathbf{t}^2) - E(\\mathbf{t})^2} \\\\\n",
    "0 & 1 &\n",
    "E(\\mathbf{y}) - \\frac{E(\\mathbf{y}\\mathbf{t}) - E(\\mathbf{t})E(\\mathbf{y})}{E(\\mathbf{t}^2) - E(\\mathbf{t})^2}E(\\mathbf{t}) \n",
    "\\end{bmatrix}.$$ Vi kan nå lese av at $x_1$ er gitt ved\n",
    "$$x_1 = \\frac{E(\\mathbf{y}\\mathbf{t}) - E(\\mathbf{t})E(\\mathbf{y})}{E(\\mathbf{t}^2) - E(\\mathbf{t})^2}$$\n",
    "og at $x_2$ er gitt ved\n",
    "$$x_2 = E(\\mathbf{y}) - \\frac{E(\\mathbf{y}\\mathbf{t}) - E(\\mathbf{t})E(\\mathbf{y})}{E(\\mathbf{t}^2) - E(\\mathbf{t})^2}E(\\mathbf{t}).$$\n",
    "Her kan vi også skrive $x_2 = E(\\mathbf{y}) - x_1E(\\mathbf{t})$. Vi kan\n",
    "bemerke at $x_1$ er stigningstallet til linjen, mens $x_2$ er\n",
    "skjæringspunktet med $y$-aksen."
   ]
  },
  {
   "cell_type": "markdown",
   "id": "2054fb11-91b2-462b-950b-97c28765db2c",
   "metadata": {},
   "source": [
    "Det går faktisk an å skrive uttrykket for $x_1$ på en annen måte. Vi har\n",
    "$E(\\mathbf{y}\\mathbf{t}) = E(\\mathbf{y})E(\\mathbf{t}) + \\text{cov}(\\mathbf{y}, \\mathbf{t})$\n",
    "og $E(\\mathbf{t}^2) = E(\\mathbf{t})^2 + \\text{var}(\\mathbf{t})$, der\n",
    "$\\text{cov}(\\mathbf{y},\n",
    "\\mathbf{t})$ er kovariansen mellom $\\mathbf{y}$ og $\\mathbf{t}$ og\n",
    "$\\text{var}(\\mathbf{t})$ er variansen til $\\mathbf{t}$. Derfor får vi\n",
    "$$x_1 = \\frac{\\text{cov}(\\mathbf{y}, \\mathbf{t})}{\\text{var}(\\mathbf{t})}.$$\n",
    "\n",
    "Her er kovariansen mellom $\\mathbf{y}$ og $\\mathbf{t}$ gitt ved\n",
    "$$\\text{cov}(\\mathbf{y}, \\mathbf{t}) = \\frac{1}{n}\\sum_{i=1}^n (y_i - E(\\mathbf{y}))(t_i - E(\\mathbf{t})) = E((\\mathbf{y} - E(\\mathbf{y}))(\\mathbf{t} - E(\\mathbf{t}))$$\n",
    "og variansen til $\\mathbf{t}$ er gitt ved\n",
    "$$\\text{var}(\\mathbf{t}) = \\frac{1}{n}\\sum_{i=1}^n (t_i - E(\\mathbf{t}))^2 = E((\\mathbf{t} - E(\\mathbf{t}))^2).$$\n",
    "Vi kommer ikke til å gå inn i detaljene hvorfor dette kalles kovarians\n",
    "og varians. Det er nok å si at dette er standardbegreper i statistikk.\n",
    "\n",
    "La oss til slutt sjekke at\n",
    "$E(\\mathbf{y} \\mathbf{t}) = E(\\mathbf{y}) E(\\mathbf{t}) + \\text{cov}(\\mathbf{y}, \\mathbf{t})$:\n",
    "Ganger vi inn i parantesene og bruker vi at\n",
    "$\\mathbf{y}\\mapsto E(\\mathbf{y}) = \\frac{1}{n}\\sum_i y_i$ er lineær får\n",
    "vi at $$\\begin{aligned}\n",
    "  \\text{cov}(\\mathbf{y}, \\mathbf{t}) \n",
    "  &=\n",
    "  E((\\mathbf{y}- E(\\mathbf{y}))(\\mathbf{t} - E(\\mathbf{t})))\\\\\n",
    "  &= E(\\mathbf{y}\\mathbf{t}) - E(E(\\mathbf{y})\\mathbf{t}) -\n",
    "  E(\\mathbf{y}E(\\mathbf{t})) + E(\\mathbf{y})( \\mathbf{t}) \\\\\n",
    "  &= E(\\mathbf{y}\\mathbf{t}) - E(\\mathbf{y})E(\\mathbf{t}) -\n",
    "  E(\\mathbf{y}) E(\\mathbf{t})+ E(\\mathbf{y})( \\mathbf{t}) \\\\\n",
    "  &= E(\\mathbf{y}\\mathbf{t}) - E(\\mathbf{y})E(\\mathbf{t}) .\n",
    "\\end{aligned}$$ Derfor er\n",
    "$$E(\\mathbf{y}) E(\\mathbf{t}) + \\text{cov}(\\mathbf{y}, \\mathbf{t}) = \n",
    "E(\\mathbf{y}) E(\\mathbf{t}) +\n",
    "  E(\\mathbf{y}\\mathbf{t}) - E(\\mathbf{y})E(\\mathbf{t}) \n",
    "  = E(\\mathbf{y}\\mathbf{t}).$$ På samme måte ser vi at\n",
    "$E(\\mathbf{t}^2) = E(\\mathbf{t})^2 + \\text{var}(\\mathbf{t})$."
   ]
  },
  {
   "cell_type": "markdown",
   "id": "58f335e2-efeb-4054-b8ea-15b503eb6aa5",
   "metadata": {},
   "source": [
    "## Eksempel: Temperaturen i Bergen"
   ]
  },
  {
   "cell_type": "code",
   "execution_count": 1,
   "id": "5d37ccac-527a-4787-be0b-faae1b01b78f",
   "metadata": {},
   "outputs": [],
   "source": [
    "# Her importeres Point og Daily funksjonalitetene fra meteostat modulen.\n",
    "# Hvis meteostat ikke allerede er installert blir den installert.\n",
    "try:\n",
    "  import meteostat\n",
    "except:\n",
    "  !pip install meteostat\n",
    "  import meteostat"
   ]
  },
  {
   "cell_type": "code",
   "execution_count": 2,
   "id": "cc4c87ac-ad0e-4428-8244-e1196cd77f92",
   "metadata": {},
   "outputs": [],
   "source": [
    "# Her importeres modulen pandas som pd\n",
    "\n",
    "import pandas as pd"
   ]
  },
  {
   "cell_type": "code",
   "execution_count": null,
   "id": "4c937c8d-f747-4deb-8711-0b70e0909119",
   "metadata": {},
   "outputs": [],
   "source": []
  },
  {
   "cell_type": "code",
   "execution_count": 3,
   "id": "60fec2fa-0b5b-4e39-8b49-612769f0e4b9",
   "metadata": {},
   "outputs": [],
   "source": [
    "# Her importeres funksjonaliteten datetime fra modulen datetime.\n",
    "# Datetime gir oss en bekvem måte å jobbe med tidsdate på.\n",
    "\n",
    "from datetime import datetime, timedelta"
   ]
  },
  {
   "cell_type": "code",
   "execution_count": 4,
   "id": "8469981b-65e3-4544-b7be-9d702a8d78cd",
   "metadata": {},
   "outputs": [],
   "source": [
    "# Sett tidsperioden vi vil hente data fra\n",
    "# Data for fremtiden kan ikke lastes inn, så når vi ber om å laste inn data får vi data helt opp til i dag.\n",
    "\n",
    "start = datetime(1973, 1, 1)\n",
    "end = datetime.today()"
   ]
  },
  {
   "cell_type": "code",
   "execution_count": 5,
   "id": "88783c15-d7ab-47cb-ab94-78c9452e9e12",
   "metadata": {},
   "outputs": [],
   "source": [
    "# Vi angir GPS koordinatene til Bergen\n",
    "# Google maps gir oss koordinatene under. Høyden gjetter jeg meg til.\n",
    "\n",
    "bergen = meteostat.Point(60.38526, 5.328060, 10)"
   ]
  },
  {
   "cell_type": "code",
   "execution_count": 6,
   "id": "4589b314-f869-40ec-bdf0-f6e770304682",
   "metadata": {},
   "outputs": [
    {
     "name": "stderr",
     "output_type": "stream",
     "text": [
      "FutureWarning: Support for nested sequences for 'parse_dates' in pd.read_csv is deprecated. Combine the desired columns with pd.to_datetime after parsing instead.\n",
      "FutureWarning: Support for nested sequences for 'parse_dates' in pd.read_csv is deprecated. Combine the desired columns with pd.to_datetime after parsing instead.\n"
     ]
    }
   ],
   "source": [
    "# Vi laster ned daglige målinger for den angitte tidsperioden\n",
    "\n",
    "data = meteostat.Daily(bergen, start, end)\n",
    "data = data.fetch()"
   ]
  },
  {
   "cell_type": "markdown",
   "id": "a16e173f-9cde-4a52-9afe-ef883e1dbe2c",
   "metadata": {},
   "source": [
    "<font color='Crimson'>\n",
    "Hva er det vi plotter under?\n",
    "</font>"
   ]
  }
 ],
 "metadata": {
  "kernelspec": {
   "display_name": "Python 3 (ipykernel)",
   "language": "python",
   "name": "python3"
  },
  "language_info": {
   "codemirror_mode": {
    "name": "ipython",
    "version": 3
   },
   "file_extension": ".py",
   "mimetype": "text/x-python",
   "name": "python",
   "nbconvert_exporter": "python",
   "pygments_lexer": "ipython3",
   "version": "3.12.8"
  }
 },
 "nbformat": 4,
 "nbformat_minor": 5
}
