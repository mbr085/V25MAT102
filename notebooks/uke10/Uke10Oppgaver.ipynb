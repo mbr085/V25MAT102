{
 "cells": [
  {
   "cell_type": "markdown",
   "id": "c92ed65a-e60a-49b6-aab9-6ec2c70fb696",
   "metadata": {},
   "source": [
    "# Oppgaver til MAT102 Uke 10 2025"
   ]
  },
  {
   "cell_type": "code",
   "execution_count": 1,
   "id": "6aece113-c88d-4fc6-bc7e-19c32729ad78",
   "metadata": {},
   "outputs": [],
   "source": [
    "try:\n",
    "    import python_linear_algebra\n",
    "except:\n",
    "    !pip install python_linear_algebra@git+https://github.com/mbr085/python_linear_algebra\n",
    "    import python_linear_algebra\n",
    "import numpy as np\n",
    "from python_linear_algebra.matrix_reduction import skriv_ut_egenvektorer_og_multiplikasjon_med_matrise\n",
    "from python_linear_algebra.matrix_reduction import finn_egenvektorer_og_egenverdier\n",
    "from python_linear_algebra.matrix_reduction import gauss_jordan\n",
    "from python_linear_algebra.matrix_reduction import invers_matrise\n",
    "from python_linear_algebra.matrix_reduction import partikulaer_losning\n",
    "from python_linear_algebra.diffligninger import løs_homogent_system_av_differensialligninger\n",
    "from python_linear_algebra.diffligninger import løs_inhomogent_system_av_differensialligninger\n",
    "import matplotlib.pyplot as plt\n",
    "from scipy.integrate import solve_ivp"
   ]
  },
  {
   "cell_type": "markdown",
   "id": "807ef315-cd2a-415c-aedf-d3b1084c3a72",
   "metadata": {},
   "source": [
    "## Oppgave 1\n",
    "\n",
    "Løs systemet av differensialligninger: $$\\begin{aligned}\n",
    "  x'(t) &= x(t) + 2y(t)\\\\\n",
    "  y'(t) &= 2x(t) - 2y(t)\n",
    "\\end{aligned}$$ for startbetingelsene:\n",
    "\n",
    "1.  $x(0) = 1$ og $y(0) = 0$\n",
    "\n",
    "2.  $x(0) = 0$ og $y(0) = 1$\n",
    "\n",
    "3.  $x(0) = 1$ og $y(0) = 1$\n",
    "\n",
    "Du kan bruke koden under til å hjelpe deg med utregningene"
   ]
  },
  {
   "cell_type": "markdown",
   "id": "06444ea4-1d37-42bb-9b73-3ad3061e0461",
   "metadata": {},
   "source": [
    "```python\n",
    "A = np.array([\n",
    "    [1, 2],\n",
    "    [2, -2]\n",
    "])\n",
    "v00 = np.array([[1], [0]])\n",
    "v10 = np.array([[0], [1]])\n",
    "v20 = np.array([[1], [1]])\n",
    "(lambda2, _, (w2,)), (lambda1, _, (w1,)) = finn_egenvektorer_og_egenverdier(A)\n",
    "M0 = np.hstack([w1, w2, v00])\n",
    "M2 = np.hstack([w1, w2, v10])\n",
    "M2 = np.hstack([w1, w2, v20])\n",
    "x0, y0 = gauss_jordan(M0)[:, -1]\n",
    "x1, y1 = gauss_jordan(M2)[:, -1]\n",
    "x2, y2 = gauss_jordan(M2)[:, -1]\n",
    "```"
   ]
  },
  {
   "cell_type": "markdown",
   "id": "309072ec-7b16-465c-a61e-2942b9fd2c7d",
   "metadata": {},
   "source": [
    "## Oppgave 2\n",
    "\n",
    "MIP oppgave 11.4.1. Du kan bruke koden under til å hjelpe deg."
   ]
  },
  {
   "cell_type": "markdown",
   "id": "15e7afd2-c9a7-4f5d-a335-2a4cec125623",
   "metadata": {},
   "source": [
    "```python\n",
    "A = np.array([\n",
    "    [0, -1],\n",
    "    [1, 0]\n",
    "]).astype(np.complex128)\n",
    "tverdier = np.linspace(0, 10, 100)\n",
    "starttilstand = np.array([[0], [0.5]])\n",
    "\n",
    "v = løs_homogent_system_av_differensialligninger(overgangsmatrise=A, starttilstand=starttilstand, tverdier=tverdier)\n",
    "plt.plot(tverdier, v.real[0, :])\n",
    "plt.plot(tverdier, v.real[1, :])\n",
    "plt.figure()\n",
    "plt.plot(*v.real)\n",
    "```"
   ]
  },
  {
   "cell_type": "markdown",
   "id": "970d7056-093b-4977-9fea-be45d05e9472",
   "metadata": {},
   "source": [
    "## Oppgave 3\n",
    "\n",
    "MIP oppgave 11.4.3. Hvis du vil kan du prøve å bruke koden under"
   ]
  },
  {
   "cell_type": "markdown",
   "id": "20bc3cf7-bc58-4280-bb71-97967f3fc95e",
   "metadata": {},
   "source": [
    "```python\n",
    "def f(t, z, a, b, r, s):\n",
    "    x, y = z\n",
    "    return [a*x - b*x*y, -r*x*y + s*y]\n",
    "\n",
    "# valg av parametre\n",
    "a = 1\n",
    "b = 1\n",
    "r = 1\n",
    "s = 1\n",
    "\n",
    "n_grid = 16\n",
    "\n",
    "\n",
    "# Definerer x- og y-verdiene\n",
    "\n",
    "x = np.linspace(0, 2, num=n_grid+1)\n",
    "y = np.linspace(0, 2, num=n_grid+1)\n",
    "# Finner retning av piler\n",
    "X, Y = np.meshgrid(x, y)\n",
    "dX, dY = f(0, (X, Y), a, b, r, s)\n",
    "r = (dX**2 + dY**2)**0.5\n",
    "r[r < 1e-8] = 1\n",
    "dX = dX / r\n",
    "dY = dY / r\n",
    "\n",
    "plt.quiver(X, Y, dX, dY, scale=10, scale_units='x', color='black', angles='xy')\n",
    "plt.grid()\n",
    "plt.xlabel('x')\n",
    "plt.ylabel('y')\n",
    "#plt.legend(loc='upper left')\n",
    "plt.title(r\"Fasediagram med styrkepiler\");\n",
    "```"
   ]
  },
  {
   "cell_type": "markdown",
   "id": "05cf558d-ac2c-4056-8d66-59696a066c8e",
   "metadata": {},
   "source": [
    "## Oppgave 4\n",
    "\n",
    "MIP oppgave 11.3.4 Bruk koden under til å løse oppgaven numerisk. Løs\n",
    "også oppgaven for hånd, hvis du har lyst til å lære deg å bruke komplekse tall."
   ]
  },
  {
   "cell_type": "markdown",
   "id": "ad84d2e1-30bc-4987-8156-8fa544c73abe",
   "metadata": {},
   "source": [
    "```python\n",
    "A = np.array([\n",
    "    [2, -4],\n",
    "    [1, 2]\n",
    "]).astype(np.complex128)\n",
    "\n",
    "r = np.array([[2], [1]]).astype(np.complex128)\n",
    "x0 = np.array([[-2],[2]]).astype(np.complex128)\n",
    "tverdier = np.linspace(0, 2, 100)\n",
    "likevektsløsning = partikulaer_losning(A, -r)\n",
    "x = løs_homogent_system_av_differensialligninger(A, x0 - likevektsløsning, tverdier) + likevektsløsning\n",
    "\n",
    "plt.plot(*x.real)\n",
    "\n",
    "def g(t, z):\n",
    "    x, y = z\n",
    "    return [2*x - 4*y + 2, x + 2*y + 1]\n",
    "\n",
    "# valg av parametre\n",
    "a = 1\n",
    "b = 1\n",
    "r = 1\n",
    "s = 1\n",
    "\n",
    "n_grid = 16\n",
    "\n",
    "\n",
    "# Definerer x- og y-verdiene\n",
    "\n",
    "x = np.linspace(-5, 200, num=n_grid+1)\n",
    "y = np.linspace(5, -60, num=n_grid+1)\n",
    "# Finner retning av piler\n",
    "X, Y = np.meshgrid(x, y)\n",
    "dX, dY = g(0, (X, Y))\n",
    "rt = (dX**2 + dY**2)**0.5\n",
    "rt[rt < 1e-8] = 1\n",
    "dX = dX / rt\n",
    "dY = dY / rt\n",
    "\n",
    "plt.figure()\n",
    "plt.quiver(X, Y, dX, dY, scale=.1, scale_units='x', color='black', angles='xy')\n",
    "plt.grid()\n",
    "plt.xlabel('x')\n",
    "plt.ylabel('y')\n",
    "#plt.legend(loc='upper left')\n",
    "plt.title(r\"Fasediagram med styrkepiler\");\n",
    "```"
   ]
  },
  {
   "cell_type": "markdown",
   "id": "10e14f5a-5d5a-46f2-b7b3-7b4c813ebe81",
   "metadata": {},
   "source": [
    "## Oppgave 5\n",
    "\n",
    "Løs systemet av differensialligninger: $$\\begin{aligned}\n",
    "  x' &= 4x + z \\\\\n",
    "  y' &= -2x + y \\\\\n",
    "  z' &= -2x + z\n",
    "\\end{aligned}$$ for startbetingelsene: $x(0) = -1$, $y(0) = 0$ og\n",
    "$z(0) = 1$. ved å følge disse stegene: La $\\vec v_0 = \n",
    "\\begin{bmatrix}-1\\\\0\\\\1\\end{bmatrix}$ og la\n",
    "$A = \\begin{bmatrix}4&0&1\\\\-2&1&0\\\\-2&0&1\\end{bmatrix}.$\n",
    "\n",
    "1.  Finn det karakteristiske polynomet $p(t) = \\det(A - tI)$.\n",
    "\n",
    "2.  Finn røttene til det karakteristiske polynomet $p(t)$. Dette er\n",
    "    egenverdiene $\\lambda_1$, $\\lambda_2$ og $\\lambda_2$ til systemet.\n",
    "\n",
    "3.  Finn egenvektorene hørende til $\\lambda_1$, $\\lambda_2$ og\n",
    "    $\\lambda_3$. Det vil si vektorer $\\vec w_1$, $\\vec w_2$ og\n",
    "    $\\vec w_3$ slik at $(A\n",
    "        -\\lambda_1 I) \\vec w_1 = 0$, $(A -\\lambda_2 I) \\vec w_2 = 0$ og\n",
    "    $(A\n",
    "        -\\lambda_3 I) \\vec w_3 = 0$. Disse kan finnes ved å løse lineære\n",
    "    ligningssystemer.\n",
    "\n",
    "4.  Sjekk at for alle $x$, $y$ og $z$ er $\\vec v(t) = \n",
    "        xe^{\\lambda_1 t} \\vec w_1 + ye^{\\lambda_2 t} \\vec w_2 + ze^{\\lambda_3 t}w_3$\n",
    "    er en funksjon med $\\vec v't = A \\cdot \\vec vt + \\vec r$ og\n",
    "    $\\vec v(t_0) = x\\vec\n",
    "        w_1 + y \\vec w_2 + z\\vec w_3$. (Her er rollen til $x$, $y$ og\n",
    "    $z$ en helt annen enn i oppgaveformuleringen.)\n",
    "\n",
    "5.  Finn $x$, $y$ og $z$ slik at\n",
    "    $\\vec v_0 = x\\vec w_1 + y \\vec w_2 + z\\vec w_3$.\n",
    "\n",
    "Hvis du vil kan du bruke koden under til å gjøre stegene."
   ]
  },
  {
   "cell_type": "markdown",
   "id": "b914eb03-c83c-4aa1-81cb-a1e1ed9a9101",
   "metadata": {},
   "source": [
    "```python\n",
    "A = np.array([\n",
    "    [4, 0, 1],\n",
    "    [-2, 1, 0],\n",
    "    [-2, 0, 1]\n",
    "])\n",
    "\n",
    "v0 = np.array([\n",
    "    [-1], [0], [1]\n",
    "])\n",
    "\n",
    "(lambda1, _, (w1,)), (lambda2, _, (w2,)), (lambda3, _, (w3,)) = finn_egenvektorer_og_egenverdier(A)\n",
    "\n",
    "x, y, z = partikulaer_losning(np.hstack([w1, w2, w3]), v0)\n",
    "```"
   ]
  },
  {
   "cell_type": "code",
   "execution_count": null,
   "id": "6c44af36-a8b7-4d2c-ada8-399917a28762",
   "metadata": {},
   "outputs": [],
   "source": []
  }
 ],
 "metadata": {
  "kernelspec": {
   "display_name": "Python 3 (ipykernel)",
   "language": "python",
   "name": "python3"
  },
  "language_info": {
   "codemirror_mode": {
    "name": "ipython",
    "version": 3
   },
   "file_extension": ".py",
   "mimetype": "text/x-python",
   "name": "python",
   "nbconvert_exporter": "python",
   "pygments_lexer": "ipython3",
   "version": "3.12.8"
  }
 },
 "nbformat": 4,
 "nbformat_minor": 5
}
