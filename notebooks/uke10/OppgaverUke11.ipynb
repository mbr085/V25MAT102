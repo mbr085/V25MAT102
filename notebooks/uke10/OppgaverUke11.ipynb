{
 "cells": [
  {
   "cell_type": "markdown",
   "id": "3caacacd-70f9-4b18-ad39-8a8ee59fbfa0",
   "metadata": {},
   "source": [
    "# Oppgaver uke 11"
   ]
  },
  {
   "cell_type": "markdown",
   "id": "e118504d-6254-442e-a4dd-b2e9b401aa49",
   "metadata": {},
   "source": [
    "## Oppgave 1"
   ]
  },
  {
   "cell_type": "markdown",
   "id": "35450f83-aaf0-41eb-b854-abf5c2b20478",
   "metadata": {},
   "source": [
    "MIP oppgavene\n",
    "\n",
    "1. 12.1.5"
   ]
  },
  {
   "cell_type": "markdown",
   "id": "7485eef9-84e8-4081-8041-b28a5f0755e5",
   "metadata": {},
   "source": [
    "## Oppgave 2"
   ]
  },
  {
   "cell_type": "markdown",
   "id": "5db304b7-21a8-4cdc-9370-e6ff1802f1da",
   "metadata": {},
   "source": [
    "MIP oppgave\n",
    "\n",
    "1. 12.5.1\n",
    "2. 12.5.2 (Se side 385 i MIP, 5. utgave)"
   ]
  },
  {
   "cell_type": "markdown",
   "id": "3254b580-bff6-4cd0-91c0-016c73a9ac97",
   "metadata": {},
   "source": [
    "## Oppgave 3"
   ]
  },
  {
   "cell_type": "markdown",
   "id": "e5678b22-8a94-4632-9da9-8961bbbabbe5",
   "metadata": {},
   "source": [
    "MIP oppgavene\n",
    "1. 12.6.1\n",
    "2. 12.6.6\n",
    "3. 12.6.9"
   ]
  },
  {
   "cell_type": "code",
   "execution_count": null,
   "id": "79ef29ba-91e5-4288-a4fd-5205d5cbb9af",
   "metadata": {},
   "outputs": [],
   "source": []
  }
 ],
 "metadata": {
  "kernelspec": {
   "display_name": "Python 3 (ipykernel)",
   "language": "python",
   "name": "python3"
  },
  "language_info": {
   "codemirror_mode": {
    "name": "ipython",
    "version": 3
   },
   "file_extension": ".py",
   "mimetype": "text/x-python",
   "name": "python",
   "nbconvert_exporter": "python",
   "pygments_lexer": "ipython3",
   "version": "3.12.9"
  }
 },
 "nbformat": 4,
 "nbformat_minor": 5
}
