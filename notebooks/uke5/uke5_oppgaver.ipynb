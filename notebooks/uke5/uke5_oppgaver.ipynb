{
 "cells": [
  {
   "cell_type": "markdown",
   "id": "6095f77b-01f2-4e34-bc87-9ebdc806c26c",
   "metadata": {},
   "source": [
    "# Oppgaver uke 5"
   ]
  },
  {
   "cell_type": "code",
   "execution_count": 1,
   "id": "4f4d7486-4915-4c3c-bb5d-ad3700baa974",
   "metadata": {},
   "outputs": [],
   "source": [
    "import numpy as np\n",
    "import matplotlib.pyplot as plt"
   ]
  },
  {
   "cell_type": "markdown",
   "id": "e2a7b61a-a9d5-458d-ad5f-d40463865324",
   "metadata": {},
   "source": [
    "## Newtons metode\n",
    "\n",
    "La oss prøve å bruke Newtons metode til å finne et nullpunkt til funksjonen $f(x) = x^2 - 1$.\n",
    "Koden som gjør dette kan du bruke på oppgavene under hvis du vil. "
   ]
  },
  {
   "cell_type": "code",
   "execution_count": 2,
   "id": "0499df6b-a20d-498e-aee0-ead62780d484",
   "metadata": {},
   "outputs": [],
   "source": [
    "def newton_formel(x, funksjon, derivert):\n",
    "    \"\"\"\n",
    "    Anvender Newtons formel for en funksjon og \n",
    "    den deriverte funksjonen på en verdi x.\n",
    "\n",
    "    Args:\n",
    "        x: verdien vi vil anvende Newtons formel på\n",
    "        funksjon: funksjonen vi vil bruke\n",
    "        derivert: den deriverte funksjon til funksjonen vi vil bruke\n",
    "\n",
    "    Returns:\n",
    "        Resultatet av Newtons formel anvendt på x\n",
    "    \"\"\"\n",
    "    return x - funksjon(x) / derivert(x)\n",
    "\n",
    "def newton_rapson_liste(x_initial, funksjon, derivert, antall_iterasjoner=10):\n",
    "    \"\"\"\n",
    "    Finner en rot til funksjonen funksjon(x) ved hjelp av Newton sin metode\n",
    "\n",
    "    Args:\n",
    "        x_initial: første gjett på en rot til funksjonen kalt funksjon\n",
    "        funksjon: funksjonen vi vil bruke\n",
    "        derivert: den deriverte funksjon til funksjonen vi vil bruke\n",
    "\n",
    "    Returns:\n",
    "       En numpy array med alle gjett på verdien til x som ble gjort i algoritmen \n",
    "    \"\"\"\n",
    "    # Initialiserer en liste for å lagre alle gjett på verdien til x\n",
    "    xer = [x_initial]  \n",
    "    # Gjenta Newton-Raphson formelen et gitt antall ganger\n",
    "    for _ in range(antall_iterasjoner):  \n",
    "        # Beregner neste gjett på verdien til x ved hjelp av Newton-Raphson formelen\n",
    "        # og legger det til i listen\n",
    "        xer.append(newton_formel(xer[-1], funksjon, derivert))  \n",
    "    # Konverterer listen til en numpy array og returnerer den\n",
    "    return np.array(xer)"
   ]
  },
  {
   "cell_type": "code",
   "execution_count": 3,
   "id": "a116b6cd-3d36-4275-b1af-438d0de0dbe7",
   "metadata": {},
   "outputs": [],
   "source": [
    "# python versjon av funksjoene\n",
    "\n",
    "def f(x):\n",
    "    return x**2 - 1\n",
    "\n",
    "def df(x):\n",
    "    return 2*x"
   ]
  },
  {
   "cell_type": "code",
   "execution_count": 4,
   "id": "0c5203f3-7a47-43e4-b7c8-4931dee81111",
   "metadata": {},
   "outputs": [],
   "source": [
    "x = newton_rapson_liste(x_initial=0.5, funksjon=f, derivert=df, antall_iterasjoner=4)\n",
    "y = f(x)"
   ]
  },
  {
   "cell_type": "code",
   "execution_count": 5,
   "id": "21d4d242-c288-457d-a571-da05e33a5f8b",
   "metadata": {},
   "outputs": [
    {
     "data": {
      "text/plain": [
       "[<matplotlib.lines.Line2D at 0x7fffbd083650>]"
      ]
     },
     "execution_count": 5,
     "metadata": {},
     "output_type": "execute_result"
    },
    {
     "data": {
      "image/png": "[encoded data removed]",
      "text/plain": [
       "<Figure size 640x480 with 1 Axes>"
      ]
     },
     "metadata": {},
     "output_type": "display_data"
    }
   ],
   "source": [
    "plt.plot(y)"
   ]
  },
  {
   "cell_type": "markdown",
   "id": "0b36a95c-6d3c-4d50-9e3c-ef7cfc1c671e",
   "metadata": {},
   "source": [
    "## Oppgave 1\n",
    "\n",
    "I hvert spørsmål, bruk Python til å tegne funksjonene. Basert på\n",
    "grafen, velg en passende startverdi og finn et nullpunkt ved Newtons metode. Hvis\n",
    "funksjonen har flere nullpunkt, velg ett av dem.\n",
    "\n",
    "1. $f(x) = e^x - 4x$\n",
    "2. $g(x) = e^x + \\cos(x)$\n",
    "3. $h(x) = x + \\ln(x)$\n"
   ]
  },
  {
   "cell_type": "markdown",
   "id": "83b12f0d-77fd-4790-a091-b3580fc1caba",
   "metadata": {},
   "source": [
    "## Oppgave 2\n",
    "\n",
    "Plot funksjonen\n",
    "$$f(x) = x e^{-x^2}$$\n",
    "Bruk Newtons metode på funksjonen.\n",
    "Unsersøk hva som skjer for varierende startverdier. Prøv spesielt med verdiene $0.5$ og $0.51$."
   ]
  },
  {
   "cell_type": "markdown",
   "id": "122163fc-af7a-4c64-af8c-cb6eda815464",
   "metadata": {},
   "source": [
    "## Oppgave 3\n",
    "\n",
    "Bruk Newtons metode på funksjonen\n",
    "$$f(x) = x^2 + 1$$\n",
    "Kan du forklare resultatet?"
   ]
  },
  {
   "cell_type": "markdown",
   "id": "b4ebce22-bf0b-4aa7-b993-b39c5420fd58",
   "metadata": {},
   "source": [
    "## Oppgave 4\n",
    "\n",
    "Ligningen\n",
    "$$\\cos(x) = \\sqrt{x}$$\n",
    "har akkurat en løsning.\n",
    "\n",
    "1. Forklar hvorfor ligningen har minst en løsning i intervallet $[0, 2]$.\n",
    "2. Skriv et Python-program som bruker Newtons metode til å finne løsningen nær $x=1$. \n",
    "3. Forklar hvordan vi kan være sikre på at ligningen bare har en løsning (bruk uttrykket $f'(x)$ uten å programmere)."
   ]
  },
  {
   "cell_type": "markdown",
   "id": "1f41e433-f351-4b99-bd98-daa7f042c109",
   "metadata": {},
   "source": [
    "## Oppgave 5\n",
    "\n",
    "Bruk numerisk derivasjon til å tegne grafene til de numeriske deriverte av funksjonene fra Oppgave 1 på intervallet $[2, 5]$. Plot også grafene til de deriverte du brukte i Oppgave 1.\n",
    "\n",
    "Er det mulig å bruke de numeriske deriverte i metoden til Newton? Diskuter fordeler og ulemper.\n"
   ]
  },
  {
   "cell_type": "code",
   "execution_count": null,
   "id": "62d1cd3b-b539-4cd9-b8f8-a7a8e14ef332",
   "metadata": {},
   "outputs": [],
   "source": []
  }
 ],
 "metadata": {
  "kernelspec": {
   "display_name": "Python 3 (ipykernel)",
   "language": "python",
   "name": "python3"
  },
  "language_info": {
   "codemirror_mode": {
    "name": "ipython",
    "version": 3
   },
   "file_extension": ".py",
   "mimetype": "text/x-python",
   "name": "python",
   "nbconvert_exporter": "python",
   "pygments_lexer": "ipython3",
   "version": "3.12.8"
  }
 },
 "nbformat": 4,
 "nbformat_minor": 5
}
